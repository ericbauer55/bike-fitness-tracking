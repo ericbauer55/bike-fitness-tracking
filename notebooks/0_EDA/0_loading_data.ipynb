{
 "cells": [
  {
   "cell_type": "code",
   "execution_count": 1,
   "id": "257b2af5",
   "metadata": {},
   "outputs": [],
   "source": [
    "import pandas as pd\n",
    "import gpxpy as gx\n",
    "from pathlib import Path"
   ]
  },
  {
   "cell_type": "code",
   "execution_count": 2,
   "id": "5b87631c",
   "metadata": {},
   "outputs": [],
   "source": [
    "data_path = Path().cwd().parent.parent / 'data/0_extracted'\n",
    "sample_data = {'no_sensors':data_path / 'January.gpx',\n",
    "               'hr_sensor':data_path / 'Spring.gpx',\n",
    "               'hr_cad_sensors':data_path / 'Cadence_Sensor.gpx'}"
   ]
  },
  {
   "cell_type": "code",
   "execution_count": null,
   "id": "96723791",
   "metadata": {},
   "outputs": [],
   "source": [
    "def load_gpx_file(filepath:str) -> pd.DataFrame:\n",
    "    # Setup data capture as lists initially\n",
    "    data = []\n",
    "\n",
    "    # Open up the .gpx file and gather each point of data\n",
    "    with open(filepath,'r') as f:\n",
    "        # parse the .gpx file into a GPX object\n",
    "        gpx = gx.parse(f)\n",
    "        \n",
    "        # iterate through all tracks, segments and points to extract the data\n",
    "        for i, track in enumerate(gpx.tracks):\n",
    "            for j, segment in enumerate(track.segments):\n",
    "                for point in segment.points:\n",
    "                    # create the row of data & append to data\n",
    "                    row = {'ride_id':filepath, 'segment_id':-1, 'time':point.time, \n",
    "                        'elevation':point.elevation, 'latitude':point.latitude, 'longitude':point.longitude}\n",
    "                    # determine the data available in sensor extension tags (if any)\n",
    "                    row_extension = dict()\n",
    "                    for element in point.extensions:\n",
    "                        tag = element.tag.split('}')[-1] # remove the {schema_prefix_url} that prepends the extension name\n",
    "                        row_extension[tag] = element.text\n",
    "                    row |= row_extension\n",
    "                    data.append(row)\n",
    "\n",
    "    # Capture the data structure as a Pandas Dataframe\n",
    "    df = pd.DataFrame(data)\n",
    "    return df"
   ]
  },
  {
   "cell_type": "code",
   "execution_count": 11,
   "id": "569ea892",
   "metadata": {},
   "outputs": [],
   "source": [
    "SELECTION = 'hr_cad_sensors'\n",
    "filepath = sample_data[SELECTION]"
   ]
  },
  {
   "cell_type": "code",
   "execution_count": null,
   "id": "be762fe9",
   "metadata": {},
   "outputs": [],
   "source": [
    "df = load_gpx_file(filepath)"
   ]
  },
  {
   "cell_type": "code",
   "execution_count": 13,
   "id": "af2caf13",
   "metadata": {},
   "outputs": [
    {
     "data": {
      "text/html": [
       "<div>\n",
       "<style scoped>\n",
       "    .dataframe tbody tr th:only-of-type {\n",
       "        vertical-align: middle;\n",
       "    }\n",
       "\n",
       "    .dataframe tbody tr th {\n",
       "        vertical-align: top;\n",
       "    }\n",
       "\n",
       "    .dataframe thead th {\n",
       "        text-align: right;\n",
       "    }\n",
       "</style>\n",
       "<table border=\"1\" class=\"dataframe\">\n",
       "  <thead>\n",
       "    <tr style=\"text-align: right;\">\n",
       "      <th></th>\n",
       "      <th>ride_id</th>\n",
       "      <th>segment_id</th>\n",
       "      <th>time</th>\n",
       "      <th>elevation</th>\n",
       "      <th>latitude</th>\n",
       "      <th>longitude</th>\n",
       "      <th>TrackPointExtension</th>\n",
       "    </tr>\n",
       "  </thead>\n",
       "  <tbody>\n",
       "    <tr>\n",
       "      <th>0</th>\n",
       "      <td>hr_cad_sensors</td>\n",
       "      <td>-1</td>\n",
       "      <td>2025-05-06 21:12:17+00:00</td>\n",
       "      <td>176.2</td>\n",
       "      <td>39.092055</td>\n",
       "      <td>-84.394664</td>\n",
       "      <td>\\n</td>\n",
       "    </tr>\n",
       "    <tr>\n",
       "      <th>1</th>\n",
       "      <td>hr_cad_sensors</td>\n",
       "      <td>-1</td>\n",
       "      <td>2025-05-06 21:12:18+00:00</td>\n",
       "      <td>176.2</td>\n",
       "      <td>39.092055</td>\n",
       "      <td>-84.394664</td>\n",
       "      <td>\\n</td>\n",
       "    </tr>\n",
       "    <tr>\n",
       "      <th>2</th>\n",
       "      <td>hr_cad_sensors</td>\n",
       "      <td>-1</td>\n",
       "      <td>2025-05-06 21:12:27+00:00</td>\n",
       "      <td>175.6</td>\n",
       "      <td>39.092055</td>\n",
       "      <td>-84.394664</td>\n",
       "      <td>\\n</td>\n",
       "    </tr>\n",
       "    <tr>\n",
       "      <th>3</th>\n",
       "      <td>hr_cad_sensors</td>\n",
       "      <td>-1</td>\n",
       "      <td>2025-05-06 21:12:48+00:00</td>\n",
       "      <td>175.4</td>\n",
       "      <td>39.092055</td>\n",
       "      <td>-84.394664</td>\n",
       "      <td>\\n</td>\n",
       "    </tr>\n",
       "    <tr>\n",
       "      <th>4</th>\n",
       "      <td>hr_cad_sensors</td>\n",
       "      <td>-1</td>\n",
       "      <td>2025-05-06 21:12:53+00:00</td>\n",
       "      <td>175.0</td>\n",
       "      <td>39.092055</td>\n",
       "      <td>-84.394664</td>\n",
       "      <td>\\n</td>\n",
       "    </tr>\n",
       "  </tbody>\n",
       "</table>\n",
       "</div>"
      ],
      "text/plain": [
       "          ride_id  segment_id                      time  elevation   latitude  \\\n",
       "0  hr_cad_sensors          -1 2025-05-06 21:12:17+00:00      176.2  39.092055   \n",
       "1  hr_cad_sensors          -1 2025-05-06 21:12:18+00:00      176.2  39.092055   \n",
       "2  hr_cad_sensors          -1 2025-05-06 21:12:27+00:00      175.6  39.092055   \n",
       "3  hr_cad_sensors          -1 2025-05-06 21:12:48+00:00      175.4  39.092055   \n",
       "4  hr_cad_sensors          -1 2025-05-06 21:12:53+00:00      175.0  39.092055   \n",
       "\n",
       "   longitude TrackPointExtension  \n",
       "0 -84.394664            \\n        \n",
       "1 -84.394664            \\n        \n",
       "2 -84.394664            \\n        \n",
       "3 -84.394664            \\n        \n",
       "4 -84.394664            \\n        "
      ]
     },
     "execution_count": 13,
     "metadata": {},
     "output_type": "execute_result"
    }
   ],
   "source": [
    "df.head(5)"
   ]
  },
  {
   "cell_type": "code",
   "execution_count": 14,
   "id": "6463b4bd",
   "metadata": {},
   "outputs": [],
   "source": []
  },
  {
   "cell_type": "code",
   "execution_count": null,
   "id": "ced62879",
   "metadata": {},
   "outputs": [
    {
     "name": "stdout",
     "output_type": "stream",
     "text": [
      "<Element '{http://www.garmin.com/xmlschemas/TrackPointExtension/v1}TrackPointExtension' at 0x7adcfe528810>\n"
     ]
    }
   ],
   "source": []
  },
  {
   "cell_type": "code",
   "execution_count": null,
   "id": "5b761eef",
   "metadata": {},
   "outputs": [],
   "source": []
  }
 ],
 "metadata": {
  "kernelspec": {
   "display_name": "venv",
   "language": "python",
   "name": "python3"
  },
  "language_info": {
   "codemirror_mode": {
    "name": "ipython",
    "version": 3
   },
   "file_extension": ".py",
   "mimetype": "text/x-python",
   "name": "python",
   "nbconvert_exporter": "python",
   "pygments_lexer": "ipython3",
   "version": "3.12.3"
  }
 },
 "nbformat": 4,
 "nbformat_minor": 5
}
