{
 "cells": [
  {
   "cell_type": "code",
   "execution_count": 1,
   "id": "257b2af5",
   "metadata": {},
   "outputs": [],
   "source": [
    "import pandas as pd\n",
    "import gpxpy as gx\n",
    "from pathlib import Path"
   ]
  },
  {
   "cell_type": "code",
   "execution_count": 2,
   "id": "5b87631c",
   "metadata": {},
   "outputs": [],
   "source": [
    "data_path = Path().cwd().parent.parent / 'data/0_extracted'\n",
    "sample_data = {'no_sensors':data_path / 'January.gpx',\n",
    "               'hr_sensor':data_path / 'Spring.gpx',\n",
    "               'hr_cad_sensors':data_path / 'Cadence_Sensor.gpx'}"
   ]
  },
  {
   "cell_type": "code",
   "execution_count": 4,
   "id": "96723791",
   "metadata": {},
   "outputs": [],
   "source": [
    "# Setup data capture as lists initially\n",
    "data = []\n",
    "\n",
    "SELECTION = 'hr_sensor'\n",
    "# Open up the .gpx file and gather each point of data\n",
    "with open(sample_data[SELECTION],'r') as opened_file:\n",
    "    # parse the .gpx file into a GPX object\n",
    "    gpx = gx.parse(opened_file)\n",
    "    \n",
    "#     # iterate through all tracks, segments and points to extract the data\n",
    "#     for i, track in enumerate(gpx.tracks):\n",
    "#         for j, segment in enumerate(track.segments):\n",
    "#             for point in segment.points:\n",
    "#                 # create the row of data & append to data\n",
    "#                 row = {'ride_id':SELECTION, 'segment_id':-1, 'time':point.time, \n",
    "#                     'elevation':point.elevation, 'latitude':point.latitude, 'longitude':point.longitude}\n",
    "#                 data.append(row)\n",
    "\n",
    "# # Capture the data structure as a Pandas Dataframe\n",
    "# df = pd.DataFrame(data)"
   ]
  },
  {
   "cell_type": "code",
   "execution_count": 22,
   "id": "569ea892",
   "metadata": {},
   "outputs": [],
   "source": [
    "point = gpx.tracks[0].segments[0].points[0]"
   ]
  },
  {
   "cell_type": "code",
   "execution_count": 45,
   "id": "b07a752d",
   "metadata": {},
   "outputs": [],
   "source": [
    "#point.gpx_11_fields[-1]\n",
    "point_ext = point.extensions[0]"
   ]
  },
  {
   "cell_type": "code",
   "execution_count": null,
   "id": "f8cc1293",
   "metadata": {},
   "outputs": [],
   "source": []
  },
  {
   "cell_type": "code",
   "execution_count": null,
   "id": "fea5eb64",
   "metadata": {},
   "outputs": [],
   "source": []
  },
  {
   "cell_type": "code",
   "execution_count": null,
   "id": "be762fe9",
   "metadata": {},
   "outputs": [],
   "source": []
  }
 ],
 "metadata": {
  "kernelspec": {
   "display_name": "venv",
   "language": "python",
   "name": "python3"
  },
  "language_info": {
   "codemirror_mode": {
    "name": "ipython",
    "version": 3
   },
   "file_extension": ".py",
   "mimetype": "text/x-python",
   "name": "python",
   "nbconvert_exporter": "python",
   "pygments_lexer": "ipython3",
   "version": "3.12.3"
  }
 },
 "nbformat": 4,
 "nbformat_minor": 5
}
