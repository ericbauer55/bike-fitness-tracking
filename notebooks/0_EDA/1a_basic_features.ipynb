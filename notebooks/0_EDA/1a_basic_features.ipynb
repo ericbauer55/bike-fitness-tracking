{
 "cells": [
  {
   "cell_type": "code",
   "execution_count": null,
   "id": "f90bd5ed",
   "metadata": {},
   "outputs": [],
   "source": [
    "import pandas as pd\n",
    "from pathlib import Path\n",
    "import numpy as np\n",
    "from haversine import haversine\n",
    "CSV_DATA = Path().cwd().parent.parent / \"data/0_extracted/processed/\""
   ]
  },
  {
   "cell_type": "code",
   "execution_count": 2,
   "id": "0f92f844",
   "metadata": {},
   "outputs": [],
   "source": [
    "def read_ride_csv(file_path:str, time_columns:list[str]=None):\n",
    "    if time_columns is None: time_columns=['time']\n",
    "    # Read in the CSV file for the Ride\n",
    "    df = pd.read_csv(file_path)\n",
    "    \n",
    "    # guarantee the timestamps are datetime objects\n",
    "    for time_col in time_columns:\n",
    "        df[time_col] = pd.to_datetime(df[time_col])\n",
    "\n",
    "    return df"
   ]
  },
  {
   "cell_type": "code",
   "execution_count": null,
   "id": "7d877bda",
   "metadata": {},
   "outputs": [],
   "source": [
    "jan_ride_path = CSV_DATA / \"January_no_sensor.csv\"\n",
    "apr_ride_path = CSV_DATA / \"April_one_sensor.csv\"\n",
    "may_ride_path = CSV_DATA / \"May_two_sensor.csv\"\n",
    "df_jan = read_ride_csv(jan_ride_path)\n",
    "df_apr = read_ride_csv(apr_ride_path)\n",
    "df_may = read_ride_csv(may_ride_path)"
   ]
  },
  {
   "cell_type": "code",
   "execution_count": null,
   "id": "667d3ec0",
   "metadata": {},
   "outputs": [],
   "source": [
    "drop_columns = ['ride_id', 'track_id','segment_id']\n",
    "df_jan = df_jan.drop(columns=drop_columns)\n",
    "df_apr = df_apr.drop(columns=drop_columns)\n",
    "df_may = df_may.drop(columns=drop_columns)\n",
    "add_null_columns = ['atemp', 'hr'] # if these columns don't already exist add them as np.null\n",
    "\n",
    "for df in [df_jan, df_apr, df_may]:\n",
    "    for col in add_null_columns:\n",
    "        if col not in df.columns:\n",
    "            df[col] = np.nan"
   ]
  },
  {
   "cell_type": "code",
   "execution_count": 7,
   "id": "9fc5bdca",
   "metadata": {},
   "outputs": [
    {
     "data": {
      "text/html": [
       "<div>\n",
       "<style scoped>\n",
       "    .dataframe tbody tr th:only-of-type {\n",
       "        vertical-align: middle;\n",
       "    }\n",
       "\n",
       "    .dataframe tbody tr th {\n",
       "        vertical-align: top;\n",
       "    }\n",
       "\n",
       "    .dataframe thead th {\n",
       "        text-align: right;\n",
       "    }\n",
       "</style>\n",
       "<table border=\"1\" class=\"dataframe\">\n",
       "  <thead>\n",
       "    <tr style=\"text-align: right;\">\n",
       "      <th></th>\n",
       "      <th>time</th>\n",
       "      <th>elevation</th>\n",
       "      <th>latitude</th>\n",
       "      <th>longitude</th>\n",
       "    </tr>\n",
       "  </thead>\n",
       "  <tbody>\n",
       "    <tr>\n",
       "      <th>0</th>\n",
       "      <td>2025-01-04 21:25:24+00:00</td>\n",
       "      <td>147.5</td>\n",
       "      <td>39.123282</td>\n",
       "      <td>-84.377795</td>\n",
       "    </tr>\n",
       "    <tr>\n",
       "      <th>1</th>\n",
       "      <td>2025-01-04 21:25:25+00:00</td>\n",
       "      <td>147.5</td>\n",
       "      <td>39.123274</td>\n",
       "      <td>-84.377804</td>\n",
       "    </tr>\n",
       "    <tr>\n",
       "      <th>2</th>\n",
       "      <td>2025-01-04 21:25:26+00:00</td>\n",
       "      <td>147.5</td>\n",
       "      <td>39.123267</td>\n",
       "      <td>-84.377812</td>\n",
       "    </tr>\n",
       "    <tr>\n",
       "      <th>3</th>\n",
       "      <td>2025-01-04 21:25:27+00:00</td>\n",
       "      <td>147.5</td>\n",
       "      <td>39.123259</td>\n",
       "      <td>-84.377821</td>\n",
       "    </tr>\n",
       "    <tr>\n",
       "      <th>4</th>\n",
       "      <td>2025-01-04 21:25:28+00:00</td>\n",
       "      <td>147.5</td>\n",
       "      <td>39.123251</td>\n",
       "      <td>-84.377829</td>\n",
       "    </tr>\n",
       "  </tbody>\n",
       "</table>\n",
       "</div>"
      ],
      "text/plain": [
       "                       time  elevation   latitude  longitude\n",
       "0 2025-01-04 21:25:24+00:00      147.5  39.123282 -84.377795\n",
       "1 2025-01-04 21:25:25+00:00      147.5  39.123274 -84.377804\n",
       "2 2025-01-04 21:25:26+00:00      147.5  39.123267 -84.377812\n",
       "3 2025-01-04 21:25:27+00:00      147.5  39.123259 -84.377821\n",
       "4 2025-01-04 21:25:28+00:00      147.5  39.123251 -84.377829"
      ]
     },
     "execution_count": 7,
     "metadata": {},
     "output_type": "execute_result"
    }
   ],
   "source": [
    "df_jan.head(5)"
   ]
  },
  {
   "cell_type": "code",
   "execution_count": 8,
   "id": "da32caea",
   "metadata": {},
   "outputs": [
    {
     "data": {
      "text/html": [
       "<div>\n",
       "<style scoped>\n",
       "    .dataframe tbody tr th:only-of-type {\n",
       "        vertical-align: middle;\n",
       "    }\n",
       "\n",
       "    .dataframe tbody tr th {\n",
       "        vertical-align: top;\n",
       "    }\n",
       "\n",
       "    .dataframe thead th {\n",
       "        text-align: right;\n",
       "    }\n",
       "</style>\n",
       "<table border=\"1\" class=\"dataframe\">\n",
       "  <thead>\n",
       "    <tr style=\"text-align: right;\">\n",
       "      <th></th>\n",
       "      <th>time</th>\n",
       "      <th>elevation</th>\n",
       "      <th>latitude</th>\n",
       "      <th>longitude</th>\n",
       "      <th>atemp</th>\n",
       "      <th>hr</th>\n",
       "    </tr>\n",
       "  </thead>\n",
       "  <tbody>\n",
       "    <tr>\n",
       "      <th>0</th>\n",
       "      <td>2025-04-12 17:21:13+00:00</td>\n",
       "      <td>147.4</td>\n",
       "      <td>39.139397</td>\n",
       "      <td>-84.341631</td>\n",
       "      <td>29</td>\n",
       "      <td>93</td>\n",
       "    </tr>\n",
       "    <tr>\n",
       "      <th>1</th>\n",
       "      <td>2025-04-12 17:21:14+00:00</td>\n",
       "      <td>147.4</td>\n",
       "      <td>39.139397</td>\n",
       "      <td>-84.341631</td>\n",
       "      <td>29</td>\n",
       "      <td>91</td>\n",
       "    </tr>\n",
       "    <tr>\n",
       "      <th>2</th>\n",
       "      <td>2025-04-12 17:21:15+00:00</td>\n",
       "      <td>147.4</td>\n",
       "      <td>39.139397</td>\n",
       "      <td>-84.341631</td>\n",
       "      <td>29</td>\n",
       "      <td>94</td>\n",
       "    </tr>\n",
       "    <tr>\n",
       "      <th>3</th>\n",
       "      <td>2025-04-12 17:21:16+00:00</td>\n",
       "      <td>147.4</td>\n",
       "      <td>39.139397</td>\n",
       "      <td>-84.341631</td>\n",
       "      <td>29</td>\n",
       "      <td>90</td>\n",
       "    </tr>\n",
       "    <tr>\n",
       "      <th>4</th>\n",
       "      <td>2025-04-12 17:21:20+00:00</td>\n",
       "      <td>147.4</td>\n",
       "      <td>39.139397</td>\n",
       "      <td>-84.341631</td>\n",
       "      <td>29</td>\n",
       "      <td>87</td>\n",
       "    </tr>\n",
       "  </tbody>\n",
       "</table>\n",
       "</div>"
      ],
      "text/plain": [
       "                       time  elevation   latitude  longitude  atemp  hr\n",
       "0 2025-04-12 17:21:13+00:00      147.4  39.139397 -84.341631     29  93\n",
       "1 2025-04-12 17:21:14+00:00      147.4  39.139397 -84.341631     29  91\n",
       "2 2025-04-12 17:21:15+00:00      147.4  39.139397 -84.341631     29  94\n",
       "3 2025-04-12 17:21:16+00:00      147.4  39.139397 -84.341631     29  90\n",
       "4 2025-04-12 17:21:20+00:00      147.4  39.139397 -84.341631     29  87"
      ]
     },
     "execution_count": 8,
     "metadata": {},
     "output_type": "execute_result"
    }
   ],
   "source": [
    "df_apr.head(5)"
   ]
  },
  {
   "cell_type": "code",
   "execution_count": null,
   "id": "bbad29d6",
   "metadata": {},
   "outputs": [],
   "source": []
  },
  {
   "cell_type": "code",
   "execution_count": null,
   "id": "8def3f03",
   "metadata": {},
   "outputs": [],
   "source": []
  },
  {
   "cell_type": "code",
   "execution_count": null,
   "id": "741f8f8e",
   "metadata": {},
   "outputs": [],
   "source": []
  },
  {
   "cell_type": "code",
   "execution_count": null,
   "id": "52c9228c",
   "metadata": {},
   "outputs": [],
   "source": []
  },
  {
   "cell_type": "code",
   "execution_count": null,
   "id": "7771aea0",
   "metadata": {},
   "outputs": [],
   "source": []
  }
 ],
 "metadata": {
  "kernelspec": {
   "display_name": "venv",
   "language": "python",
   "name": "python3"
  },
  "language_info": {
   "codemirror_mode": {
    "name": "ipython",
    "version": 3
   },
   "file_extension": ".py",
   "mimetype": "text/x-python",
   "name": "python",
   "nbconvert_exporter": "python",
   "pygments_lexer": "ipython3",
   "version": "3.12.3"
  }
 },
 "nbformat": 4,
 "nbformat_minor": 5
}
