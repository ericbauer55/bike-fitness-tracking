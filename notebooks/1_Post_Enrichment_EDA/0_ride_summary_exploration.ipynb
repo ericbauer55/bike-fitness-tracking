{
 "cells": [
  {
   "cell_type": "code",
   "execution_count": 1,
   "id": "5e86b4a6",
   "metadata": {},
   "outputs": [],
   "source": [
    "import pandas as pd\n",
    "pd.set_option(\"display.max_columns\", 100)\n",
    "from pathlib import Path\n",
    "import numpy as np\n",
    "import matplotlib.pyplot as plt\n",
    "import seaborn as sns\n",
    "\n",
    "CSV_DATA = Path().cwd().parent.parent / \"data/1_transformed\""
   ]
  },
  {
   "cell_type": "code",
   "execution_count": 2,
   "id": "bb045c1a",
   "metadata": {},
   "outputs": [],
   "source": [
    "df = pd.read_csv(CSV_DATA/'summary/ride_summary.csv')\n",
    "df['start_date'] = pd.to_datetime(df['start_date'])\n",
    "df['start_time'] = pd.to_timedelta(df['start_time'])\n",
    "df['end_time'] = pd.to_timedelta(df['end_time'])"
   ]
  },
  {
   "cell_type": "code",
   "execution_count": 3,
   "id": "510a2006",
   "metadata": {},
   "outputs": [
    {
     "data": {
      "text/html": [
       "<div>\n",
       "<style scoped>\n",
       "    .dataframe tbody tr th:only-of-type {\n",
       "        vertical-align: middle;\n",
       "    }\n",
       "\n",
       "    .dataframe tbody tr th {\n",
       "        vertical-align: top;\n",
       "    }\n",
       "\n",
       "    .dataframe thead th {\n",
       "        text-align: right;\n",
       "    }\n",
       "</style>\n",
       "<table border=\"1\" class=\"dataframe\">\n",
       "  <thead>\n",
       "    <tr style=\"text-align: right;\">\n",
       "      <th></th>\n",
       "      <th>ride_id</th>\n",
       "      <th>start_date</th>\n",
       "      <th>start_time</th>\n",
       "      <th>end_time</th>\n",
       "      <th>biker_weight_lbs</th>\n",
       "      <th>bike_weight</th>\n",
       "      <th>bag_weight</th>\n",
       "      <th>avg_speed</th>\n",
       "      <th>avg_cruising_speed</th>\n",
       "      <th>total_ride_time_sec</th>\n",
       "      <th>total_moving_time_sec</th>\n",
       "      <th>total_distance_mi</th>\n",
       "      <th>total_ascent_ft</th>\n",
       "      <th>total_descent_ft</th>\n",
       "      <th>avg_heart_rate</th>\n",
       "      <th>avg_power</th>\n",
       "      <th>avg_cadence</th>\n",
       "      <th>avg_ambient_temp_F</th>\n",
       "    </tr>\n",
       "  </thead>\n",
       "  <tbody>\n",
       "    <tr>\n",
       "      <th>0</th>\n",
       "      <td>0x5b086853</td>\n",
       "      <td>2018-05-25</td>\n",
       "      <td>0 days 19:47:31</td>\n",
       "      <td>0 days 20:27:31</td>\n",
       "      <td>220</td>\n",
       "      <td>25</td>\n",
       "      <td>5</td>\n",
       "      <td>13.720594</td>\n",
       "      <td>14.267175</td>\n",
       "      <td>2401.0</td>\n",
       "      <td>1736.0</td>\n",
       "      <td>6.991217</td>\n",
       "      <td>220.1551</td>\n",
       "      <td>237.8725</td>\n",
       "      <td>NaN</td>\n",
       "      <td>118.773678</td>\n",
       "      <td>NaN</td>\n",
       "      <td>NaN</td>\n",
       "    </tr>\n",
       "    <tr>\n",
       "      <th>1</th>\n",
       "      <td>0x5b3c1e5a</td>\n",
       "      <td>2018-07-04</td>\n",
       "      <td>0 days 01:09:46</td>\n",
       "      <td>0 days 01:42:05</td>\n",
       "      <td>220</td>\n",
       "      <td>25</td>\n",
       "      <td>5</td>\n",
       "      <td>13.615799</td>\n",
       "      <td>14.215438</td>\n",
       "      <td>1940.0</td>\n",
       "      <td>1737.0</td>\n",
       "      <td>6.994353</td>\n",
       "      <td>152.5665</td>\n",
       "      <td>180.1269</td>\n",
       "      <td>NaN</td>\n",
       "      <td>107.400150</td>\n",
       "      <td>NaN</td>\n",
       "      <td>NaN</td>\n",
       "    </tr>\n",
       "    <tr>\n",
       "      <th>2</th>\n",
       "      <td>0x5ccb413c</td>\n",
       "      <td>2019-05-02</td>\n",
       "      <td>0 days 19:13:00</td>\n",
       "      <td>0 days 19:53:00</td>\n",
       "      <td>220</td>\n",
       "      <td>25</td>\n",
       "      <td>5</td>\n",
       "      <td>13.784195</td>\n",
       "      <td>14.574504</td>\n",
       "      <td>2401.0</td>\n",
       "      <td>2143.0</td>\n",
       "      <td>8.865922</td>\n",
       "      <td>300.5396</td>\n",
       "      <td>300.5396</td>\n",
       "      <td>NaN</td>\n",
       "      <td>124.479375</td>\n",
       "      <td>NaN</td>\n",
       "      <td>NaN</td>\n",
       "    </tr>\n",
       "    <tr>\n",
       "      <th>3</th>\n",
       "      <td>0x5cccc63c</td>\n",
       "      <td>2019-05-03</td>\n",
       "      <td>0 days 22:52:44</td>\n",
       "      <td>0 days 23:53:54</td>\n",
       "      <td>220</td>\n",
       "      <td>25</td>\n",
       "      <td>5</td>\n",
       "      <td>11.228317</td>\n",
       "      <td>12.081964</td>\n",
       "      <td>3671.0</td>\n",
       "      <td>2725.0</td>\n",
       "      <td>9.516836</td>\n",
       "      <td>333.3496</td>\n",
       "      <td>280.1974</td>\n",
       "      <td>NaN</td>\n",
       "      <td>86.208290</td>\n",
       "      <td>NaN</td>\n",
       "      <td>NaN</td>\n",
       "    </tr>\n",
       "    <tr>\n",
       "      <th>4</th>\n",
       "      <td>0x5cdbff9c</td>\n",
       "      <td>2019-05-15</td>\n",
       "      <td>0 days 12:01:32</td>\n",
       "      <td>0 days 12:37:36</td>\n",
       "      <td>220</td>\n",
       "      <td>25</td>\n",
       "      <td>5</td>\n",
       "      <td>14.256866</td>\n",
       "      <td>14.701154</td>\n",
       "      <td>2165.0</td>\n",
       "      <td>1942.0</td>\n",
       "      <td>8.029630</td>\n",
       "      <td>255.2618</td>\n",
       "      <td>211.2964</td>\n",
       "      <td>NaN</td>\n",
       "      <td>132.845473</td>\n",
       "      <td>NaN</td>\n",
       "      <td>NaN</td>\n",
       "    </tr>\n",
       "  </tbody>\n",
       "</table>\n",
       "</div>"
      ],
      "text/plain": [
       "      ride_id start_date      start_time        end_time  biker_weight_lbs  \\\n",
       "0  0x5b086853 2018-05-25 0 days 19:47:31 0 days 20:27:31               220   \n",
       "1  0x5b3c1e5a 2018-07-04 0 days 01:09:46 0 days 01:42:05               220   \n",
       "2  0x5ccb413c 2019-05-02 0 days 19:13:00 0 days 19:53:00               220   \n",
       "3  0x5cccc63c 2019-05-03 0 days 22:52:44 0 days 23:53:54               220   \n",
       "4  0x5cdbff9c 2019-05-15 0 days 12:01:32 0 days 12:37:36               220   \n",
       "\n",
       "   bike_weight  bag_weight  avg_speed  avg_cruising_speed  \\\n",
       "0           25           5  13.720594           14.267175   \n",
       "1           25           5  13.615799           14.215438   \n",
       "2           25           5  13.784195           14.574504   \n",
       "3           25           5  11.228317           12.081964   \n",
       "4           25           5  14.256866           14.701154   \n",
       "\n",
       "   total_ride_time_sec  total_moving_time_sec  total_distance_mi  \\\n",
       "0               2401.0                 1736.0           6.991217   \n",
       "1               1940.0                 1737.0           6.994353   \n",
       "2               2401.0                 2143.0           8.865922   \n",
       "3               3671.0                 2725.0           9.516836   \n",
       "4               2165.0                 1942.0           8.029630   \n",
       "\n",
       "   total_ascent_ft  total_descent_ft  avg_heart_rate   avg_power  avg_cadence  \\\n",
       "0         220.1551          237.8725             NaN  118.773678          NaN   \n",
       "1         152.5665          180.1269             NaN  107.400150          NaN   \n",
       "2         300.5396          300.5396             NaN  124.479375          NaN   \n",
       "3         333.3496          280.1974             NaN   86.208290          NaN   \n",
       "4         255.2618          211.2964             NaN  132.845473          NaN   \n",
       "\n",
       "   avg_ambient_temp_F  \n",
       "0                 NaN  \n",
       "1                 NaN  \n",
       "2                 NaN  \n",
       "3                 NaN  \n",
       "4                 NaN  "
      ]
     },
     "execution_count": 3,
     "metadata": {},
     "output_type": "execute_result"
    }
   ],
   "source": [
    "df.head()"
   ]
  },
  {
   "cell_type": "code",
   "execution_count": 4,
   "id": "03ecc2eb",
   "metadata": {},
   "outputs": [
    {
     "data": {
      "image/png": "[encoded data removed]",
      "text/plain": [
       "<Figure size 1200x300 with 2 Axes>"
      ]
     },
     "metadata": {},
     "output_type": "display_data"
    }
   ],
   "source": [
    "# Check for nulls in sensor columns\n",
    "_ = plt.figure(figsize=(12,3))\n",
    "_ = sns.heatmap(df.isna())"
   ]
  },
  {
   "cell_type": "code",
   "execution_count": 5,
   "id": "4ebbbfe5",
   "metadata": {},
   "outputs": [
    {
     "name": "stdout",
     "output_type": "stream",
     "text": [
      "Of the total 390 rides, only 85 of them have watch sensor data (21.79%)\n"
     ]
    }
   ],
   "source": [
    "total_rides = df.shape[0]\n",
    "rides_with_watch = total_rides - df['avg_heart_rate'].isna().sum()\n",
    "percent_with_watch = 100.0* (rides_with_watch / total_rides)\n",
    "print(f'Of the total {total_rides} rides, only {rides_with_watch} of them have watch sensor data ({round(percent_with_watch,2)}%)')"
   ]
  },
  {
   "cell_type": "code",
   "execution_count": 6,
   "id": "b1b0fe58",
   "metadata": {},
   "outputs": [],
   "source": [
    "df['ride_year'] = df['start_date'].dt.year\n",
    "df['ride_month'] = df['start_date'].dt.month\n",
    "df['ride_dow'] = df['start_date'].dt.day_name()"
   ]
  },
  {
   "cell_type": "code",
   "execution_count": 7,
   "id": "0f5e277e",
   "metadata": {},
   "outputs": [
    {
     "data": {
      "image/png": "[encoded data removed]",
      "text/plain": [
       "<Figure size 1200x300 with 2 Axes>"
      ]
     },
     "metadata": {},
     "output_type": "display_data"
    }
   ],
   "source": [
    "df_yearly_rides = df[['ride_year','total_distance_mi']].groupby('ride_year').count().rename(columns={'total_distance_mi':'ride_count'}).reset_index()\n",
    "df_yearly_miles = df[['ride_year','total_distance_mi']].groupby('ride_year').sum().rename(columns={'total_distance_mi':'yearly_ride_mileage'}).reset_index()\n",
    "\n",
    "fig, axes = plt.subplots(1,2, figsize=(12,3))\n",
    "_ = sns.barplot(df_yearly_rides, x='ride_year', y='ride_count', ax=axes[0])\n",
    "_ = sns.barplot(df_yearly_miles, x='ride_year', y='yearly_ride_mileage', ax=axes[1])\n",
    "_ = axes[0].set_xlabel('Year', fontsize=14)\n",
    "_ = axes[0].set_ylabel('Number of Rides', fontsize=14)\n",
    "_ = axes[0].set_title('Recorded Ride $Count$ by Year', fontsize=18)\n",
    "_ = axes[0].grid()\n",
    "_ = axes[0].set_axisbelow(True)\n",
    "_ = axes[1].set_xlabel('Year', fontsize=14)\n",
    "_ = axes[1].set_ylabel('Annual Mileage', fontsize=14)\n",
    "_ = axes[1].set_title('Recorded Ride $Mileage$ by Year', fontsize=18)\n",
    "_ = axes[1].grid()\n",
    "_ = axes[1].set_axisbelow(True)"
   ]
  },
  {
   "cell_type": "code",
   "execution_count": 8,
   "id": "c5bea8ed",
   "metadata": {},
   "outputs": [
    {
     "data": {
      "text/plain": [
       "4762.263833227133"
      ]
     },
     "execution_count": 8,
     "metadata": {},
     "output_type": "execute_result"
    }
   ],
   "source": [
    "df.total_distance_mi.sum()"
   ]
  },
  {
   "cell_type": "markdown",
   "id": "4a9f7882",
   "metadata": {},
   "source": [
    "## Ride Heatmap by Year"
   ]
  },
  {
   "cell_type": "code",
   "execution_count": 9,
   "id": "23104bf2",
   "metadata": {},
   "outputs": [],
   "source": [
    "def get_year_activity_data_by_weekday(df:pd.DataFrame, filt_year:int, agg_column:str='total_distance_mi', agg_method:str='sum') -> pd.DataFrame:\n",
    "    # Create an Aggregation of the selected column across the dates available from rides. Multiple rides can occur on a single day\n",
    "    df_filt_year = df.copy().loc[df['ride_year']==filt_year,:]\n",
    "    df_grouped = df_filt_year.groupby(['start_date','ride_dow'])[agg_column].agg(agg_method).reset_index()\n",
    "\n",
    "    # Create a list of ALL dates in which rides could be done for the year\n",
    "    all_year_dates = pd.DataFrame(pd.date_range(str(filt_year) + \"-01-01\", str(filt_year) + \"-12-31\", freq=\"D\"), columns=['ride_date'])\n",
    "    all_year_dates['day_of_week'] = all_year_dates['ride_date'].dt.day_name()\n",
    "    df_total_dates = all_year_dates.merge(df_grouped, how='left', left_on='ride_date', right_on='start_date').fillna(0.0)\n",
    "    #df_total_dates['ride_date'] = df_total_dates['ride_date'].dt.date\n",
    "\n",
    "    return df_total_dates\n",
    "\n",
    "    # Create a Pivot table for rides by date and dow\n",
    "    days_order = ['Monday', 'Tuesday', 'Wednesday', 'Thursday', 'Friday', 'Saturday', 'Sunday']\n",
    "    pivot_df = df_total_dates.pivot_table(index='ride_date', columns='day_of_week', values=agg_column, fill_value=0.0).reindex(columns=days_order)\n",
    "    pivot_df= pivot_df.rename(columns={full:short for full,short in zip(days_order, ['M','T','W','Th','F','Sa','Su'])})\n",
    "\n",
    "    pivot_df = pivot_df.reset_index()\n",
    "    return pivot_df\n"
   ]
  },
  {
   "cell_type": "code",
   "execution_count": 10,
   "id": "cd595c23",
   "metadata": {},
   "outputs": [],
   "source": [
    "df_activity_2020 = get_year_activity_data_by_weekday(df, filt_year=2020)\n",
    "df_activity_2021 = get_year_activity_data_by_weekday(df, filt_year=2021)\n",
    "df_activity_2022 = get_year_activity_data_by_weekday(df, filt_year=2022)\n",
    "df_activity_2023 = get_year_activity_data_by_weekday(df, filt_year=2023)\n",
    "df_activity_2024 = get_year_activity_data_by_weekday(df, filt_year=2024)"
   ]
  },
  {
   "cell_type": "code",
   "execution_count": 11,
   "id": "4703411d",
   "metadata": {},
   "outputs": [
    {
     "data": {
      "text/html": [
       "<div>\n",
       "<style scoped>\n",
       "    .dataframe tbody tr th:only-of-type {\n",
       "        vertical-align: middle;\n",
       "    }\n",
       "\n",
       "    .dataframe tbody tr th {\n",
       "        vertical-align: top;\n",
       "    }\n",
       "\n",
       "    .dataframe thead th {\n",
       "        text-align: right;\n",
       "    }\n",
       "</style>\n",
       "<table border=\"1\" class=\"dataframe\">\n",
       "  <thead>\n",
       "    <tr style=\"text-align: right;\">\n",
       "      <th></th>\n",
       "      <th>ride_date</th>\n",
       "      <th>day_of_week</th>\n",
       "      <th>start_date</th>\n",
       "      <th>ride_dow</th>\n",
       "      <th>total_distance_mi</th>\n",
       "    </tr>\n",
       "  </thead>\n",
       "  <tbody>\n",
       "    <tr>\n",
       "      <th>0</th>\n",
       "      <td>2020-01-01</td>\n",
       "      <td>Wednesday</td>\n",
       "      <td>0.0</td>\n",
       "      <td>0.0</td>\n",
       "      <td>0.000000</td>\n",
       "    </tr>\n",
       "    <tr>\n",
       "      <th>1</th>\n",
       "      <td>2020-01-02</td>\n",
       "      <td>Thursday</td>\n",
       "      <td>2020-01-02 00:00:00</td>\n",
       "      <td>Thursday</td>\n",
       "      <td>5.276248</td>\n",
       "    </tr>\n",
       "    <tr>\n",
       "      <th>2</th>\n",
       "      <td>2020-01-03</td>\n",
       "      <td>Friday</td>\n",
       "      <td>0.0</td>\n",
       "      <td>0.0</td>\n",
       "      <td>0.000000</td>\n",
       "    </tr>\n",
       "    <tr>\n",
       "      <th>3</th>\n",
       "      <td>2020-01-04</td>\n",
       "      <td>Saturday</td>\n",
       "      <td>0.0</td>\n",
       "      <td>0.0</td>\n",
       "      <td>0.000000</td>\n",
       "    </tr>\n",
       "    <tr>\n",
       "      <th>4</th>\n",
       "      <td>2020-01-05</td>\n",
       "      <td>Sunday</td>\n",
       "      <td>0.0</td>\n",
       "      <td>0.0</td>\n",
       "      <td>0.000000</td>\n",
       "    </tr>\n",
       "    <tr>\n",
       "      <th>...</th>\n",
       "      <td>...</td>\n",
       "      <td>...</td>\n",
       "      <td>...</td>\n",
       "      <td>...</td>\n",
       "      <td>...</td>\n",
       "    </tr>\n",
       "    <tr>\n",
       "      <th>361</th>\n",
       "      <td>2020-12-27</td>\n",
       "      <td>Sunday</td>\n",
       "      <td>0.0</td>\n",
       "      <td>0.0</td>\n",
       "      <td>0.000000</td>\n",
       "    </tr>\n",
       "    <tr>\n",
       "      <th>362</th>\n",
       "      <td>2020-12-28</td>\n",
       "      <td>Monday</td>\n",
       "      <td>0.0</td>\n",
       "      <td>0.0</td>\n",
       "      <td>0.000000</td>\n",
       "    </tr>\n",
       "    <tr>\n",
       "      <th>363</th>\n",
       "      <td>2020-12-29</td>\n",
       "      <td>Tuesday</td>\n",
       "      <td>2020-12-29 00:00:00</td>\n",
       "      <td>Tuesday</td>\n",
       "      <td>11.314947</td>\n",
       "    </tr>\n",
       "    <tr>\n",
       "      <th>364</th>\n",
       "      <td>2020-12-30</td>\n",
       "      <td>Wednesday</td>\n",
       "      <td>2020-12-30 00:00:00</td>\n",
       "      <td>Wednesday</td>\n",
       "      <td>9.745118</td>\n",
       "    </tr>\n",
       "    <tr>\n",
       "      <th>365</th>\n",
       "      <td>2020-12-31</td>\n",
       "      <td>Thursday</td>\n",
       "      <td>0.0</td>\n",
       "      <td>0.0</td>\n",
       "      <td>0.000000</td>\n",
       "    </tr>\n",
       "  </tbody>\n",
       "</table>\n",
       "<p>366 rows × 5 columns</p>\n",
       "</div>"
      ],
      "text/plain": [
       "     ride_date day_of_week           start_date   ride_dow  total_distance_mi\n",
       "0   2020-01-01   Wednesday                  0.0        0.0           0.000000\n",
       "1   2020-01-02    Thursday  2020-01-02 00:00:00   Thursday           5.276248\n",
       "2   2020-01-03      Friday                  0.0        0.0           0.000000\n",
       "3   2020-01-04    Saturday                  0.0        0.0           0.000000\n",
       "4   2020-01-05      Sunday                  0.0        0.0           0.000000\n",
       "..         ...         ...                  ...        ...                ...\n",
       "361 2020-12-27      Sunday                  0.0        0.0           0.000000\n",
       "362 2020-12-28      Monday                  0.0        0.0           0.000000\n",
       "363 2020-12-29     Tuesday  2020-12-29 00:00:00    Tuesday          11.314947\n",
       "364 2020-12-30   Wednesday  2020-12-30 00:00:00  Wednesday           9.745118\n",
       "365 2020-12-31    Thursday                  0.0        0.0           0.000000\n",
       "\n",
       "[366 rows x 5 columns]"
      ]
     },
     "execution_count": 11,
     "metadata": {},
     "output_type": "execute_result"
    }
   ],
   "source": [
    "df_activity_2020"
   ]
  },
  {
   "cell_type": "code",
   "execution_count": 12,
   "id": "e21beabb",
   "metadata": {},
   "outputs": [],
   "source": [
    "# cmap = plt.get_cmap('YlGn',10)\n",
    "# cmap.set_under('grey')#Colour values less than vmin in grey\n",
    "# cmap.set_over('green')# colour valued larger than vmax in green \n",
    "\n",
    "# _ = plt.figure(figsize=(10, 1.5))\n",
    "# _ = sns.heatmap(df_activity_2024.set_index('ride_date').T, cmap=cmap, linewidths=0.0, linecolor='black', square=False, annot=False, cbar=False, vmin=0.005, vmax=50.0)\n",
    "# _ = plt.title('Bike Ride Activity')\n",
    "# _ = plt.xlabel('')\n",
    "# _ = plt.ylabel('')"
   ]
  },
  {
   "cell_type": "code",
   "execution_count": 13,
   "id": "84f83f27",
   "metadata": {},
   "outputs": [],
   "source": [
    "# pip install plotly-caplot \n",
    "# note: this could cause some package conflicts with numpy (previously 2.2.5) and pytz (previously  2025.2). \n",
    "# I made need to uninstall calplot to continue working as normal since calplot relies on older versions than described above\n",
    "# ref: https://www.youtube.com/watch?v=U4gjFYvQafo\n",
    "from plotly_calplot import calplot\n",
    "# Also I need to install nbformat>=4.2.0"
   ]
  },
  {
   "cell_type": "code",
   "execution_count": 32,
   "id": "916f8c49",
   "metadata": {},
   "outputs": [
    {
     "data": {
      "text/plain": [
       "['#f9fdc5',\n",
       " '#eaf7af',\n",
       " '#d2eda0',\n",
       " '#b1df90',\n",
       " '#8bce81',\n",
       " '#64bc6f',\n",
       " '#3fa85b',\n",
       " '#288a47',\n",
       " '#10743c',\n",
       " '#005e33']"
      ]
     },
     "execution_count": 32,
     "metadata": {},
     "output_type": "execute_result"
    }
   ],
   "source": [
    "cmap = plt.get_cmap('YlGn',10)\n",
    "list(sns.color_palette('YlGn',n_colors=10).as_hex())"
   ]
  },
  {
   "cell_type": "code",
   "execution_count": 48,
   "id": "341d91cd",
   "metadata": {},
   "outputs": [
    {
     "data": {
      "application/vnd.plotly.v1+json": {
       "config": {
        "plotlyServerURL": "https://plot.ly"
       },
       "data": [
        {
         "colorscale": [
          [
           0,
           "#888888"
          ],
          [
           0.1111111111111111,
           "#eaf7af"
          ],
          [
           0.2222222222222222,
           "#d2eda0"
          ],
          [
           0.3333333333333333,
           "#b1df90"
          ],
          [
           0.4444444444444444,
           "#8bce81"
          ],
          [
           0.5555555555555556,
           "#64bc6f"
          ],
          [
           0.6666666666666666,
           "#3fa85b"
          ],
          [
           0.7777777777777777,
           "#288a47"
          ],
          [
           0.8888888888888888,
           "#10743c"
          ],
          [
           1,
           "#005e33"
          ]
         ],
         "customdata": [
          [
           "2024-01-01",
           "y"
          ],
          [
           "2024-01-02",
           "y"
          ],
          [
           "2024-01-03",
           "y"
          ],
          [
           "2024-01-04",
           "y"
          ],
          [
           "2024-01-05",
           "y"
          ],
          [
           "2024-01-06",
           "y"
          ],
          [
           "2024-01-07",
           "y"
          ],
          [
           "2024-01-08",
           "y"
          ],
          [
           "2024-01-09",
           "y"
          ],
          [
           "2024-01-10",
           "y"
          ],
          [
           "2024-01-11",
           "y"
          ],
          [
           "2024-01-12",
           "y"
          ],
          [
           "2024-01-13",
           "y"
          ],
          [
           "2024-01-14",
           "y"
          ],
          [
           "2024-01-15",
           "y"
          ],
          [
           "2024-01-16",
           "y"
          ],
          [
           "2024-01-17",
           "y"
          ],
          [
           "2024-01-18",
           "y"
          ],
          [
           "2024-01-19",
           "y"
          ],
          [
           "2024-01-20",
           "y"
          ],
          [
           "2024-01-21",
           "y"
          ],
          [
           "2024-01-22",
           "y"
          ],
          [
           "2024-01-23",
           "y"
          ],
          [
           "2024-01-24",
           "y"
          ],
          [
           "2024-01-25",
           "y"
          ],
          [
           "2024-01-26",
           "y"
          ],
          [
           "2024-01-27",
           "y"
          ],
          [
           "2024-01-28",
           "y"
          ],
          [
           "2024-01-29",
           "y"
          ],
          [
           "2024-01-30",
           "y"
          ],
          [
           "2024-01-31",
           "y"
          ],
          [
           "2024-02-01",
           "y"
          ],
          [
           "2024-02-02",
           "y"
          ],
          [
           "2024-02-03",
           "y"
          ],
          [
           "2024-02-04",
           "y"
          ],
          [
           "2024-02-05",
           "y"
          ],
          [
           "2024-02-06",
           "y"
          ],
          [
           "2024-02-07",
           "y"
          ],
          [
           "2024-02-08",
           "y"
          ],
          [
           "2024-02-09",
           "y"
          ],
          [
           "2024-02-10",
           "y"
          ],
          [
           "2024-02-11",
           "y"
          ],
          [
           "2024-02-12",
           "y"
          ],
          [
           "2024-02-13",
           "y"
          ],
          [
           "2024-02-14",
           "y"
          ],
          [
           "2024-02-15",
           "y"
          ],
          [
           "2024-02-16",
           "y"
          ],
          [
           "2024-02-17",
           "y"
          ],
          [
           "2024-02-18",
           "y"
          ],
          [
           "2024-02-19",
           "y"
          ],
          [
           "2024-02-20",
           "y"
          ],
          [
           "2024-02-21",
           "y"
          ],
          [
           "2024-02-22",
           "y"
          ],
          [
           "2024-02-23",
           "y"
          ],
          [
           "2024-02-24",
           "y"
          ],
          [
           "2024-02-25",
           "y"
          ],
          [
           "2024-02-26",
           "y"
          ],
          [
           "2024-02-27",
           "y"
          ],
          [
           "2024-02-28",
           "y"
          ],
          [
           "2024-02-29",
           "y"
          ],
          [
           "2024-03-01",
           "y"
          ],
          [
           "2024-03-02",
           "y"
          ],
          [
           "2024-03-03",
           "y"
          ],
          [
           "2024-03-04",
           "y"
          ],
          [
           "2024-03-05",
           "y"
          ],
          [
           "2024-03-06",
           "y"
          ],
          [
           "2024-03-07",
           "y"
          ],
          [
           "2024-03-08",
           "y"
          ],
          [
           "2024-03-09",
           "y"
          ],
          [
           "2024-03-10",
           "y"
          ],
          [
           "2024-03-11",
           "y"
          ],
          [
           "2024-03-12",
           "y"
          ],
          [
           "2024-03-13",
           "y"
          ],
          [
           "2024-03-14",
           "y"
          ],
          [
           "2024-03-15",
           "y"
          ],
          [
           "2024-03-16",
           "y"
          ],
          [
           "2024-03-17",
           "y"
          ],
          [
           "2024-03-18",
           "y"
          ],
          [
           "2024-03-19",
           "y"
          ],
          [
           "2024-03-20",
           "y"
          ],
          [
           "2024-03-21",
           "y"
          ],
          [
           "2024-03-22",
           "y"
          ],
          [
           "2024-03-23",
           "y"
          ],
          [
           "2024-03-24",
           "y"
          ],
          [
           "2024-03-25",
           "y"
          ],
          [
           "2024-03-26",
           "y"
          ],
          [
           "2024-03-27",
           "y"
          ],
          [
           "2024-03-28",
           "y"
          ],
          [
           "2024-03-29",
           "y"
          ],
          [
           "2024-03-30",
           "y"
          ],
          [
           "2024-03-31",
           "y"
          ],
          [
           "2024-04-01",
           "y"
          ],
          [
           "2024-04-02",
           "y"
          ],
          [
           "2024-04-03",
           "y"
          ],
          [
           "2024-04-04",
           "y"
          ],
          [
           "2024-04-05",
           "y"
          ],
          [
           "2024-04-06",
           "y"
          ],
          [
           "2024-04-07",
           "y"
          ],
          [
           "2024-04-08",
           "y"
          ],
          [
           "2024-04-09",
           "y"
          ],
          [
           "2024-04-10",
           "y"
          ],
          [
           "2024-04-11",
           "y"
          ],
          [
           "2024-04-12",
           "y"
          ],
          [
           "2024-04-13",
           "y"
          ],
          [
           "2024-04-14",
           "y"
          ],
          [
           "2024-04-15",
           "y"
          ],
          [
           "2024-04-16",
           "y"
          ],
          [
           "2024-04-17",
           "y"
          ],
          [
           "2024-04-18",
           "y"
          ],
          [
           "2024-04-19",
           "y"
          ],
          [
           "2024-04-20",
           "y"
          ],
          [
           "2024-04-21",
           "y"
          ],
          [
           "2024-04-22",
           "y"
          ],
          [
           "2024-04-23",
           "y"
          ],
          [
           "2024-04-24",
           "y"
          ],
          [
           "2024-04-25",
           "y"
          ],
          [
           "2024-04-26",
           "y"
          ],
          [
           "2024-04-27",
           "y"
          ],
          [
           "2024-04-28",
           "y"
          ],
          [
           "2024-04-29",
           "y"
          ],
          [
           "2024-04-30",
           "y"
          ],
          [
           "2024-05-01",
           "y"
          ],
          [
           "2024-05-02",
           "y"
          ],
          [
           "2024-05-03",
           "y"
          ],
          [
           "2024-05-04",
           "y"
          ],
          [
           "2024-05-05",
           "y"
          ],
          [
           "2024-05-06",
           "y"
          ],
          [
           "2024-05-07",
           "y"
          ],
          [
           "2024-05-08",
           "y"
          ],
          [
           "2024-05-09",
           "y"
          ],
          [
           "2024-05-10",
           "y"
          ],
          [
           "2024-05-11",
           "y"
          ],
          [
           "2024-05-12",
           "y"
          ],
          [
           "2024-05-13",
           "y"
          ],
          [
           "2024-05-14",
           "y"
          ],
          [
           "2024-05-15",
           "y"
          ],
          [
           "2024-05-16",
           "y"
          ],
          [
           "2024-05-17",
           "y"
          ],
          [
           "2024-05-18",
           "y"
          ],
          [
           "2024-05-19",
           "y"
          ],
          [
           "2024-05-20",
           "y"
          ],
          [
           "2024-05-21",
           "y"
          ],
          [
           "2024-05-22",
           "y"
          ],
          [
           "2024-05-23",
           "y"
          ],
          [
           "2024-05-24",
           "y"
          ],
          [
           "2024-05-25",
           "y"
          ],
          [
           "2024-05-26",
           "y"
          ],
          [
           "2024-05-27",
           "y"
          ],
          [
           "2024-05-28",
           "y"
          ],
          [
           "2024-05-29",
           "y"
          ],
          [
           "2024-05-30",
           "y"
          ],
          [
           "2024-05-31",
           "y"
          ],
          [
           "2024-06-01",
           "y"
          ],
          [
           "2024-06-02",
           "y"
          ],
          [
           "2024-06-03",
           "y"
          ],
          [
           "2024-06-04",
           "y"
          ],
          [
           "2024-06-05",
           "y"
          ],
          [
           "2024-06-06",
           "y"
          ],
          [
           "2024-06-07",
           "y"
          ],
          [
           "2024-06-08",
           "y"
          ],
          [
           "2024-06-09",
           "y"
          ],
          [
           "2024-06-10",
           "y"
          ],
          [
           "2024-06-11",
           "y"
          ],
          [
           "2024-06-12",
           "y"
          ],
          [
           "2024-06-13",
           "y"
          ],
          [
           "2024-06-14",
           "y"
          ],
          [
           "2024-06-15",
           "y"
          ],
          [
           "2024-06-16",
           "y"
          ],
          [
           "2024-06-17",
           "y"
          ],
          [
           "2024-06-18",
           "y"
          ],
          [
           "2024-06-19",
           "y"
          ],
          [
           "2024-06-20",
           "y"
          ],
          [
           "2024-06-21",
           "y"
          ],
          [
           "2024-06-22",
           "y"
          ],
          [
           "2024-06-23",
           "y"
          ],
          [
           "2024-06-24",
           "y"
          ],
          [
           "2024-06-25",
           "y"
          ],
          [
           "2024-06-26",
           "y"
          ],
          [
           "2024-06-27",
           "y"
          ],
          [
           "2024-06-28",
           "y"
          ],
          [
           "2024-06-29",
           "y"
          ],
          [
           "2024-06-30",
           "y"
          ],
          [
           "2024-07-01",
           "y"
          ],
          [
           "2024-07-02",
           "y"
          ],
          [
           "2024-07-03",
           "y"
          ],
          [
           "2024-07-04",
           "y"
          ],
          [
           "2024-07-05",
           "y"
          ],
          [
           "2024-07-06",
           "y"
          ],
          [
           "2024-07-07",
           "y"
          ],
          [
           "2024-07-08",
           "y"
          ],
          [
           "2024-07-09",
           "y"
          ],
          [
           "2024-07-10",
           "y"
          ],
          [
           "2024-07-11",
           "y"
          ],
          [
           "2024-07-12",
           "y"
          ],
          [
           "2024-07-13",
           "y"
          ],
          [
           "2024-07-14",
           "y"
          ],
          [
           "2024-07-15",
           "y"
          ],
          [
           "2024-07-16",
           "y"
          ],
          [
           "2024-07-17",
           "y"
          ],
          [
           "2024-07-18",
           "y"
          ],
          [
           "2024-07-19",
           "y"
          ],
          [
           "2024-07-20",
           "y"
          ],
          [
           "2024-07-21",
           "y"
          ],
          [
           "2024-07-22",
           "y"
          ],
          [
           "2024-07-23",
           "y"
          ],
          [
           "2024-07-24",
           "y"
          ],
          [
           "2024-07-25",
           "y"
          ],
          [
           "2024-07-26",
           "y"
          ],
          [
           "2024-07-27",
           "y"
          ],
          [
           "2024-07-28",
           "y"
          ],
          [
           "2024-07-29",
           "y"
          ],
          [
           "2024-07-30",
           "y"
          ],
          [
           "2024-07-31",
           "y"
          ],
          [
           "2024-08-01",
           "y"
          ],
          [
           "2024-08-02",
           "y"
          ],
          [
           "2024-08-03",
           "y"
          ],
          [
           "2024-08-04",
           "y"
          ],
          [
           "2024-08-05",
           "y"
          ],
          [
           "2024-08-06",
           "y"
          ],
          [
           "2024-08-07",
           "y"
          ],
          [
           "2024-08-08",
           "y"
          ],
          [
           "2024-08-09",
           "y"
          ],
          [
           "2024-08-10",
           "y"
          ],
          [
           "2024-08-11",
           "y"
          ],
          [
           "2024-08-12",
           "y"
          ],
          [
           "2024-08-13",
           "y"
          ],
          [
           "2024-08-14",
           "y"
          ],
          [
           "2024-08-15",
           "y"
          ],
          [
           "2024-08-16",
           "y"
          ],
          [
           "2024-08-17",
           "y"
          ],
          [
           "2024-08-18",
           "y"
          ],
          [
           "2024-08-19",
           "y"
          ],
          [
           "2024-08-20",
           "y"
          ],
          [
           "2024-08-21",
           "y"
          ],
          [
           "2024-08-22",
           "y"
          ],
          [
           "2024-08-23",
           "y"
          ],
          [
           "2024-08-24",
           "y"
          ],
          [
           "2024-08-25",
           "y"
          ],
          [
           "2024-08-26",
           "y"
          ],
          [
           "2024-08-27",
           "y"
          ],
          [
           "2024-08-28",
           "y"
          ],
          [
           "2024-08-29",
           "y"
          ],
          [
           "2024-08-30",
           "y"
          ],
          [
           "2024-08-31",
           "y"
          ],
          [
           "2024-09-01",
           "y"
          ],
          [
           "2024-09-02",
           "y"
          ],
          [
           "2024-09-03",
           "y"
          ],
          [
           "2024-09-04",
           "y"
          ],
          [
           "2024-09-05",
           "y"
          ],
          [
           "2024-09-06",
           "y"
          ],
          [
           "2024-09-07",
           "y"
          ],
          [
           "2024-09-08",
           "y"
          ],
          [
           "2024-09-09",
           "y"
          ],
          [
           "2024-09-10",
           "y"
          ],
          [
           "2024-09-11",
           "y"
          ],
          [
           "2024-09-12",
           "y"
          ],
          [
           "2024-09-13",
           "y"
          ],
          [
           "2024-09-14",
           "y"
          ],
          [
           "2024-09-15",
           "y"
          ],
          [
           "2024-09-16",
           "y"
          ],
          [
           "2024-09-17",
           "y"
          ],
          [
           "2024-09-18",
           "y"
          ],
          [
           "2024-09-19",
           "y"
          ],
          [
           "2024-09-20",
           "y"
          ],
          [
           "2024-09-21",
           "y"
          ],
          [
           "2024-09-22",
           "y"
          ],
          [
           "2024-09-23",
           "y"
          ],
          [
           "2024-09-24",
           "y"
          ],
          [
           "2024-09-25",
           "y"
          ],
          [
           "2024-09-26",
           "y"
          ],
          [
           "2024-09-27",
           "y"
          ],
          [
           "2024-09-28",
           "y"
          ],
          [
           "2024-09-29",
           "y"
          ],
          [
           "2024-09-30",
           "y"
          ],
          [
           "2024-10-01",
           "y"
          ],
          [
           "2024-10-02",
           "y"
          ],
          [
           "2024-10-03",
           "y"
          ],
          [
           "2024-10-04",
           "y"
          ],
          [
           "2024-10-05",
           "y"
          ],
          [
           "2024-10-06",
           "y"
          ],
          [
           "2024-10-07",
           "y"
          ],
          [
           "2024-10-08",
           "y"
          ],
          [
           "2024-10-09",
           "y"
          ],
          [
           "2024-10-10",
           "y"
          ],
          [
           "2024-10-11",
           "y"
          ],
          [
           "2024-10-12",
           "y"
          ],
          [
           "2024-10-13",
           "y"
          ],
          [
           "2024-10-14",
           "y"
          ],
          [
           "2024-10-15",
           "y"
          ],
          [
           "2024-10-16",
           "y"
          ],
          [
           "2024-10-17",
           "y"
          ],
          [
           "2024-10-18",
           "y"
          ],
          [
           "2024-10-19",
           "y"
          ],
          [
           "2024-10-20",
           "y"
          ],
          [
           "2024-10-21",
           "y"
          ],
          [
           "2024-10-22",
           "y"
          ],
          [
           "2024-10-23",
           "y"
          ],
          [
           "2024-10-24",
           "y"
          ],
          [
           "2024-10-25",
           "y"
          ],
          [
           "2024-10-26",
           "y"
          ],
          [
           "2024-10-27",
           "y"
          ],
          [
           "2024-10-28",
           "y"
          ],
          [
           "2024-10-29",
           "y"
          ],
          [
           "2024-10-30",
           "y"
          ],
          [
           "2024-10-31",
           "y"
          ],
          [
           "2024-11-01",
           "y"
          ],
          [
           "2024-11-02",
           "y"
          ],
          [
           "2024-11-03",
           "y"
          ],
          [
           "2024-11-04",
           "y"
          ],
          [
           "2024-11-05",
           "y"
          ],
          [
           "2024-11-06",
           "y"
          ],
          [
           "2024-11-07",
           "y"
          ],
          [
           "2024-11-08",
           "y"
          ],
          [
           "2024-11-09",
           "y"
          ],
          [
           "2024-11-10",
           "y"
          ],
          [
           "2024-11-11",
           "y"
          ],
          [
           "2024-11-12",
           "y"
          ],
          [
           "2024-11-13",
           "y"
          ],
          [
           "2024-11-14",
           "y"
          ],
          [
           "2024-11-15",
           "y"
          ],
          [
           "2024-11-16",
           "y"
          ],
          [
           "2024-11-17",
           "y"
          ],
          [
           "2024-11-18",
           "y"
          ],
          [
           "2024-11-19",
           "y"
          ],
          [
           "2024-11-20",
           "y"
          ],
          [
           "2024-11-21",
           "y"
          ],
          [
           "2024-11-22",
           "y"
          ],
          [
           "2024-11-23",
           "y"
          ],
          [
           "2024-11-24",
           "y"
          ],
          [
           "2024-11-25",
           "y"
          ],
          [
           "2024-11-26",
           "y"
          ],
          [
           "2024-11-27",
           "y"
          ],
          [
           "2024-11-28",
           "y"
          ],
          [
           "2024-11-29",
           "y"
          ],
          [
           "2024-11-30",
           "y"
          ],
          [
           "2024-12-01",
           "y"
          ],
          [
           "2024-12-02",
           "y"
          ],
          [
           "2024-12-03",
           "y"
          ],
          [
           "2024-12-04",
           "y"
          ],
          [
           "2024-12-05",
           "y"
          ],
          [
           "2024-12-06",
           "y"
          ],
          [
           "2024-12-07",
           "y"
          ],
          [
           "2024-12-08",
           "y"
          ],
          [
           "2024-12-09",
           "y"
          ],
          [
           "2024-12-10",
           "y"
          ],
          [
           "2024-12-11",
           "y"
          ],
          [
           "2024-12-12",
           "y"
          ],
          [
           "2024-12-13",
           "y"
          ],
          [
           "2024-12-14",
           "y"
          ],
          [
           "2024-12-15",
           "y"
          ],
          [
           "2024-12-16",
           "y"
          ],
          [
           "2024-12-17",
           "y"
          ],
          [
           "2024-12-18",
           "y"
          ],
          [
           "2024-12-19",
           "y"
          ],
          [
           "2024-12-20",
           "y"
          ],
          [
           "2024-12-21",
           "y"
          ],
          [
           "2024-12-22",
           "y"
          ],
          [
           "2024-12-23",
           "y"
          ],
          [
           "2024-12-24",
           "y"
          ],
          [
           "2024-12-25",
           "y"
          ],
          [
           "2024-12-26",
           "y"
          ],
          [
           "2024-12-27",
           "y"
          ],
          [
           "2024-12-28",
           "y"
          ],
          [
           "2024-12-29",
           "y"
          ],
          [
           "2024-12-30",
           "y"
          ],
          [
           "2024-12-31",
           "y"
          ]
         ],
         "hovertemplate": "%{customdata[0]} <br>Week=%{x} <br>%{customdata[1]}=%{z}",
         "name": "2024",
         "showscale": true,
         "type": "heatmap",
         "x": [
          1,
          1,
          1,
          1,
          1,
          1,
          1,
          2,
          2,
          2,
          2,
          2,
          2,
          2,
          3,
          3,
          3,
          3,
          3,
          3,
          3,
          4,
          4,
          4,
          4,
          4,
          4,
          4,
          5,
          5,
          5,
          5,
          5,
          5,
          5,
          6,
          6,
          6,
          6,
          6,
          6,
          6,
          7,
          7,
          7,
          7,
          7,
          7,
          7,
          8,
          8,
          8,
          8,
          8,
          8,
          8,
          9,
          9,
          9,
          9,
          9,
          9,
          9,
          10,
          10,
          10,
          10,
          10,
          10,
          10,
          11,
          11,
          11,
          11,
          11,
          11,
          11,
          12,
          12,
          12,
          12,
          12,
          12,
          12,
          13,
          13,
          13,
          13,
          13,
          13,
          13,
          14,
          14,
          14,
          14,
          14,
          14,
          14,
          15,
          15,
          15,
          15,
          15,
          15,
          15,
          16,
          16,
          16,
          16,
          16,
          16,
          16,
          17,
          17,
          17,
          17,
          17,
          17,
          17,
          18,
          18,
          18,
          18,
          18,
          18,
          18,
          19,
          19,
          19,
          19,
          19,
          19,
          19,
          20,
          20,
          20,
          20,
          20,
          20,
          20,
          21,
          21,
          21,
          21,
          21,
          21,
          21,
          22,
          22,
          22,
          22,
          22,
          22,
          22,
          23,
          23,
          23,
          23,
          23,
          23,
          23,
          24,
          24,
          24,
          24,
          24,
          24,
          24,
          25,
          25,
          25,
          25,
          25,
          25,
          25,
          26,
          26,
          26,
          26,
          26,
          26,
          26,
          27,
          27,
          27,
          27,
          27,
          27,
          27,
          28,
          28,
          28,
          28,
          28,
          28,
          28,
          29,
          29,
          29,
          29,
          29,
          29,
          29,
          30,
          30,
          30,
          30,
          30,
          30,
          30,
          31,
          31,
          31,
          31,
          31,
          31,
          31,
          32,
          32,
          32,
          32,
          32,
          32,
          32,
          33,
          33,
          33,
          33,
          33,
          33,
          33,
          34,
          34,
          34,
          34,
          34,
          34,
          34,
          35,
          35,
          35,
          35,
          35,
          35,
          35,
          36,
          36,
          36,
          36,
          36,
          36,
          36,
          37,
          37,
          37,
          37,
          37,
          37,
          37,
          38,
          38,
          38,
          38,
          38,
          38,
          38,
          39,
          39,
          39,
          39,
          39,
          39,
          39,
          40,
          40,
          40,
          40,
          40,
          40,
          40,
          41,
          41,
          41,
          41,
          41,
          41,
          41,
          42,
          42,
          42,
          42,
          42,
          42,
          42,
          43,
          43,
          43,
          43,
          43,
          43,
          43,
          44,
          44,
          44,
          44,
          44,
          44,
          44,
          45,
          45,
          45,
          45,
          45,
          45,
          45,
          46,
          46,
          46,
          46,
          46,
          46,
          46,
          47,
          47,
          47,
          47,
          47,
          47,
          47,
          48,
          48,
          48,
          48,
          48,
          48,
          48,
          49,
          49,
          49,
          49,
          49,
          49,
          49,
          50,
          50,
          50,
          50,
          50,
          50,
          50,
          51,
          51,
          51,
          51,
          51,
          51,
          51,
          52,
          52,
          52,
          52,
          52,
          52,
          52,
          53,
          53
         ],
         "xaxis": "x",
         "xgap": 1,
         "y": [
          0,
          1,
          2,
          3,
          4,
          5,
          6,
          0,
          1,
          2,
          3,
          4,
          5,
          6,
          0,
          1,
          2,
          3,
          4,
          5,
          6,
          0,
          1,
          2,
          3,
          4,
          5,
          6,
          0,
          1,
          2,
          3,
          4,
          5,
          6,
          0,
          1,
          2,
          3,
          4,
          5,
          6,
          0,
          1,
          2,
          3,
          4,
          5,
          6,
          0,
          1,
          2,
          3,
          4,
          5,
          6,
          0,
          1,
          2,
          3,
          4,
          5,
          6,
          0,
          1,
          2,
          3,
          4,
          5,
          6,
          0,
          1,
          2,
          3,
          4,
          5,
          6,
          0,
          1,
          2,
          3,
          4,
          5,
          6,
          0,
          1,
          2,
          3,
          4,
          5,
          6,
          0,
          1,
          2,
          3,
          4,
          5,
          6,
          0,
          1,
          2,
          3,
          4,
          5,
          6,
          0,
          1,
          2,
          3,
          4,
          5,
          6,
          0,
          1,
          2,
          3,
          4,
          5,
          6,
          0,
          1,
          2,
          3,
          4,
          5,
          6,
          0,
          1,
          2,
          3,
          4,
          5,
          6,
          0,
          1,
          2,
          3,
          4,
          5,
          6,
          0,
          1,
          2,
          3,
          4,
          5,
          6,
          0,
          1,
          2,
          3,
          4,
          5,
          6,
          0,
          1,
          2,
          3,
          4,
          5,
          6,
          0,
          1,
          2,
          3,
          4,
          5,
          6,
          0,
          1,
          2,
          3,
          4,
          5,
          6,
          0,
          1,
          2,
          3,
          4,
          5,
          6,
          0,
          1,
          2,
          3,
          4,
          5,
          6,
          0,
          1,
          2,
          3,
          4,
          5,
          6,
          0,
          1,
          2,
          3,
          4,
          5,
          6,
          0,
          1,
          2,
          3,
          4,
          5,
          6,
          0,
          1,
          2,
          3,
          4,
          5,
          6,
          0,
          1,
          2,
          3,
          4,
          5,
          6,
          0,
          1,
          2,
          3,
          4,
          5,
          6,
          0,
          1,
          2,
          3,
          4,
          5,
          6,
          0,
          1,
          2,
          3,
          4,
          5,
          6,
          0,
          1,
          2,
          3,
          4,
          5,
          6,
          0,
          1,
          2,
          3,
          4,
          5,
          6,
          0,
          1,
          2,
          3,
          4,
          5,
          6,
          0,
          1,
          2,
          3,
          4,
          5,
          6,
          0,
          1,
          2,
          3,
          4,
          5,
          6,
          0,
          1,
          2,
          3,
          4,
          5,
          6,
          0,
          1,
          2,
          3,
          4,
          5,
          6,
          0,
          1,
          2,
          3,
          4,
          5,
          6,
          0,
          1,
          2,
          3,
          4,
          5,
          6,
          0,
          1,
          2,
          3,
          4,
          5,
          6,
          0,
          1,
          2,
          3,
          4,
          5,
          6,
          0,
          1,
          2,
          3,
          4,
          5,
          6,
          0,
          1,
          2,
          3,
          4,
          5,
          6,
          0,
          1,
          2,
          3,
          4,
          5,
          6,
          0,
          1,
          2,
          3,
          4,
          5,
          6,
          0,
          1,
          2,
          3,
          4,
          5,
          6,
          0,
          1,
          2,
          3,
          4,
          5,
          6,
          0,
          1
         ],
         "yaxis": "y",
         "ygap": 1,
         "z": [
          0,
          0,
          0,
          0,
          0,
          0,
          0,
          0,
          0,
          0,
          0,
          0,
          0,
          0,
          0,
          0,
          0,
          0,
          0,
          0,
          0,
          0,
          0,
          0,
          0,
          0,
          0,
          0,
          0,
          0,
          0,
          0,
          0,
          0,
          8.458263921286937,
          0,
          0,
          0,
          0,
          0,
          0,
          0,
          0,
          6.83480402451221,
          0,
          0,
          0,
          0,
          0,
          0,
          0,
          0,
          0,
          0,
          0,
          0,
          0,
          0,
          0,
          0,
          0,
          0,
          0,
          0,
          0,
          0,
          0,
          0,
          0,
          0,
          0,
          0,
          0,
          0,
          0,
          0,
          0,
          0,
          0,
          0,
          0,
          0,
          0,
          0,
          0,
          0,
          0,
          0,
          0,
          0,
          0,
          0,
          0,
          0,
          0,
          0,
          0,
          0,
          0,
          0,
          0,
          0,
          0,
          0,
          2.148721506592486,
          0,
          0,
          12.22523231690288,
          0,
          0,
          0,
          0,
          0,
          0,
          0,
          0,
          0,
          0,
          0,
          0,
          0,
          0,
          0,
          0,
          0,
          0,
          0,
          35.946595173075714,
          7.47119885365414,
          0,
          0,
          0,
          0,
          0,
          0,
          13.192520125539428,
          0,
          15.286096338048187,
          0,
          0,
          0,
          0,
          0,
          0,
          0,
          0,
          3.707278875450112,
          0,
          0,
          8.791491226629688,
          0,
          0,
          0,
          0,
          0,
          0,
          0,
          0,
          0,
          0,
          0,
          0,
          0,
          0,
          0,
          0,
          0,
          0,
          4.9382201516808015,
          12.11765996202836,
          1.1154984907342445,
          7.329778884157698,
          0,
          0,
          20.942177878102125,
          0,
          0,
          0,
          0,
          0,
          0,
          0,
          0,
          10.938850324607843,
          0,
          0,
          13.319929488399785,
          21.318884474590966,
          0,
          0,
          0,
          15.336854791551378,
          0,
          0,
          0,
          0,
          0,
          0,
          0,
          0,
          0,
          0,
          3.1982399390313683,
          0,
          14.046111152680902,
          9.82258080064708,
          0,
          13.070152763500884,
          12.946799258677146,
          18.69398243751036,
          0,
          20.80199721506432,
          0,
          0,
          14.410919057148623,
          0,
          40.08772605487004,
          0,
          12.253029009605896,
          0,
          0,
          10.929590967087536,
          10.878083752711234,
          46.29917869969072,
          0,
          0,
          14.791305322114418,
          10.539232928984973,
          0,
          50.15502506687153,
          0,
          0,
          0,
          0,
          0,
          9.50433064696488,
          41.27295606842247,
          0,
          0,
          21.286734447553112,
          0,
          12.30979378514326,
          0,
          0,
          0,
          0,
          0,
          0,
          14.322306692308182,
          3.595519411057647,
          24.84276138368703,
          49.312250716796896,
          0,
          16.652624338216494,
          0,
          0,
          0,
          0,
          55.05083268517453,
          0,
          1.772641394426855,
          0,
          11.101370442672568,
          14.649613405933374,
          0,
          60.34466066823106,
          0,
          0,
          0,
          12.533328083083845,
          0,
          0,
          0,
          0,
          71.35542799993493,
          0,
          0,
          0,
          0,
          0,
          0,
          0,
          0,
          0,
          63.397110775858906,
          64.0872853391604,
          50.055952052011776,
          51.39297400238321,
          69.34708834005495,
          42.58211027391185,
          0,
          14.246021857644994,
          0,
          0,
          0,
          0,
          0,
          0,
          0,
          0,
          0,
          0,
          0,
          0,
          0,
          0,
          0,
          0,
          0,
          0,
          0,
          0,
          0,
          0,
          0,
          0,
          0,
          0,
          0,
          0,
          0,
          0,
          0,
          0,
          0,
          0,
          0,
          0,
          0,
          0,
          0,
          0,
          0,
          0,
          0,
          0,
          0,
          0,
          0,
          0,
          0,
          0,
          0,
          0,
          0,
          0,
          0,
          0,
          0,
          0,
          0,
          0,
          0,
          0,
          0,
          0,
          0,
          0,
          0,
          0,
          0,
          0,
          0,
          0,
          0,
          0
         ],
         "zmax": 71.35542799993493,
         "zmin": 0
        },
        {
         "hoverinfo": "skip",
         "line": {
          "color": "#000000",
          "width": 4
         },
         "mode": "lines",
         "type": "scatter",
         "x": [
          0.5,
          0.5
         ],
         "xaxis": "x",
         "y": [
          -0.5,
          6.5
         ],
         "yaxis": "y"
        },
        {
         "hoverinfo": "skip",
         "line": {
          "color": "#000000",
          "width": 4
         },
         "mode": "lines",
         "type": "scatter",
         "x": [
          4.5,
          4.5
         ],
         "xaxis": "x",
         "y": [
          2.5,
          6.5
         ],
         "yaxis": "y"
        },
        {
         "hoverinfo": "skip",
         "line": {
          "color": "#000000",
          "width": 4
         },
         "mode": "lines",
         "type": "scatter",
         "x": [
          4.5,
          5.5
         ],
         "xaxis": "x",
         "y": [
          2.5,
          2.5
         ],
         "yaxis": "y"
        },
        {
         "hoverinfo": "skip",
         "line": {
          "color": "#000000",
          "width": 4
         },
         "mode": "lines",
         "type": "scatter",
         "x": [
          5.5,
          5.5
         ],
         "xaxis": "x",
         "y": [
          2.5,
          -0.5
         ],
         "yaxis": "y"
        },
        {
         "hoverinfo": "skip",
         "line": {
          "color": "#000000",
          "width": 4
         },
         "mode": "lines",
         "type": "scatter",
         "x": [
          8.5,
          8.5
         ],
         "xaxis": "x",
         "y": [
          3.5,
          6.5
         ],
         "yaxis": "y"
        },
        {
         "hoverinfo": "skip",
         "line": {
          "color": "#000000",
          "width": 4
         },
         "mode": "lines",
         "type": "scatter",
         "x": [
          8.5,
          9.5
         ],
         "xaxis": "x",
         "y": [
          3.5,
          3.5
         ],
         "yaxis": "y"
        },
        {
         "hoverinfo": "skip",
         "line": {
          "color": "#000000",
          "width": 4
         },
         "mode": "lines",
         "type": "scatter",
         "x": [
          9.5,
          9.5
         ],
         "xaxis": "x",
         "y": [
          3.5,
          -0.5
         ],
         "yaxis": "y"
        },
        {
         "hoverinfo": "skip",
         "line": {
          "color": "#000000",
          "width": 4
         },
         "mode": "lines",
         "type": "scatter",
         "x": [
          13.5,
          13.5
         ],
         "xaxis": "x",
         "y": [
          -0.5,
          6.5
         ],
         "yaxis": "y"
        },
        {
         "hoverinfo": "skip",
         "line": {
          "color": "#000000",
          "width": 4
         },
         "mode": "lines",
         "type": "scatter",
         "x": [
          17.5,
          17.5
         ],
         "xaxis": "x",
         "y": [
          1.5,
          6.5
         ],
         "yaxis": "y"
        },
        {
         "hoverinfo": "skip",
         "line": {
          "color": "#000000",
          "width": 4
         },
         "mode": "lines",
         "type": "scatter",
         "x": [
          17.5,
          18.5
         ],
         "xaxis": "x",
         "y": [
          1.5,
          1.5
         ],
         "yaxis": "y"
        },
        {
         "hoverinfo": "skip",
         "line": {
          "color": "#000000",
          "width": 4
         },
         "mode": "lines",
         "type": "scatter",
         "x": [
          18.5,
          18.5
         ],
         "xaxis": "x",
         "y": [
          1.5,
          -0.5
         ],
         "yaxis": "y"
        },
        {
         "hoverinfo": "skip",
         "line": {
          "color": "#000000",
          "width": 4
         },
         "mode": "lines",
         "type": "scatter",
         "x": [
          21.5,
          21.5
         ],
         "xaxis": "x",
         "y": [
          4.5,
          6.5
         ],
         "yaxis": "y"
        },
        {
         "hoverinfo": "skip",
         "line": {
          "color": "#000000",
          "width": 4
         },
         "mode": "lines",
         "type": "scatter",
         "x": [
          21.5,
          22.5
         ],
         "xaxis": "x",
         "y": [
          4.5,
          4.5
         ],
         "yaxis": "y"
        },
        {
         "hoverinfo": "skip",
         "line": {
          "color": "#000000",
          "width": 4
         },
         "mode": "lines",
         "type": "scatter",
         "x": [
          22.5,
          22.5
         ],
         "xaxis": "x",
         "y": [
          4.5,
          -0.5
         ],
         "yaxis": "y"
        },
        {
         "hoverinfo": "skip",
         "line": {
          "color": "#000000",
          "width": 4
         },
         "mode": "lines",
         "type": "scatter",
         "x": [
          26.5,
          26.5
         ],
         "xaxis": "x",
         "y": [
          -0.5,
          6.5
         ],
         "yaxis": "y"
        },
        {
         "hoverinfo": "skip",
         "line": {
          "color": "#000000",
          "width": 4
         },
         "mode": "lines",
         "type": "scatter",
         "x": [
          30.5,
          30.5
         ],
         "xaxis": "x",
         "y": [
          2.5,
          6.5
         ],
         "yaxis": "y"
        },
        {
         "hoverinfo": "skip",
         "line": {
          "color": "#000000",
          "width": 4
         },
         "mode": "lines",
         "type": "scatter",
         "x": [
          30.5,
          31.5
         ],
         "xaxis": "x",
         "y": [
          2.5,
          2.5
         ],
         "yaxis": "y"
        },
        {
         "hoverinfo": "skip",
         "line": {
          "color": "#000000",
          "width": 4
         },
         "mode": "lines",
         "type": "scatter",
         "x": [
          31.5,
          31.5
         ],
         "xaxis": "x",
         "y": [
          2.5,
          -0.5
         ],
         "yaxis": "y"
        },
        {
         "hoverinfo": "skip",
         "line": {
          "color": "#000000",
          "width": 4
         },
         "mode": "lines",
         "type": "scatter",
         "x": [
          34.5,
          34.5
         ],
         "xaxis": "x",
         "y": [
          5.5,
          6.5
         ],
         "yaxis": "y"
        },
        {
         "hoverinfo": "skip",
         "line": {
          "color": "#000000",
          "width": 4
         },
         "mode": "lines",
         "type": "scatter",
         "x": [
          34.5,
          35.5
         ],
         "xaxis": "x",
         "y": [
          5.5,
          5.5
         ],
         "yaxis": "y"
        },
        {
         "hoverinfo": "skip",
         "line": {
          "color": "#000000",
          "width": 4
         },
         "mode": "lines",
         "type": "scatter",
         "x": [
          35.5,
          35.5
         ],
         "xaxis": "x",
         "y": [
          5.5,
          -0.5
         ],
         "yaxis": "y"
        },
        {
         "hoverinfo": "skip",
         "line": {
          "color": "#000000",
          "width": 4
         },
         "mode": "lines",
         "type": "scatter",
         "x": [
          39.5,
          39.5
         ],
         "xaxis": "x",
         "y": [
          0.5,
          6.5
         ],
         "yaxis": "y"
        },
        {
         "hoverinfo": "skip",
         "line": {
          "color": "#000000",
          "width": 4
         },
         "mode": "lines",
         "type": "scatter",
         "x": [
          39.5,
          40.5
         ],
         "xaxis": "x",
         "y": [
          0.5,
          0.5
         ],
         "yaxis": "y"
        },
        {
         "hoverinfo": "skip",
         "line": {
          "color": "#000000",
          "width": 4
         },
         "mode": "lines",
         "type": "scatter",
         "x": [
          40.5,
          40.5
         ],
         "xaxis": "x",
         "y": [
          0.5,
          -0.5
         ],
         "yaxis": "y"
        },
        {
         "hoverinfo": "skip",
         "line": {
          "color": "#000000",
          "width": 4
         },
         "mode": "lines",
         "type": "scatter",
         "x": [
          43.5,
          43.5
         ],
         "xaxis": "x",
         "y": [
          3.5,
          6.5
         ],
         "yaxis": "y"
        },
        {
         "hoverinfo": "skip",
         "line": {
          "color": "#000000",
          "width": 4
         },
         "mode": "lines",
         "type": "scatter",
         "x": [
          43.5,
          44.5
         ],
         "xaxis": "x",
         "y": [
          3.5,
          3.5
         ],
         "yaxis": "y"
        },
        {
         "hoverinfo": "skip",
         "line": {
          "color": "#000000",
          "width": 4
         },
         "mode": "lines",
         "type": "scatter",
         "x": [
          44.5,
          44.5
         ],
         "xaxis": "x",
         "y": [
          3.5,
          -0.5
         ],
         "yaxis": "y"
        },
        {
         "hoverinfo": "skip",
         "line": {
          "color": "#000000",
          "width": 4
         },
         "mode": "lines",
         "type": "scatter",
         "x": [
          47.5,
          47.5
         ],
         "xaxis": "x",
         "y": [
          5.5,
          6.5
         ],
         "yaxis": "y"
        },
        {
         "hoverinfo": "skip",
         "line": {
          "color": "#000000",
          "width": 4
         },
         "mode": "lines",
         "type": "scatter",
         "x": [
          47.5,
          48.5
         ],
         "xaxis": "x",
         "y": [
          5.5,
          5.5
         ],
         "yaxis": "y"
        },
        {
         "hoverinfo": "skip",
         "line": {
          "color": "#000000",
          "width": 4
         },
         "mode": "lines",
         "type": "scatter",
         "x": [
          48.5,
          48.5
         ],
         "xaxis": "x",
         "y": [
          5.5,
          -0.5
         ],
         "yaxis": "y"
        }
       ],
       "layout": {
        "font": {
         "color": "#fff",
         "size": 10
        },
        "height": 225,
        "margin": {
         "b": 20,
         "t": 20
        },
        "paper_bgcolor": "#333",
        "plot_bgcolor": "#333",
        "showlegend": false,
        "template": {
         "data": {
          "bar": [
           {
            "error_x": {
             "color": "#2a3f5f"
            },
            "error_y": {
             "color": "#2a3f5f"
            },
            "marker": {
             "line": {
              "color": "#E5ECF6",
              "width": 0.5
             },
             "pattern": {
              "fillmode": "overlay",
              "size": 10,
              "solidity": 0.2
             }
            },
            "type": "bar"
           }
          ],
          "barpolar": [
           {
            "marker": {
             "line": {
              "color": "#E5ECF6",
              "width": 0.5
             },
             "pattern": {
              "fillmode": "overlay",
              "size": 10,
              "solidity": 0.2
             }
            },
            "type": "barpolar"
           }
          ],
          "carpet": [
           {
            "aaxis": {
             "endlinecolor": "#2a3f5f",
             "gridcolor": "white",
             "linecolor": "white",
             "minorgridcolor": "white",
             "startlinecolor": "#2a3f5f"
            },
            "baxis": {
             "endlinecolor": "#2a3f5f",
             "gridcolor": "white",
             "linecolor": "white",
             "minorgridcolor": "white",
             "startlinecolor": "#2a3f5f"
            },
            "type": "carpet"
           }
          ],
          "choropleth": [
           {
            "colorbar": {
             "outlinewidth": 0,
             "ticks": ""
            },
            "type": "choropleth"
           }
          ],
          "contour": [
           {
            "colorbar": {
             "outlinewidth": 0,
             "ticks": ""
            },
            "colorscale": [
             [
              0,
              "#0d0887"
             ],
             [
              0.1111111111111111,
              "#46039f"
             ],
             [
              0.2222222222222222,
              "#7201a8"
             ],
             [
              0.3333333333333333,
              "#9c179e"
             ],
             [
              0.4444444444444444,
              "#bd3786"
             ],
             [
              0.5555555555555556,
              "#d8576b"
             ],
             [
              0.6666666666666666,
              "#ed7953"
             ],
             [
              0.7777777777777778,
              "#fb9f3a"
             ],
             [
              0.8888888888888888,
              "#fdca26"
             ],
             [
              1,
              "#f0f921"
             ]
            ],
            "type": "contour"
           }
          ],
          "contourcarpet": [
           {
            "colorbar": {
             "outlinewidth": 0,
             "ticks": ""
            },
            "type": "contourcarpet"
           }
          ],
          "heatmap": [
           {
            "colorbar": {
             "outlinewidth": 0,
             "ticks": ""
            },
            "colorscale": [
             [
              0,
              "#0d0887"
             ],
             [
              0.1111111111111111,
              "#46039f"
             ],
             [
              0.2222222222222222,
              "#7201a8"
             ],
             [
              0.3333333333333333,
              "#9c179e"
             ],
             [
              0.4444444444444444,
              "#bd3786"
             ],
             [
              0.5555555555555556,
              "#d8576b"
             ],
             [
              0.6666666666666666,
              "#ed7953"
             ],
             [
              0.7777777777777778,
              "#fb9f3a"
             ],
             [
              0.8888888888888888,
              "#fdca26"
             ],
             [
              1,
              "#f0f921"
             ]
            ],
            "type": "heatmap"
           }
          ],
          "heatmapgl": [
           {
            "colorbar": {
             "outlinewidth": 0,
             "ticks": ""
            },
            "colorscale": [
             [
              0,
              "#0d0887"
             ],
             [
              0.1111111111111111,
              "#46039f"
             ],
             [
              0.2222222222222222,
              "#7201a8"
             ],
             [
              0.3333333333333333,
              "#9c179e"
             ],
             [
              0.4444444444444444,
              "#bd3786"
             ],
             [
              0.5555555555555556,
              "#d8576b"
             ],
             [
              0.6666666666666666,
              "#ed7953"
             ],
             [
              0.7777777777777778,
              "#fb9f3a"
             ],
             [
              0.8888888888888888,
              "#fdca26"
             ],
             [
              1,
              "#f0f921"
             ]
            ],
            "type": "heatmapgl"
           }
          ],
          "histogram": [
           {
            "marker": {
             "pattern": {
              "fillmode": "overlay",
              "size": 10,
              "solidity": 0.2
             }
            },
            "type": "histogram"
           }
          ],
          "histogram2d": [
           {
            "colorbar": {
             "outlinewidth": 0,
             "ticks": ""
            },
            "colorscale": [
             [
              0,
              "#0d0887"
             ],
             [
              0.1111111111111111,
              "#46039f"
             ],
             [
              0.2222222222222222,
              "#7201a8"
             ],
             [
              0.3333333333333333,
              "#9c179e"
             ],
             [
              0.4444444444444444,
              "#bd3786"
             ],
             [
              0.5555555555555556,
              "#d8576b"
             ],
             [
              0.6666666666666666,
              "#ed7953"
             ],
             [
              0.7777777777777778,
              "#fb9f3a"
             ],
             [
              0.8888888888888888,
              "#fdca26"
             ],
             [
              1,
              "#f0f921"
             ]
            ],
            "type": "histogram2d"
           }
          ],
          "histogram2dcontour": [
           {
            "colorbar": {
             "outlinewidth": 0,
             "ticks": ""
            },
            "colorscale": [
             [
              0,
              "#0d0887"
             ],
             [
              0.1111111111111111,
              "#46039f"
             ],
             [
              0.2222222222222222,
              "#7201a8"
             ],
             [
              0.3333333333333333,
              "#9c179e"
             ],
             [
              0.4444444444444444,
              "#bd3786"
             ],
             [
              0.5555555555555556,
              "#d8576b"
             ],
             [
              0.6666666666666666,
              "#ed7953"
             ],
             [
              0.7777777777777778,
              "#fb9f3a"
             ],
             [
              0.8888888888888888,
              "#fdca26"
             ],
             [
              1,
              "#f0f921"
             ]
            ],
            "type": "histogram2dcontour"
           }
          ],
          "mesh3d": [
           {
            "colorbar": {
             "outlinewidth": 0,
             "ticks": ""
            },
            "type": "mesh3d"
           }
          ],
          "parcoords": [
           {
            "line": {
             "colorbar": {
              "outlinewidth": 0,
              "ticks": ""
             }
            },
            "type": "parcoords"
           }
          ],
          "pie": [
           {
            "automargin": true,
            "type": "pie"
           }
          ],
          "scatter": [
           {
            "fillpattern": {
             "fillmode": "overlay",
             "size": 10,
             "solidity": 0.2
            },
            "type": "scatter"
           }
          ],
          "scatter3d": [
           {
            "line": {
             "colorbar": {
              "outlinewidth": 0,
              "ticks": ""
             }
            },
            "marker": {
             "colorbar": {
              "outlinewidth": 0,
              "ticks": ""
             }
            },
            "type": "scatter3d"
           }
          ],
          "scattercarpet": [
           {
            "marker": {
             "colorbar": {
              "outlinewidth": 0,
              "ticks": ""
             }
            },
            "type": "scattercarpet"
           }
          ],
          "scattergeo": [
           {
            "marker": {
             "colorbar": {
              "outlinewidth": 0,
              "ticks": ""
             }
            },
            "type": "scattergeo"
           }
          ],
          "scattergl": [
           {
            "marker": {
             "colorbar": {
              "outlinewidth": 0,
              "ticks": ""
             }
            },
            "type": "scattergl"
           }
          ],
          "scattermapbox": [
           {
            "marker": {
             "colorbar": {
              "outlinewidth": 0,
              "ticks": ""
             }
            },
            "type": "scattermapbox"
           }
          ],
          "scatterpolar": [
           {
            "marker": {
             "colorbar": {
              "outlinewidth": 0,
              "ticks": ""
             }
            },
            "type": "scatterpolar"
           }
          ],
          "scatterpolargl": [
           {
            "marker": {
             "colorbar": {
              "outlinewidth": 0,
              "ticks": ""
             }
            },
            "type": "scatterpolargl"
           }
          ],
          "scatterternary": [
           {
            "marker": {
             "colorbar": {
              "outlinewidth": 0,
              "ticks": ""
             }
            },
            "type": "scatterternary"
           }
          ],
          "surface": [
           {
            "colorbar": {
             "outlinewidth": 0,
             "ticks": ""
            },
            "colorscale": [
             [
              0,
              "#0d0887"
             ],
             [
              0.1111111111111111,
              "#46039f"
             ],
             [
              0.2222222222222222,
              "#7201a8"
             ],
             [
              0.3333333333333333,
              "#9c179e"
             ],
             [
              0.4444444444444444,
              "#bd3786"
             ],
             [
              0.5555555555555556,
              "#d8576b"
             ],
             [
              0.6666666666666666,
              "#ed7953"
             ],
             [
              0.7777777777777778,
              "#fb9f3a"
             ],
             [
              0.8888888888888888,
              "#fdca26"
             ],
             [
              1,
              "#f0f921"
             ]
            ],
            "type": "surface"
           }
          ],
          "table": [
           {
            "cells": {
             "fill": {
              "color": "#EBF0F8"
             },
             "line": {
              "color": "white"
             }
            },
            "header": {
             "fill": {
              "color": "#C8D4E3"
             },
             "line": {
              "color": "white"
             }
            },
            "type": "table"
           }
          ]
         },
         "layout": {
          "annotationdefaults": {
           "arrowcolor": "#2a3f5f",
           "arrowhead": 0,
           "arrowwidth": 1
          },
          "autotypenumbers": "strict",
          "coloraxis": {
           "colorbar": {
            "outlinewidth": 0,
            "ticks": ""
           }
          },
          "colorscale": {
           "diverging": [
            [
             0,
             "#8e0152"
            ],
            [
             0.1,
             "#c51b7d"
            ],
            [
             0.2,
             "#de77ae"
            ],
            [
             0.3,
             "#f1b6da"
            ],
            [
             0.4,
             "#fde0ef"
            ],
            [
             0.5,
             "#f7f7f7"
            ],
            [
             0.6,
             "#e6f5d0"
            ],
            [
             0.7,
             "#b8e186"
            ],
            [
             0.8,
             "#7fbc41"
            ],
            [
             0.9,
             "#4d9221"
            ],
            [
             1,
             "#276419"
            ]
           ],
           "sequential": [
            [
             0,
             "#0d0887"
            ],
            [
             0.1111111111111111,
             "#46039f"
            ],
            [
             0.2222222222222222,
             "#7201a8"
            ],
            [
             0.3333333333333333,
             "#9c179e"
            ],
            [
             0.4444444444444444,
             "#bd3786"
            ],
            [
             0.5555555555555556,
             "#d8576b"
            ],
            [
             0.6666666666666666,
             "#ed7953"
            ],
            [
             0.7777777777777778,
             "#fb9f3a"
            ],
            [
             0.8888888888888888,
             "#fdca26"
            ],
            [
             1,
             "#f0f921"
            ]
           ],
           "sequentialminus": [
            [
             0,
             "#0d0887"
            ],
            [
             0.1111111111111111,
             "#46039f"
            ],
            [
             0.2222222222222222,
             "#7201a8"
            ],
            [
             0.3333333333333333,
             "#9c179e"
            ],
            [
             0.4444444444444444,
             "#bd3786"
            ],
            [
             0.5555555555555556,
             "#d8576b"
            ],
            [
             0.6666666666666666,
             "#ed7953"
            ],
            [
             0.7777777777777778,
             "#fb9f3a"
            ],
            [
             0.8888888888888888,
             "#fdca26"
            ],
            [
             1,
             "#f0f921"
            ]
           ]
          },
          "colorway": [
           "#636efa",
           "#EF553B",
           "#00cc96",
           "#ab63fa",
           "#FFA15A",
           "#19d3f3",
           "#FF6692",
           "#B6E880",
           "#FF97FF",
           "#FECB52"
          ],
          "font": {
           "color": "#2a3f5f"
          },
          "geo": {
           "bgcolor": "white",
           "lakecolor": "white",
           "landcolor": "#E5ECF6",
           "showlakes": true,
           "showland": true,
           "subunitcolor": "white"
          },
          "hoverlabel": {
           "align": "left"
          },
          "hovermode": "closest",
          "mapbox": {
           "style": "light"
          },
          "paper_bgcolor": "white",
          "plot_bgcolor": "#E5ECF6",
          "polar": {
           "angularaxis": {
            "gridcolor": "white",
            "linecolor": "white",
            "ticks": ""
           },
           "bgcolor": "#E5ECF6",
           "radialaxis": {
            "gridcolor": "white",
            "linecolor": "white",
            "ticks": ""
           }
          },
          "scene": {
           "xaxis": {
            "backgroundcolor": "#E5ECF6",
            "gridcolor": "white",
            "gridwidth": 2,
            "linecolor": "white",
            "showbackground": true,
            "ticks": "",
            "zerolinecolor": "white"
           },
           "yaxis": {
            "backgroundcolor": "#E5ECF6",
            "gridcolor": "white",
            "gridwidth": 2,
            "linecolor": "white",
            "showbackground": true,
            "ticks": "",
            "zerolinecolor": "white"
           },
           "zaxis": {
            "backgroundcolor": "#E5ECF6",
            "gridcolor": "white",
            "gridwidth": 2,
            "linecolor": "white",
            "showbackground": true,
            "ticks": "",
            "zerolinecolor": "white"
           }
          },
          "shapedefaults": {
           "line": {
            "color": "#2a3f5f"
           }
          },
          "ternary": {
           "aaxis": {
            "gridcolor": "white",
            "linecolor": "white",
            "ticks": ""
           },
           "baxis": {
            "gridcolor": "white",
            "linecolor": "white",
            "ticks": ""
           },
           "bgcolor": "#E5ECF6",
           "caxis": {
            "gridcolor": "white",
            "linecolor": "white",
            "ticks": ""
           }
          },
          "title": {
           "x": 0.05
          },
          "xaxis": {
           "automargin": true,
           "gridcolor": "white",
           "linecolor": "white",
           "ticks": "",
           "title": {
            "standoff": 15
           },
           "zerolinecolor": "white",
           "zerolinewidth": 2
          },
          "yaxis": {
           "automargin": true,
           "gridcolor": "white",
           "linecolor": "white",
           "ticks": "",
           "title": {
            "standoff": 15
           },
           "zerolinecolor": "white",
           "zerolinewidth": 2
          }
         }
        },
        "title": {
         "text": "Ride Mileage 2024"
        },
        "xaxis": {
         "anchor": "y",
         "domain": [
          0,
          1
         ],
         "showgrid": false,
         "showline": false,
         "tickmode": "array",
         "ticktext": [
          "January",
          "February",
          "March",
          "April",
          "May",
          "June",
          "July",
          "August",
          "September",
          "October",
          "November",
          "December"
         ],
         "tickvals": [
          1.5,
          5.909090909090909,
          10.318181818181818,
          14.727272727272727,
          19.136363636363637,
          23.545454545454547,
          27.954545454545453,
          32.36363636363636,
          36.77272727272727,
          41.18181818181818,
          45.59090909090909,
          50
         ],
         "zeroline": false
        },
        "yaxis": {
         "anchor": "x",
         "autorange": "reversed",
         "domain": [
          0,
          1
         ],
         "showgrid": false,
         "showline": false,
         "tickmode": "array",
         "ticktext": [
          "Mon",
          "Tue",
          "Wed",
          "Thu",
          "Fri",
          "Sat",
          "Sun"
         ],
         "tickvals": [
          0,
          1,
          2,
          3,
          4,
          5,
          6
         ],
         "zeroline": false
        }
       }
      }
     },
     "metadata": {},
     "output_type": "display_data"
    }
   ],
   "source": [
    "colorscale = list(sns.color_palette('YlGn',n_colors=10).as_hex())\n",
    "colorscale = [(x,c) for x,c in zip(np.linspace(0.0,1.0,10), colorscale)]\n",
    "colorscale[0] = (0.00, \"#888888\")\n",
    "\n",
    "fig = calplot(df_activity_2024, x='ride_date', y='total_distance_mi', colorscale=colorscale, \n",
    "              dark_theme=True, gap=1, month_lines_width=4, month_lines_color='#000000',\n",
    "            showscale=True, total_height=225, title='Ride Mileage 2024')\n",
    "fig.show()"
   ]
  },
  {
   "cell_type": "code",
   "execution_count": 49,
   "id": "000e2c6d",
   "metadata": {},
   "outputs": [
    {
     "data": {
      "application/vnd.plotly.v1+json": {
       "config": {
        "plotlyServerURL": "https://plot.ly"
       },
       "data": [
        {
         "colorscale": [
          [
           0,
           "#888888"
          ],
          [
           0.1111111111111111,
           "#eaf7af"
          ],
          [
           0.2222222222222222,
           "#d2eda0"
          ],
          [
           0.3333333333333333,
           "#b1df90"
          ],
          [
           0.4444444444444444,
           "#8bce81"
          ],
          [
           0.5555555555555556,
           "#64bc6f"
          ],
          [
           0.6666666666666666,
           "#3fa85b"
          ],
          [
           0.7777777777777777,
           "#288a47"
          ],
          [
           0.8888888888888888,
           "#10743c"
          ],
          [
           1,
           "#005e33"
          ]
         ],
         "customdata": [
          [
           "2023-01-01",
           "y"
          ],
          [
           "2023-01-02",
           "y"
          ],
          [
           "2023-01-03",
           "y"
          ],
          [
           "2023-01-04",
           "y"
          ],
          [
           "2023-01-05",
           "y"
          ],
          [
           "2023-01-06",
           "y"
          ],
          [
           "2023-01-07",
           "y"
          ],
          [
           "2023-01-08",
           "y"
          ],
          [
           "2023-01-09",
           "y"
          ],
          [
           "2023-01-10",
           "y"
          ],
          [
           "2023-01-11",
           "y"
          ],
          [
           "2023-01-12",
           "y"
          ],
          [
           "2023-01-13",
           "y"
          ],
          [
           "2023-01-14",
           "y"
          ],
          [
           "2023-01-15",
           "y"
          ],
          [
           "2023-01-16",
           "y"
          ],
          [
           "2023-01-17",
           "y"
          ],
          [
           "2023-01-18",
           "y"
          ],
          [
           "2023-01-19",
           "y"
          ],
          [
           "2023-01-20",
           "y"
          ],
          [
           "2023-01-21",
           "y"
          ],
          [
           "2023-01-22",
           "y"
          ],
          [
           "2023-01-23",
           "y"
          ],
          [
           "2023-01-24",
           "y"
          ],
          [
           "2023-01-25",
           "y"
          ],
          [
           "2023-01-26",
           "y"
          ],
          [
           "2023-01-27",
           "y"
          ],
          [
           "2023-01-28",
           "y"
          ],
          [
           "2023-01-29",
           "y"
          ],
          [
           "2023-01-30",
           "y"
          ],
          [
           "2023-01-31",
           "y"
          ],
          [
           "2023-02-01",
           "y"
          ],
          [
           "2023-02-02",
           "y"
          ],
          [
           "2023-02-03",
           "y"
          ],
          [
           "2023-02-04",
           "y"
          ],
          [
           "2023-02-05",
           "y"
          ],
          [
           "2023-02-06",
           "y"
          ],
          [
           "2023-02-07",
           "y"
          ],
          [
           "2023-02-08",
           "y"
          ],
          [
           "2023-02-09",
           "y"
          ],
          [
           "2023-02-10",
           "y"
          ],
          [
           "2023-02-11",
           "y"
          ],
          [
           "2023-02-12",
           "y"
          ],
          [
           "2023-02-13",
           "y"
          ],
          [
           "2023-02-14",
           "y"
          ],
          [
           "2023-02-15",
           "y"
          ],
          [
           "2023-02-16",
           "y"
          ],
          [
           "2023-02-17",
           "y"
          ],
          [
           "2023-02-18",
           "y"
          ],
          [
           "2023-02-19",
           "y"
          ],
          [
           "2023-02-20",
           "y"
          ],
          [
           "2023-02-21",
           "y"
          ],
          [
           "2023-02-22",
           "y"
          ],
          [
           "2023-02-23",
           "y"
          ],
          [
           "2023-02-24",
           "y"
          ],
          [
           "2023-02-25",
           "y"
          ],
          [
           "2023-02-26",
           "y"
          ],
          [
           "2023-02-27",
           "y"
          ],
          [
           "2023-02-28",
           "y"
          ],
          [
           "2023-03-01",
           "y"
          ],
          [
           "2023-03-02",
           "y"
          ],
          [
           "2023-03-03",
           "y"
          ],
          [
           "2023-03-04",
           "y"
          ],
          [
           "2023-03-05",
           "y"
          ],
          [
           "2023-03-06",
           "y"
          ],
          [
           "2023-03-07",
           "y"
          ],
          [
           "2023-03-08",
           "y"
          ],
          [
           "2023-03-09",
           "y"
          ],
          [
           "2023-03-10",
           "y"
          ],
          [
           "2023-03-11",
           "y"
          ],
          [
           "2023-03-12",
           "y"
          ],
          [
           "2023-03-13",
           "y"
          ],
          [
           "2023-03-14",
           "y"
          ],
          [
           "2023-03-15",
           "y"
          ],
          [
           "2023-03-16",
           "y"
          ],
          [
           "2023-03-17",
           "y"
          ],
          [
           "2023-03-18",
           "y"
          ],
          [
           "2023-03-19",
           "y"
          ],
          [
           "2023-03-20",
           "y"
          ],
          [
           "2023-03-21",
           "y"
          ],
          [
           "2023-03-22",
           "y"
          ],
          [
           "2023-03-23",
           "y"
          ],
          [
           "2023-03-24",
           "y"
          ],
          [
           "2023-03-25",
           "y"
          ],
          [
           "2023-03-26",
           "y"
          ],
          [
           "2023-03-27",
           "y"
          ],
          [
           "2023-03-28",
           "y"
          ],
          [
           "2023-03-29",
           "y"
          ],
          [
           "2023-03-30",
           "y"
          ],
          [
           "2023-03-31",
           "y"
          ],
          [
           "2023-04-01",
           "y"
          ],
          [
           "2023-04-02",
           "y"
          ],
          [
           "2023-04-03",
           "y"
          ],
          [
           "2023-04-04",
           "y"
          ],
          [
           "2023-04-05",
           "y"
          ],
          [
           "2023-04-06",
           "y"
          ],
          [
           "2023-04-07",
           "y"
          ],
          [
           "2023-04-08",
           "y"
          ],
          [
           "2023-04-09",
           "y"
          ],
          [
           "2023-04-10",
           "y"
          ],
          [
           "2023-04-11",
           "y"
          ],
          [
           "2023-04-12",
           "y"
          ],
          [
           "2023-04-13",
           "y"
          ],
          [
           "2023-04-14",
           "y"
          ],
          [
           "2023-04-15",
           "y"
          ],
          [
           "2023-04-16",
           "y"
          ],
          [
           "2023-04-17",
           "y"
          ],
          [
           "2023-04-18",
           "y"
          ],
          [
           "2023-04-19",
           "y"
          ],
          [
           "2023-04-20",
           "y"
          ],
          [
           "2023-04-21",
           "y"
          ],
          [
           "2023-04-22",
           "y"
          ],
          [
           "2023-04-23",
           "y"
          ],
          [
           "2023-04-24",
           "y"
          ],
          [
           "2023-04-25",
           "y"
          ],
          [
           "2023-04-26",
           "y"
          ],
          [
           "2023-04-27",
           "y"
          ],
          [
           "2023-04-28",
           "y"
          ],
          [
           "2023-04-29",
           "y"
          ],
          [
           "2023-04-30",
           "y"
          ],
          [
           "2023-05-01",
           "y"
          ],
          [
           "2023-05-02",
           "y"
          ],
          [
           "2023-05-03",
           "y"
          ],
          [
           "2023-05-04",
           "y"
          ],
          [
           "2023-05-05",
           "y"
          ],
          [
           "2023-05-06",
           "y"
          ],
          [
           "2023-05-07",
           "y"
          ],
          [
           "2023-05-08",
           "y"
          ],
          [
           "2023-05-09",
           "y"
          ],
          [
           "2023-05-10",
           "y"
          ],
          [
           "2023-05-11",
           "y"
          ],
          [
           "2023-05-12",
           "y"
          ],
          [
           "2023-05-13",
           "y"
          ],
          [
           "2023-05-14",
           "y"
          ],
          [
           "2023-05-15",
           "y"
          ],
          [
           "2023-05-16",
           "y"
          ],
          [
           "2023-05-17",
           "y"
          ],
          [
           "2023-05-18",
           "y"
          ],
          [
           "2023-05-19",
           "y"
          ],
          [
           "2023-05-20",
           "y"
          ],
          [
           "2023-05-21",
           "y"
          ],
          [
           "2023-05-22",
           "y"
          ],
          [
           "2023-05-23",
           "y"
          ],
          [
           "2023-05-24",
           "y"
          ],
          [
           "2023-05-25",
           "y"
          ],
          [
           "2023-05-26",
           "y"
          ],
          [
           "2023-05-27",
           "y"
          ],
          [
           "2023-05-28",
           "y"
          ],
          [
           "2023-05-29",
           "y"
          ],
          [
           "2023-05-30",
           "y"
          ],
          [
           "2023-05-31",
           "y"
          ],
          [
           "2023-06-01",
           "y"
          ],
          [
           "2023-06-02",
           "y"
          ],
          [
           "2023-06-03",
           "y"
          ],
          [
           "2023-06-04",
           "y"
          ],
          [
           "2023-06-05",
           "y"
          ],
          [
           "2023-06-06",
           "y"
          ],
          [
           "2023-06-07",
           "y"
          ],
          [
           "2023-06-08",
           "y"
          ],
          [
           "2023-06-09",
           "y"
          ],
          [
           "2023-06-10",
           "y"
          ],
          [
           "2023-06-11",
           "y"
          ],
          [
           "2023-06-12",
           "y"
          ],
          [
           "2023-06-13",
           "y"
          ],
          [
           "2023-06-14",
           "y"
          ],
          [
           "2023-06-15",
           "y"
          ],
          [
           "2023-06-16",
           "y"
          ],
          [
           "2023-06-17",
           "y"
          ],
          [
           "2023-06-18",
           "y"
          ],
          [
           "2023-06-19",
           "y"
          ],
          [
           "2023-06-20",
           "y"
          ],
          [
           "2023-06-21",
           "y"
          ],
          [
           "2023-06-22",
           "y"
          ],
          [
           "2023-06-23",
           "y"
          ],
          [
           "2023-06-24",
           "y"
          ],
          [
           "2023-06-25",
           "y"
          ],
          [
           "2023-06-26",
           "y"
          ],
          [
           "2023-06-27",
           "y"
          ],
          [
           "2023-06-28",
           "y"
          ],
          [
           "2023-06-29",
           "y"
          ],
          [
           "2023-06-30",
           "y"
          ],
          [
           "2023-07-01",
           "y"
          ],
          [
           "2023-07-02",
           "y"
          ],
          [
           "2023-07-03",
           "y"
          ],
          [
           "2023-07-04",
           "y"
          ],
          [
           "2023-07-05",
           "y"
          ],
          [
           "2023-07-06",
           "y"
          ],
          [
           "2023-07-07",
           "y"
          ],
          [
           "2023-07-08",
           "y"
          ],
          [
           "2023-07-09",
           "y"
          ],
          [
           "2023-07-10",
           "y"
          ],
          [
           "2023-07-11",
           "y"
          ],
          [
           "2023-07-12",
           "y"
          ],
          [
           "2023-07-13",
           "y"
          ],
          [
           "2023-07-14",
           "y"
          ],
          [
           "2023-07-15",
           "y"
          ],
          [
           "2023-07-16",
           "y"
          ],
          [
           "2023-07-17",
           "y"
          ],
          [
           "2023-07-18",
           "y"
          ],
          [
           "2023-07-19",
           "y"
          ],
          [
           "2023-07-20",
           "y"
          ],
          [
           "2023-07-21",
           "y"
          ],
          [
           "2023-07-22",
           "y"
          ],
          [
           "2023-07-23",
           "y"
          ],
          [
           "2023-07-24",
           "y"
          ],
          [
           "2023-07-25",
           "y"
          ],
          [
           "2023-07-26",
           "y"
          ],
          [
           "2023-07-27",
           "y"
          ],
          [
           "2023-07-28",
           "y"
          ],
          [
           "2023-07-29",
           "y"
          ],
          [
           "2023-07-30",
           "y"
          ],
          [
           "2023-07-31",
           "y"
          ],
          [
           "2023-08-01",
           "y"
          ],
          [
           "2023-08-02",
           "y"
          ],
          [
           "2023-08-03",
           "y"
          ],
          [
           "2023-08-04",
           "y"
          ],
          [
           "2023-08-05",
           "y"
          ],
          [
           "2023-08-06",
           "y"
          ],
          [
           "2023-08-07",
           "y"
          ],
          [
           "2023-08-08",
           "y"
          ],
          [
           "2023-08-09",
           "y"
          ],
          [
           "2023-08-10",
           "y"
          ],
          [
           "2023-08-11",
           "y"
          ],
          [
           "2023-08-12",
           "y"
          ],
          [
           "2023-08-13",
           "y"
          ],
          [
           "2023-08-14",
           "y"
          ],
          [
           "2023-08-15",
           "y"
          ],
          [
           "2023-08-16",
           "y"
          ],
          [
           "2023-08-17",
           "y"
          ],
          [
           "2023-08-18",
           "y"
          ],
          [
           "2023-08-19",
           "y"
          ],
          [
           "2023-08-20",
           "y"
          ],
          [
           "2023-08-21",
           "y"
          ],
          [
           "2023-08-22",
           "y"
          ],
          [
           "2023-08-23",
           "y"
          ],
          [
           "2023-08-24",
           "y"
          ],
          [
           "2023-08-25",
           "y"
          ],
          [
           "2023-08-26",
           "y"
          ],
          [
           "2023-08-27",
           "y"
          ],
          [
           "2023-08-28",
           "y"
          ],
          [
           "2023-08-29",
           "y"
          ],
          [
           "2023-08-30",
           "y"
          ],
          [
           "2023-08-31",
           "y"
          ],
          [
           "2023-09-01",
           "y"
          ],
          [
           "2023-09-02",
           "y"
          ],
          [
           "2023-09-03",
           "y"
          ],
          [
           "2023-09-04",
           "y"
          ],
          [
           "2023-09-05",
           "y"
          ],
          [
           "2023-09-06",
           "y"
          ],
          [
           "2023-09-07",
           "y"
          ],
          [
           "2023-09-08",
           "y"
          ],
          [
           "2023-09-09",
           "y"
          ],
          [
           "2023-09-10",
           "y"
          ],
          [
           "2023-09-11",
           "y"
          ],
          [
           "2023-09-12",
           "y"
          ],
          [
           "2023-09-13",
           "y"
          ],
          [
           "2023-09-14",
           "y"
          ],
          [
           "2023-09-15",
           "y"
          ],
          [
           "2023-09-16",
           "y"
          ],
          [
           "2023-09-17",
           "y"
          ],
          [
           "2023-09-18",
           "y"
          ],
          [
           "2023-09-19",
           "y"
          ],
          [
           "2023-09-20",
           "y"
          ],
          [
           "2023-09-21",
           "y"
          ],
          [
           "2023-09-22",
           "y"
          ],
          [
           "2023-09-23",
           "y"
          ],
          [
           "2023-09-24",
           "y"
          ],
          [
           "2023-09-25",
           "y"
          ],
          [
           "2023-09-26",
           "y"
          ],
          [
           "2023-09-27",
           "y"
          ],
          [
           "2023-09-28",
           "y"
          ],
          [
           "2023-09-29",
           "y"
          ],
          [
           "2023-09-30",
           "y"
          ],
          [
           "2023-10-01",
           "y"
          ],
          [
           "2023-10-02",
           "y"
          ],
          [
           "2023-10-03",
           "y"
          ],
          [
           "2023-10-04",
           "y"
          ],
          [
           "2023-10-05",
           "y"
          ],
          [
           "2023-10-06",
           "y"
          ],
          [
           "2023-10-07",
           "y"
          ],
          [
           "2023-10-08",
           "y"
          ],
          [
           "2023-10-09",
           "y"
          ],
          [
           "2023-10-10",
           "y"
          ],
          [
           "2023-10-11",
           "y"
          ],
          [
           "2023-10-12",
           "y"
          ],
          [
           "2023-10-13",
           "y"
          ],
          [
           "2023-10-14",
           "y"
          ],
          [
           "2023-10-15",
           "y"
          ],
          [
           "2023-10-16",
           "y"
          ],
          [
           "2023-10-17",
           "y"
          ],
          [
           "2023-10-18",
           "y"
          ],
          [
           "2023-10-19",
           "y"
          ],
          [
           "2023-10-20",
           "y"
          ],
          [
           "2023-10-21",
           "y"
          ],
          [
           "2023-10-22",
           "y"
          ],
          [
           "2023-10-23",
           "y"
          ],
          [
           "2023-10-24",
           "y"
          ],
          [
           "2023-10-25",
           "y"
          ],
          [
           "2023-10-26",
           "y"
          ],
          [
           "2023-10-27",
           "y"
          ],
          [
           "2023-10-28",
           "y"
          ],
          [
           "2023-10-29",
           "y"
          ],
          [
           "2023-10-30",
           "y"
          ],
          [
           "2023-10-31",
           "y"
          ],
          [
           "2023-11-01",
           "y"
          ],
          [
           "2023-11-02",
           "y"
          ],
          [
           "2023-11-03",
           "y"
          ],
          [
           "2023-11-04",
           "y"
          ],
          [
           "2023-11-05",
           "y"
          ],
          [
           "2023-11-06",
           "y"
          ],
          [
           "2023-11-07",
           "y"
          ],
          [
           "2023-11-08",
           "y"
          ],
          [
           "2023-11-09",
           "y"
          ],
          [
           "2023-11-10",
           "y"
          ],
          [
           "2023-11-11",
           "y"
          ],
          [
           "2023-11-12",
           "y"
          ],
          [
           "2023-11-13",
           "y"
          ],
          [
           "2023-11-14",
           "y"
          ],
          [
           "2023-11-15",
           "y"
          ],
          [
           "2023-11-16",
           "y"
          ],
          [
           "2023-11-17",
           "y"
          ],
          [
           "2023-11-18",
           "y"
          ],
          [
           "2023-11-19",
           "y"
          ],
          [
           "2023-11-20",
           "y"
          ],
          [
           "2023-11-21",
           "y"
          ],
          [
           "2023-11-22",
           "y"
          ],
          [
           "2023-11-23",
           "y"
          ],
          [
           "2023-11-24",
           "y"
          ],
          [
           "2023-11-25",
           "y"
          ],
          [
           "2023-11-26",
           "y"
          ],
          [
           "2023-11-27",
           "y"
          ],
          [
           "2023-11-28",
           "y"
          ],
          [
           "2023-11-29",
           "y"
          ],
          [
           "2023-11-30",
           "y"
          ],
          [
           "2023-12-01",
           "y"
          ],
          [
           "2023-12-02",
           "y"
          ],
          [
           "2023-12-03",
           "y"
          ],
          [
           "2023-12-04",
           "y"
          ],
          [
           "2023-12-05",
           "y"
          ],
          [
           "2023-12-06",
           "y"
          ],
          [
           "2023-12-07",
           "y"
          ],
          [
           "2023-12-08",
           "y"
          ],
          [
           "2023-12-09",
           "y"
          ],
          [
           "2023-12-10",
           "y"
          ],
          [
           "2023-12-11",
           "y"
          ],
          [
           "2023-12-12",
           "y"
          ],
          [
           "2023-12-13",
           "y"
          ],
          [
           "2023-12-14",
           "y"
          ],
          [
           "2023-12-15",
           "y"
          ],
          [
           "2023-12-16",
           "y"
          ],
          [
           "2023-12-17",
           "y"
          ],
          [
           "2023-12-18",
           "y"
          ],
          [
           "2023-12-19",
           "y"
          ],
          [
           "2023-12-20",
           "y"
          ],
          [
           "2023-12-21",
           "y"
          ],
          [
           "2023-12-22",
           "y"
          ],
          [
           "2023-12-23",
           "y"
          ],
          [
           "2023-12-24",
           "y"
          ],
          [
           "2023-12-25",
           "y"
          ],
          [
           "2023-12-26",
           "y"
          ],
          [
           "2023-12-27",
           "y"
          ],
          [
           "2023-12-28",
           "y"
          ],
          [
           "2023-12-29",
           "y"
          ],
          [
           "2023-12-30",
           "y"
          ],
          [
           "2023-12-31",
           "y"
          ]
         ],
         "hovertemplate": "%{customdata[0]} <br>Week=%{x} <br>%{customdata[1]}=%{z}",
         "name": "2023",
         "showscale": true,
         "type": "heatmap",
         "x": [
          0,
          1,
          1,
          1,
          1,
          1,
          1,
          1,
          2,
          2,
          2,
          2,
          2,
          2,
          2,
          3,
          3,
          3,
          3,
          3,
          3,
          3,
          4,
          4,
          4,
          4,
          4,
          4,
          4,
          5,
          5,
          5,
          5,
          5,
          5,
          5,
          6,
          6,
          6,
          6,
          6,
          6,
          6,
          7,
          7,
          7,
          7,
          7,
          7,
          7,
          8,
          8,
          8,
          8,
          8,
          8,
          8,
          9,
          9,
          9,
          9,
          9,
          9,
          9,
          10,
          10,
          10,
          10,
          10,
          10,
          10,
          11,
          11,
          11,
          11,
          11,
          11,
          11,
          12,
          12,
          12,
          12,
          12,
          12,
          12,
          13,
          13,
          13,
          13,
          13,
          13,
          13,
          14,
          14,
          14,
          14,
          14,
          14,
          14,
          15,
          15,
          15,
          15,
          15,
          15,
          15,
          16,
          16,
          16,
          16,
          16,
          16,
          16,
          17,
          17,
          17,
          17,
          17,
          17,
          17,
          18,
          18,
          18,
          18,
          18,
          18,
          18,
          19,
          19,
          19,
          19,
          19,
          19,
          19,
          20,
          20,
          20,
          20,
          20,
          20,
          20,
          21,
          21,
          21,
          21,
          21,
          21,
          21,
          22,
          22,
          22,
          22,
          22,
          22,
          22,
          23,
          23,
          23,
          23,
          23,
          23,
          23,
          24,
          24,
          24,
          24,
          24,
          24,
          24,
          25,
          25,
          25,
          25,
          25,
          25,
          25,
          26,
          26,
          26,
          26,
          26,
          26,
          26,
          27,
          27,
          27,
          27,
          27,
          27,
          27,
          28,
          28,
          28,
          28,
          28,
          28,
          28,
          29,
          29,
          29,
          29,
          29,
          29,
          29,
          30,
          30,
          30,
          30,
          30,
          30,
          30,
          31,
          31,
          31,
          31,
          31,
          31,
          31,
          32,
          32,
          32,
          32,
          32,
          32,
          32,
          33,
          33,
          33,
          33,
          33,
          33,
          33,
          34,
          34,
          34,
          34,
          34,
          34,
          34,
          35,
          35,
          35,
          35,
          35,
          35,
          35,
          36,
          36,
          36,
          36,
          36,
          36,
          36,
          37,
          37,
          37,
          37,
          37,
          37,
          37,
          38,
          38,
          38,
          38,
          38,
          38,
          38,
          39,
          39,
          39,
          39,
          39,
          39,
          39,
          40,
          40,
          40,
          40,
          40,
          40,
          40,
          41,
          41,
          41,
          41,
          41,
          41,
          41,
          42,
          42,
          42,
          42,
          42,
          42,
          42,
          43,
          43,
          43,
          43,
          43,
          43,
          43,
          44,
          44,
          44,
          44,
          44,
          44,
          44,
          45,
          45,
          45,
          45,
          45,
          45,
          45,
          46,
          46,
          46,
          46,
          46,
          46,
          46,
          47,
          47,
          47,
          47,
          47,
          47,
          47,
          48,
          48,
          48,
          48,
          48,
          48,
          48,
          49,
          49,
          49,
          49,
          49,
          49,
          49,
          50,
          50,
          50,
          50,
          50,
          50,
          50,
          51,
          51,
          51,
          51,
          51,
          51,
          51,
          52,
          52,
          52,
          52,
          52,
          52,
          52
         ],
         "xaxis": "x",
         "xgap": 1,
         "y": [
          6,
          0,
          1,
          2,
          3,
          4,
          5,
          6,
          0,
          1,
          2,
          3,
          4,
          5,
          6,
          0,
          1,
          2,
          3,
          4,
          5,
          6,
          0,
          1,
          2,
          3,
          4,
          5,
          6,
          0,
          1,
          2,
          3,
          4,
          5,
          6,
          0,
          1,
          2,
          3,
          4,
          5,
          6,
          0,
          1,
          2,
          3,
          4,
          5,
          6,
          0,
          1,
          2,
          3,
          4,
          5,
          6,
          0,
          1,
          2,
          3,
          4,
          5,
          6,
          0,
          1,
          2,
          3,
          4,
          5,
          6,
          0,
          1,
          2,
          3,
          4,
          5,
          6,
          0,
          1,
          2,
          3,
          4,
          5,
          6,
          0,
          1,
          2,
          3,
          4,
          5,
          6,
          0,
          1,
          2,
          3,
          4,
          5,
          6,
          0,
          1,
          2,
          3,
          4,
          5,
          6,
          0,
          1,
          2,
          3,
          4,
          5,
          6,
          0,
          1,
          2,
          3,
          4,
          5,
          6,
          0,
          1,
          2,
          3,
          4,
          5,
          6,
          0,
          1,
          2,
          3,
          4,
          5,
          6,
          0,
          1,
          2,
          3,
          4,
          5,
          6,
          0,
          1,
          2,
          3,
          4,
          5,
          6,
          0,
          1,
          2,
          3,
          4,
          5,
          6,
          0,
          1,
          2,
          3,
          4,
          5,
          6,
          0,
          1,
          2,
          3,
          4,
          5,
          6,
          0,
          1,
          2,
          3,
          4,
          5,
          6,
          0,
          1,
          2,
          3,
          4,
          5,
          6,
          0,
          1,
          2,
          3,
          4,
          5,
          6,
          0,
          1,
          2,
          3,
          4,
          5,
          6,
          0,
          1,
          2,
          3,
          4,
          5,
          6,
          0,
          1,
          2,
          3,
          4,
          5,
          6,
          0,
          1,
          2,
          3,
          4,
          5,
          6,
          0,
          1,
          2,
          3,
          4,
          5,
          6,
          0,
          1,
          2,
          3,
          4,
          5,
          6,
          0,
          1,
          2,
          3,
          4,
          5,
          6,
          0,
          1,
          2,
          3,
          4,
          5,
          6,
          0,
          1,
          2,
          3,
          4,
          5,
          6,
          0,
          1,
          2,
          3,
          4,
          5,
          6,
          0,
          1,
          2,
          3,
          4,
          5,
          6,
          0,
          1,
          2,
          3,
          4,
          5,
          6,
          0,
          1,
          2,
          3,
          4,
          5,
          6,
          0,
          1,
          2,
          3,
          4,
          5,
          6,
          0,
          1,
          2,
          3,
          4,
          5,
          6,
          0,
          1,
          2,
          3,
          4,
          5,
          6,
          0,
          1,
          2,
          3,
          4,
          5,
          6,
          0,
          1,
          2,
          3,
          4,
          5,
          6,
          0,
          1,
          2,
          3,
          4,
          5,
          6,
          0,
          1,
          2,
          3,
          4,
          5,
          6,
          0,
          1,
          2,
          3,
          4,
          5,
          6,
          0,
          1,
          2,
          3,
          4,
          5,
          6,
          0,
          1,
          2,
          3,
          4,
          5,
          6,
          0,
          1,
          2,
          3,
          4,
          5,
          6,
          0,
          1,
          2,
          3,
          4,
          5,
          6
         ],
         "yaxis": "y",
         "ygap": 1,
         "z": [
          0,
          0,
          0,
          0,
          0,
          0,
          0,
          0,
          0,
          0,
          0,
          0,
          0,
          0,
          0,
          0,
          0,
          0,
          0,
          0,
          0,
          0,
          0,
          0,
          0,
          0,
          0,
          0,
          0,
          0,
          0,
          0,
          0,
          0,
          0,
          15.807911565596442,
          0,
          0,
          0,
          0,
          0,
          0,
          0,
          0,
          0,
          17.26601799719043,
          7.047940021135941,
          0,
          0,
          7.088084441140952,
          0,
          0,
          0,
          0,
          0,
          0,
          0,
          6.296752642672421,
          5.871133580234363,
          0,
          3.166090133055983,
          0,
          0,
          10.938861586513799,
          0,
          0,
          0,
          0,
          0,
          0,
          0,
          6.227535704055809,
          0,
          0,
          0,
          0,
          0,
          0,
          4.390842234653029,
          0,
          0,
          0,
          0,
          0,
          0,
          0,
          0,
          0,
          0,
          0,
          0,
          0,
          5.157514443660766,
          0,
          0,
          0,
          0,
          0,
          26.64572664561205,
          0,
          0,
          0,
          0,
          0,
          0,
          0,
          0,
          0,
          0,
          0,
          0,
          0,
          0,
          0,
          0,
          0,
          0,
          0,
          0,
          0,
          0,
          0,
          0,
          0,
          0,
          0,
          0,
          0,
          0,
          0,
          0,
          0,
          0,
          0,
          0,
          7.594186991967019,
          18.600580406811638,
          6.267024469135697,
          0,
          7.675366852048502,
          6.621010312642571,
          0,
          2.797788947364572,
          0,
          0,
          0,
          0,
          0,
          0,
          0,
          0,
          0,
          0,
          5.865864834482099,
          0,
          0,
          6.37348422681398,
          0,
          0,
          0,
          0,
          0,
          0,
          0,
          0,
          0,
          0,
          0,
          0,
          0,
          0,
          0,
          0,
          0,
          0,
          0,
          0,
          0,
          0,
          0,
          0,
          0,
          0,
          0,
          0,
          0,
          0,
          0,
          0,
          0,
          0,
          0,
          0,
          0,
          0,
          0,
          0,
          0,
          0,
          0,
          0,
          0,
          0,
          0,
          0,
          0,
          0,
          0,
          0,
          0,
          0,
          0,
          0,
          0,
          0,
          0,
          0,
          0,
          0,
          0,
          0,
          12.947064817984991,
          0,
          5.643590693692915,
          0,
          0,
          0,
          0,
          0,
          30.59720187529034,
          6.022180020057413,
          0,
          0,
          0,
          0,
          0,
          0,
          0,
          0,
          0,
          3.7029410454647316,
          0,
          0,
          0,
          0,
          0,
          0,
          0,
          0,
          0,
          0,
          0,
          16.3215687116691,
          0,
          0,
          0,
          0,
          0,
          0,
          27.838121131890297,
          0,
          0,
          0,
          0,
          0,
          0,
          0,
          0,
          0,
          0,
          0,
          0,
          0,
          0,
          0,
          0,
          0,
          0,
          0,
          0,
          0,
          0,
          0,
          0,
          0,
          17.236192996733834,
          0,
          0,
          0,
          0,
          0,
          0,
          0,
          0,
          0,
          0,
          0,
          0,
          0,
          0,
          0,
          0,
          0,
          0,
          0,
          0,
          0,
          0,
          0,
          0,
          0,
          0,
          0,
          0,
          0,
          0,
          0,
          0,
          0,
          0,
          0,
          0,
          0,
          0,
          0,
          0,
          0,
          0,
          0,
          0,
          0,
          0,
          0,
          0,
          0,
          0,
          0,
          0,
          0,
          0,
          0,
          0,
          0,
          0,
          0,
          0,
          0,
          0,
          0,
          0,
          0,
          0,
          0,
          0,
          0,
          0,
          0,
          0,
          0,
          0,
          0,
          0,
          0,
          0,
          0
         ],
         "zmax": 30.59720187529034,
         "zmin": 0
        },
        {
         "hoverinfo": "skip",
         "line": {
          "color": "#000000",
          "width": 4
         },
         "mode": "lines",
         "type": "scatter",
         "x": [
          -0.5,
          -0.5
         ],
         "xaxis": "x",
         "y": [
          5.5,
          6.5
         ],
         "yaxis": "y"
        },
        {
         "hoverinfo": "skip",
         "line": {
          "color": "#000000",
          "width": 4
         },
         "mode": "lines",
         "type": "scatter",
         "x": [
          -0.5,
          0.5
         ],
         "xaxis": "x",
         "y": [
          5.5,
          5.5
         ],
         "yaxis": "y"
        },
        {
         "hoverinfo": "skip",
         "line": {
          "color": "#000000",
          "width": 4
         },
         "mode": "lines",
         "type": "scatter",
         "x": [
          0.5,
          0.5
         ],
         "xaxis": "x",
         "y": [
          5.5,
          -0.5
         ],
         "yaxis": "y"
        },
        {
         "hoverinfo": "skip",
         "line": {
          "color": "#000000",
          "width": 4
         },
         "mode": "lines",
         "type": "scatter",
         "x": [
          4.5,
          4.5
         ],
         "xaxis": "x",
         "y": [
          1.5,
          6.5
         ],
         "yaxis": "y"
        },
        {
         "hoverinfo": "skip",
         "line": {
          "color": "#000000",
          "width": 4
         },
         "mode": "lines",
         "type": "scatter",
         "x": [
          4.5,
          5.5
         ],
         "xaxis": "x",
         "y": [
          1.5,
          1.5
         ],
         "yaxis": "y"
        },
        {
         "hoverinfo": "skip",
         "line": {
          "color": "#000000",
          "width": 4
         },
         "mode": "lines",
         "type": "scatter",
         "x": [
          5.5,
          5.5
         ],
         "xaxis": "x",
         "y": [
          1.5,
          -0.5
         ],
         "yaxis": "y"
        },
        {
         "hoverinfo": "skip",
         "line": {
          "color": "#000000",
          "width": 4
         },
         "mode": "lines",
         "type": "scatter",
         "x": [
          8.5,
          8.5
         ],
         "xaxis": "x",
         "y": [
          1.5,
          6.5
         ],
         "yaxis": "y"
        },
        {
         "hoverinfo": "skip",
         "line": {
          "color": "#000000",
          "width": 4
         },
         "mode": "lines",
         "type": "scatter",
         "x": [
          8.5,
          9.5
         ],
         "xaxis": "x",
         "y": [
          1.5,
          1.5
         ],
         "yaxis": "y"
        },
        {
         "hoverinfo": "skip",
         "line": {
          "color": "#000000",
          "width": 4
         },
         "mode": "lines",
         "type": "scatter",
         "x": [
          9.5,
          9.5
         ],
         "xaxis": "x",
         "y": [
          1.5,
          -0.5
         ],
         "yaxis": "y"
        },
        {
         "hoverinfo": "skip",
         "line": {
          "color": "#000000",
          "width": 4
         },
         "mode": "lines",
         "type": "scatter",
         "x": [
          12.5,
          12.5
         ],
         "xaxis": "x",
         "y": [
          4.5,
          6.5
         ],
         "yaxis": "y"
        },
        {
         "hoverinfo": "skip",
         "line": {
          "color": "#000000",
          "width": 4
         },
         "mode": "lines",
         "type": "scatter",
         "x": [
          12.5,
          13.5
         ],
         "xaxis": "x",
         "y": [
          4.5,
          4.5
         ],
         "yaxis": "y"
        },
        {
         "hoverinfo": "skip",
         "line": {
          "color": "#000000",
          "width": 4
         },
         "mode": "lines",
         "type": "scatter",
         "x": [
          13.5,
          13.5
         ],
         "xaxis": "x",
         "y": [
          4.5,
          -0.5
         ],
         "yaxis": "y"
        },
        {
         "hoverinfo": "skip",
         "line": {
          "color": "#000000",
          "width": 4
         },
         "mode": "lines",
         "type": "scatter",
         "x": [
          17.5,
          17.5
         ],
         "xaxis": "x",
         "y": [
          -0.5,
          6.5
         ],
         "yaxis": "y"
        },
        {
         "hoverinfo": "skip",
         "line": {
          "color": "#000000",
          "width": 4
         },
         "mode": "lines",
         "type": "scatter",
         "x": [
          21.5,
          21.5
         ],
         "xaxis": "x",
         "y": [
          2.5,
          6.5
         ],
         "yaxis": "y"
        },
        {
         "hoverinfo": "skip",
         "line": {
          "color": "#000000",
          "width": 4
         },
         "mode": "lines",
         "type": "scatter",
         "x": [
          21.5,
          22.5
         ],
         "xaxis": "x",
         "y": [
          2.5,
          2.5
         ],
         "yaxis": "y"
        },
        {
         "hoverinfo": "skip",
         "line": {
          "color": "#000000",
          "width": 4
         },
         "mode": "lines",
         "type": "scatter",
         "x": [
          22.5,
          22.5
         ],
         "xaxis": "x",
         "y": [
          2.5,
          -0.5
         ],
         "yaxis": "y"
        },
        {
         "hoverinfo": "skip",
         "line": {
          "color": "#000000",
          "width": 4
         },
         "mode": "lines",
         "type": "scatter",
         "x": [
          25.5,
          25.5
         ],
         "xaxis": "x",
         "y": [
          4.5,
          6.5
         ],
         "yaxis": "y"
        },
        {
         "hoverinfo": "skip",
         "line": {
          "color": "#000000",
          "width": 4
         },
         "mode": "lines",
         "type": "scatter",
         "x": [
          25.5,
          26.5
         ],
         "xaxis": "x",
         "y": [
          4.5,
          4.5
         ],
         "yaxis": "y"
        },
        {
         "hoverinfo": "skip",
         "line": {
          "color": "#000000",
          "width": 4
         },
         "mode": "lines",
         "type": "scatter",
         "x": [
          26.5,
          26.5
         ],
         "xaxis": "x",
         "y": [
          4.5,
          -0.5
         ],
         "yaxis": "y"
        },
        {
         "hoverinfo": "skip",
         "line": {
          "color": "#000000",
          "width": 4
         },
         "mode": "lines",
         "type": "scatter",
         "x": [
          30.5,
          30.5
         ],
         "xaxis": "x",
         "y": [
          0.5,
          6.5
         ],
         "yaxis": "y"
        },
        {
         "hoverinfo": "skip",
         "line": {
          "color": "#000000",
          "width": 4
         },
         "mode": "lines",
         "type": "scatter",
         "x": [
          30.5,
          31.5
         ],
         "xaxis": "x",
         "y": [
          0.5,
          0.5
         ],
         "yaxis": "y"
        },
        {
         "hoverinfo": "skip",
         "line": {
          "color": "#000000",
          "width": 4
         },
         "mode": "lines",
         "type": "scatter",
         "x": [
          31.5,
          31.5
         ],
         "xaxis": "x",
         "y": [
          0.5,
          -0.5
         ],
         "yaxis": "y"
        },
        {
         "hoverinfo": "skip",
         "line": {
          "color": "#000000",
          "width": 4
         },
         "mode": "lines",
         "type": "scatter",
         "x": [
          34.5,
          34.5
         ],
         "xaxis": "x",
         "y": [
          3.5,
          6.5
         ],
         "yaxis": "y"
        },
        {
         "hoverinfo": "skip",
         "line": {
          "color": "#000000",
          "width": 4
         },
         "mode": "lines",
         "type": "scatter",
         "x": [
          34.5,
          35.5
         ],
         "xaxis": "x",
         "y": [
          3.5,
          3.5
         ],
         "yaxis": "y"
        },
        {
         "hoverinfo": "skip",
         "line": {
          "color": "#000000",
          "width": 4
         },
         "mode": "lines",
         "type": "scatter",
         "x": [
          35.5,
          35.5
         ],
         "xaxis": "x",
         "y": [
          3.5,
          -0.5
         ],
         "yaxis": "y"
        },
        {
         "hoverinfo": "skip",
         "line": {
          "color": "#000000",
          "width": 4
         },
         "mode": "lines",
         "type": "scatter",
         "x": [
          38.5,
          38.5
         ],
         "xaxis": "x",
         "y": [
          5.5,
          6.5
         ],
         "yaxis": "y"
        },
        {
         "hoverinfo": "skip",
         "line": {
          "color": "#000000",
          "width": 4
         },
         "mode": "lines",
         "type": "scatter",
         "x": [
          38.5,
          39.5
         ],
         "xaxis": "x",
         "y": [
          5.5,
          5.5
         ],
         "yaxis": "y"
        },
        {
         "hoverinfo": "skip",
         "line": {
          "color": "#000000",
          "width": 4
         },
         "mode": "lines",
         "type": "scatter",
         "x": [
          39.5,
          39.5
         ],
         "xaxis": "x",
         "y": [
          5.5,
          -0.5
         ],
         "yaxis": "y"
        },
        {
         "hoverinfo": "skip",
         "line": {
          "color": "#000000",
          "width": 4
         },
         "mode": "lines",
         "type": "scatter",
         "x": [
          43.5,
          43.5
         ],
         "xaxis": "x",
         "y": [
          1.5,
          6.5
         ],
         "yaxis": "y"
        },
        {
         "hoverinfo": "skip",
         "line": {
          "color": "#000000",
          "width": 4
         },
         "mode": "lines",
         "type": "scatter",
         "x": [
          43.5,
          44.5
         ],
         "xaxis": "x",
         "y": [
          1.5,
          1.5
         ],
         "yaxis": "y"
        },
        {
         "hoverinfo": "skip",
         "line": {
          "color": "#000000",
          "width": 4
         },
         "mode": "lines",
         "type": "scatter",
         "x": [
          44.5,
          44.5
         ],
         "xaxis": "x",
         "y": [
          1.5,
          -0.5
         ],
         "yaxis": "y"
        },
        {
         "hoverinfo": "skip",
         "line": {
          "color": "#000000",
          "width": 4
         },
         "mode": "lines",
         "type": "scatter",
         "x": [
          47.5,
          47.5
         ],
         "xaxis": "x",
         "y": [
          3.5,
          6.5
         ],
         "yaxis": "y"
        },
        {
         "hoverinfo": "skip",
         "line": {
          "color": "#000000",
          "width": 4
         },
         "mode": "lines",
         "type": "scatter",
         "x": [
          47.5,
          48.5
         ],
         "xaxis": "x",
         "y": [
          3.5,
          3.5
         ],
         "yaxis": "y"
        },
        {
         "hoverinfo": "skip",
         "line": {
          "color": "#000000",
          "width": 4
         },
         "mode": "lines",
         "type": "scatter",
         "x": [
          48.5,
          48.5
         ],
         "xaxis": "x",
         "y": [
          3.5,
          -0.5
         ],
         "yaxis": "y"
        }
       ],
       "layout": {
        "font": {
         "color": "#fff",
         "size": 10
        },
        "height": 225,
        "margin": {
         "b": 20,
         "t": 20
        },
        "paper_bgcolor": "#333",
        "plot_bgcolor": "#333",
        "showlegend": false,
        "template": {
         "data": {
          "bar": [
           {
            "error_x": {
             "color": "#2a3f5f"
            },
            "error_y": {
             "color": "#2a3f5f"
            },
            "marker": {
             "line": {
              "color": "#E5ECF6",
              "width": 0.5
             },
             "pattern": {
              "fillmode": "overlay",
              "size": 10,
              "solidity": 0.2
             }
            },
            "type": "bar"
           }
          ],
          "barpolar": [
           {
            "marker": {
             "line": {
              "color": "#E5ECF6",
              "width": 0.5
             },
             "pattern": {
              "fillmode": "overlay",
              "size": 10,
              "solidity": 0.2
             }
            },
            "type": "barpolar"
           }
          ],
          "carpet": [
           {
            "aaxis": {
             "endlinecolor": "#2a3f5f",
             "gridcolor": "white",
             "linecolor": "white",
             "minorgridcolor": "white",
             "startlinecolor": "#2a3f5f"
            },
            "baxis": {
             "endlinecolor": "#2a3f5f",
             "gridcolor": "white",
             "linecolor": "white",
             "minorgridcolor": "white",
             "startlinecolor": "#2a3f5f"
            },
            "type": "carpet"
           }
          ],
          "choropleth": [
           {
            "colorbar": {
             "outlinewidth": 0,
             "ticks": ""
            },
            "type": "choropleth"
           }
          ],
          "contour": [
           {
            "colorbar": {
             "outlinewidth": 0,
             "ticks": ""
            },
            "colorscale": [
             [
              0,
              "#0d0887"
             ],
             [
              0.1111111111111111,
              "#46039f"
             ],
             [
              0.2222222222222222,
              "#7201a8"
             ],
             [
              0.3333333333333333,
              "#9c179e"
             ],
             [
              0.4444444444444444,
              "#bd3786"
             ],
             [
              0.5555555555555556,
              "#d8576b"
             ],
             [
              0.6666666666666666,
              "#ed7953"
             ],
             [
              0.7777777777777778,
              "#fb9f3a"
             ],
             [
              0.8888888888888888,
              "#fdca26"
             ],
             [
              1,
              "#f0f921"
             ]
            ],
            "type": "contour"
           }
          ],
          "contourcarpet": [
           {
            "colorbar": {
             "outlinewidth": 0,
             "ticks": ""
            },
            "type": "contourcarpet"
           }
          ],
          "heatmap": [
           {
            "colorbar": {
             "outlinewidth": 0,
             "ticks": ""
            },
            "colorscale": [
             [
              0,
              "#0d0887"
             ],
             [
              0.1111111111111111,
              "#46039f"
             ],
             [
              0.2222222222222222,
              "#7201a8"
             ],
             [
              0.3333333333333333,
              "#9c179e"
             ],
             [
              0.4444444444444444,
              "#bd3786"
             ],
             [
              0.5555555555555556,
              "#d8576b"
             ],
             [
              0.6666666666666666,
              "#ed7953"
             ],
             [
              0.7777777777777778,
              "#fb9f3a"
             ],
             [
              0.8888888888888888,
              "#fdca26"
             ],
             [
              1,
              "#f0f921"
             ]
            ],
            "type": "heatmap"
           }
          ],
          "heatmapgl": [
           {
            "colorbar": {
             "outlinewidth": 0,
             "ticks": ""
            },
            "colorscale": [
             [
              0,
              "#0d0887"
             ],
             [
              0.1111111111111111,
              "#46039f"
             ],
             [
              0.2222222222222222,
              "#7201a8"
             ],
             [
              0.3333333333333333,
              "#9c179e"
             ],
             [
              0.4444444444444444,
              "#bd3786"
             ],
             [
              0.5555555555555556,
              "#d8576b"
             ],
             [
              0.6666666666666666,
              "#ed7953"
             ],
             [
              0.7777777777777778,
              "#fb9f3a"
             ],
             [
              0.8888888888888888,
              "#fdca26"
             ],
             [
              1,
              "#f0f921"
             ]
            ],
            "type": "heatmapgl"
           }
          ],
          "histogram": [
           {
            "marker": {
             "pattern": {
              "fillmode": "overlay",
              "size": 10,
              "solidity": 0.2
             }
            },
            "type": "histogram"
           }
          ],
          "histogram2d": [
           {
            "colorbar": {
             "outlinewidth": 0,
             "ticks": ""
            },
            "colorscale": [
             [
              0,
              "#0d0887"
             ],
             [
              0.1111111111111111,
              "#46039f"
             ],
             [
              0.2222222222222222,
              "#7201a8"
             ],
             [
              0.3333333333333333,
              "#9c179e"
             ],
             [
              0.4444444444444444,
              "#bd3786"
             ],
             [
              0.5555555555555556,
              "#d8576b"
             ],
             [
              0.6666666666666666,
              "#ed7953"
             ],
             [
              0.7777777777777778,
              "#fb9f3a"
             ],
             [
              0.8888888888888888,
              "#fdca26"
             ],
             [
              1,
              "#f0f921"
             ]
            ],
            "type": "histogram2d"
           }
          ],
          "histogram2dcontour": [
           {
            "colorbar": {
             "outlinewidth": 0,
             "ticks": ""
            },
            "colorscale": [
             [
              0,
              "#0d0887"
             ],
             [
              0.1111111111111111,
              "#46039f"
             ],
             [
              0.2222222222222222,
              "#7201a8"
             ],
             [
              0.3333333333333333,
              "#9c179e"
             ],
             [
              0.4444444444444444,
              "#bd3786"
             ],
             [
              0.5555555555555556,
              "#d8576b"
             ],
             [
              0.6666666666666666,
              "#ed7953"
             ],
             [
              0.7777777777777778,
              "#fb9f3a"
             ],
             [
              0.8888888888888888,
              "#fdca26"
             ],
             [
              1,
              "#f0f921"
             ]
            ],
            "type": "histogram2dcontour"
           }
          ],
          "mesh3d": [
           {
            "colorbar": {
             "outlinewidth": 0,
             "ticks": ""
            },
            "type": "mesh3d"
           }
          ],
          "parcoords": [
           {
            "line": {
             "colorbar": {
              "outlinewidth": 0,
              "ticks": ""
             }
            },
            "type": "parcoords"
           }
          ],
          "pie": [
           {
            "automargin": true,
            "type": "pie"
           }
          ],
          "scatter": [
           {
            "fillpattern": {
             "fillmode": "overlay",
             "size": 10,
             "solidity": 0.2
            },
            "type": "scatter"
           }
          ],
          "scatter3d": [
           {
            "line": {
             "colorbar": {
              "outlinewidth": 0,
              "ticks": ""
             }
            },
            "marker": {
             "colorbar": {
              "outlinewidth": 0,
              "ticks": ""
             }
            },
            "type": "scatter3d"
           }
          ],
          "scattercarpet": [
           {
            "marker": {
             "colorbar": {
              "outlinewidth": 0,
              "ticks": ""
             }
            },
            "type": "scattercarpet"
           }
          ],
          "scattergeo": [
           {
            "marker": {
             "colorbar": {
              "outlinewidth": 0,
              "ticks": ""
             }
            },
            "type": "scattergeo"
           }
          ],
          "scattergl": [
           {
            "marker": {
             "colorbar": {
              "outlinewidth": 0,
              "ticks": ""
             }
            },
            "type": "scattergl"
           }
          ],
          "scattermapbox": [
           {
            "marker": {
             "colorbar": {
              "outlinewidth": 0,
              "ticks": ""
             }
            },
            "type": "scattermapbox"
           }
          ],
          "scatterpolar": [
           {
            "marker": {
             "colorbar": {
              "outlinewidth": 0,
              "ticks": ""
             }
            },
            "type": "scatterpolar"
           }
          ],
          "scatterpolargl": [
           {
            "marker": {
             "colorbar": {
              "outlinewidth": 0,
              "ticks": ""
             }
            },
            "type": "scatterpolargl"
           }
          ],
          "scatterternary": [
           {
            "marker": {
             "colorbar": {
              "outlinewidth": 0,
              "ticks": ""
             }
            },
            "type": "scatterternary"
           }
          ],
          "surface": [
           {
            "colorbar": {
             "outlinewidth": 0,
             "ticks": ""
            },
            "colorscale": [
             [
              0,
              "#0d0887"
             ],
             [
              0.1111111111111111,
              "#46039f"
             ],
             [
              0.2222222222222222,
              "#7201a8"
             ],
             [
              0.3333333333333333,
              "#9c179e"
             ],
             [
              0.4444444444444444,
              "#bd3786"
             ],
             [
              0.5555555555555556,
              "#d8576b"
             ],
             [
              0.6666666666666666,
              "#ed7953"
             ],
             [
              0.7777777777777778,
              "#fb9f3a"
             ],
             [
              0.8888888888888888,
              "#fdca26"
             ],
             [
              1,
              "#f0f921"
             ]
            ],
            "type": "surface"
           }
          ],
          "table": [
           {
            "cells": {
             "fill": {
              "color": "#EBF0F8"
             },
             "line": {
              "color": "white"
             }
            },
            "header": {
             "fill": {
              "color": "#C8D4E3"
             },
             "line": {
              "color": "white"
             }
            },
            "type": "table"
           }
          ]
         },
         "layout": {
          "annotationdefaults": {
           "arrowcolor": "#2a3f5f",
           "arrowhead": 0,
           "arrowwidth": 1
          },
          "autotypenumbers": "strict",
          "coloraxis": {
           "colorbar": {
            "outlinewidth": 0,
            "ticks": ""
           }
          },
          "colorscale": {
           "diverging": [
            [
             0,
             "#8e0152"
            ],
            [
             0.1,
             "#c51b7d"
            ],
            [
             0.2,
             "#de77ae"
            ],
            [
             0.3,
             "#f1b6da"
            ],
            [
             0.4,
             "#fde0ef"
            ],
            [
             0.5,
             "#f7f7f7"
            ],
            [
             0.6,
             "#e6f5d0"
            ],
            [
             0.7,
             "#b8e186"
            ],
            [
             0.8,
             "#7fbc41"
            ],
            [
             0.9,
             "#4d9221"
            ],
            [
             1,
             "#276419"
            ]
           ],
           "sequential": [
            [
             0,
             "#0d0887"
            ],
            [
             0.1111111111111111,
             "#46039f"
            ],
            [
             0.2222222222222222,
             "#7201a8"
            ],
            [
             0.3333333333333333,
             "#9c179e"
            ],
            [
             0.4444444444444444,
             "#bd3786"
            ],
            [
             0.5555555555555556,
             "#d8576b"
            ],
            [
             0.6666666666666666,
             "#ed7953"
            ],
            [
             0.7777777777777778,
             "#fb9f3a"
            ],
            [
             0.8888888888888888,
             "#fdca26"
            ],
            [
             1,
             "#f0f921"
            ]
           ],
           "sequentialminus": [
            [
             0,
             "#0d0887"
            ],
            [
             0.1111111111111111,
             "#46039f"
            ],
            [
             0.2222222222222222,
             "#7201a8"
            ],
            [
             0.3333333333333333,
             "#9c179e"
            ],
            [
             0.4444444444444444,
             "#bd3786"
            ],
            [
             0.5555555555555556,
             "#d8576b"
            ],
            [
             0.6666666666666666,
             "#ed7953"
            ],
            [
             0.7777777777777778,
             "#fb9f3a"
            ],
            [
             0.8888888888888888,
             "#fdca26"
            ],
            [
             1,
             "#f0f921"
            ]
           ]
          },
          "colorway": [
           "#636efa",
           "#EF553B",
           "#00cc96",
           "#ab63fa",
           "#FFA15A",
           "#19d3f3",
           "#FF6692",
           "#B6E880",
           "#FF97FF",
           "#FECB52"
          ],
          "font": {
           "color": "#2a3f5f"
          },
          "geo": {
           "bgcolor": "white",
           "lakecolor": "white",
           "landcolor": "#E5ECF6",
           "showlakes": true,
           "showland": true,
           "subunitcolor": "white"
          },
          "hoverlabel": {
           "align": "left"
          },
          "hovermode": "closest",
          "mapbox": {
           "style": "light"
          },
          "paper_bgcolor": "white",
          "plot_bgcolor": "#E5ECF6",
          "polar": {
           "angularaxis": {
            "gridcolor": "white",
            "linecolor": "white",
            "ticks": ""
           },
           "bgcolor": "#E5ECF6",
           "radialaxis": {
            "gridcolor": "white",
            "linecolor": "white",
            "ticks": ""
           }
          },
          "scene": {
           "xaxis": {
            "backgroundcolor": "#E5ECF6",
            "gridcolor": "white",
            "gridwidth": 2,
            "linecolor": "white",
            "showbackground": true,
            "ticks": "",
            "zerolinecolor": "white"
           },
           "yaxis": {
            "backgroundcolor": "#E5ECF6",
            "gridcolor": "white",
            "gridwidth": 2,
            "linecolor": "white",
            "showbackground": true,
            "ticks": "",
            "zerolinecolor": "white"
           },
           "zaxis": {
            "backgroundcolor": "#E5ECF6",
            "gridcolor": "white",
            "gridwidth": 2,
            "linecolor": "white",
            "showbackground": true,
            "ticks": "",
            "zerolinecolor": "white"
           }
          },
          "shapedefaults": {
           "line": {
            "color": "#2a3f5f"
           }
          },
          "ternary": {
           "aaxis": {
            "gridcolor": "white",
            "linecolor": "white",
            "ticks": ""
           },
           "baxis": {
            "gridcolor": "white",
            "linecolor": "white",
            "ticks": ""
           },
           "bgcolor": "#E5ECF6",
           "caxis": {
            "gridcolor": "white",
            "linecolor": "white",
            "ticks": ""
           }
          },
          "title": {
           "x": 0.05
          },
          "xaxis": {
           "automargin": true,
           "gridcolor": "white",
           "linecolor": "white",
           "ticks": "",
           "title": {
            "standoff": 15
           },
           "zerolinecolor": "white",
           "zerolinewidth": 2
          },
          "yaxis": {
           "automargin": true,
           "gridcolor": "white",
           "linecolor": "white",
           "ticks": "",
           "title": {
            "standoff": 15
           },
           "zerolinecolor": "white",
           "zerolinewidth": 2
          }
         }
        },
        "title": {
         "text": "Ride Mileage 2023"
        },
        "xaxis": {
         "anchor": "y",
         "domain": [
          0,
          1
         ],
         "showgrid": false,
         "showline": false,
         "tickmode": "array",
         "ticktext": [
          "January",
          "February",
          "March",
          "April",
          "May",
          "June",
          "July",
          "August",
          "September",
          "October",
          "November",
          "December"
         ],
         "tickvals": [
          1.5,
          5.909090909090909,
          10.318181818181818,
          14.727272727272727,
          19.136363636363637,
          23.545454545454547,
          27.954545454545453,
          32.36363636363636,
          36.77272727272727,
          41.18181818181818,
          45.59090909090909,
          50
         ],
         "zeroline": false
        },
        "yaxis": {
         "anchor": "x",
         "autorange": "reversed",
         "domain": [
          0,
          1
         ],
         "showgrid": false,
         "showline": false,
         "tickmode": "array",
         "ticktext": [
          "Mon",
          "Tue",
          "Wed",
          "Thu",
          "Fri",
          "Sat",
          "Sun"
         ],
         "tickvals": [
          0,
          1,
          2,
          3,
          4,
          5,
          6
         ],
         "zeroline": false
        }
       }
      }
     },
     "metadata": {},
     "output_type": "display_data"
    }
   ],
   "source": [
    "fig = calplot(df_activity_2023, x='ride_date', y='total_distance_mi', colorscale=colorscale, \n",
    "              dark_theme=True, gap=1, month_lines_width=4, month_lines_color='#000000',\n",
    "            showscale=True, total_height=225, title='Ride Mileage 2023')\n",
    "fig.show()"
   ]
  },
  {
   "cell_type": "code",
   "execution_count": 50,
   "id": "f4407489",
   "metadata": {},
   "outputs": [
    {
     "data": {
      "application/vnd.plotly.v1+json": {
       "config": {
        "plotlyServerURL": "https://plot.ly"
       },
       "data": [
        {
         "colorscale": [
          [
           0,
           "#888888"
          ],
          [
           0.1111111111111111,
           "#eaf7af"
          ],
          [
           0.2222222222222222,
           "#d2eda0"
          ],
          [
           0.3333333333333333,
           "#b1df90"
          ],
          [
           0.4444444444444444,
           "#8bce81"
          ],
          [
           0.5555555555555556,
           "#64bc6f"
          ],
          [
           0.6666666666666666,
           "#3fa85b"
          ],
          [
           0.7777777777777777,
           "#288a47"
          ],
          [
           0.8888888888888888,
           "#10743c"
          ],
          [
           1,
           "#005e33"
          ]
         ],
         "customdata": [
          [
           "2022-01-01",
           "y"
          ],
          [
           "2022-01-02",
           "y"
          ],
          [
           "2022-01-03",
           "y"
          ],
          [
           "2022-01-04",
           "y"
          ],
          [
           "2022-01-05",
           "y"
          ],
          [
           "2022-01-06",
           "y"
          ],
          [
           "2022-01-07",
           "y"
          ],
          [
           "2022-01-08",
           "y"
          ],
          [
           "2022-01-09",
           "y"
          ],
          [
           "2022-01-10",
           "y"
          ],
          [
           "2022-01-11",
           "y"
          ],
          [
           "2022-01-12",
           "y"
          ],
          [
           "2022-01-13",
           "y"
          ],
          [
           "2022-01-14",
           "y"
          ],
          [
           "2022-01-15",
           "y"
          ],
          [
           "2022-01-16",
           "y"
          ],
          [
           "2022-01-17",
           "y"
          ],
          [
           "2022-01-18",
           "y"
          ],
          [
           "2022-01-19",
           "y"
          ],
          [
           "2022-01-20",
           "y"
          ],
          [
           "2022-01-21",
           "y"
          ],
          [
           "2022-01-22",
           "y"
          ],
          [
           "2022-01-23",
           "y"
          ],
          [
           "2022-01-24",
           "y"
          ],
          [
           "2022-01-25",
           "y"
          ],
          [
           "2022-01-26",
           "y"
          ],
          [
           "2022-01-27",
           "y"
          ],
          [
           "2022-01-28",
           "y"
          ],
          [
           "2022-01-29",
           "y"
          ],
          [
           "2022-01-30",
           "y"
          ],
          [
           "2022-01-31",
           "y"
          ],
          [
           "2022-02-01",
           "y"
          ],
          [
           "2022-02-02",
           "y"
          ],
          [
           "2022-02-03",
           "y"
          ],
          [
           "2022-02-04",
           "y"
          ],
          [
           "2022-02-05",
           "y"
          ],
          [
           "2022-02-06",
           "y"
          ],
          [
           "2022-02-07",
           "y"
          ],
          [
           "2022-02-08",
           "y"
          ],
          [
           "2022-02-09",
           "y"
          ],
          [
           "2022-02-10",
           "y"
          ],
          [
           "2022-02-11",
           "y"
          ],
          [
           "2022-02-12",
           "y"
          ],
          [
           "2022-02-13",
           "y"
          ],
          [
           "2022-02-14",
           "y"
          ],
          [
           "2022-02-15",
           "y"
          ],
          [
           "2022-02-16",
           "y"
          ],
          [
           "2022-02-17",
           "y"
          ],
          [
           "2022-02-18",
           "y"
          ],
          [
           "2022-02-19",
           "y"
          ],
          [
           "2022-02-20",
           "y"
          ],
          [
           "2022-02-21",
           "y"
          ],
          [
           "2022-02-22",
           "y"
          ],
          [
           "2022-02-23",
           "y"
          ],
          [
           "2022-02-24",
           "y"
          ],
          [
           "2022-02-25",
           "y"
          ],
          [
           "2022-02-26",
           "y"
          ],
          [
           "2022-02-27",
           "y"
          ],
          [
           "2022-02-28",
           "y"
          ],
          [
           "2022-03-01",
           "y"
          ],
          [
           "2022-03-02",
           "y"
          ],
          [
           "2022-03-03",
           "y"
          ],
          [
           "2022-03-04",
           "y"
          ],
          [
           "2022-03-05",
           "y"
          ],
          [
           "2022-03-06",
           "y"
          ],
          [
           "2022-03-07",
           "y"
          ],
          [
           "2022-03-08",
           "y"
          ],
          [
           "2022-03-09",
           "y"
          ],
          [
           "2022-03-10",
           "y"
          ],
          [
           "2022-03-11",
           "y"
          ],
          [
           "2022-03-12",
           "y"
          ],
          [
           "2022-03-13",
           "y"
          ],
          [
           "2022-03-14",
           "y"
          ],
          [
           "2022-03-15",
           "y"
          ],
          [
           "2022-03-16",
           "y"
          ],
          [
           "2022-03-17",
           "y"
          ],
          [
           "2022-03-18",
           "y"
          ],
          [
           "2022-03-19",
           "y"
          ],
          [
           "2022-03-20",
           "y"
          ],
          [
           "2022-03-21",
           "y"
          ],
          [
           "2022-03-22",
           "y"
          ],
          [
           "2022-03-23",
           "y"
          ],
          [
           "2022-03-24",
           "y"
          ],
          [
           "2022-03-25",
           "y"
          ],
          [
           "2022-03-26",
           "y"
          ],
          [
           "2022-03-27",
           "y"
          ],
          [
           "2022-03-28",
           "y"
          ],
          [
           "2022-03-29",
           "y"
          ],
          [
           "2022-03-30",
           "y"
          ],
          [
           "2022-03-31",
           "y"
          ],
          [
           "2022-04-01",
           "y"
          ],
          [
           "2022-04-02",
           "y"
          ],
          [
           "2022-04-03",
           "y"
          ],
          [
           "2022-04-04",
           "y"
          ],
          [
           "2022-04-05",
           "y"
          ],
          [
           "2022-04-06",
           "y"
          ],
          [
           "2022-04-07",
           "y"
          ],
          [
           "2022-04-08",
           "y"
          ],
          [
           "2022-04-09",
           "y"
          ],
          [
           "2022-04-10",
           "y"
          ],
          [
           "2022-04-11",
           "y"
          ],
          [
           "2022-04-12",
           "y"
          ],
          [
           "2022-04-13",
           "y"
          ],
          [
           "2022-04-14",
           "y"
          ],
          [
           "2022-04-15",
           "y"
          ],
          [
           "2022-04-16",
           "y"
          ],
          [
           "2022-04-17",
           "y"
          ],
          [
           "2022-04-18",
           "y"
          ],
          [
           "2022-04-19",
           "y"
          ],
          [
           "2022-04-20",
           "y"
          ],
          [
           "2022-04-21",
           "y"
          ],
          [
           "2022-04-22",
           "y"
          ],
          [
           "2022-04-23",
           "y"
          ],
          [
           "2022-04-24",
           "y"
          ],
          [
           "2022-04-25",
           "y"
          ],
          [
           "2022-04-26",
           "y"
          ],
          [
           "2022-04-27",
           "y"
          ],
          [
           "2022-04-28",
           "y"
          ],
          [
           "2022-04-29",
           "y"
          ],
          [
           "2022-04-30",
           "y"
          ],
          [
           "2022-05-01",
           "y"
          ],
          [
           "2022-05-02",
           "y"
          ],
          [
           "2022-05-03",
           "y"
          ],
          [
           "2022-05-04",
           "y"
          ],
          [
           "2022-05-05",
           "y"
          ],
          [
           "2022-05-06",
           "y"
          ],
          [
           "2022-05-07",
           "y"
          ],
          [
           "2022-05-08",
           "y"
          ],
          [
           "2022-05-09",
           "y"
          ],
          [
           "2022-05-10",
           "y"
          ],
          [
           "2022-05-11",
           "y"
          ],
          [
           "2022-05-12",
           "y"
          ],
          [
           "2022-05-13",
           "y"
          ],
          [
           "2022-05-14",
           "y"
          ],
          [
           "2022-05-15",
           "y"
          ],
          [
           "2022-05-16",
           "y"
          ],
          [
           "2022-05-17",
           "y"
          ],
          [
           "2022-05-18",
           "y"
          ],
          [
           "2022-05-19",
           "y"
          ],
          [
           "2022-05-20",
           "y"
          ],
          [
           "2022-05-21",
           "y"
          ],
          [
           "2022-05-22",
           "y"
          ],
          [
           "2022-05-23",
           "y"
          ],
          [
           "2022-05-24",
           "y"
          ],
          [
           "2022-05-25",
           "y"
          ],
          [
           "2022-05-26",
           "y"
          ],
          [
           "2022-05-27",
           "y"
          ],
          [
           "2022-05-28",
           "y"
          ],
          [
           "2022-05-29",
           "y"
          ],
          [
           "2022-05-30",
           "y"
          ],
          [
           "2022-05-31",
           "y"
          ],
          [
           "2022-06-01",
           "y"
          ],
          [
           "2022-06-02",
           "y"
          ],
          [
           "2022-06-03",
           "y"
          ],
          [
           "2022-06-04",
           "y"
          ],
          [
           "2022-06-05",
           "y"
          ],
          [
           "2022-06-06",
           "y"
          ],
          [
           "2022-06-07",
           "y"
          ],
          [
           "2022-06-08",
           "y"
          ],
          [
           "2022-06-09",
           "y"
          ],
          [
           "2022-06-10",
           "y"
          ],
          [
           "2022-06-11",
           "y"
          ],
          [
           "2022-06-12",
           "y"
          ],
          [
           "2022-06-13",
           "y"
          ],
          [
           "2022-06-14",
           "y"
          ],
          [
           "2022-06-15",
           "y"
          ],
          [
           "2022-06-16",
           "y"
          ],
          [
           "2022-06-17",
           "y"
          ],
          [
           "2022-06-18",
           "y"
          ],
          [
           "2022-06-19",
           "y"
          ],
          [
           "2022-06-20",
           "y"
          ],
          [
           "2022-06-21",
           "y"
          ],
          [
           "2022-06-22",
           "y"
          ],
          [
           "2022-06-23",
           "y"
          ],
          [
           "2022-06-24",
           "y"
          ],
          [
           "2022-06-25",
           "y"
          ],
          [
           "2022-06-26",
           "y"
          ],
          [
           "2022-06-27",
           "y"
          ],
          [
           "2022-06-28",
           "y"
          ],
          [
           "2022-06-29",
           "y"
          ],
          [
           "2022-06-30",
           "y"
          ],
          [
           "2022-07-01",
           "y"
          ],
          [
           "2022-07-02",
           "y"
          ],
          [
           "2022-07-03",
           "y"
          ],
          [
           "2022-07-04",
           "y"
          ],
          [
           "2022-07-05",
           "y"
          ],
          [
           "2022-07-06",
           "y"
          ],
          [
           "2022-07-07",
           "y"
          ],
          [
           "2022-07-08",
           "y"
          ],
          [
           "2022-07-09",
           "y"
          ],
          [
           "2022-07-10",
           "y"
          ],
          [
           "2022-07-11",
           "y"
          ],
          [
           "2022-07-12",
           "y"
          ],
          [
           "2022-07-13",
           "y"
          ],
          [
           "2022-07-14",
           "y"
          ],
          [
           "2022-07-15",
           "y"
          ],
          [
           "2022-07-16",
           "y"
          ],
          [
           "2022-07-17",
           "y"
          ],
          [
           "2022-07-18",
           "y"
          ],
          [
           "2022-07-19",
           "y"
          ],
          [
           "2022-07-20",
           "y"
          ],
          [
           "2022-07-21",
           "y"
          ],
          [
           "2022-07-22",
           "y"
          ],
          [
           "2022-07-23",
           "y"
          ],
          [
           "2022-07-24",
           "y"
          ],
          [
           "2022-07-25",
           "y"
          ],
          [
           "2022-07-26",
           "y"
          ],
          [
           "2022-07-27",
           "y"
          ],
          [
           "2022-07-28",
           "y"
          ],
          [
           "2022-07-29",
           "y"
          ],
          [
           "2022-07-30",
           "y"
          ],
          [
           "2022-07-31",
           "y"
          ],
          [
           "2022-08-01",
           "y"
          ],
          [
           "2022-08-02",
           "y"
          ],
          [
           "2022-08-03",
           "y"
          ],
          [
           "2022-08-04",
           "y"
          ],
          [
           "2022-08-05",
           "y"
          ],
          [
           "2022-08-06",
           "y"
          ],
          [
           "2022-08-07",
           "y"
          ],
          [
           "2022-08-08",
           "y"
          ],
          [
           "2022-08-09",
           "y"
          ],
          [
           "2022-08-10",
           "y"
          ],
          [
           "2022-08-11",
           "y"
          ],
          [
           "2022-08-12",
           "y"
          ],
          [
           "2022-08-13",
           "y"
          ],
          [
           "2022-08-14",
           "y"
          ],
          [
           "2022-08-15",
           "y"
          ],
          [
           "2022-08-16",
           "y"
          ],
          [
           "2022-08-17",
           "y"
          ],
          [
           "2022-08-18",
           "y"
          ],
          [
           "2022-08-19",
           "y"
          ],
          [
           "2022-08-20",
           "y"
          ],
          [
           "2022-08-21",
           "y"
          ],
          [
           "2022-08-22",
           "y"
          ],
          [
           "2022-08-23",
           "y"
          ],
          [
           "2022-08-24",
           "y"
          ],
          [
           "2022-08-25",
           "y"
          ],
          [
           "2022-08-26",
           "y"
          ],
          [
           "2022-08-27",
           "y"
          ],
          [
           "2022-08-28",
           "y"
          ],
          [
           "2022-08-29",
           "y"
          ],
          [
           "2022-08-30",
           "y"
          ],
          [
           "2022-08-31",
           "y"
          ],
          [
           "2022-09-01",
           "y"
          ],
          [
           "2022-09-02",
           "y"
          ],
          [
           "2022-09-03",
           "y"
          ],
          [
           "2022-09-04",
           "y"
          ],
          [
           "2022-09-05",
           "y"
          ],
          [
           "2022-09-06",
           "y"
          ],
          [
           "2022-09-07",
           "y"
          ],
          [
           "2022-09-08",
           "y"
          ],
          [
           "2022-09-09",
           "y"
          ],
          [
           "2022-09-10",
           "y"
          ],
          [
           "2022-09-11",
           "y"
          ],
          [
           "2022-09-12",
           "y"
          ],
          [
           "2022-09-13",
           "y"
          ],
          [
           "2022-09-14",
           "y"
          ],
          [
           "2022-09-15",
           "y"
          ],
          [
           "2022-09-16",
           "y"
          ],
          [
           "2022-09-17",
           "y"
          ],
          [
           "2022-09-18",
           "y"
          ],
          [
           "2022-09-19",
           "y"
          ],
          [
           "2022-09-20",
           "y"
          ],
          [
           "2022-09-21",
           "y"
          ],
          [
           "2022-09-22",
           "y"
          ],
          [
           "2022-09-23",
           "y"
          ],
          [
           "2022-09-24",
           "y"
          ],
          [
           "2022-09-25",
           "y"
          ],
          [
           "2022-09-26",
           "y"
          ],
          [
           "2022-09-27",
           "y"
          ],
          [
           "2022-09-28",
           "y"
          ],
          [
           "2022-09-29",
           "y"
          ],
          [
           "2022-09-30",
           "y"
          ],
          [
           "2022-10-01",
           "y"
          ],
          [
           "2022-10-02",
           "y"
          ],
          [
           "2022-10-03",
           "y"
          ],
          [
           "2022-10-04",
           "y"
          ],
          [
           "2022-10-05",
           "y"
          ],
          [
           "2022-10-06",
           "y"
          ],
          [
           "2022-10-07",
           "y"
          ],
          [
           "2022-10-08",
           "y"
          ],
          [
           "2022-10-09",
           "y"
          ],
          [
           "2022-10-10",
           "y"
          ],
          [
           "2022-10-11",
           "y"
          ],
          [
           "2022-10-12",
           "y"
          ],
          [
           "2022-10-13",
           "y"
          ],
          [
           "2022-10-14",
           "y"
          ],
          [
           "2022-10-15",
           "y"
          ],
          [
           "2022-10-16",
           "y"
          ],
          [
           "2022-10-17",
           "y"
          ],
          [
           "2022-10-18",
           "y"
          ],
          [
           "2022-10-19",
           "y"
          ],
          [
           "2022-10-20",
           "y"
          ],
          [
           "2022-10-21",
           "y"
          ],
          [
           "2022-10-22",
           "y"
          ],
          [
           "2022-10-23",
           "y"
          ],
          [
           "2022-10-24",
           "y"
          ],
          [
           "2022-10-25",
           "y"
          ],
          [
           "2022-10-26",
           "y"
          ],
          [
           "2022-10-27",
           "y"
          ],
          [
           "2022-10-28",
           "y"
          ],
          [
           "2022-10-29",
           "y"
          ],
          [
           "2022-10-30",
           "y"
          ],
          [
           "2022-10-31",
           "y"
          ],
          [
           "2022-11-01",
           "y"
          ],
          [
           "2022-11-02",
           "y"
          ],
          [
           "2022-11-03",
           "y"
          ],
          [
           "2022-11-04",
           "y"
          ],
          [
           "2022-11-05",
           "y"
          ],
          [
           "2022-11-06",
           "y"
          ],
          [
           "2022-11-07",
           "y"
          ],
          [
           "2022-11-08",
           "y"
          ],
          [
           "2022-11-09",
           "y"
          ],
          [
           "2022-11-10",
           "y"
          ],
          [
           "2022-11-11",
           "y"
          ],
          [
           "2022-11-12",
           "y"
          ],
          [
           "2022-11-13",
           "y"
          ],
          [
           "2022-11-14",
           "y"
          ],
          [
           "2022-11-15",
           "y"
          ],
          [
           "2022-11-16",
           "y"
          ],
          [
           "2022-11-17",
           "y"
          ],
          [
           "2022-11-18",
           "y"
          ],
          [
           "2022-11-19",
           "y"
          ],
          [
           "2022-11-20",
           "y"
          ],
          [
           "2022-11-21",
           "y"
          ],
          [
           "2022-11-22",
           "y"
          ],
          [
           "2022-11-23",
           "y"
          ],
          [
           "2022-11-24",
           "y"
          ],
          [
           "2022-11-25",
           "y"
          ],
          [
           "2022-11-26",
           "y"
          ],
          [
           "2022-11-27",
           "y"
          ],
          [
           "2022-11-28",
           "y"
          ],
          [
           "2022-11-29",
           "y"
          ],
          [
           "2022-11-30",
           "y"
          ],
          [
           "2022-12-01",
           "y"
          ],
          [
           "2022-12-02",
           "y"
          ],
          [
           "2022-12-03",
           "y"
          ],
          [
           "2022-12-04",
           "y"
          ],
          [
           "2022-12-05",
           "y"
          ],
          [
           "2022-12-06",
           "y"
          ],
          [
           "2022-12-07",
           "y"
          ],
          [
           "2022-12-08",
           "y"
          ],
          [
           "2022-12-09",
           "y"
          ],
          [
           "2022-12-10",
           "y"
          ],
          [
           "2022-12-11",
           "y"
          ],
          [
           "2022-12-12",
           "y"
          ],
          [
           "2022-12-13",
           "y"
          ],
          [
           "2022-12-14",
           "y"
          ],
          [
           "2022-12-15",
           "y"
          ],
          [
           "2022-12-16",
           "y"
          ],
          [
           "2022-12-17",
           "y"
          ],
          [
           "2022-12-18",
           "y"
          ],
          [
           "2022-12-19",
           "y"
          ],
          [
           "2022-12-20",
           "y"
          ],
          [
           "2022-12-21",
           "y"
          ],
          [
           "2022-12-22",
           "y"
          ],
          [
           "2022-12-23",
           "y"
          ],
          [
           "2022-12-24",
           "y"
          ],
          [
           "2022-12-25",
           "y"
          ],
          [
           "2022-12-26",
           "y"
          ],
          [
           "2022-12-27",
           "y"
          ],
          [
           "2022-12-28",
           "y"
          ],
          [
           "2022-12-29",
           "y"
          ],
          [
           "2022-12-30",
           "y"
          ],
          [
           "2022-12-31",
           "y"
          ]
         ],
         "hovertemplate": "%{customdata[0]} <br>Week=%{x} <br>%{customdata[1]}=%{z}",
         "name": "2022",
         "showscale": true,
         "type": "heatmap",
         "x": [
          0,
          0,
          1,
          1,
          1,
          1,
          1,
          1,
          1,
          2,
          2,
          2,
          2,
          2,
          2,
          2,
          3,
          3,
          3,
          3,
          3,
          3,
          3,
          4,
          4,
          4,
          4,
          4,
          4,
          4,
          5,
          5,
          5,
          5,
          5,
          5,
          5,
          6,
          6,
          6,
          6,
          6,
          6,
          6,
          7,
          7,
          7,
          7,
          7,
          7,
          7,
          8,
          8,
          8,
          8,
          8,
          8,
          8,
          9,
          9,
          9,
          9,
          9,
          9,
          9,
          10,
          10,
          10,
          10,
          10,
          10,
          10,
          11,
          11,
          11,
          11,
          11,
          11,
          11,
          12,
          12,
          12,
          12,
          12,
          12,
          12,
          13,
          13,
          13,
          13,
          13,
          13,
          13,
          14,
          14,
          14,
          14,
          14,
          14,
          14,
          15,
          15,
          15,
          15,
          15,
          15,
          15,
          16,
          16,
          16,
          16,
          16,
          16,
          16,
          17,
          17,
          17,
          17,
          17,
          17,
          17,
          18,
          18,
          18,
          18,
          18,
          18,
          18,
          19,
          19,
          19,
          19,
          19,
          19,
          19,
          20,
          20,
          20,
          20,
          20,
          20,
          20,
          21,
          21,
          21,
          21,
          21,
          21,
          21,
          22,
          22,
          22,
          22,
          22,
          22,
          22,
          23,
          23,
          23,
          23,
          23,
          23,
          23,
          24,
          24,
          24,
          24,
          24,
          24,
          24,
          25,
          25,
          25,
          25,
          25,
          25,
          25,
          26,
          26,
          26,
          26,
          26,
          26,
          26,
          27,
          27,
          27,
          27,
          27,
          27,
          27,
          28,
          28,
          28,
          28,
          28,
          28,
          28,
          29,
          29,
          29,
          29,
          29,
          29,
          29,
          30,
          30,
          30,
          30,
          30,
          30,
          30,
          31,
          31,
          31,
          31,
          31,
          31,
          31,
          32,
          32,
          32,
          32,
          32,
          32,
          32,
          33,
          33,
          33,
          33,
          33,
          33,
          33,
          34,
          34,
          34,
          34,
          34,
          34,
          34,
          35,
          35,
          35,
          35,
          35,
          35,
          35,
          36,
          36,
          36,
          36,
          36,
          36,
          36,
          37,
          37,
          37,
          37,
          37,
          37,
          37,
          38,
          38,
          38,
          38,
          38,
          38,
          38,
          39,
          39,
          39,
          39,
          39,
          39,
          39,
          40,
          40,
          40,
          40,
          40,
          40,
          40,
          41,
          41,
          41,
          41,
          41,
          41,
          41,
          42,
          42,
          42,
          42,
          42,
          42,
          42,
          43,
          43,
          43,
          43,
          43,
          43,
          43,
          44,
          44,
          44,
          44,
          44,
          44,
          44,
          45,
          45,
          45,
          45,
          45,
          45,
          45,
          46,
          46,
          46,
          46,
          46,
          46,
          46,
          47,
          47,
          47,
          47,
          47,
          47,
          47,
          48,
          48,
          48,
          48,
          48,
          48,
          48,
          49,
          49,
          49,
          49,
          49,
          49,
          49,
          50,
          50,
          50,
          50,
          50,
          50,
          50,
          51,
          51,
          51,
          51,
          51,
          51,
          51,
          52,
          52,
          52,
          52,
          52,
          52
         ],
         "xaxis": "x",
         "xgap": 1,
         "y": [
          5,
          6,
          0,
          1,
          2,
          3,
          4,
          5,
          6,
          0,
          1,
          2,
          3,
          4,
          5,
          6,
          0,
          1,
          2,
          3,
          4,
          5,
          6,
          0,
          1,
          2,
          3,
          4,
          5,
          6,
          0,
          1,
          2,
          3,
          4,
          5,
          6,
          0,
          1,
          2,
          3,
          4,
          5,
          6,
          0,
          1,
          2,
          3,
          4,
          5,
          6,
          0,
          1,
          2,
          3,
          4,
          5,
          6,
          0,
          1,
          2,
          3,
          4,
          5,
          6,
          0,
          1,
          2,
          3,
          4,
          5,
          6,
          0,
          1,
          2,
          3,
          4,
          5,
          6,
          0,
          1,
          2,
          3,
          4,
          5,
          6,
          0,
          1,
          2,
          3,
          4,
          5,
          6,
          0,
          1,
          2,
          3,
          4,
          5,
          6,
          0,
          1,
          2,
          3,
          4,
          5,
          6,
          0,
          1,
          2,
          3,
          4,
          5,
          6,
          0,
          1,
          2,
          3,
          4,
          5,
          6,
          0,
          1,
          2,
          3,
          4,
          5,
          6,
          0,
          1,
          2,
          3,
          4,
          5,
          6,
          0,
          1,
          2,
          3,
          4,
          5,
          6,
          0,
          1,
          2,
          3,
          4,
          5,
          6,
          0,
          1,
          2,
          3,
          4,
          5,
          6,
          0,
          1,
          2,
          3,
          4,
          5,
          6,
          0,
          1,
          2,
          3,
          4,
          5,
          6,
          0,
          1,
          2,
          3,
          4,
          5,
          6,
          0,
          1,
          2,
          3,
          4,
          5,
          6,
          0,
          1,
          2,
          3,
          4,
          5,
          6,
          0,
          1,
          2,
          3,
          4,
          5,
          6,
          0,
          1,
          2,
          3,
          4,
          5,
          6,
          0,
          1,
          2,
          3,
          4,
          5,
          6,
          0,
          1,
          2,
          3,
          4,
          5,
          6,
          0,
          1,
          2,
          3,
          4,
          5,
          6,
          0,
          1,
          2,
          3,
          4,
          5,
          6,
          0,
          1,
          2,
          3,
          4,
          5,
          6,
          0,
          1,
          2,
          3,
          4,
          5,
          6,
          0,
          1,
          2,
          3,
          4,
          5,
          6,
          0,
          1,
          2,
          3,
          4,
          5,
          6,
          0,
          1,
          2,
          3,
          4,
          5,
          6,
          0,
          1,
          2,
          3,
          4,
          5,
          6,
          0,
          1,
          2,
          3,
          4,
          5,
          6,
          0,
          1,
          2,
          3,
          4,
          5,
          6,
          0,
          1,
          2,
          3,
          4,
          5,
          6,
          0,
          1,
          2,
          3,
          4,
          5,
          6,
          0,
          1,
          2,
          3,
          4,
          5,
          6,
          0,
          1,
          2,
          3,
          4,
          5,
          6,
          0,
          1,
          2,
          3,
          4,
          5,
          6,
          0,
          1,
          2,
          3,
          4,
          5,
          6,
          0,
          1,
          2,
          3,
          4,
          5,
          6,
          0,
          1,
          2,
          3,
          4,
          5,
          6,
          0,
          1,
          2,
          3,
          4,
          5,
          6,
          0,
          1,
          2,
          3,
          4,
          5,
          6,
          0,
          1,
          2,
          3,
          4,
          5
         ],
         "yaxis": "y",
         "ygap": 1,
         "z": [
          0,
          0,
          0,
          0,
          0,
          0,
          0,
          0,
          0,
          0,
          0,
          0,
          0,
          0,
          0,
          0,
          0,
          0,
          0,
          0,
          0,
          0,
          0,
          0,
          0,
          0,
          0,
          0,
          0,
          0,
          0,
          0,
          0,
          0,
          0,
          0,
          0,
          0,
          0,
          0,
          0,
          0,
          0,
          0,
          0,
          0,
          8.177886630557389,
          0,
          11.854991602459643,
          0,
          0,
          0,
          6.581159916611914,
          0,
          0,
          0,
          0,
          9.66586503572992,
          0,
          9.69017704019494,
          0,
          0,
          0,
          34.16923541763014,
          0,
          0,
          0,
          0,
          0,
          0,
          0,
          0,
          0,
          0,
          0,
          14.23031492746864,
          13.556808869780973,
          0,
          0,
          0,
          0,
          0,
          0,
          0,
          0,
          0,
          0,
          0,
          7.332484043294077,
          9.828791888770027,
          0,
          0,
          0,
          0,
          0,
          0,
          0,
          0,
          0,
          19.27826740110735,
          3.2094445625468304,
          0,
          0,
          0,
          0,
          0,
          0,
          0,
          0,
          0,
          0,
          0,
          0,
          0,
          0,
          0,
          0,
          0,
          0,
          0,
          0,
          1.5607630296964192,
          0,
          0,
          0,
          0,
          0,
          0,
          0,
          0,
          0,
          13.445196883557692,
          13.210286156229188,
          0,
          0,
          0,
          16.597193326459617,
          0,
          0,
          0,
          0,
          0,
          0,
          0,
          0,
          0,
          0,
          23.147678316527248,
          0,
          0,
          0,
          0,
          0,
          0,
          0,
          0,
          0,
          0,
          0,
          0,
          0,
          0,
          0,
          0,
          0,
          0,
          0,
          0,
          0,
          0,
          0,
          0,
          0,
          0,
          0,
          11.704077331022784,
          23.96977508033472,
          0,
          0,
          0,
          0,
          0,
          0,
          0,
          0,
          0,
          0,
          0,
          0,
          0,
          0,
          0,
          0,
          0,
          0,
          0,
          0,
          0,
          0,
          0,
          0,
          0,
          0,
          0,
          0,
          0,
          0,
          0,
          0,
          0,
          0,
          6.177419024404991,
          0,
          0,
          0,
          0,
          0,
          0,
          0,
          0,
          0,
          0,
          0,
          0,
          0,
          0,
          0,
          6.50197128418788,
          0,
          0,
          0,
          0,
          0,
          0,
          0,
          6.005594565667446,
          18.49837588536633,
          0,
          0,
          0,
          0,
          0,
          0,
          0,
          0,
          0,
          0,
          0,
          0,
          0,
          0,
          0,
          0,
          0,
          0,
          0,
          0,
          0,
          0,
          0,
          13.510012883870717,
          0,
          0,
          0,
          0,
          0,
          0,
          0,
          0,
          0,
          0,
          0,
          0,
          0,
          0,
          0,
          0,
          0,
          16.572430217465815,
          0,
          0,
          0,
          0,
          0,
          0,
          0,
          0,
          0,
          0,
          0,
          0,
          0,
          0,
          0,
          0,
          0,
          0,
          0,
          0,
          0,
          0,
          0,
          0,
          0,
          0,
          0,
          0,
          0,
          0,
          0,
          0,
          0,
          0,
          0,
          0,
          0,
          0,
          0,
          0,
          0,
          0,
          0,
          0,
          0,
          0,
          0,
          0,
          0,
          0,
          0,
          0,
          0,
          0,
          0,
          0,
          0,
          0,
          0,
          0,
          0,
          0,
          0,
          0,
          0,
          0,
          0,
          0,
          0,
          0,
          0,
          0,
          0,
          0,
          0,
          0,
          0,
          0,
          0,
          0,
          0,
          0,
          0,
          0,
          0,
          0
         ],
         "zmax": 34.16923541763014,
         "zmin": 0
        },
        {
         "hoverinfo": "skip",
         "line": {
          "color": "#000000",
          "width": 4
         },
         "mode": "lines",
         "type": "scatter",
         "x": [
          -0.5,
          -0.5
         ],
         "xaxis": "x",
         "y": [
          4.5,
          6.5
         ],
         "yaxis": "y"
        },
        {
         "hoverinfo": "skip",
         "line": {
          "color": "#000000",
          "width": 4
         },
         "mode": "lines",
         "type": "scatter",
         "x": [
          -0.5,
          0.5
         ],
         "xaxis": "x",
         "y": [
          4.5,
          4.5
         ],
         "yaxis": "y"
        },
        {
         "hoverinfo": "skip",
         "line": {
          "color": "#000000",
          "width": 4
         },
         "mode": "lines",
         "type": "scatter",
         "x": [
          0.5,
          0.5
         ],
         "xaxis": "x",
         "y": [
          4.5,
          -0.5
         ],
         "yaxis": "y"
        },
        {
         "hoverinfo": "skip",
         "line": {
          "color": "#000000",
          "width": 4
         },
         "mode": "lines",
         "type": "scatter",
         "x": [
          4.5,
          4.5
         ],
         "xaxis": "x",
         "y": [
          0.5,
          6.5
         ],
         "yaxis": "y"
        },
        {
         "hoverinfo": "skip",
         "line": {
          "color": "#000000",
          "width": 4
         },
         "mode": "lines",
         "type": "scatter",
         "x": [
          4.5,
          5.5
         ],
         "xaxis": "x",
         "y": [
          0.5,
          0.5
         ],
         "yaxis": "y"
        },
        {
         "hoverinfo": "skip",
         "line": {
          "color": "#000000",
          "width": 4
         },
         "mode": "lines",
         "type": "scatter",
         "x": [
          5.5,
          5.5
         ],
         "xaxis": "x",
         "y": [
          0.5,
          -0.5
         ],
         "yaxis": "y"
        },
        {
         "hoverinfo": "skip",
         "line": {
          "color": "#000000",
          "width": 4
         },
         "mode": "lines",
         "type": "scatter",
         "x": [
          8.5,
          8.5
         ],
         "xaxis": "x",
         "y": [
          0.5,
          6.5
         ],
         "yaxis": "y"
        },
        {
         "hoverinfo": "skip",
         "line": {
          "color": "#000000",
          "width": 4
         },
         "mode": "lines",
         "type": "scatter",
         "x": [
          8.5,
          9.5
         ],
         "xaxis": "x",
         "y": [
          0.5,
          0.5
         ],
         "yaxis": "y"
        },
        {
         "hoverinfo": "skip",
         "line": {
          "color": "#000000",
          "width": 4
         },
         "mode": "lines",
         "type": "scatter",
         "x": [
          9.5,
          9.5
         ],
         "xaxis": "x",
         "y": [
          0.5,
          -0.5
         ],
         "yaxis": "y"
        },
        {
         "hoverinfo": "skip",
         "line": {
          "color": "#000000",
          "width": 4
         },
         "mode": "lines",
         "type": "scatter",
         "x": [
          12.5,
          12.5
         ],
         "xaxis": "x",
         "y": [
          3.5,
          6.5
         ],
         "yaxis": "y"
        },
        {
         "hoverinfo": "skip",
         "line": {
          "color": "#000000",
          "width": 4
         },
         "mode": "lines",
         "type": "scatter",
         "x": [
          12.5,
          13.5
         ],
         "xaxis": "x",
         "y": [
          3.5,
          3.5
         ],
         "yaxis": "y"
        },
        {
         "hoverinfo": "skip",
         "line": {
          "color": "#000000",
          "width": 4
         },
         "mode": "lines",
         "type": "scatter",
         "x": [
          13.5,
          13.5
         ],
         "xaxis": "x",
         "y": [
          3.5,
          -0.5
         ],
         "yaxis": "y"
        },
        {
         "hoverinfo": "skip",
         "line": {
          "color": "#000000",
          "width": 4
         },
         "mode": "lines",
         "type": "scatter",
         "x": [
          16.5,
          16.5
         ],
         "xaxis": "x",
         "y": [
          5.5,
          6.5
         ],
         "yaxis": "y"
        },
        {
         "hoverinfo": "skip",
         "line": {
          "color": "#000000",
          "width": 4
         },
         "mode": "lines",
         "type": "scatter",
         "x": [
          16.5,
          17.5
         ],
         "xaxis": "x",
         "y": [
          5.5,
          5.5
         ],
         "yaxis": "y"
        },
        {
         "hoverinfo": "skip",
         "line": {
          "color": "#000000",
          "width": 4
         },
         "mode": "lines",
         "type": "scatter",
         "x": [
          17.5,
          17.5
         ],
         "xaxis": "x",
         "y": [
          5.5,
          -0.5
         ],
         "yaxis": "y"
        },
        {
         "hoverinfo": "skip",
         "line": {
          "color": "#000000",
          "width": 4
         },
         "mode": "lines",
         "type": "scatter",
         "x": [
          21.5,
          21.5
         ],
         "xaxis": "x",
         "y": [
          1.5,
          6.5
         ],
         "yaxis": "y"
        },
        {
         "hoverinfo": "skip",
         "line": {
          "color": "#000000",
          "width": 4
         },
         "mode": "lines",
         "type": "scatter",
         "x": [
          21.5,
          22.5
         ],
         "xaxis": "x",
         "y": [
          1.5,
          1.5
         ],
         "yaxis": "y"
        },
        {
         "hoverinfo": "skip",
         "line": {
          "color": "#000000",
          "width": 4
         },
         "mode": "lines",
         "type": "scatter",
         "x": [
          22.5,
          22.5
         ],
         "xaxis": "x",
         "y": [
          1.5,
          -0.5
         ],
         "yaxis": "y"
        },
        {
         "hoverinfo": "skip",
         "line": {
          "color": "#000000",
          "width": 4
         },
         "mode": "lines",
         "type": "scatter",
         "x": [
          25.5,
          25.5
         ],
         "xaxis": "x",
         "y": [
          3.5,
          6.5
         ],
         "yaxis": "y"
        },
        {
         "hoverinfo": "skip",
         "line": {
          "color": "#000000",
          "width": 4
         },
         "mode": "lines",
         "type": "scatter",
         "x": [
          25.5,
          26.5
         ],
         "xaxis": "x",
         "y": [
          3.5,
          3.5
         ],
         "yaxis": "y"
        },
        {
         "hoverinfo": "skip",
         "line": {
          "color": "#000000",
          "width": 4
         },
         "mode": "lines",
         "type": "scatter",
         "x": [
          26.5,
          26.5
         ],
         "xaxis": "x",
         "y": [
          3.5,
          -0.5
         ],
         "yaxis": "y"
        },
        {
         "hoverinfo": "skip",
         "line": {
          "color": "#000000",
          "width": 4
         },
         "mode": "lines",
         "type": "scatter",
         "x": [
          30.5,
          30.5
         ],
         "xaxis": "x",
         "y": [
          -0.5,
          6.5
         ],
         "yaxis": "y"
        },
        {
         "hoverinfo": "skip",
         "line": {
          "color": "#000000",
          "width": 4
         },
         "mode": "lines",
         "type": "scatter",
         "x": [
          34.5,
          34.5
         ],
         "xaxis": "x",
         "y": [
          2.5,
          6.5
         ],
         "yaxis": "y"
        },
        {
         "hoverinfo": "skip",
         "line": {
          "color": "#000000",
          "width": 4
         },
         "mode": "lines",
         "type": "scatter",
         "x": [
          34.5,
          35.5
         ],
         "xaxis": "x",
         "y": [
          2.5,
          2.5
         ],
         "yaxis": "y"
        },
        {
         "hoverinfo": "skip",
         "line": {
          "color": "#000000",
          "width": 4
         },
         "mode": "lines",
         "type": "scatter",
         "x": [
          35.5,
          35.5
         ],
         "xaxis": "x",
         "y": [
          2.5,
          -0.5
         ],
         "yaxis": "y"
        },
        {
         "hoverinfo": "skip",
         "line": {
          "color": "#000000",
          "width": 4
         },
         "mode": "lines",
         "type": "scatter",
         "x": [
          38.5,
          38.5
         ],
         "xaxis": "x",
         "y": [
          4.5,
          6.5
         ],
         "yaxis": "y"
        },
        {
         "hoverinfo": "skip",
         "line": {
          "color": "#000000",
          "width": 4
         },
         "mode": "lines",
         "type": "scatter",
         "x": [
          38.5,
          39.5
         ],
         "xaxis": "x",
         "y": [
          4.5,
          4.5
         ],
         "yaxis": "y"
        },
        {
         "hoverinfo": "skip",
         "line": {
          "color": "#000000",
          "width": 4
         },
         "mode": "lines",
         "type": "scatter",
         "x": [
          39.5,
          39.5
         ],
         "xaxis": "x",
         "y": [
          4.5,
          -0.5
         ],
         "yaxis": "y"
        },
        {
         "hoverinfo": "skip",
         "line": {
          "color": "#000000",
          "width": 4
         },
         "mode": "lines",
         "type": "scatter",
         "x": [
          43.5,
          43.5
         ],
         "xaxis": "x",
         "y": [
          0.5,
          6.5
         ],
         "yaxis": "y"
        },
        {
         "hoverinfo": "skip",
         "line": {
          "color": "#000000",
          "width": 4
         },
         "mode": "lines",
         "type": "scatter",
         "x": [
          43.5,
          44.5
         ],
         "xaxis": "x",
         "y": [
          0.5,
          0.5
         ],
         "yaxis": "y"
        },
        {
         "hoverinfo": "skip",
         "line": {
          "color": "#000000",
          "width": 4
         },
         "mode": "lines",
         "type": "scatter",
         "x": [
          44.5,
          44.5
         ],
         "xaxis": "x",
         "y": [
          0.5,
          -0.5
         ],
         "yaxis": "y"
        },
        {
         "hoverinfo": "skip",
         "line": {
          "color": "#000000",
          "width": 4
         },
         "mode": "lines",
         "type": "scatter",
         "x": [
          47.5,
          47.5
         ],
         "xaxis": "x",
         "y": [
          2.5,
          6.5
         ],
         "yaxis": "y"
        },
        {
         "hoverinfo": "skip",
         "line": {
          "color": "#000000",
          "width": 4
         },
         "mode": "lines",
         "type": "scatter",
         "x": [
          47.5,
          48.5
         ],
         "xaxis": "x",
         "y": [
          2.5,
          2.5
         ],
         "yaxis": "y"
        },
        {
         "hoverinfo": "skip",
         "line": {
          "color": "#000000",
          "width": 4
         },
         "mode": "lines",
         "type": "scatter",
         "x": [
          48.5,
          48.5
         ],
         "xaxis": "x",
         "y": [
          2.5,
          -0.5
         ],
         "yaxis": "y"
        }
       ],
       "layout": {
        "font": {
         "color": "#fff",
         "size": 10
        },
        "height": 225,
        "margin": {
         "b": 20,
         "t": 20
        },
        "paper_bgcolor": "#333",
        "plot_bgcolor": "#333",
        "showlegend": false,
        "template": {
         "data": {
          "bar": [
           {
            "error_x": {
             "color": "#2a3f5f"
            },
            "error_y": {
             "color": "#2a3f5f"
            },
            "marker": {
             "line": {
              "color": "#E5ECF6",
              "width": 0.5
             },
             "pattern": {
              "fillmode": "overlay",
              "size": 10,
              "solidity": 0.2
             }
            },
            "type": "bar"
           }
          ],
          "barpolar": [
           {
            "marker": {
             "line": {
              "color": "#E5ECF6",
              "width": 0.5
             },
             "pattern": {
              "fillmode": "overlay",
              "size": 10,
              "solidity": 0.2
             }
            },
            "type": "barpolar"
           }
          ],
          "carpet": [
           {
            "aaxis": {
             "endlinecolor": "#2a3f5f",
             "gridcolor": "white",
             "linecolor": "white",
             "minorgridcolor": "white",
             "startlinecolor": "#2a3f5f"
            },
            "baxis": {
             "endlinecolor": "#2a3f5f",
             "gridcolor": "white",
             "linecolor": "white",
             "minorgridcolor": "white",
             "startlinecolor": "#2a3f5f"
            },
            "type": "carpet"
           }
          ],
          "choropleth": [
           {
            "colorbar": {
             "outlinewidth": 0,
             "ticks": ""
            },
            "type": "choropleth"
           }
          ],
          "contour": [
           {
            "colorbar": {
             "outlinewidth": 0,
             "ticks": ""
            },
            "colorscale": [
             [
              0,
              "#0d0887"
             ],
             [
              0.1111111111111111,
              "#46039f"
             ],
             [
              0.2222222222222222,
              "#7201a8"
             ],
             [
              0.3333333333333333,
              "#9c179e"
             ],
             [
              0.4444444444444444,
              "#bd3786"
             ],
             [
              0.5555555555555556,
              "#d8576b"
             ],
             [
              0.6666666666666666,
              "#ed7953"
             ],
             [
              0.7777777777777778,
              "#fb9f3a"
             ],
             [
              0.8888888888888888,
              "#fdca26"
             ],
             [
              1,
              "#f0f921"
             ]
            ],
            "type": "contour"
           }
          ],
          "contourcarpet": [
           {
            "colorbar": {
             "outlinewidth": 0,
             "ticks": ""
            },
            "type": "contourcarpet"
           }
          ],
          "heatmap": [
           {
            "colorbar": {
             "outlinewidth": 0,
             "ticks": ""
            },
            "colorscale": [
             [
              0,
              "#0d0887"
             ],
             [
              0.1111111111111111,
              "#46039f"
             ],
             [
              0.2222222222222222,
              "#7201a8"
             ],
             [
              0.3333333333333333,
              "#9c179e"
             ],
             [
              0.4444444444444444,
              "#bd3786"
             ],
             [
              0.5555555555555556,
              "#d8576b"
             ],
             [
              0.6666666666666666,
              "#ed7953"
             ],
             [
              0.7777777777777778,
              "#fb9f3a"
             ],
             [
              0.8888888888888888,
              "#fdca26"
             ],
             [
              1,
              "#f0f921"
             ]
            ],
            "type": "heatmap"
           }
          ],
          "heatmapgl": [
           {
            "colorbar": {
             "outlinewidth": 0,
             "ticks": ""
            },
            "colorscale": [
             [
              0,
              "#0d0887"
             ],
             [
              0.1111111111111111,
              "#46039f"
             ],
             [
              0.2222222222222222,
              "#7201a8"
             ],
             [
              0.3333333333333333,
              "#9c179e"
             ],
             [
              0.4444444444444444,
              "#bd3786"
             ],
             [
              0.5555555555555556,
              "#d8576b"
             ],
             [
              0.6666666666666666,
              "#ed7953"
             ],
             [
              0.7777777777777778,
              "#fb9f3a"
             ],
             [
              0.8888888888888888,
              "#fdca26"
             ],
             [
              1,
              "#f0f921"
             ]
            ],
            "type": "heatmapgl"
           }
          ],
          "histogram": [
           {
            "marker": {
             "pattern": {
              "fillmode": "overlay",
              "size": 10,
              "solidity": 0.2
             }
            },
            "type": "histogram"
           }
          ],
          "histogram2d": [
           {
            "colorbar": {
             "outlinewidth": 0,
             "ticks": ""
            },
            "colorscale": [
             [
              0,
              "#0d0887"
             ],
             [
              0.1111111111111111,
              "#46039f"
             ],
             [
              0.2222222222222222,
              "#7201a8"
             ],
             [
              0.3333333333333333,
              "#9c179e"
             ],
             [
              0.4444444444444444,
              "#bd3786"
             ],
             [
              0.5555555555555556,
              "#d8576b"
             ],
             [
              0.6666666666666666,
              "#ed7953"
             ],
             [
              0.7777777777777778,
              "#fb9f3a"
             ],
             [
              0.8888888888888888,
              "#fdca26"
             ],
             [
              1,
              "#f0f921"
             ]
            ],
            "type": "histogram2d"
           }
          ],
          "histogram2dcontour": [
           {
            "colorbar": {
             "outlinewidth": 0,
             "ticks": ""
            },
            "colorscale": [
             [
              0,
              "#0d0887"
             ],
             [
              0.1111111111111111,
              "#46039f"
             ],
             [
              0.2222222222222222,
              "#7201a8"
             ],
             [
              0.3333333333333333,
              "#9c179e"
             ],
             [
              0.4444444444444444,
              "#bd3786"
             ],
             [
              0.5555555555555556,
              "#d8576b"
             ],
             [
              0.6666666666666666,
              "#ed7953"
             ],
             [
              0.7777777777777778,
              "#fb9f3a"
             ],
             [
              0.8888888888888888,
              "#fdca26"
             ],
             [
              1,
              "#f0f921"
             ]
            ],
            "type": "histogram2dcontour"
           }
          ],
          "mesh3d": [
           {
            "colorbar": {
             "outlinewidth": 0,
             "ticks": ""
            },
            "type": "mesh3d"
           }
          ],
          "parcoords": [
           {
            "line": {
             "colorbar": {
              "outlinewidth": 0,
              "ticks": ""
             }
            },
            "type": "parcoords"
           }
          ],
          "pie": [
           {
            "automargin": true,
            "type": "pie"
           }
          ],
          "scatter": [
           {
            "fillpattern": {
             "fillmode": "overlay",
             "size": 10,
             "solidity": 0.2
            },
            "type": "scatter"
           }
          ],
          "scatter3d": [
           {
            "line": {
             "colorbar": {
              "outlinewidth": 0,
              "ticks": ""
             }
            },
            "marker": {
             "colorbar": {
              "outlinewidth": 0,
              "ticks": ""
             }
            },
            "type": "scatter3d"
           }
          ],
          "scattercarpet": [
           {
            "marker": {
             "colorbar": {
              "outlinewidth": 0,
              "ticks": ""
             }
            },
            "type": "scattercarpet"
           }
          ],
          "scattergeo": [
           {
            "marker": {
             "colorbar": {
              "outlinewidth": 0,
              "ticks": ""
             }
            },
            "type": "scattergeo"
           }
          ],
          "scattergl": [
           {
            "marker": {
             "colorbar": {
              "outlinewidth": 0,
              "ticks": ""
             }
            },
            "type": "scattergl"
           }
          ],
          "scattermapbox": [
           {
            "marker": {
             "colorbar": {
              "outlinewidth": 0,
              "ticks": ""
             }
            },
            "type": "scattermapbox"
           }
          ],
          "scatterpolar": [
           {
            "marker": {
             "colorbar": {
              "outlinewidth": 0,
              "ticks": ""
             }
            },
            "type": "scatterpolar"
           }
          ],
          "scatterpolargl": [
           {
            "marker": {
             "colorbar": {
              "outlinewidth": 0,
              "ticks": ""
             }
            },
            "type": "scatterpolargl"
           }
          ],
          "scatterternary": [
           {
            "marker": {
             "colorbar": {
              "outlinewidth": 0,
              "ticks": ""
             }
            },
            "type": "scatterternary"
           }
          ],
          "surface": [
           {
            "colorbar": {
             "outlinewidth": 0,
             "ticks": ""
            },
            "colorscale": [
             [
              0,
              "#0d0887"
             ],
             [
              0.1111111111111111,
              "#46039f"
             ],
             [
              0.2222222222222222,
              "#7201a8"
             ],
             [
              0.3333333333333333,
              "#9c179e"
             ],
             [
              0.4444444444444444,
              "#bd3786"
             ],
             [
              0.5555555555555556,
              "#d8576b"
             ],
             [
              0.6666666666666666,
              "#ed7953"
             ],
             [
              0.7777777777777778,
              "#fb9f3a"
             ],
             [
              0.8888888888888888,
              "#fdca26"
             ],
             [
              1,
              "#f0f921"
             ]
            ],
            "type": "surface"
           }
          ],
          "table": [
           {
            "cells": {
             "fill": {
              "color": "#EBF0F8"
             },
             "line": {
              "color": "white"
             }
            },
            "header": {
             "fill": {
              "color": "#C8D4E3"
             },
             "line": {
              "color": "white"
             }
            },
            "type": "table"
           }
          ]
         },
         "layout": {
          "annotationdefaults": {
           "arrowcolor": "#2a3f5f",
           "arrowhead": 0,
           "arrowwidth": 1
          },
          "autotypenumbers": "strict",
          "coloraxis": {
           "colorbar": {
            "outlinewidth": 0,
            "ticks": ""
           }
          },
          "colorscale": {
           "diverging": [
            [
             0,
             "#8e0152"
            ],
            [
             0.1,
             "#c51b7d"
            ],
            [
             0.2,
             "#de77ae"
            ],
            [
             0.3,
             "#f1b6da"
            ],
            [
             0.4,
             "#fde0ef"
            ],
            [
             0.5,
             "#f7f7f7"
            ],
            [
             0.6,
             "#e6f5d0"
            ],
            [
             0.7,
             "#b8e186"
            ],
            [
             0.8,
             "#7fbc41"
            ],
            [
             0.9,
             "#4d9221"
            ],
            [
             1,
             "#276419"
            ]
           ],
           "sequential": [
            [
             0,
             "#0d0887"
            ],
            [
             0.1111111111111111,
             "#46039f"
            ],
            [
             0.2222222222222222,
             "#7201a8"
            ],
            [
             0.3333333333333333,
             "#9c179e"
            ],
            [
             0.4444444444444444,
             "#bd3786"
            ],
            [
             0.5555555555555556,
             "#d8576b"
            ],
            [
             0.6666666666666666,
             "#ed7953"
            ],
            [
             0.7777777777777778,
             "#fb9f3a"
            ],
            [
             0.8888888888888888,
             "#fdca26"
            ],
            [
             1,
             "#f0f921"
            ]
           ],
           "sequentialminus": [
            [
             0,
             "#0d0887"
            ],
            [
             0.1111111111111111,
             "#46039f"
            ],
            [
             0.2222222222222222,
             "#7201a8"
            ],
            [
             0.3333333333333333,
             "#9c179e"
            ],
            [
             0.4444444444444444,
             "#bd3786"
            ],
            [
             0.5555555555555556,
             "#d8576b"
            ],
            [
             0.6666666666666666,
             "#ed7953"
            ],
            [
             0.7777777777777778,
             "#fb9f3a"
            ],
            [
             0.8888888888888888,
             "#fdca26"
            ],
            [
             1,
             "#f0f921"
            ]
           ]
          },
          "colorway": [
           "#636efa",
           "#EF553B",
           "#00cc96",
           "#ab63fa",
           "#FFA15A",
           "#19d3f3",
           "#FF6692",
           "#B6E880",
           "#FF97FF",
           "#FECB52"
          ],
          "font": {
           "color": "#2a3f5f"
          },
          "geo": {
           "bgcolor": "white",
           "lakecolor": "white",
           "landcolor": "#E5ECF6",
           "showlakes": true,
           "showland": true,
           "subunitcolor": "white"
          },
          "hoverlabel": {
           "align": "left"
          },
          "hovermode": "closest",
          "mapbox": {
           "style": "light"
          },
          "paper_bgcolor": "white",
          "plot_bgcolor": "#E5ECF6",
          "polar": {
           "angularaxis": {
            "gridcolor": "white",
            "linecolor": "white",
            "ticks": ""
           },
           "bgcolor": "#E5ECF6",
           "radialaxis": {
            "gridcolor": "white",
            "linecolor": "white",
            "ticks": ""
           }
          },
          "scene": {
           "xaxis": {
            "backgroundcolor": "#E5ECF6",
            "gridcolor": "white",
            "gridwidth": 2,
            "linecolor": "white",
            "showbackground": true,
            "ticks": "",
            "zerolinecolor": "white"
           },
           "yaxis": {
            "backgroundcolor": "#E5ECF6",
            "gridcolor": "white",
            "gridwidth": 2,
            "linecolor": "white",
            "showbackground": true,
            "ticks": "",
            "zerolinecolor": "white"
           },
           "zaxis": {
            "backgroundcolor": "#E5ECF6",
            "gridcolor": "white",
            "gridwidth": 2,
            "linecolor": "white",
            "showbackground": true,
            "ticks": "",
            "zerolinecolor": "white"
           }
          },
          "shapedefaults": {
           "line": {
            "color": "#2a3f5f"
           }
          },
          "ternary": {
           "aaxis": {
            "gridcolor": "white",
            "linecolor": "white",
            "ticks": ""
           },
           "baxis": {
            "gridcolor": "white",
            "linecolor": "white",
            "ticks": ""
           },
           "bgcolor": "#E5ECF6",
           "caxis": {
            "gridcolor": "white",
            "linecolor": "white",
            "ticks": ""
           }
          },
          "title": {
           "x": 0.05
          },
          "xaxis": {
           "automargin": true,
           "gridcolor": "white",
           "linecolor": "white",
           "ticks": "",
           "title": {
            "standoff": 15
           },
           "zerolinecolor": "white",
           "zerolinewidth": 2
          },
          "yaxis": {
           "automargin": true,
           "gridcolor": "white",
           "linecolor": "white",
           "ticks": "",
           "title": {
            "standoff": 15
           },
           "zerolinecolor": "white",
           "zerolinewidth": 2
          }
         }
        },
        "title": {
         "text": "Ride Mileage 2022"
        },
        "xaxis": {
         "anchor": "y",
         "domain": [
          0,
          1
         ],
         "showgrid": false,
         "showline": false,
         "tickmode": "array",
         "ticktext": [
          "January",
          "February",
          "March",
          "April",
          "May",
          "June",
          "July",
          "August",
          "September",
          "October",
          "November",
          "December"
         ],
         "tickvals": [
          1.5,
          5.909090909090909,
          10.318181818181818,
          14.727272727272727,
          19.136363636363637,
          23.545454545454547,
          27.954545454545453,
          32.36363636363636,
          36.77272727272727,
          41.18181818181818,
          45.59090909090909,
          50
         ],
         "zeroline": false
        },
        "yaxis": {
         "anchor": "x",
         "autorange": "reversed",
         "domain": [
          0,
          1
         ],
         "showgrid": false,
         "showline": false,
         "tickmode": "array",
         "ticktext": [
          "Mon",
          "Tue",
          "Wed",
          "Thu",
          "Fri",
          "Sat",
          "Sun"
         ],
         "tickvals": [
          0,
          1,
          2,
          3,
          4,
          5,
          6
         ],
         "zeroline": false
        }
       }
      }
     },
     "metadata": {},
     "output_type": "display_data"
    }
   ],
   "source": [
    "fig = calplot(df_activity_2022, x='ride_date', y='total_distance_mi', colorscale=colorscale, \n",
    "              dark_theme=True, gap=1, month_lines_width=4, month_lines_color='#000000',\n",
    "            showscale=True, total_height=225, title='Ride Mileage 2022')\n",
    "fig.show()"
   ]
  },
  {
   "cell_type": "code",
   "execution_count": 51,
   "id": "7b147603",
   "metadata": {},
   "outputs": [
    {
     "data": {
      "application/vnd.plotly.v1+json": {
       "config": {
        "plotlyServerURL": "https://plot.ly"
       },
       "data": [
        {
         "colorscale": [
          [
           0,
           "#888888"
          ],
          [
           0.1111111111111111,
           "#eaf7af"
          ],
          [
           0.2222222222222222,
           "#d2eda0"
          ],
          [
           0.3333333333333333,
           "#b1df90"
          ],
          [
           0.4444444444444444,
           "#8bce81"
          ],
          [
           0.5555555555555556,
           "#64bc6f"
          ],
          [
           0.6666666666666666,
           "#3fa85b"
          ],
          [
           0.7777777777777777,
           "#288a47"
          ],
          [
           0.8888888888888888,
           "#10743c"
          ],
          [
           1,
           "#005e33"
          ]
         ],
         "customdata": [
          [
           "2021-01-01",
           "y"
          ],
          [
           "2021-01-02",
           "y"
          ],
          [
           "2021-01-03",
           "y"
          ],
          [
           "2021-01-04",
           "y"
          ],
          [
           "2021-01-05",
           "y"
          ],
          [
           "2021-01-06",
           "y"
          ],
          [
           "2021-01-07",
           "y"
          ],
          [
           "2021-01-08",
           "y"
          ],
          [
           "2021-01-09",
           "y"
          ],
          [
           "2021-01-10",
           "y"
          ],
          [
           "2021-01-11",
           "y"
          ],
          [
           "2021-01-12",
           "y"
          ],
          [
           "2021-01-13",
           "y"
          ],
          [
           "2021-01-14",
           "y"
          ],
          [
           "2021-01-15",
           "y"
          ],
          [
           "2021-01-16",
           "y"
          ],
          [
           "2021-01-17",
           "y"
          ],
          [
           "2021-01-18",
           "y"
          ],
          [
           "2021-01-19",
           "y"
          ],
          [
           "2021-01-20",
           "y"
          ],
          [
           "2021-01-21",
           "y"
          ],
          [
           "2021-01-22",
           "y"
          ],
          [
           "2021-01-23",
           "y"
          ],
          [
           "2021-01-24",
           "y"
          ],
          [
           "2021-01-25",
           "y"
          ],
          [
           "2021-01-26",
           "y"
          ],
          [
           "2021-01-27",
           "y"
          ],
          [
           "2021-01-28",
           "y"
          ],
          [
           "2021-01-29",
           "y"
          ],
          [
           "2021-01-30",
           "y"
          ],
          [
           "2021-01-31",
           "y"
          ],
          [
           "2021-02-01",
           "y"
          ],
          [
           "2021-02-02",
           "y"
          ],
          [
           "2021-02-03",
           "y"
          ],
          [
           "2021-02-04",
           "y"
          ],
          [
           "2021-02-05",
           "y"
          ],
          [
           "2021-02-06",
           "y"
          ],
          [
           "2021-02-07",
           "y"
          ],
          [
           "2021-02-08",
           "y"
          ],
          [
           "2021-02-09",
           "y"
          ],
          [
           "2021-02-10",
           "y"
          ],
          [
           "2021-02-11",
           "y"
          ],
          [
           "2021-02-12",
           "y"
          ],
          [
           "2021-02-13",
           "y"
          ],
          [
           "2021-02-14",
           "y"
          ],
          [
           "2021-02-15",
           "y"
          ],
          [
           "2021-02-16",
           "y"
          ],
          [
           "2021-02-17",
           "y"
          ],
          [
           "2021-02-18",
           "y"
          ],
          [
           "2021-02-19",
           "y"
          ],
          [
           "2021-02-20",
           "y"
          ],
          [
           "2021-02-21",
           "y"
          ],
          [
           "2021-02-22",
           "y"
          ],
          [
           "2021-02-23",
           "y"
          ],
          [
           "2021-02-24",
           "y"
          ],
          [
           "2021-02-25",
           "y"
          ],
          [
           "2021-02-26",
           "y"
          ],
          [
           "2021-02-27",
           "y"
          ],
          [
           "2021-02-28",
           "y"
          ],
          [
           "2021-03-01",
           "y"
          ],
          [
           "2021-03-02",
           "y"
          ],
          [
           "2021-03-03",
           "y"
          ],
          [
           "2021-03-04",
           "y"
          ],
          [
           "2021-03-05",
           "y"
          ],
          [
           "2021-03-06",
           "y"
          ],
          [
           "2021-03-07",
           "y"
          ],
          [
           "2021-03-08",
           "y"
          ],
          [
           "2021-03-09",
           "y"
          ],
          [
           "2021-03-10",
           "y"
          ],
          [
           "2021-03-11",
           "y"
          ],
          [
           "2021-03-12",
           "y"
          ],
          [
           "2021-03-13",
           "y"
          ],
          [
           "2021-03-14",
           "y"
          ],
          [
           "2021-03-15",
           "y"
          ],
          [
           "2021-03-16",
           "y"
          ],
          [
           "2021-03-17",
           "y"
          ],
          [
           "2021-03-18",
           "y"
          ],
          [
           "2021-03-19",
           "y"
          ],
          [
           "2021-03-20",
           "y"
          ],
          [
           "2021-03-21",
           "y"
          ],
          [
           "2021-03-22",
           "y"
          ],
          [
           "2021-03-23",
           "y"
          ],
          [
           "2021-03-24",
           "y"
          ],
          [
           "2021-03-25",
           "y"
          ],
          [
           "2021-03-26",
           "y"
          ],
          [
           "2021-03-27",
           "y"
          ],
          [
           "2021-03-28",
           "y"
          ],
          [
           "2021-03-29",
           "y"
          ],
          [
           "2021-03-30",
           "y"
          ],
          [
           "2021-03-31",
           "y"
          ],
          [
           "2021-04-01",
           "y"
          ],
          [
           "2021-04-02",
           "y"
          ],
          [
           "2021-04-03",
           "y"
          ],
          [
           "2021-04-04",
           "y"
          ],
          [
           "2021-04-05",
           "y"
          ],
          [
           "2021-04-06",
           "y"
          ],
          [
           "2021-04-07",
           "y"
          ],
          [
           "2021-04-08",
           "y"
          ],
          [
           "2021-04-09",
           "y"
          ],
          [
           "2021-04-10",
           "y"
          ],
          [
           "2021-04-11",
           "y"
          ],
          [
           "2021-04-12",
           "y"
          ],
          [
           "2021-04-13",
           "y"
          ],
          [
           "2021-04-14",
           "y"
          ],
          [
           "2021-04-15",
           "y"
          ],
          [
           "2021-04-16",
           "y"
          ],
          [
           "2021-04-17",
           "y"
          ],
          [
           "2021-04-18",
           "y"
          ],
          [
           "2021-04-19",
           "y"
          ],
          [
           "2021-04-20",
           "y"
          ],
          [
           "2021-04-21",
           "y"
          ],
          [
           "2021-04-22",
           "y"
          ],
          [
           "2021-04-23",
           "y"
          ],
          [
           "2021-04-24",
           "y"
          ],
          [
           "2021-04-25",
           "y"
          ],
          [
           "2021-04-26",
           "y"
          ],
          [
           "2021-04-27",
           "y"
          ],
          [
           "2021-04-28",
           "y"
          ],
          [
           "2021-04-29",
           "y"
          ],
          [
           "2021-04-30",
           "y"
          ],
          [
           "2021-05-01",
           "y"
          ],
          [
           "2021-05-02",
           "y"
          ],
          [
           "2021-05-03",
           "y"
          ],
          [
           "2021-05-04",
           "y"
          ],
          [
           "2021-05-05",
           "y"
          ],
          [
           "2021-05-06",
           "y"
          ],
          [
           "2021-05-07",
           "y"
          ],
          [
           "2021-05-08",
           "y"
          ],
          [
           "2021-05-09",
           "y"
          ],
          [
           "2021-05-10",
           "y"
          ],
          [
           "2021-05-11",
           "y"
          ],
          [
           "2021-05-12",
           "y"
          ],
          [
           "2021-05-13",
           "y"
          ],
          [
           "2021-05-14",
           "y"
          ],
          [
           "2021-05-15",
           "y"
          ],
          [
           "2021-05-16",
           "y"
          ],
          [
           "2021-05-17",
           "y"
          ],
          [
           "2021-05-18",
           "y"
          ],
          [
           "2021-05-19",
           "y"
          ],
          [
           "2021-05-20",
           "y"
          ],
          [
           "2021-05-21",
           "y"
          ],
          [
           "2021-05-22",
           "y"
          ],
          [
           "2021-05-23",
           "y"
          ],
          [
           "2021-05-24",
           "y"
          ],
          [
           "2021-05-25",
           "y"
          ],
          [
           "2021-05-26",
           "y"
          ],
          [
           "2021-05-27",
           "y"
          ],
          [
           "2021-05-28",
           "y"
          ],
          [
           "2021-05-29",
           "y"
          ],
          [
           "2021-05-30",
           "y"
          ],
          [
           "2021-05-31",
           "y"
          ],
          [
           "2021-06-01",
           "y"
          ],
          [
           "2021-06-02",
           "y"
          ],
          [
           "2021-06-03",
           "y"
          ],
          [
           "2021-06-04",
           "y"
          ],
          [
           "2021-06-05",
           "y"
          ],
          [
           "2021-06-06",
           "y"
          ],
          [
           "2021-06-07",
           "y"
          ],
          [
           "2021-06-08",
           "y"
          ],
          [
           "2021-06-09",
           "y"
          ],
          [
           "2021-06-10",
           "y"
          ],
          [
           "2021-06-11",
           "y"
          ],
          [
           "2021-06-12",
           "y"
          ],
          [
           "2021-06-13",
           "y"
          ],
          [
           "2021-06-14",
           "y"
          ],
          [
           "2021-06-15",
           "y"
          ],
          [
           "2021-06-16",
           "y"
          ],
          [
           "2021-06-17",
           "y"
          ],
          [
           "2021-06-18",
           "y"
          ],
          [
           "2021-06-19",
           "y"
          ],
          [
           "2021-06-20",
           "y"
          ],
          [
           "2021-06-21",
           "y"
          ],
          [
           "2021-06-22",
           "y"
          ],
          [
           "2021-06-23",
           "y"
          ],
          [
           "2021-06-24",
           "y"
          ],
          [
           "2021-06-25",
           "y"
          ],
          [
           "2021-06-26",
           "y"
          ],
          [
           "2021-06-27",
           "y"
          ],
          [
           "2021-06-28",
           "y"
          ],
          [
           "2021-06-29",
           "y"
          ],
          [
           "2021-06-30",
           "y"
          ],
          [
           "2021-07-01",
           "y"
          ],
          [
           "2021-07-02",
           "y"
          ],
          [
           "2021-07-03",
           "y"
          ],
          [
           "2021-07-04",
           "y"
          ],
          [
           "2021-07-05",
           "y"
          ],
          [
           "2021-07-06",
           "y"
          ],
          [
           "2021-07-07",
           "y"
          ],
          [
           "2021-07-08",
           "y"
          ],
          [
           "2021-07-09",
           "y"
          ],
          [
           "2021-07-10",
           "y"
          ],
          [
           "2021-07-11",
           "y"
          ],
          [
           "2021-07-12",
           "y"
          ],
          [
           "2021-07-13",
           "y"
          ],
          [
           "2021-07-14",
           "y"
          ],
          [
           "2021-07-15",
           "y"
          ],
          [
           "2021-07-16",
           "y"
          ],
          [
           "2021-07-17",
           "y"
          ],
          [
           "2021-07-18",
           "y"
          ],
          [
           "2021-07-19",
           "y"
          ],
          [
           "2021-07-20",
           "y"
          ],
          [
           "2021-07-21",
           "y"
          ],
          [
           "2021-07-22",
           "y"
          ],
          [
           "2021-07-23",
           "y"
          ],
          [
           "2021-07-24",
           "y"
          ],
          [
           "2021-07-25",
           "y"
          ],
          [
           "2021-07-26",
           "y"
          ],
          [
           "2021-07-27",
           "y"
          ],
          [
           "2021-07-28",
           "y"
          ],
          [
           "2021-07-29",
           "y"
          ],
          [
           "2021-07-30",
           "y"
          ],
          [
           "2021-07-31",
           "y"
          ],
          [
           "2021-08-01",
           "y"
          ],
          [
           "2021-08-02",
           "y"
          ],
          [
           "2021-08-03",
           "y"
          ],
          [
           "2021-08-04",
           "y"
          ],
          [
           "2021-08-05",
           "y"
          ],
          [
           "2021-08-06",
           "y"
          ],
          [
           "2021-08-07",
           "y"
          ],
          [
           "2021-08-08",
           "y"
          ],
          [
           "2021-08-09",
           "y"
          ],
          [
           "2021-08-10",
           "y"
          ],
          [
           "2021-08-11",
           "y"
          ],
          [
           "2021-08-12",
           "y"
          ],
          [
           "2021-08-13",
           "y"
          ],
          [
           "2021-08-14",
           "y"
          ],
          [
           "2021-08-15",
           "y"
          ],
          [
           "2021-08-16",
           "y"
          ],
          [
           "2021-08-17",
           "y"
          ],
          [
           "2021-08-18",
           "y"
          ],
          [
           "2021-08-19",
           "y"
          ],
          [
           "2021-08-20",
           "y"
          ],
          [
           "2021-08-21",
           "y"
          ],
          [
           "2021-08-22",
           "y"
          ],
          [
           "2021-08-23",
           "y"
          ],
          [
           "2021-08-24",
           "y"
          ],
          [
           "2021-08-25",
           "y"
          ],
          [
           "2021-08-26",
           "y"
          ],
          [
           "2021-08-27",
           "y"
          ],
          [
           "2021-08-28",
           "y"
          ],
          [
           "2021-08-29",
           "y"
          ],
          [
           "2021-08-30",
           "y"
          ],
          [
           "2021-08-31",
           "y"
          ],
          [
           "2021-09-01",
           "y"
          ],
          [
           "2021-09-02",
           "y"
          ],
          [
           "2021-09-03",
           "y"
          ],
          [
           "2021-09-04",
           "y"
          ],
          [
           "2021-09-05",
           "y"
          ],
          [
           "2021-09-06",
           "y"
          ],
          [
           "2021-09-07",
           "y"
          ],
          [
           "2021-09-08",
           "y"
          ],
          [
           "2021-09-09",
           "y"
          ],
          [
           "2021-09-10",
           "y"
          ],
          [
           "2021-09-11",
           "y"
          ],
          [
           "2021-09-12",
           "y"
          ],
          [
           "2021-09-13",
           "y"
          ],
          [
           "2021-09-14",
           "y"
          ],
          [
           "2021-09-15",
           "y"
          ],
          [
           "2021-09-16",
           "y"
          ],
          [
           "2021-09-17",
           "y"
          ],
          [
           "2021-09-18",
           "y"
          ],
          [
           "2021-09-19",
           "y"
          ],
          [
           "2021-09-20",
           "y"
          ],
          [
           "2021-09-21",
           "y"
          ],
          [
           "2021-09-22",
           "y"
          ],
          [
           "2021-09-23",
           "y"
          ],
          [
           "2021-09-24",
           "y"
          ],
          [
           "2021-09-25",
           "y"
          ],
          [
           "2021-09-26",
           "y"
          ],
          [
           "2021-09-27",
           "y"
          ],
          [
           "2021-09-28",
           "y"
          ],
          [
           "2021-09-29",
           "y"
          ],
          [
           "2021-09-30",
           "y"
          ],
          [
           "2021-10-01",
           "y"
          ],
          [
           "2021-10-02",
           "y"
          ],
          [
           "2021-10-03",
           "y"
          ],
          [
           "2021-10-04",
           "y"
          ],
          [
           "2021-10-05",
           "y"
          ],
          [
           "2021-10-06",
           "y"
          ],
          [
           "2021-10-07",
           "y"
          ],
          [
           "2021-10-08",
           "y"
          ],
          [
           "2021-10-09",
           "y"
          ],
          [
           "2021-10-10",
           "y"
          ],
          [
           "2021-10-11",
           "y"
          ],
          [
           "2021-10-12",
           "y"
          ],
          [
           "2021-10-13",
           "y"
          ],
          [
           "2021-10-14",
           "y"
          ],
          [
           "2021-10-15",
           "y"
          ],
          [
           "2021-10-16",
           "y"
          ],
          [
           "2021-10-17",
           "y"
          ],
          [
           "2021-10-18",
           "y"
          ],
          [
           "2021-10-19",
           "y"
          ],
          [
           "2021-10-20",
           "y"
          ],
          [
           "2021-10-21",
           "y"
          ],
          [
           "2021-10-22",
           "y"
          ],
          [
           "2021-10-23",
           "y"
          ],
          [
           "2021-10-24",
           "y"
          ],
          [
           "2021-10-25",
           "y"
          ],
          [
           "2021-10-26",
           "y"
          ],
          [
           "2021-10-27",
           "y"
          ],
          [
           "2021-10-28",
           "y"
          ],
          [
           "2021-10-29",
           "y"
          ],
          [
           "2021-10-30",
           "y"
          ],
          [
           "2021-10-31",
           "y"
          ],
          [
           "2021-11-01",
           "y"
          ],
          [
           "2021-11-02",
           "y"
          ],
          [
           "2021-11-03",
           "y"
          ],
          [
           "2021-11-04",
           "y"
          ],
          [
           "2021-11-05",
           "y"
          ],
          [
           "2021-11-06",
           "y"
          ],
          [
           "2021-11-07",
           "y"
          ],
          [
           "2021-11-08",
           "y"
          ],
          [
           "2021-11-09",
           "y"
          ],
          [
           "2021-11-10",
           "y"
          ],
          [
           "2021-11-11",
           "y"
          ],
          [
           "2021-11-12",
           "y"
          ],
          [
           "2021-11-13",
           "y"
          ],
          [
           "2021-11-14",
           "y"
          ],
          [
           "2021-11-15",
           "y"
          ],
          [
           "2021-11-16",
           "y"
          ],
          [
           "2021-11-17",
           "y"
          ],
          [
           "2021-11-18",
           "y"
          ],
          [
           "2021-11-19",
           "y"
          ],
          [
           "2021-11-20",
           "y"
          ],
          [
           "2021-11-21",
           "y"
          ],
          [
           "2021-11-22",
           "y"
          ],
          [
           "2021-11-23",
           "y"
          ],
          [
           "2021-11-24",
           "y"
          ],
          [
           "2021-11-25",
           "y"
          ],
          [
           "2021-11-26",
           "y"
          ],
          [
           "2021-11-27",
           "y"
          ],
          [
           "2021-11-28",
           "y"
          ],
          [
           "2021-11-29",
           "y"
          ],
          [
           "2021-11-30",
           "y"
          ],
          [
           "2021-12-01",
           "y"
          ],
          [
           "2021-12-02",
           "y"
          ],
          [
           "2021-12-03",
           "y"
          ],
          [
           "2021-12-04",
           "y"
          ],
          [
           "2021-12-05",
           "y"
          ],
          [
           "2021-12-06",
           "y"
          ],
          [
           "2021-12-07",
           "y"
          ],
          [
           "2021-12-08",
           "y"
          ],
          [
           "2021-12-09",
           "y"
          ],
          [
           "2021-12-10",
           "y"
          ],
          [
           "2021-12-11",
           "y"
          ],
          [
           "2021-12-12",
           "y"
          ],
          [
           "2021-12-13",
           "y"
          ],
          [
           "2021-12-14",
           "y"
          ],
          [
           "2021-12-15",
           "y"
          ],
          [
           "2021-12-16",
           "y"
          ],
          [
           "2021-12-17",
           "y"
          ],
          [
           "2021-12-18",
           "y"
          ],
          [
           "2021-12-19",
           "y"
          ],
          [
           "2021-12-20",
           "y"
          ],
          [
           "2021-12-21",
           "y"
          ],
          [
           "2021-12-22",
           "y"
          ],
          [
           "2021-12-23",
           "y"
          ],
          [
           "2021-12-24",
           "y"
          ],
          [
           "2021-12-25",
           "y"
          ],
          [
           "2021-12-26",
           "y"
          ],
          [
           "2021-12-27",
           "y"
          ],
          [
           "2021-12-28",
           "y"
          ],
          [
           "2021-12-29",
           "y"
          ],
          [
           "2021-12-30",
           "y"
          ],
          [
           "2021-12-31",
           "y"
          ]
         ],
         "hovertemplate": "%{customdata[0]} <br>Week=%{x} <br>%{customdata[1]}=%{z}",
         "name": "2021",
         "showscale": true,
         "type": "heatmap",
         "x": [
          0,
          0,
          0,
          1,
          1,
          1,
          1,
          1,
          1,
          1,
          2,
          2,
          2,
          2,
          2,
          2,
          2,
          3,
          3,
          3,
          3,
          3,
          3,
          3,
          4,
          4,
          4,
          4,
          4,
          4,
          4,
          5,
          5,
          5,
          5,
          5,
          5,
          5,
          6,
          6,
          6,
          6,
          6,
          6,
          6,
          7,
          7,
          7,
          7,
          7,
          7,
          7,
          8,
          8,
          8,
          8,
          8,
          8,
          8,
          9,
          9,
          9,
          9,
          9,
          9,
          9,
          10,
          10,
          10,
          10,
          10,
          10,
          10,
          11,
          11,
          11,
          11,
          11,
          11,
          11,
          12,
          12,
          12,
          12,
          12,
          12,
          12,
          13,
          13,
          13,
          13,
          13,
          13,
          13,
          14,
          14,
          14,
          14,
          14,
          14,
          14,
          15,
          15,
          15,
          15,
          15,
          15,
          15,
          16,
          16,
          16,
          16,
          16,
          16,
          16,
          17,
          17,
          17,
          17,
          17,
          17,
          17,
          18,
          18,
          18,
          18,
          18,
          18,
          18,
          19,
          19,
          19,
          19,
          19,
          19,
          19,
          20,
          20,
          20,
          20,
          20,
          20,
          20,
          21,
          21,
          21,
          21,
          21,
          21,
          21,
          22,
          22,
          22,
          22,
          22,
          22,
          22,
          23,
          23,
          23,
          23,
          23,
          23,
          23,
          24,
          24,
          24,
          24,
          24,
          24,
          24,
          25,
          25,
          25,
          25,
          25,
          25,
          25,
          26,
          26,
          26,
          26,
          26,
          26,
          26,
          27,
          27,
          27,
          27,
          27,
          27,
          27,
          28,
          28,
          28,
          28,
          28,
          28,
          28,
          29,
          29,
          29,
          29,
          29,
          29,
          29,
          30,
          30,
          30,
          30,
          30,
          30,
          30,
          31,
          31,
          31,
          31,
          31,
          31,
          31,
          32,
          32,
          32,
          32,
          32,
          32,
          32,
          33,
          33,
          33,
          33,
          33,
          33,
          33,
          34,
          34,
          34,
          34,
          34,
          34,
          34,
          35,
          35,
          35,
          35,
          35,
          35,
          35,
          36,
          36,
          36,
          36,
          36,
          36,
          36,
          37,
          37,
          37,
          37,
          37,
          37,
          37,
          38,
          38,
          38,
          38,
          38,
          38,
          38,
          39,
          39,
          39,
          39,
          39,
          39,
          39,
          40,
          40,
          40,
          40,
          40,
          40,
          40,
          41,
          41,
          41,
          41,
          41,
          41,
          41,
          42,
          42,
          42,
          42,
          42,
          42,
          42,
          43,
          43,
          43,
          43,
          43,
          43,
          43,
          44,
          44,
          44,
          44,
          44,
          44,
          44,
          45,
          45,
          45,
          45,
          45,
          45,
          45,
          46,
          46,
          46,
          46,
          46,
          46,
          46,
          47,
          47,
          47,
          47,
          47,
          47,
          47,
          48,
          48,
          48,
          48,
          48,
          48,
          48,
          49,
          49,
          49,
          49,
          49,
          49,
          49,
          50,
          50,
          50,
          50,
          50,
          50,
          50,
          51,
          51,
          51,
          51,
          51,
          51,
          51,
          52,
          52,
          52,
          52,
          52
         ],
         "xaxis": "x",
         "xgap": 1,
         "y": [
          4,
          5,
          6,
          0,
          1,
          2,
          3,
          4,
          5,
          6,
          0,
          1,
          2,
          3,
          4,
          5,
          6,
          0,
          1,
          2,
          3,
          4,
          5,
          6,
          0,
          1,
          2,
          3,
          4,
          5,
          6,
          0,
          1,
          2,
          3,
          4,
          5,
          6,
          0,
          1,
          2,
          3,
          4,
          5,
          6,
          0,
          1,
          2,
          3,
          4,
          5,
          6,
          0,
          1,
          2,
          3,
          4,
          5,
          6,
          0,
          1,
          2,
          3,
          4,
          5,
          6,
          0,
          1,
          2,
          3,
          4,
          5,
          6,
          0,
          1,
          2,
          3,
          4,
          5,
          6,
          0,
          1,
          2,
          3,
          4,
          5,
          6,
          0,
          1,
          2,
          3,
          4,
          5,
          6,
          0,
          1,
          2,
          3,
          4,
          5,
          6,
          0,
          1,
          2,
          3,
          4,
          5,
          6,
          0,
          1,
          2,
          3,
          4,
          5,
          6,
          0,
          1,
          2,
          3,
          4,
          5,
          6,
          0,
          1,
          2,
          3,
          4,
          5,
          6,
          0,
          1,
          2,
          3,
          4,
          5,
          6,
          0,
          1,
          2,
          3,
          4,
          5,
          6,
          0,
          1,
          2,
          3,
          4,
          5,
          6,
          0,
          1,
          2,
          3,
          4,
          5,
          6,
          0,
          1,
          2,
          3,
          4,
          5,
          6,
          0,
          1,
          2,
          3,
          4,
          5,
          6,
          0,
          1,
          2,
          3,
          4,
          5,
          6,
          0,
          1,
          2,
          3,
          4,
          5,
          6,
          0,
          1,
          2,
          3,
          4,
          5,
          6,
          0,
          1,
          2,
          3,
          4,
          5,
          6,
          0,
          1,
          2,
          3,
          4,
          5,
          6,
          0,
          1,
          2,
          3,
          4,
          5,
          6,
          0,
          1,
          2,
          3,
          4,
          5,
          6,
          0,
          1,
          2,
          3,
          4,
          5,
          6,
          0,
          1,
          2,
          3,
          4,
          5,
          6,
          0,
          1,
          2,
          3,
          4,
          5,
          6,
          0,
          1,
          2,
          3,
          4,
          5,
          6,
          0,
          1,
          2,
          3,
          4,
          5,
          6,
          0,
          1,
          2,
          3,
          4,
          5,
          6,
          0,
          1,
          2,
          3,
          4,
          5,
          6,
          0,
          1,
          2,
          3,
          4,
          5,
          6,
          0,
          1,
          2,
          3,
          4,
          5,
          6,
          0,
          1,
          2,
          3,
          4,
          5,
          6,
          0,
          1,
          2,
          3,
          4,
          5,
          6,
          0,
          1,
          2,
          3,
          4,
          5,
          6,
          0,
          1,
          2,
          3,
          4,
          5,
          6,
          0,
          1,
          2,
          3,
          4,
          5,
          6,
          0,
          1,
          2,
          3,
          4,
          5,
          6,
          0,
          1,
          2,
          3,
          4,
          5,
          6,
          0,
          1,
          2,
          3,
          4,
          5,
          6,
          0,
          1,
          2,
          3,
          4,
          5,
          6,
          0,
          1,
          2,
          3,
          4,
          5,
          6,
          0,
          1,
          2,
          3,
          4,
          5,
          6,
          0,
          1,
          2,
          3,
          4
         ],
         "yaxis": "y",
         "ygap": 1,
         "z": [
          0,
          0,
          0,
          4.696760588979611,
          0,
          0,
          0,
          7.202016177616263,
          0,
          0,
          0,
          0,
          0,
          0,
          0,
          0,
          7.608263336435382,
          0,
          10.87901211903725,
          0,
          5.984076274205081,
          10.242076375029846,
          0,
          0,
          0,
          0,
          0,
          12.447298861995796,
          11.27661587480377,
          0,
          4.413438882228614,
          0,
          0,
          0,
          0,
          0,
          0,
          0,
          0,
          0,
          0,
          0,
          0,
          0,
          0,
          0,
          0,
          0,
          0,
          0,
          0,
          0,
          0,
          0,
          0,
          0,
          0,
          13.302623247403115,
          0,
          0,
          7.03223160810807,
          0,
          0,
          0,
          0,
          0,
          0,
          0,
          0,
          0,
          0,
          0,
          0,
          0,
          11.660597612325562,
          0,
          0,
          5.538396777062228,
          0,
          3.429517596737498,
          9.43872122719133,
          0,
          0,
          0,
          0,
          50.743399462826595,
          0,
          0,
          0,
          0,
          0,
          7.186407127552372,
          0,
          29.24021162719183,
          0,
          10.85471202603046,
          0,
          9.97124646278968,
          21.263372366829195,
          0,
          0,
          0,
          0,
          0,
          0,
          0,
          0,
          0,
          0,
          23.395655117346383,
          0,
          0,
          0,
          0,
          7.181262216240954,
          11.073183510465512,
          3.05340765774888,
          0,
          0,
          0,
          0,
          0,
          0,
          0,
          0,
          0,
          0,
          0,
          0,
          24.64513928439106,
          7.940703461842594,
          0,
          11.123604950579647,
          5.85833408878176,
          22.816052463055843,
          13.763187563271678,
          0,
          0,
          0,
          7.549543688746515,
          9.095189442765182,
          11.079827371195757,
          0,
          0,
          7.168326944282772,
          0,
          0,
          0,
          0,
          0,
          0,
          0,
          0,
          0,
          6.304962846735292,
          0,
          0,
          9.17822597429341,
          0,
          15.836916968449644,
          0,
          0,
          0,
          0,
          0,
          0,
          0,
          0,
          0,
          0,
          7.764419904271805,
          0,
          21.41610726580877,
          0,
          0,
          0,
          0,
          0,
          0,
          0,
          0,
          0,
          0,
          0,
          0,
          11.29772379067309,
          5.822936445319887,
          0,
          0,
          0,
          0,
          0,
          0,
          0,
          7.477886457555918,
          0,
          0,
          16.37514213510245,
          10.05075619339405,
          0,
          7.922606635600459,
          0,
          0,
          0,
          0,
          1.4825383167913209,
          0,
          12.988801496768904,
          0,
          0,
          0,
          0,
          11.874104077688298,
          0,
          8.96343419216864,
          4.673973591871286,
          7.096597929977041,
          10.778123110855812,
          10.583661557953231,
          0,
          0,
          5.981011062024407,
          0,
          0,
          0,
          0,
          11.204261468383434,
          13.865853984316134,
          0,
          0,
          21.36850457567982,
          8.333605353029856,
          0,
          0,
          0,
          0,
          0,
          0,
          0,
          0,
          0,
          0,
          0,
          0,
          20.69345069208015,
          0,
          0,
          0,
          0,
          0,
          0,
          12.162818605204144,
          0,
          0,
          0,
          0,
          0,
          6.592513769604133,
          0,
          9.72217954427436,
          0,
          0,
          7.454633455732634,
          7.141661390080789,
          0,
          25.649236460938997,
          0,
          8.433574539474535,
          0,
          0,
          7.854626170324589,
          11.456430583137273,
          0,
          0,
          0,
          0,
          0,
          0,
          0,
          0,
          0,
          33.86674424435796,
          13.686545393025805,
          21.91256475345165,
          0,
          9.987147159304396,
          34.83494447589671,
          3.389061531765124,
          7.734868805008401,
          0,
          10.10014284184951,
          0,
          0,
          0,
          0,
          0,
          0,
          0,
          9.642270092029609,
          0,
          0,
          0,
          0,
          0,
          0,
          0,
          0,
          0,
          0,
          0,
          0,
          0,
          0,
          0,
          0,
          0,
          0,
          0,
          0,
          0,
          0,
          0,
          0,
          0,
          0,
          0,
          0,
          0,
          0,
          0,
          0,
          0,
          0,
          0,
          0,
          0,
          0,
          0,
          0,
          0,
          0,
          0,
          0,
          0,
          0,
          0,
          0,
          0,
          0,
          0,
          0,
          0,
          0,
          0,
          0,
          0,
          0,
          0,
          0,
          25.868030375665505,
          0,
          0,
          0,
          11.853743015936374,
          0
         ],
         "zmax": 50.743399462826595,
         "zmin": 0
        },
        {
         "hoverinfo": "skip",
         "line": {
          "color": "#000000",
          "width": 4
         },
         "mode": "lines",
         "type": "scatter",
         "x": [
          -0.5,
          -0.5
         ],
         "xaxis": "x",
         "y": [
          3.5,
          6.5
         ],
         "yaxis": "y"
        },
        {
         "hoverinfo": "skip",
         "line": {
          "color": "#000000",
          "width": 4
         },
         "mode": "lines",
         "type": "scatter",
         "x": [
          -0.5,
          0.5
         ],
         "xaxis": "x",
         "y": [
          3.5,
          3.5
         ],
         "yaxis": "y"
        },
        {
         "hoverinfo": "skip",
         "line": {
          "color": "#000000",
          "width": 4
         },
         "mode": "lines",
         "type": "scatter",
         "x": [
          0.5,
          0.5
         ],
         "xaxis": "x",
         "y": [
          3.5,
          -0.5
         ],
         "yaxis": "y"
        },
        {
         "hoverinfo": "skip",
         "line": {
          "color": "#000000",
          "width": 4
         },
         "mode": "lines",
         "type": "scatter",
         "x": [
          4.5,
          4.5
         ],
         "xaxis": "x",
         "y": [
          -0.5,
          6.5
         ],
         "yaxis": "y"
        },
        {
         "hoverinfo": "skip",
         "line": {
          "color": "#000000",
          "width": 4
         },
         "mode": "lines",
         "type": "scatter",
         "x": [
          8.5,
          8.5
         ],
         "xaxis": "x",
         "y": [
          -0.5,
          6.5
         ],
         "yaxis": "y"
        },
        {
         "hoverinfo": "skip",
         "line": {
          "color": "#000000",
          "width": 4
         },
         "mode": "lines",
         "type": "scatter",
         "x": [
          12.5,
          12.5
         ],
         "xaxis": "x",
         "y": [
          2.5,
          6.5
         ],
         "yaxis": "y"
        },
        {
         "hoverinfo": "skip",
         "line": {
          "color": "#000000",
          "width": 4
         },
         "mode": "lines",
         "type": "scatter",
         "x": [
          12.5,
          13.5
         ],
         "xaxis": "x",
         "y": [
          2.5,
          2.5
         ],
         "yaxis": "y"
        },
        {
         "hoverinfo": "skip",
         "line": {
          "color": "#000000",
          "width": 4
         },
         "mode": "lines",
         "type": "scatter",
         "x": [
          13.5,
          13.5
         ],
         "xaxis": "x",
         "y": [
          2.5,
          -0.5
         ],
         "yaxis": "y"
        },
        {
         "hoverinfo": "skip",
         "line": {
          "color": "#000000",
          "width": 4
         },
         "mode": "lines",
         "type": "scatter",
         "x": [
          16.5,
          16.5
         ],
         "xaxis": "x",
         "y": [
          4.5,
          6.5
         ],
         "yaxis": "y"
        },
        {
         "hoverinfo": "skip",
         "line": {
          "color": "#000000",
          "width": 4
         },
         "mode": "lines",
         "type": "scatter",
         "x": [
          16.5,
          17.5
         ],
         "xaxis": "x",
         "y": [
          4.5,
          4.5
         ],
         "yaxis": "y"
        },
        {
         "hoverinfo": "skip",
         "line": {
          "color": "#000000",
          "width": 4
         },
         "mode": "lines",
         "type": "scatter",
         "x": [
          17.5,
          17.5
         ],
         "xaxis": "x",
         "y": [
          4.5,
          -0.5
         ],
         "yaxis": "y"
        },
        {
         "hoverinfo": "skip",
         "line": {
          "color": "#000000",
          "width": 4
         },
         "mode": "lines",
         "type": "scatter",
         "x": [
          21.5,
          21.5
         ],
         "xaxis": "x",
         "y": [
          0.5,
          6.5
         ],
         "yaxis": "y"
        },
        {
         "hoverinfo": "skip",
         "line": {
          "color": "#000000",
          "width": 4
         },
         "mode": "lines",
         "type": "scatter",
         "x": [
          21.5,
          22.5
         ],
         "xaxis": "x",
         "y": [
          0.5,
          0.5
         ],
         "yaxis": "y"
        },
        {
         "hoverinfo": "skip",
         "line": {
          "color": "#000000",
          "width": 4
         },
         "mode": "lines",
         "type": "scatter",
         "x": [
          22.5,
          22.5
         ],
         "xaxis": "x",
         "y": [
          0.5,
          -0.5
         ],
         "yaxis": "y"
        },
        {
         "hoverinfo": "skip",
         "line": {
          "color": "#000000",
          "width": 4
         },
         "mode": "lines",
         "type": "scatter",
         "x": [
          25.5,
          25.5
         ],
         "xaxis": "x",
         "y": [
          2.5,
          6.5
         ],
         "yaxis": "y"
        },
        {
         "hoverinfo": "skip",
         "line": {
          "color": "#000000",
          "width": 4
         },
         "mode": "lines",
         "type": "scatter",
         "x": [
          25.5,
          26.5
         ],
         "xaxis": "x",
         "y": [
          2.5,
          2.5
         ],
         "yaxis": "y"
        },
        {
         "hoverinfo": "skip",
         "line": {
          "color": "#000000",
          "width": 4
         },
         "mode": "lines",
         "type": "scatter",
         "x": [
          26.5,
          26.5
         ],
         "xaxis": "x",
         "y": [
          2.5,
          -0.5
         ],
         "yaxis": "y"
        },
        {
         "hoverinfo": "skip",
         "line": {
          "color": "#000000",
          "width": 4
         },
         "mode": "lines",
         "type": "scatter",
         "x": [
          29.5,
          29.5
         ],
         "xaxis": "x",
         "y": [
          5.5,
          6.5
         ],
         "yaxis": "y"
        },
        {
         "hoverinfo": "skip",
         "line": {
          "color": "#000000",
          "width": 4
         },
         "mode": "lines",
         "type": "scatter",
         "x": [
          29.5,
          30.5
         ],
         "xaxis": "x",
         "y": [
          5.5,
          5.5
         ],
         "yaxis": "y"
        },
        {
         "hoverinfo": "skip",
         "line": {
          "color": "#000000",
          "width": 4
         },
         "mode": "lines",
         "type": "scatter",
         "x": [
          30.5,
          30.5
         ],
         "xaxis": "x",
         "y": [
          5.5,
          -0.5
         ],
         "yaxis": "y"
        },
        {
         "hoverinfo": "skip",
         "line": {
          "color": "#000000",
          "width": 4
         },
         "mode": "lines",
         "type": "scatter",
         "x": [
          34.5,
          34.5
         ],
         "xaxis": "x",
         "y": [
          1.5,
          6.5
         ],
         "yaxis": "y"
        },
        {
         "hoverinfo": "skip",
         "line": {
          "color": "#000000",
          "width": 4
         },
         "mode": "lines",
         "type": "scatter",
         "x": [
          34.5,
          35.5
         ],
         "xaxis": "x",
         "y": [
          1.5,
          1.5
         ],
         "yaxis": "y"
        },
        {
         "hoverinfo": "skip",
         "line": {
          "color": "#000000",
          "width": 4
         },
         "mode": "lines",
         "type": "scatter",
         "x": [
          35.5,
          35.5
         ],
         "xaxis": "x",
         "y": [
          1.5,
          -0.5
         ],
         "yaxis": "y"
        },
        {
         "hoverinfo": "skip",
         "line": {
          "color": "#000000",
          "width": 4
         },
         "mode": "lines",
         "type": "scatter",
         "x": [
          38.5,
          38.5
         ],
         "xaxis": "x",
         "y": [
          3.5,
          6.5
         ],
         "yaxis": "y"
        },
        {
         "hoverinfo": "skip",
         "line": {
          "color": "#000000",
          "width": 4
         },
         "mode": "lines",
         "type": "scatter",
         "x": [
          38.5,
          39.5
         ],
         "xaxis": "x",
         "y": [
          3.5,
          3.5
         ],
         "yaxis": "y"
        },
        {
         "hoverinfo": "skip",
         "line": {
          "color": "#000000",
          "width": 4
         },
         "mode": "lines",
         "type": "scatter",
         "x": [
          39.5,
          39.5
         ],
         "xaxis": "x",
         "y": [
          3.5,
          -0.5
         ],
         "yaxis": "y"
        },
        {
         "hoverinfo": "skip",
         "line": {
          "color": "#000000",
          "width": 4
         },
         "mode": "lines",
         "type": "scatter",
         "x": [
          43.5,
          43.5
         ],
         "xaxis": "x",
         "y": [
          -0.5,
          6.5
         ],
         "yaxis": "y"
        },
        {
         "hoverinfo": "skip",
         "line": {
          "color": "#000000",
          "width": 4
         },
         "mode": "lines",
         "type": "scatter",
         "x": [
          47.5,
          47.5
         ],
         "xaxis": "x",
         "y": [
          1.5,
          6.5
         ],
         "yaxis": "y"
        },
        {
         "hoverinfo": "skip",
         "line": {
          "color": "#000000",
          "width": 4
         },
         "mode": "lines",
         "type": "scatter",
         "x": [
          47.5,
          48.5
         ],
         "xaxis": "x",
         "y": [
          1.5,
          1.5
         ],
         "yaxis": "y"
        },
        {
         "hoverinfo": "skip",
         "line": {
          "color": "#000000",
          "width": 4
         },
         "mode": "lines",
         "type": "scatter",
         "x": [
          48.5,
          48.5
         ],
         "xaxis": "x",
         "y": [
          1.5,
          -0.5
         ],
         "yaxis": "y"
        }
       ],
       "layout": {
        "font": {
         "color": "#fff",
         "size": 10
        },
        "height": 225,
        "margin": {
         "b": 20,
         "t": 20
        },
        "paper_bgcolor": "#333",
        "plot_bgcolor": "#333",
        "showlegend": false,
        "template": {
         "data": {
          "bar": [
           {
            "error_x": {
             "color": "#2a3f5f"
            },
            "error_y": {
             "color": "#2a3f5f"
            },
            "marker": {
             "line": {
              "color": "#E5ECF6",
              "width": 0.5
             },
             "pattern": {
              "fillmode": "overlay",
              "size": 10,
              "solidity": 0.2
             }
            },
            "type": "bar"
           }
          ],
          "barpolar": [
           {
            "marker": {
             "line": {
              "color": "#E5ECF6",
              "width": 0.5
             },
             "pattern": {
              "fillmode": "overlay",
              "size": 10,
              "solidity": 0.2
             }
            },
            "type": "barpolar"
           }
          ],
          "carpet": [
           {
            "aaxis": {
             "endlinecolor": "#2a3f5f",
             "gridcolor": "white",
             "linecolor": "white",
             "minorgridcolor": "white",
             "startlinecolor": "#2a3f5f"
            },
            "baxis": {
             "endlinecolor": "#2a3f5f",
             "gridcolor": "white",
             "linecolor": "white",
             "minorgridcolor": "white",
             "startlinecolor": "#2a3f5f"
            },
            "type": "carpet"
           }
          ],
          "choropleth": [
           {
            "colorbar": {
             "outlinewidth": 0,
             "ticks": ""
            },
            "type": "choropleth"
           }
          ],
          "contour": [
           {
            "colorbar": {
             "outlinewidth": 0,
             "ticks": ""
            },
            "colorscale": [
             [
              0,
              "#0d0887"
             ],
             [
              0.1111111111111111,
              "#46039f"
             ],
             [
              0.2222222222222222,
              "#7201a8"
             ],
             [
              0.3333333333333333,
              "#9c179e"
             ],
             [
              0.4444444444444444,
              "#bd3786"
             ],
             [
              0.5555555555555556,
              "#d8576b"
             ],
             [
              0.6666666666666666,
              "#ed7953"
             ],
             [
              0.7777777777777778,
              "#fb9f3a"
             ],
             [
              0.8888888888888888,
              "#fdca26"
             ],
             [
              1,
              "#f0f921"
             ]
            ],
            "type": "contour"
           }
          ],
          "contourcarpet": [
           {
            "colorbar": {
             "outlinewidth": 0,
             "ticks": ""
            },
            "type": "contourcarpet"
           }
          ],
          "heatmap": [
           {
            "colorbar": {
             "outlinewidth": 0,
             "ticks": ""
            },
            "colorscale": [
             [
              0,
              "#0d0887"
             ],
             [
              0.1111111111111111,
              "#46039f"
             ],
             [
              0.2222222222222222,
              "#7201a8"
             ],
             [
              0.3333333333333333,
              "#9c179e"
             ],
             [
              0.4444444444444444,
              "#bd3786"
             ],
             [
              0.5555555555555556,
              "#d8576b"
             ],
             [
              0.6666666666666666,
              "#ed7953"
             ],
             [
              0.7777777777777778,
              "#fb9f3a"
             ],
             [
              0.8888888888888888,
              "#fdca26"
             ],
             [
              1,
              "#f0f921"
             ]
            ],
            "type": "heatmap"
           }
          ],
          "heatmapgl": [
           {
            "colorbar": {
             "outlinewidth": 0,
             "ticks": ""
            },
            "colorscale": [
             [
              0,
              "#0d0887"
             ],
             [
              0.1111111111111111,
              "#46039f"
             ],
             [
              0.2222222222222222,
              "#7201a8"
             ],
             [
              0.3333333333333333,
              "#9c179e"
             ],
             [
              0.4444444444444444,
              "#bd3786"
             ],
             [
              0.5555555555555556,
              "#d8576b"
             ],
             [
              0.6666666666666666,
              "#ed7953"
             ],
             [
              0.7777777777777778,
              "#fb9f3a"
             ],
             [
              0.8888888888888888,
              "#fdca26"
             ],
             [
              1,
              "#f0f921"
             ]
            ],
            "type": "heatmapgl"
           }
          ],
          "histogram": [
           {
            "marker": {
             "pattern": {
              "fillmode": "overlay",
              "size": 10,
              "solidity": 0.2
             }
            },
            "type": "histogram"
           }
          ],
          "histogram2d": [
           {
            "colorbar": {
             "outlinewidth": 0,
             "ticks": ""
            },
            "colorscale": [
             [
              0,
              "#0d0887"
             ],
             [
              0.1111111111111111,
              "#46039f"
             ],
             [
              0.2222222222222222,
              "#7201a8"
             ],
             [
              0.3333333333333333,
              "#9c179e"
             ],
             [
              0.4444444444444444,
              "#bd3786"
             ],
             [
              0.5555555555555556,
              "#d8576b"
             ],
             [
              0.6666666666666666,
              "#ed7953"
             ],
             [
              0.7777777777777778,
              "#fb9f3a"
             ],
             [
              0.8888888888888888,
              "#fdca26"
             ],
             [
              1,
              "#f0f921"
             ]
            ],
            "type": "histogram2d"
           }
          ],
          "histogram2dcontour": [
           {
            "colorbar": {
             "outlinewidth": 0,
             "ticks": ""
            },
            "colorscale": [
             [
              0,
              "#0d0887"
             ],
             [
              0.1111111111111111,
              "#46039f"
             ],
             [
              0.2222222222222222,
              "#7201a8"
             ],
             [
              0.3333333333333333,
              "#9c179e"
             ],
             [
              0.4444444444444444,
              "#bd3786"
             ],
             [
              0.5555555555555556,
              "#d8576b"
             ],
             [
              0.6666666666666666,
              "#ed7953"
             ],
             [
              0.7777777777777778,
              "#fb9f3a"
             ],
             [
              0.8888888888888888,
              "#fdca26"
             ],
             [
              1,
              "#f0f921"
             ]
            ],
            "type": "histogram2dcontour"
           }
          ],
          "mesh3d": [
           {
            "colorbar": {
             "outlinewidth": 0,
             "ticks": ""
            },
            "type": "mesh3d"
           }
          ],
          "parcoords": [
           {
            "line": {
             "colorbar": {
              "outlinewidth": 0,
              "ticks": ""
             }
            },
            "type": "parcoords"
           }
          ],
          "pie": [
           {
            "automargin": true,
            "type": "pie"
           }
          ],
          "scatter": [
           {
            "fillpattern": {
             "fillmode": "overlay",
             "size": 10,
             "solidity": 0.2
            },
            "type": "scatter"
           }
          ],
          "scatter3d": [
           {
            "line": {
             "colorbar": {
              "outlinewidth": 0,
              "ticks": ""
             }
            },
            "marker": {
             "colorbar": {
              "outlinewidth": 0,
              "ticks": ""
             }
            },
            "type": "scatter3d"
           }
          ],
          "scattercarpet": [
           {
            "marker": {
             "colorbar": {
              "outlinewidth": 0,
              "ticks": ""
             }
            },
            "type": "scattercarpet"
           }
          ],
          "scattergeo": [
           {
            "marker": {
             "colorbar": {
              "outlinewidth": 0,
              "ticks": ""
             }
            },
            "type": "scattergeo"
           }
          ],
          "scattergl": [
           {
            "marker": {
             "colorbar": {
              "outlinewidth": 0,
              "ticks": ""
             }
            },
            "type": "scattergl"
           }
          ],
          "scattermapbox": [
           {
            "marker": {
             "colorbar": {
              "outlinewidth": 0,
              "ticks": ""
             }
            },
            "type": "scattermapbox"
           }
          ],
          "scatterpolar": [
           {
            "marker": {
             "colorbar": {
              "outlinewidth": 0,
              "ticks": ""
             }
            },
            "type": "scatterpolar"
           }
          ],
          "scatterpolargl": [
           {
            "marker": {
             "colorbar": {
              "outlinewidth": 0,
              "ticks": ""
             }
            },
            "type": "scatterpolargl"
           }
          ],
          "scatterternary": [
           {
            "marker": {
             "colorbar": {
              "outlinewidth": 0,
              "ticks": ""
             }
            },
            "type": "scatterternary"
           }
          ],
          "surface": [
           {
            "colorbar": {
             "outlinewidth": 0,
             "ticks": ""
            },
            "colorscale": [
             [
              0,
              "#0d0887"
             ],
             [
              0.1111111111111111,
              "#46039f"
             ],
             [
              0.2222222222222222,
              "#7201a8"
             ],
             [
              0.3333333333333333,
              "#9c179e"
             ],
             [
              0.4444444444444444,
              "#bd3786"
             ],
             [
              0.5555555555555556,
              "#d8576b"
             ],
             [
              0.6666666666666666,
              "#ed7953"
             ],
             [
              0.7777777777777778,
              "#fb9f3a"
             ],
             [
              0.8888888888888888,
              "#fdca26"
             ],
             [
              1,
              "#f0f921"
             ]
            ],
            "type": "surface"
           }
          ],
          "table": [
           {
            "cells": {
             "fill": {
              "color": "#EBF0F8"
             },
             "line": {
              "color": "white"
             }
            },
            "header": {
             "fill": {
              "color": "#C8D4E3"
             },
             "line": {
              "color": "white"
             }
            },
            "type": "table"
           }
          ]
         },
         "layout": {
          "annotationdefaults": {
           "arrowcolor": "#2a3f5f",
           "arrowhead": 0,
           "arrowwidth": 1
          },
          "autotypenumbers": "strict",
          "coloraxis": {
           "colorbar": {
            "outlinewidth": 0,
            "ticks": ""
           }
          },
          "colorscale": {
           "diverging": [
            [
             0,
             "#8e0152"
            ],
            [
             0.1,
             "#c51b7d"
            ],
            [
             0.2,
             "#de77ae"
            ],
            [
             0.3,
             "#f1b6da"
            ],
            [
             0.4,
             "#fde0ef"
            ],
            [
             0.5,
             "#f7f7f7"
            ],
            [
             0.6,
             "#e6f5d0"
            ],
            [
             0.7,
             "#b8e186"
            ],
            [
             0.8,
             "#7fbc41"
            ],
            [
             0.9,
             "#4d9221"
            ],
            [
             1,
             "#276419"
            ]
           ],
           "sequential": [
            [
             0,
             "#0d0887"
            ],
            [
             0.1111111111111111,
             "#46039f"
            ],
            [
             0.2222222222222222,
             "#7201a8"
            ],
            [
             0.3333333333333333,
             "#9c179e"
            ],
            [
             0.4444444444444444,
             "#bd3786"
            ],
            [
             0.5555555555555556,
             "#d8576b"
            ],
            [
             0.6666666666666666,
             "#ed7953"
            ],
            [
             0.7777777777777778,
             "#fb9f3a"
            ],
            [
             0.8888888888888888,
             "#fdca26"
            ],
            [
             1,
             "#f0f921"
            ]
           ],
           "sequentialminus": [
            [
             0,
             "#0d0887"
            ],
            [
             0.1111111111111111,
             "#46039f"
            ],
            [
             0.2222222222222222,
             "#7201a8"
            ],
            [
             0.3333333333333333,
             "#9c179e"
            ],
            [
             0.4444444444444444,
             "#bd3786"
            ],
            [
             0.5555555555555556,
             "#d8576b"
            ],
            [
             0.6666666666666666,
             "#ed7953"
            ],
            [
             0.7777777777777778,
             "#fb9f3a"
            ],
            [
             0.8888888888888888,
             "#fdca26"
            ],
            [
             1,
             "#f0f921"
            ]
           ]
          },
          "colorway": [
           "#636efa",
           "#EF553B",
           "#00cc96",
           "#ab63fa",
           "#FFA15A",
           "#19d3f3",
           "#FF6692",
           "#B6E880",
           "#FF97FF",
           "#FECB52"
          ],
          "font": {
           "color": "#2a3f5f"
          },
          "geo": {
           "bgcolor": "white",
           "lakecolor": "white",
           "landcolor": "#E5ECF6",
           "showlakes": true,
           "showland": true,
           "subunitcolor": "white"
          },
          "hoverlabel": {
           "align": "left"
          },
          "hovermode": "closest",
          "mapbox": {
           "style": "light"
          },
          "paper_bgcolor": "white",
          "plot_bgcolor": "#E5ECF6",
          "polar": {
           "angularaxis": {
            "gridcolor": "white",
            "linecolor": "white",
            "ticks": ""
           },
           "bgcolor": "#E5ECF6",
           "radialaxis": {
            "gridcolor": "white",
            "linecolor": "white",
            "ticks": ""
           }
          },
          "scene": {
           "xaxis": {
            "backgroundcolor": "#E5ECF6",
            "gridcolor": "white",
            "gridwidth": 2,
            "linecolor": "white",
            "showbackground": true,
            "ticks": "",
            "zerolinecolor": "white"
           },
           "yaxis": {
            "backgroundcolor": "#E5ECF6",
            "gridcolor": "white",
            "gridwidth": 2,
            "linecolor": "white",
            "showbackground": true,
            "ticks": "",
            "zerolinecolor": "white"
           },
           "zaxis": {
            "backgroundcolor": "#E5ECF6",
            "gridcolor": "white",
            "gridwidth": 2,
            "linecolor": "white",
            "showbackground": true,
            "ticks": "",
            "zerolinecolor": "white"
           }
          },
          "shapedefaults": {
           "line": {
            "color": "#2a3f5f"
           }
          },
          "ternary": {
           "aaxis": {
            "gridcolor": "white",
            "linecolor": "white",
            "ticks": ""
           },
           "baxis": {
            "gridcolor": "white",
            "linecolor": "white",
            "ticks": ""
           },
           "bgcolor": "#E5ECF6",
           "caxis": {
            "gridcolor": "white",
            "linecolor": "white",
            "ticks": ""
           }
          },
          "title": {
           "x": 0.05
          },
          "xaxis": {
           "automargin": true,
           "gridcolor": "white",
           "linecolor": "white",
           "ticks": "",
           "title": {
            "standoff": 15
           },
           "zerolinecolor": "white",
           "zerolinewidth": 2
          },
          "yaxis": {
           "automargin": true,
           "gridcolor": "white",
           "linecolor": "white",
           "ticks": "",
           "title": {
            "standoff": 15
           },
           "zerolinecolor": "white",
           "zerolinewidth": 2
          }
         }
        },
        "title": {
         "text": "Ride Mileage 2021"
        },
        "xaxis": {
         "anchor": "y",
         "domain": [
          0,
          1
         ],
         "showgrid": false,
         "showline": false,
         "tickmode": "array",
         "ticktext": [
          "January",
          "February",
          "March",
          "April",
          "May",
          "June",
          "July",
          "August",
          "September",
          "October",
          "November",
          "December"
         ],
         "tickvals": [
          1.5,
          5.909090909090909,
          10.318181818181818,
          14.727272727272727,
          19.136363636363637,
          23.545454545454547,
          27.954545454545453,
          32.36363636363636,
          36.77272727272727,
          41.18181818181818,
          45.59090909090909,
          50
         ],
         "zeroline": false
        },
        "yaxis": {
         "anchor": "x",
         "autorange": "reversed",
         "domain": [
          0,
          1
         ],
         "showgrid": false,
         "showline": false,
         "tickmode": "array",
         "ticktext": [
          "Mon",
          "Tue",
          "Wed",
          "Thu",
          "Fri",
          "Sat",
          "Sun"
         ],
         "tickvals": [
          0,
          1,
          2,
          3,
          4,
          5,
          6
         ],
         "zeroline": false
        }
       }
      }
     },
     "metadata": {},
     "output_type": "display_data"
    }
   ],
   "source": [
    "fig = calplot(df_activity_2021, x='ride_date', y='total_distance_mi', colorscale=colorscale, \n",
    "              dark_theme=True, gap=1, month_lines_width=4, month_lines_color='#000000',\n",
    "            showscale=True, total_height=225, title='Ride Mileage 2021')\n",
    "fig.show()"
   ]
  },
  {
   "cell_type": "code",
   "execution_count": 52,
   "id": "470b2c89",
   "metadata": {},
   "outputs": [
    {
     "data": {
      "application/vnd.plotly.v1+json": {
       "config": {
        "plotlyServerURL": "https://plot.ly"
       },
       "data": [
        {
         "colorscale": [
          [
           0,
           "#888888"
          ],
          [
           0.1111111111111111,
           "#eaf7af"
          ],
          [
           0.2222222222222222,
           "#d2eda0"
          ],
          [
           0.3333333333333333,
           "#b1df90"
          ],
          [
           0.4444444444444444,
           "#8bce81"
          ],
          [
           0.5555555555555556,
           "#64bc6f"
          ],
          [
           0.6666666666666666,
           "#3fa85b"
          ],
          [
           0.7777777777777777,
           "#288a47"
          ],
          [
           0.8888888888888888,
           "#10743c"
          ],
          [
           1,
           "#005e33"
          ]
         ],
         "customdata": [
          [
           "2020-01-01",
           "y"
          ],
          [
           "2020-01-02",
           "y"
          ],
          [
           "2020-01-03",
           "y"
          ],
          [
           "2020-01-04",
           "y"
          ],
          [
           "2020-01-05",
           "y"
          ],
          [
           "2020-01-06",
           "y"
          ],
          [
           "2020-01-07",
           "y"
          ],
          [
           "2020-01-08",
           "y"
          ],
          [
           "2020-01-09",
           "y"
          ],
          [
           "2020-01-10",
           "y"
          ],
          [
           "2020-01-11",
           "y"
          ],
          [
           "2020-01-12",
           "y"
          ],
          [
           "2020-01-13",
           "y"
          ],
          [
           "2020-01-14",
           "y"
          ],
          [
           "2020-01-15",
           "y"
          ],
          [
           "2020-01-16",
           "y"
          ],
          [
           "2020-01-17",
           "y"
          ],
          [
           "2020-01-18",
           "y"
          ],
          [
           "2020-01-19",
           "y"
          ],
          [
           "2020-01-20",
           "y"
          ],
          [
           "2020-01-21",
           "y"
          ],
          [
           "2020-01-22",
           "y"
          ],
          [
           "2020-01-23",
           "y"
          ],
          [
           "2020-01-24",
           "y"
          ],
          [
           "2020-01-25",
           "y"
          ],
          [
           "2020-01-26",
           "y"
          ],
          [
           "2020-01-27",
           "y"
          ],
          [
           "2020-01-28",
           "y"
          ],
          [
           "2020-01-29",
           "y"
          ],
          [
           "2020-01-30",
           "y"
          ],
          [
           "2020-01-31",
           "y"
          ],
          [
           "2020-02-01",
           "y"
          ],
          [
           "2020-02-02",
           "y"
          ],
          [
           "2020-02-03",
           "y"
          ],
          [
           "2020-02-04",
           "y"
          ],
          [
           "2020-02-05",
           "y"
          ],
          [
           "2020-02-06",
           "y"
          ],
          [
           "2020-02-07",
           "y"
          ],
          [
           "2020-02-08",
           "y"
          ],
          [
           "2020-02-09",
           "y"
          ],
          [
           "2020-02-10",
           "y"
          ],
          [
           "2020-02-11",
           "y"
          ],
          [
           "2020-02-12",
           "y"
          ],
          [
           "2020-02-13",
           "y"
          ],
          [
           "2020-02-14",
           "y"
          ],
          [
           "2020-02-15",
           "y"
          ],
          [
           "2020-02-16",
           "y"
          ],
          [
           "2020-02-17",
           "y"
          ],
          [
           "2020-02-18",
           "y"
          ],
          [
           "2020-02-19",
           "y"
          ],
          [
           "2020-02-20",
           "y"
          ],
          [
           "2020-02-21",
           "y"
          ],
          [
           "2020-02-22",
           "y"
          ],
          [
           "2020-02-23",
           "y"
          ],
          [
           "2020-02-24",
           "y"
          ],
          [
           "2020-02-25",
           "y"
          ],
          [
           "2020-02-26",
           "y"
          ],
          [
           "2020-02-27",
           "y"
          ],
          [
           "2020-02-28",
           "y"
          ],
          [
           "2020-02-29",
           "y"
          ],
          [
           "2020-03-01",
           "y"
          ],
          [
           "2020-03-02",
           "y"
          ],
          [
           "2020-03-03",
           "y"
          ],
          [
           "2020-03-04",
           "y"
          ],
          [
           "2020-03-05",
           "y"
          ],
          [
           "2020-03-06",
           "y"
          ],
          [
           "2020-03-07",
           "y"
          ],
          [
           "2020-03-08",
           "y"
          ],
          [
           "2020-03-09",
           "y"
          ],
          [
           "2020-03-10",
           "y"
          ],
          [
           "2020-03-11",
           "y"
          ],
          [
           "2020-03-12",
           "y"
          ],
          [
           "2020-03-13",
           "y"
          ],
          [
           "2020-03-14",
           "y"
          ],
          [
           "2020-03-15",
           "y"
          ],
          [
           "2020-03-16",
           "y"
          ],
          [
           "2020-03-17",
           "y"
          ],
          [
           "2020-03-18",
           "y"
          ],
          [
           "2020-03-19",
           "y"
          ],
          [
           "2020-03-20",
           "y"
          ],
          [
           "2020-03-21",
           "y"
          ],
          [
           "2020-03-22",
           "y"
          ],
          [
           "2020-03-23",
           "y"
          ],
          [
           "2020-03-24",
           "y"
          ],
          [
           "2020-03-25",
           "y"
          ],
          [
           "2020-03-26",
           "y"
          ],
          [
           "2020-03-27",
           "y"
          ],
          [
           "2020-03-28",
           "y"
          ],
          [
           "2020-03-29",
           "y"
          ],
          [
           "2020-03-30",
           "y"
          ],
          [
           "2020-03-31",
           "y"
          ],
          [
           "2020-04-01",
           "y"
          ],
          [
           "2020-04-02",
           "y"
          ],
          [
           "2020-04-03",
           "y"
          ],
          [
           "2020-04-04",
           "y"
          ],
          [
           "2020-04-05",
           "y"
          ],
          [
           "2020-04-06",
           "y"
          ],
          [
           "2020-04-07",
           "y"
          ],
          [
           "2020-04-08",
           "y"
          ],
          [
           "2020-04-09",
           "y"
          ],
          [
           "2020-04-10",
           "y"
          ],
          [
           "2020-04-11",
           "y"
          ],
          [
           "2020-04-12",
           "y"
          ],
          [
           "2020-04-13",
           "y"
          ],
          [
           "2020-04-14",
           "y"
          ],
          [
           "2020-04-15",
           "y"
          ],
          [
           "2020-04-16",
           "y"
          ],
          [
           "2020-04-17",
           "y"
          ],
          [
           "2020-04-18",
           "y"
          ],
          [
           "2020-04-19",
           "y"
          ],
          [
           "2020-04-20",
           "y"
          ],
          [
           "2020-04-21",
           "y"
          ],
          [
           "2020-04-22",
           "y"
          ],
          [
           "2020-04-23",
           "y"
          ],
          [
           "2020-04-24",
           "y"
          ],
          [
           "2020-04-25",
           "y"
          ],
          [
           "2020-04-26",
           "y"
          ],
          [
           "2020-04-27",
           "y"
          ],
          [
           "2020-04-28",
           "y"
          ],
          [
           "2020-04-29",
           "y"
          ],
          [
           "2020-04-30",
           "y"
          ],
          [
           "2020-05-01",
           "y"
          ],
          [
           "2020-05-02",
           "y"
          ],
          [
           "2020-05-03",
           "y"
          ],
          [
           "2020-05-04",
           "y"
          ],
          [
           "2020-05-05",
           "y"
          ],
          [
           "2020-05-06",
           "y"
          ],
          [
           "2020-05-07",
           "y"
          ],
          [
           "2020-05-08",
           "y"
          ],
          [
           "2020-05-09",
           "y"
          ],
          [
           "2020-05-10",
           "y"
          ],
          [
           "2020-05-11",
           "y"
          ],
          [
           "2020-05-12",
           "y"
          ],
          [
           "2020-05-13",
           "y"
          ],
          [
           "2020-05-14",
           "y"
          ],
          [
           "2020-05-15",
           "y"
          ],
          [
           "2020-05-16",
           "y"
          ],
          [
           "2020-05-17",
           "y"
          ],
          [
           "2020-05-18",
           "y"
          ],
          [
           "2020-05-19",
           "y"
          ],
          [
           "2020-05-20",
           "y"
          ],
          [
           "2020-05-21",
           "y"
          ],
          [
           "2020-05-22",
           "y"
          ],
          [
           "2020-05-23",
           "y"
          ],
          [
           "2020-05-24",
           "y"
          ],
          [
           "2020-05-25",
           "y"
          ],
          [
           "2020-05-26",
           "y"
          ],
          [
           "2020-05-27",
           "y"
          ],
          [
           "2020-05-28",
           "y"
          ],
          [
           "2020-05-29",
           "y"
          ],
          [
           "2020-05-30",
           "y"
          ],
          [
           "2020-05-31",
           "y"
          ],
          [
           "2020-06-01",
           "y"
          ],
          [
           "2020-06-02",
           "y"
          ],
          [
           "2020-06-03",
           "y"
          ],
          [
           "2020-06-04",
           "y"
          ],
          [
           "2020-06-05",
           "y"
          ],
          [
           "2020-06-06",
           "y"
          ],
          [
           "2020-06-07",
           "y"
          ],
          [
           "2020-06-08",
           "y"
          ],
          [
           "2020-06-09",
           "y"
          ],
          [
           "2020-06-10",
           "y"
          ],
          [
           "2020-06-11",
           "y"
          ],
          [
           "2020-06-12",
           "y"
          ],
          [
           "2020-06-13",
           "y"
          ],
          [
           "2020-06-14",
           "y"
          ],
          [
           "2020-06-15",
           "y"
          ],
          [
           "2020-06-16",
           "y"
          ],
          [
           "2020-06-17",
           "y"
          ],
          [
           "2020-06-18",
           "y"
          ],
          [
           "2020-06-19",
           "y"
          ],
          [
           "2020-06-20",
           "y"
          ],
          [
           "2020-06-21",
           "y"
          ],
          [
           "2020-06-22",
           "y"
          ],
          [
           "2020-06-23",
           "y"
          ],
          [
           "2020-06-24",
           "y"
          ],
          [
           "2020-06-25",
           "y"
          ],
          [
           "2020-06-26",
           "y"
          ],
          [
           "2020-06-27",
           "y"
          ],
          [
           "2020-06-28",
           "y"
          ],
          [
           "2020-06-29",
           "y"
          ],
          [
           "2020-06-30",
           "y"
          ],
          [
           "2020-07-01",
           "y"
          ],
          [
           "2020-07-02",
           "y"
          ],
          [
           "2020-07-03",
           "y"
          ],
          [
           "2020-07-04",
           "y"
          ],
          [
           "2020-07-05",
           "y"
          ],
          [
           "2020-07-06",
           "y"
          ],
          [
           "2020-07-07",
           "y"
          ],
          [
           "2020-07-08",
           "y"
          ],
          [
           "2020-07-09",
           "y"
          ],
          [
           "2020-07-10",
           "y"
          ],
          [
           "2020-07-11",
           "y"
          ],
          [
           "2020-07-12",
           "y"
          ],
          [
           "2020-07-13",
           "y"
          ],
          [
           "2020-07-14",
           "y"
          ],
          [
           "2020-07-15",
           "y"
          ],
          [
           "2020-07-16",
           "y"
          ],
          [
           "2020-07-17",
           "y"
          ],
          [
           "2020-07-18",
           "y"
          ],
          [
           "2020-07-19",
           "y"
          ],
          [
           "2020-07-20",
           "y"
          ],
          [
           "2020-07-21",
           "y"
          ],
          [
           "2020-07-22",
           "y"
          ],
          [
           "2020-07-23",
           "y"
          ],
          [
           "2020-07-24",
           "y"
          ],
          [
           "2020-07-25",
           "y"
          ],
          [
           "2020-07-26",
           "y"
          ],
          [
           "2020-07-27",
           "y"
          ],
          [
           "2020-07-28",
           "y"
          ],
          [
           "2020-07-29",
           "y"
          ],
          [
           "2020-07-30",
           "y"
          ],
          [
           "2020-07-31",
           "y"
          ],
          [
           "2020-08-01",
           "y"
          ],
          [
           "2020-08-02",
           "y"
          ],
          [
           "2020-08-03",
           "y"
          ],
          [
           "2020-08-04",
           "y"
          ],
          [
           "2020-08-05",
           "y"
          ],
          [
           "2020-08-06",
           "y"
          ],
          [
           "2020-08-07",
           "y"
          ],
          [
           "2020-08-08",
           "y"
          ],
          [
           "2020-08-09",
           "y"
          ],
          [
           "2020-08-10",
           "y"
          ],
          [
           "2020-08-11",
           "y"
          ],
          [
           "2020-08-12",
           "y"
          ],
          [
           "2020-08-13",
           "y"
          ],
          [
           "2020-08-14",
           "y"
          ],
          [
           "2020-08-15",
           "y"
          ],
          [
           "2020-08-16",
           "y"
          ],
          [
           "2020-08-17",
           "y"
          ],
          [
           "2020-08-18",
           "y"
          ],
          [
           "2020-08-19",
           "y"
          ],
          [
           "2020-08-20",
           "y"
          ],
          [
           "2020-08-21",
           "y"
          ],
          [
           "2020-08-22",
           "y"
          ],
          [
           "2020-08-23",
           "y"
          ],
          [
           "2020-08-24",
           "y"
          ],
          [
           "2020-08-25",
           "y"
          ],
          [
           "2020-08-26",
           "y"
          ],
          [
           "2020-08-27",
           "y"
          ],
          [
           "2020-08-28",
           "y"
          ],
          [
           "2020-08-29",
           "y"
          ],
          [
           "2020-08-30",
           "y"
          ],
          [
           "2020-08-31",
           "y"
          ],
          [
           "2020-09-01",
           "y"
          ],
          [
           "2020-09-02",
           "y"
          ],
          [
           "2020-09-03",
           "y"
          ],
          [
           "2020-09-04",
           "y"
          ],
          [
           "2020-09-05",
           "y"
          ],
          [
           "2020-09-06",
           "y"
          ],
          [
           "2020-09-07",
           "y"
          ],
          [
           "2020-09-08",
           "y"
          ],
          [
           "2020-09-09",
           "y"
          ],
          [
           "2020-09-10",
           "y"
          ],
          [
           "2020-09-11",
           "y"
          ],
          [
           "2020-09-12",
           "y"
          ],
          [
           "2020-09-13",
           "y"
          ],
          [
           "2020-09-14",
           "y"
          ],
          [
           "2020-09-15",
           "y"
          ],
          [
           "2020-09-16",
           "y"
          ],
          [
           "2020-09-17",
           "y"
          ],
          [
           "2020-09-18",
           "y"
          ],
          [
           "2020-09-19",
           "y"
          ],
          [
           "2020-09-20",
           "y"
          ],
          [
           "2020-09-21",
           "y"
          ],
          [
           "2020-09-22",
           "y"
          ],
          [
           "2020-09-23",
           "y"
          ],
          [
           "2020-09-24",
           "y"
          ],
          [
           "2020-09-25",
           "y"
          ],
          [
           "2020-09-26",
           "y"
          ],
          [
           "2020-09-27",
           "y"
          ],
          [
           "2020-09-28",
           "y"
          ],
          [
           "2020-09-29",
           "y"
          ],
          [
           "2020-09-30",
           "y"
          ],
          [
           "2020-10-01",
           "y"
          ],
          [
           "2020-10-02",
           "y"
          ],
          [
           "2020-10-03",
           "y"
          ],
          [
           "2020-10-04",
           "y"
          ],
          [
           "2020-10-05",
           "y"
          ],
          [
           "2020-10-06",
           "y"
          ],
          [
           "2020-10-07",
           "y"
          ],
          [
           "2020-10-08",
           "y"
          ],
          [
           "2020-10-09",
           "y"
          ],
          [
           "2020-10-10",
           "y"
          ],
          [
           "2020-10-11",
           "y"
          ],
          [
           "2020-10-12",
           "y"
          ],
          [
           "2020-10-13",
           "y"
          ],
          [
           "2020-10-14",
           "y"
          ],
          [
           "2020-10-15",
           "y"
          ],
          [
           "2020-10-16",
           "y"
          ],
          [
           "2020-10-17",
           "y"
          ],
          [
           "2020-10-18",
           "y"
          ],
          [
           "2020-10-19",
           "y"
          ],
          [
           "2020-10-20",
           "y"
          ],
          [
           "2020-10-21",
           "y"
          ],
          [
           "2020-10-22",
           "y"
          ],
          [
           "2020-10-23",
           "y"
          ],
          [
           "2020-10-24",
           "y"
          ],
          [
           "2020-10-25",
           "y"
          ],
          [
           "2020-10-26",
           "y"
          ],
          [
           "2020-10-27",
           "y"
          ],
          [
           "2020-10-28",
           "y"
          ],
          [
           "2020-10-29",
           "y"
          ],
          [
           "2020-10-30",
           "y"
          ],
          [
           "2020-10-31",
           "y"
          ],
          [
           "2020-11-01",
           "y"
          ],
          [
           "2020-11-02",
           "y"
          ],
          [
           "2020-11-03",
           "y"
          ],
          [
           "2020-11-04",
           "y"
          ],
          [
           "2020-11-05",
           "y"
          ],
          [
           "2020-11-06",
           "y"
          ],
          [
           "2020-11-07",
           "y"
          ],
          [
           "2020-11-08",
           "y"
          ],
          [
           "2020-11-09",
           "y"
          ],
          [
           "2020-11-10",
           "y"
          ],
          [
           "2020-11-11",
           "y"
          ],
          [
           "2020-11-12",
           "y"
          ],
          [
           "2020-11-13",
           "y"
          ],
          [
           "2020-11-14",
           "y"
          ],
          [
           "2020-11-15",
           "y"
          ],
          [
           "2020-11-16",
           "y"
          ],
          [
           "2020-11-17",
           "y"
          ],
          [
           "2020-11-18",
           "y"
          ],
          [
           "2020-11-19",
           "y"
          ],
          [
           "2020-11-20",
           "y"
          ],
          [
           "2020-11-21",
           "y"
          ],
          [
           "2020-11-22",
           "y"
          ],
          [
           "2020-11-23",
           "y"
          ],
          [
           "2020-11-24",
           "y"
          ],
          [
           "2020-11-25",
           "y"
          ],
          [
           "2020-11-26",
           "y"
          ],
          [
           "2020-11-27",
           "y"
          ],
          [
           "2020-11-28",
           "y"
          ],
          [
           "2020-11-29",
           "y"
          ],
          [
           "2020-11-30",
           "y"
          ],
          [
           "2020-12-01",
           "y"
          ],
          [
           "2020-12-02",
           "y"
          ],
          [
           "2020-12-03",
           "y"
          ],
          [
           "2020-12-04",
           "y"
          ],
          [
           "2020-12-05",
           "y"
          ],
          [
           "2020-12-06",
           "y"
          ],
          [
           "2020-12-07",
           "y"
          ],
          [
           "2020-12-08",
           "y"
          ],
          [
           "2020-12-09",
           "y"
          ],
          [
           "2020-12-10",
           "y"
          ],
          [
           "2020-12-11",
           "y"
          ],
          [
           "2020-12-12",
           "y"
          ],
          [
           "2020-12-13",
           "y"
          ],
          [
           "2020-12-14",
           "y"
          ],
          [
           "2020-12-15",
           "y"
          ],
          [
           "2020-12-16",
           "y"
          ],
          [
           "2020-12-17",
           "y"
          ],
          [
           "2020-12-18",
           "y"
          ],
          [
           "2020-12-19",
           "y"
          ],
          [
           "2020-12-20",
           "y"
          ],
          [
           "2020-12-21",
           "y"
          ],
          [
           "2020-12-22",
           "y"
          ],
          [
           "2020-12-23",
           "y"
          ],
          [
           "2020-12-24",
           "y"
          ],
          [
           "2020-12-25",
           "y"
          ],
          [
           "2020-12-26",
           "y"
          ],
          [
           "2020-12-27",
           "y"
          ],
          [
           "2020-12-28",
           "y"
          ],
          [
           "2020-12-29",
           "y"
          ],
          [
           "2020-12-30",
           "y"
          ],
          [
           "2020-12-31",
           "y"
          ]
         ],
         "hovertemplate": "%{customdata[0]} <br>Week=%{x} <br>%{customdata[1]}=%{z}",
         "name": "2020",
         "showscale": true,
         "type": "heatmap",
         "x": [
          0,
          0,
          0,
          0,
          0,
          1,
          1,
          1,
          1,
          1,
          1,
          1,
          2,
          2,
          2,
          2,
          2,
          2,
          2,
          3,
          3,
          3,
          3,
          3,
          3,
          3,
          4,
          4,
          4,
          4,
          4,
          4,
          4,
          5,
          5,
          5,
          5,
          5,
          5,
          5,
          6,
          6,
          6,
          6,
          6,
          6,
          6,
          7,
          7,
          7,
          7,
          7,
          7,
          7,
          8,
          8,
          8,
          8,
          8,
          8,
          8,
          9,
          9,
          9,
          9,
          9,
          9,
          9,
          10,
          10,
          10,
          10,
          10,
          10,
          10,
          11,
          11,
          11,
          11,
          11,
          11,
          11,
          12,
          12,
          12,
          12,
          12,
          12,
          12,
          13,
          13,
          13,
          13,
          13,
          13,
          13,
          14,
          14,
          14,
          14,
          14,
          14,
          14,
          15,
          15,
          15,
          15,
          15,
          15,
          15,
          16,
          16,
          16,
          16,
          16,
          16,
          16,
          17,
          17,
          17,
          17,
          17,
          17,
          17,
          18,
          18,
          18,
          18,
          18,
          18,
          18,
          19,
          19,
          19,
          19,
          19,
          19,
          19,
          20,
          20,
          20,
          20,
          20,
          20,
          20,
          21,
          21,
          21,
          21,
          21,
          21,
          21,
          22,
          22,
          22,
          22,
          22,
          22,
          22,
          23,
          23,
          23,
          23,
          23,
          23,
          23,
          24,
          24,
          24,
          24,
          24,
          24,
          24,
          25,
          25,
          25,
          25,
          25,
          25,
          25,
          26,
          26,
          26,
          26,
          26,
          26,
          26,
          27,
          27,
          27,
          27,
          27,
          27,
          27,
          28,
          28,
          28,
          28,
          28,
          28,
          28,
          29,
          29,
          29,
          29,
          29,
          29,
          29,
          30,
          30,
          30,
          30,
          30,
          30,
          30,
          31,
          31,
          31,
          31,
          31,
          31,
          31,
          32,
          32,
          32,
          32,
          32,
          32,
          32,
          33,
          33,
          33,
          33,
          33,
          33,
          33,
          34,
          34,
          34,
          34,
          34,
          34,
          34,
          35,
          35,
          35,
          35,
          35,
          35,
          35,
          36,
          36,
          36,
          36,
          36,
          36,
          36,
          37,
          37,
          37,
          37,
          37,
          37,
          37,
          38,
          38,
          38,
          38,
          38,
          38,
          38,
          39,
          39,
          39,
          39,
          39,
          39,
          39,
          40,
          40,
          40,
          40,
          40,
          40,
          40,
          41,
          41,
          41,
          41,
          41,
          41,
          41,
          42,
          42,
          42,
          42,
          42,
          42,
          42,
          43,
          43,
          43,
          43,
          43,
          43,
          43,
          44,
          44,
          44,
          44,
          44,
          44,
          44,
          45,
          45,
          45,
          45,
          45,
          45,
          45,
          46,
          46,
          46,
          46,
          46,
          46,
          46,
          47,
          47,
          47,
          47,
          47,
          47,
          47,
          48,
          48,
          48,
          48,
          48,
          48,
          48,
          49,
          49,
          49,
          49,
          49,
          49,
          49,
          50,
          50,
          50,
          50,
          50,
          50,
          50,
          51,
          51,
          51,
          51,
          51,
          51,
          51,
          52,
          52,
          52,
          52
         ],
         "xaxis": "x",
         "xgap": 1,
         "y": [
          2,
          3,
          4,
          5,
          6,
          0,
          1,
          2,
          3,
          4,
          5,
          6,
          0,
          1,
          2,
          3,
          4,
          5,
          6,
          0,
          1,
          2,
          3,
          4,
          5,
          6,
          0,
          1,
          2,
          3,
          4,
          5,
          6,
          0,
          1,
          2,
          3,
          4,
          5,
          6,
          0,
          1,
          2,
          3,
          4,
          5,
          6,
          0,
          1,
          2,
          3,
          4,
          5,
          6,
          0,
          1,
          2,
          3,
          4,
          5,
          6,
          0,
          1,
          2,
          3,
          4,
          5,
          6,
          0,
          1,
          2,
          3,
          4,
          5,
          6,
          0,
          1,
          2,
          3,
          4,
          5,
          6,
          0,
          1,
          2,
          3,
          4,
          5,
          6,
          0,
          1,
          2,
          3,
          4,
          5,
          6,
          0,
          1,
          2,
          3,
          4,
          5,
          6,
          0,
          1,
          2,
          3,
          4,
          5,
          6,
          0,
          1,
          2,
          3,
          4,
          5,
          6,
          0,
          1,
          2,
          3,
          4,
          5,
          6,
          0,
          1,
          2,
          3,
          4,
          5,
          6,
          0,
          1,
          2,
          3,
          4,
          5,
          6,
          0,
          1,
          2,
          3,
          4,
          5,
          6,
          0,
          1,
          2,
          3,
          4,
          5,
          6,
          0,
          1,
          2,
          3,
          4,
          5,
          6,
          0,
          1,
          2,
          3,
          4,
          5,
          6,
          0,
          1,
          2,
          3,
          4,
          5,
          6,
          0,
          1,
          2,
          3,
          4,
          5,
          6,
          0,
          1,
          2,
          3,
          4,
          5,
          6,
          0,
          1,
          2,
          3,
          4,
          5,
          6,
          0,
          1,
          2,
          3,
          4,
          5,
          6,
          0,
          1,
          2,
          3,
          4,
          5,
          6,
          0,
          1,
          2,
          3,
          4,
          5,
          6,
          0,
          1,
          2,
          3,
          4,
          5,
          6,
          0,
          1,
          2,
          3,
          4,
          5,
          6,
          0,
          1,
          2,
          3,
          4,
          5,
          6,
          0,
          1,
          2,
          3,
          4,
          5,
          6,
          0,
          1,
          2,
          3,
          4,
          5,
          6,
          0,
          1,
          2,
          3,
          4,
          5,
          6,
          0,
          1,
          2,
          3,
          4,
          5,
          6,
          0,
          1,
          2,
          3,
          4,
          5,
          6,
          0,
          1,
          2,
          3,
          4,
          5,
          6,
          0,
          1,
          2,
          3,
          4,
          5,
          6,
          0,
          1,
          2,
          3,
          4,
          5,
          6,
          0,
          1,
          2,
          3,
          4,
          5,
          6,
          0,
          1,
          2,
          3,
          4,
          5,
          6,
          0,
          1,
          2,
          3,
          4,
          5,
          6,
          0,
          1,
          2,
          3,
          4,
          5,
          6,
          0,
          1,
          2,
          3,
          4,
          5,
          6,
          0,
          1,
          2,
          3,
          4,
          5,
          6,
          0,
          1,
          2,
          3,
          4,
          5,
          6,
          0,
          1,
          2,
          3,
          4,
          5,
          6,
          0,
          1,
          2,
          3,
          4,
          5,
          6,
          0,
          1,
          2,
          3,
          4,
          5,
          6,
          0,
          1,
          2,
          3
         ],
         "yaxis": "y",
         "ygap": 1,
         "z": [
          0,
          5.27624788137982,
          0,
          0,
          0,
          0,
          0,
          10.481388048443865,
          0,
          0,
          0,
          0,
          0,
          0,
          0,
          0,
          0,
          0,
          0,
          0,
          0,
          0,
          0,
          0,
          0,
          0,
          0,
          0,
          0,
          0,
          0,
          0,
          0,
          0,
          0,
          0,
          0,
          0,
          0,
          0,
          0,
          0,
          0,
          0,
          0,
          0,
          0,
          0,
          0,
          0,
          0,
          0,
          0,
          0,
          0,
          0,
          0,
          0,
          0,
          0,
          0,
          0,
          0,
          0,
          0,
          0,
          0,
          0,
          0,
          0,
          0,
          0,
          0,
          0,
          0,
          0,
          0,
          0,
          0,
          0,
          0,
          0,
          0,
          0,
          0,
          0,
          0,
          0,
          0,
          0,
          0,
          0,
          6.771038658125979,
          0,
          22.75173993312781,
          0,
          0,
          0,
          0,
          0,
          0,
          11.374901753980613,
          8.985745615874531,
          4.869108089917981,
          7.197711176621681,
          0,
          7.218499340856504,
          7.021599934944788,
          10.926798448211189,
          15.224367563686345,
          17.831144797616535,
          0,
          9.006008112939424,
          0.0295814542335691,
          0,
          6.297354300286336,
          0,
          0.0023618763812261,
          8.729158152329674,
          8.656644482016372,
          0,
          8.726456546219172,
          35.20773519119668,
          8.714289793214286,
          0,
          8.714721388996109,
          22.248131634451383,
          24.476609812316784,
          0,
          8.200083986647059,
          9.749860413150456,
          8.332234890351915,
          14.502565658606462,
          6.166453298652663,
          0,
          0,
          21.622056497528064,
          8.20582178718482,
          0,
          8.252119343106168,
          8.142267124750907,
          9.839674624364328,
          8.715053534041836,
          0,
          40.42322015021502,
          31.26979795840965,
          9.95116412191229,
          0,
          17.541576245697247,
          0,
          23.066681834933547,
          0,
          0,
          0,
          0,
          0,
          0,
          14.42740413979071,
          14.512925284770102,
          12.189153860910176,
          0,
          8.883115933240724,
          13.94863043605215,
          0,
          24.196539932373696,
          19.01265561286561,
          0,
          12.732106821636004,
          15.518910514505729,
          0,
          12.205053817878014,
          0,
          12.16013539875675,
          0,
          0,
          0,
          0,
          9.8381984697048,
          25.050090598554476,
          0,
          0,
          46.29419062891853,
          17.796081108917473,
          0,
          0,
          15.76853256577354,
          11.727104840631224,
          0,
          11.308320282369436,
          15.104344573436183,
          0,
          18.902264146788795,
          10.511559413732588,
          52.55344390115429,
          0,
          22.253912239909738,
          8.877776827227878,
          8.790370720102358,
          0,
          0,
          0,
          0,
          0,
          11.202007488537909,
          21.97737410785981,
          0,
          6.58514660453414,
          31.25914575235642,
          0,
          2.2525786579962013,
          19.912930741038668,
          0,
          0,
          18.490235906083782,
          22.02859029933231,
          0,
          5.142241355743366,
          10.271669566430615,
          24.780603560987075,
          0,
          0,
          2.9481293756265643,
          0,
          0,
          6.524623044435499,
          0,
          0,
          0,
          19.88042159724067,
          0,
          0,
          28.223453622704486,
          2.433818373511328,
          0,
          0,
          21.047526041841603,
          0,
          6.384716495076581,
          0,
          0,
          0,
          0,
          18.193200421621533,
          0,
          0,
          17.3450914460662,
          6.735612129014264,
          0,
          0,
          0,
          0,
          0,
          15.775080802154038,
          0,
          0,
          0,
          0,
          0,
          0,
          9.315928375262343,
          11.923066054306842,
          13.10127804842337,
          0,
          0,
          0,
          0,
          0,
          24.30233605360464,
          0,
          0,
          19.737041826565346,
          0,
          0,
          0,
          0,
          0,
          0,
          0,
          0,
          0,
          0,
          0,
          0,
          0,
          0,
          0,
          0,
          0,
          0,
          11.259670450987173,
          0,
          0,
          0,
          0,
          0,
          9.923159042814056,
          0,
          26.094010800031985,
          0,
          0,
          0,
          0,
          0,
          0,
          0,
          0,
          0,
          0,
          0,
          0,
          0,
          0,
          0,
          0,
          0,
          0,
          5.726093993026562,
          0,
          0,
          0,
          9.654493921077936,
          6.154145780853402,
          4.761008796965057,
          6.8827885014798165,
          0,
          0,
          0,
          0,
          0,
          0,
          0,
          0,
          12.5904697275689,
          0,
          6.421889174557219,
          0,
          3.95254364697406,
          13.157407686754937,
          0,
          5.800061776046342,
          23.92927904664176,
          0,
          11.170880386301068,
          23.17515833626694,
          15.407843629106855,
          0,
          0,
          0,
          6.992283689866474,
          11.167341326679711,
          0,
          14.366841530218869,
          16.5781675450412,
          0,
          0,
          0,
          0,
          0,
          12.64249119173516,
          0,
          0,
          0,
          0,
          11.314947414237851,
          9.74511823200809,
          0
         ],
         "zmax": 52.55344390115429,
         "zmin": 0
        },
        {
         "hoverinfo": "skip",
         "line": {
          "color": "#000000",
          "width": 4
         },
         "mode": "lines",
         "type": "scatter",
         "x": [
          -0.5,
          -0.5
         ],
         "xaxis": "x",
         "y": [
          1.5,
          6.5
         ],
         "yaxis": "y"
        },
        {
         "hoverinfo": "skip",
         "line": {
          "color": "#000000",
          "width": 4
         },
         "mode": "lines",
         "type": "scatter",
         "x": [
          -0.5,
          0.5
         ],
         "xaxis": "x",
         "y": [
          1.5,
          1.5
         ],
         "yaxis": "y"
        },
        {
         "hoverinfo": "skip",
         "line": {
          "color": "#000000",
          "width": 4
         },
         "mode": "lines",
         "type": "scatter",
         "x": [
          0.5,
          0.5
         ],
         "xaxis": "x",
         "y": [
          1.5,
          -0.5
         ],
         "yaxis": "y"
        },
        {
         "hoverinfo": "skip",
         "line": {
          "color": "#000000",
          "width": 4
         },
         "mode": "lines",
         "type": "scatter",
         "x": [
          3.5,
          3.5
         ],
         "xaxis": "x",
         "y": [
          4.5,
          6.5
         ],
         "yaxis": "y"
        },
        {
         "hoverinfo": "skip",
         "line": {
          "color": "#000000",
          "width": 4
         },
         "mode": "lines",
         "type": "scatter",
         "x": [
          3.5,
          4.5
         ],
         "xaxis": "x",
         "y": [
          4.5,
          4.5
         ],
         "yaxis": "y"
        },
        {
         "hoverinfo": "skip",
         "line": {
          "color": "#000000",
          "width": 4
         },
         "mode": "lines",
         "type": "scatter",
         "x": [
          4.5,
          4.5
         ],
         "xaxis": "x",
         "y": [
          4.5,
          -0.5
         ],
         "yaxis": "y"
        },
        {
         "hoverinfo": "skip",
         "line": {
          "color": "#000000",
          "width": 4
         },
         "mode": "lines",
         "type": "scatter",
         "x": [
          7.5,
          7.5
         ],
         "xaxis": "x",
         "y": [
          5.5,
          6.5
         ],
         "yaxis": "y"
        },
        {
         "hoverinfo": "skip",
         "line": {
          "color": "#000000",
          "width": 4
         },
         "mode": "lines",
         "type": "scatter",
         "x": [
          7.5,
          8.5
         ],
         "xaxis": "x",
         "y": [
          5.5,
          5.5
         ],
         "yaxis": "y"
        },
        {
         "hoverinfo": "skip",
         "line": {
          "color": "#000000",
          "width": 4
         },
         "mode": "lines",
         "type": "scatter",
         "x": [
          8.5,
          8.5
         ],
         "xaxis": "x",
         "y": [
          5.5,
          -0.5
         ],
         "yaxis": "y"
        },
        {
         "hoverinfo": "skip",
         "line": {
          "color": "#000000",
          "width": 4
         },
         "mode": "lines",
         "type": "scatter",
         "x": [
          12.5,
          12.5
         ],
         "xaxis": "x",
         "y": [
          1.5,
          6.5
         ],
         "yaxis": "y"
        },
        {
         "hoverinfo": "skip",
         "line": {
          "color": "#000000",
          "width": 4
         },
         "mode": "lines",
         "type": "scatter",
         "x": [
          12.5,
          13.5
         ],
         "xaxis": "x",
         "y": [
          1.5,
          1.5
         ],
         "yaxis": "y"
        },
        {
         "hoverinfo": "skip",
         "line": {
          "color": "#000000",
          "width": 4
         },
         "mode": "lines",
         "type": "scatter",
         "x": [
          13.5,
          13.5
         ],
         "xaxis": "x",
         "y": [
          1.5,
          -0.5
         ],
         "yaxis": "y"
        },
        {
         "hoverinfo": "skip",
         "line": {
          "color": "#000000",
          "width": 4
         },
         "mode": "lines",
         "type": "scatter",
         "x": [
          16.5,
          16.5
         ],
         "xaxis": "x",
         "y": [
          3.5,
          6.5
         ],
         "yaxis": "y"
        },
        {
         "hoverinfo": "skip",
         "line": {
          "color": "#000000",
          "width": 4
         },
         "mode": "lines",
         "type": "scatter",
         "x": [
          16.5,
          17.5
         ],
         "xaxis": "x",
         "y": [
          3.5,
          3.5
         ],
         "yaxis": "y"
        },
        {
         "hoverinfo": "skip",
         "line": {
          "color": "#000000",
          "width": 4
         },
         "mode": "lines",
         "type": "scatter",
         "x": [
          17.5,
          17.5
         ],
         "xaxis": "x",
         "y": [
          3.5,
          -0.5
         ],
         "yaxis": "y"
        },
        {
         "hoverinfo": "skip",
         "line": {
          "color": "#000000",
          "width": 4
         },
         "mode": "lines",
         "type": "scatter",
         "x": [
          21.5,
          21.5
         ],
         "xaxis": "x",
         "y": [
          -0.5,
          6.5
         ],
         "yaxis": "y"
        },
        {
         "hoverinfo": "skip",
         "line": {
          "color": "#000000",
          "width": 4
         },
         "mode": "lines",
         "type": "scatter",
         "x": [
          25.5,
          25.5
         ],
         "xaxis": "x",
         "y": [
          1.5,
          6.5
         ],
         "yaxis": "y"
        },
        {
         "hoverinfo": "skip",
         "line": {
          "color": "#000000",
          "width": 4
         },
         "mode": "lines",
         "type": "scatter",
         "x": [
          25.5,
          26.5
         ],
         "xaxis": "x",
         "y": [
          1.5,
          1.5
         ],
         "yaxis": "y"
        },
        {
         "hoverinfo": "skip",
         "line": {
          "color": "#000000",
          "width": 4
         },
         "mode": "lines",
         "type": "scatter",
         "x": [
          26.5,
          26.5
         ],
         "xaxis": "x",
         "y": [
          1.5,
          -0.5
         ],
         "yaxis": "y"
        },
        {
         "hoverinfo": "skip",
         "line": {
          "color": "#000000",
          "width": 4
         },
         "mode": "lines",
         "type": "scatter",
         "x": [
          29.5,
          29.5
         ],
         "xaxis": "x",
         "y": [
          4.5,
          6.5
         ],
         "yaxis": "y"
        },
        {
         "hoverinfo": "skip",
         "line": {
          "color": "#000000",
          "width": 4
         },
         "mode": "lines",
         "type": "scatter",
         "x": [
          29.5,
          30.5
         ],
         "xaxis": "x",
         "y": [
          4.5,
          4.5
         ],
         "yaxis": "y"
        },
        {
         "hoverinfo": "skip",
         "line": {
          "color": "#000000",
          "width": 4
         },
         "mode": "lines",
         "type": "scatter",
         "x": [
          30.5,
          30.5
         ],
         "xaxis": "x",
         "y": [
          4.5,
          -0.5
         ],
         "yaxis": "y"
        },
        {
         "hoverinfo": "skip",
         "line": {
          "color": "#000000",
          "width": 4
         },
         "mode": "lines",
         "type": "scatter",
         "x": [
          34.5,
          34.5
         ],
         "xaxis": "x",
         "y": [
          0.5,
          6.5
         ],
         "yaxis": "y"
        },
        {
         "hoverinfo": "skip",
         "line": {
          "color": "#000000",
          "width": 4
         },
         "mode": "lines",
         "type": "scatter",
         "x": [
          34.5,
          35.5
         ],
         "xaxis": "x",
         "y": [
          0.5,
          0.5
         ],
         "yaxis": "y"
        },
        {
         "hoverinfo": "skip",
         "line": {
          "color": "#000000",
          "width": 4
         },
         "mode": "lines",
         "type": "scatter",
         "x": [
          35.5,
          35.5
         ],
         "xaxis": "x",
         "y": [
          0.5,
          -0.5
         ],
         "yaxis": "y"
        },
        {
         "hoverinfo": "skip",
         "line": {
          "color": "#000000",
          "width": 4
         },
         "mode": "lines",
         "type": "scatter",
         "x": [
          38.5,
          38.5
         ],
         "xaxis": "x",
         "y": [
          2.5,
          6.5
         ],
         "yaxis": "y"
        },
        {
         "hoverinfo": "skip",
         "line": {
          "color": "#000000",
          "width": 4
         },
         "mode": "lines",
         "type": "scatter",
         "x": [
          38.5,
          39.5
         ],
         "xaxis": "x",
         "y": [
          2.5,
          2.5
         ],
         "yaxis": "y"
        },
        {
         "hoverinfo": "skip",
         "line": {
          "color": "#000000",
          "width": 4
         },
         "mode": "lines",
         "type": "scatter",
         "x": [
          39.5,
          39.5
         ],
         "xaxis": "x",
         "y": [
          2.5,
          -0.5
         ],
         "yaxis": "y"
        },
        {
         "hoverinfo": "skip",
         "line": {
          "color": "#000000",
          "width": 4
         },
         "mode": "lines",
         "type": "scatter",
         "x": [
          42.5,
          42.5
         ],
         "xaxis": "x",
         "y": [
          5.5,
          6.5
         ],
         "yaxis": "y"
        },
        {
         "hoverinfo": "skip",
         "line": {
          "color": "#000000",
          "width": 4
         },
         "mode": "lines",
         "type": "scatter",
         "x": [
          42.5,
          43.5
         ],
         "xaxis": "x",
         "y": [
          5.5,
          5.5
         ],
         "yaxis": "y"
        },
        {
         "hoverinfo": "skip",
         "line": {
          "color": "#000000",
          "width": 4
         },
         "mode": "lines",
         "type": "scatter",
         "x": [
          43.5,
          43.5
         ],
         "xaxis": "x",
         "y": [
          5.5,
          -0.5
         ],
         "yaxis": "y"
        },
        {
         "hoverinfo": "skip",
         "line": {
          "color": "#000000",
          "width": 4
         },
         "mode": "lines",
         "type": "scatter",
         "x": [
          47.5,
          47.5
         ],
         "xaxis": "x",
         "y": [
          0.5,
          6.5
         ],
         "yaxis": "y"
        },
        {
         "hoverinfo": "skip",
         "line": {
          "color": "#000000",
          "width": 4
         },
         "mode": "lines",
         "type": "scatter",
         "x": [
          47.5,
          48.5
         ],
         "xaxis": "x",
         "y": [
          0.5,
          0.5
         ],
         "yaxis": "y"
        },
        {
         "hoverinfo": "skip",
         "line": {
          "color": "#000000",
          "width": 4
         },
         "mode": "lines",
         "type": "scatter",
         "x": [
          48.5,
          48.5
         ],
         "xaxis": "x",
         "y": [
          0.5,
          -0.5
         ],
         "yaxis": "y"
        }
       ],
       "layout": {
        "font": {
         "color": "#fff",
         "size": 10
        },
        "height": 225,
        "margin": {
         "b": 20,
         "t": 20
        },
        "paper_bgcolor": "#333",
        "plot_bgcolor": "#333",
        "showlegend": false,
        "template": {
         "data": {
          "bar": [
           {
            "error_x": {
             "color": "#2a3f5f"
            },
            "error_y": {
             "color": "#2a3f5f"
            },
            "marker": {
             "line": {
              "color": "#E5ECF6",
              "width": 0.5
             },
             "pattern": {
              "fillmode": "overlay",
              "size": 10,
              "solidity": 0.2
             }
            },
            "type": "bar"
           }
          ],
          "barpolar": [
           {
            "marker": {
             "line": {
              "color": "#E5ECF6",
              "width": 0.5
             },
             "pattern": {
              "fillmode": "overlay",
              "size": 10,
              "solidity": 0.2
             }
            },
            "type": "barpolar"
           }
          ],
          "carpet": [
           {
            "aaxis": {
             "endlinecolor": "#2a3f5f",
             "gridcolor": "white",
             "linecolor": "white",
             "minorgridcolor": "white",
             "startlinecolor": "#2a3f5f"
            },
            "baxis": {
             "endlinecolor": "#2a3f5f",
             "gridcolor": "white",
             "linecolor": "white",
             "minorgridcolor": "white",
             "startlinecolor": "#2a3f5f"
            },
            "type": "carpet"
           }
          ],
          "choropleth": [
           {
            "colorbar": {
             "outlinewidth": 0,
             "ticks": ""
            },
            "type": "choropleth"
           }
          ],
          "contour": [
           {
            "colorbar": {
             "outlinewidth": 0,
             "ticks": ""
            },
            "colorscale": [
             [
              0,
              "#0d0887"
             ],
             [
              0.1111111111111111,
              "#46039f"
             ],
             [
              0.2222222222222222,
              "#7201a8"
             ],
             [
              0.3333333333333333,
              "#9c179e"
             ],
             [
              0.4444444444444444,
              "#bd3786"
             ],
             [
              0.5555555555555556,
              "#d8576b"
             ],
             [
              0.6666666666666666,
              "#ed7953"
             ],
             [
              0.7777777777777778,
              "#fb9f3a"
             ],
             [
              0.8888888888888888,
              "#fdca26"
             ],
             [
              1,
              "#f0f921"
             ]
            ],
            "type": "contour"
           }
          ],
          "contourcarpet": [
           {
            "colorbar": {
             "outlinewidth": 0,
             "ticks": ""
            },
            "type": "contourcarpet"
           }
          ],
          "heatmap": [
           {
            "colorbar": {
             "outlinewidth": 0,
             "ticks": ""
            },
            "colorscale": [
             [
              0,
              "#0d0887"
             ],
             [
              0.1111111111111111,
              "#46039f"
             ],
             [
              0.2222222222222222,
              "#7201a8"
             ],
             [
              0.3333333333333333,
              "#9c179e"
             ],
             [
              0.4444444444444444,
              "#bd3786"
             ],
             [
              0.5555555555555556,
              "#d8576b"
             ],
             [
              0.6666666666666666,
              "#ed7953"
             ],
             [
              0.7777777777777778,
              "#fb9f3a"
             ],
             [
              0.8888888888888888,
              "#fdca26"
             ],
             [
              1,
              "#f0f921"
             ]
            ],
            "type": "heatmap"
           }
          ],
          "heatmapgl": [
           {
            "colorbar": {
             "outlinewidth": 0,
             "ticks": ""
            },
            "colorscale": [
             [
              0,
              "#0d0887"
             ],
             [
              0.1111111111111111,
              "#46039f"
             ],
             [
              0.2222222222222222,
              "#7201a8"
             ],
             [
              0.3333333333333333,
              "#9c179e"
             ],
             [
              0.4444444444444444,
              "#bd3786"
             ],
             [
              0.5555555555555556,
              "#d8576b"
             ],
             [
              0.6666666666666666,
              "#ed7953"
             ],
             [
              0.7777777777777778,
              "#fb9f3a"
             ],
             [
              0.8888888888888888,
              "#fdca26"
             ],
             [
              1,
              "#f0f921"
             ]
            ],
            "type": "heatmapgl"
           }
          ],
          "histogram": [
           {
            "marker": {
             "pattern": {
              "fillmode": "overlay",
              "size": 10,
              "solidity": 0.2
             }
            },
            "type": "histogram"
           }
          ],
          "histogram2d": [
           {
            "colorbar": {
             "outlinewidth": 0,
             "ticks": ""
            },
            "colorscale": [
             [
              0,
              "#0d0887"
             ],
             [
              0.1111111111111111,
              "#46039f"
             ],
             [
              0.2222222222222222,
              "#7201a8"
             ],
             [
              0.3333333333333333,
              "#9c179e"
             ],
             [
              0.4444444444444444,
              "#bd3786"
             ],
             [
              0.5555555555555556,
              "#d8576b"
             ],
             [
              0.6666666666666666,
              "#ed7953"
             ],
             [
              0.7777777777777778,
              "#fb9f3a"
             ],
             [
              0.8888888888888888,
              "#fdca26"
             ],
             [
              1,
              "#f0f921"
             ]
            ],
            "type": "histogram2d"
           }
          ],
          "histogram2dcontour": [
           {
            "colorbar": {
             "outlinewidth": 0,
             "ticks": ""
            },
            "colorscale": [
             [
              0,
              "#0d0887"
             ],
             [
              0.1111111111111111,
              "#46039f"
             ],
             [
              0.2222222222222222,
              "#7201a8"
             ],
             [
              0.3333333333333333,
              "#9c179e"
             ],
             [
              0.4444444444444444,
              "#bd3786"
             ],
             [
              0.5555555555555556,
              "#d8576b"
             ],
             [
              0.6666666666666666,
              "#ed7953"
             ],
             [
              0.7777777777777778,
              "#fb9f3a"
             ],
             [
              0.8888888888888888,
              "#fdca26"
             ],
             [
              1,
              "#f0f921"
             ]
            ],
            "type": "histogram2dcontour"
           }
          ],
          "mesh3d": [
           {
            "colorbar": {
             "outlinewidth": 0,
             "ticks": ""
            },
            "type": "mesh3d"
           }
          ],
          "parcoords": [
           {
            "line": {
             "colorbar": {
              "outlinewidth": 0,
              "ticks": ""
             }
            },
            "type": "parcoords"
           }
          ],
          "pie": [
           {
            "automargin": true,
            "type": "pie"
           }
          ],
          "scatter": [
           {
            "fillpattern": {
             "fillmode": "overlay",
             "size": 10,
             "solidity": 0.2
            },
            "type": "scatter"
           }
          ],
          "scatter3d": [
           {
            "line": {
             "colorbar": {
              "outlinewidth": 0,
              "ticks": ""
             }
            },
            "marker": {
             "colorbar": {
              "outlinewidth": 0,
              "ticks": ""
             }
            },
            "type": "scatter3d"
           }
          ],
          "scattercarpet": [
           {
            "marker": {
             "colorbar": {
              "outlinewidth": 0,
              "ticks": ""
             }
            },
            "type": "scattercarpet"
           }
          ],
          "scattergeo": [
           {
            "marker": {
             "colorbar": {
              "outlinewidth": 0,
              "ticks": ""
             }
            },
            "type": "scattergeo"
           }
          ],
          "scattergl": [
           {
            "marker": {
             "colorbar": {
              "outlinewidth": 0,
              "ticks": ""
             }
            },
            "type": "scattergl"
           }
          ],
          "scattermapbox": [
           {
            "marker": {
             "colorbar": {
              "outlinewidth": 0,
              "ticks": ""
             }
            },
            "type": "scattermapbox"
           }
          ],
          "scatterpolar": [
           {
            "marker": {
             "colorbar": {
              "outlinewidth": 0,
              "ticks": ""
             }
            },
            "type": "scatterpolar"
           }
          ],
          "scatterpolargl": [
           {
            "marker": {
             "colorbar": {
              "outlinewidth": 0,
              "ticks": ""
             }
            },
            "type": "scatterpolargl"
           }
          ],
          "scatterternary": [
           {
            "marker": {
             "colorbar": {
              "outlinewidth": 0,
              "ticks": ""
             }
            },
            "type": "scatterternary"
           }
          ],
          "surface": [
           {
            "colorbar": {
             "outlinewidth": 0,
             "ticks": ""
            },
            "colorscale": [
             [
              0,
              "#0d0887"
             ],
             [
              0.1111111111111111,
              "#46039f"
             ],
             [
              0.2222222222222222,
              "#7201a8"
             ],
             [
              0.3333333333333333,
              "#9c179e"
             ],
             [
              0.4444444444444444,
              "#bd3786"
             ],
             [
              0.5555555555555556,
              "#d8576b"
             ],
             [
              0.6666666666666666,
              "#ed7953"
             ],
             [
              0.7777777777777778,
              "#fb9f3a"
             ],
             [
              0.8888888888888888,
              "#fdca26"
             ],
             [
              1,
              "#f0f921"
             ]
            ],
            "type": "surface"
           }
          ],
          "table": [
           {
            "cells": {
             "fill": {
              "color": "#EBF0F8"
             },
             "line": {
              "color": "white"
             }
            },
            "header": {
             "fill": {
              "color": "#C8D4E3"
             },
             "line": {
              "color": "white"
             }
            },
            "type": "table"
           }
          ]
         },
         "layout": {
          "annotationdefaults": {
           "arrowcolor": "#2a3f5f",
           "arrowhead": 0,
           "arrowwidth": 1
          },
          "autotypenumbers": "strict",
          "coloraxis": {
           "colorbar": {
            "outlinewidth": 0,
            "ticks": ""
           }
          },
          "colorscale": {
           "diverging": [
            [
             0,
             "#8e0152"
            ],
            [
             0.1,
             "#c51b7d"
            ],
            [
             0.2,
             "#de77ae"
            ],
            [
             0.3,
             "#f1b6da"
            ],
            [
             0.4,
             "#fde0ef"
            ],
            [
             0.5,
             "#f7f7f7"
            ],
            [
             0.6,
             "#e6f5d0"
            ],
            [
             0.7,
             "#b8e186"
            ],
            [
             0.8,
             "#7fbc41"
            ],
            [
             0.9,
             "#4d9221"
            ],
            [
             1,
             "#276419"
            ]
           ],
           "sequential": [
            [
             0,
             "#0d0887"
            ],
            [
             0.1111111111111111,
             "#46039f"
            ],
            [
             0.2222222222222222,
             "#7201a8"
            ],
            [
             0.3333333333333333,
             "#9c179e"
            ],
            [
             0.4444444444444444,
             "#bd3786"
            ],
            [
             0.5555555555555556,
             "#d8576b"
            ],
            [
             0.6666666666666666,
             "#ed7953"
            ],
            [
             0.7777777777777778,
             "#fb9f3a"
            ],
            [
             0.8888888888888888,
             "#fdca26"
            ],
            [
             1,
             "#f0f921"
            ]
           ],
           "sequentialminus": [
            [
             0,
             "#0d0887"
            ],
            [
             0.1111111111111111,
             "#46039f"
            ],
            [
             0.2222222222222222,
             "#7201a8"
            ],
            [
             0.3333333333333333,
             "#9c179e"
            ],
            [
             0.4444444444444444,
             "#bd3786"
            ],
            [
             0.5555555555555556,
             "#d8576b"
            ],
            [
             0.6666666666666666,
             "#ed7953"
            ],
            [
             0.7777777777777778,
             "#fb9f3a"
            ],
            [
             0.8888888888888888,
             "#fdca26"
            ],
            [
             1,
             "#f0f921"
            ]
           ]
          },
          "colorway": [
           "#636efa",
           "#EF553B",
           "#00cc96",
           "#ab63fa",
           "#FFA15A",
           "#19d3f3",
           "#FF6692",
           "#B6E880",
           "#FF97FF",
           "#FECB52"
          ],
          "font": {
           "color": "#2a3f5f"
          },
          "geo": {
           "bgcolor": "white",
           "lakecolor": "white",
           "landcolor": "#E5ECF6",
           "showlakes": true,
           "showland": true,
           "subunitcolor": "white"
          },
          "hoverlabel": {
           "align": "left"
          },
          "hovermode": "closest",
          "mapbox": {
           "style": "light"
          },
          "paper_bgcolor": "white",
          "plot_bgcolor": "#E5ECF6",
          "polar": {
           "angularaxis": {
            "gridcolor": "white",
            "linecolor": "white",
            "ticks": ""
           },
           "bgcolor": "#E5ECF6",
           "radialaxis": {
            "gridcolor": "white",
            "linecolor": "white",
            "ticks": ""
           }
          },
          "scene": {
           "xaxis": {
            "backgroundcolor": "#E5ECF6",
            "gridcolor": "white",
            "gridwidth": 2,
            "linecolor": "white",
            "showbackground": true,
            "ticks": "",
            "zerolinecolor": "white"
           },
           "yaxis": {
            "backgroundcolor": "#E5ECF6",
            "gridcolor": "white",
            "gridwidth": 2,
            "linecolor": "white",
            "showbackground": true,
            "ticks": "",
            "zerolinecolor": "white"
           },
           "zaxis": {
            "backgroundcolor": "#E5ECF6",
            "gridcolor": "white",
            "gridwidth": 2,
            "linecolor": "white",
            "showbackground": true,
            "ticks": "",
            "zerolinecolor": "white"
           }
          },
          "shapedefaults": {
           "line": {
            "color": "#2a3f5f"
           }
          },
          "ternary": {
           "aaxis": {
            "gridcolor": "white",
            "linecolor": "white",
            "ticks": ""
           },
           "baxis": {
            "gridcolor": "white",
            "linecolor": "white",
            "ticks": ""
           },
           "bgcolor": "#E5ECF6",
           "caxis": {
            "gridcolor": "white",
            "linecolor": "white",
            "ticks": ""
           }
          },
          "title": {
           "x": 0.05
          },
          "xaxis": {
           "automargin": true,
           "gridcolor": "white",
           "linecolor": "white",
           "ticks": "",
           "title": {
            "standoff": 15
           },
           "zerolinecolor": "white",
           "zerolinewidth": 2
          },
          "yaxis": {
           "automargin": true,
           "gridcolor": "white",
           "linecolor": "white",
           "ticks": "",
           "title": {
            "standoff": 15
           },
           "zerolinecolor": "white",
           "zerolinewidth": 2
          }
         }
        },
        "title": {
         "text": "Ride Mileage 2020"
        },
        "xaxis": {
         "anchor": "y",
         "domain": [
          0,
          1
         ],
         "showgrid": false,
         "showline": false,
         "tickmode": "array",
         "ticktext": [
          "January",
          "February",
          "March",
          "April",
          "May",
          "June",
          "July",
          "August",
          "September",
          "October",
          "November",
          "December"
         ],
         "tickvals": [
          1.5,
          5.909090909090909,
          10.318181818181818,
          14.727272727272727,
          19.136363636363637,
          23.545454545454547,
          27.954545454545453,
          32.36363636363636,
          36.77272727272727,
          41.18181818181818,
          45.59090909090909,
          50
         ],
         "zeroline": false
        },
        "yaxis": {
         "anchor": "x",
         "autorange": "reversed",
         "domain": [
          0,
          1
         ],
         "showgrid": false,
         "showline": false,
         "tickmode": "array",
         "ticktext": [
          "Mon",
          "Tue",
          "Wed",
          "Thu",
          "Fri",
          "Sat",
          "Sun"
         ],
         "tickvals": [
          0,
          1,
          2,
          3,
          4,
          5,
          6
         ],
         "zeroline": false
        }
       }
      }
     },
     "metadata": {},
     "output_type": "display_data"
    }
   ],
   "source": [
    "fig = calplot(df_activity_2020, x='ride_date', y='total_distance_mi', colorscale=colorscale, \n",
    "              dark_theme=True, gap=1, month_lines_width=4, month_lines_color='#000000',\n",
    "            showscale=True, total_height=225, title='Ride Mileage 2020')\n",
    "fig.show()"
   ]
  },
  {
   "cell_type": "code",
   "execution_count": null,
   "id": "c1029cd2",
   "metadata": {},
   "outputs": [],
   "source": []
  },
  {
   "cell_type": "code",
   "execution_count": null,
   "id": "87732e99",
   "metadata": {},
   "outputs": [],
   "source": []
  }
 ],
 "metadata": {
  "kernelspec": {
   "display_name": "venv",
   "language": "python",
   "name": "python3"
  },
  "language_info": {
   "codemirror_mode": {
    "name": "ipython",
    "version": 3
   },
   "file_extension": ".py",
   "mimetype": "text/x-python",
   "name": "python",
   "nbconvert_exporter": "python",
   "pygments_lexer": "ipython3",
   "version": "3.12.3"
  }
 },
 "nbformat": 4,
 "nbformat_minor": 5
}
