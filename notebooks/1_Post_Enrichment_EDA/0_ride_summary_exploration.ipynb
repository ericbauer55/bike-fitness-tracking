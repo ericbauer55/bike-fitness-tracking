{
 "cells": [
  {
   "cell_type": "code",
   "execution_count": 1,
   "id": "5e86b4a6",
   "metadata": {},
   "outputs": [],
   "source": [
    "import pandas as pd\n",
    "pd.set_option(\"display.max_columns\", 100)\n",
    "from pathlib import Path\n",
    "import numpy as np\n",
    "import matplotlib.pyplot as plt\n",
    "import seaborn as sns\n",
    "\n",
    "CSV_DATA = Path().cwd().parent.parent / \"data/1_transformed\""
   ]
  },
  {
   "cell_type": "code",
   "execution_count": 2,
   "id": "bb045c1a",
   "metadata": {},
   "outputs": [],
   "source": [
    "df = pd.read_csv(CSV_DATA/'summary/ride_summary.csv')\n",
    "df['start_date'] = pd.to_datetime(df['start_date'])\n",
    "df['start_time'] = pd.to_timedelta(df['start_time'])\n",
    "df['end_time'] = pd.to_timedelta(df['end_time'])"
   ]
  },
  {
   "cell_type": "code",
   "execution_count": 3,
   "id": "510a2006",
   "metadata": {},
   "outputs": [
    {
     "data": {
      "text/html": [
       "<div>\n",
       "<style scoped>\n",
       "    .dataframe tbody tr th:only-of-type {\n",
       "        vertical-align: middle;\n",
       "    }\n",
       "\n",
       "    .dataframe tbody tr th {\n",
       "        vertical-align: top;\n",
       "    }\n",
       "\n",
       "    .dataframe thead th {\n",
       "        text-align: right;\n",
       "    }\n",
       "</style>\n",
       "<table border=\"1\" class=\"dataframe\">\n",
       "  <thead>\n",
       "    <tr style=\"text-align: right;\">\n",
       "      <th></th>\n",
       "      <th>ride_id</th>\n",
       "      <th>start_date</th>\n",
       "      <th>start_time</th>\n",
       "      <th>end_time</th>\n",
       "      <th>biker_weight_lbs</th>\n",
       "      <th>bike_weight</th>\n",
       "      <th>bag_weight</th>\n",
       "      <th>avg_speed</th>\n",
       "      <th>avg_cruising_speed</th>\n",
       "      <th>total_ride_time_sec</th>\n",
       "      <th>total_moving_time_sec</th>\n",
       "      <th>total_distance_mi</th>\n",
       "      <th>total_ascent_ft</th>\n",
       "      <th>total_descent_ft</th>\n",
       "      <th>avg_heart_rate</th>\n",
       "      <th>avg_power</th>\n",
       "      <th>avg_cadence</th>\n",
       "      <th>avg_ambient_temp_F</th>\n",
       "      <th>best_power_4s</th>\n",
       "      <th>best_power_5s</th>\n",
       "      <th>best_power_10s</th>\n",
       "      <th>best_power_20s</th>\n",
       "      <th>best_power_30s</th>\n",
       "      <th>best_power_1m</th>\n",
       "      <th>best_power_2m</th>\n",
       "      <th>best_power_3m</th>\n",
       "      <th>best_power_4m</th>\n",
       "      <th>best_power_5m</th>\n",
       "      <th>best_power_6m</th>\n",
       "      <th>best_power_10m</th>\n",
       "      <th>best_power_20m</th>\n",
       "      <th>best_power_30m</th>\n",
       "      <th>best_power_40m</th>\n",
       "      <th>best_power_1h</th>\n",
       "      <th>best_power_2h</th>\n",
       "      <th>best_power_3h</th>\n",
       "      <th>best_power_4h</th>\n",
       "    </tr>\n",
       "  </thead>\n",
       "  <tbody>\n",
       "    <tr>\n",
       "      <th>0</th>\n",
       "      <td>0x5b086853</td>\n",
       "      <td>2018-05-25</td>\n",
       "      <td>0 days 19:47:31</td>\n",
       "      <td>0 days 20:27:31</td>\n",
       "      <td>220</td>\n",
       "      <td>35</td>\n",
       "      <td>0</td>\n",
       "      <td>13.720594</td>\n",
       "      <td>14.267175</td>\n",
       "      <td>2401.0</td>\n",
       "      <td>1736.0</td>\n",
       "      <td>6.991217</td>\n",
       "      <td>220.1551</td>\n",
       "      <td>237.8725</td>\n",
       "      <td>NaN</td>\n",
       "      <td>119.731068</td>\n",
       "      <td>NaN</td>\n",
       "      <td>NaN</td>\n",
       "      <td>672.602587</td>\n",
       "      <td>667.914386</td>\n",
       "      <td>629.656660</td>\n",
       "      <td>514.425348</td>\n",
       "      <td>410.461476</td>\n",
       "      <td>303.697449</td>\n",
       "      <td>224.933753</td>\n",
       "      <td>198.493162</td>\n",
       "      <td>179.981622</td>\n",
       "      <td>180.681178</td>\n",
       "      <td>183.201559</td>\n",
       "      <td>153.455322</td>\n",
       "      <td>143.166693</td>\n",
       "      <td>121.926138</td>\n",
       "      <td>NaN</td>\n",
       "      <td>NaN</td>\n",
       "      <td>NaN</td>\n",
       "      <td>NaN</td>\n",
       "      <td>NaN</td>\n",
       "    </tr>\n",
       "    <tr>\n",
       "      <th>1</th>\n",
       "      <td>0x5b3c1e5a</td>\n",
       "      <td>2018-07-04</td>\n",
       "      <td>0 days 01:09:46</td>\n",
       "      <td>0 days 01:42:05</td>\n",
       "      <td>220</td>\n",
       "      <td>35</td>\n",
       "      <td>0</td>\n",
       "      <td>13.615799</td>\n",
       "      <td>14.215438</td>\n",
       "      <td>1940.0</td>\n",
       "      <td>1737.0</td>\n",
       "      <td>6.994353</td>\n",
       "      <td>152.5665</td>\n",
       "      <td>180.1269</td>\n",
       "      <td>NaN</td>\n",
       "      <td>108.186147</td>\n",
       "      <td>NaN</td>\n",
       "      <td>NaN</td>\n",
       "      <td>528.072743</td>\n",
       "      <td>521.385666</td>\n",
       "      <td>483.860170</td>\n",
       "      <td>376.223200</td>\n",
       "      <td>296.104667</td>\n",
       "      <td>242.541335</td>\n",
       "      <td>194.185269</td>\n",
       "      <td>168.695252</td>\n",
       "      <td>166.227917</td>\n",
       "      <td>154.582374</td>\n",
       "      <td>149.646974</td>\n",
       "      <td>142.407923</td>\n",
       "      <td>119.830925</td>\n",
       "      <td>110.822400</td>\n",
       "      <td>NaN</td>\n",
       "      <td>NaN</td>\n",
       "      <td>NaN</td>\n",
       "      <td>NaN</td>\n",
       "      <td>NaN</td>\n",
       "    </tr>\n",
       "    <tr>\n",
       "      <th>2</th>\n",
       "      <td>0x5ccb413c</td>\n",
       "      <td>2019-05-02</td>\n",
       "      <td>0 days 19:13:00</td>\n",
       "      <td>0 days 19:53:00</td>\n",
       "      <td>220</td>\n",
       "      <td>35</td>\n",
       "      <td>0</td>\n",
       "      <td>13.784195</td>\n",
       "      <td>14.574504</td>\n",
       "      <td>2401.0</td>\n",
       "      <td>2143.0</td>\n",
       "      <td>8.865922</td>\n",
       "      <td>300.5396</td>\n",
       "      <td>300.5396</td>\n",
       "      <td>NaN</td>\n",
       "      <td>125.528392</td>\n",
       "      <td>NaN</td>\n",
       "      <td>NaN</td>\n",
       "      <td>485.282271</td>\n",
       "      <td>481.991827</td>\n",
       "      <td>462.283537</td>\n",
       "      <td>412.144319</td>\n",
       "      <td>391.244346</td>\n",
       "      <td>314.816769</td>\n",
       "      <td>209.581472</td>\n",
       "      <td>186.631718</td>\n",
       "      <td>179.636006</td>\n",
       "      <td>157.569641</td>\n",
       "      <td>155.009664</td>\n",
       "      <td>142.368486</td>\n",
       "      <td>134.442850</td>\n",
       "      <td>130.264839</td>\n",
       "      <td>NaN</td>\n",
       "      <td>NaN</td>\n",
       "      <td>NaN</td>\n",
       "      <td>NaN</td>\n",
       "      <td>NaN</td>\n",
       "    </tr>\n",
       "    <tr>\n",
       "      <th>3</th>\n",
       "      <td>0x5cccc63c</td>\n",
       "      <td>2019-05-03</td>\n",
       "      <td>0 days 22:52:44</td>\n",
       "      <td>0 days 23:53:54</td>\n",
       "      <td>220</td>\n",
       "      <td>35</td>\n",
       "      <td>0</td>\n",
       "      <td>11.228317</td>\n",
       "      <td>12.081964</td>\n",
       "      <td>3671.0</td>\n",
       "      <td>2725.0</td>\n",
       "      <td>9.516836</td>\n",
       "      <td>333.3496</td>\n",
       "      <td>280.1974</td>\n",
       "      <td>NaN</td>\n",
       "      <td>87.191110</td>\n",
       "      <td>NaN</td>\n",
       "      <td>NaN</td>\n",
       "      <td>432.549324</td>\n",
       "      <td>425.735809</td>\n",
       "      <td>389.502414</td>\n",
       "      <td>330.267900</td>\n",
       "      <td>299.166732</td>\n",
       "      <td>225.907473</td>\n",
       "      <td>143.793900</td>\n",
       "      <td>147.597113</td>\n",
       "      <td>129.794118</td>\n",
       "      <td>118.283785</td>\n",
       "      <td>115.819729</td>\n",
       "      <td>107.256435</td>\n",
       "      <td>98.405537</td>\n",
       "      <td>97.000798</td>\n",
       "      <td>94.003892</td>\n",
       "      <td>NaN</td>\n",
       "      <td>NaN</td>\n",
       "      <td>NaN</td>\n",
       "      <td>NaN</td>\n",
       "    </tr>\n",
       "    <tr>\n",
       "      <th>4</th>\n",
       "      <td>0x5cdbff9c</td>\n",
       "      <td>2019-05-15</td>\n",
       "      <td>0 days 12:01:32</td>\n",
       "      <td>0 days 12:37:36</td>\n",
       "      <td>220</td>\n",
       "      <td>35</td>\n",
       "      <td>0</td>\n",
       "      <td>14.256866</td>\n",
       "      <td>14.701154</td>\n",
       "      <td>2165.0</td>\n",
       "      <td>1942.0</td>\n",
       "      <td>8.029630</td>\n",
       "      <td>255.2618</td>\n",
       "      <td>211.2964</td>\n",
       "      <td>NaN</td>\n",
       "      <td>133.975528</td>\n",
       "      <td>NaN</td>\n",
       "      <td>NaN</td>\n",
       "      <td>422.177957</td>\n",
       "      <td>419.814683</td>\n",
       "      <td>393.709515</td>\n",
       "      <td>363.263188</td>\n",
       "      <td>336.841737</td>\n",
       "      <td>271.435198</td>\n",
       "      <td>215.164384</td>\n",
       "      <td>187.689124</td>\n",
       "      <td>188.538262</td>\n",
       "      <td>164.696769</td>\n",
       "      <td>157.267499</td>\n",
       "      <td>154.668660</td>\n",
       "      <td>139.481512</td>\n",
       "      <td>138.606140</td>\n",
       "      <td>NaN</td>\n",
       "      <td>NaN</td>\n",
       "      <td>NaN</td>\n",
       "      <td>NaN</td>\n",
       "      <td>NaN</td>\n",
       "    </tr>\n",
       "  </tbody>\n",
       "</table>\n",
       "</div>"
      ],
      "text/plain": [
       "      ride_id start_date      start_time        end_time  biker_weight_lbs  \\\n",
       "0  0x5b086853 2018-05-25 0 days 19:47:31 0 days 20:27:31               220   \n",
       "1  0x5b3c1e5a 2018-07-04 0 days 01:09:46 0 days 01:42:05               220   \n",
       "2  0x5ccb413c 2019-05-02 0 days 19:13:00 0 days 19:53:00               220   \n",
       "3  0x5cccc63c 2019-05-03 0 days 22:52:44 0 days 23:53:54               220   \n",
       "4  0x5cdbff9c 2019-05-15 0 days 12:01:32 0 days 12:37:36               220   \n",
       "\n",
       "   bike_weight  bag_weight  avg_speed  avg_cruising_speed  \\\n",
       "0           35           0  13.720594           14.267175   \n",
       "1           35           0  13.615799           14.215438   \n",
       "2           35           0  13.784195           14.574504   \n",
       "3           35           0  11.228317           12.081964   \n",
       "4           35           0  14.256866           14.701154   \n",
       "\n",
       "   total_ride_time_sec  total_moving_time_sec  total_distance_mi  \\\n",
       "0               2401.0                 1736.0           6.991217   \n",
       "1               1940.0                 1737.0           6.994353   \n",
       "2               2401.0                 2143.0           8.865922   \n",
       "3               3671.0                 2725.0           9.516836   \n",
       "4               2165.0                 1942.0           8.029630   \n",
       "\n",
       "   total_ascent_ft  total_descent_ft  avg_heart_rate   avg_power  avg_cadence  \\\n",
       "0         220.1551          237.8725             NaN  119.731068          NaN   \n",
       "1         152.5665          180.1269             NaN  108.186147          NaN   \n",
       "2         300.5396          300.5396             NaN  125.528392          NaN   \n",
       "3         333.3496          280.1974             NaN   87.191110          NaN   \n",
       "4         255.2618          211.2964             NaN  133.975528          NaN   \n",
       "\n",
       "   avg_ambient_temp_F  best_power_4s  best_power_5s  best_power_10s  \\\n",
       "0                 NaN     672.602587     667.914386      629.656660   \n",
       "1                 NaN     528.072743     521.385666      483.860170   \n",
       "2                 NaN     485.282271     481.991827      462.283537   \n",
       "3                 NaN     432.549324     425.735809      389.502414   \n",
       "4                 NaN     422.177957     419.814683      393.709515   \n",
       "\n",
       "   best_power_20s  best_power_30s  best_power_1m  best_power_2m  \\\n",
       "0      514.425348      410.461476     303.697449     224.933753   \n",
       "1      376.223200      296.104667     242.541335     194.185269   \n",
       "2      412.144319      391.244346     314.816769     209.581472   \n",
       "3      330.267900      299.166732     225.907473     143.793900   \n",
       "4      363.263188      336.841737     271.435198     215.164384   \n",
       "\n",
       "   best_power_3m  best_power_4m  best_power_5m  best_power_6m  best_power_10m  \\\n",
       "0     198.493162     179.981622     180.681178     183.201559      153.455322   \n",
       "1     168.695252     166.227917     154.582374     149.646974      142.407923   \n",
       "2     186.631718     179.636006     157.569641     155.009664      142.368486   \n",
       "3     147.597113     129.794118     118.283785     115.819729      107.256435   \n",
       "4     187.689124     188.538262     164.696769     157.267499      154.668660   \n",
       "\n",
       "   best_power_20m  best_power_30m  best_power_40m  best_power_1h  \\\n",
       "0      143.166693      121.926138             NaN            NaN   \n",
       "1      119.830925      110.822400             NaN            NaN   \n",
       "2      134.442850      130.264839             NaN            NaN   \n",
       "3       98.405537       97.000798       94.003892            NaN   \n",
       "4      139.481512      138.606140             NaN            NaN   \n",
       "\n",
       "   best_power_2h  best_power_3h  best_power_4h  \n",
       "0            NaN            NaN            NaN  \n",
       "1            NaN            NaN            NaN  \n",
       "2            NaN            NaN            NaN  \n",
       "3            NaN            NaN            NaN  \n",
       "4            NaN            NaN            NaN  "
      ]
     },
     "execution_count": 3,
     "metadata": {},
     "output_type": "execute_result"
    }
   ],
   "source": [
    "df.head()"
   ]
  },
  {
   "cell_type": "code",
   "execution_count": 4,
   "id": "03ecc2eb",
   "metadata": {},
   "outputs": [
    {
     "data": {
      "image/png": "[encoded data removed]",
      "text/plain": [
       "<Figure size 1200x300 with 2 Axes>"
      ]
     },
     "metadata": {},
     "output_type": "display_data"
    }
   ],
   "source": [
    "# Check for nulls in sensor columns\n",
    "_ = plt.figure(figsize=(12,3))\n",
    "_ = sns.heatmap(df.isna())"
   ]
  },
  {
   "cell_type": "code",
   "execution_count": 5,
   "id": "4ebbbfe5",
   "metadata": {},
   "outputs": [
    {
     "name": "stdout",
     "output_type": "stream",
     "text": [
      "Of the total 390 rides, only 85 of them have watch sensor data (21.79%)\n"
     ]
    }
   ],
   "source": [
    "total_rides = df.shape[0]\n",
    "rides_with_watch = total_rides - df['avg_heart_rate'].isna().sum()\n",
    "percent_with_watch = 100.0* (rides_with_watch / total_rides)\n",
    "print(f'Of the total {total_rides} rides, only {rides_with_watch} of them have watch sensor data ({round(percent_with_watch,2)}%)')"
   ]
  },
  {
   "cell_type": "code",
   "execution_count": 6,
   "id": "e2c0cad2",
   "metadata": {},
   "outputs": [
    {
     "data": {
      "text/html": [
       "<div>\n",
       "<style scoped>\n",
       "    .dataframe tbody tr th:only-of-type {\n",
       "        vertical-align: middle;\n",
       "    }\n",
       "\n",
       "    .dataframe tbody tr th {\n",
       "        vertical-align: top;\n",
       "    }\n",
       "\n",
       "    .dataframe thead th {\n",
       "        text-align: right;\n",
       "    }\n",
       "</style>\n",
       "<table border=\"1\" class=\"dataframe\">\n",
       "  <thead>\n",
       "    <tr style=\"text-align: right;\">\n",
       "      <th></th>\n",
       "      <th>ride_id</th>\n",
       "      <th>start_date</th>\n",
       "      <th>start_time</th>\n",
       "      <th>end_time</th>\n",
       "      <th>biker_weight_lbs</th>\n",
       "      <th>bike_weight</th>\n",
       "      <th>bag_weight</th>\n",
       "      <th>avg_speed</th>\n",
       "      <th>avg_cruising_speed</th>\n",
       "      <th>total_ride_time_sec</th>\n",
       "      <th>total_moving_time_sec</th>\n",
       "      <th>total_distance_mi</th>\n",
       "      <th>total_ascent_ft</th>\n",
       "      <th>total_descent_ft</th>\n",
       "      <th>avg_heart_rate</th>\n",
       "      <th>avg_power</th>\n",
       "      <th>avg_cadence</th>\n",
       "      <th>avg_ambient_temp_F</th>\n",
       "      <th>best_power_4s</th>\n",
       "      <th>best_power_5s</th>\n",
       "      <th>best_power_10s</th>\n",
       "      <th>best_power_20s</th>\n",
       "      <th>best_power_30s</th>\n",
       "      <th>best_power_1m</th>\n",
       "      <th>best_power_2m</th>\n",
       "      <th>best_power_3m</th>\n",
       "      <th>best_power_4m</th>\n",
       "      <th>best_power_5m</th>\n",
       "      <th>best_power_6m</th>\n",
       "      <th>best_power_10m</th>\n",
       "      <th>best_power_20m</th>\n",
       "      <th>best_power_30m</th>\n",
       "      <th>best_power_40m</th>\n",
       "      <th>best_power_1h</th>\n",
       "      <th>best_power_2h</th>\n",
       "      <th>best_power_3h</th>\n",
       "      <th>best_power_4h</th>\n",
       "    </tr>\n",
       "  </thead>\n",
       "  <tbody>\n",
       "    <tr>\n",
       "      <th>35</th>\n",
       "      <td>0x6468f0a8</td>\n",
       "      <td>2023-05-20</td>\n",
       "      <td>0 days 16:09:12</td>\n",
       "      <td>0 days 16:30:44</td>\n",
       "      <td>220</td>\n",
       "      <td>25</td>\n",
       "      <td>0</td>\n",
       "      <td>11.061266</td>\n",
       "      <td>14.133765</td>\n",
       "      <td>1293.0</td>\n",
       "      <td>951.0</td>\n",
       "      <td>3.927581</td>\n",
       "      <td>77.4316</td>\n",
       "      <td>139.1144</td>\n",
       "      <td>115.238226</td>\n",
       "      <td>81.322951</td>\n",
       "      <td>NaN</td>\n",
       "      <td>78.373312</td>\n",
       "      <td>311.684541</td>\n",
       "      <td>308.409863</td>\n",
       "      <td>277.681726</td>\n",
       "      <td>211.172451</td>\n",
       "      <td>183.492624</td>\n",
       "      <td>166.380329</td>\n",
       "      <td>143.866478</td>\n",
       "      <td>141.971920</td>\n",
       "      <td>136.839677</td>\n",
       "      <td>130.981763</td>\n",
       "      <td>124.411549</td>\n",
       "      <td>119.668842</td>\n",
       "      <td>84.843034</td>\n",
       "      <td>NaN</td>\n",
       "      <td>NaN</td>\n",
       "      <td>NaN</td>\n",
       "      <td>NaN</td>\n",
       "      <td>NaN</td>\n",
       "      <td>NaN</td>\n",
       "    </tr>\n",
       "    <tr>\n",
       "      <th>36</th>\n",
       "      <td>0x646aaca8</td>\n",
       "      <td>2023-05-21</td>\n",
       "      <td>0 days 23:43:36</td>\n",
       "      <td>0 days 00:09:52</td>\n",
       "      <td>220</td>\n",
       "      <td>25</td>\n",
       "      <td>0</td>\n",
       "      <td>15.103680</td>\n",
       "      <td>15.833085</td>\n",
       "      <td>1577.0</td>\n",
       "      <td>1485.0</td>\n",
       "      <td>6.621010</td>\n",
       "      <td>135.8334</td>\n",
       "      <td>95.1490</td>\n",
       "      <td>128.349081</td>\n",
       "      <td>149.214193</td>\n",
       "      <td>NaN</td>\n",
       "      <td>73.584337</td>\n",
       "      <td>327.672176</td>\n",
       "      <td>325.554630</td>\n",
       "      <td>308.519194</td>\n",
       "      <td>270.157082</td>\n",
       "      <td>232.976474</td>\n",
       "      <td>202.338007</td>\n",
       "      <td>186.629579</td>\n",
       "      <td>181.616482</td>\n",
       "      <td>180.246502</td>\n",
       "      <td>181.630664</td>\n",
       "      <td>178.478202</td>\n",
       "      <td>171.888636</td>\n",
       "      <td>167.158304</td>\n",
       "      <td>NaN</td>\n",
       "      <td>NaN</td>\n",
       "      <td>NaN</td>\n",
       "      <td>NaN</td>\n",
       "      <td>NaN</td>\n",
       "      <td>NaN</td>\n",
       "    </tr>\n",
       "    <tr>\n",
       "      <th>37</th>\n",
       "      <td>0x646d330d</td>\n",
       "      <td>2023-05-23</td>\n",
       "      <td>0 days 21:41:33</td>\n",
       "      <td>0 days 22:23:58</td>\n",
       "      <td>220</td>\n",
       "      <td>25</td>\n",
       "      <td>0</td>\n",
       "      <td>11.602788</td>\n",
       "      <td>15.014983</td>\n",
       "      <td>2546.0</td>\n",
       "      <td>633.0</td>\n",
       "      <td>2.797789</td>\n",
       "      <td>95.1490</td>\n",
       "      <td>249.3560</td>\n",
       "      <td>122.379469</td>\n",
       "      <td>108.871589</td>\n",
       "      <td>NaN</td>\n",
       "      <td>89.607266</td>\n",
       "      <td>374.893053</td>\n",
       "      <td>371.820206</td>\n",
       "      <td>344.318809</td>\n",
       "      <td>270.760888</td>\n",
       "      <td>232.582538</td>\n",
       "      <td>197.645011</td>\n",
       "      <td>184.560234</td>\n",
       "      <td>170.305314</td>\n",
       "      <td>162.304203</td>\n",
       "      <td>151.283446</td>\n",
       "      <td>141.442139</td>\n",
       "      <td>104.086764</td>\n",
       "      <td>NaN</td>\n",
       "      <td>NaN</td>\n",
       "      <td>NaN</td>\n",
       "      <td>NaN</td>\n",
       "      <td>NaN</td>\n",
       "      <td>NaN</td>\n",
       "      <td>NaN</td>\n",
       "    </tr>\n",
       "    <tr>\n",
       "      <th>38</th>\n",
       "      <td>0x647bd17f</td>\n",
       "      <td>2023-06-03</td>\n",
       "      <td>0 days 23:49:19</td>\n",
       "      <td>0 days 00:19:25</td>\n",
       "      <td>220</td>\n",
       "      <td>25</td>\n",
       "      <td>0</td>\n",
       "      <td>13.571056</td>\n",
       "      <td>15.306218</td>\n",
       "      <td>1807.0</td>\n",
       "      <td>1354.0</td>\n",
       "      <td>5.865865</td>\n",
       "      <td>94.4928</td>\n",
       "      <td>108.9292</td>\n",
       "      <td>137.512853</td>\n",
       "      <td>112.918896</td>\n",
       "      <td>NaN</td>\n",
       "      <td>83.633162</td>\n",
       "      <td>254.412321</td>\n",
       "      <td>253.756277</td>\n",
       "      <td>248.295475</td>\n",
       "      <td>229.480880</td>\n",
       "      <td>218.291712</td>\n",
       "      <td>201.879847</td>\n",
       "      <td>193.786696</td>\n",
       "      <td>190.289656</td>\n",
       "      <td>188.111435</td>\n",
       "      <td>186.760745</td>\n",
       "      <td>181.841107</td>\n",
       "      <td>167.559876</td>\n",
       "      <td>118.617302</td>\n",
       "      <td>NaN</td>\n",
       "      <td>NaN</td>\n",
       "      <td>NaN</td>\n",
       "      <td>NaN</td>\n",
       "      <td>NaN</td>\n",
       "      <td>NaN</td>\n",
       "    </tr>\n",
       "    <tr>\n",
       "      <th>39</th>\n",
       "      <td>0x647fc3f0</td>\n",
       "      <td>2023-06-06</td>\n",
       "      <td>0 days 23:40:32</td>\n",
       "      <td>0 days 00:15:32</td>\n",
       "      <td>220</td>\n",
       "      <td>25</td>\n",
       "      <td>0</td>\n",
       "      <td>14.488376</td>\n",
       "      <td>14.973331</td>\n",
       "      <td>2101.0</td>\n",
       "      <td>1459.0</td>\n",
       "      <td>6.373484</td>\n",
       "      <td>131.2400</td>\n",
       "      <td>125.9904</td>\n",
       "      <td>137.498105</td>\n",
       "      <td>204.069811</td>\n",
       "      <td>NaN</td>\n",
       "      <td>80.616488</td>\n",
       "      <td>18909.573679</td>\n",
       "      <td>18224.429106</td>\n",
       "      <td>12873.894138</td>\n",
       "      <td>6720.537148</td>\n",
       "      <td>4484.015451</td>\n",
       "      <td>2281.734916</td>\n",
       "      <td>1230.644020</td>\n",
       "      <td>848.225407</td>\n",
       "      <td>663.728056</td>\n",
       "      <td>568.400435</td>\n",
       "      <td>503.133221</td>\n",
       "      <td>368.660927</td>\n",
       "      <td>239.987837</td>\n",
       "      <td>NaN</td>\n",
       "      <td>NaN</td>\n",
       "      <td>NaN</td>\n",
       "      <td>NaN</td>\n",
       "      <td>NaN</td>\n",
       "      <td>NaN</td>\n",
       "    </tr>\n",
       "    <tr>\n",
       "      <th>40</th>\n",
       "      <td>0x64d5639c</td>\n",
       "      <td>2023-08-10</td>\n",
       "      <td>0 days 22:24:28</td>\n",
       "      <td>0 days 22:57:31</td>\n",
       "      <td>220</td>\n",
       "      <td>25</td>\n",
       "      <td>0</td>\n",
       "      <td>11.996846</td>\n",
       "      <td>13.030013</td>\n",
       "      <td>1984.0</td>\n",
       "      <td>1754.0</td>\n",
       "      <td>6.450010</td>\n",
       "      <td>395.6886</td>\n",
       "      <td>290.0404</td>\n",
       "      <td>154.274160</td>\n",
       "      <td>125.601382</td>\n",
       "      <td>NaN</td>\n",
       "      <td>84.654884</td>\n",
       "      <td>579.952832</td>\n",
       "      <td>569.731763</td>\n",
       "      <td>494.695220</td>\n",
       "      <td>450.055219</td>\n",
       "      <td>428.746952</td>\n",
       "      <td>374.943492</td>\n",
       "      <td>315.759492</td>\n",
       "      <td>251.194666</td>\n",
       "      <td>209.392606</td>\n",
       "      <td>185.254272</td>\n",
       "      <td>179.867618</td>\n",
       "      <td>156.805545</td>\n",
       "      <td>136.527028</td>\n",
       "      <td>132.594269</td>\n",
       "      <td>NaN</td>\n",
       "      <td>NaN</td>\n",
       "      <td>NaN</td>\n",
       "      <td>NaN</td>\n",
       "      <td>NaN</td>\n",
       "    </tr>\n",
       "    <tr>\n",
       "      <th>41</th>\n",
       "      <td>0x64d57601</td>\n",
       "      <td>2023-08-10</td>\n",
       "      <td>0 days 23:42:57</td>\n",
       "      <td>0 days 00:13:45</td>\n",
       "      <td>220</td>\n",
       "      <td>25</td>\n",
       "      <td>0</td>\n",
       "      <td>12.649477</td>\n",
       "      <td>14.009036</td>\n",
       "      <td>1849.0</td>\n",
       "      <td>1624.0</td>\n",
       "      <td>6.497055</td>\n",
       "      <td>269.0420</td>\n",
       "      <td>366.8158</td>\n",
       "      <td>149.452948</td>\n",
       "      <td>107.630535</td>\n",
       "      <td>NaN</td>\n",
       "      <td>80.845809</td>\n",
       "      <td>793.016948</td>\n",
       "      <td>781.973410</td>\n",
       "      <td>714.189332</td>\n",
       "      <td>532.196125</td>\n",
       "      <td>428.397883</td>\n",
       "      <td>342.965544</td>\n",
       "      <td>256.236241</td>\n",
       "      <td>213.326423</td>\n",
       "      <td>201.592674</td>\n",
       "      <td>189.357195</td>\n",
       "      <td>179.602492</td>\n",
       "      <td>151.515892</td>\n",
       "      <td>135.054522</td>\n",
       "      <td>108.776808</td>\n",
       "      <td>NaN</td>\n",
       "      <td>NaN</td>\n",
       "      <td>NaN</td>\n",
       "      <td>NaN</td>\n",
       "      <td>NaN</td>\n",
       "    </tr>\n",
       "    <tr>\n",
       "      <th>42</th>\n",
       "      <td>0x64d78b74</td>\n",
       "      <td>2023-08-12</td>\n",
       "      <td>0 days 13:39:00</td>\n",
       "      <td>0 days 14:12:13</td>\n",
       "      <td>220</td>\n",
       "      <td>25</td>\n",
       "      <td>0</td>\n",
       "      <td>14.246489</td>\n",
       "      <td>15.368782</td>\n",
       "      <td>1994.0</td>\n",
       "      <td>1302.0</td>\n",
       "      <td>5.643591</td>\n",
       "      <td>99.7424</td>\n",
       "      <td>96.4614</td>\n",
       "      <td>144.498948</td>\n",
       "      <td>128.072277</td>\n",
       "      <td>NaN</td>\n",
       "      <td>78.957153</td>\n",
       "      <td>422.430288</td>\n",
       "      <td>421.281505</td>\n",
       "      <td>413.842803</td>\n",
       "      <td>385.780256</td>\n",
       "      <td>340.379876</td>\n",
       "      <td>233.159238</td>\n",
       "      <td>189.525938</td>\n",
       "      <td>180.196919</td>\n",
       "      <td>167.461239</td>\n",
       "      <td>161.376631</td>\n",
       "      <td>159.404562</td>\n",
       "      <td>151.656405</td>\n",
       "      <td>130.062764</td>\n",
       "      <td>NaN</td>\n",
       "      <td>NaN</td>\n",
       "      <td>NaN</td>\n",
       "      <td>NaN</td>\n",
       "      <td>NaN</td>\n",
       "      <td>NaN</td>\n",
       "    </tr>\n",
       "    <tr>\n",
       "      <th>43</th>\n",
       "      <td>0x64e07c36</td>\n",
       "      <td>2023-08-19</td>\n",
       "      <td>0 days 08:24:22</td>\n",
       "      <td>0 days 12:34:29</td>\n",
       "      <td>220</td>\n",
       "      <td>25</td>\n",
       "      <td>0</td>\n",
       "      <td>12.310992</td>\n",
       "      <td>15.802431</td>\n",
       "      <td>187808.0</td>\n",
       "      <td>1342.0</td>\n",
       "      <td>6.022180</td>\n",
       "      <td>99.0862</td>\n",
       "      <td>192.2666</td>\n",
       "      <td>130.326803</td>\n",
       "      <td>112.884262</td>\n",
       "      <td>NaN</td>\n",
       "      <td>80.695060</td>\n",
       "      <td>275.934162</td>\n",
       "      <td>272.692210</td>\n",
       "      <td>256.634344</td>\n",
       "      <td>235.549410</td>\n",
       "      <td>227.942660</td>\n",
       "      <td>219.539905</td>\n",
       "      <td>205.918462</td>\n",
       "      <td>197.342462</td>\n",
       "      <td>195.272009</td>\n",
       "      <td>187.164707</td>\n",
       "      <td>174.924987</td>\n",
       "      <td>153.280256</td>\n",
       "      <td>131.925313</td>\n",
       "      <td>NaN</td>\n",
       "      <td>NaN</td>\n",
       "      <td>NaN</td>\n",
       "      <td>NaN</td>\n",
       "      <td>NaN</td>\n",
       "      <td>NaN</td>\n",
       "    </tr>\n",
       "    <tr>\n",
       "      <th>44</th>\n",
       "      <td>0x64ee48c6</td>\n",
       "      <td>2023-08-29</td>\n",
       "      <td>0 days 19:36:38</td>\n",
       "      <td>0 days 19:54:15</td>\n",
       "      <td>220</td>\n",
       "      <td>25</td>\n",
       "      <td>0</td>\n",
       "      <td>3.621121</td>\n",
       "      <td>11.805122</td>\n",
       "      <td>1058.0</td>\n",
       "      <td>207.0</td>\n",
       "      <td>0.728415</td>\n",
       "      <td>90.5556</td>\n",
       "      <td>183.7360</td>\n",
       "      <td>124.196823</td>\n",
       "      <td>19.857035</td>\n",
       "      <td>NaN</td>\n",
       "      <td>81.164365</td>\n",
       "      <td>208.293545</td>\n",
       "      <td>207.077386</td>\n",
       "      <td>196.917892</td>\n",
       "      <td>179.781142</td>\n",
       "      <td>171.522923</td>\n",
       "      <td>159.651801</td>\n",
       "      <td>88.921395</td>\n",
       "      <td>69.080379</td>\n",
       "      <td>59.902056</td>\n",
       "      <td>47.921645</td>\n",
       "      <td>39.934704</td>\n",
       "      <td>23.960822</td>\n",
       "      <td>NaN</td>\n",
       "      <td>NaN</td>\n",
       "      <td>NaN</td>\n",
       "      <td>NaN</td>\n",
       "      <td>NaN</td>\n",
       "      <td>NaN</td>\n",
       "      <td>NaN</td>\n",
       "    </tr>\n",
       "    <tr>\n",
       "      <th>45</th>\n",
       "      <td>0x64ee5731</td>\n",
       "      <td>2023-08-29</td>\n",
       "      <td>0 days 20:38:09</td>\n",
       "      <td>0 days 20:48:42</td>\n",
       "      <td>220</td>\n",
       "      <td>25</td>\n",
       "      <td>0</td>\n",
       "      <td>17.267583</td>\n",
       "      <td>17.996688</td>\n",
       "      <td>634.0</td>\n",
       "      <td>589.0</td>\n",
       "      <td>2.974526</td>\n",
       "      <td>36.0910</td>\n",
       "      <td>70.8696</td>\n",
       "      <td>154.123387</td>\n",
       "      <td>171.748982</td>\n",
       "      <td>NaN</td>\n",
       "      <td>84.253710</td>\n",
       "      <td>297.629439</td>\n",
       "      <td>296.601682</td>\n",
       "      <td>291.462710</td>\n",
       "      <td>273.901521</td>\n",
       "      <td>257.779834</td>\n",
       "      <td>221.963697</td>\n",
       "      <td>212.734920</td>\n",
       "      <td>200.988027</td>\n",
       "      <td>201.841515</td>\n",
       "      <td>196.190426</td>\n",
       "      <td>193.871828</td>\n",
       "      <td>177.402230</td>\n",
       "      <td>NaN</td>\n",
       "      <td>NaN</td>\n",
       "      <td>NaN</td>\n",
       "      <td>NaN</td>\n",
       "      <td>NaN</td>\n",
       "      <td>NaN</td>\n",
       "      <td>NaN</td>\n",
       "    </tr>\n",
       "    <tr>\n",
       "      <th>46</th>\n",
       "      <td>0x64fde803</td>\n",
       "      <td>2023-09-10</td>\n",
       "      <td>0 days 16:00:03</td>\n",
       "      <td>0 days 16:51:23</td>\n",
       "      <td>220</td>\n",
       "      <td>25</td>\n",
       "      <td>0</td>\n",
       "      <td>10.400759</td>\n",
       "      <td>13.126796</td>\n",
       "      <td>3081.0</td>\n",
       "      <td>2288.0</td>\n",
       "      <td>8.803913</td>\n",
       "      <td>224.4204</td>\n",
       "      <td>325.4752</td>\n",
       "      <td>118.409911</td>\n",
       "      <td>75.054678</td>\n",
       "      <td>NaN</td>\n",
       "      <td>82.185855</td>\n",
       "      <td>454.230395</td>\n",
       "      <td>449.073821</td>\n",
       "      <td>414.099813</td>\n",
       "      <td>319.207166</td>\n",
       "      <td>278.178395</td>\n",
       "      <td>218.631518</td>\n",
       "      <td>200.507219</td>\n",
       "      <td>170.313023</td>\n",
       "      <td>151.569695</td>\n",
       "      <td>158.241778</td>\n",
       "      <td>151.005221</td>\n",
       "      <td>128.819968</td>\n",
       "      <td>113.930666</td>\n",
       "      <td>103.321223</td>\n",
       "      <td>92.389380</td>\n",
       "      <td>NaN</td>\n",
       "      <td>NaN</td>\n",
       "      <td>NaN</td>\n",
       "      <td>NaN</td>\n",
       "    </tr>\n",
       "    <tr>\n",
       "      <th>47</th>\n",
       "      <td>0x64fe0da4</td>\n",
       "      <td>2023-09-10</td>\n",
       "      <td>0 days 18:40:36</td>\n",
       "      <td>0 days 19:24:16</td>\n",
       "      <td>220</td>\n",
       "      <td>25</td>\n",
       "      <td>0</td>\n",
       "      <td>10.799444</td>\n",
       "      <td>13.157594</td>\n",
       "      <td>2621.0</td>\n",
       "      <td>2013.0</td>\n",
       "      <td>7.517656</td>\n",
       "      <td>216.5460</td>\n",
       "      <td>192.2666</td>\n",
       "      <td>121.893057</td>\n",
       "      <td>83.687460</td>\n",
       "      <td>NaN</td>\n",
       "      <td>84.791860</td>\n",
       "      <td>479.424557</td>\n",
       "      <td>475.209001</td>\n",
       "      <td>438.927488</td>\n",
       "      <td>338.510144</td>\n",
       "      <td>282.429973</td>\n",
       "      <td>188.277670</td>\n",
       "      <td>139.664838</td>\n",
       "      <td>126.860085</td>\n",
       "      <td>117.942966</td>\n",
       "      <td>119.224113</td>\n",
       "      <td>115.926917</td>\n",
       "      <td>116.088938</td>\n",
       "      <td>92.316377</td>\n",
       "      <td>92.338840</td>\n",
       "      <td>87.080311</td>\n",
       "      <td>NaN</td>\n",
       "      <td>NaN</td>\n",
       "      <td>NaN</td>\n",
       "      <td>NaN</td>\n",
       "    </tr>\n",
       "    <tr>\n",
       "      <th>48</th>\n",
       "      <td>0x650755ae</td>\n",
       "      <td>2023-09-17</td>\n",
       "      <td>0 days 19:38:22</td>\n",
       "      <td>0 days 21:19:44</td>\n",
       "      <td>220</td>\n",
       "      <td>25</td>\n",
       "      <td>0</td>\n",
       "      <td>8.697565</td>\n",
       "      <td>11.382887</td>\n",
       "      <td>6083.0</td>\n",
       "      <td>4346.0</td>\n",
       "      <td>14.361407</td>\n",
       "      <td>572.2064</td>\n",
       "      <td>526.9286</td>\n",
       "      <td>114.736878</td>\n",
       "      <td>64.434715</td>\n",
       "      <td>NaN</td>\n",
       "      <td>81.716218</td>\n",
       "      <td>405.192841</td>\n",
       "      <td>404.051667</td>\n",
       "      <td>396.412037</td>\n",
       "      <td>363.384527</td>\n",
       "      <td>313.002975</td>\n",
       "      <td>292.181662</td>\n",
       "      <td>189.567191</td>\n",
       "      <td>155.760436</td>\n",
       "      <td>142.639328</td>\n",
       "      <td>134.668885</td>\n",
       "      <td>128.393890</td>\n",
       "      <td>113.141126</td>\n",
       "      <td>101.028439</td>\n",
       "      <td>85.770473</td>\n",
       "      <td>81.129661</td>\n",
       "      <td>76.574177</td>\n",
       "      <td>NaN</td>\n",
       "      <td>NaN</td>\n",
       "      <td>NaN</td>\n",
       "    </tr>\n",
       "    <tr>\n",
       "      <th>49</th>\n",
       "      <td>0x65077dc2</td>\n",
       "      <td>2023-09-17</td>\n",
       "      <td>0 days 22:29:22</td>\n",
       "      <td>0 days 23:48:06</td>\n",
       "      <td>220</td>\n",
       "      <td>25</td>\n",
       "      <td>0</td>\n",
       "      <td>10.333394</td>\n",
       "      <td>12.160700</td>\n",
       "      <td>4725.0</td>\n",
       "      <td>3906.0</td>\n",
       "      <td>13.476714</td>\n",
       "      <td>461.3086</td>\n",
       "      <td>482.9632</td>\n",
       "      <td>131.290628</td>\n",
       "      <td>75.486129</td>\n",
       "      <td>NaN</td>\n",
       "      <td>73.788754</td>\n",
       "      <td>733.907331</td>\n",
       "      <td>725.540378</td>\n",
       "      <td>658.163363</td>\n",
       "      <td>495.403888</td>\n",
       "      <td>365.955949</td>\n",
       "      <td>227.736368</td>\n",
       "      <td>162.001946</td>\n",
       "      <td>147.118474</td>\n",
       "      <td>141.621166</td>\n",
       "      <td>124.146282</td>\n",
       "      <td>120.365106</td>\n",
       "      <td>110.352223</td>\n",
       "      <td>88.685797</td>\n",
       "      <td>91.055299</td>\n",
       "      <td>85.057480</td>\n",
       "      <td>76.458517</td>\n",
       "      <td>NaN</td>\n",
       "      <td>NaN</td>\n",
       "      <td>NaN</td>\n",
       "    </tr>\n",
       "    <tr>\n",
       "      <th>50</th>\n",
       "      <td>0x65bfd8be</td>\n",
       "      <td>2024-02-04</td>\n",
       "      <td>0 days 18:34:38</td>\n",
       "      <td>0 days 19:28:53</td>\n",
       "      <td>220</td>\n",
       "      <td>25</td>\n",
       "      <td>0</td>\n",
       "      <td>9.527357</td>\n",
       "      <td>12.342948</td>\n",
       "      <td>3256.0</td>\n",
       "      <td>2351.0</td>\n",
       "      <td>8.458264</td>\n",
       "      <td>187.6732</td>\n",
       "      <td>279.5412</td>\n",
       "      <td>115.555538</td>\n",
       "      <td>65.028793</td>\n",
       "      <td>NaN</td>\n",
       "      <td>78.103880</td>\n",
       "      <td>310.255589</td>\n",
       "      <td>308.123565</td>\n",
       "      <td>291.439272</td>\n",
       "      <td>255.712946</td>\n",
       "      <td>235.955278</td>\n",
       "      <td>195.692452</td>\n",
       "      <td>147.293070</td>\n",
       "      <td>137.515048</td>\n",
       "      <td>132.528701</td>\n",
       "      <td>133.569889</td>\n",
       "      <td>131.174928</td>\n",
       "      <td>123.819794</td>\n",
       "      <td>100.665176</td>\n",
       "      <td>85.945107</td>\n",
       "      <td>80.512619</td>\n",
       "      <td>NaN</td>\n",
       "      <td>NaN</td>\n",
       "      <td>NaN</td>\n",
       "      <td>NaN</td>\n",
       "    </tr>\n",
       "    <tr>\n",
       "      <th>51</th>\n",
       "      <td>0x661c5dfa</td>\n",
       "      <td>2024-04-14</td>\n",
       "      <td>0 days 22:51:38</td>\n",
       "      <td>0 days 23:14:49</td>\n",
       "      <td>220</td>\n",
       "      <td>25</td>\n",
       "      <td>0</td>\n",
       "      <td>5.725683</td>\n",
       "      <td>10.515063</td>\n",
       "      <td>1392.0</td>\n",
       "      <td>675.0</td>\n",
       "      <td>2.148722</td>\n",
       "      <td>225.7328</td>\n",
       "      <td>219.1708</td>\n",
       "      <td>117.258697</td>\n",
       "      <td>64.042326</td>\n",
       "      <td>NaN</td>\n",
       "      <td>85.496373</td>\n",
       "      <td>621.616926</td>\n",
       "      <td>613.770179</td>\n",
       "      <td>557.898004</td>\n",
       "      <td>423.739887</td>\n",
       "      <td>340.487773</td>\n",
       "      <td>271.976950</td>\n",
       "      <td>185.269449</td>\n",
       "      <td>139.440852</td>\n",
       "      <td>138.451007</td>\n",
       "      <td>137.619784</td>\n",
       "      <td>124.446161</td>\n",
       "      <td>96.657370</td>\n",
       "      <td>70.645655</td>\n",
       "      <td>NaN</td>\n",
       "      <td>NaN</td>\n",
       "      <td>NaN</td>\n",
       "      <td>NaN</td>\n",
       "      <td>NaN</td>\n",
       "      <td>NaN</td>\n",
       "    </tr>\n",
       "    <tr>\n",
       "      <th>52</th>\n",
       "      <td>0x661ff649</td>\n",
       "      <td>2024-04-17</td>\n",
       "      <td>0 days 16:18:17</td>\n",
       "      <td>0 days 18:26:22</td>\n",
       "      <td>220</td>\n",
       "      <td>25</td>\n",
       "      <td>0</td>\n",
       "      <td>7.142026</td>\n",
       "      <td>12.506619</td>\n",
       "      <td>7686.0</td>\n",
       "      <td>3072.0</td>\n",
       "      <td>12.225232</td>\n",
       "      <td>1375.3952</td>\n",
       "      <td>1339.3042</td>\n",
       "      <td>144.480039</td>\n",
       "      <td>87.020642</td>\n",
       "      <td>NaN</td>\n",
       "      <td>83.411587</td>\n",
       "      <td>1170.473521</td>\n",
       "      <td>1158.334870</td>\n",
       "      <td>1073.148701</td>\n",
       "      <td>825.049190</td>\n",
       "      <td>596.478742</td>\n",
       "      <td>414.423510</td>\n",
       "      <td>361.223633</td>\n",
       "      <td>277.179928</td>\n",
       "      <td>217.968068</td>\n",
       "      <td>205.941190</td>\n",
       "      <td>201.338120</td>\n",
       "      <td>167.342438</td>\n",
       "      <td>153.785987</td>\n",
       "      <td>132.428478</td>\n",
       "      <td>113.835832</td>\n",
       "      <td>107.662383</td>\n",
       "      <td>NaN</td>\n",
       "      <td>NaN</td>\n",
       "      <td>NaN</td>\n",
       "    </tr>\n",
       "    <tr>\n",
       "      <th>53</th>\n",
       "      <td>0x663a3144</td>\n",
       "      <td>2024-05-07</td>\n",
       "      <td>0 days 13:48:52</td>\n",
       "      <td>0 days 16:32:57</td>\n",
       "      <td>220</td>\n",
       "      <td>25</td>\n",
       "      <td>0</td>\n",
       "      <td>12.223941</td>\n",
       "      <td>14.645619</td>\n",
       "      <td>5280246.0</td>\n",
       "      <td>8762.0</td>\n",
       "      <td>35.946595</td>\n",
       "      <td>562.3634</td>\n",
       "      <td>547.9270</td>\n",
       "      <td>136.719535</td>\n",
       "      <td>99.213123</td>\n",
       "      <td>NaN</td>\n",
       "      <td>83.772700</td>\n",
       "      <td>342.918232</td>\n",
       "      <td>340.783854</td>\n",
       "      <td>318.812139</td>\n",
       "      <td>264.332044</td>\n",
       "      <td>235.599506</td>\n",
       "      <td>190.750307</td>\n",
       "      <td>175.318029</td>\n",
       "      <td>170.242772</td>\n",
       "      <td>163.004630</td>\n",
       "      <td>157.527646</td>\n",
       "      <td>154.944776</td>\n",
       "      <td>142.513938</td>\n",
       "      <td>130.809078</td>\n",
       "      <td>128.724365</td>\n",
       "      <td>124.516872</td>\n",
       "      <td>117.253850</td>\n",
       "      <td>105.763140</td>\n",
       "      <td>NaN</td>\n",
       "      <td>NaN</td>\n",
       "    </tr>\n",
       "    <tr>\n",
       "      <th>54</th>\n",
       "      <td>0x66a663d9</td>\n",
       "      <td>2024-07-28</td>\n",
       "      <td>0 days 15:29:29</td>\n",
       "      <td>0 days 17:48:32</td>\n",
       "      <td>210</td>\n",
       "      <td>25</td>\n",
       "      <td>0</td>\n",
       "      <td>8.217522</td>\n",
       "      <td>13.108158</td>\n",
       "      <td>8344.0</td>\n",
       "      <td>4787.0</td>\n",
       "      <td>18.693982</td>\n",
       "      <td>761.1920</td>\n",
       "      <td>742.1622</td>\n",
       "      <td>133.064989</td>\n",
       "      <td>68.186750</td>\n",
       "      <td>NaN</td>\n",
       "      <td>88.171060</td>\n",
       "      <td>577.740871</td>\n",
       "      <td>569.040480</td>\n",
       "      <td>509.104453</td>\n",
       "      <td>413.119335</td>\n",
       "      <td>336.610169</td>\n",
       "      <td>220.235206</td>\n",
       "      <td>194.840634</td>\n",
       "      <td>178.408365</td>\n",
       "      <td>166.465069</td>\n",
       "      <td>165.042394</td>\n",
       "      <td>161.540179</td>\n",
       "      <td>145.218199</td>\n",
       "      <td>136.721616</td>\n",
       "      <td>119.053977</td>\n",
       "      <td>107.963093</td>\n",
       "      <td>77.894400</td>\n",
       "      <td>64.671311</td>\n",
       "      <td>NaN</td>\n",
       "      <td>NaN</td>\n",
       "    </tr>\n",
       "    <tr>\n",
       "      <th>55</th>\n",
       "      <td>0x66a8c55e</td>\n",
       "      <td>2024-07-30</td>\n",
       "      <td>0 days 10:50:06</td>\n",
       "      <td>0 days 11:28:32</td>\n",
       "      <td>210</td>\n",
       "      <td>25</td>\n",
       "      <td>0</td>\n",
       "      <td>16.442490</td>\n",
       "      <td>16.893319</td>\n",
       "      <td>2307.0</td>\n",
       "      <td>2236.0</td>\n",
       "      <td>10.536984</td>\n",
       "      <td>248.0436</td>\n",
       "      <td>184.3922</td>\n",
       "      <td>155.771782</td>\n",
       "      <td>171.609137</td>\n",
       "      <td>NaN</td>\n",
       "      <td>74.296099</td>\n",
       "      <td>462.783264</td>\n",
       "      <td>460.200764</td>\n",
       "      <td>436.188722</td>\n",
       "      <td>363.220327</td>\n",
       "      <td>300.963857</td>\n",
       "      <td>252.454035</td>\n",
       "      <td>230.071239</td>\n",
       "      <td>214.341872</td>\n",
       "      <td>208.835193</td>\n",
       "      <td>204.543577</td>\n",
       "      <td>191.077635</td>\n",
       "      <td>188.062625</td>\n",
       "      <td>180.675523</td>\n",
       "      <td>179.375974</td>\n",
       "      <td>NaN</td>\n",
       "      <td>NaN</td>\n",
       "      <td>NaN</td>\n",
       "      <td>NaN</td>\n",
       "      <td>NaN</td>\n",
       "    </tr>\n",
       "    <tr>\n",
       "      <th>56</th>\n",
       "      <td>0x66a8cf77</td>\n",
       "      <td>2024-07-30</td>\n",
       "      <td>0 days 11:33:11</td>\n",
       "      <td>0 days 12:12:09</td>\n",
       "      <td>210</td>\n",
       "      <td>25</td>\n",
       "      <td>0</td>\n",
       "      <td>15.797955</td>\n",
       "      <td>16.510230</td>\n",
       "      <td>2339.0</td>\n",
       "      <td>2229.0</td>\n",
       "      <td>10.265013</td>\n",
       "      <td>204.0782</td>\n",
       "      <td>270.3544</td>\n",
       "      <td>157.507054</td>\n",
       "      <td>143.459422</td>\n",
       "      <td>NaN</td>\n",
       "      <td>75.793330</td>\n",
       "      <td>417.180608</td>\n",
       "      <td>411.757051</td>\n",
       "      <td>378.845182</td>\n",
       "      <td>338.592208</td>\n",
       "      <td>301.888805</td>\n",
       "      <td>228.681706</td>\n",
       "      <td>195.054399</td>\n",
       "      <td>181.291637</td>\n",
       "      <td>170.419390</td>\n",
       "      <td>169.266747</td>\n",
       "      <td>167.581074</td>\n",
       "      <td>160.236343</td>\n",
       "      <td>155.393708</td>\n",
       "      <td>145.590988</td>\n",
       "      <td>NaN</td>\n",
       "      <td>NaN</td>\n",
       "      <td>NaN</td>\n",
       "      <td>NaN</td>\n",
       "      <td>NaN</td>\n",
       "    </tr>\n",
       "    <tr>\n",
       "      <th>57</th>\n",
       "      <td>0x66be8d6a</td>\n",
       "      <td>2024-08-15</td>\n",
       "      <td>0 days 23:21:14</td>\n",
       "      <td>0 days 00:07:19</td>\n",
       "      <td>210</td>\n",
       "      <td>25</td>\n",
       "      <td>0</td>\n",
       "      <td>13.717006</td>\n",
       "      <td>15.855935</td>\n",
       "      <td>2766.0</td>\n",
       "      <td>2367.0</td>\n",
       "      <td>10.539233</td>\n",
       "      <td>261.1676</td>\n",
       "      <td>237.5444</td>\n",
       "      <td>142.874548</td>\n",
       "      <td>131.535547</td>\n",
       "      <td>NaN</td>\n",
       "      <td>84.179826</td>\n",
       "      <td>475.216434</td>\n",
       "      <td>473.305235</td>\n",
       "      <td>451.170666</td>\n",
       "      <td>373.086294</td>\n",
       "      <td>298.509485</td>\n",
       "      <td>224.624795</td>\n",
       "      <td>206.527025</td>\n",
       "      <td>192.870645</td>\n",
       "      <td>184.314664</td>\n",
       "      <td>173.264129</td>\n",
       "      <td>173.360850</td>\n",
       "      <td>165.692678</td>\n",
       "      <td>158.460808</td>\n",
       "      <td>157.313160</td>\n",
       "      <td>149.247884</td>\n",
       "      <td>NaN</td>\n",
       "      <td>NaN</td>\n",
       "      <td>NaN</td>\n",
       "      <td>NaN</td>\n",
       "    </tr>\n",
       "    <tr>\n",
       "      <th>58</th>\n",
       "      <td>0x66c0932a</td>\n",
       "      <td>2024-08-17</td>\n",
       "      <td>0 days 12:10:18</td>\n",
       "      <td>0 days 15:53:01</td>\n",
       "      <td>210</td>\n",
       "      <td>25</td>\n",
       "      <td>5</td>\n",
       "      <td>13.565535</td>\n",
       "      <td>15.778976</td>\n",
       "      <td>13364.0</td>\n",
       "      <td>11362.0</td>\n",
       "      <td>50.155025</td>\n",
       "      <td>978.3942</td>\n",
       "      <td>963.3016</td>\n",
       "      <td>140.938467</td>\n",
       "      <td>121.286104</td>\n",
       "      <td>NaN</td>\n",
       "      <td>79.376852</td>\n",
       "      <td>478.527601</td>\n",
       "      <td>473.748699</td>\n",
       "      <td>446.183866</td>\n",
       "      <td>365.156670</td>\n",
       "      <td>291.266317</td>\n",
       "      <td>238.911865</td>\n",
       "      <td>202.061294</td>\n",
       "      <td>196.055940</td>\n",
       "      <td>186.240606</td>\n",
       "      <td>179.395044</td>\n",
       "      <td>176.562196</td>\n",
       "      <td>162.175870</td>\n",
       "      <td>155.035925</td>\n",
       "      <td>152.635455</td>\n",
       "      <td>147.800862</td>\n",
       "      <td>139.304077</td>\n",
       "      <td>129.065168</td>\n",
       "      <td>120.603190</td>\n",
       "      <td>NaN</td>\n",
       "    </tr>\n",
       "    <tr>\n",
       "      <th>59</th>\n",
       "      <td>0x66d0d787</td>\n",
       "      <td>2024-08-29</td>\n",
       "      <td>0 days 20:18:15</td>\n",
       "      <td>0 days 21:36:47</td>\n",
       "      <td>205</td>\n",
       "      <td>25</td>\n",
       "      <td>5</td>\n",
       "      <td>9.656642</td>\n",
       "      <td>14.514409</td>\n",
       "      <td>4713.0</td>\n",
       "      <td>2990.0</td>\n",
       "      <td>12.309794</td>\n",
       "      <td>312.3512</td>\n",
       "      <td>291.3528</td>\n",
       "      <td>120.212138</td>\n",
       "      <td>79.022402</td>\n",
       "      <td>NaN</td>\n",
       "      <td>92.764807</td>\n",
       "      <td>334.643803</td>\n",
       "      <td>331.063497</td>\n",
       "      <td>313.147536</td>\n",
       "      <td>280.088693</td>\n",
       "      <td>260.939184</td>\n",
       "      <td>226.872022</td>\n",
       "      <td>183.323555</td>\n",
       "      <td>180.890279</td>\n",
       "      <td>174.556325</td>\n",
       "      <td>172.002271</td>\n",
       "      <td>170.776587</td>\n",
       "      <td>161.786095</td>\n",
       "      <td>147.406164</td>\n",
       "      <td>120.912228</td>\n",
       "      <td>91.425157</td>\n",
       "      <td>81.686008</td>\n",
       "      <td>NaN</td>\n",
       "      <td>NaN</td>\n",
       "      <td>NaN</td>\n",
       "    </tr>\n",
       "    <tr>\n",
       "      <th>60</th>\n",
       "      <td>0x66da3570</td>\n",
       "      <td>2024-09-05</td>\n",
       "      <td>0 days 22:49:20</td>\n",
       "      <td>0 days 00:06:54</td>\n",
       "      <td>205</td>\n",
       "      <td>25</td>\n",
       "      <td>5</td>\n",
       "      <td>11.160237</td>\n",
       "      <td>12.732818</td>\n",
       "      <td>4655.0</td>\n",
       "      <td>3962.0</td>\n",
       "      <td>14.322307</td>\n",
       "      <td>507.2426</td>\n",
       "      <td>496.0872</td>\n",
       "      <td>125.706277</td>\n",
       "      <td>87.144995</td>\n",
       "      <td>NaN</td>\n",
       "      <td>87.757727</td>\n",
       "      <td>569.974485</td>\n",
       "      <td>562.881642</td>\n",
       "      <td>509.619180</td>\n",
       "      <td>362.073046</td>\n",
       "      <td>303.453028</td>\n",
       "      <td>235.864270</td>\n",
       "      <td>185.965930</td>\n",
       "      <td>166.371096</td>\n",
       "      <td>165.545646</td>\n",
       "      <td>155.490604</td>\n",
       "      <td>148.332276</td>\n",
       "      <td>137.449079</td>\n",
       "      <td>114.079279</td>\n",
       "      <td>98.140487</td>\n",
       "      <td>96.528273</td>\n",
       "      <td>90.496627</td>\n",
       "      <td>NaN</td>\n",
       "      <td>NaN</td>\n",
       "      <td>NaN</td>\n",
       "    </tr>\n",
       "    <tr>\n",
       "      <th>61</th>\n",
       "      <td>0x66da5429</td>\n",
       "      <td>2024-09-06</td>\n",
       "      <td>0 days 01:00:25</td>\n",
       "      <td>0 days 01:21:46</td>\n",
       "      <td>205</td>\n",
       "      <td>25</td>\n",
       "      <td>5</td>\n",
       "      <td>10.208040</td>\n",
       "      <td>11.394048</td>\n",
       "      <td>1282.0</td>\n",
       "      <td>1086.0</td>\n",
       "      <td>3.595519</td>\n",
       "      <td>93.8366</td>\n",
       "      <td>88.5870</td>\n",
       "      <td>125.725552</td>\n",
       "      <td>68.651119</td>\n",
       "      <td>NaN</td>\n",
       "      <td>84.547792</td>\n",
       "      <td>271.196932</td>\n",
       "      <td>270.575130</td>\n",
       "      <td>265.401758</td>\n",
       "      <td>245.357418</td>\n",
       "      <td>227.729339</td>\n",
       "      <td>168.737180</td>\n",
       "      <td>117.932680</td>\n",
       "      <td>104.127350</td>\n",
       "      <td>99.376712</td>\n",
       "      <td>92.407136</td>\n",
       "      <td>90.048972</td>\n",
       "      <td>83.989099</td>\n",
       "      <td>71.681980</td>\n",
       "      <td>NaN</td>\n",
       "      <td>NaN</td>\n",
       "      <td>NaN</td>\n",
       "      <td>NaN</td>\n",
       "      <td>NaN</td>\n",
       "      <td>NaN</td>\n",
       "    </tr>\n",
       "    <tr>\n",
       "      <th>62</th>\n",
       "      <td>0x66dc7f72</td>\n",
       "      <td>2024-09-07</td>\n",
       "      <td>0 days 16:29:38</td>\n",
       "      <td>0 days 18:30:09</td>\n",
       "      <td>205</td>\n",
       "      <td>25</td>\n",
       "      <td>5</td>\n",
       "      <td>12.585021</td>\n",
       "      <td>15.491510</td>\n",
       "      <td>7232.0</td>\n",
       "      <td>5707.0</td>\n",
       "      <td>24.842761</td>\n",
       "      <td>818.9376</td>\n",
       "      <td>792.6896</td>\n",
       "      <td>131.308612</td>\n",
       "      <td>114.008384</td>\n",
       "      <td>NaN</td>\n",
       "      <td>76.097467</td>\n",
       "      <td>684.613400</td>\n",
       "      <td>673.891394</td>\n",
       "      <td>603.569364</td>\n",
       "      <td>418.907138</td>\n",
       "      <td>327.129842</td>\n",
       "      <td>249.506038</td>\n",
       "      <td>205.803235</td>\n",
       "      <td>197.600020</td>\n",
       "      <td>196.818888</td>\n",
       "      <td>189.771467</td>\n",
       "      <td>187.003819</td>\n",
       "      <td>167.705249</td>\n",
       "      <td>151.131041</td>\n",
       "      <td>147.280420</td>\n",
       "      <td>144.377607</td>\n",
       "      <td>119.732331</td>\n",
       "      <td>NaN</td>\n",
       "      <td>NaN</td>\n",
       "      <td>NaN</td>\n",
       "    </tr>\n",
       "    <tr>\n",
       "      <th>63</th>\n",
       "      <td>0x66ddcd9f</td>\n",
       "      <td>2024-09-08</td>\n",
       "      <td>0 days 16:15:27</td>\n",
       "      <td>0 days 17:29:02</td>\n",
       "      <td>210</td>\n",
       "      <td>25</td>\n",
       "      <td>5</td>\n",
       "      <td>9.178537</td>\n",
       "      <td>13.950903</td>\n",
       "      <td>4416.0</td>\n",
       "      <td>2722.0</td>\n",
       "      <td>10.879994</td>\n",
       "      <td>259.8552</td>\n",
       "      <td>204.7344</td>\n",
       "      <td>118.764823</td>\n",
       "      <td>77.457001</td>\n",
       "      <td>NaN</td>\n",
       "      <td>76.859105</td>\n",
       "      <td>341.050189</td>\n",
       "      <td>338.603023</td>\n",
       "      <td>313.602661</td>\n",
       "      <td>272.685242</td>\n",
       "      <td>250.815105</td>\n",
       "      <td>225.388449</td>\n",
       "      <td>195.819113</td>\n",
       "      <td>180.331244</td>\n",
       "      <td>166.657316</td>\n",
       "      <td>157.537920</td>\n",
       "      <td>154.622901</td>\n",
       "      <td>153.149844</td>\n",
       "      <td>140.139472</td>\n",
       "      <td>100.888126</td>\n",
       "      <td>92.368637</td>\n",
       "      <td>81.876569</td>\n",
       "      <td>NaN</td>\n",
       "      <td>NaN</td>\n",
       "      <td>NaN</td>\n",
       "    </tr>\n",
       "    <tr>\n",
       "      <th>64</th>\n",
       "      <td>0x66dde586</td>\n",
       "      <td>2024-09-08</td>\n",
       "      <td>0 days 17:57:26</td>\n",
       "      <td>0 days 21:40:43</td>\n",
       "      <td>210</td>\n",
       "      <td>25</td>\n",
       "      <td>5</td>\n",
       "      <td>10.498826</td>\n",
       "      <td>15.010840</td>\n",
       "      <td>13398.0</td>\n",
       "      <td>9001.0</td>\n",
       "      <td>38.432257</td>\n",
       "      <td>732.9754</td>\n",
       "      <td>636.5140</td>\n",
       "      <td>126.947374</td>\n",
       "      <td>90.491523</td>\n",
       "      <td>NaN</td>\n",
       "      <td>77.058598</td>\n",
       "      <td>312.504590</td>\n",
       "      <td>309.482980</td>\n",
       "      <td>283.038404</td>\n",
       "      <td>258.163653</td>\n",
       "      <td>240.460711</td>\n",
       "      <td>205.878275</td>\n",
       "      <td>180.792736</td>\n",
       "      <td>179.321992</td>\n",
       "      <td>172.611994</td>\n",
       "      <td>167.395821</td>\n",
       "      <td>168.506445</td>\n",
       "      <td>160.162204</td>\n",
       "      <td>150.926844</td>\n",
       "      <td>140.898121</td>\n",
       "      <td>131.937297</td>\n",
       "      <td>127.071752</td>\n",
       "      <td>106.585810</td>\n",
       "      <td>88.109897</td>\n",
       "      <td>NaN</td>\n",
       "    </tr>\n",
       "    <tr>\n",
       "      <th>65</th>\n",
       "      <td>0x66e0c792</td>\n",
       "      <td>2024-09-10</td>\n",
       "      <td>0 days 22:26:26</td>\n",
       "      <td>0 days 23:31:56</td>\n",
       "      <td>210</td>\n",
       "      <td>25</td>\n",
       "      <td>5</td>\n",
       "      <td>15.566925</td>\n",
       "      <td>16.702719</td>\n",
       "      <td>3931.0</td>\n",
       "      <td>3570.0</td>\n",
       "      <td>16.652624</td>\n",
       "      <td>431.7796</td>\n",
       "      <td>417.3432</td>\n",
       "      <td>144.181381</td>\n",
       "      <td>156.493165</td>\n",
       "      <td>NaN</td>\n",
       "      <td>81.939133</td>\n",
       "      <td>494.795433</td>\n",
       "      <td>488.796876</td>\n",
       "      <td>454.927259</td>\n",
       "      <td>417.551732</td>\n",
       "      <td>355.059780</td>\n",
       "      <td>263.350955</td>\n",
       "      <td>249.263725</td>\n",
       "      <td>244.839911</td>\n",
       "      <td>241.582320</td>\n",
       "      <td>234.213754</td>\n",
       "      <td>228.029564</td>\n",
       "      <td>215.730247</td>\n",
       "      <td>191.886155</td>\n",
       "      <td>176.691049</td>\n",
       "      <td>172.484059</td>\n",
       "      <td>160.376471</td>\n",
       "      <td>NaN</td>\n",
       "      <td>NaN</td>\n",
       "      <td>NaN</td>\n",
       "    </tr>\n",
       "    <tr>\n",
       "      <th>66</th>\n",
       "      <td>0x66e6eaf8</td>\n",
       "      <td>2024-09-15</td>\n",
       "      <td>0 days 14:11:04</td>\n",
       "      <td>0 days 19:58:16</td>\n",
       "      <td>210</td>\n",
       "      <td>25</td>\n",
       "      <td>5</td>\n",
       "      <td>9.717681</td>\n",
       "      <td>14.361427</td>\n",
       "      <td>20833.0</td>\n",
       "      <td>13570.0</td>\n",
       "      <td>55.050833</td>\n",
       "      <td>1118.1648</td>\n",
       "      <td>1065.0126</td>\n",
       "      <td>127.910734</td>\n",
       "      <td>77.558618</td>\n",
       "      <td>NaN</td>\n",
       "      <td>86.428420</td>\n",
       "      <td>329.911867</td>\n",
       "      <td>326.266347</td>\n",
       "      <td>302.306607</td>\n",
       "      <td>259.989377</td>\n",
       "      <td>234.666923</td>\n",
       "      <td>191.799784</td>\n",
       "      <td>180.029035</td>\n",
       "      <td>169.558551</td>\n",
       "      <td>158.774612</td>\n",
       "      <td>149.921037</td>\n",
       "      <td>148.947662</td>\n",
       "      <td>145.128708</td>\n",
       "      <td>136.449526</td>\n",
       "      <td>131.468673</td>\n",
       "      <td>129.165605</td>\n",
       "      <td>109.614239</td>\n",
       "      <td>87.752420</td>\n",
       "      <td>79.633679</td>\n",
       "      <td>77.736997</td>\n",
       "    </tr>\n",
       "    <tr>\n",
       "      <th>67</th>\n",
       "      <td>0x66ecad9f</td>\n",
       "      <td>2024-09-19</td>\n",
       "      <td>0 days 23:02:55</td>\n",
       "      <td>0 days 00:01:08</td>\n",
       "      <td>210</td>\n",
       "      <td>25</td>\n",
       "      <td>5</td>\n",
       "      <td>11.484069</td>\n",
       "      <td>12.336142</td>\n",
       "      <td>3494.0</td>\n",
       "      <td>3219.0</td>\n",
       "      <td>11.101370</td>\n",
       "      <td>170.6120</td>\n",
       "      <td>171.2682</td>\n",
       "      <td>108.518966</td>\n",
       "      <td>75.718692</td>\n",
       "      <td>NaN</td>\n",
       "      <td>81.015862</td>\n",
       "      <td>304.284934</td>\n",
       "      <td>302.177874</td>\n",
       "      <td>282.912421</td>\n",
       "      <td>231.750183</td>\n",
       "      <td>198.977064</td>\n",
       "      <td>147.206024</td>\n",
       "      <td>140.053289</td>\n",
       "      <td>138.701441</td>\n",
       "      <td>135.101895</td>\n",
       "      <td>135.238740</td>\n",
       "      <td>135.180222</td>\n",
       "      <td>125.144886</td>\n",
       "      <td>104.905915</td>\n",
       "      <td>88.028632</td>\n",
       "      <td>82.581951</td>\n",
       "      <td>NaN</td>\n",
       "      <td>NaN</td>\n",
       "      <td>NaN</td>\n",
       "      <td>NaN</td>\n",
       "    </tr>\n",
       "    <tr>\n",
       "      <th>68</th>\n",
       "      <td>0x66edfad7</td>\n",
       "      <td>2024-09-20</td>\n",
       "      <td>0 days 22:44:39</td>\n",
       "      <td>0 days 23:52:51</td>\n",
       "      <td>210</td>\n",
       "      <td>25</td>\n",
       "      <td>5</td>\n",
       "      <td>12.929272</td>\n",
       "      <td>14.536025</td>\n",
       "      <td>4093.0</td>\n",
       "      <td>3594.0</td>\n",
       "      <td>14.649613</td>\n",
       "      <td>360.2538</td>\n",
       "      <td>358.2852</td>\n",
       "      <td>124.520961</td>\n",
       "      <td>105.938583</td>\n",
       "      <td>NaN</td>\n",
       "      <td>88.554597</td>\n",
       "      <td>424.787203</td>\n",
       "      <td>421.361926</td>\n",
       "      <td>405.176265</td>\n",
       "      <td>347.280427</td>\n",
       "      <td>283.539619</td>\n",
       "      <td>215.782815</td>\n",
       "      <td>174.939536</td>\n",
       "      <td>165.948355</td>\n",
       "      <td>157.650695</td>\n",
       "      <td>152.371404</td>\n",
       "      <td>148.825741</td>\n",
       "      <td>143.179183</td>\n",
       "      <td>133.932152</td>\n",
       "      <td>126.114615</td>\n",
       "      <td>111.718756</td>\n",
       "      <td>109.990929</td>\n",
       "      <td>NaN</td>\n",
       "      <td>NaN</td>\n",
       "      <td>NaN</td>\n",
       "    </tr>\n",
       "    <tr>\n",
       "      <th>69</th>\n",
       "      <td>0x66f02906</td>\n",
       "      <td>2024-09-22</td>\n",
       "      <td>0 days 14:26:14</td>\n",
       "      <td>0 days 20:04:35</td>\n",
       "      <td>210</td>\n",
       "      <td>25</td>\n",
       "      <td>5</td>\n",
       "      <td>10.932544</td>\n",
       "      <td>14.878489</td>\n",
       "      <td>20302.0</td>\n",
       "      <td>14397.0</td>\n",
       "      <td>60.344661</td>\n",
       "      <td>1168.6922</td>\n",
       "      <td>1126.0392</td>\n",
       "      <td>135.537140</td>\n",
       "      <td>90.635434</td>\n",
       "      <td>NaN</td>\n",
       "      <td>87.645191</td>\n",
       "      <td>390.720114</td>\n",
       "      <td>386.211925</td>\n",
       "      <td>352.824272</td>\n",
       "      <td>272.765060</td>\n",
       "      <td>229.712385</td>\n",
       "      <td>216.197787</td>\n",
       "      <td>184.557817</td>\n",
       "      <td>189.844383</td>\n",
       "      <td>182.077282</td>\n",
       "      <td>171.948954</td>\n",
       "      <td>169.207573</td>\n",
       "      <td>148.826554</td>\n",
       "      <td>131.792100</td>\n",
       "      <td>126.100150</td>\n",
       "      <td>120.531836</td>\n",
       "      <td>114.729665</td>\n",
       "      <td>109.084121</td>\n",
       "      <td>97.258198</td>\n",
       "      <td>93.835000</td>\n",
       "    </tr>\n",
       "    <tr>\n",
       "      <th>70</th>\n",
       "      <td>0x66f5e191</td>\n",
       "      <td>2024-09-26</td>\n",
       "      <td>0 days 22:34:57</td>\n",
       "      <td>0 days 23:42:34</td>\n",
       "      <td>210</td>\n",
       "      <td>25</td>\n",
       "      <td>5</td>\n",
       "      <td>11.118772</td>\n",
       "      <td>12.216432</td>\n",
       "      <td>4058.0</td>\n",
       "      <td>3667.0</td>\n",
       "      <td>12.533328</td>\n",
       "      <td>263.7924</td>\n",
       "      <td>260.5114</td>\n",
       "      <td>103.050517</td>\n",
       "      <td>74.811060</td>\n",
       "      <td>NaN</td>\n",
       "      <td>72.930705</td>\n",
       "      <td>539.074462</td>\n",
       "      <td>533.750470</td>\n",
       "      <td>489.765279</td>\n",
       "      <td>405.860497</td>\n",
       "      <td>379.954662</td>\n",
       "      <td>247.906898</td>\n",
       "      <td>156.109446</td>\n",
       "      <td>130.363740</td>\n",
       "      <td>119.342591</td>\n",
       "      <td>108.664197</td>\n",
       "      <td>105.352569</td>\n",
       "      <td>94.715752</td>\n",
       "      <td>86.875263</td>\n",
       "      <td>84.969960</td>\n",
       "      <td>73.200444</td>\n",
       "      <td>75.857414</td>\n",
       "      <td>NaN</td>\n",
       "      <td>NaN</td>\n",
       "      <td>NaN</td>\n",
       "    </tr>\n",
       "    <tr>\n",
       "      <th>71</th>\n",
       "      <td>0x66fbe94a</td>\n",
       "      <td>2024-10-01</td>\n",
       "      <td>0 days 12:21:30</td>\n",
       "      <td>0 days 18:53:22</td>\n",
       "      <td>210</td>\n",
       "      <td>25</td>\n",
       "      <td>5</td>\n",
       "      <td>11.137557</td>\n",
       "      <td>13.753470</td>\n",
       "      <td>23513.0</td>\n",
       "      <td>18466.0</td>\n",
       "      <td>71.355428</td>\n",
       "      <td>1286.1520</td>\n",
       "      <td>1220.5320</td>\n",
       "      <td>126.060701</td>\n",
       "      <td>84.185594</td>\n",
       "      <td>NaN</td>\n",
       "      <td>74.366571</td>\n",
       "      <td>453.836961</td>\n",
       "      <td>450.355411</td>\n",
       "      <td>421.625740</td>\n",
       "      <td>346.051732</td>\n",
       "      <td>278.864974</td>\n",
       "      <td>205.995273</td>\n",
       "      <td>169.706642</td>\n",
       "      <td>154.466183</td>\n",
       "      <td>142.862843</td>\n",
       "      <td>139.967418</td>\n",
       "      <td>139.203837</td>\n",
       "      <td>130.982731</td>\n",
       "      <td>122.748233</td>\n",
       "      <td>123.488940</td>\n",
       "      <td>118.306480</td>\n",
       "      <td>109.551674</td>\n",
       "      <td>102.231004</td>\n",
       "      <td>89.377118</td>\n",
       "      <td>87.791431</td>\n",
       "    </tr>\n",
       "    <tr>\n",
       "      <th>72</th>\n",
       "      <td>0x67092425</td>\n",
       "      <td>2024-10-11</td>\n",
       "      <td>0 days 13:12:05</td>\n",
       "      <td>0 days 20:50:02</td>\n",
       "      <td>210</td>\n",
       "      <td>25</td>\n",
       "      <td>30</td>\n",
       "      <td>8.424636</td>\n",
       "      <td>11.791958</td>\n",
       "      <td>27478.0</td>\n",
       "      <td>18732.0</td>\n",
       "      <td>63.397111</td>\n",
       "      <td>1437.7342</td>\n",
       "      <td>1059.1068</td>\n",
       "      <td>120.887135</td>\n",
       "      <td>60.888611</td>\n",
       "      <td>NaN</td>\n",
       "      <td>75.393156</td>\n",
       "      <td>1054.646735</td>\n",
       "      <td>1012.393586</td>\n",
       "      <td>807.518753</td>\n",
       "      <td>489.093715</td>\n",
       "      <td>332.548777</td>\n",
       "      <td>190.860033</td>\n",
       "      <td>149.463907</td>\n",
       "      <td>122.680457</td>\n",
       "      <td>115.935246</td>\n",
       "      <td>113.108256</td>\n",
       "      <td>113.288784</td>\n",
       "      <td>106.655962</td>\n",
       "      <td>94.358490</td>\n",
       "      <td>90.698001</td>\n",
       "      <td>87.647581</td>\n",
       "      <td>85.129643</td>\n",
       "      <td>77.059328</td>\n",
       "      <td>69.502677</td>\n",
       "      <td>69.703654</td>\n",
       "    </tr>\n",
       "    <tr>\n",
       "      <th>73</th>\n",
       "      <td>0x670a72f5</td>\n",
       "      <td>2024-10-12</td>\n",
       "      <td>0 days 13:00:37</td>\n",
       "      <td>0 days 20:44:22</td>\n",
       "      <td>210</td>\n",
       "      <td>25</td>\n",
       "      <td>30</td>\n",
       "      <td>8.388080</td>\n",
       "      <td>12.803738</td>\n",
       "      <td>27826.0</td>\n",
       "      <td>17149.0</td>\n",
       "      <td>64.087285</td>\n",
       "      <td>1763.2094</td>\n",
       "      <td>1540.1014</td>\n",
       "      <td>117.407144</td>\n",
       "      <td>65.730316</td>\n",
       "      <td>NaN</td>\n",
       "      <td>81.435539</td>\n",
       "      <td>484.451729</td>\n",
       "      <td>482.137332</td>\n",
       "      <td>459.526694</td>\n",
       "      <td>391.010571</td>\n",
       "      <td>331.440119</td>\n",
       "      <td>252.828133</td>\n",
       "      <td>198.545178</td>\n",
       "      <td>205.661610</td>\n",
       "      <td>171.934918</td>\n",
       "      <td>157.625533</td>\n",
       "      <td>153.028942</td>\n",
       "      <td>141.404426</td>\n",
       "      <td>129.006698</td>\n",
       "      <td>125.798169</td>\n",
       "      <td>122.088202</td>\n",
       "      <td>96.362930</td>\n",
       "      <td>84.163852</td>\n",
       "      <td>77.557302</td>\n",
       "      <td>73.943931</td>\n",
       "    </tr>\n",
       "    <tr>\n",
       "      <th>74</th>\n",
       "      <td>0x670bcd4d</td>\n",
       "      <td>2024-10-13</td>\n",
       "      <td>0 days 13:38:21</td>\n",
       "      <td>0 days 20:38:25</td>\n",
       "      <td>210</td>\n",
       "      <td>25</td>\n",
       "      <td>30</td>\n",
       "      <td>7.833823</td>\n",
       "      <td>11.978358</td>\n",
       "      <td>25205.0</td>\n",
       "      <td>14284.0</td>\n",
       "      <td>50.055952</td>\n",
       "      <td>2414.8160</td>\n",
       "      <td>1931.8528</td>\n",
       "      <td>132.332804</td>\n",
       "      <td>68.878244</td>\n",
       "      <td>NaN</td>\n",
       "      <td>81.196231</td>\n",
       "      <td>578.431696</td>\n",
       "      <td>575.898182</td>\n",
       "      <td>557.130115</td>\n",
       "      <td>492.173564</td>\n",
       "      <td>423.619541</td>\n",
       "      <td>290.005715</td>\n",
       "      <td>188.023396</td>\n",
       "      <td>159.986882</td>\n",
       "      <td>155.747997</td>\n",
       "      <td>150.729349</td>\n",
       "      <td>133.765219</td>\n",
       "      <td>117.079625</td>\n",
       "      <td>105.137656</td>\n",
       "      <td>100.711262</td>\n",
       "      <td>95.488078</td>\n",
       "      <td>88.018636</td>\n",
       "      <td>78.886242</td>\n",
       "      <td>75.865077</td>\n",
       "      <td>67.945079</td>\n",
       "    </tr>\n",
       "    <tr>\n",
       "      <th>75</th>\n",
       "      <td>0x670d1347</td>\n",
       "      <td>2024-10-14</td>\n",
       "      <td>0 days 12:49:11</td>\n",
       "      <td>0 days 20:59:03</td>\n",
       "      <td>210</td>\n",
       "      <td>25</td>\n",
       "      <td>30</td>\n",
       "      <td>6.643571</td>\n",
       "      <td>11.711288</td>\n",
       "      <td>29393.0</td>\n",
       "      <td>15008.0</td>\n",
       "      <td>51.392974</td>\n",
       "      <td>1383.9258</td>\n",
       "      <td>1747.4606</td>\n",
       "      <td>108.547813</td>\n",
       "      <td>43.060768</td>\n",
       "      <td>NaN</td>\n",
       "      <td>74.975582</td>\n",
       "      <td>534.792543</td>\n",
       "      <td>532.112244</td>\n",
       "      <td>503.479077</td>\n",
       "      <td>417.215989</td>\n",
       "      <td>388.574378</td>\n",
       "      <td>292.872046</td>\n",
       "      <td>219.251373</td>\n",
       "      <td>199.869161</td>\n",
       "      <td>166.802975</td>\n",
       "      <td>159.476129</td>\n",
       "      <td>150.842401</td>\n",
       "      <td>130.382415</td>\n",
       "      <td>118.666776</td>\n",
       "      <td>114.628614</td>\n",
       "      <td>103.221550</td>\n",
       "      <td>91.163787</td>\n",
       "      <td>74.247182</td>\n",
       "      <td>67.321420</td>\n",
       "      <td>53.932709</td>\n",
       "    </tr>\n",
       "    <tr>\n",
       "      <th>76</th>\n",
       "      <td>0x670e5fca</td>\n",
       "      <td>2024-10-15</td>\n",
       "      <td>0 days 12:27:54</td>\n",
       "      <td>0 days 23:03:32</td>\n",
       "      <td>210</td>\n",
       "      <td>25</td>\n",
       "      <td>30</td>\n",
       "      <td>6.978285</td>\n",
       "      <td>10.892583</td>\n",
       "      <td>38139.0</td>\n",
       "      <td>21620.0</td>\n",
       "      <td>69.347088</td>\n",
       "      <td>2809.1922</td>\n",
       "      <td>2619.5504</td>\n",
       "      <td>118.414871</td>\n",
       "      <td>52.762282</td>\n",
       "      <td>NaN</td>\n",
       "      <td>74.265057</td>\n",
       "      <td>603.080048</td>\n",
       "      <td>587.501714</td>\n",
       "      <td>537.774318</td>\n",
       "      <td>418.860416</td>\n",
       "      <td>398.684606</td>\n",
       "      <td>323.496736</td>\n",
       "      <td>242.687937</td>\n",
       "      <td>196.445302</td>\n",
       "      <td>178.850777</td>\n",
       "      <td>169.441686</td>\n",
       "      <td>162.100130</td>\n",
       "      <td>131.514159</td>\n",
       "      <td>114.950710</td>\n",
       "      <td>102.072083</td>\n",
       "      <td>94.471626</td>\n",
       "      <td>87.931443</td>\n",
       "      <td>75.476319</td>\n",
       "      <td>68.677988</td>\n",
       "      <td>64.309176</td>\n",
       "    </tr>\n",
       "    <tr>\n",
       "      <th>77</th>\n",
       "      <td>0x670fd950</td>\n",
       "      <td>2024-10-16</td>\n",
       "      <td>0 days 15:18:40</td>\n",
       "      <td>0 days 21:14:09</td>\n",
       "      <td>210</td>\n",
       "      <td>25</td>\n",
       "      <td>30</td>\n",
       "      <td>7.257248</td>\n",
       "      <td>10.807354</td>\n",
       "      <td>21330.0</td>\n",
       "      <td>13499.0</td>\n",
       "      <td>42.582110</td>\n",
       "      <td>1584.0668</td>\n",
       "      <td>1887.2312</td>\n",
       "      <td>112.319501</td>\n",
       "      <td>48.319398</td>\n",
       "      <td>NaN</td>\n",
       "      <td>74.738282</td>\n",
       "      <td>570.177700</td>\n",
       "      <td>567.774112</td>\n",
       "      <td>548.419025</td>\n",
       "      <td>482.434774</td>\n",
       "      <td>385.050368</td>\n",
       "      <td>245.512723</td>\n",
       "      <td>212.096148</td>\n",
       "      <td>158.555331</td>\n",
       "      <td>150.821311</td>\n",
       "      <td>139.199750</td>\n",
       "      <td>135.751638</td>\n",
       "      <td>118.114825</td>\n",
       "      <td>88.321449</td>\n",
       "      <td>78.065144</td>\n",
       "      <td>81.569771</td>\n",
       "      <td>72.379041</td>\n",
       "      <td>65.034151</td>\n",
       "      <td>58.440497</td>\n",
       "      <td>50.912622</td>\n",
       "    </tr>\n",
       "    <tr>\n",
       "      <th>78</th>\n",
       "      <td>0x67128feb</td>\n",
       "      <td>2024-10-18</td>\n",
       "      <td>0 days 16:42:19</td>\n",
       "      <td>0 days 17:30:39</td>\n",
       "      <td>210</td>\n",
       "      <td>25</td>\n",
       "      <td>5</td>\n",
       "      <td>8.474915</td>\n",
       "      <td>9.200931</td>\n",
       "      <td>2901.0</td>\n",
       "      <td>2527.0</td>\n",
       "      <td>6.829401</td>\n",
       "      <td>127.3028</td>\n",
       "      <td>206.0468</td>\n",
       "      <td>91.811961</td>\n",
       "      <td>37.744969</td>\n",
       "      <td>NaN</td>\n",
       "      <td>71.407342</td>\n",
       "      <td>273.086014</td>\n",
       "      <td>272.430103</td>\n",
       "      <td>263.061037</td>\n",
       "      <td>224.192676</td>\n",
       "      <td>175.868770</td>\n",
       "      <td>109.288148</td>\n",
       "      <td>79.103927</td>\n",
       "      <td>69.759995</td>\n",
       "      <td>69.608861</td>\n",
       "      <td>62.963294</td>\n",
       "      <td>62.457943</td>\n",
       "      <td>56.677909</td>\n",
       "      <td>49.038385</td>\n",
       "      <td>42.754810</td>\n",
       "      <td>39.201646</td>\n",
       "      <td>NaN</td>\n",
       "      <td>NaN</td>\n",
       "      <td>NaN</td>\n",
       "      <td>NaN</td>\n",
       "    </tr>\n",
       "    <tr>\n",
       "      <th>79</th>\n",
       "      <td>0x6712b38f</td>\n",
       "      <td>2024-10-18</td>\n",
       "      <td>0 days 19:14:23</td>\n",
       "      <td>0 days 20:03:48</td>\n",
       "      <td>220</td>\n",
       "      <td>25</td>\n",
       "      <td>5</td>\n",
       "      <td>9.001679</td>\n",
       "      <td>10.271089</td>\n",
       "      <td>2966.0</td>\n",
       "      <td>2494.0</td>\n",
       "      <td>7.416621</td>\n",
       "      <td>265.1048</td>\n",
       "      <td>137.1458</td>\n",
       "      <td>109.496123</td>\n",
       "      <td>71.004351</td>\n",
       "      <td>NaN</td>\n",
       "      <td>74.922960</td>\n",
       "      <td>465.028710</td>\n",
       "      <td>459.167506</td>\n",
       "      <td>405.763710</td>\n",
       "      <td>297.599365</td>\n",
       "      <td>273.323466</td>\n",
       "      <td>219.395146</td>\n",
       "      <td>142.388049</td>\n",
       "      <td>124.640151</td>\n",
       "      <td>114.878003</td>\n",
       "      <td>107.149501</td>\n",
       "      <td>100.080810</td>\n",
       "      <td>100.918837</td>\n",
       "      <td>84.695968</td>\n",
       "      <td>80.986328</td>\n",
       "      <td>76.946954</td>\n",
       "      <td>NaN</td>\n",
       "      <td>NaN</td>\n",
       "      <td>NaN</td>\n",
       "      <td>NaN</td>\n",
       "    </tr>\n",
       "    <tr>\n",
       "      <th>80</th>\n",
       "      <td>0x67f95484</td>\n",
       "      <td>2025-04-11</td>\n",
       "      <td>0 days 17:42:28</td>\n",
       "      <td>0 days 18:44:05</td>\n",
       "      <td>235</td>\n",
       "      <td>25</td>\n",
       "      <td>5</td>\n",
       "      <td>9.783532</td>\n",
       "      <td>13.021451</td>\n",
       "      <td>3698.0</td>\n",
       "      <td>2641.0</td>\n",
       "      <td>9.835878</td>\n",
       "      <td>240.8254</td>\n",
       "      <td>248.0436</td>\n",
       "      <td>125.315971</td>\n",
       "      <td>71.541885</td>\n",
       "      <td>NaN</td>\n",
       "      <td>68.324288</td>\n",
       "      <td>340.723413</td>\n",
       "      <td>337.899456</td>\n",
       "      <td>315.695131</td>\n",
       "      <td>259.330325</td>\n",
       "      <td>230.069572</td>\n",
       "      <td>198.502247</td>\n",
       "      <td>153.105276</td>\n",
       "      <td>148.772810</td>\n",
       "      <td>150.213168</td>\n",
       "      <td>143.347841</td>\n",
       "      <td>138.926755</td>\n",
       "      <td>120.318610</td>\n",
       "      <td>108.034177</td>\n",
       "      <td>96.602769</td>\n",
       "      <td>89.040912</td>\n",
       "      <td>71.919467</td>\n",
       "      <td>NaN</td>\n",
       "      <td>NaN</td>\n",
       "      <td>NaN</td>\n",
       "    </tr>\n",
       "    <tr>\n",
       "      <th>81</th>\n",
       "      <td>0x67faa109</td>\n",
       "      <td>2025-04-12</td>\n",
       "      <td>0 days 17:21:13</td>\n",
       "      <td>0 days 19:45:35</td>\n",
       "      <td>235</td>\n",
       "      <td>25</td>\n",
       "      <td>5</td>\n",
       "      <td>10.478525</td>\n",
       "      <td>14.041284</td>\n",
       "      <td>8663.0</td>\n",
       "      <td>6199.0</td>\n",
       "      <td>24.563778</td>\n",
       "      <td>495.4310</td>\n",
       "      <td>431.7796</td>\n",
       "      <td>141.351997</td>\n",
       "      <td>85.644207</td>\n",
       "      <td>NaN</td>\n",
       "      <td>73.361287</td>\n",
       "      <td>282.444389</td>\n",
       "      <td>281.811370</td>\n",
       "      <td>274.329419</td>\n",
       "      <td>250.724965</td>\n",
       "      <td>226.102779</td>\n",
       "      <td>213.581100</td>\n",
       "      <td>204.243353</td>\n",
       "      <td>178.297679</td>\n",
       "      <td>166.502604</td>\n",
       "      <td>160.105169</td>\n",
       "      <td>152.367812</td>\n",
       "      <td>138.765531</td>\n",
       "      <td>124.986990</td>\n",
       "      <td>114.570697</td>\n",
       "      <td>108.803751</td>\n",
       "      <td>105.537040</td>\n",
       "      <td>83.993799</td>\n",
       "      <td>NaN</td>\n",
       "      <td>NaN</td>\n",
       "    </tr>\n",
       "    <tr>\n",
       "      <th>82</th>\n",
       "      <td>0x68080174</td>\n",
       "      <td>2025-04-22</td>\n",
       "      <td>0 days 20:52:04</td>\n",
       "      <td>0 days 22:06:47</td>\n",
       "      <td>235</td>\n",
       "      <td>25</td>\n",
       "      <td>5</td>\n",
       "      <td>11.918815</td>\n",
       "      <td>14.511612</td>\n",
       "      <td>4484.0</td>\n",
       "      <td>3629.0</td>\n",
       "      <td>14.772916</td>\n",
       "      <td>428.4986</td>\n",
       "      <td>408.8126</td>\n",
       "      <td>137.659794</td>\n",
       "      <td>106.968146</td>\n",
       "      <td>NaN</td>\n",
       "      <td>82.115397</td>\n",
       "      <td>506.871946</td>\n",
       "      <td>502.222247</td>\n",
       "      <td>472.204247</td>\n",
       "      <td>387.286454</td>\n",
       "      <td>314.916654</td>\n",
       "      <td>255.071716</td>\n",
       "      <td>225.210024</td>\n",
       "      <td>188.195573</td>\n",
       "      <td>180.993537</td>\n",
       "      <td>184.845828</td>\n",
       "      <td>175.390902</td>\n",
       "      <td>168.366021</td>\n",
       "      <td>149.607094</td>\n",
       "      <td>135.830200</td>\n",
       "      <td>104.339142</td>\n",
       "      <td>110.465983</td>\n",
       "      <td>NaN</td>\n",
       "      <td>NaN</td>\n",
       "      <td>NaN</td>\n",
       "    </tr>\n",
       "    <tr>\n",
       "      <th>83</th>\n",
       "      <td>0x680b85ff</td>\n",
       "      <td>2025-04-25</td>\n",
       "      <td>0 days 12:54:23</td>\n",
       "      <td>0 days 13:38:38</td>\n",
       "      <td>235</td>\n",
       "      <td>25</td>\n",
       "      <td>5</td>\n",
       "      <td>12.051749</td>\n",
       "      <td>12.703143</td>\n",
       "      <td>2656.0</td>\n",
       "      <td>2471.0</td>\n",
       "      <td>8.782029</td>\n",
       "      <td>223.7642</td>\n",
       "      <td>210.6402</td>\n",
       "      <td>122.115707</td>\n",
       "      <td>92.404432</td>\n",
       "      <td>NaN</td>\n",
       "      <td>74.108197</td>\n",
       "      <td>488.059230</td>\n",
       "      <td>483.817468</td>\n",
       "      <td>459.805893</td>\n",
       "      <td>396.226141</td>\n",
       "      <td>317.781627</td>\n",
       "      <td>194.266753</td>\n",
       "      <td>165.601028</td>\n",
       "      <td>156.892049</td>\n",
       "      <td>148.947812</td>\n",
       "      <td>142.257267</td>\n",
       "      <td>138.089138</td>\n",
       "      <td>128.662023</td>\n",
       "      <td>106.956979</td>\n",
       "      <td>100.725846</td>\n",
       "      <td>93.947327</td>\n",
       "      <td>NaN</td>\n",
       "      <td>NaN</td>\n",
       "      <td>NaN</td>\n",
       "      <td>NaN</td>\n",
       "    </tr>\n",
       "    <tr>\n",
       "      <th>84</th>\n",
       "      <td>0x681a7b31</td>\n",
       "      <td>2025-05-06</td>\n",
       "      <td>0 days 21:12:17</td>\n",
       "      <td>0 days 21:23:42</td>\n",
       "      <td>235</td>\n",
       "      <td>25</td>\n",
       "      <td>5</td>\n",
       "      <td>14.777524</td>\n",
       "      <td>18.911344</td>\n",
       "      <td>686.0</td>\n",
       "      <td>496.0</td>\n",
       "      <td>2.652898</td>\n",
       "      <td>144.3640</td>\n",
       "      <td>433.7482</td>\n",
       "      <td>130.479102</td>\n",
       "      <td>336.250752</td>\n",
       "      <td>33.108716</td>\n",
       "      <td>80.388235</td>\n",
       "      <td>18465.389390</td>\n",
       "      <td>17539.797437</td>\n",
       "      <td>13034.608244</td>\n",
       "      <td>7063.646177</td>\n",
       "      <td>4829.850446</td>\n",
       "      <td>2510.164249</td>\n",
       "      <td>1422.895438</td>\n",
       "      <td>1015.260056</td>\n",
       "      <td>786.668982</td>\n",
       "      <td>663.298890</td>\n",
       "      <td>578.907551</td>\n",
       "      <td>362.029977</td>\n",
       "      <td>NaN</td>\n",
       "      <td>NaN</td>\n",
       "      <td>NaN</td>\n",
       "      <td>NaN</td>\n",
       "      <td>NaN</td>\n",
       "      <td>NaN</td>\n",
       "      <td>NaN</td>\n",
       "    </tr>\n",
       "  </tbody>\n",
       "</table>\n",
       "</div>"
      ],
      "text/plain": [
       "       ride_id start_date      start_time        end_time  biker_weight_lbs  \\\n",
       "35  0x6468f0a8 2023-05-20 0 days 16:09:12 0 days 16:30:44               220   \n",
       "36  0x646aaca8 2023-05-21 0 days 23:43:36 0 days 00:09:52               220   \n",
       "37  0x646d330d 2023-05-23 0 days 21:41:33 0 days 22:23:58               220   \n",
       "38  0x647bd17f 2023-06-03 0 days 23:49:19 0 days 00:19:25               220   \n",
       "39  0x647fc3f0 2023-06-06 0 days 23:40:32 0 days 00:15:32               220   \n",
       "40  0x64d5639c 2023-08-10 0 days 22:24:28 0 days 22:57:31               220   \n",
       "41  0x64d57601 2023-08-10 0 days 23:42:57 0 days 00:13:45               220   \n",
       "42  0x64d78b74 2023-08-12 0 days 13:39:00 0 days 14:12:13               220   \n",
       "43  0x64e07c36 2023-08-19 0 days 08:24:22 0 days 12:34:29               220   \n",
       "44  0x64ee48c6 2023-08-29 0 days 19:36:38 0 days 19:54:15               220   \n",
       "45  0x64ee5731 2023-08-29 0 days 20:38:09 0 days 20:48:42               220   \n",
       "46  0x64fde803 2023-09-10 0 days 16:00:03 0 days 16:51:23               220   \n",
       "47  0x64fe0da4 2023-09-10 0 days 18:40:36 0 days 19:24:16               220   \n",
       "48  0x650755ae 2023-09-17 0 days 19:38:22 0 days 21:19:44               220   \n",
       "49  0x65077dc2 2023-09-17 0 days 22:29:22 0 days 23:48:06               220   \n",
       "50  0x65bfd8be 2024-02-04 0 days 18:34:38 0 days 19:28:53               220   \n",
       "51  0x661c5dfa 2024-04-14 0 days 22:51:38 0 days 23:14:49               220   \n",
       "52  0x661ff649 2024-04-17 0 days 16:18:17 0 days 18:26:22               220   \n",
       "53  0x663a3144 2024-05-07 0 days 13:48:52 0 days 16:32:57               220   \n",
       "54  0x66a663d9 2024-07-28 0 days 15:29:29 0 days 17:48:32               210   \n",
       "55  0x66a8c55e 2024-07-30 0 days 10:50:06 0 days 11:28:32               210   \n",
       "56  0x66a8cf77 2024-07-30 0 days 11:33:11 0 days 12:12:09               210   \n",
       "57  0x66be8d6a 2024-08-15 0 days 23:21:14 0 days 00:07:19               210   \n",
       "58  0x66c0932a 2024-08-17 0 days 12:10:18 0 days 15:53:01               210   \n",
       "59  0x66d0d787 2024-08-29 0 days 20:18:15 0 days 21:36:47               205   \n",
       "60  0x66da3570 2024-09-05 0 days 22:49:20 0 days 00:06:54               205   \n",
       "61  0x66da5429 2024-09-06 0 days 01:00:25 0 days 01:21:46               205   \n",
       "62  0x66dc7f72 2024-09-07 0 days 16:29:38 0 days 18:30:09               205   \n",
       "63  0x66ddcd9f 2024-09-08 0 days 16:15:27 0 days 17:29:02               210   \n",
       "64  0x66dde586 2024-09-08 0 days 17:57:26 0 days 21:40:43               210   \n",
       "65  0x66e0c792 2024-09-10 0 days 22:26:26 0 days 23:31:56               210   \n",
       "66  0x66e6eaf8 2024-09-15 0 days 14:11:04 0 days 19:58:16               210   \n",
       "67  0x66ecad9f 2024-09-19 0 days 23:02:55 0 days 00:01:08               210   \n",
       "68  0x66edfad7 2024-09-20 0 days 22:44:39 0 days 23:52:51               210   \n",
       "69  0x66f02906 2024-09-22 0 days 14:26:14 0 days 20:04:35               210   \n",
       "70  0x66f5e191 2024-09-26 0 days 22:34:57 0 days 23:42:34               210   \n",
       "71  0x66fbe94a 2024-10-01 0 days 12:21:30 0 days 18:53:22               210   \n",
       "72  0x67092425 2024-10-11 0 days 13:12:05 0 days 20:50:02               210   \n",
       "73  0x670a72f5 2024-10-12 0 days 13:00:37 0 days 20:44:22               210   \n",
       "74  0x670bcd4d 2024-10-13 0 days 13:38:21 0 days 20:38:25               210   \n",
       "75  0x670d1347 2024-10-14 0 days 12:49:11 0 days 20:59:03               210   \n",
       "76  0x670e5fca 2024-10-15 0 days 12:27:54 0 days 23:03:32               210   \n",
       "77  0x670fd950 2024-10-16 0 days 15:18:40 0 days 21:14:09               210   \n",
       "78  0x67128feb 2024-10-18 0 days 16:42:19 0 days 17:30:39               210   \n",
       "79  0x6712b38f 2024-10-18 0 days 19:14:23 0 days 20:03:48               220   \n",
       "80  0x67f95484 2025-04-11 0 days 17:42:28 0 days 18:44:05               235   \n",
       "81  0x67faa109 2025-04-12 0 days 17:21:13 0 days 19:45:35               235   \n",
       "82  0x68080174 2025-04-22 0 days 20:52:04 0 days 22:06:47               235   \n",
       "83  0x680b85ff 2025-04-25 0 days 12:54:23 0 days 13:38:38               235   \n",
       "84  0x681a7b31 2025-05-06 0 days 21:12:17 0 days 21:23:42               235   \n",
       "\n",
       "    bike_weight  bag_weight  avg_speed  avg_cruising_speed  \\\n",
       "35           25           0  11.061266           14.133765   \n",
       "36           25           0  15.103680           15.833085   \n",
       "37           25           0  11.602788           15.014983   \n",
       "38           25           0  13.571056           15.306218   \n",
       "39           25           0  14.488376           14.973331   \n",
       "40           25           0  11.996846           13.030013   \n",
       "41           25           0  12.649477           14.009036   \n",
       "42           25           0  14.246489           15.368782   \n",
       "43           25           0  12.310992           15.802431   \n",
       "44           25           0   3.621121           11.805122   \n",
       "45           25           0  17.267583           17.996688   \n",
       "46           25           0  10.400759           13.126796   \n",
       "47           25           0  10.799444           13.157594   \n",
       "48           25           0   8.697565           11.382887   \n",
       "49           25           0  10.333394           12.160700   \n",
       "50           25           0   9.527357           12.342948   \n",
       "51           25           0   5.725683           10.515063   \n",
       "52           25           0   7.142026           12.506619   \n",
       "53           25           0  12.223941           14.645619   \n",
       "54           25           0   8.217522           13.108158   \n",
       "55           25           0  16.442490           16.893319   \n",
       "56           25           0  15.797955           16.510230   \n",
       "57           25           0  13.717006           15.855935   \n",
       "58           25           5  13.565535           15.778976   \n",
       "59           25           5   9.656642           14.514409   \n",
       "60           25           5  11.160237           12.732818   \n",
       "61           25           5  10.208040           11.394048   \n",
       "62           25           5  12.585021           15.491510   \n",
       "63           25           5   9.178537           13.950903   \n",
       "64           25           5  10.498826           15.010840   \n",
       "65           25           5  15.566925           16.702719   \n",
       "66           25           5   9.717681           14.361427   \n",
       "67           25           5  11.484069           12.336142   \n",
       "68           25           5  12.929272           14.536025   \n",
       "69           25           5  10.932544           14.878489   \n",
       "70           25           5  11.118772           12.216432   \n",
       "71           25           5  11.137557           13.753470   \n",
       "72           25          30   8.424636           11.791958   \n",
       "73           25          30   8.388080           12.803738   \n",
       "74           25          30   7.833823           11.978358   \n",
       "75           25          30   6.643571           11.711288   \n",
       "76           25          30   6.978285           10.892583   \n",
       "77           25          30   7.257248           10.807354   \n",
       "78           25           5   8.474915            9.200931   \n",
       "79           25           5   9.001679           10.271089   \n",
       "80           25           5   9.783532           13.021451   \n",
       "81           25           5  10.478525           14.041284   \n",
       "82           25           5  11.918815           14.511612   \n",
       "83           25           5  12.051749           12.703143   \n",
       "84           25           5  14.777524           18.911344   \n",
       "\n",
       "    total_ride_time_sec  total_moving_time_sec  total_distance_mi  \\\n",
       "35               1293.0                  951.0           3.927581   \n",
       "36               1577.0                 1485.0           6.621010   \n",
       "37               2546.0                  633.0           2.797789   \n",
       "38               1807.0                 1354.0           5.865865   \n",
       "39               2101.0                 1459.0           6.373484   \n",
       "40               1984.0                 1754.0           6.450010   \n",
       "41               1849.0                 1624.0           6.497055   \n",
       "42               1994.0                 1302.0           5.643591   \n",
       "43             187808.0                 1342.0           6.022180   \n",
       "44               1058.0                  207.0           0.728415   \n",
       "45                634.0                  589.0           2.974526   \n",
       "46               3081.0                 2288.0           8.803913   \n",
       "47               2621.0                 2013.0           7.517656   \n",
       "48               6083.0                 4346.0          14.361407   \n",
       "49               4725.0                 3906.0          13.476714   \n",
       "50               3256.0                 2351.0           8.458264   \n",
       "51               1392.0                  675.0           2.148722   \n",
       "52               7686.0                 3072.0          12.225232   \n",
       "53            5280246.0                 8762.0          35.946595   \n",
       "54               8344.0                 4787.0          18.693982   \n",
       "55               2307.0                 2236.0          10.536984   \n",
       "56               2339.0                 2229.0          10.265013   \n",
       "57               2766.0                 2367.0          10.539233   \n",
       "58              13364.0                11362.0          50.155025   \n",
       "59               4713.0                 2990.0          12.309794   \n",
       "60               4655.0                 3962.0          14.322307   \n",
       "61               1282.0                 1086.0           3.595519   \n",
       "62               7232.0                 5707.0          24.842761   \n",
       "63               4416.0                 2722.0          10.879994   \n",
       "64              13398.0                 9001.0          38.432257   \n",
       "65               3931.0                 3570.0          16.652624   \n",
       "66              20833.0                13570.0          55.050833   \n",
       "67               3494.0                 3219.0          11.101370   \n",
       "68               4093.0                 3594.0          14.649613   \n",
       "69              20302.0                14397.0          60.344661   \n",
       "70               4058.0                 3667.0          12.533328   \n",
       "71              23513.0                18466.0          71.355428   \n",
       "72              27478.0                18732.0          63.397111   \n",
       "73              27826.0                17149.0          64.087285   \n",
       "74              25205.0                14284.0          50.055952   \n",
       "75              29393.0                15008.0          51.392974   \n",
       "76              38139.0                21620.0          69.347088   \n",
       "77              21330.0                13499.0          42.582110   \n",
       "78               2901.0                 2527.0           6.829401   \n",
       "79               2966.0                 2494.0           7.416621   \n",
       "80               3698.0                 2641.0           9.835878   \n",
       "81               8663.0                 6199.0          24.563778   \n",
       "82               4484.0                 3629.0          14.772916   \n",
       "83               2656.0                 2471.0           8.782029   \n",
       "84                686.0                  496.0           2.652898   \n",
       "\n",
       "    total_ascent_ft  total_descent_ft  avg_heart_rate   avg_power  \\\n",
       "35          77.4316          139.1144      115.238226   81.322951   \n",
       "36         135.8334           95.1490      128.349081  149.214193   \n",
       "37          95.1490          249.3560      122.379469  108.871589   \n",
       "38          94.4928          108.9292      137.512853  112.918896   \n",
       "39         131.2400          125.9904      137.498105  204.069811   \n",
       "40         395.6886          290.0404      154.274160  125.601382   \n",
       "41         269.0420          366.8158      149.452948  107.630535   \n",
       "42          99.7424           96.4614      144.498948  128.072277   \n",
       "43          99.0862          192.2666      130.326803  112.884262   \n",
       "44          90.5556          183.7360      124.196823   19.857035   \n",
       "45          36.0910           70.8696      154.123387  171.748982   \n",
       "46         224.4204          325.4752      118.409911   75.054678   \n",
       "47         216.5460          192.2666      121.893057   83.687460   \n",
       "48         572.2064          526.9286      114.736878   64.434715   \n",
       "49         461.3086          482.9632      131.290628   75.486129   \n",
       "50         187.6732          279.5412      115.555538   65.028793   \n",
       "51         225.7328          219.1708      117.258697   64.042326   \n",
       "52        1375.3952         1339.3042      144.480039   87.020642   \n",
       "53         562.3634          547.9270      136.719535   99.213123   \n",
       "54         761.1920          742.1622      133.064989   68.186750   \n",
       "55         248.0436          184.3922      155.771782  171.609137   \n",
       "56         204.0782          270.3544      157.507054  143.459422   \n",
       "57         261.1676          237.5444      142.874548  131.535547   \n",
       "58         978.3942          963.3016      140.938467  121.286104   \n",
       "59         312.3512          291.3528      120.212138   79.022402   \n",
       "60         507.2426          496.0872      125.706277   87.144995   \n",
       "61          93.8366           88.5870      125.725552   68.651119   \n",
       "62         818.9376          792.6896      131.308612  114.008384   \n",
       "63         259.8552          204.7344      118.764823   77.457001   \n",
       "64         732.9754          636.5140      126.947374   90.491523   \n",
       "65         431.7796          417.3432      144.181381  156.493165   \n",
       "66        1118.1648         1065.0126      127.910734   77.558618   \n",
       "67         170.6120          171.2682      108.518966   75.718692   \n",
       "68         360.2538          358.2852      124.520961  105.938583   \n",
       "69        1168.6922         1126.0392      135.537140   90.635434   \n",
       "70         263.7924          260.5114      103.050517   74.811060   \n",
       "71        1286.1520         1220.5320      126.060701   84.185594   \n",
       "72        1437.7342         1059.1068      120.887135   60.888611   \n",
       "73        1763.2094         1540.1014      117.407144   65.730316   \n",
       "74        2414.8160         1931.8528      132.332804   68.878244   \n",
       "75        1383.9258         1747.4606      108.547813   43.060768   \n",
       "76        2809.1922         2619.5504      118.414871   52.762282   \n",
       "77        1584.0668         1887.2312      112.319501   48.319398   \n",
       "78         127.3028          206.0468       91.811961   37.744969   \n",
       "79         265.1048          137.1458      109.496123   71.004351   \n",
       "80         240.8254          248.0436      125.315971   71.541885   \n",
       "81         495.4310          431.7796      141.351997   85.644207   \n",
       "82         428.4986          408.8126      137.659794  106.968146   \n",
       "83         223.7642          210.6402      122.115707   92.404432   \n",
       "84         144.3640          433.7482      130.479102  336.250752   \n",
       "\n",
       "    avg_cadence  avg_ambient_temp_F  best_power_4s  best_power_5s  \\\n",
       "35          NaN           78.373312     311.684541     308.409863   \n",
       "36          NaN           73.584337     327.672176     325.554630   \n",
       "37          NaN           89.607266     374.893053     371.820206   \n",
       "38          NaN           83.633162     254.412321     253.756277   \n",
       "39          NaN           80.616488   18909.573679   18224.429106   \n",
       "40          NaN           84.654884     579.952832     569.731763   \n",
       "41          NaN           80.845809     793.016948     781.973410   \n",
       "42          NaN           78.957153     422.430288     421.281505   \n",
       "43          NaN           80.695060     275.934162     272.692210   \n",
       "44          NaN           81.164365     208.293545     207.077386   \n",
       "45          NaN           84.253710     297.629439     296.601682   \n",
       "46          NaN           82.185855     454.230395     449.073821   \n",
       "47          NaN           84.791860     479.424557     475.209001   \n",
       "48          NaN           81.716218     405.192841     404.051667   \n",
       "49          NaN           73.788754     733.907331     725.540378   \n",
       "50          NaN           78.103880     310.255589     308.123565   \n",
       "51          NaN           85.496373     621.616926     613.770179   \n",
       "52          NaN           83.411587    1170.473521    1158.334870   \n",
       "53          NaN           83.772700     342.918232     340.783854   \n",
       "54          NaN           88.171060     577.740871     569.040480   \n",
       "55          NaN           74.296099     462.783264     460.200764   \n",
       "56          NaN           75.793330     417.180608     411.757051   \n",
       "57          NaN           84.179826     475.216434     473.305235   \n",
       "58          NaN           79.376852     478.527601     473.748699   \n",
       "59          NaN           92.764807     334.643803     331.063497   \n",
       "60          NaN           87.757727     569.974485     562.881642   \n",
       "61          NaN           84.547792     271.196932     270.575130   \n",
       "62          NaN           76.097467     684.613400     673.891394   \n",
       "63          NaN           76.859105     341.050189     338.603023   \n",
       "64          NaN           77.058598     312.504590     309.482980   \n",
       "65          NaN           81.939133     494.795433     488.796876   \n",
       "66          NaN           86.428420     329.911867     326.266347   \n",
       "67          NaN           81.015862     304.284934     302.177874   \n",
       "68          NaN           88.554597     424.787203     421.361926   \n",
       "69          NaN           87.645191     390.720114     386.211925   \n",
       "70          NaN           72.930705     539.074462     533.750470   \n",
       "71          NaN           74.366571     453.836961     450.355411   \n",
       "72          NaN           75.393156    1054.646735    1012.393586   \n",
       "73          NaN           81.435539     484.451729     482.137332   \n",
       "74          NaN           81.196231     578.431696     575.898182   \n",
       "75          NaN           74.975582     534.792543     532.112244   \n",
       "76          NaN           74.265057     603.080048     587.501714   \n",
       "77          NaN           74.738282     570.177700     567.774112   \n",
       "78          NaN           71.407342     273.086014     272.430103   \n",
       "79          NaN           74.922960     465.028710     459.167506   \n",
       "80          NaN           68.324288     340.723413     337.899456   \n",
       "81          NaN           73.361287     282.444389     281.811370   \n",
       "82          NaN           82.115397     506.871946     502.222247   \n",
       "83          NaN           74.108197     488.059230     483.817468   \n",
       "84    33.108716           80.388235   18465.389390   17539.797437   \n",
       "\n",
       "    best_power_10s  best_power_20s  best_power_30s  best_power_1m  \\\n",
       "35      277.681726      211.172451      183.492624     166.380329   \n",
       "36      308.519194      270.157082      232.976474     202.338007   \n",
       "37      344.318809      270.760888      232.582538     197.645011   \n",
       "38      248.295475      229.480880      218.291712     201.879847   \n",
       "39    12873.894138     6720.537148     4484.015451    2281.734916   \n",
       "40      494.695220      450.055219      428.746952     374.943492   \n",
       "41      714.189332      532.196125      428.397883     342.965544   \n",
       "42      413.842803      385.780256      340.379876     233.159238   \n",
       "43      256.634344      235.549410      227.942660     219.539905   \n",
       "44      196.917892      179.781142      171.522923     159.651801   \n",
       "45      291.462710      273.901521      257.779834     221.963697   \n",
       "46      414.099813      319.207166      278.178395     218.631518   \n",
       "47      438.927488      338.510144      282.429973     188.277670   \n",
       "48      396.412037      363.384527      313.002975     292.181662   \n",
       "49      658.163363      495.403888      365.955949     227.736368   \n",
       "50      291.439272      255.712946      235.955278     195.692452   \n",
       "51      557.898004      423.739887      340.487773     271.976950   \n",
       "52     1073.148701      825.049190      596.478742     414.423510   \n",
       "53      318.812139      264.332044      235.599506     190.750307   \n",
       "54      509.104453      413.119335      336.610169     220.235206   \n",
       "55      436.188722      363.220327      300.963857     252.454035   \n",
       "56      378.845182      338.592208      301.888805     228.681706   \n",
       "57      451.170666      373.086294      298.509485     224.624795   \n",
       "58      446.183866      365.156670      291.266317     238.911865   \n",
       "59      313.147536      280.088693      260.939184     226.872022   \n",
       "60      509.619180      362.073046      303.453028     235.864270   \n",
       "61      265.401758      245.357418      227.729339     168.737180   \n",
       "62      603.569364      418.907138      327.129842     249.506038   \n",
       "63      313.602661      272.685242      250.815105     225.388449   \n",
       "64      283.038404      258.163653      240.460711     205.878275   \n",
       "65      454.927259      417.551732      355.059780     263.350955   \n",
       "66      302.306607      259.989377      234.666923     191.799784   \n",
       "67      282.912421      231.750183      198.977064     147.206024   \n",
       "68      405.176265      347.280427      283.539619     215.782815   \n",
       "69      352.824272      272.765060      229.712385     216.197787   \n",
       "70      489.765279      405.860497      379.954662     247.906898   \n",
       "71      421.625740      346.051732      278.864974     205.995273   \n",
       "72      807.518753      489.093715      332.548777     190.860033   \n",
       "73      459.526694      391.010571      331.440119     252.828133   \n",
       "74      557.130115      492.173564      423.619541     290.005715   \n",
       "75      503.479077      417.215989      388.574378     292.872046   \n",
       "76      537.774318      418.860416      398.684606     323.496736   \n",
       "77      548.419025      482.434774      385.050368     245.512723   \n",
       "78      263.061037      224.192676      175.868770     109.288148   \n",
       "79      405.763710      297.599365      273.323466     219.395146   \n",
       "80      315.695131      259.330325      230.069572     198.502247   \n",
       "81      274.329419      250.724965      226.102779     213.581100   \n",
       "82      472.204247      387.286454      314.916654     255.071716   \n",
       "83      459.805893      396.226141      317.781627     194.266753   \n",
       "84    13034.608244     7063.646177     4829.850446    2510.164249   \n",
       "\n",
       "    best_power_2m  best_power_3m  best_power_4m  best_power_5m  best_power_6m  \\\n",
       "35     143.866478     141.971920     136.839677     130.981763     124.411549   \n",
       "36     186.629579     181.616482     180.246502     181.630664     178.478202   \n",
       "37     184.560234     170.305314     162.304203     151.283446     141.442139   \n",
       "38     193.786696     190.289656     188.111435     186.760745     181.841107   \n",
       "39    1230.644020     848.225407     663.728056     568.400435     503.133221   \n",
       "40     315.759492     251.194666     209.392606     185.254272     179.867618   \n",
       "41     256.236241     213.326423     201.592674     189.357195     179.602492   \n",
       "42     189.525938     180.196919     167.461239     161.376631     159.404562   \n",
       "43     205.918462     197.342462     195.272009     187.164707     174.924987   \n",
       "44      88.921395      69.080379      59.902056      47.921645      39.934704   \n",
       "45     212.734920     200.988027     201.841515     196.190426     193.871828   \n",
       "46     200.507219     170.313023     151.569695     158.241778     151.005221   \n",
       "47     139.664838     126.860085     117.942966     119.224113     115.926917   \n",
       "48     189.567191     155.760436     142.639328     134.668885     128.393890   \n",
       "49     162.001946     147.118474     141.621166     124.146282     120.365106   \n",
       "50     147.293070     137.515048     132.528701     133.569889     131.174928   \n",
       "51     185.269449     139.440852     138.451007     137.619784     124.446161   \n",
       "52     361.223633     277.179928     217.968068     205.941190     201.338120   \n",
       "53     175.318029     170.242772     163.004630     157.527646     154.944776   \n",
       "54     194.840634     178.408365     166.465069     165.042394     161.540179   \n",
       "55     230.071239     214.341872     208.835193     204.543577     191.077635   \n",
       "56     195.054399     181.291637     170.419390     169.266747     167.581074   \n",
       "57     206.527025     192.870645     184.314664     173.264129     173.360850   \n",
       "58     202.061294     196.055940     186.240606     179.395044     176.562196   \n",
       "59     183.323555     180.890279     174.556325     172.002271     170.776587   \n",
       "60     185.965930     166.371096     165.545646     155.490604     148.332276   \n",
       "61     117.932680     104.127350      99.376712      92.407136      90.048972   \n",
       "62     205.803235     197.600020     196.818888     189.771467     187.003819   \n",
       "63     195.819113     180.331244     166.657316     157.537920     154.622901   \n",
       "64     180.792736     179.321992     172.611994     167.395821     168.506445   \n",
       "65     249.263725     244.839911     241.582320     234.213754     228.029564   \n",
       "66     180.029035     169.558551     158.774612     149.921037     148.947662   \n",
       "67     140.053289     138.701441     135.101895     135.238740     135.180222   \n",
       "68     174.939536     165.948355     157.650695     152.371404     148.825741   \n",
       "69     184.557817     189.844383     182.077282     171.948954     169.207573   \n",
       "70     156.109446     130.363740     119.342591     108.664197     105.352569   \n",
       "71     169.706642     154.466183     142.862843     139.967418     139.203837   \n",
       "72     149.463907     122.680457     115.935246     113.108256     113.288784   \n",
       "73     198.545178     205.661610     171.934918     157.625533     153.028942   \n",
       "74     188.023396     159.986882     155.747997     150.729349     133.765219   \n",
       "75     219.251373     199.869161     166.802975     159.476129     150.842401   \n",
       "76     242.687937     196.445302     178.850777     169.441686     162.100130   \n",
       "77     212.096148     158.555331     150.821311     139.199750     135.751638   \n",
       "78      79.103927      69.759995      69.608861      62.963294      62.457943   \n",
       "79     142.388049     124.640151     114.878003     107.149501     100.080810   \n",
       "80     153.105276     148.772810     150.213168     143.347841     138.926755   \n",
       "81     204.243353     178.297679     166.502604     160.105169     152.367812   \n",
       "82     225.210024     188.195573     180.993537     184.845828     175.390902   \n",
       "83     165.601028     156.892049     148.947812     142.257267     138.089138   \n",
       "84    1422.895438    1015.260056     786.668982     663.298890     578.907551   \n",
       "\n",
       "    best_power_10m  best_power_20m  best_power_30m  best_power_40m  \\\n",
       "35      119.668842       84.843034             NaN             NaN   \n",
       "36      171.888636      167.158304             NaN             NaN   \n",
       "37      104.086764             NaN             NaN             NaN   \n",
       "38      167.559876      118.617302             NaN             NaN   \n",
       "39      368.660927      239.987837             NaN             NaN   \n",
       "40      156.805545      136.527028      132.594269             NaN   \n",
       "41      151.515892      135.054522      108.776808             NaN   \n",
       "42      151.656405      130.062764             NaN             NaN   \n",
       "43      153.280256      131.925313             NaN             NaN   \n",
       "44       23.960822             NaN             NaN             NaN   \n",
       "45      177.402230             NaN             NaN             NaN   \n",
       "46      128.819968      113.930666      103.321223       92.389380   \n",
       "47      116.088938       92.316377       92.338840       87.080311   \n",
       "48      113.141126      101.028439       85.770473       81.129661   \n",
       "49      110.352223       88.685797       91.055299       85.057480   \n",
       "50      123.819794      100.665176       85.945107       80.512619   \n",
       "51       96.657370       70.645655             NaN             NaN   \n",
       "52      167.342438      153.785987      132.428478      113.835832   \n",
       "53      142.513938      130.809078      128.724365      124.516872   \n",
       "54      145.218199      136.721616      119.053977      107.963093   \n",
       "55      188.062625      180.675523      179.375974             NaN   \n",
       "56      160.236343      155.393708      145.590988             NaN   \n",
       "57      165.692678      158.460808      157.313160      149.247884   \n",
       "58      162.175870      155.035925      152.635455      147.800862   \n",
       "59      161.786095      147.406164      120.912228       91.425157   \n",
       "60      137.449079      114.079279       98.140487       96.528273   \n",
       "61       83.989099       71.681980             NaN             NaN   \n",
       "62      167.705249      151.131041      147.280420      144.377607   \n",
       "63      153.149844      140.139472      100.888126       92.368637   \n",
       "64      160.162204      150.926844      140.898121      131.937297   \n",
       "65      215.730247      191.886155      176.691049      172.484059   \n",
       "66      145.128708      136.449526      131.468673      129.165605   \n",
       "67      125.144886      104.905915       88.028632       82.581951   \n",
       "68      143.179183      133.932152      126.114615      111.718756   \n",
       "69      148.826554      131.792100      126.100150      120.531836   \n",
       "70       94.715752       86.875263       84.969960       73.200444   \n",
       "71      130.982731      122.748233      123.488940      118.306480   \n",
       "72      106.655962       94.358490       90.698001       87.647581   \n",
       "73      141.404426      129.006698      125.798169      122.088202   \n",
       "74      117.079625      105.137656      100.711262       95.488078   \n",
       "75      130.382415      118.666776      114.628614      103.221550   \n",
       "76      131.514159      114.950710      102.072083       94.471626   \n",
       "77      118.114825       88.321449       78.065144       81.569771   \n",
       "78       56.677909       49.038385       42.754810       39.201646   \n",
       "79      100.918837       84.695968       80.986328       76.946954   \n",
       "80      120.318610      108.034177       96.602769       89.040912   \n",
       "81      138.765531      124.986990      114.570697      108.803751   \n",
       "82      168.366021      149.607094      135.830200      104.339142   \n",
       "83      128.662023      106.956979      100.725846       93.947327   \n",
       "84      362.029977             NaN             NaN             NaN   \n",
       "\n",
       "    best_power_1h  best_power_2h  best_power_3h  best_power_4h  \n",
       "35            NaN            NaN            NaN            NaN  \n",
       "36            NaN            NaN            NaN            NaN  \n",
       "37            NaN            NaN            NaN            NaN  \n",
       "38            NaN            NaN            NaN            NaN  \n",
       "39            NaN            NaN            NaN            NaN  \n",
       "40            NaN            NaN            NaN            NaN  \n",
       "41            NaN            NaN            NaN            NaN  \n",
       "42            NaN            NaN            NaN            NaN  \n",
       "43            NaN            NaN            NaN            NaN  \n",
       "44            NaN            NaN            NaN            NaN  \n",
       "45            NaN            NaN            NaN            NaN  \n",
       "46            NaN            NaN            NaN            NaN  \n",
       "47            NaN            NaN            NaN            NaN  \n",
       "48      76.574177            NaN            NaN            NaN  \n",
       "49      76.458517            NaN            NaN            NaN  \n",
       "50            NaN            NaN            NaN            NaN  \n",
       "51            NaN            NaN            NaN            NaN  \n",
       "52     107.662383            NaN            NaN            NaN  \n",
       "53     117.253850     105.763140            NaN            NaN  \n",
       "54      77.894400      64.671311            NaN            NaN  \n",
       "55            NaN            NaN            NaN            NaN  \n",
       "56            NaN            NaN            NaN            NaN  \n",
       "57            NaN            NaN            NaN            NaN  \n",
       "58     139.304077     129.065168     120.603190            NaN  \n",
       "59      81.686008            NaN            NaN            NaN  \n",
       "60      90.496627            NaN            NaN            NaN  \n",
       "61            NaN            NaN            NaN            NaN  \n",
       "62     119.732331            NaN            NaN            NaN  \n",
       "63      81.876569            NaN            NaN            NaN  \n",
       "64     127.071752     106.585810      88.109897            NaN  \n",
       "65     160.376471            NaN            NaN            NaN  \n",
       "66     109.614239      87.752420      79.633679      77.736997  \n",
       "67            NaN            NaN            NaN            NaN  \n",
       "68     109.990929            NaN            NaN            NaN  \n",
       "69     114.729665     109.084121      97.258198      93.835000  \n",
       "70      75.857414            NaN            NaN            NaN  \n",
       "71     109.551674     102.231004      89.377118      87.791431  \n",
       "72      85.129643      77.059328      69.502677      69.703654  \n",
       "73      96.362930      84.163852      77.557302      73.943931  \n",
       "74      88.018636      78.886242      75.865077      67.945079  \n",
       "75      91.163787      74.247182      67.321420      53.932709  \n",
       "76      87.931443      75.476319      68.677988      64.309176  \n",
       "77      72.379041      65.034151      58.440497      50.912622  \n",
       "78            NaN            NaN            NaN            NaN  \n",
       "79            NaN            NaN            NaN            NaN  \n",
       "80      71.919467            NaN            NaN            NaN  \n",
       "81     105.537040      83.993799            NaN            NaN  \n",
       "82     110.465983            NaN            NaN            NaN  \n",
       "83            NaN            NaN            NaN            NaN  \n",
       "84            NaN            NaN            NaN            NaN  "
      ]
     },
     "execution_count": 6,
     "metadata": {},
     "output_type": "execute_result"
    }
   ],
   "source": [
    "df_watch_rides = df.loc[~df['avg_heart_rate'].isna(),:].reset_index(drop=True)\n",
    "df_watch_rides.tail(50)"
   ]
  },
  {
   "cell_type": "code",
   "execution_count": null,
   "id": "fa8b5621",
   "metadata": {},
   "outputs": [],
   "source": []
  },
  {
   "cell_type": "code",
   "execution_count": null,
   "id": "8ce3ad19",
   "metadata": {},
   "outputs": [],
   "source": []
  },
  {
   "cell_type": "code",
   "execution_count": 7,
   "id": "b1b0fe58",
   "metadata": {},
   "outputs": [],
   "source": [
    "df['ride_year'] = df['start_date'].dt.year\n",
    "df['ride_month'] = df['start_date'].dt.month\n",
    "df['ride_dow'] = df['start_date'].dt.day_name()"
   ]
  },
  {
   "cell_type": "code",
   "execution_count": 8,
   "id": "0f5e277e",
   "metadata": {},
   "outputs": [
    {
     "data": {
      "image/png": "[encoded data removed]",
      "text/plain": [
       "<Figure size 1200x300 with 2 Axes>"
      ]
     },
     "metadata": {},
     "output_type": "display_data"
    }
   ],
   "source": [
    "df_yearly_rides = df[['ride_year','total_distance_mi']].groupby('ride_year').count().rename(columns={'total_distance_mi':'ride_count'}).reset_index()\n",
    "df_yearly_miles = df[['ride_year','total_distance_mi']].groupby('ride_year').sum().rename(columns={'total_distance_mi':'yearly_ride_mileage'}).reset_index()\n",
    "\n",
    "fig, axes = plt.subplots(1,2, figsize=(12,3))\n",
    "_ = sns.barplot(df_yearly_rides, x='ride_year', y='ride_count', ax=axes[0])\n",
    "_ = sns.barplot(df_yearly_miles, x='ride_year', y='yearly_ride_mileage', ax=axes[1])\n",
    "_ = axes[0].set_xlabel('Year', fontsize=14)\n",
    "_ = axes[0].set_ylabel('Number of Rides', fontsize=14)\n",
    "_ = axes[0].set_title('Recorded Ride $Count$ by Year', fontsize=18)\n",
    "_ = axes[0].grid()\n",
    "_ = axes[0].set_axisbelow(True)\n",
    "_ = axes[1].set_xlabel('Year', fontsize=14)\n",
    "_ = axes[1].set_ylabel('Annual Mileage', fontsize=14)\n",
    "_ = axes[1].set_title('Recorded Ride $Mileage$ by Year', fontsize=18)\n",
    "_ = axes[1].grid()\n",
    "_ = axes[1].set_axisbelow(True)"
   ]
  },
  {
   "cell_type": "code",
   "execution_count": 9,
   "id": "c5bea8ed",
   "metadata": {},
   "outputs": [
    {
     "data": {
      "text/plain": [
       "4762.263833227133"
      ]
     },
     "execution_count": 9,
     "metadata": {},
     "output_type": "execute_result"
    }
   ],
   "source": [
    "df.total_distance_mi.sum()"
   ]
  },
  {
   "cell_type": "markdown",
   "id": "4a9f7882",
   "metadata": {},
   "source": [
    "## Ride Heatmap by Year"
   ]
  },
  {
   "cell_type": "code",
   "execution_count": 10,
   "id": "23104bf2",
   "metadata": {},
   "outputs": [],
   "source": [
    "def get_year_activity_data_by_weekday(df:pd.DataFrame, filt_year:int, agg_column:str='total_distance_mi', agg_method:str='sum') -> pd.DataFrame:\n",
    "    # Create an Aggregation of the selected column across the dates available from rides. Multiple rides can occur on a single day\n",
    "    df_filt_year = df.copy().loc[df['ride_year']==filt_year,:]\n",
    "    df_grouped = df_filt_year.groupby(['start_date','ride_dow'])[agg_column].agg(agg_method).reset_index()\n",
    "\n",
    "    # Create a list of ALL dates in which rides could be done for the year\n",
    "    all_year_dates = pd.DataFrame(pd.date_range(str(filt_year) + \"-01-01\", str(filt_year) + \"-12-31\", freq=\"D\"), columns=['ride_date'])\n",
    "    all_year_dates['day_of_week'] = all_year_dates['ride_date'].dt.day_name()\n",
    "    df_total_dates = all_year_dates.merge(df_grouped, how='left', left_on='ride_date', right_on='start_date').fillna(0.0)\n",
    "    #df_total_dates['ride_date'] = df_total_dates['ride_date'].dt.date\n",
    "\n",
    "    return df_total_dates\n",
    "\n",
    "    # Create a Pivot table for rides by date and dow\n",
    "    days_order = ['Monday', 'Tuesday', 'Wednesday', 'Thursday', 'Friday', 'Saturday', 'Sunday']\n",
    "    pivot_df = df_total_dates.pivot_table(index='ride_date', columns='day_of_week', values=agg_column, fill_value=0.0).reindex(columns=days_order)\n",
    "    pivot_df= pivot_df.rename(columns={full:short for full,short in zip(days_order, ['M','T','W','Th','F','Sa','Su'])})\n",
    "\n",
    "    pivot_df = pivot_df.reset_index()\n",
    "    return pivot_df\n"
   ]
  },
  {
   "cell_type": "code",
   "execution_count": 11,
   "id": "cd595c23",
   "metadata": {},
   "outputs": [],
   "source": [
    "df_activity_2020 = get_year_activity_data_by_weekday(df, filt_year=2020)\n",
    "df_activity_2021 = get_year_activity_data_by_weekday(df, filt_year=2021)\n",
    "df_activity_2022 = get_year_activity_data_by_weekday(df, filt_year=2022)\n",
    "df_activity_2023 = get_year_activity_data_by_weekday(df, filt_year=2023)\n",
    "df_activity_2024 = get_year_activity_data_by_weekday(df, filt_year=2024)"
   ]
  },
  {
   "cell_type": "code",
   "execution_count": 12,
   "id": "4703411d",
   "metadata": {},
   "outputs": [
    {
     "data": {
      "text/html": [
       "<div>\n",
       "<style scoped>\n",
       "    .dataframe tbody tr th:only-of-type {\n",
       "        vertical-align: middle;\n",
       "    }\n",
       "\n",
       "    .dataframe tbody tr th {\n",
       "        vertical-align: top;\n",
       "    }\n",
       "\n",
       "    .dataframe thead th {\n",
       "        text-align: right;\n",
       "    }\n",
       "</style>\n",
       "<table border=\"1\" class=\"dataframe\">\n",
       "  <thead>\n",
       "    <tr style=\"text-align: right;\">\n",
       "      <th></th>\n",
       "      <th>ride_date</th>\n",
       "      <th>day_of_week</th>\n",
       "      <th>start_date</th>\n",
       "      <th>ride_dow</th>\n",
       "      <th>total_distance_mi</th>\n",
       "    </tr>\n",
       "  </thead>\n",
       "  <tbody>\n",
       "    <tr>\n",
       "      <th>0</th>\n",
       "      <td>2020-01-01</td>\n",
       "      <td>Wednesday</td>\n",
       "      <td>0.0</td>\n",
       "      <td>0.0</td>\n",
       "      <td>0.000000</td>\n",
       "    </tr>\n",
       "    <tr>\n",
       "      <th>1</th>\n",
       "      <td>2020-01-02</td>\n",
       "      <td>Thursday</td>\n",
       "      <td>2020-01-02 00:00:00</td>\n",
       "      <td>Thursday</td>\n",
       "      <td>5.276248</td>\n",
       "    </tr>\n",
       "    <tr>\n",
       "      <th>2</th>\n",
       "      <td>2020-01-03</td>\n",
       "      <td>Friday</td>\n",
       "      <td>0.0</td>\n",
       "      <td>0.0</td>\n",
       "      <td>0.000000</td>\n",
       "    </tr>\n",
       "    <tr>\n",
       "      <th>3</th>\n",
       "      <td>2020-01-04</td>\n",
       "      <td>Saturday</td>\n",
       "      <td>0.0</td>\n",
       "      <td>0.0</td>\n",
       "      <td>0.000000</td>\n",
       "    </tr>\n",
       "    <tr>\n",
       "      <th>4</th>\n",
       "      <td>2020-01-05</td>\n",
       "      <td>Sunday</td>\n",
       "      <td>0.0</td>\n",
       "      <td>0.0</td>\n",
       "      <td>0.000000</td>\n",
       "    </tr>\n",
       "    <tr>\n",
       "      <th>...</th>\n",
       "      <td>...</td>\n",
       "      <td>...</td>\n",
       "      <td>...</td>\n",
       "      <td>...</td>\n",
       "      <td>...</td>\n",
       "    </tr>\n",
       "    <tr>\n",
       "      <th>361</th>\n",
       "      <td>2020-12-27</td>\n",
       "      <td>Sunday</td>\n",
       "      <td>0.0</td>\n",
       "      <td>0.0</td>\n",
       "      <td>0.000000</td>\n",
       "    </tr>\n",
       "    <tr>\n",
       "      <th>362</th>\n",
       "      <td>2020-12-28</td>\n",
       "      <td>Monday</td>\n",
       "      <td>0.0</td>\n",
       "      <td>0.0</td>\n",
       "      <td>0.000000</td>\n",
       "    </tr>\n",
       "    <tr>\n",
       "      <th>363</th>\n",
       "      <td>2020-12-29</td>\n",
       "      <td>Tuesday</td>\n",
       "      <td>2020-12-29 00:00:00</td>\n",
       "      <td>Tuesday</td>\n",
       "      <td>11.314947</td>\n",
       "    </tr>\n",
       "    <tr>\n",
       "      <th>364</th>\n",
       "      <td>2020-12-30</td>\n",
       "      <td>Wednesday</td>\n",
       "      <td>2020-12-30 00:00:00</td>\n",
       "      <td>Wednesday</td>\n",
       "      <td>9.745118</td>\n",
       "    </tr>\n",
       "    <tr>\n",
       "      <th>365</th>\n",
       "      <td>2020-12-31</td>\n",
       "      <td>Thursday</td>\n",
       "      <td>0.0</td>\n",
       "      <td>0.0</td>\n",
       "      <td>0.000000</td>\n",
       "    </tr>\n",
       "  </tbody>\n",
       "</table>\n",
       "<p>366 rows × 5 columns</p>\n",
       "</div>"
      ],
      "text/plain": [
       "     ride_date day_of_week           start_date   ride_dow  total_distance_mi\n",
       "0   2020-01-01   Wednesday                  0.0        0.0           0.000000\n",
       "1   2020-01-02    Thursday  2020-01-02 00:00:00   Thursday           5.276248\n",
       "2   2020-01-03      Friday                  0.0        0.0           0.000000\n",
       "3   2020-01-04    Saturday                  0.0        0.0           0.000000\n",
       "4   2020-01-05      Sunday                  0.0        0.0           0.000000\n",
       "..         ...         ...                  ...        ...                ...\n",
       "361 2020-12-27      Sunday                  0.0        0.0           0.000000\n",
       "362 2020-12-28      Monday                  0.0        0.0           0.000000\n",
       "363 2020-12-29     Tuesday  2020-12-29 00:00:00    Tuesday          11.314947\n",
       "364 2020-12-30   Wednesday  2020-12-30 00:00:00  Wednesday           9.745118\n",
       "365 2020-12-31    Thursday                  0.0        0.0           0.000000\n",
       "\n",
       "[366 rows x 5 columns]"
      ]
     },
     "execution_count": 12,
     "metadata": {},
     "output_type": "execute_result"
    }
   ],
   "source": [
    "df_activity_2020"
   ]
  },
  {
   "cell_type": "code",
   "execution_count": 13,
   "id": "e21beabb",
   "metadata": {},
   "outputs": [],
   "source": [
    "# cmap = plt.get_cmap('YlGn',10)\n",
    "# cmap.set_under('grey')#Colour values less than vmin in grey\n",
    "# cmap.set_over('green')# colour valued larger than vmax in green \n",
    "\n",
    "# _ = plt.figure(figsize=(10, 1.5))\n",
    "# _ = sns.heatmap(df_activity_2024.set_index('ride_date').T, cmap=cmap, linewidths=0.0, linecolor='black', square=False, annot=False, cbar=False, vmin=0.005, vmax=50.0)\n",
    "# _ = plt.title('Bike Ride Activity')\n",
    "# _ = plt.xlabel('')\n",
    "# _ = plt.ylabel('')"
   ]
  },
  {
   "cell_type": "code",
   "execution_count": 14,
   "id": "84f83f27",
   "metadata": {},
   "outputs": [],
   "source": [
    "# pip install plotly-caplot \n",
    "# note: this could cause some package conflicts with numpy (previously 2.2.5) and pytz (previously  2025.2). \n",
    "# I made need to uninstall calplot to continue working as normal since calplot relies on older versions than described above\n",
    "# ref: https://www.youtube.com/watch?v=U4gjFYvQafo\n",
    "from plotly_calplot import calplot\n",
    "# Also I need to install nbformat>=4.2.0"
   ]
  },
  {
   "cell_type": "code",
   "execution_count": 15,
   "id": "916f8c49",
   "metadata": {},
   "outputs": [
    {
     "data": {
      "text/plain": [
       "['#f9fdc5',\n",
       " '#eaf7af',\n",
       " '#d2eda0',\n",
       " '#b1df90',\n",
       " '#8bce81',\n",
       " '#64bc6f',\n",
       " '#3fa85b',\n",
       " '#288a47',\n",
       " '#10743c',\n",
       " '#005e33']"
      ]
     },
     "execution_count": 15,
     "metadata": {},
     "output_type": "execute_result"
    }
   ],
   "source": [
    "cmap = plt.get_cmap('YlGn',10)\n",
    "list(sns.color_palette('YlGn',n_colors=10).as_hex())"
   ]
  },
  {
   "cell_type": "code",
   "execution_count": 16,
   "id": "341d91cd",
   "metadata": {},
   "outputs": [
    {
     "data": {
      "application/vnd.plotly.v1+json": {
       "config": {
        "plotlyServerURL": "https://plot.ly"
       },
       "data": [
        {
         "colorscale": [
          [
           0,
           "#888888"
          ],
          [
           0.1111111111111111,
           "#eaf7af"
          ],
          [
           0.2222222222222222,
           "#d2eda0"
          ],
          [
           0.3333333333333333,
           "#b1df90"
          ],
          [
           0.4444444444444444,
           "#8bce81"
          ],
          [
           0.5555555555555556,
           "#64bc6f"
          ],
          [
           0.6666666666666666,
           "#3fa85b"
          ],
          [
           0.7777777777777777,
           "#288a47"
          ],
          [
           0.8888888888888888,
           "#10743c"
          ],
          [
           1,
           "#005e33"
          ]
         ],
         "customdata": [
          [
           "2024-01-01",
           "y"
          ],
          [
           "2024-01-02",
           "y"
          ],
          [
           "2024-01-03",
           "y"
          ],
          [
           "2024-01-04",
           "y"
          ],
          [
           "2024-01-05",
           "y"
          ],
          [
           "2024-01-06",
           "y"
          ],
          [
           "2024-01-07",
           "y"
          ],
          [
           "2024-01-08",
           "y"
          ],
          [
           "2024-01-09",
           "y"
          ],
          [
           "2024-01-10",
           "y"
          ],
          [
           "2024-01-11",
           "y"
          ],
          [
           "2024-01-12",
           "y"
          ],
          [
           "2024-01-13",
           "y"
          ],
          [
           "2024-01-14",
           "y"
          ],
          [
           "2024-01-15",
           "y"
          ],
          [
           "2024-01-16",
           "y"
          ],
          [
           "2024-01-17",
           "y"
          ],
          [
           "2024-01-18",
           "y"
          ],
          [
           "2024-01-19",
           "y"
          ],
          [
           "2024-01-20",
           "y"
          ],
          [
           "2024-01-21",
           "y"
          ],
          [
           "2024-01-22",
           "y"
          ],
          [
           "2024-01-23",
           "y"
          ],
          [
           "2024-01-24",
           "y"
          ],
          [
           "2024-01-25",
           "y"
          ],
          [
           "2024-01-26",
           "y"
          ],
          [
           "2024-01-27",
           "y"
          ],
          [
           "2024-01-28",
           "y"
          ],
          [
           "2024-01-29",
           "y"
          ],
          [
           "2024-01-30",
           "y"
          ],
          [
           "2024-01-31",
           "y"
          ],
          [
           "2024-02-01",
           "y"
          ],
          [
           "2024-02-02",
           "y"
          ],
          [
           "2024-02-03",
           "y"
          ],
          [
           "2024-02-04",
           "y"
          ],
          [
           "2024-02-05",
           "y"
          ],
          [
           "2024-02-06",
           "y"
          ],
          [
           "2024-02-07",
           "y"
          ],
          [
           "2024-02-08",
           "y"
          ],
          [
           "2024-02-09",
           "y"
          ],
          [
           "2024-02-10",
           "y"
          ],
          [
           "2024-02-11",
           "y"
          ],
          [
           "2024-02-12",
           "y"
          ],
          [
           "2024-02-13",
           "y"
          ],
          [
           "2024-02-14",
           "y"
          ],
          [
           "2024-02-15",
           "y"
          ],
          [
           "2024-02-16",
           "y"
          ],
          [
           "2024-02-17",
           "y"
          ],
          [
           "2024-02-18",
           "y"
          ],
          [
           "2024-02-19",
           "y"
          ],
          [
           "2024-02-20",
           "y"
          ],
          [
           "2024-02-21",
           "y"
          ],
          [
           "2024-02-22",
           "y"
          ],
          [
           "2024-02-23",
           "y"
          ],
          [
           "2024-02-24",
           "y"
          ],
          [
           "2024-02-25",
           "y"
          ],
          [
           "2024-02-26",
           "y"
          ],
          [
           "2024-02-27",
           "y"
          ],
          [
           "2024-02-28",
           "y"
          ],
          [
           "2024-02-29",
           "y"
          ],
          [
           "2024-03-01",
           "y"
          ],
          [
           "2024-03-02",
           "y"
          ],
          [
           "2024-03-03",
           "y"
          ],
          [
           "2024-03-04",
           "y"
          ],
          [
           "2024-03-05",
           "y"
          ],
          [
           "2024-03-06",
           "y"
          ],
          [
           "2024-03-07",
           "y"
          ],
          [
           "2024-03-08",
           "y"
          ],
          [
           "2024-03-09",
           "y"
          ],
          [
           "2024-03-10",
           "y"
          ],
          [
           "2024-03-11",
           "y"
          ],
          [
           "2024-03-12",
           "y"
          ],
          [
           "2024-03-13",
           "y"
          ],
          [
           "2024-03-14",
           "y"
          ],
          [
           "2024-03-15",
           "y"
          ],
          [
           "2024-03-16",
           "y"
          ],
          [
           "2024-03-17",
           "y"
          ],
          [
           "2024-03-18",
           "y"
          ],
          [
           "2024-03-19",
           "y"
          ],
          [
           "2024-03-20",
           "y"
          ],
          [
           "2024-03-21",
           "y"
          ],
          [
           "2024-03-22",
           "y"
          ],
          [
           "2024-03-23",
           "y"
          ],
          [
           "2024-03-24",
           "y"
          ],
          [
           "2024-03-25",
           "y"
          ],
          [
           "2024-03-26",
           "y"
          ],
          [
           "2024-03-27",
           "y"
          ],
          [
           "2024-03-28",
           "y"
          ],
          [
           "2024-03-29",
           "y"
          ],
          [
           "2024-03-30",
           "y"
          ],
          [
           "2024-03-31",
           "y"
          ],
          [
           "2024-04-01",
           "y"
          ],
          [
           "2024-04-02",
           "y"
          ],
          [
           "2024-04-03",
           "y"
          ],
          [
           "2024-04-04",
           "y"
          ],
          [
           "2024-04-05",
           "y"
          ],
          [
           "2024-04-06",
           "y"
          ],
          [
           "2024-04-07",
           "y"
          ],
          [
           "2024-04-08",
           "y"
          ],
          [
           "2024-04-09",
           "y"
          ],
          [
           "2024-04-10",
           "y"
          ],
          [
           "2024-04-11",
           "y"
          ],
          [
           "2024-04-12",
           "y"
          ],
          [
           "2024-04-13",
           "y"
          ],
          [
           "2024-04-14",
           "y"
          ],
          [
           "2024-04-15",
           "y"
          ],
          [
           "2024-04-16",
           "y"
          ],
          [
           "2024-04-17",
           "y"
          ],
          [
           "2024-04-18",
           "y"
          ],
          [
           "2024-04-19",
           "y"
          ],
          [
           "2024-04-20",
           "y"
          ],
          [
           "2024-04-21",
           "y"
          ],
          [
           "2024-04-22",
           "y"
          ],
          [
           "2024-04-23",
           "y"
          ],
          [
           "2024-04-24",
           "y"
          ],
          [
           "2024-04-25",
           "y"
          ],
          [
           "2024-04-26",
           "y"
          ],
          [
           "2024-04-27",
           "y"
          ],
          [
           "2024-04-28",
           "y"
          ],
          [
           "2024-04-29",
           "y"
          ],
          [
           "2024-04-30",
           "y"
          ],
          [
           "2024-05-01",
           "y"
          ],
          [
           "2024-05-02",
           "y"
          ],
          [
           "2024-05-03",
           "y"
          ],
          [
           "2024-05-04",
           "y"
          ],
          [
           "2024-05-05",
           "y"
          ],
          [
           "2024-05-06",
           "y"
          ],
          [
           "2024-05-07",
           "y"
          ],
          [
           "2024-05-08",
           "y"
          ],
          [
           "2024-05-09",
           "y"
          ],
          [
           "2024-05-10",
           "y"
          ],
          [
           "2024-05-11",
           "y"
          ],
          [
           "2024-05-12",
           "y"
          ],
          [
           "2024-05-13",
           "y"
          ],
          [
           "2024-05-14",
           "y"
          ],
          [
           "2024-05-15",
           "y"
          ],
          [
           "2024-05-16",
           "y"
          ],
          [
           "2024-05-17",
           "y"
          ],
          [
           "2024-05-18",
           "y"
          ],
          [
           "2024-05-19",
           "y"
          ],
          [
           "2024-05-20",
           "y"
          ],
          [
           "2024-05-21",
           "y"
          ],
          [
           "2024-05-22",
           "y"
          ],
          [
           "2024-05-23",
           "y"
          ],
          [
           "2024-05-24",
           "y"
          ],
          [
           "2024-05-25",
           "y"
          ],
          [
           "2024-05-26",
           "y"
          ],
          [
           "2024-05-27",
           "y"
          ],
          [
           "2024-05-28",
           "y"
          ],
          [
           "2024-05-29",
           "y"
          ],
          [
           "2024-05-30",
           "y"
          ],
          [
           "2024-05-31",
           "y"
          ],
          [
           "2024-06-01",
           "y"
          ],
          [
           "2024-06-02",
           "y"
          ],
          [
           "2024-06-03",
           "y"
          ],
          [
           "2024-06-04",
           "y"
          ],
          [
           "2024-06-05",
           "y"
          ],
          [
           "2024-06-06",
           "y"
          ],
          [
           "2024-06-07",
           "y"
          ],
          [
           "2024-06-08",
           "y"
          ],
          [
           "2024-06-09",
           "y"
          ],
          [
           "2024-06-10",
           "y"
          ],
          [
           "2024-06-11",
           "y"
          ],
          [
           "2024-06-12",
           "y"
          ],
          [
           "2024-06-13",
           "y"
          ],
          [
           "2024-06-14",
           "y"
          ],
          [
           "2024-06-15",
           "y"
          ],
          [
           "2024-06-16",
           "y"
          ],
          [
           "2024-06-17",
           "y"
          ],
          [
           "2024-06-18",
           "y"
          ],
          [
           "2024-06-19",
           "y"
          ],
          [
           "2024-06-20",
           "y"
          ],
          [
           "2024-06-21",
           "y"
          ],
          [
           "2024-06-22",
           "y"
          ],
          [
           "2024-06-23",
           "y"
          ],
          [
           "2024-06-24",
           "y"
          ],
          [
           "2024-06-25",
           "y"
          ],
          [
           "2024-06-26",
           "y"
          ],
          [
           "2024-06-27",
           "y"
          ],
          [
           "2024-06-28",
           "y"
          ],
          [
           "2024-06-29",
           "y"
          ],
          [
           "2024-06-30",
           "y"
          ],
          [
           "2024-07-01",
           "y"
          ],
          [
           "2024-07-02",
           "y"
          ],
          [
           "2024-07-03",
           "y"
          ],
          [
           "2024-07-04",
           "y"
          ],
          [
           "2024-07-05",
           "y"
          ],
          [
           "2024-07-06",
           "y"
          ],
          [
           "2024-07-07",
           "y"
          ],
          [
           "2024-07-08",
           "y"
          ],
          [
           "2024-07-09",
           "y"
          ],
          [
           "2024-07-10",
           "y"
          ],
          [
           "2024-07-11",
           "y"
          ],
          [
           "2024-07-12",
           "y"
          ],
          [
           "2024-07-13",
           "y"
          ],
          [
           "2024-07-14",
           "y"
          ],
          [
           "2024-07-15",
           "y"
          ],
          [
           "2024-07-16",
           "y"
          ],
          [
           "2024-07-17",
           "y"
          ],
          [
           "2024-07-18",
           "y"
          ],
          [
           "2024-07-19",
           "y"
          ],
          [
           "2024-07-20",
           "y"
          ],
          [
           "2024-07-21",
           "y"
          ],
          [
           "2024-07-22",
           "y"
          ],
          [
           "2024-07-23",
           "y"
          ],
          [
           "2024-07-24",
           "y"
          ],
          [
           "2024-07-25",
           "y"
          ],
          [
           "2024-07-26",
           "y"
          ],
          [
           "2024-07-27",
           "y"
          ],
          [
           "2024-07-28",
           "y"
          ],
          [
           "2024-07-29",
           "y"
          ],
          [
           "2024-07-30",
           "y"
          ],
          [
           "2024-07-31",
           "y"
          ],
          [
           "2024-08-01",
           "y"
          ],
          [
           "2024-08-02",
           "y"
          ],
          [
           "2024-08-03",
           "y"
          ],
          [
           "2024-08-04",
           "y"
          ],
          [
           "2024-08-05",
           "y"
          ],
          [
           "2024-08-06",
           "y"
          ],
          [
           "2024-08-07",
           "y"
          ],
          [
           "2024-08-08",
           "y"
          ],
          [
           "2024-08-09",
           "y"
          ],
          [
           "2024-08-10",
           "y"
          ],
          [
           "2024-08-11",
           "y"
          ],
          [
           "2024-08-12",
           "y"
          ],
          [
           "2024-08-13",
           "y"
          ],
          [
           "2024-08-14",
           "y"
          ],
          [
           "2024-08-15",
           "y"
          ],
          [
           "2024-08-16",
           "y"
          ],
          [
           "2024-08-17",
           "y"
          ],
          [
           "2024-08-18",
           "y"
          ],
          [
           "2024-08-19",
           "y"
          ],
          [
           "2024-08-20",
           "y"
          ],
          [
           "2024-08-21",
           "y"
          ],
          [
           "2024-08-22",
           "y"
          ],
          [
           "2024-08-23",
           "y"
          ],
          [
           "2024-08-24",
           "y"
          ],
          [
           "2024-08-25",
           "y"
          ],
          [
           "2024-08-26",
           "y"
          ],
          [
           "2024-08-27",
           "y"
          ],
          [
           "2024-08-28",
           "y"
          ],
          [
           "2024-08-29",
           "y"
          ],
          [
           "2024-08-30",
           "y"
          ],
          [
           "2024-08-31",
           "y"
          ],
          [
           "2024-09-01",
           "y"
          ],
          [
           "2024-09-02",
           "y"
          ],
          [
           "2024-09-03",
           "y"
          ],
          [
           "2024-09-04",
           "y"
          ],
          [
           "2024-09-05",
           "y"
          ],
          [
           "2024-09-06",
           "y"
          ],
          [
           "2024-09-07",
           "y"
          ],
          [
           "2024-09-08",
           "y"
          ],
          [
           "2024-09-09",
           "y"
          ],
          [
           "2024-09-10",
           "y"
          ],
          [
           "2024-09-11",
           "y"
          ],
          [
           "2024-09-12",
           "y"
          ],
          [
           "2024-09-13",
           "y"
          ],
          [
           "2024-09-14",
           "y"
          ],
          [
           "2024-09-15",
           "y"
          ],
          [
           "2024-09-16",
           "y"
          ],
          [
           "2024-09-17",
           "y"
          ],
          [
           "2024-09-18",
           "y"
          ],
          [
           "2024-09-19",
           "y"
          ],
          [
           "2024-09-20",
           "y"
          ],
          [
           "2024-09-21",
           "y"
          ],
          [
           "2024-09-22",
           "y"
          ],
          [
           "2024-09-23",
           "y"
          ],
          [
           "2024-09-24",
           "y"
          ],
          [
           "2024-09-25",
           "y"
          ],
          [
           "2024-09-26",
           "y"
          ],
          [
           "2024-09-27",
           "y"
          ],
          [
           "2024-09-28",
           "y"
          ],
          [
           "2024-09-29",
           "y"
          ],
          [
           "2024-09-30",
           "y"
          ],
          [
           "2024-10-01",
           "y"
          ],
          [
           "2024-10-02",
           "y"
          ],
          [
           "2024-10-03",
           "y"
          ],
          [
           "2024-10-04",
           "y"
          ],
          [
           "2024-10-05",
           "y"
          ],
          [
           "2024-10-06",
           "y"
          ],
          [
           "2024-10-07",
           "y"
          ],
          [
           "2024-10-08",
           "y"
          ],
          [
           "2024-10-09",
           "y"
          ],
          [
           "2024-10-10",
           "y"
          ],
          [
           "2024-10-11",
           "y"
          ],
          [
           "2024-10-12",
           "y"
          ],
          [
           "2024-10-13",
           "y"
          ],
          [
           "2024-10-14",
           "y"
          ],
          [
           "2024-10-15",
           "y"
          ],
          [
           "2024-10-16",
           "y"
          ],
          [
           "2024-10-17",
           "y"
          ],
          [
           "2024-10-18",
           "y"
          ],
          [
           "2024-10-19",
           "y"
          ],
          [
           "2024-10-20",
           "y"
          ],
          [
           "2024-10-21",
           "y"
          ],
          [
           "2024-10-22",
           "y"
          ],
          [
           "2024-10-23",
           "y"
          ],
          [
           "2024-10-24",
           "y"
          ],
          [
           "2024-10-25",
           "y"
          ],
          [
           "2024-10-26",
           "y"
          ],
          [
           "2024-10-27",
           "y"
          ],
          [
           "2024-10-28",
           "y"
          ],
          [
           "2024-10-29",
           "y"
          ],
          [
           "2024-10-30",
           "y"
          ],
          [
           "2024-10-31",
           "y"
          ],
          [
           "2024-11-01",
           "y"
          ],
          [
           "2024-11-02",
           "y"
          ],
          [
           "2024-11-03",
           "y"
          ],
          [
           "2024-11-04",
           "y"
          ],
          [
           "2024-11-05",
           "y"
          ],
          [
           "2024-11-06",
           "y"
          ],
          [
           "2024-11-07",
           "y"
          ],
          [
           "2024-11-08",
           "y"
          ],
          [
           "2024-11-09",
           "y"
          ],
          [
           "2024-11-10",
           "y"
          ],
          [
           "2024-11-11",
           "y"
          ],
          [
           "2024-11-12",
           "y"
          ],
          [
           "2024-11-13",
           "y"
          ],
          [
           "2024-11-14",
           "y"
          ],
          [
           "2024-11-15",
           "y"
          ],
          [
           "2024-11-16",
           "y"
          ],
          [
           "2024-11-17",
           "y"
          ],
          [
           "2024-11-18",
           "y"
          ],
          [
           "2024-11-19",
           "y"
          ],
          [
           "2024-11-20",
           "y"
          ],
          [
           "2024-11-21",
           "y"
          ],
          [
           "2024-11-22",
           "y"
          ],
          [
           "2024-11-23",
           "y"
          ],
          [
           "2024-11-24",
           "y"
          ],
          [
           "2024-11-25",
           "y"
          ],
          [
           "2024-11-26",
           "y"
          ],
          [
           "2024-11-27",
           "y"
          ],
          [
           "2024-11-28",
           "y"
          ],
          [
           "2024-11-29",
           "y"
          ],
          [
           "2024-11-30",
           "y"
          ],
          [
           "2024-12-01",
           "y"
          ],
          [
           "2024-12-02",
           "y"
          ],
          [
           "2024-12-03",
           "y"
          ],
          [
           "2024-12-04",
           "y"
          ],
          [
           "2024-12-05",
           "y"
          ],
          [
           "2024-12-06",
           "y"
          ],
          [
           "2024-12-07",
           "y"
          ],
          [
           "2024-12-08",
           "y"
          ],
          [
           "2024-12-09",
           "y"
          ],
          [
           "2024-12-10",
           "y"
          ],
          [
           "2024-12-11",
           "y"
          ],
          [
           "2024-12-12",
           "y"
          ],
          [
           "2024-12-13",
           "y"
          ],
          [
           "2024-12-14",
           "y"
          ],
          [
           "2024-12-15",
           "y"
          ],
          [
           "2024-12-16",
           "y"
          ],
          [
           "2024-12-17",
           "y"
          ],
          [
           "2024-12-18",
           "y"
          ],
          [
           "2024-12-19",
           "y"
          ],
          [
           "2024-12-20",
           "y"
          ],
          [
           "2024-12-21",
           "y"
          ],
          [
           "2024-12-22",
           "y"
          ],
          [
           "2024-12-23",
           "y"
          ],
          [
           "2024-12-24",
           "y"
          ],
          [
           "2024-12-25",
           "y"
          ],
          [
           "2024-12-26",
           "y"
          ],
          [
           "2024-12-27",
           "y"
          ],
          [
           "2024-12-28",
           "y"
          ],
          [
           "2024-12-29",
           "y"
          ],
          [
           "2024-12-30",
           "y"
          ],
          [
           "2024-12-31",
           "y"
          ]
         ],
         "hovertemplate": "%{customdata[0]} <br>Week=%{x} <br>%{customdata[1]}=%{z}",
         "name": "2024",
         "showscale": true,
         "type": "heatmap",
         "x": [
          1,
          1,
          1,
          1,
          1,
          1,
          1,
          2,
          2,
          2,
          2,
          2,
          2,
          2,
          3,
          3,
          3,
          3,
          3,
          3,
          3,
          4,
          4,
          4,
          4,
          4,
          4,
          4,
          5,
          5,
          5,
          5,
          5,
          5,
          5,
          6,
          6,
          6,
          6,
          6,
          6,
          6,
          7,
          7,
          7,
          7,
          7,
          7,
          7,
          8,
          8,
          8,
          8,
          8,
          8,
          8,
          9,
          9,
          9,
          9,
          9,
          9,
          9,
          10,
          10,
          10,
          10,
          10,
          10,
          10,
          11,
          11,
          11,
          11,
          11,
          11,
          11,
          12,
          12,
          12,
          12,
          12,
          12,
          12,
          13,
          13,
          13,
          13,
          13,
          13,
          13,
          14,
          14,
          14,
          14,
          14,
          14,
          14,
          15,
          15,
          15,
          15,
          15,
          15,
          15,
          16,
          16,
          16,
          16,
          16,
          16,
          16,
          17,
          17,
          17,
          17,
          17,
          17,
          17,
          18,
          18,
          18,
          18,
          18,
          18,
          18,
          19,
          19,
          19,
          19,
          19,
          19,
          19,
          20,
          20,
          20,
          20,
          20,
          20,
          20,
          21,
          21,
          21,
          21,
          21,
          21,
          21,
          22,
          22,
          22,
          22,
          22,
          22,
          22,
          23,
          23,
          23,
          23,
          23,
          23,
          23,
          24,
          24,
          24,
          24,
          24,
          24,
          24,
          25,
          25,
          25,
          25,
          25,
          25,
          25,
          26,
          26,
          26,
          26,
          26,
          26,
          26,
          27,
          27,
          27,
          27,
          27,
          27,
          27,
          28,
          28,
          28,
          28,
          28,
          28,
          28,
          29,
          29,
          29,
          29,
          29,
          29,
          29,
          30,
          30,
          30,
          30,
          30,
          30,
          30,
          31,
          31,
          31,
          31,
          31,
          31,
          31,
          32,
          32,
          32,
          32,
          32,
          32,
          32,
          33,
          33,
          33,
          33,
          33,
          33,
          33,
          34,
          34,
          34,
          34,
          34,
          34,
          34,
          35,
          35,
          35,
          35,
          35,
          35,
          35,
          36,
          36,
          36,
          36,
          36,
          36,
          36,
          37,
          37,
          37,
          37,
          37,
          37,
          37,
          38,
          38,
          38,
          38,
          38,
          38,
          38,
          39,
          39,
          39,
          39,
          39,
          39,
          39,
          40,
          40,
          40,
          40,
          40,
          40,
          40,
          41,
          41,
          41,
          41,
          41,
          41,
          41,
          42,
          42,
          42,
          42,
          42,
          42,
          42,
          43,
          43,
          43,
          43,
          43,
          43,
          43,
          44,
          44,
          44,
          44,
          44,
          44,
          44,
          45,
          45,
          45,
          45,
          45,
          45,
          45,
          46,
          46,
          46,
          46,
          46,
          46,
          46,
          47,
          47,
          47,
          47,
          47,
          47,
          47,
          48,
          48,
          48,
          48,
          48,
          48,
          48,
          49,
          49,
          49,
          49,
          49,
          49,
          49,
          50,
          50,
          50,
          50,
          50,
          50,
          50,
          51,
          51,
          51,
          51,
          51,
          51,
          51,
          52,
          52,
          52,
          52,
          52,
          52,
          52,
          53,
          53
         ],
         "xaxis": "x",
         "xgap": 1,
         "y": [
          0,
          1,
          2,
          3,
          4,
          5,
          6,
          0,
          1,
          2,
          3,
          4,
          5,
          6,
          0,
          1,
          2,
          3,
          4,
          5,
          6,
          0,
          1,
          2,
          3,
          4,
          5,
          6,
          0,
          1,
          2,
          3,
          4,
          5,
          6,
          0,
          1,
          2,
          3,
          4,
          5,
          6,
          0,
          1,
          2,
          3,
          4,
          5,
          6,
          0,
          1,
          2,
          3,
          4,
          5,
          6,
          0,
          1,
          2,
          3,
          4,
          5,
          6,
          0,
          1,
          2,
          3,
          4,
          5,
          6,
          0,
          1,
          2,
          3,
          4,
          5,
          6,
          0,
          1,
          2,
          3,
          4,
          5,
          6,
          0,
          1,
          2,
          3,
          4,
          5,
          6,
          0,
          1,
          2,
          3,
          4,
          5,
          6,
          0,
          1,
          2,
          3,
          4,
          5,
          6,
          0,
          1,
          2,
          3,
          4,
          5,
          6,
          0,
          1,
          2,
          3,
          4,
          5,
          6,
          0,
          1,
          2,
          3,
          4,
          5,
          6,
          0,
          1,
          2,
          3,
          4,
          5,
          6,
          0,
          1,
          2,
          3,
          4,
          5,
          6,
          0,
          1,
          2,
          3,
          4,
          5,
          6,
          0,
          1,
          2,
          3,
          4,
          5,
          6,
          0,
          1,
          2,
          3,
          4,
          5,
          6,
          0,
          1,
          2,
          3,
          4,
          5,
          6,
          0,
          1,
          2,
          3,
          4,
          5,
          6,
          0,
          1,
          2,
          3,
          4,
          5,
          6,
          0,
          1,
          2,
          3,
          4,
          5,
          6,
          0,
          1,
          2,
          3,
          4,
          5,
          6,
          0,
          1,
          2,
          3,
          4,
          5,
          6,
          0,
          1,
          2,
          3,
          4,
          5,
          6,
          0,
          1,
          2,
          3,
          4,
          5,
          6,
          0,
          1,
          2,
          3,
          4,
          5,
          6,
          0,
          1,
          2,
          3,
          4,
          5,
          6,
          0,
          1,
          2,
          3,
          4,
          5,
          6,
          0,
          1,
          2,
          3,
          4,
          5,
          6,
          0,
          1,
          2,
          3,
          4,
          5,
          6,
          0,
          1,
          2,
          3,
          4,
          5,
          6,
          0,
          1,
          2,
          3,
          4,
          5,
          6,
          0,
          1,
          2,
          3,
          4,
          5,
          6,
          0,
          1,
          2,
          3,
          4,
          5,
          6,
          0,
          1,
          2,
          3,
          4,
          5,
          6,
          0,
          1,
          2,
          3,
          4,
          5,
          6,
          0,
          1,
          2,
          3,
          4,
          5,
          6,
          0,
          1,
          2,
          3,
          4,
          5,
          6,
          0,
          1,
          2,
          3,
          4,
          5,
          6,
          0,
          1,
          2,
          3,
          4,
          5,
          6,
          0,
          1,
          2,
          3,
          4,
          5,
          6,
          0,
          1,
          2,
          3,
          4,
          5,
          6,
          0,
          1,
          2,
          3,
          4,
          5,
          6,
          0,
          1,
          2,
          3,
          4,
          5,
          6,
          0,
          1,
          2,
          3,
          4,
          5,
          6,
          0,
          1,
          2,
          3,
          4,
          5,
          6,
          0,
          1
         ],
         "yaxis": "y",
         "ygap": 1,
         "z": [
          0,
          0,
          0,
          0,
          0,
          0,
          0,
          0,
          0,
          0,
          0,
          0,
          0,
          0,
          0,
          0,
          0,
          0,
          0,
          0,
          0,
          0,
          0,
          0,
          0,
          0,
          0,
          0,
          0,
          0,
          0,
          0,
          0,
          0,
          8.458263921286937,
          0,
          0,
          0,
          0,
          0,
          0,
          0,
          0,
          6.83480402451221,
          0,
          0,
          0,
          0,
          0,
          0,
          0,
          0,
          0,
          0,
          0,
          0,
          0,
          0,
          0,
          0,
          0,
          0,
          0,
          0,
          0,
          0,
          0,
          0,
          0,
          0,
          0,
          0,
          0,
          0,
          0,
          0,
          0,
          0,
          0,
          0,
          0,
          0,
          0,
          0,
          0,
          0,
          0,
          0,
          0,
          0,
          0,
          0,
          0,
          0,
          0,
          0,
          0,
          0,
          0,
          0,
          0,
          0,
          0,
          0,
          2.148721506592486,
          0,
          0,
          12.22523231690288,
          0,
          0,
          0,
          0,
          0,
          0,
          0,
          0,
          0,
          0,
          0,
          0,
          0,
          0,
          0,
          0,
          0,
          0,
          0,
          35.946595173075714,
          7.47119885365414,
          0,
          0,
          0,
          0,
          0,
          0,
          13.192520125539428,
          0,
          15.286096338048187,
          0,
          0,
          0,
          0,
          0,
          0,
          0,
          0,
          3.707278875450112,
          0,
          0,
          8.791491226629688,
          0,
          0,
          0,
          0,
          0,
          0,
          0,
          0,
          0,
          0,
          0,
          0,
          0,
          0,
          0,
          0,
          0,
          0,
          4.9382201516808015,
          12.11765996202836,
          1.1154984907342445,
          7.329778884157698,
          0,
          0,
          20.942177878102125,
          0,
          0,
          0,
          0,
          0,
          0,
          0,
          0,
          10.938850324607843,
          0,
          0,
          13.319929488399785,
          21.318884474590966,
          0,
          0,
          0,
          15.336854791551378,
          0,
          0,
          0,
          0,
          0,
          0,
          0,
          0,
          0,
          0,
          3.1982399390313683,
          0,
          14.046111152680902,
          9.82258080064708,
          0,
          13.070152763500884,
          12.946799258677146,
          18.69398243751036,
          0,
          20.80199721506432,
          0,
          0,
          14.410919057148623,
          0,
          40.08772605487004,
          0,
          12.253029009605896,
          0,
          0,
          10.929590967087536,
          10.878083752711234,
          46.29917869969072,
          0,
          0,
          14.791305322114418,
          10.539232928984973,
          0,
          50.15502506687153,
          0,
          0,
          0,
          0,
          0,
          9.50433064696488,
          41.27295606842247,
          0,
          0,
          21.286734447553112,
          0,
          12.30979378514326,
          0,
          0,
          0,
          0,
          0,
          0,
          14.322306692308182,
          3.595519411057647,
          24.84276138368703,
          49.312250716796896,
          0,
          16.652624338216494,
          0,
          0,
          0,
          0,
          55.05083268517453,
          0,
          1.772641394426855,
          0,
          11.101370442672568,
          14.649613405933374,
          0,
          60.34466066823106,
          0,
          0,
          0,
          12.533328083083845,
          0,
          0,
          0,
          0,
          71.35542799993493,
          0,
          0,
          0,
          0,
          0,
          0,
          0,
          0,
          0,
          63.397110775858906,
          64.0872853391604,
          50.055952052011776,
          51.39297400238321,
          69.34708834005495,
          42.58211027391185,
          0,
          14.246021857644994,
          0,
          0,
          0,
          0,
          0,
          0,
          0,
          0,
          0,
          0,
          0,
          0,
          0,
          0,
          0,
          0,
          0,
          0,
          0,
          0,
          0,
          0,
          0,
          0,
          0,
          0,
          0,
          0,
          0,
          0,
          0,
          0,
          0,
          0,
          0,
          0,
          0,
          0,
          0,
          0,
          0,
          0,
          0,
          0,
          0,
          0,
          0,
          0,
          0,
          0,
          0,
          0,
          0,
          0,
          0,
          0,
          0,
          0,
          0,
          0,
          0,
          0,
          0,
          0,
          0,
          0,
          0,
          0,
          0,
          0,
          0,
          0,
          0,
          0
         ],
         "zmax": 70,
         "zmin": 0
        },
        {
         "hoverinfo": "skip",
         "line": {
          "color": "#000000",
          "width": 4
         },
         "mode": "lines",
         "type": "scatter",
         "x": [
          0.5,
          0.5
         ],
         "xaxis": "x",
         "y": [
          -0.5,
          6.5
         ],
         "yaxis": "y"
        },
        {
         "hoverinfo": "skip",
         "line": {
          "color": "#000000",
          "width": 4
         },
         "mode": "lines",
         "type": "scatter",
         "x": [
          4.5,
          4.5
         ],
         "xaxis": "x",
         "y": [
          2.5,
          6.5
         ],
         "yaxis": "y"
        },
        {
         "hoverinfo": "skip",
         "line": {
          "color": "#000000",
          "width": 4
         },
         "mode": "lines",
         "type": "scatter",
         "x": [
          4.5,
          5.5
         ],
         "xaxis": "x",
         "y": [
          2.5,
          2.5
         ],
         "yaxis": "y"
        },
        {
         "hoverinfo": "skip",
         "line": {
          "color": "#000000",
          "width": 4
         },
         "mode": "lines",
         "type": "scatter",
         "x": [
          5.5,
          5.5
         ],
         "xaxis": "x",
         "y": [
          2.5,
          -0.5
         ],
         "yaxis": "y"
        },
        {
         "hoverinfo": "skip",
         "line": {
          "color": "#000000",
          "width": 4
         },
         "mode": "lines",
         "type": "scatter",
         "x": [
          8.5,
          8.5
         ],
         "xaxis": "x",
         "y": [
          3.5,
          6.5
         ],
         "yaxis": "y"
        },
        {
         "hoverinfo": "skip",
         "line": {
          "color": "#000000",
          "width": 4
         },
         "mode": "lines",
         "type": "scatter",
         "x": [
          8.5,
          9.5
         ],
         "xaxis": "x",
         "y": [
          3.5,
          3.5
         ],
         "yaxis": "y"
        },
        {
         "hoverinfo": "skip",
         "line": {
          "color": "#000000",
          "width": 4
         },
         "mode": "lines",
         "type": "scatter",
         "x": [
          9.5,
          9.5
         ],
         "xaxis": "x",
         "y": [
          3.5,
          -0.5
         ],
         "yaxis": "y"
        },
        {
         "hoverinfo": "skip",
         "line": {
          "color": "#000000",
          "width": 4
         },
         "mode": "lines",
         "type": "scatter",
         "x": [
          13.5,
          13.5
         ],
         "xaxis": "x",
         "y": [
          -0.5,
          6.5
         ],
         "yaxis": "y"
        },
        {
         "hoverinfo": "skip",
         "line": {
          "color": "#000000",
          "width": 4
         },
         "mode": "lines",
         "type": "scatter",
         "x": [
          17.5,
          17.5
         ],
         "xaxis": "x",
         "y": [
          1.5,
          6.5
         ],
         "yaxis": "y"
        },
        {
         "hoverinfo": "skip",
         "line": {
          "color": "#000000",
          "width": 4
         },
         "mode": "lines",
         "type": "scatter",
         "x": [
          17.5,
          18.5
         ],
         "xaxis": "x",
         "y": [
          1.5,
          1.5
         ],
         "yaxis": "y"
        },
        {
         "hoverinfo": "skip",
         "line": {
          "color": "#000000",
          "width": 4
         },
         "mode": "lines",
         "type": "scatter",
         "x": [
          18.5,
          18.5
         ],
         "xaxis": "x",
         "y": [
          1.5,
          -0.5
         ],
         "yaxis": "y"
        },
        {
         "hoverinfo": "skip",
         "line": {
          "color": "#000000",
          "width": 4
         },
         "mode": "lines",
         "type": "scatter",
         "x": [
          21.5,
          21.5
         ],
         "xaxis": "x",
         "y": [
          4.5,
          6.5
         ],
         "yaxis": "y"
        },
        {
         "hoverinfo": "skip",
         "line": {
          "color": "#000000",
          "width": 4
         },
         "mode": "lines",
         "type": "scatter",
         "x": [
          21.5,
          22.5
         ],
         "xaxis": "x",
         "y": [
          4.5,
          4.5
         ],
         "yaxis": "y"
        },
        {
         "hoverinfo": "skip",
         "line": {
          "color": "#000000",
          "width": 4
         },
         "mode": "lines",
         "type": "scatter",
         "x": [
          22.5,
          22.5
         ],
         "xaxis": "x",
         "y": [
          4.5,
          -0.5
         ],
         "yaxis": "y"
        },
        {
         "hoverinfo": "skip",
         "line": {
          "color": "#000000",
          "width": 4
         },
         "mode": "lines",
         "type": "scatter",
         "x": [
          26.5,
          26.5
         ],
         "xaxis": "x",
         "y": [
          -0.5,
          6.5
         ],
         "yaxis": "y"
        },
        {
         "hoverinfo": "skip",
         "line": {
          "color": "#000000",
          "width": 4
         },
         "mode": "lines",
         "type": "scatter",
         "x": [
          30.5,
          30.5
         ],
         "xaxis": "x",
         "y": [
          2.5,
          6.5
         ],
         "yaxis": "y"
        },
        {
         "hoverinfo": "skip",
         "line": {
          "color": "#000000",
          "width": 4
         },
         "mode": "lines",
         "type": "scatter",
         "x": [
          30.5,
          31.5
         ],
         "xaxis": "x",
         "y": [
          2.5,
          2.5
         ],
         "yaxis": "y"
        },
        {
         "hoverinfo": "skip",
         "line": {
          "color": "#000000",
          "width": 4
         },
         "mode": "lines",
         "type": "scatter",
         "x": [
          31.5,
          31.5
         ],
         "xaxis": "x",
         "y": [
          2.5,
          -0.5
         ],
         "yaxis": "y"
        },
        {
         "hoverinfo": "skip",
         "line": {
          "color": "#000000",
          "width": 4
         },
         "mode": "lines",
         "type": "scatter",
         "x": [
          34.5,
          34.5
         ],
         "xaxis": "x",
         "y": [
          5.5,
          6.5
         ],
         "yaxis": "y"
        },
        {
         "hoverinfo": "skip",
         "line": {
          "color": "#000000",
          "width": 4
         },
         "mode": "lines",
         "type": "scatter",
         "x": [
          34.5,
          35.5
         ],
         "xaxis": "x",
         "y": [
          5.5,
          5.5
         ],
         "yaxis": "y"
        },
        {
         "hoverinfo": "skip",
         "line": {
          "color": "#000000",
          "width": 4
         },
         "mode": "lines",
         "type": "scatter",
         "x": [
          35.5,
          35.5
         ],
         "xaxis": "x",
         "y": [
          5.5,
          -0.5
         ],
         "yaxis": "y"
        },
        {
         "hoverinfo": "skip",
         "line": {
          "color": "#000000",
          "width": 4
         },
         "mode": "lines",
         "type": "scatter",
         "x": [
          39.5,
          39.5
         ],
         "xaxis": "x",
         "y": [
          0.5,
          6.5
         ],
         "yaxis": "y"
        },
        {
         "hoverinfo": "skip",
         "line": {
          "color": "#000000",
          "width": 4
         },
         "mode": "lines",
         "type": "scatter",
         "x": [
          39.5,
          40.5
         ],
         "xaxis": "x",
         "y": [
          0.5,
          0.5
         ],
         "yaxis": "y"
        },
        {
         "hoverinfo": "skip",
         "line": {
          "color": "#000000",
          "width": 4
         },
         "mode": "lines",
         "type": "scatter",
         "x": [
          40.5,
          40.5
         ],
         "xaxis": "x",
         "y": [
          0.5,
          -0.5
         ],
         "yaxis": "y"
        },
        {
         "hoverinfo": "skip",
         "line": {
          "color": "#000000",
          "width": 4
         },
         "mode": "lines",
         "type": "scatter",
         "x": [
          43.5,
          43.5
         ],
         "xaxis": "x",
         "y": [
          3.5,
          6.5
         ],
         "yaxis": "y"
        },
        {
         "hoverinfo": "skip",
         "line": {
          "color": "#000000",
          "width": 4
         },
         "mode": "lines",
         "type": "scatter",
         "x": [
          43.5,
          44.5
         ],
         "xaxis": "x",
         "y": [
          3.5,
          3.5
         ],
         "yaxis": "y"
        },
        {
         "hoverinfo": "skip",
         "line": {
          "color": "#000000",
          "width": 4
         },
         "mode": "lines",
         "type": "scatter",
         "x": [
          44.5,
          44.5
         ],
         "xaxis": "x",
         "y": [
          3.5,
          -0.5
         ],
         "yaxis": "y"
        },
        {
         "hoverinfo": "skip",
         "line": {
          "color": "#000000",
          "width": 4
         },
         "mode": "lines",
         "type": "scatter",
         "x": [
          47.5,
          47.5
         ],
         "xaxis": "x",
         "y": [
          5.5,
          6.5
         ],
         "yaxis": "y"
        },
        {
         "hoverinfo": "skip",
         "line": {
          "color": "#000000",
          "width": 4
         },
         "mode": "lines",
         "type": "scatter",
         "x": [
          47.5,
          48.5
         ],
         "xaxis": "x",
         "y": [
          5.5,
          5.5
         ],
         "yaxis": "y"
        },
        {
         "hoverinfo": "skip",
         "line": {
          "color": "#000000",
          "width": 4
         },
         "mode": "lines",
         "type": "scatter",
         "x": [
          48.5,
          48.5
         ],
         "xaxis": "x",
         "y": [
          5.5,
          -0.5
         ],
         "yaxis": "y"
        }
       ],
       "layout": {
        "font": {
         "color": "#fff",
         "size": 10
        },
        "height": 225,
        "margin": {
         "b": 20,
         "t": 20
        },
        "paper_bgcolor": "#333",
        "plot_bgcolor": "#333",
        "showlegend": false,
        "template": {
         "data": {
          "bar": [
           {
            "error_x": {
             "color": "#2a3f5f"
            },
            "error_y": {
             "color": "#2a3f5f"
            },
            "marker": {
             "line": {
              "color": "#E5ECF6",
              "width": 0.5
             },
             "pattern": {
              "fillmode": "overlay",
              "size": 10,
              "solidity": 0.2
             }
            },
            "type": "bar"
           }
          ],
          "barpolar": [
           {
            "marker": {
             "line": {
              "color": "#E5ECF6",
              "width": 0.5
             },
             "pattern": {
              "fillmode": "overlay",
              "size": 10,
              "solidity": 0.2
             }
            },
            "type": "barpolar"
           }
          ],
          "carpet": [
           {
            "aaxis": {
             "endlinecolor": "#2a3f5f",
             "gridcolor": "white",
             "linecolor": "white",
             "minorgridcolor": "white",
             "startlinecolor": "#2a3f5f"
            },
            "baxis": {
             "endlinecolor": "#2a3f5f",
             "gridcolor": "white",
             "linecolor": "white",
             "minorgridcolor": "white",
             "startlinecolor": "#2a3f5f"
            },
            "type": "carpet"
           }
          ],
          "choropleth": [
           {
            "colorbar": {
             "outlinewidth": 0,
             "ticks": ""
            },
            "type": "choropleth"
           }
          ],
          "contour": [
           {
            "colorbar": {
             "outlinewidth": 0,
             "ticks": ""
            },
            "colorscale": [
             [
              0,
              "#0d0887"
             ],
             [
              0.1111111111111111,
              "#46039f"
             ],
             [
              0.2222222222222222,
              "#7201a8"
             ],
             [
              0.3333333333333333,
              "#9c179e"
             ],
             [
              0.4444444444444444,
              "#bd3786"
             ],
             [
              0.5555555555555556,
              "#d8576b"
             ],
             [
              0.6666666666666666,
              "#ed7953"
             ],
             [
              0.7777777777777778,
              "#fb9f3a"
             ],
             [
              0.8888888888888888,
              "#fdca26"
             ],
             [
              1,
              "#f0f921"
             ]
            ],
            "type": "contour"
           }
          ],
          "contourcarpet": [
           {
            "colorbar": {
             "outlinewidth": 0,
             "ticks": ""
            },
            "type": "contourcarpet"
           }
          ],
          "heatmap": [
           {
            "colorbar": {
             "outlinewidth": 0,
             "ticks": ""
            },
            "colorscale": [
             [
              0,
              "#0d0887"
             ],
             [
              0.1111111111111111,
              "#46039f"
             ],
             [
              0.2222222222222222,
              "#7201a8"
             ],
             [
              0.3333333333333333,
              "#9c179e"
             ],
             [
              0.4444444444444444,
              "#bd3786"
             ],
             [
              0.5555555555555556,
              "#d8576b"
             ],
             [
              0.6666666666666666,
              "#ed7953"
             ],
             [
              0.7777777777777778,
              "#fb9f3a"
             ],
             [
              0.8888888888888888,
              "#fdca26"
             ],
             [
              1,
              "#f0f921"
             ]
            ],
            "type": "heatmap"
           }
          ],
          "heatmapgl": [
           {
            "colorbar": {
             "outlinewidth": 0,
             "ticks": ""
            },
            "colorscale": [
             [
              0,
              "#0d0887"
             ],
             [
              0.1111111111111111,
              "#46039f"
             ],
             [
              0.2222222222222222,
              "#7201a8"
             ],
             [
              0.3333333333333333,
              "#9c179e"
             ],
             [
              0.4444444444444444,
              "#bd3786"
             ],
             [
              0.5555555555555556,
              "#d8576b"
             ],
             [
              0.6666666666666666,
              "#ed7953"
             ],
             [
              0.7777777777777778,
              "#fb9f3a"
             ],
             [
              0.8888888888888888,
              "#fdca26"
             ],
             [
              1,
              "#f0f921"
             ]
            ],
            "type": "heatmapgl"
           }
          ],
          "histogram": [
           {
            "marker": {
             "pattern": {
              "fillmode": "overlay",
              "size": 10,
              "solidity": 0.2
             }
            },
            "type": "histogram"
           }
          ],
          "histogram2d": [
           {
            "colorbar": {
             "outlinewidth": 0,
             "ticks": ""
            },
            "colorscale": [
             [
              0,
              "#0d0887"
             ],
             [
              0.1111111111111111,
              "#46039f"
             ],
             [
              0.2222222222222222,
              "#7201a8"
             ],
             [
              0.3333333333333333,
              "#9c179e"
             ],
             [
              0.4444444444444444,
              "#bd3786"
             ],
             [
              0.5555555555555556,
              "#d8576b"
             ],
             [
              0.6666666666666666,
              "#ed7953"
             ],
             [
              0.7777777777777778,
              "#fb9f3a"
             ],
             [
              0.8888888888888888,
              "#fdca26"
             ],
             [
              1,
              "#f0f921"
             ]
            ],
            "type": "histogram2d"
           }
          ],
          "histogram2dcontour": [
           {
            "colorbar": {
             "outlinewidth": 0,
             "ticks": ""
            },
            "colorscale": [
             [
              0,
              "#0d0887"
             ],
             [
              0.1111111111111111,
              "#46039f"
             ],
             [
              0.2222222222222222,
              "#7201a8"
             ],
             [
              0.3333333333333333,
              "#9c179e"
             ],
             [
              0.4444444444444444,
              "#bd3786"
             ],
             [
              0.5555555555555556,
              "#d8576b"
             ],
             [
              0.6666666666666666,
              "#ed7953"
             ],
             [
              0.7777777777777778,
              "#fb9f3a"
             ],
             [
              0.8888888888888888,
              "#fdca26"
             ],
             [
              1,
              "#f0f921"
             ]
            ],
            "type": "histogram2dcontour"
           }
          ],
          "mesh3d": [
           {
            "colorbar": {
             "outlinewidth": 0,
             "ticks": ""
            },
            "type": "mesh3d"
           }
          ],
          "parcoords": [
           {
            "line": {
             "colorbar": {
              "outlinewidth": 0,
              "ticks": ""
             }
            },
            "type": "parcoords"
           }
          ],
          "pie": [
           {
            "automargin": true,
            "type": "pie"
           }
          ],
          "scatter": [
           {
            "fillpattern": {
             "fillmode": "overlay",
             "size": 10,
             "solidity": 0.2
            },
            "type": "scatter"
           }
          ],
          "scatter3d": [
           {
            "line": {
             "colorbar": {
              "outlinewidth": 0,
              "ticks": ""
             }
            },
            "marker": {
             "colorbar": {
              "outlinewidth": 0,
              "ticks": ""
             }
            },
            "type": "scatter3d"
           }
          ],
          "scattercarpet": [
           {
            "marker": {
             "colorbar": {
              "outlinewidth": 0,
              "ticks": ""
             }
            },
            "type": "scattercarpet"
           }
          ],
          "scattergeo": [
           {
            "marker": {
             "colorbar": {
              "outlinewidth": 0,
              "ticks": ""
             }
            },
            "type": "scattergeo"
           }
          ],
          "scattergl": [
           {
            "marker": {
             "colorbar": {
              "outlinewidth": 0,
              "ticks": ""
             }
            },
            "type": "scattergl"
           }
          ],
          "scattermapbox": [
           {
            "marker": {
             "colorbar": {
              "outlinewidth": 0,
              "ticks": ""
             }
            },
            "type": "scattermapbox"
           }
          ],
          "scatterpolar": [
           {
            "marker": {
             "colorbar": {
              "outlinewidth": 0,
              "ticks": ""
             }
            },
            "type": "scatterpolar"
           }
          ],
          "scatterpolargl": [
           {
            "marker": {
             "colorbar": {
              "outlinewidth": 0,
              "ticks": ""
             }
            },
            "type": "scatterpolargl"
           }
          ],
          "scatterternary": [
           {
            "marker": {
             "colorbar": {
              "outlinewidth": 0,
              "ticks": ""
             }
            },
            "type": "scatterternary"
           }
          ],
          "surface": [
           {
            "colorbar": {
             "outlinewidth": 0,
             "ticks": ""
            },
            "colorscale": [
             [
              0,
              "#0d0887"
             ],
             [
              0.1111111111111111,
              "#46039f"
             ],
             [
              0.2222222222222222,
              "#7201a8"
             ],
             [
              0.3333333333333333,
              "#9c179e"
             ],
             [
              0.4444444444444444,
              "#bd3786"
             ],
             [
              0.5555555555555556,
              "#d8576b"
             ],
             [
              0.6666666666666666,
              "#ed7953"
             ],
             [
              0.7777777777777778,
              "#fb9f3a"
             ],
             [
              0.8888888888888888,
              "#fdca26"
             ],
             [
              1,
              "#f0f921"
             ]
            ],
            "type": "surface"
           }
          ],
          "table": [
           {
            "cells": {
             "fill": {
              "color": "#EBF0F8"
             },
             "line": {
              "color": "white"
             }
            },
            "header": {
             "fill": {
              "color": "#C8D4E3"
             },
             "line": {
              "color": "white"
             }
            },
            "type": "table"
           }
          ]
         },
         "layout": {
          "annotationdefaults": {
           "arrowcolor": "#2a3f5f",
           "arrowhead": 0,
           "arrowwidth": 1
          },
          "autotypenumbers": "strict",
          "coloraxis": {
           "colorbar": {
            "outlinewidth": 0,
            "ticks": ""
           }
          },
          "colorscale": {
           "diverging": [
            [
             0,
             "#8e0152"
            ],
            [
             0.1,
             "#c51b7d"
            ],
            [
             0.2,
             "#de77ae"
            ],
            [
             0.3,
             "#f1b6da"
            ],
            [
             0.4,
             "#fde0ef"
            ],
            [
             0.5,
             "#f7f7f7"
            ],
            [
             0.6,
             "#e6f5d0"
            ],
            [
             0.7,
             "#b8e186"
            ],
            [
             0.8,
             "#7fbc41"
            ],
            [
             0.9,
             "#4d9221"
            ],
            [
             1,
             "#276419"
            ]
           ],
           "sequential": [
            [
             0,
             "#0d0887"
            ],
            [
             0.1111111111111111,
             "#46039f"
            ],
            [
             0.2222222222222222,
             "#7201a8"
            ],
            [
             0.3333333333333333,
             "#9c179e"
            ],
            [
             0.4444444444444444,
             "#bd3786"
            ],
            [
             0.5555555555555556,
             "#d8576b"
            ],
            [
             0.6666666666666666,
             "#ed7953"
            ],
            [
             0.7777777777777778,
             "#fb9f3a"
            ],
            [
             0.8888888888888888,
             "#fdca26"
            ],
            [
             1,
             "#f0f921"
            ]
           ],
           "sequentialminus": [
            [
             0,
             "#0d0887"
            ],
            [
             0.1111111111111111,
             "#46039f"
            ],
            [
             0.2222222222222222,
             "#7201a8"
            ],
            [
             0.3333333333333333,
             "#9c179e"
            ],
            [
             0.4444444444444444,
             "#bd3786"
            ],
            [
             0.5555555555555556,
             "#d8576b"
            ],
            [
             0.6666666666666666,
             "#ed7953"
            ],
            [
             0.7777777777777778,
             "#fb9f3a"
            ],
            [
             0.8888888888888888,
             "#fdca26"
            ],
            [
             1,
             "#f0f921"
            ]
           ]
          },
          "colorway": [
           "#636efa",
           "#EF553B",
           "#00cc96",
           "#ab63fa",
           "#FFA15A",
           "#19d3f3",
           "#FF6692",
           "#B6E880",
           "#FF97FF",
           "#FECB52"
          ],
          "font": {
           "color": "#2a3f5f"
          },
          "geo": {
           "bgcolor": "white",
           "lakecolor": "white",
           "landcolor": "#E5ECF6",
           "showlakes": true,
           "showland": true,
           "subunitcolor": "white"
          },
          "hoverlabel": {
           "align": "left"
          },
          "hovermode": "closest",
          "mapbox": {
           "style": "light"
          },
          "paper_bgcolor": "white",
          "plot_bgcolor": "#E5ECF6",
          "polar": {
           "angularaxis": {
            "gridcolor": "white",
            "linecolor": "white",
            "ticks": ""
           },
           "bgcolor": "#E5ECF6",
           "radialaxis": {
            "gridcolor": "white",
            "linecolor": "white",
            "ticks": ""
           }
          },
          "scene": {
           "xaxis": {
            "backgroundcolor": "#E5ECF6",
            "gridcolor": "white",
            "gridwidth": 2,
            "linecolor": "white",
            "showbackground": true,
            "ticks": "",
            "zerolinecolor": "white"
           },
           "yaxis": {
            "backgroundcolor": "#E5ECF6",
            "gridcolor": "white",
            "gridwidth": 2,
            "linecolor": "white",
            "showbackground": true,
            "ticks": "",
            "zerolinecolor": "white"
           },
           "zaxis": {
            "backgroundcolor": "#E5ECF6",
            "gridcolor": "white",
            "gridwidth": 2,
            "linecolor": "white",
            "showbackground": true,
            "ticks": "",
            "zerolinecolor": "white"
           }
          },
          "shapedefaults": {
           "line": {
            "color": "#2a3f5f"
           }
          },
          "ternary": {
           "aaxis": {
            "gridcolor": "white",
            "linecolor": "white",
            "ticks": ""
           },
           "baxis": {
            "gridcolor": "white",
            "linecolor": "white",
            "ticks": ""
           },
           "bgcolor": "#E5ECF6",
           "caxis": {
            "gridcolor": "white",
            "linecolor": "white",
            "ticks": ""
           }
          },
          "title": {
           "x": 0.05
          },
          "xaxis": {
           "automargin": true,
           "gridcolor": "white",
           "linecolor": "white",
           "ticks": "",
           "title": {
            "standoff": 15
           },
           "zerolinecolor": "white",
           "zerolinewidth": 2
          },
          "yaxis": {
           "automargin": true,
           "gridcolor": "white",
           "linecolor": "white",
           "ticks": "",
           "title": {
            "standoff": 15
           },
           "zerolinecolor": "white",
           "zerolinewidth": 2
          }
         }
        },
        "title": {
         "text": "Ride Mileage 2024"
        },
        "xaxis": {
         "anchor": "y",
         "domain": [
          0,
          1
         ],
         "showgrid": false,
         "showline": false,
         "tickmode": "array",
         "ticktext": [
          "January",
          "February",
          "March",
          "April",
          "May",
          "June",
          "July",
          "August",
          "September",
          "October",
          "November",
          "December"
         ],
         "tickvals": [
          1.5,
          5.909090909090909,
          10.318181818181818,
          14.727272727272727,
          19.136363636363637,
          23.545454545454547,
          27.954545454545453,
          32.36363636363636,
          36.77272727272727,
          41.18181818181818,
          45.59090909090909,
          50
         ],
         "zeroline": false
        },
        "yaxis": {
         "anchor": "x",
         "autorange": "reversed",
         "domain": [
          0,
          1
         ],
         "showgrid": false,
         "showline": false,
         "tickmode": "array",
         "ticktext": [
          "Mon",
          "Tue",
          "Wed",
          "Thu",
          "Fri",
          "Sat",
          "Sun"
         ],
         "tickvals": [
          0,
          1,
          2,
          3,
          4,
          5,
          6
         ],
         "zeroline": false
        }
       }
      }
     },
     "metadata": {},
     "output_type": "display_data"
    }
   ],
   "source": [
    "colorscale = list(sns.color_palette('YlGn',n_colors=10).as_hex())\n",
    "colorscale = [(x,c) for x,c in zip(np.linspace(0.0,1.0,10), colorscale)]\n",
    "colorscale[0] = (0.00, \"#888888\")\n",
    "\n",
    "fig = calplot(df_activity_2024, x='ride_date', y='total_distance_mi', colorscale=colorscale, \n",
    "              dark_theme=True, gap=1, month_lines_width=4, month_lines_color='#000000',\n",
    "            showscale=True, total_height=225, title='Ride Mileage 2024', cmap_max=70)\n",
    "fig.show()"
   ]
  },
  {
   "cell_type": "code",
   "execution_count": 17,
   "id": "000e2c6d",
   "metadata": {},
   "outputs": [
    {
     "data": {
      "application/vnd.plotly.v1+json": {
       "config": {
        "plotlyServerURL": "https://plot.ly"
       },
       "data": [
        {
         "colorscale": [
          [
           0,
           "#888888"
          ],
          [
           0.1111111111111111,
           "#eaf7af"
          ],
          [
           0.2222222222222222,
           "#d2eda0"
          ],
          [
           0.3333333333333333,
           "#b1df90"
          ],
          [
           0.4444444444444444,
           "#8bce81"
          ],
          [
           0.5555555555555556,
           "#64bc6f"
          ],
          [
           0.6666666666666666,
           "#3fa85b"
          ],
          [
           0.7777777777777777,
           "#288a47"
          ],
          [
           0.8888888888888888,
           "#10743c"
          ],
          [
           1,
           "#005e33"
          ]
         ],
         "customdata": [
          [
           "2023-01-01",
           "y"
          ],
          [
           "2023-01-02",
           "y"
          ],
          [
           "2023-01-03",
           "y"
          ],
          [
           "2023-01-04",
           "y"
          ],
          [
           "2023-01-05",
           "y"
          ],
          [
           "2023-01-06",
           "y"
          ],
          [
           "2023-01-07",
           "y"
          ],
          [
           "2023-01-08",
           "y"
          ],
          [
           "2023-01-09",
           "y"
          ],
          [
           "2023-01-10",
           "y"
          ],
          [
           "2023-01-11",
           "y"
          ],
          [
           "2023-01-12",
           "y"
          ],
          [
           "2023-01-13",
           "y"
          ],
          [
           "2023-01-14",
           "y"
          ],
          [
           "2023-01-15",
           "y"
          ],
          [
           "2023-01-16",
           "y"
          ],
          [
           "2023-01-17",
           "y"
          ],
          [
           "2023-01-18",
           "y"
          ],
          [
           "2023-01-19",
           "y"
          ],
          [
           "2023-01-20",
           "y"
          ],
          [
           "2023-01-21",
           "y"
          ],
          [
           "2023-01-22",
           "y"
          ],
          [
           "2023-01-23",
           "y"
          ],
          [
           "2023-01-24",
           "y"
          ],
          [
           "2023-01-25",
           "y"
          ],
          [
           "2023-01-26",
           "y"
          ],
          [
           "2023-01-27",
           "y"
          ],
          [
           "2023-01-28",
           "y"
          ],
          [
           "2023-01-29",
           "y"
          ],
          [
           "2023-01-30",
           "y"
          ],
          [
           "2023-01-31",
           "y"
          ],
          [
           "2023-02-01",
           "y"
          ],
          [
           "2023-02-02",
           "y"
          ],
          [
           "2023-02-03",
           "y"
          ],
          [
           "2023-02-04",
           "y"
          ],
          [
           "2023-02-05",
           "y"
          ],
          [
           "2023-02-06",
           "y"
          ],
          [
           "2023-02-07",
           "y"
          ],
          [
           "2023-02-08",
           "y"
          ],
          [
           "2023-02-09",
           "y"
          ],
          [
           "2023-02-10",
           "y"
          ],
          [
           "2023-02-11",
           "y"
          ],
          [
           "2023-02-12",
           "y"
          ],
          [
           "2023-02-13",
           "y"
          ],
          [
           "2023-02-14",
           "y"
          ],
          [
           "2023-02-15",
           "y"
          ],
          [
           "2023-02-16",
           "y"
          ],
          [
           "2023-02-17",
           "y"
          ],
          [
           "2023-02-18",
           "y"
          ],
          [
           "2023-02-19",
           "y"
          ],
          [
           "2023-02-20",
           "y"
          ],
          [
           "2023-02-21",
           "y"
          ],
          [
           "2023-02-22",
           "y"
          ],
          [
           "2023-02-23",
           "y"
          ],
          [
           "2023-02-24",
           "y"
          ],
          [
           "2023-02-25",
           "y"
          ],
          [
           "2023-02-26",
           "y"
          ],
          [
           "2023-02-27",
           "y"
          ],
          [
           "2023-02-28",
           "y"
          ],
          [
           "2023-03-01",
           "y"
          ],
          [
           "2023-03-02",
           "y"
          ],
          [
           "2023-03-03",
           "y"
          ],
          [
           "2023-03-04",
           "y"
          ],
          [
           "2023-03-05",
           "y"
          ],
          [
           "2023-03-06",
           "y"
          ],
          [
           "2023-03-07",
           "y"
          ],
          [
           "2023-03-08",
           "y"
          ],
          [
           "2023-03-09",
           "y"
          ],
          [
           "2023-03-10",
           "y"
          ],
          [
           "2023-03-11",
           "y"
          ],
          [
           "2023-03-12",
           "y"
          ],
          [
           "2023-03-13",
           "y"
          ],
          [
           "2023-03-14",
           "y"
          ],
          [
           "2023-03-15",
           "y"
          ],
          [
           "2023-03-16",
           "y"
          ],
          [
           "2023-03-17",
           "y"
          ],
          [
           "2023-03-18",
           "y"
          ],
          [
           "2023-03-19",
           "y"
          ],
          [
           "2023-03-20",
           "y"
          ],
          [
           "2023-03-21",
           "y"
          ],
          [
           "2023-03-22",
           "y"
          ],
          [
           "2023-03-23",
           "y"
          ],
          [
           "2023-03-24",
           "y"
          ],
          [
           "2023-03-25",
           "y"
          ],
          [
           "2023-03-26",
           "y"
          ],
          [
           "2023-03-27",
           "y"
          ],
          [
           "2023-03-28",
           "y"
          ],
          [
           "2023-03-29",
           "y"
          ],
          [
           "2023-03-30",
           "y"
          ],
          [
           "2023-03-31",
           "y"
          ],
          [
           "2023-04-01",
           "y"
          ],
          [
           "2023-04-02",
           "y"
          ],
          [
           "2023-04-03",
           "y"
          ],
          [
           "2023-04-04",
           "y"
          ],
          [
           "2023-04-05",
           "y"
          ],
          [
           "2023-04-06",
           "y"
          ],
          [
           "2023-04-07",
           "y"
          ],
          [
           "2023-04-08",
           "y"
          ],
          [
           "2023-04-09",
           "y"
          ],
          [
           "2023-04-10",
           "y"
          ],
          [
           "2023-04-11",
           "y"
          ],
          [
           "2023-04-12",
           "y"
          ],
          [
           "2023-04-13",
           "y"
          ],
          [
           "2023-04-14",
           "y"
          ],
          [
           "2023-04-15",
           "y"
          ],
          [
           "2023-04-16",
           "y"
          ],
          [
           "2023-04-17",
           "y"
          ],
          [
           "2023-04-18",
           "y"
          ],
          [
           "2023-04-19",
           "y"
          ],
          [
           "2023-04-20",
           "y"
          ],
          [
           "2023-04-21",
           "y"
          ],
          [
           "2023-04-22",
           "y"
          ],
          [
           "2023-04-23",
           "y"
          ],
          [
           "2023-04-24",
           "y"
          ],
          [
           "2023-04-25",
           "y"
          ],
          [
           "2023-04-26",
           "y"
          ],
          [
           "2023-04-27",
           "y"
          ],
          [
           "2023-04-28",
           "y"
          ],
          [
           "2023-04-29",
           "y"
          ],
          [
           "2023-04-30",
           "y"
          ],
          [
           "2023-05-01",
           "y"
          ],
          [
           "2023-05-02",
           "y"
          ],
          [
           "2023-05-03",
           "y"
          ],
          [
           "2023-05-04",
           "y"
          ],
          [
           "2023-05-05",
           "y"
          ],
          [
           "2023-05-06",
           "y"
          ],
          [
           "2023-05-07",
           "y"
          ],
          [
           "2023-05-08",
           "y"
          ],
          [
           "2023-05-09",
           "y"
          ],
          [
           "2023-05-10",
           "y"
          ],
          [
           "2023-05-11",
           "y"
          ],
          [
           "2023-05-12",
           "y"
          ],
          [
           "2023-05-13",
           "y"
          ],
          [
           "2023-05-14",
           "y"
          ],
          [
           "2023-05-15",
           "y"
          ],
          [
           "2023-05-16",
           "y"
          ],
          [
           "2023-05-17",
           "y"
          ],
          [
           "2023-05-18",
           "y"
          ],
          [
           "2023-05-19",
           "y"
          ],
          [
           "2023-05-20",
           "y"
          ],
          [
           "2023-05-21",
           "y"
          ],
          [
           "2023-05-22",
           "y"
          ],
          [
           "2023-05-23",
           "y"
          ],
          [
           "2023-05-24",
           "y"
          ],
          [
           "2023-05-25",
           "y"
          ],
          [
           "2023-05-26",
           "y"
          ],
          [
           "2023-05-27",
           "y"
          ],
          [
           "2023-05-28",
           "y"
          ],
          [
           "2023-05-29",
           "y"
          ],
          [
           "2023-05-30",
           "y"
          ],
          [
           "2023-05-31",
           "y"
          ],
          [
           "2023-06-01",
           "y"
          ],
          [
           "2023-06-02",
           "y"
          ],
          [
           "2023-06-03",
           "y"
          ],
          [
           "2023-06-04",
           "y"
          ],
          [
           "2023-06-05",
           "y"
          ],
          [
           "2023-06-06",
           "y"
          ],
          [
           "2023-06-07",
           "y"
          ],
          [
           "2023-06-08",
           "y"
          ],
          [
           "2023-06-09",
           "y"
          ],
          [
           "2023-06-10",
           "y"
          ],
          [
           "2023-06-11",
           "y"
          ],
          [
           "2023-06-12",
           "y"
          ],
          [
           "2023-06-13",
           "y"
          ],
          [
           "2023-06-14",
           "y"
          ],
          [
           "2023-06-15",
           "y"
          ],
          [
           "2023-06-16",
           "y"
          ],
          [
           "2023-06-17",
           "y"
          ],
          [
           "2023-06-18",
           "y"
          ],
          [
           "2023-06-19",
           "y"
          ],
          [
           "2023-06-20",
           "y"
          ],
          [
           "2023-06-21",
           "y"
          ],
          [
           "2023-06-22",
           "y"
          ],
          [
           "2023-06-23",
           "y"
          ],
          [
           "2023-06-24",
           "y"
          ],
          [
           "2023-06-25",
           "y"
          ],
          [
           "2023-06-26",
           "y"
          ],
          [
           "2023-06-27",
           "y"
          ],
          [
           "2023-06-28",
           "y"
          ],
          [
           "2023-06-29",
           "y"
          ],
          [
           "2023-06-30",
           "y"
          ],
          [
           "2023-07-01",
           "y"
          ],
          [
           "2023-07-02",
           "y"
          ],
          [
           "2023-07-03",
           "y"
          ],
          [
           "2023-07-04",
           "y"
          ],
          [
           "2023-07-05",
           "y"
          ],
          [
           "2023-07-06",
           "y"
          ],
          [
           "2023-07-07",
           "y"
          ],
          [
           "2023-07-08",
           "y"
          ],
          [
           "2023-07-09",
           "y"
          ],
          [
           "2023-07-10",
           "y"
          ],
          [
           "2023-07-11",
           "y"
          ],
          [
           "2023-07-12",
           "y"
          ],
          [
           "2023-07-13",
           "y"
          ],
          [
           "2023-07-14",
           "y"
          ],
          [
           "2023-07-15",
           "y"
          ],
          [
           "2023-07-16",
           "y"
          ],
          [
           "2023-07-17",
           "y"
          ],
          [
           "2023-07-18",
           "y"
          ],
          [
           "2023-07-19",
           "y"
          ],
          [
           "2023-07-20",
           "y"
          ],
          [
           "2023-07-21",
           "y"
          ],
          [
           "2023-07-22",
           "y"
          ],
          [
           "2023-07-23",
           "y"
          ],
          [
           "2023-07-24",
           "y"
          ],
          [
           "2023-07-25",
           "y"
          ],
          [
           "2023-07-26",
           "y"
          ],
          [
           "2023-07-27",
           "y"
          ],
          [
           "2023-07-28",
           "y"
          ],
          [
           "2023-07-29",
           "y"
          ],
          [
           "2023-07-30",
           "y"
          ],
          [
           "2023-07-31",
           "y"
          ],
          [
           "2023-08-01",
           "y"
          ],
          [
           "2023-08-02",
           "y"
          ],
          [
           "2023-08-03",
           "y"
          ],
          [
           "2023-08-04",
           "y"
          ],
          [
           "2023-08-05",
           "y"
          ],
          [
           "2023-08-06",
           "y"
          ],
          [
           "2023-08-07",
           "y"
          ],
          [
           "2023-08-08",
           "y"
          ],
          [
           "2023-08-09",
           "y"
          ],
          [
           "2023-08-10",
           "y"
          ],
          [
           "2023-08-11",
           "y"
          ],
          [
           "2023-08-12",
           "y"
          ],
          [
           "2023-08-13",
           "y"
          ],
          [
           "2023-08-14",
           "y"
          ],
          [
           "2023-08-15",
           "y"
          ],
          [
           "2023-08-16",
           "y"
          ],
          [
           "2023-08-17",
           "y"
          ],
          [
           "2023-08-18",
           "y"
          ],
          [
           "2023-08-19",
           "y"
          ],
          [
           "2023-08-20",
           "y"
          ],
          [
           "2023-08-21",
           "y"
          ],
          [
           "2023-08-22",
           "y"
          ],
          [
           "2023-08-23",
           "y"
          ],
          [
           "2023-08-24",
           "y"
          ],
          [
           "2023-08-25",
           "y"
          ],
          [
           "2023-08-26",
           "y"
          ],
          [
           "2023-08-27",
           "y"
          ],
          [
           "2023-08-28",
           "y"
          ],
          [
           "2023-08-29",
           "y"
          ],
          [
           "2023-08-30",
           "y"
          ],
          [
           "2023-08-31",
           "y"
          ],
          [
           "2023-09-01",
           "y"
          ],
          [
           "2023-09-02",
           "y"
          ],
          [
           "2023-09-03",
           "y"
          ],
          [
           "2023-09-04",
           "y"
          ],
          [
           "2023-09-05",
           "y"
          ],
          [
           "2023-09-06",
           "y"
          ],
          [
           "2023-09-07",
           "y"
          ],
          [
           "2023-09-08",
           "y"
          ],
          [
           "2023-09-09",
           "y"
          ],
          [
           "2023-09-10",
           "y"
          ],
          [
           "2023-09-11",
           "y"
          ],
          [
           "2023-09-12",
           "y"
          ],
          [
           "2023-09-13",
           "y"
          ],
          [
           "2023-09-14",
           "y"
          ],
          [
           "2023-09-15",
           "y"
          ],
          [
           "2023-09-16",
           "y"
          ],
          [
           "2023-09-17",
           "y"
          ],
          [
           "2023-09-18",
           "y"
          ],
          [
           "2023-09-19",
           "y"
          ],
          [
           "2023-09-20",
           "y"
          ],
          [
           "2023-09-21",
           "y"
          ],
          [
           "2023-09-22",
           "y"
          ],
          [
           "2023-09-23",
           "y"
          ],
          [
           "2023-09-24",
           "y"
          ],
          [
           "2023-09-25",
           "y"
          ],
          [
           "2023-09-26",
           "y"
          ],
          [
           "2023-09-27",
           "y"
          ],
          [
           "2023-09-28",
           "y"
          ],
          [
           "2023-09-29",
           "y"
          ],
          [
           "2023-09-30",
           "y"
          ],
          [
           "2023-10-01",
           "y"
          ],
          [
           "2023-10-02",
           "y"
          ],
          [
           "2023-10-03",
           "y"
          ],
          [
           "2023-10-04",
           "y"
          ],
          [
           "2023-10-05",
           "y"
          ],
          [
           "2023-10-06",
           "y"
          ],
          [
           "2023-10-07",
           "y"
          ],
          [
           "2023-10-08",
           "y"
          ],
          [
           "2023-10-09",
           "y"
          ],
          [
           "2023-10-10",
           "y"
          ],
          [
           "2023-10-11",
           "y"
          ],
          [
           "2023-10-12",
           "y"
          ],
          [
           "2023-10-13",
           "y"
          ],
          [
           "2023-10-14",
           "y"
          ],
          [
           "2023-10-15",
           "y"
          ],
          [
           "2023-10-16",
           "y"
          ],
          [
           "2023-10-17",
           "y"
          ],
          [
           "2023-10-18",
           "y"
          ],
          [
           "2023-10-19",
           "y"
          ],
          [
           "2023-10-20",
           "y"
          ],
          [
           "2023-10-21",
           "y"
          ],
          [
           "2023-10-22",
           "y"
          ],
          [
           "2023-10-23",
           "y"
          ],
          [
           "2023-10-24",
           "y"
          ],
          [
           "2023-10-25",
           "y"
          ],
          [
           "2023-10-26",
           "y"
          ],
          [
           "2023-10-27",
           "y"
          ],
          [
           "2023-10-28",
           "y"
          ],
          [
           "2023-10-29",
           "y"
          ],
          [
           "2023-10-30",
           "y"
          ],
          [
           "2023-10-31",
           "y"
          ],
          [
           "2023-11-01",
           "y"
          ],
          [
           "2023-11-02",
           "y"
          ],
          [
           "2023-11-03",
           "y"
          ],
          [
           "2023-11-04",
           "y"
          ],
          [
           "2023-11-05",
           "y"
          ],
          [
           "2023-11-06",
           "y"
          ],
          [
           "2023-11-07",
           "y"
          ],
          [
           "2023-11-08",
           "y"
          ],
          [
           "2023-11-09",
           "y"
          ],
          [
           "2023-11-10",
           "y"
          ],
          [
           "2023-11-11",
           "y"
          ],
          [
           "2023-11-12",
           "y"
          ],
          [
           "2023-11-13",
           "y"
          ],
          [
           "2023-11-14",
           "y"
          ],
          [
           "2023-11-15",
           "y"
          ],
          [
           "2023-11-16",
           "y"
          ],
          [
           "2023-11-17",
           "y"
          ],
          [
           "2023-11-18",
           "y"
          ],
          [
           "2023-11-19",
           "y"
          ],
          [
           "2023-11-20",
           "y"
          ],
          [
           "2023-11-21",
           "y"
          ],
          [
           "2023-11-22",
           "y"
          ],
          [
           "2023-11-23",
           "y"
          ],
          [
           "2023-11-24",
           "y"
          ],
          [
           "2023-11-25",
           "y"
          ],
          [
           "2023-11-26",
           "y"
          ],
          [
           "2023-11-27",
           "y"
          ],
          [
           "2023-11-28",
           "y"
          ],
          [
           "2023-11-29",
           "y"
          ],
          [
           "2023-11-30",
           "y"
          ],
          [
           "2023-12-01",
           "y"
          ],
          [
           "2023-12-02",
           "y"
          ],
          [
           "2023-12-03",
           "y"
          ],
          [
           "2023-12-04",
           "y"
          ],
          [
           "2023-12-05",
           "y"
          ],
          [
           "2023-12-06",
           "y"
          ],
          [
           "2023-12-07",
           "y"
          ],
          [
           "2023-12-08",
           "y"
          ],
          [
           "2023-12-09",
           "y"
          ],
          [
           "2023-12-10",
           "y"
          ],
          [
           "2023-12-11",
           "y"
          ],
          [
           "2023-12-12",
           "y"
          ],
          [
           "2023-12-13",
           "y"
          ],
          [
           "2023-12-14",
           "y"
          ],
          [
           "2023-12-15",
           "y"
          ],
          [
           "2023-12-16",
           "y"
          ],
          [
           "2023-12-17",
           "y"
          ],
          [
           "2023-12-18",
           "y"
          ],
          [
           "2023-12-19",
           "y"
          ],
          [
           "2023-12-20",
           "y"
          ],
          [
           "2023-12-21",
           "y"
          ],
          [
           "2023-12-22",
           "y"
          ],
          [
           "2023-12-23",
           "y"
          ],
          [
           "2023-12-24",
           "y"
          ],
          [
           "2023-12-25",
           "y"
          ],
          [
           "2023-12-26",
           "y"
          ],
          [
           "2023-12-27",
           "y"
          ],
          [
           "2023-12-28",
           "y"
          ],
          [
           "2023-12-29",
           "y"
          ],
          [
           "2023-12-30",
           "y"
          ],
          [
           "2023-12-31",
           "y"
          ]
         ],
         "hovertemplate": "%{customdata[0]} <br>Week=%{x} <br>%{customdata[1]}=%{z}",
         "name": "2023",
         "showscale": true,
         "type": "heatmap",
         "x": [
          0,
          1,
          1,
          1,
          1,
          1,
          1,
          1,
          2,
          2,
          2,
          2,
          2,
          2,
          2,
          3,
          3,
          3,
          3,
          3,
          3,
          3,
          4,
          4,
          4,
          4,
          4,
          4,
          4,
          5,
          5,
          5,
          5,
          5,
          5,
          5,
          6,
          6,
          6,
          6,
          6,
          6,
          6,
          7,
          7,
          7,
          7,
          7,
          7,
          7,
          8,
          8,
          8,
          8,
          8,
          8,
          8,
          9,
          9,
          9,
          9,
          9,
          9,
          9,
          10,
          10,
          10,
          10,
          10,
          10,
          10,
          11,
          11,
          11,
          11,
          11,
          11,
          11,
          12,
          12,
          12,
          12,
          12,
          12,
          12,
          13,
          13,
          13,
          13,
          13,
          13,
          13,
          14,
          14,
          14,
          14,
          14,
          14,
          14,
          15,
          15,
          15,
          15,
          15,
          15,
          15,
          16,
          16,
          16,
          16,
          16,
          16,
          16,
          17,
          17,
          17,
          17,
          17,
          17,
          17,
          18,
          18,
          18,
          18,
          18,
          18,
          18,
          19,
          19,
          19,
          19,
          19,
          19,
          19,
          20,
          20,
          20,
          20,
          20,
          20,
          20,
          21,
          21,
          21,
          21,
          21,
          21,
          21,
          22,
          22,
          22,
          22,
          22,
          22,
          22,
          23,
          23,
          23,
          23,
          23,
          23,
          23,
          24,
          24,
          24,
          24,
          24,
          24,
          24,
          25,
          25,
          25,
          25,
          25,
          25,
          25,
          26,
          26,
          26,
          26,
          26,
          26,
          26,
          27,
          27,
          27,
          27,
          27,
          27,
          27,
          28,
          28,
          28,
          28,
          28,
          28,
          28,
          29,
          29,
          29,
          29,
          29,
          29,
          29,
          30,
          30,
          30,
          30,
          30,
          30,
          30,
          31,
          31,
          31,
          31,
          31,
          31,
          31,
          32,
          32,
          32,
          32,
          32,
          32,
          32,
          33,
          33,
          33,
          33,
          33,
          33,
          33,
          34,
          34,
          34,
          34,
          34,
          34,
          34,
          35,
          35,
          35,
          35,
          35,
          35,
          35,
          36,
          36,
          36,
          36,
          36,
          36,
          36,
          37,
          37,
          37,
          37,
          37,
          37,
          37,
          38,
          38,
          38,
          38,
          38,
          38,
          38,
          39,
          39,
          39,
          39,
          39,
          39,
          39,
          40,
          40,
          40,
          40,
          40,
          40,
          40,
          41,
          41,
          41,
          41,
          41,
          41,
          41,
          42,
          42,
          42,
          42,
          42,
          42,
          42,
          43,
          43,
          43,
          43,
          43,
          43,
          43,
          44,
          44,
          44,
          44,
          44,
          44,
          44,
          45,
          45,
          45,
          45,
          45,
          45,
          45,
          46,
          46,
          46,
          46,
          46,
          46,
          46,
          47,
          47,
          47,
          47,
          47,
          47,
          47,
          48,
          48,
          48,
          48,
          48,
          48,
          48,
          49,
          49,
          49,
          49,
          49,
          49,
          49,
          50,
          50,
          50,
          50,
          50,
          50,
          50,
          51,
          51,
          51,
          51,
          51,
          51,
          51,
          52,
          52,
          52,
          52,
          52,
          52,
          52
         ],
         "xaxis": "x",
         "xgap": 1,
         "y": [
          6,
          0,
          1,
          2,
          3,
          4,
          5,
          6,
          0,
          1,
          2,
          3,
          4,
          5,
          6,
          0,
          1,
          2,
          3,
          4,
          5,
          6,
          0,
          1,
          2,
          3,
          4,
          5,
          6,
          0,
          1,
          2,
          3,
          4,
          5,
          6,
          0,
          1,
          2,
          3,
          4,
          5,
          6,
          0,
          1,
          2,
          3,
          4,
          5,
          6,
          0,
          1,
          2,
          3,
          4,
          5,
          6,
          0,
          1,
          2,
          3,
          4,
          5,
          6,
          0,
          1,
          2,
          3,
          4,
          5,
          6,
          0,
          1,
          2,
          3,
          4,
          5,
          6,
          0,
          1,
          2,
          3,
          4,
          5,
          6,
          0,
          1,
          2,
          3,
          4,
          5,
          6,
          0,
          1,
          2,
          3,
          4,
          5,
          6,
          0,
          1,
          2,
          3,
          4,
          5,
          6,
          0,
          1,
          2,
          3,
          4,
          5,
          6,
          0,
          1,
          2,
          3,
          4,
          5,
          6,
          0,
          1,
          2,
          3,
          4,
          5,
          6,
          0,
          1,
          2,
          3,
          4,
          5,
          6,
          0,
          1,
          2,
          3,
          4,
          5,
          6,
          0,
          1,
          2,
          3,
          4,
          5,
          6,
          0,
          1,
          2,
          3,
          4,
          5,
          6,
          0,
          1,
          2,
          3,
          4,
          5,
          6,
          0,
          1,
          2,
          3,
          4,
          5,
          6,
          0,
          1,
          2,
          3,
          4,
          5,
          6,
          0,
          1,
          2,
          3,
          4,
          5,
          6,
          0,
          1,
          2,
          3,
          4,
          5,
          6,
          0,
          1,
          2,
          3,
          4,
          5,
          6,
          0,
          1,
          2,
          3,
          4,
          5,
          6,
          0,
          1,
          2,
          3,
          4,
          5,
          6,
          0,
          1,
          2,
          3,
          4,
          5,
          6,
          0,
          1,
          2,
          3,
          4,
          5,
          6,
          0,
          1,
          2,
          3,
          4,
          5,
          6,
          0,
          1,
          2,
          3,
          4,
          5,
          6,
          0,
          1,
          2,
          3,
          4,
          5,
          6,
          0,
          1,
          2,
          3,
          4,
          5,
          6,
          0,
          1,
          2,
          3,
          4,
          5,
          6,
          0,
          1,
          2,
          3,
          4,
          5,
          6,
          0,
          1,
          2,
          3,
          4,
          5,
          6,
          0,
          1,
          2,
          3,
          4,
          5,
          6,
          0,
          1,
          2,
          3,
          4,
          5,
          6,
          0,
          1,
          2,
          3,
          4,
          5,
          6,
          0,
          1,
          2,
          3,
          4,
          5,
          6,
          0,
          1,
          2,
          3,
          4,
          5,
          6,
          0,
          1,
          2,
          3,
          4,
          5,
          6,
          0,
          1,
          2,
          3,
          4,
          5,
          6,
          0,
          1,
          2,
          3,
          4,
          5,
          6,
          0,
          1,
          2,
          3,
          4,
          5,
          6,
          0,
          1,
          2,
          3,
          4,
          5,
          6,
          0,
          1,
          2,
          3,
          4,
          5,
          6,
          0,
          1,
          2,
          3,
          4,
          5,
          6,
          0,
          1,
          2,
          3,
          4,
          5,
          6
         ],
         "yaxis": "y",
         "ygap": 1,
         "z": [
          0,
          0,
          0,
          0,
          0,
          0,
          0,
          0,
          0,
          0,
          0,
          0,
          0,
          0,
          0,
          0,
          0,
          0,
          0,
          0,
          0,
          0,
          0,
          0,
          0,
          0,
          0,
          0,
          0,
          0,
          0,
          0,
          0,
          0,
          0,
          15.807911565596442,
          0,
          0,
          0,
          0,
          0,
          0,
          0,
          0,
          0,
          17.26601799719043,
          7.047940021135941,
          0,
          0,
          7.088084441140952,
          0,
          0,
          0,
          0,
          0,
          0,
          0,
          6.296752642672421,
          5.871133580234363,
          0,
          3.166090133055983,
          0,
          0,
          10.938861586513799,
          0,
          0,
          0,
          0,
          0,
          0,
          0,
          6.227535704055809,
          0,
          0,
          0,
          0,
          0,
          0,
          4.390842234653029,
          0,
          0,
          0,
          0,
          0,
          0,
          0,
          0,
          0,
          0,
          0,
          0,
          0,
          5.157514443660766,
          0,
          0,
          0,
          0,
          0,
          26.64572664561205,
          0,
          0,
          0,
          0,
          0,
          0,
          0,
          0,
          0,
          0,
          0,
          0,
          0,
          0,
          0,
          0,
          0,
          0,
          0,
          0,
          0,
          0,
          0,
          0,
          0,
          0,
          0,
          0,
          0,
          0,
          0,
          0,
          0,
          0,
          0,
          0,
          7.594186991967019,
          18.600580406811638,
          6.267024469135697,
          0,
          7.675366852048502,
          6.621010312642571,
          0,
          2.797788947364572,
          0,
          0,
          0,
          0,
          0,
          0,
          0,
          0,
          0,
          0,
          5.865864834482099,
          0,
          0,
          6.37348422681398,
          0,
          0,
          0,
          0,
          0,
          0,
          0,
          0,
          0,
          0,
          0,
          0,
          0,
          0,
          0,
          0,
          0,
          0,
          0,
          0,
          0,
          0,
          0,
          0,
          0,
          0,
          0,
          0,
          0,
          0,
          0,
          0,
          0,
          0,
          0,
          0,
          0,
          0,
          0,
          0,
          0,
          0,
          0,
          0,
          0,
          0,
          0,
          0,
          0,
          0,
          0,
          0,
          0,
          0,
          0,
          0,
          0,
          0,
          0,
          0,
          0,
          0,
          0,
          0,
          12.947064817984991,
          0,
          5.643590693692915,
          0,
          0,
          0,
          0,
          0,
          30.59720187529034,
          6.022180020057413,
          0,
          0,
          0,
          0,
          0,
          0,
          0,
          0,
          0,
          3.7029410454647316,
          0,
          0,
          0,
          0,
          0,
          0,
          0,
          0,
          0,
          0,
          0,
          16.3215687116691,
          0,
          0,
          0,
          0,
          0,
          0,
          27.838121131890297,
          0,
          0,
          0,
          0,
          0,
          0,
          0,
          0,
          0,
          0,
          0,
          0,
          0,
          0,
          0,
          0,
          0,
          0,
          0,
          0,
          0,
          0,
          0,
          0,
          0,
          17.236192996733834,
          0,
          0,
          0,
          0,
          0,
          0,
          0,
          0,
          0,
          0,
          0,
          0,
          0,
          0,
          0,
          0,
          0,
          0,
          0,
          0,
          0,
          0,
          0,
          0,
          0,
          0,
          0,
          0,
          0,
          0,
          0,
          0,
          0,
          0,
          0,
          0,
          0,
          0,
          0,
          0,
          0,
          0,
          0,
          0,
          0,
          0,
          0,
          0,
          0,
          0,
          0,
          0,
          0,
          0,
          0,
          0,
          0,
          0,
          0,
          0,
          0,
          0,
          0,
          0,
          0,
          0,
          0,
          0,
          0,
          0,
          0,
          0,
          0,
          0,
          0,
          0,
          0,
          0,
          0
         ],
         "zmax": 70,
         "zmin": 0
        },
        {
         "hoverinfo": "skip",
         "line": {
          "color": "#000000",
          "width": 4
         },
         "mode": "lines",
         "type": "scatter",
         "x": [
          -0.5,
          -0.5
         ],
         "xaxis": "x",
         "y": [
          5.5,
          6.5
         ],
         "yaxis": "y"
        },
        {
         "hoverinfo": "skip",
         "line": {
          "color": "#000000",
          "width": 4
         },
         "mode": "lines",
         "type": "scatter",
         "x": [
          -0.5,
          0.5
         ],
         "xaxis": "x",
         "y": [
          5.5,
          5.5
         ],
         "yaxis": "y"
        },
        {
         "hoverinfo": "skip",
         "line": {
          "color": "#000000",
          "width": 4
         },
         "mode": "lines",
         "type": "scatter",
         "x": [
          0.5,
          0.5
         ],
         "xaxis": "x",
         "y": [
          5.5,
          -0.5
         ],
         "yaxis": "y"
        },
        {
         "hoverinfo": "skip",
         "line": {
          "color": "#000000",
          "width": 4
         },
         "mode": "lines",
         "type": "scatter",
         "x": [
          4.5,
          4.5
         ],
         "xaxis": "x",
         "y": [
          1.5,
          6.5
         ],
         "yaxis": "y"
        },
        {
         "hoverinfo": "skip",
         "line": {
          "color": "#000000",
          "width": 4
         },
         "mode": "lines",
         "type": "scatter",
         "x": [
          4.5,
          5.5
         ],
         "xaxis": "x",
         "y": [
          1.5,
          1.5
         ],
         "yaxis": "y"
        },
        {
         "hoverinfo": "skip",
         "line": {
          "color": "#000000",
          "width": 4
         },
         "mode": "lines",
         "type": "scatter",
         "x": [
          5.5,
          5.5
         ],
         "xaxis": "x",
         "y": [
          1.5,
          -0.5
         ],
         "yaxis": "y"
        },
        {
         "hoverinfo": "skip",
         "line": {
          "color": "#000000",
          "width": 4
         },
         "mode": "lines",
         "type": "scatter",
         "x": [
          8.5,
          8.5
         ],
         "xaxis": "x",
         "y": [
          1.5,
          6.5
         ],
         "yaxis": "y"
        },
        {
         "hoverinfo": "skip",
         "line": {
          "color": "#000000",
          "width": 4
         },
         "mode": "lines",
         "type": "scatter",
         "x": [
          8.5,
          9.5
         ],
         "xaxis": "x",
         "y": [
          1.5,
          1.5
         ],
         "yaxis": "y"
        },
        {
         "hoverinfo": "skip",
         "line": {
          "color": "#000000",
          "width": 4
         },
         "mode": "lines",
         "type": "scatter",
         "x": [
          9.5,
          9.5
         ],
         "xaxis": "x",
         "y": [
          1.5,
          -0.5
         ],
         "yaxis": "y"
        },
        {
         "hoverinfo": "skip",
         "line": {
          "color": "#000000",
          "width": 4
         },
         "mode": "lines",
         "type": "scatter",
         "x": [
          12.5,
          12.5
         ],
         "xaxis": "x",
         "y": [
          4.5,
          6.5
         ],
         "yaxis": "y"
        },
        {
         "hoverinfo": "skip",
         "line": {
          "color": "#000000",
          "width": 4
         },
         "mode": "lines",
         "type": "scatter",
         "x": [
          12.5,
          13.5
         ],
         "xaxis": "x",
         "y": [
          4.5,
          4.5
         ],
         "yaxis": "y"
        },
        {
         "hoverinfo": "skip",
         "line": {
          "color": "#000000",
          "width": 4
         },
         "mode": "lines",
         "type": "scatter",
         "x": [
          13.5,
          13.5
         ],
         "xaxis": "x",
         "y": [
          4.5,
          -0.5
         ],
         "yaxis": "y"
        },
        {
         "hoverinfo": "skip",
         "line": {
          "color": "#000000",
          "width": 4
         },
         "mode": "lines",
         "type": "scatter",
         "x": [
          17.5,
          17.5
         ],
         "xaxis": "x",
         "y": [
          -0.5,
          6.5
         ],
         "yaxis": "y"
        },
        {
         "hoverinfo": "skip",
         "line": {
          "color": "#000000",
          "width": 4
         },
         "mode": "lines",
         "type": "scatter",
         "x": [
          21.5,
          21.5
         ],
         "xaxis": "x",
         "y": [
          2.5,
          6.5
         ],
         "yaxis": "y"
        },
        {
         "hoverinfo": "skip",
         "line": {
          "color": "#000000",
          "width": 4
         },
         "mode": "lines",
         "type": "scatter",
         "x": [
          21.5,
          22.5
         ],
         "xaxis": "x",
         "y": [
          2.5,
          2.5
         ],
         "yaxis": "y"
        },
        {
         "hoverinfo": "skip",
         "line": {
          "color": "#000000",
          "width": 4
         },
         "mode": "lines",
         "type": "scatter",
         "x": [
          22.5,
          22.5
         ],
         "xaxis": "x",
         "y": [
          2.5,
          -0.5
         ],
         "yaxis": "y"
        },
        {
         "hoverinfo": "skip",
         "line": {
          "color": "#000000",
          "width": 4
         },
         "mode": "lines",
         "type": "scatter",
         "x": [
          25.5,
          25.5
         ],
         "xaxis": "x",
         "y": [
          4.5,
          6.5
         ],
         "yaxis": "y"
        },
        {
         "hoverinfo": "skip",
         "line": {
          "color": "#000000",
          "width": 4
         },
         "mode": "lines",
         "type": "scatter",
         "x": [
          25.5,
          26.5
         ],
         "xaxis": "x",
         "y": [
          4.5,
          4.5
         ],
         "yaxis": "y"
        },
        {
         "hoverinfo": "skip",
         "line": {
          "color": "#000000",
          "width": 4
         },
         "mode": "lines",
         "type": "scatter",
         "x": [
          26.5,
          26.5
         ],
         "xaxis": "x",
         "y": [
          4.5,
          -0.5
         ],
         "yaxis": "y"
        },
        {
         "hoverinfo": "skip",
         "line": {
          "color": "#000000",
          "width": 4
         },
         "mode": "lines",
         "type": "scatter",
         "x": [
          30.5,
          30.5
         ],
         "xaxis": "x",
         "y": [
          0.5,
          6.5
         ],
         "yaxis": "y"
        },
        {
         "hoverinfo": "skip",
         "line": {
          "color": "#000000",
          "width": 4
         },
         "mode": "lines",
         "type": "scatter",
         "x": [
          30.5,
          31.5
         ],
         "xaxis": "x",
         "y": [
          0.5,
          0.5
         ],
         "yaxis": "y"
        },
        {
         "hoverinfo": "skip",
         "line": {
          "color": "#000000",
          "width": 4
         },
         "mode": "lines",
         "type": "scatter",
         "x": [
          31.5,
          31.5
         ],
         "xaxis": "x",
         "y": [
          0.5,
          -0.5
         ],
         "yaxis": "y"
        },
        {
         "hoverinfo": "skip",
         "line": {
          "color": "#000000",
          "width": 4
         },
         "mode": "lines",
         "type": "scatter",
         "x": [
          34.5,
          34.5
         ],
         "xaxis": "x",
         "y": [
          3.5,
          6.5
         ],
         "yaxis": "y"
        },
        {
         "hoverinfo": "skip",
         "line": {
          "color": "#000000",
          "width": 4
         },
         "mode": "lines",
         "type": "scatter",
         "x": [
          34.5,
          35.5
         ],
         "xaxis": "x",
         "y": [
          3.5,
          3.5
         ],
         "yaxis": "y"
        },
        {
         "hoverinfo": "skip",
         "line": {
          "color": "#000000",
          "width": 4
         },
         "mode": "lines",
         "type": "scatter",
         "x": [
          35.5,
          35.5
         ],
         "xaxis": "x",
         "y": [
          3.5,
          -0.5
         ],
         "yaxis": "y"
        },
        {
         "hoverinfo": "skip",
         "line": {
          "color": "#000000",
          "width": 4
         },
         "mode": "lines",
         "type": "scatter",
         "x": [
          38.5,
          38.5
         ],
         "xaxis": "x",
         "y": [
          5.5,
          6.5
         ],
         "yaxis": "y"
        },
        {
         "hoverinfo": "skip",
         "line": {
          "color": "#000000",
          "width": 4
         },
         "mode": "lines",
         "type": "scatter",
         "x": [
          38.5,
          39.5
         ],
         "xaxis": "x",
         "y": [
          5.5,
          5.5
         ],
         "yaxis": "y"
        },
        {
         "hoverinfo": "skip",
         "line": {
          "color": "#000000",
          "width": 4
         },
         "mode": "lines",
         "type": "scatter",
         "x": [
          39.5,
          39.5
         ],
         "xaxis": "x",
         "y": [
          5.5,
          -0.5
         ],
         "yaxis": "y"
        },
        {
         "hoverinfo": "skip",
         "line": {
          "color": "#000000",
          "width": 4
         },
         "mode": "lines",
         "type": "scatter",
         "x": [
          43.5,
          43.5
         ],
         "xaxis": "x",
         "y": [
          1.5,
          6.5
         ],
         "yaxis": "y"
        },
        {
         "hoverinfo": "skip",
         "line": {
          "color": "#000000",
          "width": 4
         },
         "mode": "lines",
         "type": "scatter",
         "x": [
          43.5,
          44.5
         ],
         "xaxis": "x",
         "y": [
          1.5,
          1.5
         ],
         "yaxis": "y"
        },
        {
         "hoverinfo": "skip",
         "line": {
          "color": "#000000",
          "width": 4
         },
         "mode": "lines",
         "type": "scatter",
         "x": [
          44.5,
          44.5
         ],
         "xaxis": "x",
         "y": [
          1.5,
          -0.5
         ],
         "yaxis": "y"
        },
        {
         "hoverinfo": "skip",
         "line": {
          "color": "#000000",
          "width": 4
         },
         "mode": "lines",
         "type": "scatter",
         "x": [
          47.5,
          47.5
         ],
         "xaxis": "x",
         "y": [
          3.5,
          6.5
         ],
         "yaxis": "y"
        },
        {
         "hoverinfo": "skip",
         "line": {
          "color": "#000000",
          "width": 4
         },
         "mode": "lines",
         "type": "scatter",
         "x": [
          47.5,
          48.5
         ],
         "xaxis": "x",
         "y": [
          3.5,
          3.5
         ],
         "yaxis": "y"
        },
        {
         "hoverinfo": "skip",
         "line": {
          "color": "#000000",
          "width": 4
         },
         "mode": "lines",
         "type": "scatter",
         "x": [
          48.5,
          48.5
         ],
         "xaxis": "x",
         "y": [
          3.5,
          -0.5
         ],
         "yaxis": "y"
        }
       ],
       "layout": {
        "font": {
         "color": "#fff",
         "size": 10
        },
        "height": 225,
        "margin": {
         "b": 20,
         "t": 20
        },
        "paper_bgcolor": "#333",
        "plot_bgcolor": "#333",
        "showlegend": false,
        "template": {
         "data": {
          "bar": [
           {
            "error_x": {
             "color": "#2a3f5f"
            },
            "error_y": {
             "color": "#2a3f5f"
            },
            "marker": {
             "line": {
              "color": "#E5ECF6",
              "width": 0.5
             },
             "pattern": {
              "fillmode": "overlay",
              "size": 10,
              "solidity": 0.2
             }
            },
            "type": "bar"
           }
          ],
          "barpolar": [
           {
            "marker": {
             "line": {
              "color": "#E5ECF6",
              "width": 0.5
             },
             "pattern": {
              "fillmode": "overlay",
              "size": 10,
              "solidity": 0.2
             }
            },
            "type": "barpolar"
           }
          ],
          "carpet": [
           {
            "aaxis": {
             "endlinecolor": "#2a3f5f",
             "gridcolor": "white",
             "linecolor": "white",
             "minorgridcolor": "white",
             "startlinecolor": "#2a3f5f"
            },
            "baxis": {
             "endlinecolor": "#2a3f5f",
             "gridcolor": "white",
             "linecolor": "white",
             "minorgridcolor": "white",
             "startlinecolor": "#2a3f5f"
            },
            "type": "carpet"
           }
          ],
          "choropleth": [
           {
            "colorbar": {
             "outlinewidth": 0,
             "ticks": ""
            },
            "type": "choropleth"
           }
          ],
          "contour": [
           {
            "colorbar": {
             "outlinewidth": 0,
             "ticks": ""
            },
            "colorscale": [
             [
              0,
              "#0d0887"
             ],
             [
              0.1111111111111111,
              "#46039f"
             ],
             [
              0.2222222222222222,
              "#7201a8"
             ],
             [
              0.3333333333333333,
              "#9c179e"
             ],
             [
              0.4444444444444444,
              "#bd3786"
             ],
             [
              0.5555555555555556,
              "#d8576b"
             ],
             [
              0.6666666666666666,
              "#ed7953"
             ],
             [
              0.7777777777777778,
              "#fb9f3a"
             ],
             [
              0.8888888888888888,
              "#fdca26"
             ],
             [
              1,
              "#f0f921"
             ]
            ],
            "type": "contour"
           }
          ],
          "contourcarpet": [
           {
            "colorbar": {
             "outlinewidth": 0,
             "ticks": ""
            },
            "type": "contourcarpet"
           }
          ],
          "heatmap": [
           {
            "colorbar": {
             "outlinewidth": 0,
             "ticks": ""
            },
            "colorscale": [
             [
              0,
              "#0d0887"
             ],
             [
              0.1111111111111111,
              "#46039f"
             ],
             [
              0.2222222222222222,
              "#7201a8"
             ],
             [
              0.3333333333333333,
              "#9c179e"
             ],
             [
              0.4444444444444444,
              "#bd3786"
             ],
             [
              0.5555555555555556,
              "#d8576b"
             ],
             [
              0.6666666666666666,
              "#ed7953"
             ],
             [
              0.7777777777777778,
              "#fb9f3a"
             ],
             [
              0.8888888888888888,
              "#fdca26"
             ],
             [
              1,
              "#f0f921"
             ]
            ],
            "type": "heatmap"
           }
          ],
          "heatmapgl": [
           {
            "colorbar": {
             "outlinewidth": 0,
             "ticks": ""
            },
            "colorscale": [
             [
              0,
              "#0d0887"
             ],
             [
              0.1111111111111111,
              "#46039f"
             ],
             [
              0.2222222222222222,
              "#7201a8"
             ],
             [
              0.3333333333333333,
              "#9c179e"
             ],
             [
              0.4444444444444444,
              "#bd3786"
             ],
             [
              0.5555555555555556,
              "#d8576b"
             ],
             [
              0.6666666666666666,
              "#ed7953"
             ],
             [
              0.7777777777777778,
              "#fb9f3a"
             ],
             [
              0.8888888888888888,
              "#fdca26"
             ],
             [
              1,
              "#f0f921"
             ]
            ],
            "type": "heatmapgl"
           }
          ],
          "histogram": [
           {
            "marker": {
             "pattern": {
              "fillmode": "overlay",
              "size": 10,
              "solidity": 0.2
             }
            },
            "type": "histogram"
           }
          ],
          "histogram2d": [
           {
            "colorbar": {
             "outlinewidth": 0,
             "ticks": ""
            },
            "colorscale": [
             [
              0,
              "#0d0887"
             ],
             [
              0.1111111111111111,
              "#46039f"
             ],
             [
              0.2222222222222222,
              "#7201a8"
             ],
             [
              0.3333333333333333,
              "#9c179e"
             ],
             [
              0.4444444444444444,
              "#bd3786"
             ],
             [
              0.5555555555555556,
              "#d8576b"
             ],
             [
              0.6666666666666666,
              "#ed7953"
             ],
             [
              0.7777777777777778,
              "#fb9f3a"
             ],
             [
              0.8888888888888888,
              "#fdca26"
             ],
             [
              1,
              "#f0f921"
             ]
            ],
            "type": "histogram2d"
           }
          ],
          "histogram2dcontour": [
           {
            "colorbar": {
             "outlinewidth": 0,
             "ticks": ""
            },
            "colorscale": [
             [
              0,
              "#0d0887"
             ],
             [
              0.1111111111111111,
              "#46039f"
             ],
             [
              0.2222222222222222,
              "#7201a8"
             ],
             [
              0.3333333333333333,
              "#9c179e"
             ],
             [
              0.4444444444444444,
              "#bd3786"
             ],
             [
              0.5555555555555556,
              "#d8576b"
             ],
             [
              0.6666666666666666,
              "#ed7953"
             ],
             [
              0.7777777777777778,
              "#fb9f3a"
             ],
             [
              0.8888888888888888,
              "#fdca26"
             ],
             [
              1,
              "#f0f921"
             ]
            ],
            "type": "histogram2dcontour"
           }
          ],
          "mesh3d": [
           {
            "colorbar": {
             "outlinewidth": 0,
             "ticks": ""
            },
            "type": "mesh3d"
           }
          ],
          "parcoords": [
           {
            "line": {
             "colorbar": {
              "outlinewidth": 0,
              "ticks": ""
             }
            },
            "type": "parcoords"
           }
          ],
          "pie": [
           {
            "automargin": true,
            "type": "pie"
           }
          ],
          "scatter": [
           {
            "fillpattern": {
             "fillmode": "overlay",
             "size": 10,
             "solidity": 0.2
            },
            "type": "scatter"
           }
          ],
          "scatter3d": [
           {
            "line": {
             "colorbar": {
              "outlinewidth": 0,
              "ticks": ""
             }
            },
            "marker": {
             "colorbar": {
              "outlinewidth": 0,
              "ticks": ""
             }
            },
            "type": "scatter3d"
           }
          ],
          "scattercarpet": [
           {
            "marker": {
             "colorbar": {
              "outlinewidth": 0,
              "ticks": ""
             }
            },
            "type": "scattercarpet"
           }
          ],
          "scattergeo": [
           {
            "marker": {
             "colorbar": {
              "outlinewidth": 0,
              "ticks": ""
             }
            },
            "type": "scattergeo"
           }
          ],
          "scattergl": [
           {
            "marker": {
             "colorbar": {
              "outlinewidth": 0,
              "ticks": ""
             }
            },
            "type": "scattergl"
           }
          ],
          "scattermapbox": [
           {
            "marker": {
             "colorbar": {
              "outlinewidth": 0,
              "ticks": ""
             }
            },
            "type": "scattermapbox"
           }
          ],
          "scatterpolar": [
           {
            "marker": {
             "colorbar": {
              "outlinewidth": 0,
              "ticks": ""
             }
            },
            "type": "scatterpolar"
           }
          ],
          "scatterpolargl": [
           {
            "marker": {
             "colorbar": {
              "outlinewidth": 0,
              "ticks": ""
             }
            },
            "type": "scatterpolargl"
           }
          ],
          "scatterternary": [
           {
            "marker": {
             "colorbar": {
              "outlinewidth": 0,
              "ticks": ""
             }
            },
            "type": "scatterternary"
           }
          ],
          "surface": [
           {
            "colorbar": {
             "outlinewidth": 0,
             "ticks": ""
            },
            "colorscale": [
             [
              0,
              "#0d0887"
             ],
             [
              0.1111111111111111,
              "#46039f"
             ],
             [
              0.2222222222222222,
              "#7201a8"
             ],
             [
              0.3333333333333333,
              "#9c179e"
             ],
             [
              0.4444444444444444,
              "#bd3786"
             ],
             [
              0.5555555555555556,
              "#d8576b"
             ],
             [
              0.6666666666666666,
              "#ed7953"
             ],
             [
              0.7777777777777778,
              "#fb9f3a"
             ],
             [
              0.8888888888888888,
              "#fdca26"
             ],
             [
              1,
              "#f0f921"
             ]
            ],
            "type": "surface"
           }
          ],
          "table": [
           {
            "cells": {
             "fill": {
              "color": "#EBF0F8"
             },
             "line": {
              "color": "white"
             }
            },
            "header": {
             "fill": {
              "color": "#C8D4E3"
             },
             "line": {
              "color": "white"
             }
            },
            "type": "table"
           }
          ]
         },
         "layout": {
          "annotationdefaults": {
           "arrowcolor": "#2a3f5f",
           "arrowhead": 0,
           "arrowwidth": 1
          },
          "autotypenumbers": "strict",
          "coloraxis": {
           "colorbar": {
            "outlinewidth": 0,
            "ticks": ""
           }
          },
          "colorscale": {
           "diverging": [
            [
             0,
             "#8e0152"
            ],
            [
             0.1,
             "#c51b7d"
            ],
            [
             0.2,
             "#de77ae"
            ],
            [
             0.3,
             "#f1b6da"
            ],
            [
             0.4,
             "#fde0ef"
            ],
            [
             0.5,
             "#f7f7f7"
            ],
            [
             0.6,
             "#e6f5d0"
            ],
            [
             0.7,
             "#b8e186"
            ],
            [
             0.8,
             "#7fbc41"
            ],
            [
             0.9,
             "#4d9221"
            ],
            [
             1,
             "#276419"
            ]
           ],
           "sequential": [
            [
             0,
             "#0d0887"
            ],
            [
             0.1111111111111111,
             "#46039f"
            ],
            [
             0.2222222222222222,
             "#7201a8"
            ],
            [
             0.3333333333333333,
             "#9c179e"
            ],
            [
             0.4444444444444444,
             "#bd3786"
            ],
            [
             0.5555555555555556,
             "#d8576b"
            ],
            [
             0.6666666666666666,
             "#ed7953"
            ],
            [
             0.7777777777777778,
             "#fb9f3a"
            ],
            [
             0.8888888888888888,
             "#fdca26"
            ],
            [
             1,
             "#f0f921"
            ]
           ],
           "sequentialminus": [
            [
             0,
             "#0d0887"
            ],
            [
             0.1111111111111111,
             "#46039f"
            ],
            [
             0.2222222222222222,
             "#7201a8"
            ],
            [
             0.3333333333333333,
             "#9c179e"
            ],
            [
             0.4444444444444444,
             "#bd3786"
            ],
            [
             0.5555555555555556,
             "#d8576b"
            ],
            [
             0.6666666666666666,
             "#ed7953"
            ],
            [
             0.7777777777777778,
             "#fb9f3a"
            ],
            [
             0.8888888888888888,
             "#fdca26"
            ],
            [
             1,
             "#f0f921"
            ]
           ]
          },
          "colorway": [
           "#636efa",
           "#EF553B",
           "#00cc96",
           "#ab63fa",
           "#FFA15A",
           "#19d3f3",
           "#FF6692",
           "#B6E880",
           "#FF97FF",
           "#FECB52"
          ],
          "font": {
           "color": "#2a3f5f"
          },
          "geo": {
           "bgcolor": "white",
           "lakecolor": "white",
           "landcolor": "#E5ECF6",
           "showlakes": true,
           "showland": true,
           "subunitcolor": "white"
          },
          "hoverlabel": {
           "align": "left"
          },
          "hovermode": "closest",
          "mapbox": {
           "style": "light"
          },
          "paper_bgcolor": "white",
          "plot_bgcolor": "#E5ECF6",
          "polar": {
           "angularaxis": {
            "gridcolor": "white",
            "linecolor": "white",
            "ticks": ""
           },
           "bgcolor": "#E5ECF6",
           "radialaxis": {
            "gridcolor": "white",
            "linecolor": "white",
            "ticks": ""
           }
          },
          "scene": {
           "xaxis": {
            "backgroundcolor": "#E5ECF6",
            "gridcolor": "white",
            "gridwidth": 2,
            "linecolor": "white",
            "showbackground": true,
            "ticks": "",
            "zerolinecolor": "white"
           },
           "yaxis": {
            "backgroundcolor": "#E5ECF6",
            "gridcolor": "white",
            "gridwidth": 2,
            "linecolor": "white",
            "showbackground": true,
            "ticks": "",
            "zerolinecolor": "white"
           },
           "zaxis": {
            "backgroundcolor": "#E5ECF6",
            "gridcolor": "white",
            "gridwidth": 2,
            "linecolor": "white",
            "showbackground": true,
            "ticks": "",
            "zerolinecolor": "white"
           }
          },
          "shapedefaults": {
           "line": {
            "color": "#2a3f5f"
           }
          },
          "ternary": {
           "aaxis": {
            "gridcolor": "white",
            "linecolor": "white",
            "ticks": ""
           },
           "baxis": {
            "gridcolor": "white",
            "linecolor": "white",
            "ticks": ""
           },
           "bgcolor": "#E5ECF6",
           "caxis": {
            "gridcolor": "white",
            "linecolor": "white",
            "ticks": ""
           }
          },
          "title": {
           "x": 0.05
          },
          "xaxis": {
           "automargin": true,
           "gridcolor": "white",
           "linecolor": "white",
           "ticks": "",
           "title": {
            "standoff": 15
           },
           "zerolinecolor": "white",
           "zerolinewidth": 2
          },
          "yaxis": {
           "automargin": true,
           "gridcolor": "white",
           "linecolor": "white",
           "ticks": "",
           "title": {
            "standoff": 15
           },
           "zerolinecolor": "white",
           "zerolinewidth": 2
          }
         }
        },
        "title": {
         "text": "Ride Mileage 2023"
        },
        "xaxis": {
         "anchor": "y",
         "domain": [
          0,
          1
         ],
         "showgrid": false,
         "showline": false,
         "tickmode": "array",
         "ticktext": [
          "January",
          "February",
          "March",
          "April",
          "May",
          "June",
          "July",
          "August",
          "September",
          "October",
          "November",
          "December"
         ],
         "tickvals": [
          1.5,
          5.909090909090909,
          10.318181818181818,
          14.727272727272727,
          19.136363636363637,
          23.545454545454547,
          27.954545454545453,
          32.36363636363636,
          36.77272727272727,
          41.18181818181818,
          45.59090909090909,
          50
         ],
         "zeroline": false
        },
        "yaxis": {
         "anchor": "x",
         "autorange": "reversed",
         "domain": [
          0,
          1
         ],
         "showgrid": false,
         "showline": false,
         "tickmode": "array",
         "ticktext": [
          "Mon",
          "Tue",
          "Wed",
          "Thu",
          "Fri",
          "Sat",
          "Sun"
         ],
         "tickvals": [
          0,
          1,
          2,
          3,
          4,
          5,
          6
         ],
         "zeroline": false
        }
       }
      }
     },
     "metadata": {},
     "output_type": "display_data"
    }
   ],
   "source": [
    "fig = calplot(df_activity_2023, x='ride_date', y='total_distance_mi', colorscale=colorscale, \n",
    "              dark_theme=True, gap=1, month_lines_width=4, month_lines_color='#000000',\n",
    "            showscale=True, total_height=225, title='Ride Mileage 2023', cmap_max=70)\n",
    "fig.show()"
   ]
  },
  {
   "cell_type": "code",
   "execution_count": 18,
   "id": "f4407489",
   "metadata": {},
   "outputs": [
    {
     "data": {
      "application/vnd.plotly.v1+json": {
       "config": {
        "plotlyServerURL": "https://plot.ly"
       },
       "data": [
        {
         "colorscale": [
          [
           0,
           "#888888"
          ],
          [
           0.1111111111111111,
           "#eaf7af"
          ],
          [
           0.2222222222222222,
           "#d2eda0"
          ],
          [
           0.3333333333333333,
           "#b1df90"
          ],
          [
           0.4444444444444444,
           "#8bce81"
          ],
          [
           0.5555555555555556,
           "#64bc6f"
          ],
          [
           0.6666666666666666,
           "#3fa85b"
          ],
          [
           0.7777777777777777,
           "#288a47"
          ],
          [
           0.8888888888888888,
           "#10743c"
          ],
          [
           1,
           "#005e33"
          ]
         ],
         "customdata": [
          [
           "2022-01-01",
           "y"
          ],
          [
           "2022-01-02",
           "y"
          ],
          [
           "2022-01-03",
           "y"
          ],
          [
           "2022-01-04",
           "y"
          ],
          [
           "2022-01-05",
           "y"
          ],
          [
           "2022-01-06",
           "y"
          ],
          [
           "2022-01-07",
           "y"
          ],
          [
           "2022-01-08",
           "y"
          ],
          [
           "2022-01-09",
           "y"
          ],
          [
           "2022-01-10",
           "y"
          ],
          [
           "2022-01-11",
           "y"
          ],
          [
           "2022-01-12",
           "y"
          ],
          [
           "2022-01-13",
           "y"
          ],
          [
           "2022-01-14",
           "y"
          ],
          [
           "2022-01-15",
           "y"
          ],
          [
           "2022-01-16",
           "y"
          ],
          [
           "2022-01-17",
           "y"
          ],
          [
           "2022-01-18",
           "y"
          ],
          [
           "2022-01-19",
           "y"
          ],
          [
           "2022-01-20",
           "y"
          ],
          [
           "2022-01-21",
           "y"
          ],
          [
           "2022-01-22",
           "y"
          ],
          [
           "2022-01-23",
           "y"
          ],
          [
           "2022-01-24",
           "y"
          ],
          [
           "2022-01-25",
           "y"
          ],
          [
           "2022-01-26",
           "y"
          ],
          [
           "2022-01-27",
           "y"
          ],
          [
           "2022-01-28",
           "y"
          ],
          [
           "2022-01-29",
           "y"
          ],
          [
           "2022-01-30",
           "y"
          ],
          [
           "2022-01-31",
           "y"
          ],
          [
           "2022-02-01",
           "y"
          ],
          [
           "2022-02-02",
           "y"
          ],
          [
           "2022-02-03",
           "y"
          ],
          [
           "2022-02-04",
           "y"
          ],
          [
           "2022-02-05",
           "y"
          ],
          [
           "2022-02-06",
           "y"
          ],
          [
           "2022-02-07",
           "y"
          ],
          [
           "2022-02-08",
           "y"
          ],
          [
           "2022-02-09",
           "y"
          ],
          [
           "2022-02-10",
           "y"
          ],
          [
           "2022-02-11",
           "y"
          ],
          [
           "2022-02-12",
           "y"
          ],
          [
           "2022-02-13",
           "y"
          ],
          [
           "2022-02-14",
           "y"
          ],
          [
           "2022-02-15",
           "y"
          ],
          [
           "2022-02-16",
           "y"
          ],
          [
           "2022-02-17",
           "y"
          ],
          [
           "2022-02-18",
           "y"
          ],
          [
           "2022-02-19",
           "y"
          ],
          [
           "2022-02-20",
           "y"
          ],
          [
           "2022-02-21",
           "y"
          ],
          [
           "2022-02-22",
           "y"
          ],
          [
           "2022-02-23",
           "y"
          ],
          [
           "2022-02-24",
           "y"
          ],
          [
           "2022-02-25",
           "y"
          ],
          [
           "2022-02-26",
           "y"
          ],
          [
           "2022-02-27",
           "y"
          ],
          [
           "2022-02-28",
           "y"
          ],
          [
           "2022-03-01",
           "y"
          ],
          [
           "2022-03-02",
           "y"
          ],
          [
           "2022-03-03",
           "y"
          ],
          [
           "2022-03-04",
           "y"
          ],
          [
           "2022-03-05",
           "y"
          ],
          [
           "2022-03-06",
           "y"
          ],
          [
           "2022-03-07",
           "y"
          ],
          [
           "2022-03-08",
           "y"
          ],
          [
           "2022-03-09",
           "y"
          ],
          [
           "2022-03-10",
           "y"
          ],
          [
           "2022-03-11",
           "y"
          ],
          [
           "2022-03-12",
           "y"
          ],
          [
           "2022-03-13",
           "y"
          ],
          [
           "2022-03-14",
           "y"
          ],
          [
           "2022-03-15",
           "y"
          ],
          [
           "2022-03-16",
           "y"
          ],
          [
           "2022-03-17",
           "y"
          ],
          [
           "2022-03-18",
           "y"
          ],
          [
           "2022-03-19",
           "y"
          ],
          [
           "2022-03-20",
           "y"
          ],
          [
           "2022-03-21",
           "y"
          ],
          [
           "2022-03-22",
           "y"
          ],
          [
           "2022-03-23",
           "y"
          ],
          [
           "2022-03-24",
           "y"
          ],
          [
           "2022-03-25",
           "y"
          ],
          [
           "2022-03-26",
           "y"
          ],
          [
           "2022-03-27",
           "y"
          ],
          [
           "2022-03-28",
           "y"
          ],
          [
           "2022-03-29",
           "y"
          ],
          [
           "2022-03-30",
           "y"
          ],
          [
           "2022-03-31",
           "y"
          ],
          [
           "2022-04-01",
           "y"
          ],
          [
           "2022-04-02",
           "y"
          ],
          [
           "2022-04-03",
           "y"
          ],
          [
           "2022-04-04",
           "y"
          ],
          [
           "2022-04-05",
           "y"
          ],
          [
           "2022-04-06",
           "y"
          ],
          [
           "2022-04-07",
           "y"
          ],
          [
           "2022-04-08",
           "y"
          ],
          [
           "2022-04-09",
           "y"
          ],
          [
           "2022-04-10",
           "y"
          ],
          [
           "2022-04-11",
           "y"
          ],
          [
           "2022-04-12",
           "y"
          ],
          [
           "2022-04-13",
           "y"
          ],
          [
           "2022-04-14",
           "y"
          ],
          [
           "2022-04-15",
           "y"
          ],
          [
           "2022-04-16",
           "y"
          ],
          [
           "2022-04-17",
           "y"
          ],
          [
           "2022-04-18",
           "y"
          ],
          [
           "2022-04-19",
           "y"
          ],
          [
           "2022-04-20",
           "y"
          ],
          [
           "2022-04-21",
           "y"
          ],
          [
           "2022-04-22",
           "y"
          ],
          [
           "2022-04-23",
           "y"
          ],
          [
           "2022-04-24",
           "y"
          ],
          [
           "2022-04-25",
           "y"
          ],
          [
           "2022-04-26",
           "y"
          ],
          [
           "2022-04-27",
           "y"
          ],
          [
           "2022-04-28",
           "y"
          ],
          [
           "2022-04-29",
           "y"
          ],
          [
           "2022-04-30",
           "y"
          ],
          [
           "2022-05-01",
           "y"
          ],
          [
           "2022-05-02",
           "y"
          ],
          [
           "2022-05-03",
           "y"
          ],
          [
           "2022-05-04",
           "y"
          ],
          [
           "2022-05-05",
           "y"
          ],
          [
           "2022-05-06",
           "y"
          ],
          [
           "2022-05-07",
           "y"
          ],
          [
           "2022-05-08",
           "y"
          ],
          [
           "2022-05-09",
           "y"
          ],
          [
           "2022-05-10",
           "y"
          ],
          [
           "2022-05-11",
           "y"
          ],
          [
           "2022-05-12",
           "y"
          ],
          [
           "2022-05-13",
           "y"
          ],
          [
           "2022-05-14",
           "y"
          ],
          [
           "2022-05-15",
           "y"
          ],
          [
           "2022-05-16",
           "y"
          ],
          [
           "2022-05-17",
           "y"
          ],
          [
           "2022-05-18",
           "y"
          ],
          [
           "2022-05-19",
           "y"
          ],
          [
           "2022-05-20",
           "y"
          ],
          [
           "2022-05-21",
           "y"
          ],
          [
           "2022-05-22",
           "y"
          ],
          [
           "2022-05-23",
           "y"
          ],
          [
           "2022-05-24",
           "y"
          ],
          [
           "2022-05-25",
           "y"
          ],
          [
           "2022-05-26",
           "y"
          ],
          [
           "2022-05-27",
           "y"
          ],
          [
           "2022-05-28",
           "y"
          ],
          [
           "2022-05-29",
           "y"
          ],
          [
           "2022-05-30",
           "y"
          ],
          [
           "2022-05-31",
           "y"
          ],
          [
           "2022-06-01",
           "y"
          ],
          [
           "2022-06-02",
           "y"
          ],
          [
           "2022-06-03",
           "y"
          ],
          [
           "2022-06-04",
           "y"
          ],
          [
           "2022-06-05",
           "y"
          ],
          [
           "2022-06-06",
           "y"
          ],
          [
           "2022-06-07",
           "y"
          ],
          [
           "2022-06-08",
           "y"
          ],
          [
           "2022-06-09",
           "y"
          ],
          [
           "2022-06-10",
           "y"
          ],
          [
           "2022-06-11",
           "y"
          ],
          [
           "2022-06-12",
           "y"
          ],
          [
           "2022-06-13",
           "y"
          ],
          [
           "2022-06-14",
           "y"
          ],
          [
           "2022-06-15",
           "y"
          ],
          [
           "2022-06-16",
           "y"
          ],
          [
           "2022-06-17",
           "y"
          ],
          [
           "2022-06-18",
           "y"
          ],
          [
           "2022-06-19",
           "y"
          ],
          [
           "2022-06-20",
           "y"
          ],
          [
           "2022-06-21",
           "y"
          ],
          [
           "2022-06-22",
           "y"
          ],
          [
           "2022-06-23",
           "y"
          ],
          [
           "2022-06-24",
           "y"
          ],
          [
           "2022-06-25",
           "y"
          ],
          [
           "2022-06-26",
           "y"
          ],
          [
           "2022-06-27",
           "y"
          ],
          [
           "2022-06-28",
           "y"
          ],
          [
           "2022-06-29",
           "y"
          ],
          [
           "2022-06-30",
           "y"
          ],
          [
           "2022-07-01",
           "y"
          ],
          [
           "2022-07-02",
           "y"
          ],
          [
           "2022-07-03",
           "y"
          ],
          [
           "2022-07-04",
           "y"
          ],
          [
           "2022-07-05",
           "y"
          ],
          [
           "2022-07-06",
           "y"
          ],
          [
           "2022-07-07",
           "y"
          ],
          [
           "2022-07-08",
           "y"
          ],
          [
           "2022-07-09",
           "y"
          ],
          [
           "2022-07-10",
           "y"
          ],
          [
           "2022-07-11",
           "y"
          ],
          [
           "2022-07-12",
           "y"
          ],
          [
           "2022-07-13",
           "y"
          ],
          [
           "2022-07-14",
           "y"
          ],
          [
           "2022-07-15",
           "y"
          ],
          [
           "2022-07-16",
           "y"
          ],
          [
           "2022-07-17",
           "y"
          ],
          [
           "2022-07-18",
           "y"
          ],
          [
           "2022-07-19",
           "y"
          ],
          [
           "2022-07-20",
           "y"
          ],
          [
           "2022-07-21",
           "y"
          ],
          [
           "2022-07-22",
           "y"
          ],
          [
           "2022-07-23",
           "y"
          ],
          [
           "2022-07-24",
           "y"
          ],
          [
           "2022-07-25",
           "y"
          ],
          [
           "2022-07-26",
           "y"
          ],
          [
           "2022-07-27",
           "y"
          ],
          [
           "2022-07-28",
           "y"
          ],
          [
           "2022-07-29",
           "y"
          ],
          [
           "2022-07-30",
           "y"
          ],
          [
           "2022-07-31",
           "y"
          ],
          [
           "2022-08-01",
           "y"
          ],
          [
           "2022-08-02",
           "y"
          ],
          [
           "2022-08-03",
           "y"
          ],
          [
           "2022-08-04",
           "y"
          ],
          [
           "2022-08-05",
           "y"
          ],
          [
           "2022-08-06",
           "y"
          ],
          [
           "2022-08-07",
           "y"
          ],
          [
           "2022-08-08",
           "y"
          ],
          [
           "2022-08-09",
           "y"
          ],
          [
           "2022-08-10",
           "y"
          ],
          [
           "2022-08-11",
           "y"
          ],
          [
           "2022-08-12",
           "y"
          ],
          [
           "2022-08-13",
           "y"
          ],
          [
           "2022-08-14",
           "y"
          ],
          [
           "2022-08-15",
           "y"
          ],
          [
           "2022-08-16",
           "y"
          ],
          [
           "2022-08-17",
           "y"
          ],
          [
           "2022-08-18",
           "y"
          ],
          [
           "2022-08-19",
           "y"
          ],
          [
           "2022-08-20",
           "y"
          ],
          [
           "2022-08-21",
           "y"
          ],
          [
           "2022-08-22",
           "y"
          ],
          [
           "2022-08-23",
           "y"
          ],
          [
           "2022-08-24",
           "y"
          ],
          [
           "2022-08-25",
           "y"
          ],
          [
           "2022-08-26",
           "y"
          ],
          [
           "2022-08-27",
           "y"
          ],
          [
           "2022-08-28",
           "y"
          ],
          [
           "2022-08-29",
           "y"
          ],
          [
           "2022-08-30",
           "y"
          ],
          [
           "2022-08-31",
           "y"
          ],
          [
           "2022-09-01",
           "y"
          ],
          [
           "2022-09-02",
           "y"
          ],
          [
           "2022-09-03",
           "y"
          ],
          [
           "2022-09-04",
           "y"
          ],
          [
           "2022-09-05",
           "y"
          ],
          [
           "2022-09-06",
           "y"
          ],
          [
           "2022-09-07",
           "y"
          ],
          [
           "2022-09-08",
           "y"
          ],
          [
           "2022-09-09",
           "y"
          ],
          [
           "2022-09-10",
           "y"
          ],
          [
           "2022-09-11",
           "y"
          ],
          [
           "2022-09-12",
           "y"
          ],
          [
           "2022-09-13",
           "y"
          ],
          [
           "2022-09-14",
           "y"
          ],
          [
           "2022-09-15",
           "y"
          ],
          [
           "2022-09-16",
           "y"
          ],
          [
           "2022-09-17",
           "y"
          ],
          [
           "2022-09-18",
           "y"
          ],
          [
           "2022-09-19",
           "y"
          ],
          [
           "2022-09-20",
           "y"
          ],
          [
           "2022-09-21",
           "y"
          ],
          [
           "2022-09-22",
           "y"
          ],
          [
           "2022-09-23",
           "y"
          ],
          [
           "2022-09-24",
           "y"
          ],
          [
           "2022-09-25",
           "y"
          ],
          [
           "2022-09-26",
           "y"
          ],
          [
           "2022-09-27",
           "y"
          ],
          [
           "2022-09-28",
           "y"
          ],
          [
           "2022-09-29",
           "y"
          ],
          [
           "2022-09-30",
           "y"
          ],
          [
           "2022-10-01",
           "y"
          ],
          [
           "2022-10-02",
           "y"
          ],
          [
           "2022-10-03",
           "y"
          ],
          [
           "2022-10-04",
           "y"
          ],
          [
           "2022-10-05",
           "y"
          ],
          [
           "2022-10-06",
           "y"
          ],
          [
           "2022-10-07",
           "y"
          ],
          [
           "2022-10-08",
           "y"
          ],
          [
           "2022-10-09",
           "y"
          ],
          [
           "2022-10-10",
           "y"
          ],
          [
           "2022-10-11",
           "y"
          ],
          [
           "2022-10-12",
           "y"
          ],
          [
           "2022-10-13",
           "y"
          ],
          [
           "2022-10-14",
           "y"
          ],
          [
           "2022-10-15",
           "y"
          ],
          [
           "2022-10-16",
           "y"
          ],
          [
           "2022-10-17",
           "y"
          ],
          [
           "2022-10-18",
           "y"
          ],
          [
           "2022-10-19",
           "y"
          ],
          [
           "2022-10-20",
           "y"
          ],
          [
           "2022-10-21",
           "y"
          ],
          [
           "2022-10-22",
           "y"
          ],
          [
           "2022-10-23",
           "y"
          ],
          [
           "2022-10-24",
           "y"
          ],
          [
           "2022-10-25",
           "y"
          ],
          [
           "2022-10-26",
           "y"
          ],
          [
           "2022-10-27",
           "y"
          ],
          [
           "2022-10-28",
           "y"
          ],
          [
           "2022-10-29",
           "y"
          ],
          [
           "2022-10-30",
           "y"
          ],
          [
           "2022-10-31",
           "y"
          ],
          [
           "2022-11-01",
           "y"
          ],
          [
           "2022-11-02",
           "y"
          ],
          [
           "2022-11-03",
           "y"
          ],
          [
           "2022-11-04",
           "y"
          ],
          [
           "2022-11-05",
           "y"
          ],
          [
           "2022-11-06",
           "y"
          ],
          [
           "2022-11-07",
           "y"
          ],
          [
           "2022-11-08",
           "y"
          ],
          [
           "2022-11-09",
           "y"
          ],
          [
           "2022-11-10",
           "y"
          ],
          [
           "2022-11-11",
           "y"
          ],
          [
           "2022-11-12",
           "y"
          ],
          [
           "2022-11-13",
           "y"
          ],
          [
           "2022-11-14",
           "y"
          ],
          [
           "2022-11-15",
           "y"
          ],
          [
           "2022-11-16",
           "y"
          ],
          [
           "2022-11-17",
           "y"
          ],
          [
           "2022-11-18",
           "y"
          ],
          [
           "2022-11-19",
           "y"
          ],
          [
           "2022-11-20",
           "y"
          ],
          [
           "2022-11-21",
           "y"
          ],
          [
           "2022-11-22",
           "y"
          ],
          [
           "2022-11-23",
           "y"
          ],
          [
           "2022-11-24",
           "y"
          ],
          [
           "2022-11-25",
           "y"
          ],
          [
           "2022-11-26",
           "y"
          ],
          [
           "2022-11-27",
           "y"
          ],
          [
           "2022-11-28",
           "y"
          ],
          [
           "2022-11-29",
           "y"
          ],
          [
           "2022-11-30",
           "y"
          ],
          [
           "2022-12-01",
           "y"
          ],
          [
           "2022-12-02",
           "y"
          ],
          [
           "2022-12-03",
           "y"
          ],
          [
           "2022-12-04",
           "y"
          ],
          [
           "2022-12-05",
           "y"
          ],
          [
           "2022-12-06",
           "y"
          ],
          [
           "2022-12-07",
           "y"
          ],
          [
           "2022-12-08",
           "y"
          ],
          [
           "2022-12-09",
           "y"
          ],
          [
           "2022-12-10",
           "y"
          ],
          [
           "2022-12-11",
           "y"
          ],
          [
           "2022-12-12",
           "y"
          ],
          [
           "2022-12-13",
           "y"
          ],
          [
           "2022-12-14",
           "y"
          ],
          [
           "2022-12-15",
           "y"
          ],
          [
           "2022-12-16",
           "y"
          ],
          [
           "2022-12-17",
           "y"
          ],
          [
           "2022-12-18",
           "y"
          ],
          [
           "2022-12-19",
           "y"
          ],
          [
           "2022-12-20",
           "y"
          ],
          [
           "2022-12-21",
           "y"
          ],
          [
           "2022-12-22",
           "y"
          ],
          [
           "2022-12-23",
           "y"
          ],
          [
           "2022-12-24",
           "y"
          ],
          [
           "2022-12-25",
           "y"
          ],
          [
           "2022-12-26",
           "y"
          ],
          [
           "2022-12-27",
           "y"
          ],
          [
           "2022-12-28",
           "y"
          ],
          [
           "2022-12-29",
           "y"
          ],
          [
           "2022-12-30",
           "y"
          ],
          [
           "2022-12-31",
           "y"
          ]
         ],
         "hovertemplate": "%{customdata[0]} <br>Week=%{x} <br>%{customdata[1]}=%{z}",
         "name": "2022",
         "showscale": true,
         "type": "heatmap",
         "x": [
          0,
          0,
          1,
          1,
          1,
          1,
          1,
          1,
          1,
          2,
          2,
          2,
          2,
          2,
          2,
          2,
          3,
          3,
          3,
          3,
          3,
          3,
          3,
          4,
          4,
          4,
          4,
          4,
          4,
          4,
          5,
          5,
          5,
          5,
          5,
          5,
          5,
          6,
          6,
          6,
          6,
          6,
          6,
          6,
          7,
          7,
          7,
          7,
          7,
          7,
          7,
          8,
          8,
          8,
          8,
          8,
          8,
          8,
          9,
          9,
          9,
          9,
          9,
          9,
          9,
          10,
          10,
          10,
          10,
          10,
          10,
          10,
          11,
          11,
          11,
          11,
          11,
          11,
          11,
          12,
          12,
          12,
          12,
          12,
          12,
          12,
          13,
          13,
          13,
          13,
          13,
          13,
          13,
          14,
          14,
          14,
          14,
          14,
          14,
          14,
          15,
          15,
          15,
          15,
          15,
          15,
          15,
          16,
          16,
          16,
          16,
          16,
          16,
          16,
          17,
          17,
          17,
          17,
          17,
          17,
          17,
          18,
          18,
          18,
          18,
          18,
          18,
          18,
          19,
          19,
          19,
          19,
          19,
          19,
          19,
          20,
          20,
          20,
          20,
          20,
          20,
          20,
          21,
          21,
          21,
          21,
          21,
          21,
          21,
          22,
          22,
          22,
          22,
          22,
          22,
          22,
          23,
          23,
          23,
          23,
          23,
          23,
          23,
          24,
          24,
          24,
          24,
          24,
          24,
          24,
          25,
          25,
          25,
          25,
          25,
          25,
          25,
          26,
          26,
          26,
          26,
          26,
          26,
          26,
          27,
          27,
          27,
          27,
          27,
          27,
          27,
          28,
          28,
          28,
          28,
          28,
          28,
          28,
          29,
          29,
          29,
          29,
          29,
          29,
          29,
          30,
          30,
          30,
          30,
          30,
          30,
          30,
          31,
          31,
          31,
          31,
          31,
          31,
          31,
          32,
          32,
          32,
          32,
          32,
          32,
          32,
          33,
          33,
          33,
          33,
          33,
          33,
          33,
          34,
          34,
          34,
          34,
          34,
          34,
          34,
          35,
          35,
          35,
          35,
          35,
          35,
          35,
          36,
          36,
          36,
          36,
          36,
          36,
          36,
          37,
          37,
          37,
          37,
          37,
          37,
          37,
          38,
          38,
          38,
          38,
          38,
          38,
          38,
          39,
          39,
          39,
          39,
          39,
          39,
          39,
          40,
          40,
          40,
          40,
          40,
          40,
          40,
          41,
          41,
          41,
          41,
          41,
          41,
          41,
          42,
          42,
          42,
          42,
          42,
          42,
          42,
          43,
          43,
          43,
          43,
          43,
          43,
          43,
          44,
          44,
          44,
          44,
          44,
          44,
          44,
          45,
          45,
          45,
          45,
          45,
          45,
          45,
          46,
          46,
          46,
          46,
          46,
          46,
          46,
          47,
          47,
          47,
          47,
          47,
          47,
          47,
          48,
          48,
          48,
          48,
          48,
          48,
          48,
          49,
          49,
          49,
          49,
          49,
          49,
          49,
          50,
          50,
          50,
          50,
          50,
          50,
          50,
          51,
          51,
          51,
          51,
          51,
          51,
          51,
          52,
          52,
          52,
          52,
          52,
          52
         ],
         "xaxis": "x",
         "xgap": 1,
         "y": [
          5,
          6,
          0,
          1,
          2,
          3,
          4,
          5,
          6,
          0,
          1,
          2,
          3,
          4,
          5,
          6,
          0,
          1,
          2,
          3,
          4,
          5,
          6,
          0,
          1,
          2,
          3,
          4,
          5,
          6,
          0,
          1,
          2,
          3,
          4,
          5,
          6,
          0,
          1,
          2,
          3,
          4,
          5,
          6,
          0,
          1,
          2,
          3,
          4,
          5,
          6,
          0,
          1,
          2,
          3,
          4,
          5,
          6,
          0,
          1,
          2,
          3,
          4,
          5,
          6,
          0,
          1,
          2,
          3,
          4,
          5,
          6,
          0,
          1,
          2,
          3,
          4,
          5,
          6,
          0,
          1,
          2,
          3,
          4,
          5,
          6,
          0,
          1,
          2,
          3,
          4,
          5,
          6,
          0,
          1,
          2,
          3,
          4,
          5,
          6,
          0,
          1,
          2,
          3,
          4,
          5,
          6,
          0,
          1,
          2,
          3,
          4,
          5,
          6,
          0,
          1,
          2,
          3,
          4,
          5,
          6,
          0,
          1,
          2,
          3,
          4,
          5,
          6,
          0,
          1,
          2,
          3,
          4,
          5,
          6,
          0,
          1,
          2,
          3,
          4,
          5,
          6,
          0,
          1,
          2,
          3,
          4,
          5,
          6,
          0,
          1,
          2,
          3,
          4,
          5,
          6,
          0,
          1,
          2,
          3,
          4,
          5,
          6,
          0,
          1,
          2,
          3,
          4,
          5,
          6,
          0,
          1,
          2,
          3,
          4,
          5,
          6,
          0,
          1,
          2,
          3,
          4,
          5,
          6,
          0,
          1,
          2,
          3,
          4,
          5,
          6,
          0,
          1,
          2,
          3,
          4,
          5,
          6,
          0,
          1,
          2,
          3,
          4,
          5,
          6,
          0,
          1,
          2,
          3,
          4,
          5,
          6,
          0,
          1,
          2,
          3,
          4,
          5,
          6,
          0,
          1,
          2,
          3,
          4,
          5,
          6,
          0,
          1,
          2,
          3,
          4,
          5,
          6,
          0,
          1,
          2,
          3,
          4,
          5,
          6,
          0,
          1,
          2,
          3,
          4,
          5,
          6,
          0,
          1,
          2,
          3,
          4,
          5,
          6,
          0,
          1,
          2,
          3,
          4,
          5,
          6,
          0,
          1,
          2,
          3,
          4,
          5,
          6,
          0,
          1,
          2,
          3,
          4,
          5,
          6,
          0,
          1,
          2,
          3,
          4,
          5,
          6,
          0,
          1,
          2,
          3,
          4,
          5,
          6,
          0,
          1,
          2,
          3,
          4,
          5,
          6,
          0,
          1,
          2,
          3,
          4,
          5,
          6,
          0,
          1,
          2,
          3,
          4,
          5,
          6,
          0,
          1,
          2,
          3,
          4,
          5,
          6,
          0,
          1,
          2,
          3,
          4,
          5,
          6,
          0,
          1,
          2,
          3,
          4,
          5,
          6,
          0,
          1,
          2,
          3,
          4,
          5,
          6,
          0,
          1,
          2,
          3,
          4,
          5,
          6,
          0,
          1,
          2,
          3,
          4,
          5,
          6,
          0,
          1,
          2,
          3,
          4,
          5,
          6,
          0,
          1,
          2,
          3,
          4,
          5
         ],
         "yaxis": "y",
         "ygap": 1,
         "z": [
          0,
          0,
          0,
          0,
          0,
          0,
          0,
          0,
          0,
          0,
          0,
          0,
          0,
          0,
          0,
          0,
          0,
          0,
          0,
          0,
          0,
          0,
          0,
          0,
          0,
          0,
          0,
          0,
          0,
          0,
          0,
          0,
          0,
          0,
          0,
          0,
          0,
          0,
          0,
          0,
          0,
          0,
          0,
          0,
          0,
          0,
          8.177886630557389,
          0,
          11.854991602459643,
          0,
          0,
          0,
          6.581159916611914,
          0,
          0,
          0,
          0,
          9.66586503572992,
          0,
          9.69017704019494,
          0,
          0,
          0,
          34.16923541763014,
          0,
          0,
          0,
          0,
          0,
          0,
          0,
          0,
          0,
          0,
          0,
          14.23031492746864,
          13.556808869780973,
          0,
          0,
          0,
          0,
          0,
          0,
          0,
          0,
          0,
          0,
          0,
          7.332484043294077,
          9.828791888770027,
          0,
          0,
          0,
          0,
          0,
          0,
          0,
          0,
          0,
          19.27826740110735,
          3.2094445625468304,
          0,
          0,
          0,
          0,
          0,
          0,
          0,
          0,
          0,
          0,
          0,
          0,
          0,
          0,
          0,
          0,
          0,
          0,
          0,
          0,
          1.5607630296964192,
          0,
          0,
          0,
          0,
          0,
          0,
          0,
          0,
          0,
          13.445196883557692,
          13.210286156229188,
          0,
          0,
          0,
          16.597193326459617,
          0,
          0,
          0,
          0,
          0,
          0,
          0,
          0,
          0,
          0,
          23.147678316527248,
          0,
          0,
          0,
          0,
          0,
          0,
          0,
          0,
          0,
          0,
          0,
          0,
          0,
          0,
          0,
          0,
          0,
          0,
          0,
          0,
          0,
          0,
          0,
          0,
          0,
          0,
          0,
          11.704077331022784,
          23.96977508033472,
          0,
          0,
          0,
          0,
          0,
          0,
          0,
          0,
          0,
          0,
          0,
          0,
          0,
          0,
          0,
          0,
          0,
          0,
          0,
          0,
          0,
          0,
          0,
          0,
          0,
          0,
          0,
          0,
          0,
          0,
          0,
          0,
          0,
          0,
          6.177419024404991,
          0,
          0,
          0,
          0,
          0,
          0,
          0,
          0,
          0,
          0,
          0,
          0,
          0,
          0,
          0,
          6.50197128418788,
          0,
          0,
          0,
          0,
          0,
          0,
          0,
          6.005594565667446,
          18.49837588536633,
          0,
          0,
          0,
          0,
          0,
          0,
          0,
          0,
          0,
          0,
          0,
          0,
          0,
          0,
          0,
          0,
          0,
          0,
          0,
          0,
          0,
          0,
          0,
          13.510012883870717,
          0,
          0,
          0,
          0,
          0,
          0,
          0,
          0,
          0,
          0,
          0,
          0,
          0,
          0,
          0,
          0,
          0,
          16.572430217465815,
          0,
          0,
          0,
          0,
          0,
          0,
          0,
          0,
          0,
          0,
          0,
          0,
          0,
          0,
          0,
          0,
          0,
          0,
          0,
          0,
          0,
          0,
          0,
          0,
          0,
          0,
          0,
          0,
          0,
          0,
          0,
          0,
          0,
          0,
          0,
          0,
          0,
          0,
          0,
          0,
          0,
          0,
          0,
          0,
          0,
          0,
          0,
          0,
          0,
          0,
          0,
          0,
          0,
          0,
          0,
          0,
          0,
          0,
          0,
          0,
          0,
          0,
          0,
          0,
          0,
          0,
          0,
          0,
          0,
          0,
          0,
          0,
          0,
          0,
          0,
          0,
          0,
          0,
          0,
          0,
          0,
          0,
          0,
          0,
          0,
          0
         ],
         "zmax": 70,
         "zmin": 0
        },
        {
         "hoverinfo": "skip",
         "line": {
          "color": "#000000",
          "width": 4
         },
         "mode": "lines",
         "type": "scatter",
         "x": [
          -0.5,
          -0.5
         ],
         "xaxis": "x",
         "y": [
          4.5,
          6.5
         ],
         "yaxis": "y"
        },
        {
         "hoverinfo": "skip",
         "line": {
          "color": "#000000",
          "width": 4
         },
         "mode": "lines",
         "type": "scatter",
         "x": [
          -0.5,
          0.5
         ],
         "xaxis": "x",
         "y": [
          4.5,
          4.5
         ],
         "yaxis": "y"
        },
        {
         "hoverinfo": "skip",
         "line": {
          "color": "#000000",
          "width": 4
         },
         "mode": "lines",
         "type": "scatter",
         "x": [
          0.5,
          0.5
         ],
         "xaxis": "x",
         "y": [
          4.5,
          -0.5
         ],
         "yaxis": "y"
        },
        {
         "hoverinfo": "skip",
         "line": {
          "color": "#000000",
          "width": 4
         },
         "mode": "lines",
         "type": "scatter",
         "x": [
          4.5,
          4.5
         ],
         "xaxis": "x",
         "y": [
          0.5,
          6.5
         ],
         "yaxis": "y"
        },
        {
         "hoverinfo": "skip",
         "line": {
          "color": "#000000",
          "width": 4
         },
         "mode": "lines",
         "type": "scatter",
         "x": [
          4.5,
          5.5
         ],
         "xaxis": "x",
         "y": [
          0.5,
          0.5
         ],
         "yaxis": "y"
        },
        {
         "hoverinfo": "skip",
         "line": {
          "color": "#000000",
          "width": 4
         },
         "mode": "lines",
         "type": "scatter",
         "x": [
          5.5,
          5.5
         ],
         "xaxis": "x",
         "y": [
          0.5,
          -0.5
         ],
         "yaxis": "y"
        },
        {
         "hoverinfo": "skip",
         "line": {
          "color": "#000000",
          "width": 4
         },
         "mode": "lines",
         "type": "scatter",
         "x": [
          8.5,
          8.5
         ],
         "xaxis": "x",
         "y": [
          0.5,
          6.5
         ],
         "yaxis": "y"
        },
        {
         "hoverinfo": "skip",
         "line": {
          "color": "#000000",
          "width": 4
         },
         "mode": "lines",
         "type": "scatter",
         "x": [
          8.5,
          9.5
         ],
         "xaxis": "x",
         "y": [
          0.5,
          0.5
         ],
         "yaxis": "y"
        },
        {
         "hoverinfo": "skip",
         "line": {
          "color": "#000000",
          "width": 4
         },
         "mode": "lines",
         "type": "scatter",
         "x": [
          9.5,
          9.5
         ],
         "xaxis": "x",
         "y": [
          0.5,
          -0.5
         ],
         "yaxis": "y"
        },
        {
         "hoverinfo": "skip",
         "line": {
          "color": "#000000",
          "width": 4
         },
         "mode": "lines",
         "type": "scatter",
         "x": [
          12.5,
          12.5
         ],
         "xaxis": "x",
         "y": [
          3.5,
          6.5
         ],
         "yaxis": "y"
        },
        {
         "hoverinfo": "skip",
         "line": {
          "color": "#000000",
          "width": 4
         },
         "mode": "lines",
         "type": "scatter",
         "x": [
          12.5,
          13.5
         ],
         "xaxis": "x",
         "y": [
          3.5,
          3.5
         ],
         "yaxis": "y"
        },
        {
         "hoverinfo": "skip",
         "line": {
          "color": "#000000",
          "width": 4
         },
         "mode": "lines",
         "type": "scatter",
         "x": [
          13.5,
          13.5
         ],
         "xaxis": "x",
         "y": [
          3.5,
          -0.5
         ],
         "yaxis": "y"
        },
        {
         "hoverinfo": "skip",
         "line": {
          "color": "#000000",
          "width": 4
         },
         "mode": "lines",
         "type": "scatter",
         "x": [
          16.5,
          16.5
         ],
         "xaxis": "x",
         "y": [
          5.5,
          6.5
         ],
         "yaxis": "y"
        },
        {
         "hoverinfo": "skip",
         "line": {
          "color": "#000000",
          "width": 4
         },
         "mode": "lines",
         "type": "scatter",
         "x": [
          16.5,
          17.5
         ],
         "xaxis": "x",
         "y": [
          5.5,
          5.5
         ],
         "yaxis": "y"
        },
        {
         "hoverinfo": "skip",
         "line": {
          "color": "#000000",
          "width": 4
         },
         "mode": "lines",
         "type": "scatter",
         "x": [
          17.5,
          17.5
         ],
         "xaxis": "x",
         "y": [
          5.5,
          -0.5
         ],
         "yaxis": "y"
        },
        {
         "hoverinfo": "skip",
         "line": {
          "color": "#000000",
          "width": 4
         },
         "mode": "lines",
         "type": "scatter",
         "x": [
          21.5,
          21.5
         ],
         "xaxis": "x",
         "y": [
          1.5,
          6.5
         ],
         "yaxis": "y"
        },
        {
         "hoverinfo": "skip",
         "line": {
          "color": "#000000",
          "width": 4
         },
         "mode": "lines",
         "type": "scatter",
         "x": [
          21.5,
          22.5
         ],
         "xaxis": "x",
         "y": [
          1.5,
          1.5
         ],
         "yaxis": "y"
        },
        {
         "hoverinfo": "skip",
         "line": {
          "color": "#000000",
          "width": 4
         },
         "mode": "lines",
         "type": "scatter",
         "x": [
          22.5,
          22.5
         ],
         "xaxis": "x",
         "y": [
          1.5,
          -0.5
         ],
         "yaxis": "y"
        },
        {
         "hoverinfo": "skip",
         "line": {
          "color": "#000000",
          "width": 4
         },
         "mode": "lines",
         "type": "scatter",
         "x": [
          25.5,
          25.5
         ],
         "xaxis": "x",
         "y": [
          3.5,
          6.5
         ],
         "yaxis": "y"
        },
        {
         "hoverinfo": "skip",
         "line": {
          "color": "#000000",
          "width": 4
         },
         "mode": "lines",
         "type": "scatter",
         "x": [
          25.5,
          26.5
         ],
         "xaxis": "x",
         "y": [
          3.5,
          3.5
         ],
         "yaxis": "y"
        },
        {
         "hoverinfo": "skip",
         "line": {
          "color": "#000000",
          "width": 4
         },
         "mode": "lines",
         "type": "scatter",
         "x": [
          26.5,
          26.5
         ],
         "xaxis": "x",
         "y": [
          3.5,
          -0.5
         ],
         "yaxis": "y"
        },
        {
         "hoverinfo": "skip",
         "line": {
          "color": "#000000",
          "width": 4
         },
         "mode": "lines",
         "type": "scatter",
         "x": [
          30.5,
          30.5
         ],
         "xaxis": "x",
         "y": [
          -0.5,
          6.5
         ],
         "yaxis": "y"
        },
        {
         "hoverinfo": "skip",
         "line": {
          "color": "#000000",
          "width": 4
         },
         "mode": "lines",
         "type": "scatter",
         "x": [
          34.5,
          34.5
         ],
         "xaxis": "x",
         "y": [
          2.5,
          6.5
         ],
         "yaxis": "y"
        },
        {
         "hoverinfo": "skip",
         "line": {
          "color": "#000000",
          "width": 4
         },
         "mode": "lines",
         "type": "scatter",
         "x": [
          34.5,
          35.5
         ],
         "xaxis": "x",
         "y": [
          2.5,
          2.5
         ],
         "yaxis": "y"
        },
        {
         "hoverinfo": "skip",
         "line": {
          "color": "#000000",
          "width": 4
         },
         "mode": "lines",
         "type": "scatter",
         "x": [
          35.5,
          35.5
         ],
         "xaxis": "x",
         "y": [
          2.5,
          -0.5
         ],
         "yaxis": "y"
        },
        {
         "hoverinfo": "skip",
         "line": {
          "color": "#000000",
          "width": 4
         },
         "mode": "lines",
         "type": "scatter",
         "x": [
          38.5,
          38.5
         ],
         "xaxis": "x",
         "y": [
          4.5,
          6.5
         ],
         "yaxis": "y"
        },
        {
         "hoverinfo": "skip",
         "line": {
          "color": "#000000",
          "width": 4
         },
         "mode": "lines",
         "type": "scatter",
         "x": [
          38.5,
          39.5
         ],
         "xaxis": "x",
         "y": [
          4.5,
          4.5
         ],
         "yaxis": "y"
        },
        {
         "hoverinfo": "skip",
         "line": {
          "color": "#000000",
          "width": 4
         },
         "mode": "lines",
         "type": "scatter",
         "x": [
          39.5,
          39.5
         ],
         "xaxis": "x",
         "y": [
          4.5,
          -0.5
         ],
         "yaxis": "y"
        },
        {
         "hoverinfo": "skip",
         "line": {
          "color": "#000000",
          "width": 4
         },
         "mode": "lines",
         "type": "scatter",
         "x": [
          43.5,
          43.5
         ],
         "xaxis": "x",
         "y": [
          0.5,
          6.5
         ],
         "yaxis": "y"
        },
        {
         "hoverinfo": "skip",
         "line": {
          "color": "#000000",
          "width": 4
         },
         "mode": "lines",
         "type": "scatter",
         "x": [
          43.5,
          44.5
         ],
         "xaxis": "x",
         "y": [
          0.5,
          0.5
         ],
         "yaxis": "y"
        },
        {
         "hoverinfo": "skip",
         "line": {
          "color": "#000000",
          "width": 4
         },
         "mode": "lines",
         "type": "scatter",
         "x": [
          44.5,
          44.5
         ],
         "xaxis": "x",
         "y": [
          0.5,
          -0.5
         ],
         "yaxis": "y"
        },
        {
         "hoverinfo": "skip",
         "line": {
          "color": "#000000",
          "width": 4
         },
         "mode": "lines",
         "type": "scatter",
         "x": [
          47.5,
          47.5
         ],
         "xaxis": "x",
         "y": [
          2.5,
          6.5
         ],
         "yaxis": "y"
        },
        {
         "hoverinfo": "skip",
         "line": {
          "color": "#000000",
          "width": 4
         },
         "mode": "lines",
         "type": "scatter",
         "x": [
          47.5,
          48.5
         ],
         "xaxis": "x",
         "y": [
          2.5,
          2.5
         ],
         "yaxis": "y"
        },
        {
         "hoverinfo": "skip",
         "line": {
          "color": "#000000",
          "width": 4
         },
         "mode": "lines",
         "type": "scatter",
         "x": [
          48.5,
          48.5
         ],
         "xaxis": "x",
         "y": [
          2.5,
          -0.5
         ],
         "yaxis": "y"
        }
       ],
       "layout": {
        "font": {
         "color": "#fff",
         "size": 10
        },
        "height": 225,
        "margin": {
         "b": 20,
         "t": 20
        },
        "paper_bgcolor": "#333",
        "plot_bgcolor": "#333",
        "showlegend": false,
        "template": {
         "data": {
          "bar": [
           {
            "error_x": {
             "color": "#2a3f5f"
            },
            "error_y": {
             "color": "#2a3f5f"
            },
            "marker": {
             "line": {
              "color": "#E5ECF6",
              "width": 0.5
             },
             "pattern": {
              "fillmode": "overlay",
              "size": 10,
              "solidity": 0.2
             }
            },
            "type": "bar"
           }
          ],
          "barpolar": [
           {
            "marker": {
             "line": {
              "color": "#E5ECF6",
              "width": 0.5
             },
             "pattern": {
              "fillmode": "overlay",
              "size": 10,
              "solidity": 0.2
             }
            },
            "type": "barpolar"
           }
          ],
          "carpet": [
           {
            "aaxis": {
             "endlinecolor": "#2a3f5f",
             "gridcolor": "white",
             "linecolor": "white",
             "minorgridcolor": "white",
             "startlinecolor": "#2a3f5f"
            },
            "baxis": {
             "endlinecolor": "#2a3f5f",
             "gridcolor": "white",
             "linecolor": "white",
             "minorgridcolor": "white",
             "startlinecolor": "#2a3f5f"
            },
            "type": "carpet"
           }
          ],
          "choropleth": [
           {
            "colorbar": {
             "outlinewidth": 0,
             "ticks": ""
            },
            "type": "choropleth"
           }
          ],
          "contour": [
           {
            "colorbar": {
             "outlinewidth": 0,
             "ticks": ""
            },
            "colorscale": [
             [
              0,
              "#0d0887"
             ],
             [
              0.1111111111111111,
              "#46039f"
             ],
             [
              0.2222222222222222,
              "#7201a8"
             ],
             [
              0.3333333333333333,
              "#9c179e"
             ],
             [
              0.4444444444444444,
              "#bd3786"
             ],
             [
              0.5555555555555556,
              "#d8576b"
             ],
             [
              0.6666666666666666,
              "#ed7953"
             ],
             [
              0.7777777777777778,
              "#fb9f3a"
             ],
             [
              0.8888888888888888,
              "#fdca26"
             ],
             [
              1,
              "#f0f921"
             ]
            ],
            "type": "contour"
           }
          ],
          "contourcarpet": [
           {
            "colorbar": {
             "outlinewidth": 0,
             "ticks": ""
            },
            "type": "contourcarpet"
           }
          ],
          "heatmap": [
           {
            "colorbar": {
             "outlinewidth": 0,
             "ticks": ""
            },
            "colorscale": [
             [
              0,
              "#0d0887"
             ],
             [
              0.1111111111111111,
              "#46039f"
             ],
             [
              0.2222222222222222,
              "#7201a8"
             ],
             [
              0.3333333333333333,
              "#9c179e"
             ],
             [
              0.4444444444444444,
              "#bd3786"
             ],
             [
              0.5555555555555556,
              "#d8576b"
             ],
             [
              0.6666666666666666,
              "#ed7953"
             ],
             [
              0.7777777777777778,
              "#fb9f3a"
             ],
             [
              0.8888888888888888,
              "#fdca26"
             ],
             [
              1,
              "#f0f921"
             ]
            ],
            "type": "heatmap"
           }
          ],
          "heatmapgl": [
           {
            "colorbar": {
             "outlinewidth": 0,
             "ticks": ""
            },
            "colorscale": [
             [
              0,
              "#0d0887"
             ],
             [
              0.1111111111111111,
              "#46039f"
             ],
             [
              0.2222222222222222,
              "#7201a8"
             ],
             [
              0.3333333333333333,
              "#9c179e"
             ],
             [
              0.4444444444444444,
              "#bd3786"
             ],
             [
              0.5555555555555556,
              "#d8576b"
             ],
             [
              0.6666666666666666,
              "#ed7953"
             ],
             [
              0.7777777777777778,
              "#fb9f3a"
             ],
             [
              0.8888888888888888,
              "#fdca26"
             ],
             [
              1,
              "#f0f921"
             ]
            ],
            "type": "heatmapgl"
           }
          ],
          "histogram": [
           {
            "marker": {
             "pattern": {
              "fillmode": "overlay",
              "size": 10,
              "solidity": 0.2
             }
            },
            "type": "histogram"
           }
          ],
          "histogram2d": [
           {
            "colorbar": {
             "outlinewidth": 0,
             "ticks": ""
            },
            "colorscale": [
             [
              0,
              "#0d0887"
             ],
             [
              0.1111111111111111,
              "#46039f"
             ],
             [
              0.2222222222222222,
              "#7201a8"
             ],
             [
              0.3333333333333333,
              "#9c179e"
             ],
             [
              0.4444444444444444,
              "#bd3786"
             ],
             [
              0.5555555555555556,
              "#d8576b"
             ],
             [
              0.6666666666666666,
              "#ed7953"
             ],
             [
              0.7777777777777778,
              "#fb9f3a"
             ],
             [
              0.8888888888888888,
              "#fdca26"
             ],
             [
              1,
              "#f0f921"
             ]
            ],
            "type": "histogram2d"
           }
          ],
          "histogram2dcontour": [
           {
            "colorbar": {
             "outlinewidth": 0,
             "ticks": ""
            },
            "colorscale": [
             [
              0,
              "#0d0887"
             ],
             [
              0.1111111111111111,
              "#46039f"
             ],
             [
              0.2222222222222222,
              "#7201a8"
             ],
             [
              0.3333333333333333,
              "#9c179e"
             ],
             [
              0.4444444444444444,
              "#bd3786"
             ],
             [
              0.5555555555555556,
              "#d8576b"
             ],
             [
              0.6666666666666666,
              "#ed7953"
             ],
             [
              0.7777777777777778,
              "#fb9f3a"
             ],
             [
              0.8888888888888888,
              "#fdca26"
             ],
             [
              1,
              "#f0f921"
             ]
            ],
            "type": "histogram2dcontour"
           }
          ],
          "mesh3d": [
           {
            "colorbar": {
             "outlinewidth": 0,
             "ticks": ""
            },
            "type": "mesh3d"
           }
          ],
          "parcoords": [
           {
            "line": {
             "colorbar": {
              "outlinewidth": 0,
              "ticks": ""
             }
            },
            "type": "parcoords"
           }
          ],
          "pie": [
           {
            "automargin": true,
            "type": "pie"
           }
          ],
          "scatter": [
           {
            "fillpattern": {
             "fillmode": "overlay",
             "size": 10,
             "solidity": 0.2
            },
            "type": "scatter"
           }
          ],
          "scatter3d": [
           {
            "line": {
             "colorbar": {
              "outlinewidth": 0,
              "ticks": ""
             }
            },
            "marker": {
             "colorbar": {
              "outlinewidth": 0,
              "ticks": ""
             }
            },
            "type": "scatter3d"
           }
          ],
          "scattercarpet": [
           {
            "marker": {
             "colorbar": {
              "outlinewidth": 0,
              "ticks": ""
             }
            },
            "type": "scattercarpet"
           }
          ],
          "scattergeo": [
           {
            "marker": {
             "colorbar": {
              "outlinewidth": 0,
              "ticks": ""
             }
            },
            "type": "scattergeo"
           }
          ],
          "scattergl": [
           {
            "marker": {
             "colorbar": {
              "outlinewidth": 0,
              "ticks": ""
             }
            },
            "type": "scattergl"
           }
          ],
          "scattermapbox": [
           {
            "marker": {
             "colorbar": {
              "outlinewidth": 0,
              "ticks": ""
             }
            },
            "type": "scattermapbox"
           }
          ],
          "scatterpolar": [
           {
            "marker": {
             "colorbar": {
              "outlinewidth": 0,
              "ticks": ""
             }
            },
            "type": "scatterpolar"
           }
          ],
          "scatterpolargl": [
           {
            "marker": {
             "colorbar": {
              "outlinewidth": 0,
              "ticks": ""
             }
            },
            "type": "scatterpolargl"
           }
          ],
          "scatterternary": [
           {
            "marker": {
             "colorbar": {
              "outlinewidth": 0,
              "ticks": ""
             }
            },
            "type": "scatterternary"
           }
          ],
          "surface": [
           {
            "colorbar": {
             "outlinewidth": 0,
             "ticks": ""
            },
            "colorscale": [
             [
              0,
              "#0d0887"
             ],
             [
              0.1111111111111111,
              "#46039f"
             ],
             [
              0.2222222222222222,
              "#7201a8"
             ],
             [
              0.3333333333333333,
              "#9c179e"
             ],
             [
              0.4444444444444444,
              "#bd3786"
             ],
             [
              0.5555555555555556,
              "#d8576b"
             ],
             [
              0.6666666666666666,
              "#ed7953"
             ],
             [
              0.7777777777777778,
              "#fb9f3a"
             ],
             [
              0.8888888888888888,
              "#fdca26"
             ],
             [
              1,
              "#f0f921"
             ]
            ],
            "type": "surface"
           }
          ],
          "table": [
           {
            "cells": {
             "fill": {
              "color": "#EBF0F8"
             },
             "line": {
              "color": "white"
             }
            },
            "header": {
             "fill": {
              "color": "#C8D4E3"
             },
             "line": {
              "color": "white"
             }
            },
            "type": "table"
           }
          ]
         },
         "layout": {
          "annotationdefaults": {
           "arrowcolor": "#2a3f5f",
           "arrowhead": 0,
           "arrowwidth": 1
          },
          "autotypenumbers": "strict",
          "coloraxis": {
           "colorbar": {
            "outlinewidth": 0,
            "ticks": ""
           }
          },
          "colorscale": {
           "diverging": [
            [
             0,
             "#8e0152"
            ],
            [
             0.1,
             "#c51b7d"
            ],
            [
             0.2,
             "#de77ae"
            ],
            [
             0.3,
             "#f1b6da"
            ],
            [
             0.4,
             "#fde0ef"
            ],
            [
             0.5,
             "#f7f7f7"
            ],
            [
             0.6,
             "#e6f5d0"
            ],
            [
             0.7,
             "#b8e186"
            ],
            [
             0.8,
             "#7fbc41"
            ],
            [
             0.9,
             "#4d9221"
            ],
            [
             1,
             "#276419"
            ]
           ],
           "sequential": [
            [
             0,
             "#0d0887"
            ],
            [
             0.1111111111111111,
             "#46039f"
            ],
            [
             0.2222222222222222,
             "#7201a8"
            ],
            [
             0.3333333333333333,
             "#9c179e"
            ],
            [
             0.4444444444444444,
             "#bd3786"
            ],
            [
             0.5555555555555556,
             "#d8576b"
            ],
            [
             0.6666666666666666,
             "#ed7953"
            ],
            [
             0.7777777777777778,
             "#fb9f3a"
            ],
            [
             0.8888888888888888,
             "#fdca26"
            ],
            [
             1,
             "#f0f921"
            ]
           ],
           "sequentialminus": [
            [
             0,
             "#0d0887"
            ],
            [
             0.1111111111111111,
             "#46039f"
            ],
            [
             0.2222222222222222,
             "#7201a8"
            ],
            [
             0.3333333333333333,
             "#9c179e"
            ],
            [
             0.4444444444444444,
             "#bd3786"
            ],
            [
             0.5555555555555556,
             "#d8576b"
            ],
            [
             0.6666666666666666,
             "#ed7953"
            ],
            [
             0.7777777777777778,
             "#fb9f3a"
            ],
            [
             0.8888888888888888,
             "#fdca26"
            ],
            [
             1,
             "#f0f921"
            ]
           ]
          },
          "colorway": [
           "#636efa",
           "#EF553B",
           "#00cc96",
           "#ab63fa",
           "#FFA15A",
           "#19d3f3",
           "#FF6692",
           "#B6E880",
           "#FF97FF",
           "#FECB52"
          ],
          "font": {
           "color": "#2a3f5f"
          },
          "geo": {
           "bgcolor": "white",
           "lakecolor": "white",
           "landcolor": "#E5ECF6",
           "showlakes": true,
           "showland": true,
           "subunitcolor": "white"
          },
          "hoverlabel": {
           "align": "left"
          },
          "hovermode": "closest",
          "mapbox": {
           "style": "light"
          },
          "paper_bgcolor": "white",
          "plot_bgcolor": "#E5ECF6",
          "polar": {
           "angularaxis": {
            "gridcolor": "white",
            "linecolor": "white",
            "ticks": ""
           },
           "bgcolor": "#E5ECF6",
           "radialaxis": {
            "gridcolor": "white",
            "linecolor": "white",
            "ticks": ""
           }
          },
          "scene": {
           "xaxis": {
            "backgroundcolor": "#E5ECF6",
            "gridcolor": "white",
            "gridwidth": 2,
            "linecolor": "white",
            "showbackground": true,
            "ticks": "",
            "zerolinecolor": "white"
           },
           "yaxis": {
            "backgroundcolor": "#E5ECF6",
            "gridcolor": "white",
            "gridwidth": 2,
            "linecolor": "white",
            "showbackground": true,
            "ticks": "",
            "zerolinecolor": "white"
           },
           "zaxis": {
            "backgroundcolor": "#E5ECF6",
            "gridcolor": "white",
            "gridwidth": 2,
            "linecolor": "white",
            "showbackground": true,
            "ticks": "",
            "zerolinecolor": "white"
           }
          },
          "shapedefaults": {
           "line": {
            "color": "#2a3f5f"
           }
          },
          "ternary": {
           "aaxis": {
            "gridcolor": "white",
            "linecolor": "white",
            "ticks": ""
           },
           "baxis": {
            "gridcolor": "white",
            "linecolor": "white",
            "ticks": ""
           },
           "bgcolor": "#E5ECF6",
           "caxis": {
            "gridcolor": "white",
            "linecolor": "white",
            "ticks": ""
           }
          },
          "title": {
           "x": 0.05
          },
          "xaxis": {
           "automargin": true,
           "gridcolor": "white",
           "linecolor": "white",
           "ticks": "",
           "title": {
            "standoff": 15
           },
           "zerolinecolor": "white",
           "zerolinewidth": 2
          },
          "yaxis": {
           "automargin": true,
           "gridcolor": "white",
           "linecolor": "white",
           "ticks": "",
           "title": {
            "standoff": 15
           },
           "zerolinecolor": "white",
           "zerolinewidth": 2
          }
         }
        },
        "title": {
         "text": "Ride Mileage 2022"
        },
        "xaxis": {
         "anchor": "y",
         "domain": [
          0,
          1
         ],
         "showgrid": false,
         "showline": false,
         "tickmode": "array",
         "ticktext": [
          "January",
          "February",
          "March",
          "April",
          "May",
          "June",
          "July",
          "August",
          "September",
          "October",
          "November",
          "December"
         ],
         "tickvals": [
          1.5,
          5.909090909090909,
          10.318181818181818,
          14.727272727272727,
          19.136363636363637,
          23.545454545454547,
          27.954545454545453,
          32.36363636363636,
          36.77272727272727,
          41.18181818181818,
          45.59090909090909,
          50
         ],
         "zeroline": false
        },
        "yaxis": {
         "anchor": "x",
         "autorange": "reversed",
         "domain": [
          0,
          1
         ],
         "showgrid": false,
         "showline": false,
         "tickmode": "array",
         "ticktext": [
          "Mon",
          "Tue",
          "Wed",
          "Thu",
          "Fri",
          "Sat",
          "Sun"
         ],
         "tickvals": [
          0,
          1,
          2,
          3,
          4,
          5,
          6
         ],
         "zeroline": false
        }
       }
      }
     },
     "metadata": {},
     "output_type": "display_data"
    }
   ],
   "source": [
    "fig = calplot(df_activity_2022, x='ride_date', y='total_distance_mi', colorscale=colorscale, \n",
    "              dark_theme=True, gap=1, month_lines_width=4, month_lines_color='#000000',\n",
    "            showscale=True, total_height=225, title='Ride Mileage 2022', cmap_max=70)\n",
    "fig.show()"
   ]
  },
  {
   "cell_type": "code",
   "execution_count": 19,
   "id": "7b147603",
   "metadata": {},
   "outputs": [
    {
     "data": {
      "application/vnd.plotly.v1+json": {
       "config": {
        "plotlyServerURL": "https://plot.ly"
       },
       "data": [
        {
         "colorscale": [
          [
           0,
           "#888888"
          ],
          [
           0.1111111111111111,
           "#eaf7af"
          ],
          [
           0.2222222222222222,
           "#d2eda0"
          ],
          [
           0.3333333333333333,
           "#b1df90"
          ],
          [
           0.4444444444444444,
           "#8bce81"
          ],
          [
           0.5555555555555556,
           "#64bc6f"
          ],
          [
           0.6666666666666666,
           "#3fa85b"
          ],
          [
           0.7777777777777777,
           "#288a47"
          ],
          [
           0.8888888888888888,
           "#10743c"
          ],
          [
           1,
           "#005e33"
          ]
         ],
         "customdata": [
          [
           "2021-01-01",
           "y"
          ],
          [
           "2021-01-02",
           "y"
          ],
          [
           "2021-01-03",
           "y"
          ],
          [
           "2021-01-04",
           "y"
          ],
          [
           "2021-01-05",
           "y"
          ],
          [
           "2021-01-06",
           "y"
          ],
          [
           "2021-01-07",
           "y"
          ],
          [
           "2021-01-08",
           "y"
          ],
          [
           "2021-01-09",
           "y"
          ],
          [
           "2021-01-10",
           "y"
          ],
          [
           "2021-01-11",
           "y"
          ],
          [
           "2021-01-12",
           "y"
          ],
          [
           "2021-01-13",
           "y"
          ],
          [
           "2021-01-14",
           "y"
          ],
          [
           "2021-01-15",
           "y"
          ],
          [
           "2021-01-16",
           "y"
          ],
          [
           "2021-01-17",
           "y"
          ],
          [
           "2021-01-18",
           "y"
          ],
          [
           "2021-01-19",
           "y"
          ],
          [
           "2021-01-20",
           "y"
          ],
          [
           "2021-01-21",
           "y"
          ],
          [
           "2021-01-22",
           "y"
          ],
          [
           "2021-01-23",
           "y"
          ],
          [
           "2021-01-24",
           "y"
          ],
          [
           "2021-01-25",
           "y"
          ],
          [
           "2021-01-26",
           "y"
          ],
          [
           "2021-01-27",
           "y"
          ],
          [
           "2021-01-28",
           "y"
          ],
          [
           "2021-01-29",
           "y"
          ],
          [
           "2021-01-30",
           "y"
          ],
          [
           "2021-01-31",
           "y"
          ],
          [
           "2021-02-01",
           "y"
          ],
          [
           "2021-02-02",
           "y"
          ],
          [
           "2021-02-03",
           "y"
          ],
          [
           "2021-02-04",
           "y"
          ],
          [
           "2021-02-05",
           "y"
          ],
          [
           "2021-02-06",
           "y"
          ],
          [
           "2021-02-07",
           "y"
          ],
          [
           "2021-02-08",
           "y"
          ],
          [
           "2021-02-09",
           "y"
          ],
          [
           "2021-02-10",
           "y"
          ],
          [
           "2021-02-11",
           "y"
          ],
          [
           "2021-02-12",
           "y"
          ],
          [
           "2021-02-13",
           "y"
          ],
          [
           "2021-02-14",
           "y"
          ],
          [
           "2021-02-15",
           "y"
          ],
          [
           "2021-02-16",
           "y"
          ],
          [
           "2021-02-17",
           "y"
          ],
          [
           "2021-02-18",
           "y"
          ],
          [
           "2021-02-19",
           "y"
          ],
          [
           "2021-02-20",
           "y"
          ],
          [
           "2021-02-21",
           "y"
          ],
          [
           "2021-02-22",
           "y"
          ],
          [
           "2021-02-23",
           "y"
          ],
          [
           "2021-02-24",
           "y"
          ],
          [
           "2021-02-25",
           "y"
          ],
          [
           "2021-02-26",
           "y"
          ],
          [
           "2021-02-27",
           "y"
          ],
          [
           "2021-02-28",
           "y"
          ],
          [
           "2021-03-01",
           "y"
          ],
          [
           "2021-03-02",
           "y"
          ],
          [
           "2021-03-03",
           "y"
          ],
          [
           "2021-03-04",
           "y"
          ],
          [
           "2021-03-05",
           "y"
          ],
          [
           "2021-03-06",
           "y"
          ],
          [
           "2021-03-07",
           "y"
          ],
          [
           "2021-03-08",
           "y"
          ],
          [
           "2021-03-09",
           "y"
          ],
          [
           "2021-03-10",
           "y"
          ],
          [
           "2021-03-11",
           "y"
          ],
          [
           "2021-03-12",
           "y"
          ],
          [
           "2021-03-13",
           "y"
          ],
          [
           "2021-03-14",
           "y"
          ],
          [
           "2021-03-15",
           "y"
          ],
          [
           "2021-03-16",
           "y"
          ],
          [
           "2021-03-17",
           "y"
          ],
          [
           "2021-03-18",
           "y"
          ],
          [
           "2021-03-19",
           "y"
          ],
          [
           "2021-03-20",
           "y"
          ],
          [
           "2021-03-21",
           "y"
          ],
          [
           "2021-03-22",
           "y"
          ],
          [
           "2021-03-23",
           "y"
          ],
          [
           "2021-03-24",
           "y"
          ],
          [
           "2021-03-25",
           "y"
          ],
          [
           "2021-03-26",
           "y"
          ],
          [
           "2021-03-27",
           "y"
          ],
          [
           "2021-03-28",
           "y"
          ],
          [
           "2021-03-29",
           "y"
          ],
          [
           "2021-03-30",
           "y"
          ],
          [
           "2021-03-31",
           "y"
          ],
          [
           "2021-04-01",
           "y"
          ],
          [
           "2021-04-02",
           "y"
          ],
          [
           "2021-04-03",
           "y"
          ],
          [
           "2021-04-04",
           "y"
          ],
          [
           "2021-04-05",
           "y"
          ],
          [
           "2021-04-06",
           "y"
          ],
          [
           "2021-04-07",
           "y"
          ],
          [
           "2021-04-08",
           "y"
          ],
          [
           "2021-04-09",
           "y"
          ],
          [
           "2021-04-10",
           "y"
          ],
          [
           "2021-04-11",
           "y"
          ],
          [
           "2021-04-12",
           "y"
          ],
          [
           "2021-04-13",
           "y"
          ],
          [
           "2021-04-14",
           "y"
          ],
          [
           "2021-04-15",
           "y"
          ],
          [
           "2021-04-16",
           "y"
          ],
          [
           "2021-04-17",
           "y"
          ],
          [
           "2021-04-18",
           "y"
          ],
          [
           "2021-04-19",
           "y"
          ],
          [
           "2021-04-20",
           "y"
          ],
          [
           "2021-04-21",
           "y"
          ],
          [
           "2021-04-22",
           "y"
          ],
          [
           "2021-04-23",
           "y"
          ],
          [
           "2021-04-24",
           "y"
          ],
          [
           "2021-04-25",
           "y"
          ],
          [
           "2021-04-26",
           "y"
          ],
          [
           "2021-04-27",
           "y"
          ],
          [
           "2021-04-28",
           "y"
          ],
          [
           "2021-04-29",
           "y"
          ],
          [
           "2021-04-30",
           "y"
          ],
          [
           "2021-05-01",
           "y"
          ],
          [
           "2021-05-02",
           "y"
          ],
          [
           "2021-05-03",
           "y"
          ],
          [
           "2021-05-04",
           "y"
          ],
          [
           "2021-05-05",
           "y"
          ],
          [
           "2021-05-06",
           "y"
          ],
          [
           "2021-05-07",
           "y"
          ],
          [
           "2021-05-08",
           "y"
          ],
          [
           "2021-05-09",
           "y"
          ],
          [
           "2021-05-10",
           "y"
          ],
          [
           "2021-05-11",
           "y"
          ],
          [
           "2021-05-12",
           "y"
          ],
          [
           "2021-05-13",
           "y"
          ],
          [
           "2021-05-14",
           "y"
          ],
          [
           "2021-05-15",
           "y"
          ],
          [
           "2021-05-16",
           "y"
          ],
          [
           "2021-05-17",
           "y"
          ],
          [
           "2021-05-18",
           "y"
          ],
          [
           "2021-05-19",
           "y"
          ],
          [
           "2021-05-20",
           "y"
          ],
          [
           "2021-05-21",
           "y"
          ],
          [
           "2021-05-22",
           "y"
          ],
          [
           "2021-05-23",
           "y"
          ],
          [
           "2021-05-24",
           "y"
          ],
          [
           "2021-05-25",
           "y"
          ],
          [
           "2021-05-26",
           "y"
          ],
          [
           "2021-05-27",
           "y"
          ],
          [
           "2021-05-28",
           "y"
          ],
          [
           "2021-05-29",
           "y"
          ],
          [
           "2021-05-30",
           "y"
          ],
          [
           "2021-05-31",
           "y"
          ],
          [
           "2021-06-01",
           "y"
          ],
          [
           "2021-06-02",
           "y"
          ],
          [
           "2021-06-03",
           "y"
          ],
          [
           "2021-06-04",
           "y"
          ],
          [
           "2021-06-05",
           "y"
          ],
          [
           "2021-06-06",
           "y"
          ],
          [
           "2021-06-07",
           "y"
          ],
          [
           "2021-06-08",
           "y"
          ],
          [
           "2021-06-09",
           "y"
          ],
          [
           "2021-06-10",
           "y"
          ],
          [
           "2021-06-11",
           "y"
          ],
          [
           "2021-06-12",
           "y"
          ],
          [
           "2021-06-13",
           "y"
          ],
          [
           "2021-06-14",
           "y"
          ],
          [
           "2021-06-15",
           "y"
          ],
          [
           "2021-06-16",
           "y"
          ],
          [
           "2021-06-17",
           "y"
          ],
          [
           "2021-06-18",
           "y"
          ],
          [
           "2021-06-19",
           "y"
          ],
          [
           "2021-06-20",
           "y"
          ],
          [
           "2021-06-21",
           "y"
          ],
          [
           "2021-06-22",
           "y"
          ],
          [
           "2021-06-23",
           "y"
          ],
          [
           "2021-06-24",
           "y"
          ],
          [
           "2021-06-25",
           "y"
          ],
          [
           "2021-06-26",
           "y"
          ],
          [
           "2021-06-27",
           "y"
          ],
          [
           "2021-06-28",
           "y"
          ],
          [
           "2021-06-29",
           "y"
          ],
          [
           "2021-06-30",
           "y"
          ],
          [
           "2021-07-01",
           "y"
          ],
          [
           "2021-07-02",
           "y"
          ],
          [
           "2021-07-03",
           "y"
          ],
          [
           "2021-07-04",
           "y"
          ],
          [
           "2021-07-05",
           "y"
          ],
          [
           "2021-07-06",
           "y"
          ],
          [
           "2021-07-07",
           "y"
          ],
          [
           "2021-07-08",
           "y"
          ],
          [
           "2021-07-09",
           "y"
          ],
          [
           "2021-07-10",
           "y"
          ],
          [
           "2021-07-11",
           "y"
          ],
          [
           "2021-07-12",
           "y"
          ],
          [
           "2021-07-13",
           "y"
          ],
          [
           "2021-07-14",
           "y"
          ],
          [
           "2021-07-15",
           "y"
          ],
          [
           "2021-07-16",
           "y"
          ],
          [
           "2021-07-17",
           "y"
          ],
          [
           "2021-07-18",
           "y"
          ],
          [
           "2021-07-19",
           "y"
          ],
          [
           "2021-07-20",
           "y"
          ],
          [
           "2021-07-21",
           "y"
          ],
          [
           "2021-07-22",
           "y"
          ],
          [
           "2021-07-23",
           "y"
          ],
          [
           "2021-07-24",
           "y"
          ],
          [
           "2021-07-25",
           "y"
          ],
          [
           "2021-07-26",
           "y"
          ],
          [
           "2021-07-27",
           "y"
          ],
          [
           "2021-07-28",
           "y"
          ],
          [
           "2021-07-29",
           "y"
          ],
          [
           "2021-07-30",
           "y"
          ],
          [
           "2021-07-31",
           "y"
          ],
          [
           "2021-08-01",
           "y"
          ],
          [
           "2021-08-02",
           "y"
          ],
          [
           "2021-08-03",
           "y"
          ],
          [
           "2021-08-04",
           "y"
          ],
          [
           "2021-08-05",
           "y"
          ],
          [
           "2021-08-06",
           "y"
          ],
          [
           "2021-08-07",
           "y"
          ],
          [
           "2021-08-08",
           "y"
          ],
          [
           "2021-08-09",
           "y"
          ],
          [
           "2021-08-10",
           "y"
          ],
          [
           "2021-08-11",
           "y"
          ],
          [
           "2021-08-12",
           "y"
          ],
          [
           "2021-08-13",
           "y"
          ],
          [
           "2021-08-14",
           "y"
          ],
          [
           "2021-08-15",
           "y"
          ],
          [
           "2021-08-16",
           "y"
          ],
          [
           "2021-08-17",
           "y"
          ],
          [
           "2021-08-18",
           "y"
          ],
          [
           "2021-08-19",
           "y"
          ],
          [
           "2021-08-20",
           "y"
          ],
          [
           "2021-08-21",
           "y"
          ],
          [
           "2021-08-22",
           "y"
          ],
          [
           "2021-08-23",
           "y"
          ],
          [
           "2021-08-24",
           "y"
          ],
          [
           "2021-08-25",
           "y"
          ],
          [
           "2021-08-26",
           "y"
          ],
          [
           "2021-08-27",
           "y"
          ],
          [
           "2021-08-28",
           "y"
          ],
          [
           "2021-08-29",
           "y"
          ],
          [
           "2021-08-30",
           "y"
          ],
          [
           "2021-08-31",
           "y"
          ],
          [
           "2021-09-01",
           "y"
          ],
          [
           "2021-09-02",
           "y"
          ],
          [
           "2021-09-03",
           "y"
          ],
          [
           "2021-09-04",
           "y"
          ],
          [
           "2021-09-05",
           "y"
          ],
          [
           "2021-09-06",
           "y"
          ],
          [
           "2021-09-07",
           "y"
          ],
          [
           "2021-09-08",
           "y"
          ],
          [
           "2021-09-09",
           "y"
          ],
          [
           "2021-09-10",
           "y"
          ],
          [
           "2021-09-11",
           "y"
          ],
          [
           "2021-09-12",
           "y"
          ],
          [
           "2021-09-13",
           "y"
          ],
          [
           "2021-09-14",
           "y"
          ],
          [
           "2021-09-15",
           "y"
          ],
          [
           "2021-09-16",
           "y"
          ],
          [
           "2021-09-17",
           "y"
          ],
          [
           "2021-09-18",
           "y"
          ],
          [
           "2021-09-19",
           "y"
          ],
          [
           "2021-09-20",
           "y"
          ],
          [
           "2021-09-21",
           "y"
          ],
          [
           "2021-09-22",
           "y"
          ],
          [
           "2021-09-23",
           "y"
          ],
          [
           "2021-09-24",
           "y"
          ],
          [
           "2021-09-25",
           "y"
          ],
          [
           "2021-09-26",
           "y"
          ],
          [
           "2021-09-27",
           "y"
          ],
          [
           "2021-09-28",
           "y"
          ],
          [
           "2021-09-29",
           "y"
          ],
          [
           "2021-09-30",
           "y"
          ],
          [
           "2021-10-01",
           "y"
          ],
          [
           "2021-10-02",
           "y"
          ],
          [
           "2021-10-03",
           "y"
          ],
          [
           "2021-10-04",
           "y"
          ],
          [
           "2021-10-05",
           "y"
          ],
          [
           "2021-10-06",
           "y"
          ],
          [
           "2021-10-07",
           "y"
          ],
          [
           "2021-10-08",
           "y"
          ],
          [
           "2021-10-09",
           "y"
          ],
          [
           "2021-10-10",
           "y"
          ],
          [
           "2021-10-11",
           "y"
          ],
          [
           "2021-10-12",
           "y"
          ],
          [
           "2021-10-13",
           "y"
          ],
          [
           "2021-10-14",
           "y"
          ],
          [
           "2021-10-15",
           "y"
          ],
          [
           "2021-10-16",
           "y"
          ],
          [
           "2021-10-17",
           "y"
          ],
          [
           "2021-10-18",
           "y"
          ],
          [
           "2021-10-19",
           "y"
          ],
          [
           "2021-10-20",
           "y"
          ],
          [
           "2021-10-21",
           "y"
          ],
          [
           "2021-10-22",
           "y"
          ],
          [
           "2021-10-23",
           "y"
          ],
          [
           "2021-10-24",
           "y"
          ],
          [
           "2021-10-25",
           "y"
          ],
          [
           "2021-10-26",
           "y"
          ],
          [
           "2021-10-27",
           "y"
          ],
          [
           "2021-10-28",
           "y"
          ],
          [
           "2021-10-29",
           "y"
          ],
          [
           "2021-10-30",
           "y"
          ],
          [
           "2021-10-31",
           "y"
          ],
          [
           "2021-11-01",
           "y"
          ],
          [
           "2021-11-02",
           "y"
          ],
          [
           "2021-11-03",
           "y"
          ],
          [
           "2021-11-04",
           "y"
          ],
          [
           "2021-11-05",
           "y"
          ],
          [
           "2021-11-06",
           "y"
          ],
          [
           "2021-11-07",
           "y"
          ],
          [
           "2021-11-08",
           "y"
          ],
          [
           "2021-11-09",
           "y"
          ],
          [
           "2021-11-10",
           "y"
          ],
          [
           "2021-11-11",
           "y"
          ],
          [
           "2021-11-12",
           "y"
          ],
          [
           "2021-11-13",
           "y"
          ],
          [
           "2021-11-14",
           "y"
          ],
          [
           "2021-11-15",
           "y"
          ],
          [
           "2021-11-16",
           "y"
          ],
          [
           "2021-11-17",
           "y"
          ],
          [
           "2021-11-18",
           "y"
          ],
          [
           "2021-11-19",
           "y"
          ],
          [
           "2021-11-20",
           "y"
          ],
          [
           "2021-11-21",
           "y"
          ],
          [
           "2021-11-22",
           "y"
          ],
          [
           "2021-11-23",
           "y"
          ],
          [
           "2021-11-24",
           "y"
          ],
          [
           "2021-11-25",
           "y"
          ],
          [
           "2021-11-26",
           "y"
          ],
          [
           "2021-11-27",
           "y"
          ],
          [
           "2021-11-28",
           "y"
          ],
          [
           "2021-11-29",
           "y"
          ],
          [
           "2021-11-30",
           "y"
          ],
          [
           "2021-12-01",
           "y"
          ],
          [
           "2021-12-02",
           "y"
          ],
          [
           "2021-12-03",
           "y"
          ],
          [
           "2021-12-04",
           "y"
          ],
          [
           "2021-12-05",
           "y"
          ],
          [
           "2021-12-06",
           "y"
          ],
          [
           "2021-12-07",
           "y"
          ],
          [
           "2021-12-08",
           "y"
          ],
          [
           "2021-12-09",
           "y"
          ],
          [
           "2021-12-10",
           "y"
          ],
          [
           "2021-12-11",
           "y"
          ],
          [
           "2021-12-12",
           "y"
          ],
          [
           "2021-12-13",
           "y"
          ],
          [
           "2021-12-14",
           "y"
          ],
          [
           "2021-12-15",
           "y"
          ],
          [
           "2021-12-16",
           "y"
          ],
          [
           "2021-12-17",
           "y"
          ],
          [
           "2021-12-18",
           "y"
          ],
          [
           "2021-12-19",
           "y"
          ],
          [
           "2021-12-20",
           "y"
          ],
          [
           "2021-12-21",
           "y"
          ],
          [
           "2021-12-22",
           "y"
          ],
          [
           "2021-12-23",
           "y"
          ],
          [
           "2021-12-24",
           "y"
          ],
          [
           "2021-12-25",
           "y"
          ],
          [
           "2021-12-26",
           "y"
          ],
          [
           "2021-12-27",
           "y"
          ],
          [
           "2021-12-28",
           "y"
          ],
          [
           "2021-12-29",
           "y"
          ],
          [
           "2021-12-30",
           "y"
          ],
          [
           "2021-12-31",
           "y"
          ]
         ],
         "hovertemplate": "%{customdata[0]} <br>Week=%{x} <br>%{customdata[1]}=%{z}",
         "name": "2021",
         "showscale": true,
         "type": "heatmap",
         "x": [
          0,
          0,
          0,
          1,
          1,
          1,
          1,
          1,
          1,
          1,
          2,
          2,
          2,
          2,
          2,
          2,
          2,
          3,
          3,
          3,
          3,
          3,
          3,
          3,
          4,
          4,
          4,
          4,
          4,
          4,
          4,
          5,
          5,
          5,
          5,
          5,
          5,
          5,
          6,
          6,
          6,
          6,
          6,
          6,
          6,
          7,
          7,
          7,
          7,
          7,
          7,
          7,
          8,
          8,
          8,
          8,
          8,
          8,
          8,
          9,
          9,
          9,
          9,
          9,
          9,
          9,
          10,
          10,
          10,
          10,
          10,
          10,
          10,
          11,
          11,
          11,
          11,
          11,
          11,
          11,
          12,
          12,
          12,
          12,
          12,
          12,
          12,
          13,
          13,
          13,
          13,
          13,
          13,
          13,
          14,
          14,
          14,
          14,
          14,
          14,
          14,
          15,
          15,
          15,
          15,
          15,
          15,
          15,
          16,
          16,
          16,
          16,
          16,
          16,
          16,
          17,
          17,
          17,
          17,
          17,
          17,
          17,
          18,
          18,
          18,
          18,
          18,
          18,
          18,
          19,
          19,
          19,
          19,
          19,
          19,
          19,
          20,
          20,
          20,
          20,
          20,
          20,
          20,
          21,
          21,
          21,
          21,
          21,
          21,
          21,
          22,
          22,
          22,
          22,
          22,
          22,
          22,
          23,
          23,
          23,
          23,
          23,
          23,
          23,
          24,
          24,
          24,
          24,
          24,
          24,
          24,
          25,
          25,
          25,
          25,
          25,
          25,
          25,
          26,
          26,
          26,
          26,
          26,
          26,
          26,
          27,
          27,
          27,
          27,
          27,
          27,
          27,
          28,
          28,
          28,
          28,
          28,
          28,
          28,
          29,
          29,
          29,
          29,
          29,
          29,
          29,
          30,
          30,
          30,
          30,
          30,
          30,
          30,
          31,
          31,
          31,
          31,
          31,
          31,
          31,
          32,
          32,
          32,
          32,
          32,
          32,
          32,
          33,
          33,
          33,
          33,
          33,
          33,
          33,
          34,
          34,
          34,
          34,
          34,
          34,
          34,
          35,
          35,
          35,
          35,
          35,
          35,
          35,
          36,
          36,
          36,
          36,
          36,
          36,
          36,
          37,
          37,
          37,
          37,
          37,
          37,
          37,
          38,
          38,
          38,
          38,
          38,
          38,
          38,
          39,
          39,
          39,
          39,
          39,
          39,
          39,
          40,
          40,
          40,
          40,
          40,
          40,
          40,
          41,
          41,
          41,
          41,
          41,
          41,
          41,
          42,
          42,
          42,
          42,
          42,
          42,
          42,
          43,
          43,
          43,
          43,
          43,
          43,
          43,
          44,
          44,
          44,
          44,
          44,
          44,
          44,
          45,
          45,
          45,
          45,
          45,
          45,
          45,
          46,
          46,
          46,
          46,
          46,
          46,
          46,
          47,
          47,
          47,
          47,
          47,
          47,
          47,
          48,
          48,
          48,
          48,
          48,
          48,
          48,
          49,
          49,
          49,
          49,
          49,
          49,
          49,
          50,
          50,
          50,
          50,
          50,
          50,
          50,
          51,
          51,
          51,
          51,
          51,
          51,
          51,
          52,
          52,
          52,
          52,
          52
         ],
         "xaxis": "x",
         "xgap": 1,
         "y": [
          4,
          5,
          6,
          0,
          1,
          2,
          3,
          4,
          5,
          6,
          0,
          1,
          2,
          3,
          4,
          5,
          6,
          0,
          1,
          2,
          3,
          4,
          5,
          6,
          0,
          1,
          2,
          3,
          4,
          5,
          6,
          0,
          1,
          2,
          3,
          4,
          5,
          6,
          0,
          1,
          2,
          3,
          4,
          5,
          6,
          0,
          1,
          2,
          3,
          4,
          5,
          6,
          0,
          1,
          2,
          3,
          4,
          5,
          6,
          0,
          1,
          2,
          3,
          4,
          5,
          6,
          0,
          1,
          2,
          3,
          4,
          5,
          6,
          0,
          1,
          2,
          3,
          4,
          5,
          6,
          0,
          1,
          2,
          3,
          4,
          5,
          6,
          0,
          1,
          2,
          3,
          4,
          5,
          6,
          0,
          1,
          2,
          3,
          4,
          5,
          6,
          0,
          1,
          2,
          3,
          4,
          5,
          6,
          0,
          1,
          2,
          3,
          4,
          5,
          6,
          0,
          1,
          2,
          3,
          4,
          5,
          6,
          0,
          1,
          2,
          3,
          4,
          5,
          6,
          0,
          1,
          2,
          3,
          4,
          5,
          6,
          0,
          1,
          2,
          3,
          4,
          5,
          6,
          0,
          1,
          2,
          3,
          4,
          5,
          6,
          0,
          1,
          2,
          3,
          4,
          5,
          6,
          0,
          1,
          2,
          3,
          4,
          5,
          6,
          0,
          1,
          2,
          3,
          4,
          5,
          6,
          0,
          1,
          2,
          3,
          4,
          5,
          6,
          0,
          1,
          2,
          3,
          4,
          5,
          6,
          0,
          1,
          2,
          3,
          4,
          5,
          6,
          0,
          1,
          2,
          3,
          4,
          5,
          6,
          0,
          1,
          2,
          3,
          4,
          5,
          6,
          0,
          1,
          2,
          3,
          4,
          5,
          6,
          0,
          1,
          2,
          3,
          4,
          5,
          6,
          0,
          1,
          2,
          3,
          4,
          5,
          6,
          0,
          1,
          2,
          3,
          4,
          5,
          6,
          0,
          1,
          2,
          3,
          4,
          5,
          6,
          0,
          1,
          2,
          3,
          4,
          5,
          6,
          0,
          1,
          2,
          3,
          4,
          5,
          6,
          0,
          1,
          2,
          3,
          4,
          5,
          6,
          0,
          1,
          2,
          3,
          4,
          5,
          6,
          0,
          1,
          2,
          3,
          4,
          5,
          6,
          0,
          1,
          2,
          3,
          4,
          5,
          6,
          0,
          1,
          2,
          3,
          4,
          5,
          6,
          0,
          1,
          2,
          3,
          4,
          5,
          6,
          0,
          1,
          2,
          3,
          4,
          5,
          6,
          0,
          1,
          2,
          3,
          4,
          5,
          6,
          0,
          1,
          2,
          3,
          4,
          5,
          6,
          0,
          1,
          2,
          3,
          4,
          5,
          6,
          0,
          1,
          2,
          3,
          4,
          5,
          6,
          0,
          1,
          2,
          3,
          4,
          5,
          6,
          0,
          1,
          2,
          3,
          4,
          5,
          6,
          0,
          1,
          2,
          3,
          4,
          5,
          6,
          0,
          1,
          2,
          3,
          4,
          5,
          6,
          0,
          1,
          2,
          3,
          4
         ],
         "yaxis": "y",
         "ygap": 1,
         "z": [
          0,
          0,
          0,
          4.696760588979611,
          0,
          0,
          0,
          7.202016177616263,
          0,
          0,
          0,
          0,
          0,
          0,
          0,
          0,
          7.608263336435382,
          0,
          10.87901211903725,
          0,
          5.984076274205081,
          10.242076375029846,
          0,
          0,
          0,
          0,
          0,
          12.447298861995796,
          11.27661587480377,
          0,
          4.413438882228614,
          0,
          0,
          0,
          0,
          0,
          0,
          0,
          0,
          0,
          0,
          0,
          0,
          0,
          0,
          0,
          0,
          0,
          0,
          0,
          0,
          0,
          0,
          0,
          0,
          0,
          0,
          13.302623247403115,
          0,
          0,
          7.03223160810807,
          0,
          0,
          0,
          0,
          0,
          0,
          0,
          0,
          0,
          0,
          0,
          0,
          0,
          11.660597612325562,
          0,
          0,
          5.538396777062228,
          0,
          3.429517596737498,
          9.43872122719133,
          0,
          0,
          0,
          0,
          50.743399462826595,
          0,
          0,
          0,
          0,
          0,
          7.186407127552372,
          0,
          29.24021162719183,
          0,
          10.85471202603046,
          0,
          9.97124646278968,
          21.263372366829195,
          0,
          0,
          0,
          0,
          0,
          0,
          0,
          0,
          0,
          0,
          23.395655117346383,
          0,
          0,
          0,
          0,
          7.181262216240954,
          11.073183510465512,
          3.05340765774888,
          0,
          0,
          0,
          0,
          0,
          0,
          0,
          0,
          0,
          0,
          0,
          0,
          24.64513928439106,
          7.940703461842594,
          0,
          11.123604950579647,
          5.85833408878176,
          22.816052463055843,
          13.763187563271678,
          0,
          0,
          0,
          7.549543688746515,
          9.095189442765182,
          11.079827371195757,
          0,
          0,
          7.168326944282772,
          0,
          0,
          0,
          0,
          0,
          0,
          0,
          0,
          0,
          6.304962846735292,
          0,
          0,
          9.17822597429341,
          0,
          15.836916968449644,
          0,
          0,
          0,
          0,
          0,
          0,
          0,
          0,
          0,
          0,
          7.764419904271805,
          0,
          21.41610726580877,
          0,
          0,
          0,
          0,
          0,
          0,
          0,
          0,
          0,
          0,
          0,
          0,
          11.29772379067309,
          5.822936445319887,
          0,
          0,
          0,
          0,
          0,
          0,
          0,
          7.477886457555918,
          0,
          0,
          16.37514213510245,
          10.05075619339405,
          0,
          7.922606635600459,
          0,
          0,
          0,
          0,
          1.4825383167913209,
          0,
          12.988801496768904,
          0,
          0,
          0,
          0,
          11.874104077688298,
          0,
          8.96343419216864,
          4.673973591871286,
          7.096597929977041,
          10.778123110855812,
          10.583661557953231,
          0,
          0,
          5.981011062024407,
          0,
          0,
          0,
          0,
          11.204261468383434,
          13.865853984316134,
          0,
          0,
          21.36850457567982,
          8.333605353029856,
          0,
          0,
          0,
          0,
          0,
          0,
          0,
          0,
          0,
          0,
          0,
          0,
          20.69345069208015,
          0,
          0,
          0,
          0,
          0,
          0,
          12.162818605204144,
          0,
          0,
          0,
          0,
          0,
          6.592513769604133,
          0,
          9.72217954427436,
          0,
          0,
          7.454633455732634,
          7.141661390080789,
          0,
          25.649236460938997,
          0,
          8.433574539474535,
          0,
          0,
          7.854626170324589,
          11.456430583137273,
          0,
          0,
          0,
          0,
          0,
          0,
          0,
          0,
          0,
          33.86674424435796,
          13.686545393025805,
          21.91256475345165,
          0,
          9.987147159304396,
          34.83494447589671,
          3.389061531765124,
          7.734868805008401,
          0,
          10.10014284184951,
          0,
          0,
          0,
          0,
          0,
          0,
          0,
          9.642270092029609,
          0,
          0,
          0,
          0,
          0,
          0,
          0,
          0,
          0,
          0,
          0,
          0,
          0,
          0,
          0,
          0,
          0,
          0,
          0,
          0,
          0,
          0,
          0,
          0,
          0,
          0,
          0,
          0,
          0,
          0,
          0,
          0,
          0,
          0,
          0,
          0,
          0,
          0,
          0,
          0,
          0,
          0,
          0,
          0,
          0,
          0,
          0,
          0,
          0,
          0,
          0,
          0,
          0,
          0,
          0,
          0,
          0,
          0,
          0,
          0,
          25.868030375665505,
          0,
          0,
          0,
          11.853743015936374,
          0
         ],
         "zmax": 70,
         "zmin": 0
        },
        {
         "hoverinfo": "skip",
         "line": {
          "color": "#000000",
          "width": 4
         },
         "mode": "lines",
         "type": "scatter",
         "x": [
          -0.5,
          -0.5
         ],
         "xaxis": "x",
         "y": [
          3.5,
          6.5
         ],
         "yaxis": "y"
        },
        {
         "hoverinfo": "skip",
         "line": {
          "color": "#000000",
          "width": 4
         },
         "mode": "lines",
         "type": "scatter",
         "x": [
          -0.5,
          0.5
         ],
         "xaxis": "x",
         "y": [
          3.5,
          3.5
         ],
         "yaxis": "y"
        },
        {
         "hoverinfo": "skip",
         "line": {
          "color": "#000000",
          "width": 4
         },
         "mode": "lines",
         "type": "scatter",
         "x": [
          0.5,
          0.5
         ],
         "xaxis": "x",
         "y": [
          3.5,
          -0.5
         ],
         "yaxis": "y"
        },
        {
         "hoverinfo": "skip",
         "line": {
          "color": "#000000",
          "width": 4
         },
         "mode": "lines",
         "type": "scatter",
         "x": [
          4.5,
          4.5
         ],
         "xaxis": "x",
         "y": [
          -0.5,
          6.5
         ],
         "yaxis": "y"
        },
        {
         "hoverinfo": "skip",
         "line": {
          "color": "#000000",
          "width": 4
         },
         "mode": "lines",
         "type": "scatter",
         "x": [
          8.5,
          8.5
         ],
         "xaxis": "x",
         "y": [
          -0.5,
          6.5
         ],
         "yaxis": "y"
        },
        {
         "hoverinfo": "skip",
         "line": {
          "color": "#000000",
          "width": 4
         },
         "mode": "lines",
         "type": "scatter",
         "x": [
          12.5,
          12.5
         ],
         "xaxis": "x",
         "y": [
          2.5,
          6.5
         ],
         "yaxis": "y"
        },
        {
         "hoverinfo": "skip",
         "line": {
          "color": "#000000",
          "width": 4
         },
         "mode": "lines",
         "type": "scatter",
         "x": [
          12.5,
          13.5
         ],
         "xaxis": "x",
         "y": [
          2.5,
          2.5
         ],
         "yaxis": "y"
        },
        {
         "hoverinfo": "skip",
         "line": {
          "color": "#000000",
          "width": 4
         },
         "mode": "lines",
         "type": "scatter",
         "x": [
          13.5,
          13.5
         ],
         "xaxis": "x",
         "y": [
          2.5,
          -0.5
         ],
         "yaxis": "y"
        },
        {
         "hoverinfo": "skip",
         "line": {
          "color": "#000000",
          "width": 4
         },
         "mode": "lines",
         "type": "scatter",
         "x": [
          16.5,
          16.5
         ],
         "xaxis": "x",
         "y": [
          4.5,
          6.5
         ],
         "yaxis": "y"
        },
        {
         "hoverinfo": "skip",
         "line": {
          "color": "#000000",
          "width": 4
         },
         "mode": "lines",
         "type": "scatter",
         "x": [
          16.5,
          17.5
         ],
         "xaxis": "x",
         "y": [
          4.5,
          4.5
         ],
         "yaxis": "y"
        },
        {
         "hoverinfo": "skip",
         "line": {
          "color": "#000000",
          "width": 4
         },
         "mode": "lines",
         "type": "scatter",
         "x": [
          17.5,
          17.5
         ],
         "xaxis": "x",
         "y": [
          4.5,
          -0.5
         ],
         "yaxis": "y"
        },
        {
         "hoverinfo": "skip",
         "line": {
          "color": "#000000",
          "width": 4
         },
         "mode": "lines",
         "type": "scatter",
         "x": [
          21.5,
          21.5
         ],
         "xaxis": "x",
         "y": [
          0.5,
          6.5
         ],
         "yaxis": "y"
        },
        {
         "hoverinfo": "skip",
         "line": {
          "color": "#000000",
          "width": 4
         },
         "mode": "lines",
         "type": "scatter",
         "x": [
          21.5,
          22.5
         ],
         "xaxis": "x",
         "y": [
          0.5,
          0.5
         ],
         "yaxis": "y"
        },
        {
         "hoverinfo": "skip",
         "line": {
          "color": "#000000",
          "width": 4
         },
         "mode": "lines",
         "type": "scatter",
         "x": [
          22.5,
          22.5
         ],
         "xaxis": "x",
         "y": [
          0.5,
          -0.5
         ],
         "yaxis": "y"
        },
        {
         "hoverinfo": "skip",
         "line": {
          "color": "#000000",
          "width": 4
         },
         "mode": "lines",
         "type": "scatter",
         "x": [
          25.5,
          25.5
         ],
         "xaxis": "x",
         "y": [
          2.5,
          6.5
         ],
         "yaxis": "y"
        },
        {
         "hoverinfo": "skip",
         "line": {
          "color": "#000000",
          "width": 4
         },
         "mode": "lines",
         "type": "scatter",
         "x": [
          25.5,
          26.5
         ],
         "xaxis": "x",
         "y": [
          2.5,
          2.5
         ],
         "yaxis": "y"
        },
        {
         "hoverinfo": "skip",
         "line": {
          "color": "#000000",
          "width": 4
         },
         "mode": "lines",
         "type": "scatter",
         "x": [
          26.5,
          26.5
         ],
         "xaxis": "x",
         "y": [
          2.5,
          -0.5
         ],
         "yaxis": "y"
        },
        {
         "hoverinfo": "skip",
         "line": {
          "color": "#000000",
          "width": 4
         },
         "mode": "lines",
         "type": "scatter",
         "x": [
          29.5,
          29.5
         ],
         "xaxis": "x",
         "y": [
          5.5,
          6.5
         ],
         "yaxis": "y"
        },
        {
         "hoverinfo": "skip",
         "line": {
          "color": "#000000",
          "width": 4
         },
         "mode": "lines",
         "type": "scatter",
         "x": [
          29.5,
          30.5
         ],
         "xaxis": "x",
         "y": [
          5.5,
          5.5
         ],
         "yaxis": "y"
        },
        {
         "hoverinfo": "skip",
         "line": {
          "color": "#000000",
          "width": 4
         },
         "mode": "lines",
         "type": "scatter",
         "x": [
          30.5,
          30.5
         ],
         "xaxis": "x",
         "y": [
          5.5,
          -0.5
         ],
         "yaxis": "y"
        },
        {
         "hoverinfo": "skip",
         "line": {
          "color": "#000000",
          "width": 4
         },
         "mode": "lines",
         "type": "scatter",
         "x": [
          34.5,
          34.5
         ],
         "xaxis": "x",
         "y": [
          1.5,
          6.5
         ],
         "yaxis": "y"
        },
        {
         "hoverinfo": "skip",
         "line": {
          "color": "#000000",
          "width": 4
         },
         "mode": "lines",
         "type": "scatter",
         "x": [
          34.5,
          35.5
         ],
         "xaxis": "x",
         "y": [
          1.5,
          1.5
         ],
         "yaxis": "y"
        },
        {
         "hoverinfo": "skip",
         "line": {
          "color": "#000000",
          "width": 4
         },
         "mode": "lines",
         "type": "scatter",
         "x": [
          35.5,
          35.5
         ],
         "xaxis": "x",
         "y": [
          1.5,
          -0.5
         ],
         "yaxis": "y"
        },
        {
         "hoverinfo": "skip",
         "line": {
          "color": "#000000",
          "width": 4
         },
         "mode": "lines",
         "type": "scatter",
         "x": [
          38.5,
          38.5
         ],
         "xaxis": "x",
         "y": [
          3.5,
          6.5
         ],
         "yaxis": "y"
        },
        {
         "hoverinfo": "skip",
         "line": {
          "color": "#000000",
          "width": 4
         },
         "mode": "lines",
         "type": "scatter",
         "x": [
          38.5,
          39.5
         ],
         "xaxis": "x",
         "y": [
          3.5,
          3.5
         ],
         "yaxis": "y"
        },
        {
         "hoverinfo": "skip",
         "line": {
          "color": "#000000",
          "width": 4
         },
         "mode": "lines",
         "type": "scatter",
         "x": [
          39.5,
          39.5
         ],
         "xaxis": "x",
         "y": [
          3.5,
          -0.5
         ],
         "yaxis": "y"
        },
        {
         "hoverinfo": "skip",
         "line": {
          "color": "#000000",
          "width": 4
         },
         "mode": "lines",
         "type": "scatter",
         "x": [
          43.5,
          43.5
         ],
         "xaxis": "x",
         "y": [
          -0.5,
          6.5
         ],
         "yaxis": "y"
        },
        {
         "hoverinfo": "skip",
         "line": {
          "color": "#000000",
          "width": 4
         },
         "mode": "lines",
         "type": "scatter",
         "x": [
          47.5,
          47.5
         ],
         "xaxis": "x",
         "y": [
          1.5,
          6.5
         ],
         "yaxis": "y"
        },
        {
         "hoverinfo": "skip",
         "line": {
          "color": "#000000",
          "width": 4
         },
         "mode": "lines",
         "type": "scatter",
         "x": [
          47.5,
          48.5
         ],
         "xaxis": "x",
         "y": [
          1.5,
          1.5
         ],
         "yaxis": "y"
        },
        {
         "hoverinfo": "skip",
         "line": {
          "color": "#000000",
          "width": 4
         },
         "mode": "lines",
         "type": "scatter",
         "x": [
          48.5,
          48.5
         ],
         "xaxis": "x",
         "y": [
          1.5,
          -0.5
         ],
         "yaxis": "y"
        }
       ],
       "layout": {
        "font": {
         "color": "#fff",
         "size": 10
        },
        "height": 225,
        "margin": {
         "b": 20,
         "t": 20
        },
        "paper_bgcolor": "#333",
        "plot_bgcolor": "#333",
        "showlegend": false,
        "template": {
         "data": {
          "bar": [
           {
            "error_x": {
             "color": "#2a3f5f"
            },
            "error_y": {
             "color": "#2a3f5f"
            },
            "marker": {
             "line": {
              "color": "#E5ECF6",
              "width": 0.5
             },
             "pattern": {
              "fillmode": "overlay",
              "size": 10,
              "solidity": 0.2
             }
            },
            "type": "bar"
           }
          ],
          "barpolar": [
           {
            "marker": {
             "line": {
              "color": "#E5ECF6",
              "width": 0.5
             },
             "pattern": {
              "fillmode": "overlay",
              "size": 10,
              "solidity": 0.2
             }
            },
            "type": "barpolar"
           }
          ],
          "carpet": [
           {
            "aaxis": {
             "endlinecolor": "#2a3f5f",
             "gridcolor": "white",
             "linecolor": "white",
             "minorgridcolor": "white",
             "startlinecolor": "#2a3f5f"
            },
            "baxis": {
             "endlinecolor": "#2a3f5f",
             "gridcolor": "white",
             "linecolor": "white",
             "minorgridcolor": "white",
             "startlinecolor": "#2a3f5f"
            },
            "type": "carpet"
           }
          ],
          "choropleth": [
           {
            "colorbar": {
             "outlinewidth": 0,
             "ticks": ""
            },
            "type": "choropleth"
           }
          ],
          "contour": [
           {
            "colorbar": {
             "outlinewidth": 0,
             "ticks": ""
            },
            "colorscale": [
             [
              0,
              "#0d0887"
             ],
             [
              0.1111111111111111,
              "#46039f"
             ],
             [
              0.2222222222222222,
              "#7201a8"
             ],
             [
              0.3333333333333333,
              "#9c179e"
             ],
             [
              0.4444444444444444,
              "#bd3786"
             ],
             [
              0.5555555555555556,
              "#d8576b"
             ],
             [
              0.6666666666666666,
              "#ed7953"
             ],
             [
              0.7777777777777778,
              "#fb9f3a"
             ],
             [
              0.8888888888888888,
              "#fdca26"
             ],
             [
              1,
              "#f0f921"
             ]
            ],
            "type": "contour"
           }
          ],
          "contourcarpet": [
           {
            "colorbar": {
             "outlinewidth": 0,
             "ticks": ""
            },
            "type": "contourcarpet"
           }
          ],
          "heatmap": [
           {
            "colorbar": {
             "outlinewidth": 0,
             "ticks": ""
            },
            "colorscale": [
             [
              0,
              "#0d0887"
             ],
             [
              0.1111111111111111,
              "#46039f"
             ],
             [
              0.2222222222222222,
              "#7201a8"
             ],
             [
              0.3333333333333333,
              "#9c179e"
             ],
             [
              0.4444444444444444,
              "#bd3786"
             ],
             [
              0.5555555555555556,
              "#d8576b"
             ],
             [
              0.6666666666666666,
              "#ed7953"
             ],
             [
              0.7777777777777778,
              "#fb9f3a"
             ],
             [
              0.8888888888888888,
              "#fdca26"
             ],
             [
              1,
              "#f0f921"
             ]
            ],
            "type": "heatmap"
           }
          ],
          "heatmapgl": [
           {
            "colorbar": {
             "outlinewidth": 0,
             "ticks": ""
            },
            "colorscale": [
             [
              0,
              "#0d0887"
             ],
             [
              0.1111111111111111,
              "#46039f"
             ],
             [
              0.2222222222222222,
              "#7201a8"
             ],
             [
              0.3333333333333333,
              "#9c179e"
             ],
             [
              0.4444444444444444,
              "#bd3786"
             ],
             [
              0.5555555555555556,
              "#d8576b"
             ],
             [
              0.6666666666666666,
              "#ed7953"
             ],
             [
              0.7777777777777778,
              "#fb9f3a"
             ],
             [
              0.8888888888888888,
              "#fdca26"
             ],
             [
              1,
              "#f0f921"
             ]
            ],
            "type": "heatmapgl"
           }
          ],
          "histogram": [
           {
            "marker": {
             "pattern": {
              "fillmode": "overlay",
              "size": 10,
              "solidity": 0.2
             }
            },
            "type": "histogram"
           }
          ],
          "histogram2d": [
           {
            "colorbar": {
             "outlinewidth": 0,
             "ticks": ""
            },
            "colorscale": [
             [
              0,
              "#0d0887"
             ],
             [
              0.1111111111111111,
              "#46039f"
             ],
             [
              0.2222222222222222,
              "#7201a8"
             ],
             [
              0.3333333333333333,
              "#9c179e"
             ],
             [
              0.4444444444444444,
              "#bd3786"
             ],
             [
              0.5555555555555556,
              "#d8576b"
             ],
             [
              0.6666666666666666,
              "#ed7953"
             ],
             [
              0.7777777777777778,
              "#fb9f3a"
             ],
             [
              0.8888888888888888,
              "#fdca26"
             ],
             [
              1,
              "#f0f921"
             ]
            ],
            "type": "histogram2d"
           }
          ],
          "histogram2dcontour": [
           {
            "colorbar": {
             "outlinewidth": 0,
             "ticks": ""
            },
            "colorscale": [
             [
              0,
              "#0d0887"
             ],
             [
              0.1111111111111111,
              "#46039f"
             ],
             [
              0.2222222222222222,
              "#7201a8"
             ],
             [
              0.3333333333333333,
              "#9c179e"
             ],
             [
              0.4444444444444444,
              "#bd3786"
             ],
             [
              0.5555555555555556,
              "#d8576b"
             ],
             [
              0.6666666666666666,
              "#ed7953"
             ],
             [
              0.7777777777777778,
              "#fb9f3a"
             ],
             [
              0.8888888888888888,
              "#fdca26"
             ],
             [
              1,
              "#f0f921"
             ]
            ],
            "type": "histogram2dcontour"
           }
          ],
          "mesh3d": [
           {
            "colorbar": {
             "outlinewidth": 0,
             "ticks": ""
            },
            "type": "mesh3d"
           }
          ],
          "parcoords": [
           {
            "line": {
             "colorbar": {
              "outlinewidth": 0,
              "ticks": ""
             }
            },
            "type": "parcoords"
           }
          ],
          "pie": [
           {
            "automargin": true,
            "type": "pie"
           }
          ],
          "scatter": [
           {
            "fillpattern": {
             "fillmode": "overlay",
             "size": 10,
             "solidity": 0.2
            },
            "type": "scatter"
           }
          ],
          "scatter3d": [
           {
            "line": {
             "colorbar": {
              "outlinewidth": 0,
              "ticks": ""
             }
            },
            "marker": {
             "colorbar": {
              "outlinewidth": 0,
              "ticks": ""
             }
            },
            "type": "scatter3d"
           }
          ],
          "scattercarpet": [
           {
            "marker": {
             "colorbar": {
              "outlinewidth": 0,
              "ticks": ""
             }
            },
            "type": "scattercarpet"
           }
          ],
          "scattergeo": [
           {
            "marker": {
             "colorbar": {
              "outlinewidth": 0,
              "ticks": ""
             }
            },
            "type": "scattergeo"
           }
          ],
          "scattergl": [
           {
            "marker": {
             "colorbar": {
              "outlinewidth": 0,
              "ticks": ""
             }
            },
            "type": "scattergl"
           }
          ],
          "scattermapbox": [
           {
            "marker": {
             "colorbar": {
              "outlinewidth": 0,
              "ticks": ""
             }
            },
            "type": "scattermapbox"
           }
          ],
          "scatterpolar": [
           {
            "marker": {
             "colorbar": {
              "outlinewidth": 0,
              "ticks": ""
             }
            },
            "type": "scatterpolar"
           }
          ],
          "scatterpolargl": [
           {
            "marker": {
             "colorbar": {
              "outlinewidth": 0,
              "ticks": ""
             }
            },
            "type": "scatterpolargl"
           }
          ],
          "scatterternary": [
           {
            "marker": {
             "colorbar": {
              "outlinewidth": 0,
              "ticks": ""
             }
            },
            "type": "scatterternary"
           }
          ],
          "surface": [
           {
            "colorbar": {
             "outlinewidth": 0,
             "ticks": ""
            },
            "colorscale": [
             [
              0,
              "#0d0887"
             ],
             [
              0.1111111111111111,
              "#46039f"
             ],
             [
              0.2222222222222222,
              "#7201a8"
             ],
             [
              0.3333333333333333,
              "#9c179e"
             ],
             [
              0.4444444444444444,
              "#bd3786"
             ],
             [
              0.5555555555555556,
              "#d8576b"
             ],
             [
              0.6666666666666666,
              "#ed7953"
             ],
             [
              0.7777777777777778,
              "#fb9f3a"
             ],
             [
              0.8888888888888888,
              "#fdca26"
             ],
             [
              1,
              "#f0f921"
             ]
            ],
            "type": "surface"
           }
          ],
          "table": [
           {
            "cells": {
             "fill": {
              "color": "#EBF0F8"
             },
             "line": {
              "color": "white"
             }
            },
            "header": {
             "fill": {
              "color": "#C8D4E3"
             },
             "line": {
              "color": "white"
             }
            },
            "type": "table"
           }
          ]
         },
         "layout": {
          "annotationdefaults": {
           "arrowcolor": "#2a3f5f",
           "arrowhead": 0,
           "arrowwidth": 1
          },
          "autotypenumbers": "strict",
          "coloraxis": {
           "colorbar": {
            "outlinewidth": 0,
            "ticks": ""
           }
          },
          "colorscale": {
           "diverging": [
            [
             0,
             "#8e0152"
            ],
            [
             0.1,
             "#c51b7d"
            ],
            [
             0.2,
             "#de77ae"
            ],
            [
             0.3,
             "#f1b6da"
            ],
            [
             0.4,
             "#fde0ef"
            ],
            [
             0.5,
             "#f7f7f7"
            ],
            [
             0.6,
             "#e6f5d0"
            ],
            [
             0.7,
             "#b8e186"
            ],
            [
             0.8,
             "#7fbc41"
            ],
            [
             0.9,
             "#4d9221"
            ],
            [
             1,
             "#276419"
            ]
           ],
           "sequential": [
            [
             0,
             "#0d0887"
            ],
            [
             0.1111111111111111,
             "#46039f"
            ],
            [
             0.2222222222222222,
             "#7201a8"
            ],
            [
             0.3333333333333333,
             "#9c179e"
            ],
            [
             0.4444444444444444,
             "#bd3786"
            ],
            [
             0.5555555555555556,
             "#d8576b"
            ],
            [
             0.6666666666666666,
             "#ed7953"
            ],
            [
             0.7777777777777778,
             "#fb9f3a"
            ],
            [
             0.8888888888888888,
             "#fdca26"
            ],
            [
             1,
             "#f0f921"
            ]
           ],
           "sequentialminus": [
            [
             0,
             "#0d0887"
            ],
            [
             0.1111111111111111,
             "#46039f"
            ],
            [
             0.2222222222222222,
             "#7201a8"
            ],
            [
             0.3333333333333333,
             "#9c179e"
            ],
            [
             0.4444444444444444,
             "#bd3786"
            ],
            [
             0.5555555555555556,
             "#d8576b"
            ],
            [
             0.6666666666666666,
             "#ed7953"
            ],
            [
             0.7777777777777778,
             "#fb9f3a"
            ],
            [
             0.8888888888888888,
             "#fdca26"
            ],
            [
             1,
             "#f0f921"
            ]
           ]
          },
          "colorway": [
           "#636efa",
           "#EF553B",
           "#00cc96",
           "#ab63fa",
           "#FFA15A",
           "#19d3f3",
           "#FF6692",
           "#B6E880",
           "#FF97FF",
           "#FECB52"
          ],
          "font": {
           "color": "#2a3f5f"
          },
          "geo": {
           "bgcolor": "white",
           "lakecolor": "white",
           "landcolor": "#E5ECF6",
           "showlakes": true,
           "showland": true,
           "subunitcolor": "white"
          },
          "hoverlabel": {
           "align": "left"
          },
          "hovermode": "closest",
          "mapbox": {
           "style": "light"
          },
          "paper_bgcolor": "white",
          "plot_bgcolor": "#E5ECF6",
          "polar": {
           "angularaxis": {
            "gridcolor": "white",
            "linecolor": "white",
            "ticks": ""
           },
           "bgcolor": "#E5ECF6",
           "radialaxis": {
            "gridcolor": "white",
            "linecolor": "white",
            "ticks": ""
           }
          },
          "scene": {
           "xaxis": {
            "backgroundcolor": "#E5ECF6",
            "gridcolor": "white",
            "gridwidth": 2,
            "linecolor": "white",
            "showbackground": true,
            "ticks": "",
            "zerolinecolor": "white"
           },
           "yaxis": {
            "backgroundcolor": "#E5ECF6",
            "gridcolor": "white",
            "gridwidth": 2,
            "linecolor": "white",
            "showbackground": true,
            "ticks": "",
            "zerolinecolor": "white"
           },
           "zaxis": {
            "backgroundcolor": "#E5ECF6",
            "gridcolor": "white",
            "gridwidth": 2,
            "linecolor": "white",
            "showbackground": true,
            "ticks": "",
            "zerolinecolor": "white"
           }
          },
          "shapedefaults": {
           "line": {
            "color": "#2a3f5f"
           }
          },
          "ternary": {
           "aaxis": {
            "gridcolor": "white",
            "linecolor": "white",
            "ticks": ""
           },
           "baxis": {
            "gridcolor": "white",
            "linecolor": "white",
            "ticks": ""
           },
           "bgcolor": "#E5ECF6",
           "caxis": {
            "gridcolor": "white",
            "linecolor": "white",
            "ticks": ""
           }
          },
          "title": {
           "x": 0.05
          },
          "xaxis": {
           "automargin": true,
           "gridcolor": "white",
           "linecolor": "white",
           "ticks": "",
           "title": {
            "standoff": 15
           },
           "zerolinecolor": "white",
           "zerolinewidth": 2
          },
          "yaxis": {
           "automargin": true,
           "gridcolor": "white",
           "linecolor": "white",
           "ticks": "",
           "title": {
            "standoff": 15
           },
           "zerolinecolor": "white",
           "zerolinewidth": 2
          }
         }
        },
        "title": {
         "text": "Ride Mileage 2021"
        },
        "xaxis": {
         "anchor": "y",
         "domain": [
          0,
          1
         ],
         "showgrid": false,
         "showline": false,
         "tickmode": "array",
         "ticktext": [
          "January",
          "February",
          "March",
          "April",
          "May",
          "June",
          "July",
          "August",
          "September",
          "October",
          "November",
          "December"
         ],
         "tickvals": [
          1.5,
          5.909090909090909,
          10.318181818181818,
          14.727272727272727,
          19.136363636363637,
          23.545454545454547,
          27.954545454545453,
          32.36363636363636,
          36.77272727272727,
          41.18181818181818,
          45.59090909090909,
          50
         ],
         "zeroline": false
        },
        "yaxis": {
         "anchor": "x",
         "autorange": "reversed",
         "domain": [
          0,
          1
         ],
         "showgrid": false,
         "showline": false,
         "tickmode": "array",
         "ticktext": [
          "Mon",
          "Tue",
          "Wed",
          "Thu",
          "Fri",
          "Sat",
          "Sun"
         ],
         "tickvals": [
          0,
          1,
          2,
          3,
          4,
          5,
          6
         ],
         "zeroline": false
        }
       }
      }
     },
     "metadata": {},
     "output_type": "display_data"
    }
   ],
   "source": [
    "fig = calplot(df_activity_2021, x='ride_date', y='total_distance_mi', colorscale=colorscale, \n",
    "              dark_theme=True, gap=1, month_lines_width=4, month_lines_color='#000000',\n",
    "            showscale=True, total_height=225, title='Ride Mileage 2021', cmap_max=70)\n",
    "fig.show()"
   ]
  },
  {
   "cell_type": "code",
   "execution_count": 20,
   "id": "470b2c89",
   "metadata": {},
   "outputs": [
    {
     "data": {
      "application/vnd.plotly.v1+json": {
       "config": {
        "plotlyServerURL": "https://plot.ly"
       },
       "data": [
        {
         "colorscale": [
          [
           0,
           "#888888"
          ],
          [
           0.1111111111111111,
           "#eaf7af"
          ],
          [
           0.2222222222222222,
           "#d2eda0"
          ],
          [
           0.3333333333333333,
           "#b1df90"
          ],
          [
           0.4444444444444444,
           "#8bce81"
          ],
          [
           0.5555555555555556,
           "#64bc6f"
          ],
          [
           0.6666666666666666,
           "#3fa85b"
          ],
          [
           0.7777777777777777,
           "#288a47"
          ],
          [
           0.8888888888888888,
           "#10743c"
          ],
          [
           1,
           "#005e33"
          ]
         ],
         "customdata": [
          [
           "2020-01-01",
           "y"
          ],
          [
           "2020-01-02",
           "y"
          ],
          [
           "2020-01-03",
           "y"
          ],
          [
           "2020-01-04",
           "y"
          ],
          [
           "2020-01-05",
           "y"
          ],
          [
           "2020-01-06",
           "y"
          ],
          [
           "2020-01-07",
           "y"
          ],
          [
           "2020-01-08",
           "y"
          ],
          [
           "2020-01-09",
           "y"
          ],
          [
           "2020-01-10",
           "y"
          ],
          [
           "2020-01-11",
           "y"
          ],
          [
           "2020-01-12",
           "y"
          ],
          [
           "2020-01-13",
           "y"
          ],
          [
           "2020-01-14",
           "y"
          ],
          [
           "2020-01-15",
           "y"
          ],
          [
           "2020-01-16",
           "y"
          ],
          [
           "2020-01-17",
           "y"
          ],
          [
           "2020-01-18",
           "y"
          ],
          [
           "2020-01-19",
           "y"
          ],
          [
           "2020-01-20",
           "y"
          ],
          [
           "2020-01-21",
           "y"
          ],
          [
           "2020-01-22",
           "y"
          ],
          [
           "2020-01-23",
           "y"
          ],
          [
           "2020-01-24",
           "y"
          ],
          [
           "2020-01-25",
           "y"
          ],
          [
           "2020-01-26",
           "y"
          ],
          [
           "2020-01-27",
           "y"
          ],
          [
           "2020-01-28",
           "y"
          ],
          [
           "2020-01-29",
           "y"
          ],
          [
           "2020-01-30",
           "y"
          ],
          [
           "2020-01-31",
           "y"
          ],
          [
           "2020-02-01",
           "y"
          ],
          [
           "2020-02-02",
           "y"
          ],
          [
           "2020-02-03",
           "y"
          ],
          [
           "2020-02-04",
           "y"
          ],
          [
           "2020-02-05",
           "y"
          ],
          [
           "2020-02-06",
           "y"
          ],
          [
           "2020-02-07",
           "y"
          ],
          [
           "2020-02-08",
           "y"
          ],
          [
           "2020-02-09",
           "y"
          ],
          [
           "2020-02-10",
           "y"
          ],
          [
           "2020-02-11",
           "y"
          ],
          [
           "2020-02-12",
           "y"
          ],
          [
           "2020-02-13",
           "y"
          ],
          [
           "2020-02-14",
           "y"
          ],
          [
           "2020-02-15",
           "y"
          ],
          [
           "2020-02-16",
           "y"
          ],
          [
           "2020-02-17",
           "y"
          ],
          [
           "2020-02-18",
           "y"
          ],
          [
           "2020-02-19",
           "y"
          ],
          [
           "2020-02-20",
           "y"
          ],
          [
           "2020-02-21",
           "y"
          ],
          [
           "2020-02-22",
           "y"
          ],
          [
           "2020-02-23",
           "y"
          ],
          [
           "2020-02-24",
           "y"
          ],
          [
           "2020-02-25",
           "y"
          ],
          [
           "2020-02-26",
           "y"
          ],
          [
           "2020-02-27",
           "y"
          ],
          [
           "2020-02-28",
           "y"
          ],
          [
           "2020-02-29",
           "y"
          ],
          [
           "2020-03-01",
           "y"
          ],
          [
           "2020-03-02",
           "y"
          ],
          [
           "2020-03-03",
           "y"
          ],
          [
           "2020-03-04",
           "y"
          ],
          [
           "2020-03-05",
           "y"
          ],
          [
           "2020-03-06",
           "y"
          ],
          [
           "2020-03-07",
           "y"
          ],
          [
           "2020-03-08",
           "y"
          ],
          [
           "2020-03-09",
           "y"
          ],
          [
           "2020-03-10",
           "y"
          ],
          [
           "2020-03-11",
           "y"
          ],
          [
           "2020-03-12",
           "y"
          ],
          [
           "2020-03-13",
           "y"
          ],
          [
           "2020-03-14",
           "y"
          ],
          [
           "2020-03-15",
           "y"
          ],
          [
           "2020-03-16",
           "y"
          ],
          [
           "2020-03-17",
           "y"
          ],
          [
           "2020-03-18",
           "y"
          ],
          [
           "2020-03-19",
           "y"
          ],
          [
           "2020-03-20",
           "y"
          ],
          [
           "2020-03-21",
           "y"
          ],
          [
           "2020-03-22",
           "y"
          ],
          [
           "2020-03-23",
           "y"
          ],
          [
           "2020-03-24",
           "y"
          ],
          [
           "2020-03-25",
           "y"
          ],
          [
           "2020-03-26",
           "y"
          ],
          [
           "2020-03-27",
           "y"
          ],
          [
           "2020-03-28",
           "y"
          ],
          [
           "2020-03-29",
           "y"
          ],
          [
           "2020-03-30",
           "y"
          ],
          [
           "2020-03-31",
           "y"
          ],
          [
           "2020-04-01",
           "y"
          ],
          [
           "2020-04-02",
           "y"
          ],
          [
           "2020-04-03",
           "y"
          ],
          [
           "2020-04-04",
           "y"
          ],
          [
           "2020-04-05",
           "y"
          ],
          [
           "2020-04-06",
           "y"
          ],
          [
           "2020-04-07",
           "y"
          ],
          [
           "2020-04-08",
           "y"
          ],
          [
           "2020-04-09",
           "y"
          ],
          [
           "2020-04-10",
           "y"
          ],
          [
           "2020-04-11",
           "y"
          ],
          [
           "2020-04-12",
           "y"
          ],
          [
           "2020-04-13",
           "y"
          ],
          [
           "2020-04-14",
           "y"
          ],
          [
           "2020-04-15",
           "y"
          ],
          [
           "2020-04-16",
           "y"
          ],
          [
           "2020-04-17",
           "y"
          ],
          [
           "2020-04-18",
           "y"
          ],
          [
           "2020-04-19",
           "y"
          ],
          [
           "2020-04-20",
           "y"
          ],
          [
           "2020-04-21",
           "y"
          ],
          [
           "2020-04-22",
           "y"
          ],
          [
           "2020-04-23",
           "y"
          ],
          [
           "2020-04-24",
           "y"
          ],
          [
           "2020-04-25",
           "y"
          ],
          [
           "2020-04-26",
           "y"
          ],
          [
           "2020-04-27",
           "y"
          ],
          [
           "2020-04-28",
           "y"
          ],
          [
           "2020-04-29",
           "y"
          ],
          [
           "2020-04-30",
           "y"
          ],
          [
           "2020-05-01",
           "y"
          ],
          [
           "2020-05-02",
           "y"
          ],
          [
           "2020-05-03",
           "y"
          ],
          [
           "2020-05-04",
           "y"
          ],
          [
           "2020-05-05",
           "y"
          ],
          [
           "2020-05-06",
           "y"
          ],
          [
           "2020-05-07",
           "y"
          ],
          [
           "2020-05-08",
           "y"
          ],
          [
           "2020-05-09",
           "y"
          ],
          [
           "2020-05-10",
           "y"
          ],
          [
           "2020-05-11",
           "y"
          ],
          [
           "2020-05-12",
           "y"
          ],
          [
           "2020-05-13",
           "y"
          ],
          [
           "2020-05-14",
           "y"
          ],
          [
           "2020-05-15",
           "y"
          ],
          [
           "2020-05-16",
           "y"
          ],
          [
           "2020-05-17",
           "y"
          ],
          [
           "2020-05-18",
           "y"
          ],
          [
           "2020-05-19",
           "y"
          ],
          [
           "2020-05-20",
           "y"
          ],
          [
           "2020-05-21",
           "y"
          ],
          [
           "2020-05-22",
           "y"
          ],
          [
           "2020-05-23",
           "y"
          ],
          [
           "2020-05-24",
           "y"
          ],
          [
           "2020-05-25",
           "y"
          ],
          [
           "2020-05-26",
           "y"
          ],
          [
           "2020-05-27",
           "y"
          ],
          [
           "2020-05-28",
           "y"
          ],
          [
           "2020-05-29",
           "y"
          ],
          [
           "2020-05-30",
           "y"
          ],
          [
           "2020-05-31",
           "y"
          ],
          [
           "2020-06-01",
           "y"
          ],
          [
           "2020-06-02",
           "y"
          ],
          [
           "2020-06-03",
           "y"
          ],
          [
           "2020-06-04",
           "y"
          ],
          [
           "2020-06-05",
           "y"
          ],
          [
           "2020-06-06",
           "y"
          ],
          [
           "2020-06-07",
           "y"
          ],
          [
           "2020-06-08",
           "y"
          ],
          [
           "2020-06-09",
           "y"
          ],
          [
           "2020-06-10",
           "y"
          ],
          [
           "2020-06-11",
           "y"
          ],
          [
           "2020-06-12",
           "y"
          ],
          [
           "2020-06-13",
           "y"
          ],
          [
           "2020-06-14",
           "y"
          ],
          [
           "2020-06-15",
           "y"
          ],
          [
           "2020-06-16",
           "y"
          ],
          [
           "2020-06-17",
           "y"
          ],
          [
           "2020-06-18",
           "y"
          ],
          [
           "2020-06-19",
           "y"
          ],
          [
           "2020-06-20",
           "y"
          ],
          [
           "2020-06-21",
           "y"
          ],
          [
           "2020-06-22",
           "y"
          ],
          [
           "2020-06-23",
           "y"
          ],
          [
           "2020-06-24",
           "y"
          ],
          [
           "2020-06-25",
           "y"
          ],
          [
           "2020-06-26",
           "y"
          ],
          [
           "2020-06-27",
           "y"
          ],
          [
           "2020-06-28",
           "y"
          ],
          [
           "2020-06-29",
           "y"
          ],
          [
           "2020-06-30",
           "y"
          ],
          [
           "2020-07-01",
           "y"
          ],
          [
           "2020-07-02",
           "y"
          ],
          [
           "2020-07-03",
           "y"
          ],
          [
           "2020-07-04",
           "y"
          ],
          [
           "2020-07-05",
           "y"
          ],
          [
           "2020-07-06",
           "y"
          ],
          [
           "2020-07-07",
           "y"
          ],
          [
           "2020-07-08",
           "y"
          ],
          [
           "2020-07-09",
           "y"
          ],
          [
           "2020-07-10",
           "y"
          ],
          [
           "2020-07-11",
           "y"
          ],
          [
           "2020-07-12",
           "y"
          ],
          [
           "2020-07-13",
           "y"
          ],
          [
           "2020-07-14",
           "y"
          ],
          [
           "2020-07-15",
           "y"
          ],
          [
           "2020-07-16",
           "y"
          ],
          [
           "2020-07-17",
           "y"
          ],
          [
           "2020-07-18",
           "y"
          ],
          [
           "2020-07-19",
           "y"
          ],
          [
           "2020-07-20",
           "y"
          ],
          [
           "2020-07-21",
           "y"
          ],
          [
           "2020-07-22",
           "y"
          ],
          [
           "2020-07-23",
           "y"
          ],
          [
           "2020-07-24",
           "y"
          ],
          [
           "2020-07-25",
           "y"
          ],
          [
           "2020-07-26",
           "y"
          ],
          [
           "2020-07-27",
           "y"
          ],
          [
           "2020-07-28",
           "y"
          ],
          [
           "2020-07-29",
           "y"
          ],
          [
           "2020-07-30",
           "y"
          ],
          [
           "2020-07-31",
           "y"
          ],
          [
           "2020-08-01",
           "y"
          ],
          [
           "2020-08-02",
           "y"
          ],
          [
           "2020-08-03",
           "y"
          ],
          [
           "2020-08-04",
           "y"
          ],
          [
           "2020-08-05",
           "y"
          ],
          [
           "2020-08-06",
           "y"
          ],
          [
           "2020-08-07",
           "y"
          ],
          [
           "2020-08-08",
           "y"
          ],
          [
           "2020-08-09",
           "y"
          ],
          [
           "2020-08-10",
           "y"
          ],
          [
           "2020-08-11",
           "y"
          ],
          [
           "2020-08-12",
           "y"
          ],
          [
           "2020-08-13",
           "y"
          ],
          [
           "2020-08-14",
           "y"
          ],
          [
           "2020-08-15",
           "y"
          ],
          [
           "2020-08-16",
           "y"
          ],
          [
           "2020-08-17",
           "y"
          ],
          [
           "2020-08-18",
           "y"
          ],
          [
           "2020-08-19",
           "y"
          ],
          [
           "2020-08-20",
           "y"
          ],
          [
           "2020-08-21",
           "y"
          ],
          [
           "2020-08-22",
           "y"
          ],
          [
           "2020-08-23",
           "y"
          ],
          [
           "2020-08-24",
           "y"
          ],
          [
           "2020-08-25",
           "y"
          ],
          [
           "2020-08-26",
           "y"
          ],
          [
           "2020-08-27",
           "y"
          ],
          [
           "2020-08-28",
           "y"
          ],
          [
           "2020-08-29",
           "y"
          ],
          [
           "2020-08-30",
           "y"
          ],
          [
           "2020-08-31",
           "y"
          ],
          [
           "2020-09-01",
           "y"
          ],
          [
           "2020-09-02",
           "y"
          ],
          [
           "2020-09-03",
           "y"
          ],
          [
           "2020-09-04",
           "y"
          ],
          [
           "2020-09-05",
           "y"
          ],
          [
           "2020-09-06",
           "y"
          ],
          [
           "2020-09-07",
           "y"
          ],
          [
           "2020-09-08",
           "y"
          ],
          [
           "2020-09-09",
           "y"
          ],
          [
           "2020-09-10",
           "y"
          ],
          [
           "2020-09-11",
           "y"
          ],
          [
           "2020-09-12",
           "y"
          ],
          [
           "2020-09-13",
           "y"
          ],
          [
           "2020-09-14",
           "y"
          ],
          [
           "2020-09-15",
           "y"
          ],
          [
           "2020-09-16",
           "y"
          ],
          [
           "2020-09-17",
           "y"
          ],
          [
           "2020-09-18",
           "y"
          ],
          [
           "2020-09-19",
           "y"
          ],
          [
           "2020-09-20",
           "y"
          ],
          [
           "2020-09-21",
           "y"
          ],
          [
           "2020-09-22",
           "y"
          ],
          [
           "2020-09-23",
           "y"
          ],
          [
           "2020-09-24",
           "y"
          ],
          [
           "2020-09-25",
           "y"
          ],
          [
           "2020-09-26",
           "y"
          ],
          [
           "2020-09-27",
           "y"
          ],
          [
           "2020-09-28",
           "y"
          ],
          [
           "2020-09-29",
           "y"
          ],
          [
           "2020-09-30",
           "y"
          ],
          [
           "2020-10-01",
           "y"
          ],
          [
           "2020-10-02",
           "y"
          ],
          [
           "2020-10-03",
           "y"
          ],
          [
           "2020-10-04",
           "y"
          ],
          [
           "2020-10-05",
           "y"
          ],
          [
           "2020-10-06",
           "y"
          ],
          [
           "2020-10-07",
           "y"
          ],
          [
           "2020-10-08",
           "y"
          ],
          [
           "2020-10-09",
           "y"
          ],
          [
           "2020-10-10",
           "y"
          ],
          [
           "2020-10-11",
           "y"
          ],
          [
           "2020-10-12",
           "y"
          ],
          [
           "2020-10-13",
           "y"
          ],
          [
           "2020-10-14",
           "y"
          ],
          [
           "2020-10-15",
           "y"
          ],
          [
           "2020-10-16",
           "y"
          ],
          [
           "2020-10-17",
           "y"
          ],
          [
           "2020-10-18",
           "y"
          ],
          [
           "2020-10-19",
           "y"
          ],
          [
           "2020-10-20",
           "y"
          ],
          [
           "2020-10-21",
           "y"
          ],
          [
           "2020-10-22",
           "y"
          ],
          [
           "2020-10-23",
           "y"
          ],
          [
           "2020-10-24",
           "y"
          ],
          [
           "2020-10-25",
           "y"
          ],
          [
           "2020-10-26",
           "y"
          ],
          [
           "2020-10-27",
           "y"
          ],
          [
           "2020-10-28",
           "y"
          ],
          [
           "2020-10-29",
           "y"
          ],
          [
           "2020-10-30",
           "y"
          ],
          [
           "2020-10-31",
           "y"
          ],
          [
           "2020-11-01",
           "y"
          ],
          [
           "2020-11-02",
           "y"
          ],
          [
           "2020-11-03",
           "y"
          ],
          [
           "2020-11-04",
           "y"
          ],
          [
           "2020-11-05",
           "y"
          ],
          [
           "2020-11-06",
           "y"
          ],
          [
           "2020-11-07",
           "y"
          ],
          [
           "2020-11-08",
           "y"
          ],
          [
           "2020-11-09",
           "y"
          ],
          [
           "2020-11-10",
           "y"
          ],
          [
           "2020-11-11",
           "y"
          ],
          [
           "2020-11-12",
           "y"
          ],
          [
           "2020-11-13",
           "y"
          ],
          [
           "2020-11-14",
           "y"
          ],
          [
           "2020-11-15",
           "y"
          ],
          [
           "2020-11-16",
           "y"
          ],
          [
           "2020-11-17",
           "y"
          ],
          [
           "2020-11-18",
           "y"
          ],
          [
           "2020-11-19",
           "y"
          ],
          [
           "2020-11-20",
           "y"
          ],
          [
           "2020-11-21",
           "y"
          ],
          [
           "2020-11-22",
           "y"
          ],
          [
           "2020-11-23",
           "y"
          ],
          [
           "2020-11-24",
           "y"
          ],
          [
           "2020-11-25",
           "y"
          ],
          [
           "2020-11-26",
           "y"
          ],
          [
           "2020-11-27",
           "y"
          ],
          [
           "2020-11-28",
           "y"
          ],
          [
           "2020-11-29",
           "y"
          ],
          [
           "2020-11-30",
           "y"
          ],
          [
           "2020-12-01",
           "y"
          ],
          [
           "2020-12-02",
           "y"
          ],
          [
           "2020-12-03",
           "y"
          ],
          [
           "2020-12-04",
           "y"
          ],
          [
           "2020-12-05",
           "y"
          ],
          [
           "2020-12-06",
           "y"
          ],
          [
           "2020-12-07",
           "y"
          ],
          [
           "2020-12-08",
           "y"
          ],
          [
           "2020-12-09",
           "y"
          ],
          [
           "2020-12-10",
           "y"
          ],
          [
           "2020-12-11",
           "y"
          ],
          [
           "2020-12-12",
           "y"
          ],
          [
           "2020-12-13",
           "y"
          ],
          [
           "2020-12-14",
           "y"
          ],
          [
           "2020-12-15",
           "y"
          ],
          [
           "2020-12-16",
           "y"
          ],
          [
           "2020-12-17",
           "y"
          ],
          [
           "2020-12-18",
           "y"
          ],
          [
           "2020-12-19",
           "y"
          ],
          [
           "2020-12-20",
           "y"
          ],
          [
           "2020-12-21",
           "y"
          ],
          [
           "2020-12-22",
           "y"
          ],
          [
           "2020-12-23",
           "y"
          ],
          [
           "2020-12-24",
           "y"
          ],
          [
           "2020-12-25",
           "y"
          ],
          [
           "2020-12-26",
           "y"
          ],
          [
           "2020-12-27",
           "y"
          ],
          [
           "2020-12-28",
           "y"
          ],
          [
           "2020-12-29",
           "y"
          ],
          [
           "2020-12-30",
           "y"
          ],
          [
           "2020-12-31",
           "y"
          ]
         ],
         "hovertemplate": "%{customdata[0]} <br>Week=%{x} <br>%{customdata[1]}=%{z}",
         "name": "2020",
         "showscale": true,
         "type": "heatmap",
         "x": [
          0,
          0,
          0,
          0,
          0,
          1,
          1,
          1,
          1,
          1,
          1,
          1,
          2,
          2,
          2,
          2,
          2,
          2,
          2,
          3,
          3,
          3,
          3,
          3,
          3,
          3,
          4,
          4,
          4,
          4,
          4,
          4,
          4,
          5,
          5,
          5,
          5,
          5,
          5,
          5,
          6,
          6,
          6,
          6,
          6,
          6,
          6,
          7,
          7,
          7,
          7,
          7,
          7,
          7,
          8,
          8,
          8,
          8,
          8,
          8,
          8,
          9,
          9,
          9,
          9,
          9,
          9,
          9,
          10,
          10,
          10,
          10,
          10,
          10,
          10,
          11,
          11,
          11,
          11,
          11,
          11,
          11,
          12,
          12,
          12,
          12,
          12,
          12,
          12,
          13,
          13,
          13,
          13,
          13,
          13,
          13,
          14,
          14,
          14,
          14,
          14,
          14,
          14,
          15,
          15,
          15,
          15,
          15,
          15,
          15,
          16,
          16,
          16,
          16,
          16,
          16,
          16,
          17,
          17,
          17,
          17,
          17,
          17,
          17,
          18,
          18,
          18,
          18,
          18,
          18,
          18,
          19,
          19,
          19,
          19,
          19,
          19,
          19,
          20,
          20,
          20,
          20,
          20,
          20,
          20,
          21,
          21,
          21,
          21,
          21,
          21,
          21,
          22,
          22,
          22,
          22,
          22,
          22,
          22,
          23,
          23,
          23,
          23,
          23,
          23,
          23,
          24,
          24,
          24,
          24,
          24,
          24,
          24,
          25,
          25,
          25,
          25,
          25,
          25,
          25,
          26,
          26,
          26,
          26,
          26,
          26,
          26,
          27,
          27,
          27,
          27,
          27,
          27,
          27,
          28,
          28,
          28,
          28,
          28,
          28,
          28,
          29,
          29,
          29,
          29,
          29,
          29,
          29,
          30,
          30,
          30,
          30,
          30,
          30,
          30,
          31,
          31,
          31,
          31,
          31,
          31,
          31,
          32,
          32,
          32,
          32,
          32,
          32,
          32,
          33,
          33,
          33,
          33,
          33,
          33,
          33,
          34,
          34,
          34,
          34,
          34,
          34,
          34,
          35,
          35,
          35,
          35,
          35,
          35,
          35,
          36,
          36,
          36,
          36,
          36,
          36,
          36,
          37,
          37,
          37,
          37,
          37,
          37,
          37,
          38,
          38,
          38,
          38,
          38,
          38,
          38,
          39,
          39,
          39,
          39,
          39,
          39,
          39,
          40,
          40,
          40,
          40,
          40,
          40,
          40,
          41,
          41,
          41,
          41,
          41,
          41,
          41,
          42,
          42,
          42,
          42,
          42,
          42,
          42,
          43,
          43,
          43,
          43,
          43,
          43,
          43,
          44,
          44,
          44,
          44,
          44,
          44,
          44,
          45,
          45,
          45,
          45,
          45,
          45,
          45,
          46,
          46,
          46,
          46,
          46,
          46,
          46,
          47,
          47,
          47,
          47,
          47,
          47,
          47,
          48,
          48,
          48,
          48,
          48,
          48,
          48,
          49,
          49,
          49,
          49,
          49,
          49,
          49,
          50,
          50,
          50,
          50,
          50,
          50,
          50,
          51,
          51,
          51,
          51,
          51,
          51,
          51,
          52,
          52,
          52,
          52
         ],
         "xaxis": "x",
         "xgap": 1,
         "y": [
          2,
          3,
          4,
          5,
          6,
          0,
          1,
          2,
          3,
          4,
          5,
          6,
          0,
          1,
          2,
          3,
          4,
          5,
          6,
          0,
          1,
          2,
          3,
          4,
          5,
          6,
          0,
          1,
          2,
          3,
          4,
          5,
          6,
          0,
          1,
          2,
          3,
          4,
          5,
          6,
          0,
          1,
          2,
          3,
          4,
          5,
          6,
          0,
          1,
          2,
          3,
          4,
          5,
          6,
          0,
          1,
          2,
          3,
          4,
          5,
          6,
          0,
          1,
          2,
          3,
          4,
          5,
          6,
          0,
          1,
          2,
          3,
          4,
          5,
          6,
          0,
          1,
          2,
          3,
          4,
          5,
          6,
          0,
          1,
          2,
          3,
          4,
          5,
          6,
          0,
          1,
          2,
          3,
          4,
          5,
          6,
          0,
          1,
          2,
          3,
          4,
          5,
          6,
          0,
          1,
          2,
          3,
          4,
          5,
          6,
          0,
          1,
          2,
          3,
          4,
          5,
          6,
          0,
          1,
          2,
          3,
          4,
          5,
          6,
          0,
          1,
          2,
          3,
          4,
          5,
          6,
          0,
          1,
          2,
          3,
          4,
          5,
          6,
          0,
          1,
          2,
          3,
          4,
          5,
          6,
          0,
          1,
          2,
          3,
          4,
          5,
          6,
          0,
          1,
          2,
          3,
          4,
          5,
          6,
          0,
          1,
          2,
          3,
          4,
          5,
          6,
          0,
          1,
          2,
          3,
          4,
          5,
          6,
          0,
          1,
          2,
          3,
          4,
          5,
          6,
          0,
          1,
          2,
          3,
          4,
          5,
          6,
          0,
          1,
          2,
          3,
          4,
          5,
          6,
          0,
          1,
          2,
          3,
          4,
          5,
          6,
          0,
          1,
          2,
          3,
          4,
          5,
          6,
          0,
          1,
          2,
          3,
          4,
          5,
          6,
          0,
          1,
          2,
          3,
          4,
          5,
          6,
          0,
          1,
          2,
          3,
          4,
          5,
          6,
          0,
          1,
          2,
          3,
          4,
          5,
          6,
          0,
          1,
          2,
          3,
          4,
          5,
          6,
          0,
          1,
          2,
          3,
          4,
          5,
          6,
          0,
          1,
          2,
          3,
          4,
          5,
          6,
          0,
          1,
          2,
          3,
          4,
          5,
          6,
          0,
          1,
          2,
          3,
          4,
          5,
          6,
          0,
          1,
          2,
          3,
          4,
          5,
          6,
          0,
          1,
          2,
          3,
          4,
          5,
          6,
          0,
          1,
          2,
          3,
          4,
          5,
          6,
          0,
          1,
          2,
          3,
          4,
          5,
          6,
          0,
          1,
          2,
          3,
          4,
          5,
          6,
          0,
          1,
          2,
          3,
          4,
          5,
          6,
          0,
          1,
          2,
          3,
          4,
          5,
          6,
          0,
          1,
          2,
          3,
          4,
          5,
          6,
          0,
          1,
          2,
          3,
          4,
          5,
          6,
          0,
          1,
          2,
          3,
          4,
          5,
          6,
          0,
          1,
          2,
          3,
          4,
          5,
          6,
          0,
          1,
          2,
          3,
          4,
          5,
          6,
          0,
          1,
          2,
          3,
          4,
          5,
          6,
          0,
          1,
          2,
          3
         ],
         "yaxis": "y",
         "ygap": 1,
         "z": [
          0,
          5.27624788137982,
          0,
          0,
          0,
          0,
          0,
          10.481388048443865,
          0,
          0,
          0,
          0,
          0,
          0,
          0,
          0,
          0,
          0,
          0,
          0,
          0,
          0,
          0,
          0,
          0,
          0,
          0,
          0,
          0,
          0,
          0,
          0,
          0,
          0,
          0,
          0,
          0,
          0,
          0,
          0,
          0,
          0,
          0,
          0,
          0,
          0,
          0,
          0,
          0,
          0,
          0,
          0,
          0,
          0,
          0,
          0,
          0,
          0,
          0,
          0,
          0,
          0,
          0,
          0,
          0,
          0,
          0,
          0,
          0,
          0,
          0,
          0,
          0,
          0,
          0,
          0,
          0,
          0,
          0,
          0,
          0,
          0,
          0,
          0,
          0,
          0,
          0,
          0,
          0,
          0,
          0,
          0,
          6.771038658125979,
          0,
          22.75173993312781,
          0,
          0,
          0,
          0,
          0,
          0,
          11.374901753980613,
          8.985745615874531,
          4.869108089917981,
          7.197711176621681,
          0,
          7.218499340856504,
          7.021599934944788,
          10.926798448211189,
          15.224367563686345,
          17.831144797616535,
          0,
          9.006008112939424,
          0.0295814542335691,
          0,
          6.297354300286336,
          0,
          0.0023618763812261,
          8.729158152329674,
          8.656644482016372,
          0,
          8.726456546219172,
          35.20773519119668,
          8.714289793214286,
          0,
          8.714721388996109,
          22.248131634451383,
          24.476609812316784,
          0,
          8.200083986647059,
          9.749860413150456,
          8.332234890351915,
          14.502565658606462,
          6.166453298652663,
          0,
          0,
          21.622056497528064,
          8.20582178718482,
          0,
          8.252119343106168,
          8.142267124750907,
          9.839674624364328,
          8.715053534041836,
          0,
          40.42322015021502,
          31.26979795840965,
          9.95116412191229,
          0,
          17.541576245697247,
          0,
          23.066681834933547,
          0,
          0,
          0,
          0,
          0,
          0,
          14.42740413979071,
          14.512925284770102,
          12.189153860910176,
          0,
          8.883115933240724,
          13.94863043605215,
          0,
          24.196539932373696,
          19.01265561286561,
          0,
          12.732106821636004,
          15.518910514505729,
          0,
          12.205053817878014,
          0,
          12.16013539875675,
          0,
          0,
          0,
          0,
          9.8381984697048,
          25.050090598554476,
          0,
          0,
          46.29419062891853,
          17.796081108917473,
          0,
          0,
          15.76853256577354,
          11.727104840631224,
          0,
          11.308320282369436,
          15.104344573436183,
          0,
          18.902264146788795,
          10.511559413732588,
          52.55344390115429,
          0,
          22.253912239909738,
          8.877776827227878,
          8.790370720102358,
          0,
          0,
          0,
          0,
          0,
          11.202007488537909,
          21.97737410785981,
          0,
          6.58514660453414,
          31.25914575235642,
          0,
          2.2525786579962013,
          19.912930741038668,
          0,
          0,
          18.490235906083782,
          22.02859029933231,
          0,
          5.142241355743366,
          10.271669566430615,
          24.780603560987075,
          0,
          0,
          2.9481293756265643,
          0,
          0,
          6.524623044435499,
          0,
          0,
          0,
          19.88042159724067,
          0,
          0,
          28.223453622704486,
          2.433818373511328,
          0,
          0,
          21.047526041841603,
          0,
          6.384716495076581,
          0,
          0,
          0,
          0,
          18.193200421621533,
          0,
          0,
          17.3450914460662,
          6.735612129014264,
          0,
          0,
          0,
          0,
          0,
          15.775080802154038,
          0,
          0,
          0,
          0,
          0,
          0,
          9.315928375262343,
          11.923066054306842,
          13.10127804842337,
          0,
          0,
          0,
          0,
          0,
          24.30233605360464,
          0,
          0,
          19.737041826565346,
          0,
          0,
          0,
          0,
          0,
          0,
          0,
          0,
          0,
          0,
          0,
          0,
          0,
          0,
          0,
          0,
          0,
          0,
          11.259670450987173,
          0,
          0,
          0,
          0,
          0,
          9.923159042814056,
          0,
          26.094010800031985,
          0,
          0,
          0,
          0,
          0,
          0,
          0,
          0,
          0,
          0,
          0,
          0,
          0,
          0,
          0,
          0,
          0,
          0,
          5.726093993026562,
          0,
          0,
          0,
          9.654493921077936,
          6.154145780853402,
          4.761008796965057,
          6.8827885014798165,
          0,
          0,
          0,
          0,
          0,
          0,
          0,
          0,
          12.5904697275689,
          0,
          6.421889174557219,
          0,
          3.95254364697406,
          13.157407686754937,
          0,
          5.800061776046342,
          23.92927904664176,
          0,
          11.170880386301068,
          23.17515833626694,
          15.407843629106855,
          0,
          0,
          0,
          6.992283689866474,
          11.167341326679711,
          0,
          14.366841530218869,
          16.5781675450412,
          0,
          0,
          0,
          0,
          0,
          12.64249119173516,
          0,
          0,
          0,
          0,
          11.314947414237851,
          9.74511823200809,
          0
         ],
         "zmax": 70,
         "zmin": 0
        },
        {
         "hoverinfo": "skip",
         "line": {
          "color": "#000000",
          "width": 4
         },
         "mode": "lines",
         "type": "scatter",
         "x": [
          -0.5,
          -0.5
         ],
         "xaxis": "x",
         "y": [
          1.5,
          6.5
         ],
         "yaxis": "y"
        },
        {
         "hoverinfo": "skip",
         "line": {
          "color": "#000000",
          "width": 4
         },
         "mode": "lines",
         "type": "scatter",
         "x": [
          -0.5,
          0.5
         ],
         "xaxis": "x",
         "y": [
          1.5,
          1.5
         ],
         "yaxis": "y"
        },
        {
         "hoverinfo": "skip",
         "line": {
          "color": "#000000",
          "width": 4
         },
         "mode": "lines",
         "type": "scatter",
         "x": [
          0.5,
          0.5
         ],
         "xaxis": "x",
         "y": [
          1.5,
          -0.5
         ],
         "yaxis": "y"
        },
        {
         "hoverinfo": "skip",
         "line": {
          "color": "#000000",
          "width": 4
         },
         "mode": "lines",
         "type": "scatter",
         "x": [
          3.5,
          3.5
         ],
         "xaxis": "x",
         "y": [
          4.5,
          6.5
         ],
         "yaxis": "y"
        },
        {
         "hoverinfo": "skip",
         "line": {
          "color": "#000000",
          "width": 4
         },
         "mode": "lines",
         "type": "scatter",
         "x": [
          3.5,
          4.5
         ],
         "xaxis": "x",
         "y": [
          4.5,
          4.5
         ],
         "yaxis": "y"
        },
        {
         "hoverinfo": "skip",
         "line": {
          "color": "#000000",
          "width": 4
         },
         "mode": "lines",
         "type": "scatter",
         "x": [
          4.5,
          4.5
         ],
         "xaxis": "x",
         "y": [
          4.5,
          -0.5
         ],
         "yaxis": "y"
        },
        {
         "hoverinfo": "skip",
         "line": {
          "color": "#000000",
          "width": 4
         },
         "mode": "lines",
         "type": "scatter",
         "x": [
          7.5,
          7.5
         ],
         "xaxis": "x",
         "y": [
          5.5,
          6.5
         ],
         "yaxis": "y"
        },
        {
         "hoverinfo": "skip",
         "line": {
          "color": "#000000",
          "width": 4
         },
         "mode": "lines",
         "type": "scatter",
         "x": [
          7.5,
          8.5
         ],
         "xaxis": "x",
         "y": [
          5.5,
          5.5
         ],
         "yaxis": "y"
        },
        {
         "hoverinfo": "skip",
         "line": {
          "color": "#000000",
          "width": 4
         },
         "mode": "lines",
         "type": "scatter",
         "x": [
          8.5,
          8.5
         ],
         "xaxis": "x",
         "y": [
          5.5,
          -0.5
         ],
         "yaxis": "y"
        },
        {
         "hoverinfo": "skip",
         "line": {
          "color": "#000000",
          "width": 4
         },
         "mode": "lines",
         "type": "scatter",
         "x": [
          12.5,
          12.5
         ],
         "xaxis": "x",
         "y": [
          1.5,
          6.5
         ],
         "yaxis": "y"
        },
        {
         "hoverinfo": "skip",
         "line": {
          "color": "#000000",
          "width": 4
         },
         "mode": "lines",
         "type": "scatter",
         "x": [
          12.5,
          13.5
         ],
         "xaxis": "x",
         "y": [
          1.5,
          1.5
         ],
         "yaxis": "y"
        },
        {
         "hoverinfo": "skip",
         "line": {
          "color": "#000000",
          "width": 4
         },
         "mode": "lines",
         "type": "scatter",
         "x": [
          13.5,
          13.5
         ],
         "xaxis": "x",
         "y": [
          1.5,
          -0.5
         ],
         "yaxis": "y"
        },
        {
         "hoverinfo": "skip",
         "line": {
          "color": "#000000",
          "width": 4
         },
         "mode": "lines",
         "type": "scatter",
         "x": [
          16.5,
          16.5
         ],
         "xaxis": "x",
         "y": [
          3.5,
          6.5
         ],
         "yaxis": "y"
        },
        {
         "hoverinfo": "skip",
         "line": {
          "color": "#000000",
          "width": 4
         },
         "mode": "lines",
         "type": "scatter",
         "x": [
          16.5,
          17.5
         ],
         "xaxis": "x",
         "y": [
          3.5,
          3.5
         ],
         "yaxis": "y"
        },
        {
         "hoverinfo": "skip",
         "line": {
          "color": "#000000",
          "width": 4
         },
         "mode": "lines",
         "type": "scatter",
         "x": [
          17.5,
          17.5
         ],
         "xaxis": "x",
         "y": [
          3.5,
          -0.5
         ],
         "yaxis": "y"
        },
        {
         "hoverinfo": "skip",
         "line": {
          "color": "#000000",
          "width": 4
         },
         "mode": "lines",
         "type": "scatter",
         "x": [
          21.5,
          21.5
         ],
         "xaxis": "x",
         "y": [
          -0.5,
          6.5
         ],
         "yaxis": "y"
        },
        {
         "hoverinfo": "skip",
         "line": {
          "color": "#000000",
          "width": 4
         },
         "mode": "lines",
         "type": "scatter",
         "x": [
          25.5,
          25.5
         ],
         "xaxis": "x",
         "y": [
          1.5,
          6.5
         ],
         "yaxis": "y"
        },
        {
         "hoverinfo": "skip",
         "line": {
          "color": "#000000",
          "width": 4
         },
         "mode": "lines",
         "type": "scatter",
         "x": [
          25.5,
          26.5
         ],
         "xaxis": "x",
         "y": [
          1.5,
          1.5
         ],
         "yaxis": "y"
        },
        {
         "hoverinfo": "skip",
         "line": {
          "color": "#000000",
          "width": 4
         },
         "mode": "lines",
         "type": "scatter",
         "x": [
          26.5,
          26.5
         ],
         "xaxis": "x",
         "y": [
          1.5,
          -0.5
         ],
         "yaxis": "y"
        },
        {
         "hoverinfo": "skip",
         "line": {
          "color": "#000000",
          "width": 4
         },
         "mode": "lines",
         "type": "scatter",
         "x": [
          29.5,
          29.5
         ],
         "xaxis": "x",
         "y": [
          4.5,
          6.5
         ],
         "yaxis": "y"
        },
        {
         "hoverinfo": "skip",
         "line": {
          "color": "#000000",
          "width": 4
         },
         "mode": "lines",
         "type": "scatter",
         "x": [
          29.5,
          30.5
         ],
         "xaxis": "x",
         "y": [
          4.5,
          4.5
         ],
         "yaxis": "y"
        },
        {
         "hoverinfo": "skip",
         "line": {
          "color": "#000000",
          "width": 4
         },
         "mode": "lines",
         "type": "scatter",
         "x": [
          30.5,
          30.5
         ],
         "xaxis": "x",
         "y": [
          4.5,
          -0.5
         ],
         "yaxis": "y"
        },
        {
         "hoverinfo": "skip",
         "line": {
          "color": "#000000",
          "width": 4
         },
         "mode": "lines",
         "type": "scatter",
         "x": [
          34.5,
          34.5
         ],
         "xaxis": "x",
         "y": [
          0.5,
          6.5
         ],
         "yaxis": "y"
        },
        {
         "hoverinfo": "skip",
         "line": {
          "color": "#000000",
          "width": 4
         },
         "mode": "lines",
         "type": "scatter",
         "x": [
          34.5,
          35.5
         ],
         "xaxis": "x",
         "y": [
          0.5,
          0.5
         ],
         "yaxis": "y"
        },
        {
         "hoverinfo": "skip",
         "line": {
          "color": "#000000",
          "width": 4
         },
         "mode": "lines",
         "type": "scatter",
         "x": [
          35.5,
          35.5
         ],
         "xaxis": "x",
         "y": [
          0.5,
          -0.5
         ],
         "yaxis": "y"
        },
        {
         "hoverinfo": "skip",
         "line": {
          "color": "#000000",
          "width": 4
         },
         "mode": "lines",
         "type": "scatter",
         "x": [
          38.5,
          38.5
         ],
         "xaxis": "x",
         "y": [
          2.5,
          6.5
         ],
         "yaxis": "y"
        },
        {
         "hoverinfo": "skip",
         "line": {
          "color": "#000000",
          "width": 4
         },
         "mode": "lines",
         "type": "scatter",
         "x": [
          38.5,
          39.5
         ],
         "xaxis": "x",
         "y": [
          2.5,
          2.5
         ],
         "yaxis": "y"
        },
        {
         "hoverinfo": "skip",
         "line": {
          "color": "#000000",
          "width": 4
         },
         "mode": "lines",
         "type": "scatter",
         "x": [
          39.5,
          39.5
         ],
         "xaxis": "x",
         "y": [
          2.5,
          -0.5
         ],
         "yaxis": "y"
        },
        {
         "hoverinfo": "skip",
         "line": {
          "color": "#000000",
          "width": 4
         },
         "mode": "lines",
         "type": "scatter",
         "x": [
          42.5,
          42.5
         ],
         "xaxis": "x",
         "y": [
          5.5,
          6.5
         ],
         "yaxis": "y"
        },
        {
         "hoverinfo": "skip",
         "line": {
          "color": "#000000",
          "width": 4
         },
         "mode": "lines",
         "type": "scatter",
         "x": [
          42.5,
          43.5
         ],
         "xaxis": "x",
         "y": [
          5.5,
          5.5
         ],
         "yaxis": "y"
        },
        {
         "hoverinfo": "skip",
         "line": {
          "color": "#000000",
          "width": 4
         },
         "mode": "lines",
         "type": "scatter",
         "x": [
          43.5,
          43.5
         ],
         "xaxis": "x",
         "y": [
          5.5,
          -0.5
         ],
         "yaxis": "y"
        },
        {
         "hoverinfo": "skip",
         "line": {
          "color": "#000000",
          "width": 4
         },
         "mode": "lines",
         "type": "scatter",
         "x": [
          47.5,
          47.5
         ],
         "xaxis": "x",
         "y": [
          0.5,
          6.5
         ],
         "yaxis": "y"
        },
        {
         "hoverinfo": "skip",
         "line": {
          "color": "#000000",
          "width": 4
         },
         "mode": "lines",
         "type": "scatter",
         "x": [
          47.5,
          48.5
         ],
         "xaxis": "x",
         "y": [
          0.5,
          0.5
         ],
         "yaxis": "y"
        },
        {
         "hoverinfo": "skip",
         "line": {
          "color": "#000000",
          "width": 4
         },
         "mode": "lines",
         "type": "scatter",
         "x": [
          48.5,
          48.5
         ],
         "xaxis": "x",
         "y": [
          0.5,
          -0.5
         ],
         "yaxis": "y"
        }
       ],
       "layout": {
        "font": {
         "color": "#fff",
         "size": 10
        },
        "height": 225,
        "margin": {
         "b": 20,
         "t": 20
        },
        "paper_bgcolor": "#333",
        "plot_bgcolor": "#333",
        "showlegend": false,
        "template": {
         "data": {
          "bar": [
           {
            "error_x": {
             "color": "#2a3f5f"
            },
            "error_y": {
             "color": "#2a3f5f"
            },
            "marker": {
             "line": {
              "color": "#E5ECF6",
              "width": 0.5
             },
             "pattern": {
              "fillmode": "overlay",
              "size": 10,
              "solidity": 0.2
             }
            },
            "type": "bar"
           }
          ],
          "barpolar": [
           {
            "marker": {
             "line": {
              "color": "#E5ECF6",
              "width": 0.5
             },
             "pattern": {
              "fillmode": "overlay",
              "size": 10,
              "solidity": 0.2
             }
            },
            "type": "barpolar"
           }
          ],
          "carpet": [
           {
            "aaxis": {
             "endlinecolor": "#2a3f5f",
             "gridcolor": "white",
             "linecolor": "white",
             "minorgridcolor": "white",
             "startlinecolor": "#2a3f5f"
            },
            "baxis": {
             "endlinecolor": "#2a3f5f",
             "gridcolor": "white",
             "linecolor": "white",
             "minorgridcolor": "white",
             "startlinecolor": "#2a3f5f"
            },
            "type": "carpet"
           }
          ],
          "choropleth": [
           {
            "colorbar": {
             "outlinewidth": 0,
             "ticks": ""
            },
            "type": "choropleth"
           }
          ],
          "contour": [
           {
            "colorbar": {
             "outlinewidth": 0,
             "ticks": ""
            },
            "colorscale": [
             [
              0,
              "#0d0887"
             ],
             [
              0.1111111111111111,
              "#46039f"
             ],
             [
              0.2222222222222222,
              "#7201a8"
             ],
             [
              0.3333333333333333,
              "#9c179e"
             ],
             [
              0.4444444444444444,
              "#bd3786"
             ],
             [
              0.5555555555555556,
              "#d8576b"
             ],
             [
              0.6666666666666666,
              "#ed7953"
             ],
             [
              0.7777777777777778,
              "#fb9f3a"
             ],
             [
              0.8888888888888888,
              "#fdca26"
             ],
             [
              1,
              "#f0f921"
             ]
            ],
            "type": "contour"
           }
          ],
          "contourcarpet": [
           {
            "colorbar": {
             "outlinewidth": 0,
             "ticks": ""
            },
            "type": "contourcarpet"
           }
          ],
          "heatmap": [
           {
            "colorbar": {
             "outlinewidth": 0,
             "ticks": ""
            },
            "colorscale": [
             [
              0,
              "#0d0887"
             ],
             [
              0.1111111111111111,
              "#46039f"
             ],
             [
              0.2222222222222222,
              "#7201a8"
             ],
             [
              0.3333333333333333,
              "#9c179e"
             ],
             [
              0.4444444444444444,
              "#bd3786"
             ],
             [
              0.5555555555555556,
              "#d8576b"
             ],
             [
              0.6666666666666666,
              "#ed7953"
             ],
             [
              0.7777777777777778,
              "#fb9f3a"
             ],
             [
              0.8888888888888888,
              "#fdca26"
             ],
             [
              1,
              "#f0f921"
             ]
            ],
            "type": "heatmap"
           }
          ],
          "heatmapgl": [
           {
            "colorbar": {
             "outlinewidth": 0,
             "ticks": ""
            },
            "colorscale": [
             [
              0,
              "#0d0887"
             ],
             [
              0.1111111111111111,
              "#46039f"
             ],
             [
              0.2222222222222222,
              "#7201a8"
             ],
             [
              0.3333333333333333,
              "#9c179e"
             ],
             [
              0.4444444444444444,
              "#bd3786"
             ],
             [
              0.5555555555555556,
              "#d8576b"
             ],
             [
              0.6666666666666666,
              "#ed7953"
             ],
             [
              0.7777777777777778,
              "#fb9f3a"
             ],
             [
              0.8888888888888888,
              "#fdca26"
             ],
             [
              1,
              "#f0f921"
             ]
            ],
            "type": "heatmapgl"
           }
          ],
          "histogram": [
           {
            "marker": {
             "pattern": {
              "fillmode": "overlay",
              "size": 10,
              "solidity": 0.2
             }
            },
            "type": "histogram"
           }
          ],
          "histogram2d": [
           {
            "colorbar": {
             "outlinewidth": 0,
             "ticks": ""
            },
            "colorscale": [
             [
              0,
              "#0d0887"
             ],
             [
              0.1111111111111111,
              "#46039f"
             ],
             [
              0.2222222222222222,
              "#7201a8"
             ],
             [
              0.3333333333333333,
              "#9c179e"
             ],
             [
              0.4444444444444444,
              "#bd3786"
             ],
             [
              0.5555555555555556,
              "#d8576b"
             ],
             [
              0.6666666666666666,
              "#ed7953"
             ],
             [
              0.7777777777777778,
              "#fb9f3a"
             ],
             [
              0.8888888888888888,
              "#fdca26"
             ],
             [
              1,
              "#f0f921"
             ]
            ],
            "type": "histogram2d"
           }
          ],
          "histogram2dcontour": [
           {
            "colorbar": {
             "outlinewidth": 0,
             "ticks": ""
            },
            "colorscale": [
             [
              0,
              "#0d0887"
             ],
             [
              0.1111111111111111,
              "#46039f"
             ],
             [
              0.2222222222222222,
              "#7201a8"
             ],
             [
              0.3333333333333333,
              "#9c179e"
             ],
             [
              0.4444444444444444,
              "#bd3786"
             ],
             [
              0.5555555555555556,
              "#d8576b"
             ],
             [
              0.6666666666666666,
              "#ed7953"
             ],
             [
              0.7777777777777778,
              "#fb9f3a"
             ],
             [
              0.8888888888888888,
              "#fdca26"
             ],
             [
              1,
              "#f0f921"
             ]
            ],
            "type": "histogram2dcontour"
           }
          ],
          "mesh3d": [
           {
            "colorbar": {
             "outlinewidth": 0,
             "ticks": ""
            },
            "type": "mesh3d"
           }
          ],
          "parcoords": [
           {
            "line": {
             "colorbar": {
              "outlinewidth": 0,
              "ticks": ""
             }
            },
            "type": "parcoords"
           }
          ],
          "pie": [
           {
            "automargin": true,
            "type": "pie"
           }
          ],
          "scatter": [
           {
            "fillpattern": {
             "fillmode": "overlay",
             "size": 10,
             "solidity": 0.2
            },
            "type": "scatter"
           }
          ],
          "scatter3d": [
           {
            "line": {
             "colorbar": {
              "outlinewidth": 0,
              "ticks": ""
             }
            },
            "marker": {
             "colorbar": {
              "outlinewidth": 0,
              "ticks": ""
             }
            },
            "type": "scatter3d"
           }
          ],
          "scattercarpet": [
           {
            "marker": {
             "colorbar": {
              "outlinewidth": 0,
              "ticks": ""
             }
            },
            "type": "scattercarpet"
           }
          ],
          "scattergeo": [
           {
            "marker": {
             "colorbar": {
              "outlinewidth": 0,
              "ticks": ""
             }
            },
            "type": "scattergeo"
           }
          ],
          "scattergl": [
           {
            "marker": {
             "colorbar": {
              "outlinewidth": 0,
              "ticks": ""
             }
            },
            "type": "scattergl"
           }
          ],
          "scattermapbox": [
           {
            "marker": {
             "colorbar": {
              "outlinewidth": 0,
              "ticks": ""
             }
            },
            "type": "scattermapbox"
           }
          ],
          "scatterpolar": [
           {
            "marker": {
             "colorbar": {
              "outlinewidth": 0,
              "ticks": ""
             }
            },
            "type": "scatterpolar"
           }
          ],
          "scatterpolargl": [
           {
            "marker": {
             "colorbar": {
              "outlinewidth": 0,
              "ticks": ""
             }
            },
            "type": "scatterpolargl"
           }
          ],
          "scatterternary": [
           {
            "marker": {
             "colorbar": {
              "outlinewidth": 0,
              "ticks": ""
             }
            },
            "type": "scatterternary"
           }
          ],
          "surface": [
           {
            "colorbar": {
             "outlinewidth": 0,
             "ticks": ""
            },
            "colorscale": [
             [
              0,
              "#0d0887"
             ],
             [
              0.1111111111111111,
              "#46039f"
             ],
             [
              0.2222222222222222,
              "#7201a8"
             ],
             [
              0.3333333333333333,
              "#9c179e"
             ],
             [
              0.4444444444444444,
              "#bd3786"
             ],
             [
              0.5555555555555556,
              "#d8576b"
             ],
             [
              0.6666666666666666,
              "#ed7953"
             ],
             [
              0.7777777777777778,
              "#fb9f3a"
             ],
             [
              0.8888888888888888,
              "#fdca26"
             ],
             [
              1,
              "#f0f921"
             ]
            ],
            "type": "surface"
           }
          ],
          "table": [
           {
            "cells": {
             "fill": {
              "color": "#EBF0F8"
             },
             "line": {
              "color": "white"
             }
            },
            "header": {
             "fill": {
              "color": "#C8D4E3"
             },
             "line": {
              "color": "white"
             }
            },
            "type": "table"
           }
          ]
         },
         "layout": {
          "annotationdefaults": {
           "arrowcolor": "#2a3f5f",
           "arrowhead": 0,
           "arrowwidth": 1
          },
          "autotypenumbers": "strict",
          "coloraxis": {
           "colorbar": {
            "outlinewidth": 0,
            "ticks": ""
           }
          },
          "colorscale": {
           "diverging": [
            [
             0,
             "#8e0152"
            ],
            [
             0.1,
             "#c51b7d"
            ],
            [
             0.2,
             "#de77ae"
            ],
            [
             0.3,
             "#f1b6da"
            ],
            [
             0.4,
             "#fde0ef"
            ],
            [
             0.5,
             "#f7f7f7"
            ],
            [
             0.6,
             "#e6f5d0"
            ],
            [
             0.7,
             "#b8e186"
            ],
            [
             0.8,
             "#7fbc41"
            ],
            [
             0.9,
             "#4d9221"
            ],
            [
             1,
             "#276419"
            ]
           ],
           "sequential": [
            [
             0,
             "#0d0887"
            ],
            [
             0.1111111111111111,
             "#46039f"
            ],
            [
             0.2222222222222222,
             "#7201a8"
            ],
            [
             0.3333333333333333,
             "#9c179e"
            ],
            [
             0.4444444444444444,
             "#bd3786"
            ],
            [
             0.5555555555555556,
             "#d8576b"
            ],
            [
             0.6666666666666666,
             "#ed7953"
            ],
            [
             0.7777777777777778,
             "#fb9f3a"
            ],
            [
             0.8888888888888888,
             "#fdca26"
            ],
            [
             1,
             "#f0f921"
            ]
           ],
           "sequentialminus": [
            [
             0,
             "#0d0887"
            ],
            [
             0.1111111111111111,
             "#46039f"
            ],
            [
             0.2222222222222222,
             "#7201a8"
            ],
            [
             0.3333333333333333,
             "#9c179e"
            ],
            [
             0.4444444444444444,
             "#bd3786"
            ],
            [
             0.5555555555555556,
             "#d8576b"
            ],
            [
             0.6666666666666666,
             "#ed7953"
            ],
            [
             0.7777777777777778,
             "#fb9f3a"
            ],
            [
             0.8888888888888888,
             "#fdca26"
            ],
            [
             1,
             "#f0f921"
            ]
           ]
          },
          "colorway": [
           "#636efa",
           "#EF553B",
           "#00cc96",
           "#ab63fa",
           "#FFA15A",
           "#19d3f3",
           "#FF6692",
           "#B6E880",
           "#FF97FF",
           "#FECB52"
          ],
          "font": {
           "color": "#2a3f5f"
          },
          "geo": {
           "bgcolor": "white",
           "lakecolor": "white",
           "landcolor": "#E5ECF6",
           "showlakes": true,
           "showland": true,
           "subunitcolor": "white"
          },
          "hoverlabel": {
           "align": "left"
          },
          "hovermode": "closest",
          "mapbox": {
           "style": "light"
          },
          "paper_bgcolor": "white",
          "plot_bgcolor": "#E5ECF6",
          "polar": {
           "angularaxis": {
            "gridcolor": "white",
            "linecolor": "white",
            "ticks": ""
           },
           "bgcolor": "#E5ECF6",
           "radialaxis": {
            "gridcolor": "white",
            "linecolor": "white",
            "ticks": ""
           }
          },
          "scene": {
           "xaxis": {
            "backgroundcolor": "#E5ECF6",
            "gridcolor": "white",
            "gridwidth": 2,
            "linecolor": "white",
            "showbackground": true,
            "ticks": "",
            "zerolinecolor": "white"
           },
           "yaxis": {
            "backgroundcolor": "#E5ECF6",
            "gridcolor": "white",
            "gridwidth": 2,
            "linecolor": "white",
            "showbackground": true,
            "ticks": "",
            "zerolinecolor": "white"
           },
           "zaxis": {
            "backgroundcolor": "#E5ECF6",
            "gridcolor": "white",
            "gridwidth": 2,
            "linecolor": "white",
            "showbackground": true,
            "ticks": "",
            "zerolinecolor": "white"
           }
          },
          "shapedefaults": {
           "line": {
            "color": "#2a3f5f"
           }
          },
          "ternary": {
           "aaxis": {
            "gridcolor": "white",
            "linecolor": "white",
            "ticks": ""
           },
           "baxis": {
            "gridcolor": "white",
            "linecolor": "white",
            "ticks": ""
           },
           "bgcolor": "#E5ECF6",
           "caxis": {
            "gridcolor": "white",
            "linecolor": "white",
            "ticks": ""
           }
          },
          "title": {
           "x": 0.05
          },
          "xaxis": {
           "automargin": true,
           "gridcolor": "white",
           "linecolor": "white",
           "ticks": "",
           "title": {
            "standoff": 15
           },
           "zerolinecolor": "white",
           "zerolinewidth": 2
          },
          "yaxis": {
           "automargin": true,
           "gridcolor": "white",
           "linecolor": "white",
           "ticks": "",
           "title": {
            "standoff": 15
           },
           "zerolinecolor": "white",
           "zerolinewidth": 2
          }
         }
        },
        "title": {
         "text": "Ride Mileage 2020"
        },
        "xaxis": {
         "anchor": "y",
         "domain": [
          0,
          1
         ],
         "showgrid": false,
         "showline": false,
         "tickmode": "array",
         "ticktext": [
          "January",
          "February",
          "March",
          "April",
          "May",
          "June",
          "July",
          "August",
          "September",
          "October",
          "November",
          "December"
         ],
         "tickvals": [
          1.5,
          5.909090909090909,
          10.318181818181818,
          14.727272727272727,
          19.136363636363637,
          23.545454545454547,
          27.954545454545453,
          32.36363636363636,
          36.77272727272727,
          41.18181818181818,
          45.59090909090909,
          50
         ],
         "zeroline": false
        },
        "yaxis": {
         "anchor": "x",
         "autorange": "reversed",
         "domain": [
          0,
          1
         ],
         "showgrid": false,
         "showline": false,
         "tickmode": "array",
         "ticktext": [
          "Mon",
          "Tue",
          "Wed",
          "Thu",
          "Fri",
          "Sat",
          "Sun"
         ],
         "tickvals": [
          0,
          1,
          2,
          3,
          4,
          5,
          6
         ],
         "zeroline": false
        }
       }
      }
     },
     "metadata": {},
     "output_type": "display_data"
    }
   ],
   "source": [
    "fig = calplot(df_activity_2020, x='ride_date', y='total_distance_mi', colorscale=colorscale, \n",
    "              dark_theme=True, gap=1, month_lines_width=4, month_lines_color='#000000',\n",
    "            showscale=True, total_height=225, title='Ride Mileage 2020', cmap_max=70)\n",
    "fig.show()"
   ]
  },
  {
   "cell_type": "code",
   "execution_count": null,
   "id": "c1029cd2",
   "metadata": {},
   "outputs": [],
   "source": []
  },
  {
   "cell_type": "code",
   "execution_count": null,
   "id": "87732e99",
   "metadata": {},
   "outputs": [],
   "source": []
  }
 ],
 "metadata": {
  "kernelspec": {
   "display_name": "venv",
   "language": "python",
   "name": "python3"
  },
  "language_info": {
   "codemirror_mode": {
    "name": "ipython",
    "version": 3
   },
   "file_extension": ".py",
   "mimetype": "text/x-python",
   "name": "python",
   "nbconvert_exporter": "python",
   "pygments_lexer": "ipython3",
   "version": "3.12.3"
  }
 },
 "nbformat": 4,
 "nbformat_minor": 5
}
