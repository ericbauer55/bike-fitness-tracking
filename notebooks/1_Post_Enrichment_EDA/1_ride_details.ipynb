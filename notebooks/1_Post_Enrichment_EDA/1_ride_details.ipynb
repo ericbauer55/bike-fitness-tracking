{
 "cells": [
  {
   "cell_type": "code",
   "execution_count": null,
   "id": "c2c1487a",
   "metadata": {},
   "outputs": [],
   "source": [
    "import pandas as pd\n",
    "pd.set_option(\"display.max_columns\", 100)\n",
    "from pathlib import Path\n",
    "import numpy as np\n",
    "import matplotlib.pyplot as plt\n",
    "import seaborn as sns\n",
    "CSV_DATA = Path().cwd().parent.parent / \"data/1_transformed/\""
   ]
  },
  {
   "cell_type": "code",
   "execution_count": null,
   "id": "37b1bc58",
   "metadata": {},
   "outputs": [],
   "source": [
    "def plot_state_column(df:pd.DataFrame, column:str, color_by:str='segment_id',figsize=(15,3),\n",
    "                       ylims:list[float]=None, units:str='none', show_mean:bool=True) -> None:\n",
    "    _ = plt.figure(figsize=figsize)\n",
    "    _ = plt.hlines(y=df[column].mean(), xmin=1, xmax=df['elapsed_time'].max(), colors='red', linestyles='dashed')\n",
    "    _ = sns.lineplot(df, x='elapsed_time', y=column, hue=color_by, palette='hls', legend=False)\n",
    "    _ = plt.grid()\n",
    "    _ = plt.title(f'{column.upper()} Segments', fontsize=18)\n",
    "    _ = plt.xlabel('Elapsed Time (seconds)', fontsize=14)\n",
    "    _ = plt.ylabel(f'{column.upper()} ({units})', fontsize=14)\n",
    "    \n",
    "    if ylims is not None:\n",
    "        _ = plt.ylim(ylims)"
   ]
  },
  {
   "cell_type": "markdown",
   "id": "689cbd55",
   "metadata": {},
   "source": [
    "# 1. Load Ride Data"
   ]
  },
  {
   "cell_type": "code",
   "execution_count": null,
   "id": "23784ea9",
   "metadata": {},
   "outputs": [],
   "source": [
    "df = pd.read_csv(CSV_DATA / \"0x66780269.csv\")"
   ]
  },
  {
   "cell_type": "code",
   "execution_count": null,
   "id": "0e3d9134",
   "metadata": {},
   "outputs": [],
   "source": [
    "# How many miles was this ride?\n",
    "df['delta_dist_ft'].sum() / 5280"
   ]
  },
  {
   "cell_type": "code",
   "execution_count": null,
   "id": "177f2a9a",
   "metadata": {},
   "outputs": [],
   "source": [
    "df.columns"
   ]
  },
  {
   "cell_type": "code",
   "execution_count": null,
   "id": "4b360694",
   "metadata": {},
   "outputs": [],
   "source": [
    "cols_of_interest = ['time','segment_id','elapsed_time','delta_time','delta_dist_ft','speed','grade_saturated','filt_speed','filt_grade_saturated','inst_power',]\n",
    "df = df.loc[:,cols_of_interest].copy()\n",
    "df.head()"
   ]
  },
  {
   "cell_type": "code",
   "execution_count": null,
   "id": "9b7a48a0",
   "metadata": {},
   "outputs": [],
   "source": [
    "plot_state_column(df, 'filt_speed')"
   ]
  },
  {
   "cell_type": "code",
   "execution_count": null,
   "id": "638e4fb5",
   "metadata": {},
   "outputs": [],
   "source": [
    "plot_state_column(df, 'filt_grade_saturated')"
   ]
  },
  {
   "cell_type": "code",
   "execution_count": null,
   "id": "ec9cb757",
   "metadata": {},
   "outputs": [],
   "source": [
    "plot_state_column(df, 'inst_power')"
   ]
  },
  {
   "cell_type": "code",
   "execution_count": null,
   "id": "75cd1ef5",
   "metadata": {},
   "outputs": [],
   "source": [
    "def calculate_power_curve(df: pd.DataFrame):\n",
    "    # Create a set of rolling windows to calculate a MAX over avg(inst_powers[within_window])\n",
    "    rolling_windows = [4, 5, 10, 20, 30, 60, # seconds\n",
    "                        2*60, 3*60, 4*60, 5*60, 6*60, 10*60, 20*60, 30*60, 40*60, # minutes\n",
    "                        60*60, 2*60*60, 3*60*60, 4*60*60] # hours\n",
    "    rwindow_labels = ['4s', '5s', '10s', '20s', '30s', '1m', # seconds\n",
    "                        '2m', '3m', '4m', '5m', '6m', '10m', '20m', '30m', '40m', # minutes\n",
    "                        '1h', '2h', '3h', '4h'] # hours\n",
    "    label_map = {seconds:label for seconds,label in zip(rolling_windows,rwindow_labels)}\n",
    "\n",
    "    # Initialize a list to store the peak powers per window\n",
    "    window_peak_powers = []\n",
    "\n",
    "    for rwindow in rolling_windows:\n",
    "        # We should not calculate the peak power for a window that is longer than this value since it is ill defined\n",
    "        rolling_avg_inst_power = df[['inst_power']].rolling(rwindow, min_periods=rwindow).mean().dropna()\n",
    "        if rolling_avg_inst_power.shape[0]==0: # all values were np.nan, hence the window is too large for the ride data\n",
    "            peak_power = np.nan\n",
    "        else:\n",
    "            peak_power = max(rolling_avg_inst_power.values)[0]\n",
    "        window_peak_powers.append({'time_window':label_map[rwindow], 'window_length_seconds':rwindow, 'peak_avg_power':peak_power})\n",
    "    \n",
    "    return pd.DataFrame(window_peak_powers)"
   ]
  },
  {
   "cell_type": "code",
   "execution_count": null,
   "id": "74f44dbf",
   "metadata": {},
   "outputs": [],
   "source": [
    "df_pwr = calculate_power_curve(df=df)\n",
    "df_pwr"
   ]
  },
  {
   "cell_type": "code",
   "execution_count": null,
   "id": "11c349ae",
   "metadata": {},
   "outputs": [],
   "source": [
    "for _, row in df_pwr[['time_window','peak_avg_power']].iterrows():\n",
    "    print(row['time_window'], row['peak_avg_power'])"
   ]
  },
  {
   "cell_type": "code",
   "execution_count": null,
   "id": "6f365d91",
   "metadata": {},
   "outputs": [],
   "source": []
  },
  {
   "cell_type": "code",
   "execution_count": null,
   "id": "215f5e6c",
   "metadata": {},
   "outputs": [],
   "source": [
    "def plot_ride_power_curve(df:pd.DataFrame, figsize:tuple=(12,4), logscale_base:int=10,\n",
    "                          title:str='Best Ride Efforts Power Curve'):\n",
    "    df_pwr = calculate_power_curve(df=df)\n",
    "    x_col = 'window_length_seconds'\n",
    "\n",
    "    fig, ax = plt.subplots(1,1, figsize=figsize)\n",
    "    _ = sns.lineplot(df_pwr, x=x_col, y='peak_avg_power', ax=ax)\n",
    "    _ = sns.scatterplot(df_pwr, x=x_col, y='peak_avg_power', ax=ax)\n",
    "    \n",
    "    def forward(x):\n",
    "        return np.log10(x) / np.log10(logscale_base)\n",
    "\n",
    "    def inverse(x):\n",
    "        return logscale_base**x\n",
    "    \n",
    "    if logscale_base==10:\n",
    "        _ = ax.set_xscale('log')\n",
    "    else:\n",
    "        _ = ax.set_xscale('function', functions=(forward,inverse))\n",
    "    _ = plt.xticks(ticks=df_pwr['window_length_seconds'].values, labels=df_pwr['time_window'].values, rotation=45)\n",
    "    _ = plt.grid()\n",
    "    _ = ax.set_axisbelow(True)\n",
    "    _ = plt.xlabel('Effort Time Duration', fontsize=14)\n",
    "    _ = plt.ylabel('Maximum Effort Power (W)', fontsize=14)\n",
    "    _ = plt.title(title, fontsize=18)"
   ]
  },
  {
   "cell_type": "code",
   "execution_count": null,
   "id": "7344e58f",
   "metadata": {},
   "outputs": [],
   "source": [
    "plot_ride_power_curve(df)"
   ]
  },
  {
   "cell_type": "markdown",
   "id": "5b9ecde9",
   "metadata": {},
   "source": [
    "# 2. Analyzing a Ride with Heart Rate"
   ]
  },
  {
   "cell_type": "code",
   "execution_count": null,
   "id": "342da5a1",
   "metadata": {},
   "outputs": [],
   "source": [
    "df2 = pd.read_csv(CSV_DATA / \"0x680b85ff.csv\") \n",
    "print(f'the ride is {df2[\"delta_dist_ft\"].sum() * 1/5280.0} miles')"
   ]
  },
  {
   "cell_type": "code",
   "execution_count": null,
   "id": "96a4011d",
   "metadata": {},
   "outputs": [],
   "source": [
    "cols_of_interest = ['time','segment_id','elapsed_time','delta_time','delta_dist_ft','speed','grade_saturated','filt_speed','filt_grade_saturated','inst_power',\n",
    "                    'heart_rate_bpm']\n",
    "df2 = df2.loc[:,cols_of_interest].copy()\n",
    "df2.head()"
   ]
  },
  {
   "cell_type": "code",
   "execution_count": null,
   "id": "65e789ba",
   "metadata": {},
   "outputs": [],
   "source": [
    "plot_ride_power_curve(df2)"
   ]
  },
  {
   "cell_type": "code",
   "execution_count": null,
   "id": "2174c28c",
   "metadata": {},
   "outputs": [],
   "source": [
    "plot_state_column(df2, 'filt_speed')"
   ]
  },
  {
   "cell_type": "code",
   "execution_count": null,
   "id": "7a62a91a",
   "metadata": {},
   "outputs": [],
   "source": [
    "plot_state_column(df2, 'heart_rate_bpm')"
   ]
  },
  {
   "cell_type": "code",
   "execution_count": null,
   "id": "fb905bb3",
   "metadata": {},
   "outputs": [],
   "source": [
    "longest_ride = '0x66fbe94a.csv'\n",
    "hardest_otet_ride = '0x670e5fca.csv'"
   ]
  },
  {
   "cell_type": "code",
   "execution_count": null,
   "id": "242ff286",
   "metadata": {},
   "outputs": [],
   "source": [
    "df3 = pd.read_csv(CSV_DATA / longest_ride) \n",
    "print(f'the \"longest_ride\" is {df3[\"delta_dist_ft\"].sum() * 1/5280.0} miles')\n",
    "df4 = pd.read_csv(CSV_DATA / hardest_otet_ride) \n",
    "print(f'the \"hardest_otet_ride\" is {df4[\"delta_dist_ft\"].sum() * 1/5280.0} miles')"
   ]
  },
  {
   "cell_type": "code",
   "execution_count": null,
   "id": "98497d76",
   "metadata": {},
   "outputs": [],
   "source": [
    "cols_of_interest = ['time','segment_id','elapsed_time','delta_time','delta_dist_ft','speed','grade_saturated','filt_speed','filt_grade_saturated','inst_power',\n",
    "                    'heart_rate_bpm']\n",
    "df3 = df3.loc[:,cols_of_interest].copy()\n",
    "df4 = df4.loc[:,cols_of_interest].copy()"
   ]
  },
  {
   "cell_type": "code",
   "execution_count": null,
   "id": "143fdeb9",
   "metadata": {},
   "outputs": [],
   "source": [
    "plot_ride_power_curve(df3)"
   ]
  },
  {
   "cell_type": "code",
   "execution_count": null,
   "id": "e6e33a94",
   "metadata": {},
   "outputs": [],
   "source": [
    "plot_ride_power_curve(df4)"
   ]
  },
  {
   "cell_type": "code",
   "execution_count": null,
   "id": "bae1bb63",
   "metadata": {},
   "outputs": [],
   "source": [
    "plot_state_column(df3, 'heart_rate_bpm')"
   ]
  },
  {
   "cell_type": "code",
   "execution_count": null,
   "id": "4cf9c095",
   "metadata": {},
   "outputs": [],
   "source": [
    "plot_state_column(df4, 'heart_rate_bpm')"
   ]
  },
  {
   "cell_type": "markdown",
   "id": "09d645a0",
   "metadata": {},
   "source": [
    "# Inspecting Rides with Erroneous Power Curves (too high)"
   ]
  },
  {
   "cell_type": "code",
   "execution_count": null,
   "id": "b0983d03",
   "metadata": {},
   "outputs": [],
   "source": [
    "sample1 = '0x6647e479.csv' # May 17, 2024\n",
    "sample2 = '0x647fc3f0.csv' # June 6, 2023"
   ]
  },
  {
   "cell_type": "code",
   "execution_count": null,
   "id": "62114607",
   "metadata": {},
   "outputs": [],
   "source": [
    "df5 = pd.read_csv(CSV_DATA / sample1) \n",
    "df6 = pd.read_csv(CSV_DATA / sample2) "
   ]
  },
  {
   "cell_type": "code",
   "execution_count": null,
   "id": "7d2f515f",
   "metadata": {},
   "outputs": [],
   "source": [
    "plot_state_column(df5, 'speed')"
   ]
  },
  {
   "cell_type": "code",
   "execution_count": null,
   "id": "f177f79b",
   "metadata": {},
   "outputs": [],
   "source": [
    "plot_state_column(df5, 'filt_speed')"
   ]
  },
  {
   "cell_type": "code",
   "execution_count": null,
   "id": "8e153505",
   "metadata": {},
   "outputs": [],
   "source": [
    "plot_state_column(df5, 'inst_power')"
   ]
  },
  {
   "cell_type": "code",
   "execution_count": null,
   "id": "a2679830",
   "metadata": {},
   "outputs": [],
   "source": [
    "###############################################"
   ]
  },
  {
   "cell_type": "code",
   "execution_count": null,
   "id": "22344dc4",
   "metadata": {},
   "outputs": [],
   "source": [
    "plot_state_column(df6, 'speed')"
   ]
  },
  {
   "cell_type": "code",
   "execution_count": null,
   "id": "7a0e6e94",
   "metadata": {},
   "outputs": [],
   "source": [
    "plot_state_column(df6, 'filt_speed')"
   ]
  },
  {
   "cell_type": "code",
   "execution_count": null,
   "id": "3d0363f0",
   "metadata": {},
   "outputs": [],
   "source": [
    "plot_state_column(df6, 'inst_power')"
   ]
  },
  {
   "cell_type": "code",
   "execution_count": null,
   "id": "b418ad84",
   "metadata": {},
   "outputs": [],
   "source": []
  }
 ],
 "metadata": {
  "kernelspec": {
   "display_name": "venv",
   "language": "python",
   "name": "python3"
  },
  "language_info": {
   "codemirror_mode": {
    "name": "ipython",
    "version": 3
   },
   "file_extension": ".py",
   "mimetype": "text/x-python",
   "name": "python",
   "nbconvert_exporter": "python",
   "pygments_lexer": "ipython3",
   "version": "3.12.3"
  }
 },
 "nbformat": 4,
 "nbformat_minor": 5
}
