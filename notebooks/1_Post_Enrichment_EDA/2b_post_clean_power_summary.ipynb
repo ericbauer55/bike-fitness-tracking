{
 "cells": [
  {
   "cell_type": "code",
   "execution_count": null,
   "id": "1874fe24",
   "metadata": {},
   "outputs": [],
   "source": [
    "import pandas as pd\n",
    "pd.set_option(\"display.max_columns\", 100)\n",
    "from pathlib import Path\n",
    "import numpy as np\n",
    "import matplotlib.pyplot as plt\n",
    "import seaborn as sns\n",
    "\n",
    "CSV_DATA = Path().cwd().parent.parent / \"data/2_loaded\""
   ]
  },
  {
   "cell_type": "code",
   "execution_count": null,
   "id": "b1087a3b",
   "metadata": {},
   "outputs": [],
   "source": [
    "df = pd.read_csv(CSV_DATA/'summary/ride_summary_good.csv')\n",
    "df['start_date'] = pd.to_datetime(df['start_date'])\n",
    "df['year'] = df['start_date'].dt.year\n",
    "df['start_time'] = pd.to_timedelta(df['start_time'])\n",
    "df['end_time'] = pd.to_timedelta(df['end_time'])"
   ]
  },
  {
   "cell_type": "code",
   "execution_count": null,
   "id": "0ee8e029",
   "metadata": {},
   "outputs": [],
   "source": [
    "power_cols = ['best_power_4s', 'best_power_5s','best_power_10s', 'best_power_20s', 'best_power_30s', 'best_power_1m',\n",
    "                    'best_power_2m', 'best_power_3m', 'best_power_4m', 'best_power_5m',\n",
    "                    'best_power_6m', 'best_power_10m', 'best_power_20m', 'best_power_30m',\n",
    "                    'best_power_40m', 'best_power_1h']"
   ]
  },
  {
   "cell_type": "code",
   "execution_count": null,
   "id": "7a39760a",
   "metadata": {},
   "outputs": [],
   "source": [
    "import re\n",
    "def plot_summary_power_curves(df_summary:pd.DataFrame, ride_id_subset:list[str]=None, figsize:tuple=(12,4), color_by_year:bool=True,\n",
    "                              logscale_base:int=10, title:str='Best Ride Efforts Power Curve', show_best_cyclist_curve:bool=True):\n",
    "    # Subset the df_summary columns and filter for the relevant ride_ids\n",
    "    cols_of_interest = ['ride_id', 'start_date','year', 'total_distance_mi','total_ascent_ft','avg_power']\n",
    "    power_cols = ['best_power_4s', 'best_power_5s','best_power_10s', 'best_power_20s', 'best_power_30s', 'best_power_1m',\n",
    "                    'best_power_2m', 'best_power_3m', 'best_power_4m', 'best_power_5m',\n",
    "                    'best_power_6m', 'best_power_10m', 'best_power_20m', 'best_power_30m',\n",
    "                    'best_power_40m', 'best_power_1h']\n",
    "    cols_of_interest += power_cols\n",
    "    if ride_id_subset is None: ride_id_subset = df['ride_id'].values # if not specified, all rides will be plotted\n",
    "    df_rides = df_summary.copy().loc[df_summary['ride_id'].isin(ride_id_subset), cols_of_interest]\n",
    "    n_rides = df_rides.shape[0]\n",
    "\n",
    "    # Create a mapping from power column names back to axis labels and values\n",
    "    pattern = r'best_power_([\\d]+)([smh])'\n",
    "    seconds_map = {'s':1, 'm':60, 'h':60*60}\n",
    "    power_col_map = dict()\n",
    "    for col in power_cols:\n",
    "        matched = re.match(pattern, col)\n",
    "        if matched is not None:\n",
    "            value, unit = matched.groups()\n",
    "            power_col_map[col] = {'label':value+unit,'duration':int(value)*seconds_map[unit]}\n",
    "\n",
    "    ########################################################################\n",
    "    # Create the Figure\n",
    "    fig, ax = plt.subplots(1,1, figsize=figsize)\n",
    "\n",
    "    # For each ride, plot its power curve\n",
    "    for _, row in df_rides.iterrows():\n",
    "        ride_id = row['ride_id']\n",
    "        data = [{'duration':power_col_map[col]['duration'], 'best_power':row[col]} for col in power_cols]\n",
    "        df_pwr = pd.DataFrame(data)\n",
    "        df_pwr['year']=row['year']\n",
    "        plot_kwargs = dict(data=df_pwr, x='duration', y='best_power', ax=ax, alpha=0.5,legend=False)\n",
    "        if color_by_year:\n",
    "            plot_kwargs['hue']='year'\n",
    "            plot_kwargs['legend']=True\n",
    "        _ = sns.lineplot(**plot_kwargs)\n",
    "        _ = sns.scatterplot(**plot_kwargs)\n",
    "\n",
    "    if show_best_cyclist_curve:\n",
    "        # top 1% of cyclists, ref: https://www.cyclinganalytics.com/blog/2018/06/how-does-your-cycling-power-output-compare\n",
    "        top_cyclist_powers = {'best_power_4s':1650, 'best_power_5s':1500,'best_power_10s':1375, 'best_power_20s':1200, 'best_power_30s':1000, 'best_power_1m':775,\n",
    "                            'best_power_2m':600, 'best_power_3m':560, 'best_power_4m':535, 'best_power_5m':510,\n",
    "                            'best_power_6m':500, 'best_power_10m':490, 'best_power_20m':460, 'best_power_30m':420,\n",
    "                            'best_power_40m':375, 'best_power_1h':360}\n",
    "        data = [{'duration':power_col_map[col]['duration'], 'best_power':top_cyclist_powers[col]} for col in top_cyclist_powers.keys()]\n",
    "        df_pwr_top = pd.DataFrame(data)\n",
    "        _ = ax.plot(df_pwr_top['duration'],df_pwr_top['best_power'], alpha=0.8, c='red', linestyle='--')\n",
    "        _ = ax.scatter(df_pwr_top['duration'],df_pwr_top['best_power'],label='Top 99% Cyclist', alpha=0.8, marker='d', c='red', linewidths=2)\n",
    "        _ = plt.legend(loc='best')\n",
    "    \n",
    "\n",
    "    ########################################################################\n",
    "    # Set the axes up for plotting\n",
    "    def forward(x):\n",
    "        return np.log10(x) / np.log10(logscale_base)\n",
    "\n",
    "    def inverse(x):\n",
    "        return logscale_base**x\n",
    "    \n",
    "    if logscale_base==10:\n",
    "        _ = ax.set_xscale('log')\n",
    "    else:\n",
    "        _ = ax.set_xscale('function', functions=(forward,inverse))\n",
    "    _ = plt.xticks(ticks=[col['duration'] for col in power_col_map.values()], \n",
    "                   labels=[col['label'] for col in power_col_map.values()], rotation=45)\n",
    "    _ = plt.grid()\n",
    "    _ = ax.set_axisbelow(True)\n",
    "    _ = plt.xlabel('Effort Time Duration', fontsize=14)\n",
    "    _ = plt.ylabel('Maximum Effort Power (W)', fontsize=14)\n",
    "    _ = plt.title(title, fontsize=18)"
   ]
  },
  {
   "cell_type": "code",
   "execution_count": null,
   "id": "9ed50282",
   "metadata": {},
   "outputs": [],
   "source": [
    "plot_summary_power_curves(df_summary=df)"
   ]
  },
  {
   "cell_type": "code",
   "execution_count": null,
   "id": "e0c6f195",
   "metadata": {},
   "outputs": [],
   "source": []
  },
  {
   "cell_type": "code",
   "execution_count": null,
   "id": "8ab0b027",
   "metadata": {},
   "outputs": [],
   "source": []
  },
  {
   "cell_type": "code",
   "execution_count": null,
   "id": "f4a7cda1",
   "metadata": {},
   "outputs": [],
   "source": []
  },
  {
   "cell_type": "code",
   "execution_count": null,
   "id": "38d345f9",
   "metadata": {},
   "outputs": [],
   "source": []
  },
  {
   "cell_type": "code",
   "execution_count": null,
   "id": "ea8bbf5f",
   "metadata": {},
   "outputs": [],
   "source": []
  },
  {
   "cell_type": "code",
   "execution_count": null,
   "id": "745c3a6c",
   "metadata": {},
   "outputs": [],
   "source": []
  },
  {
   "cell_type": "code",
   "execution_count": null,
   "id": "e0453430",
   "metadata": {},
   "outputs": [],
   "source": []
  },
  {
   "cell_type": "code",
   "execution_count": null,
   "id": "1cb4d93f",
   "metadata": {},
   "outputs": [],
   "source": []
  },
  {
   "cell_type": "code",
   "execution_count": null,
   "id": "dacaf8ec",
   "metadata": {},
   "outputs": [],
   "source": []
  },
  {
   "cell_type": "code",
   "execution_count": null,
   "id": "147b4382",
   "metadata": {},
   "outputs": [],
   "source": []
  },
  {
   "cell_type": "code",
   "execution_count": null,
   "id": "c06c9ddf",
   "metadata": {},
   "outputs": [],
   "source": []
  },
  {
   "cell_type": "code",
   "execution_count": null,
   "id": "444a5bfc",
   "metadata": {},
   "outputs": [],
   "source": []
  },
  {
   "cell_type": "code",
   "execution_count": null,
   "id": "0615d7f5",
   "metadata": {},
   "outputs": [],
   "source": []
  },
  {
   "cell_type": "code",
   "execution_count": null,
   "id": "944b73bd",
   "metadata": {},
   "outputs": [],
   "source": []
  }
 ],
 "metadata": {
  "kernelspec": {
   "display_name": "venv",
   "language": "python",
   "name": "python3"
  },
  "language_info": {
   "codemirror_mode": {
    "name": "ipython",
    "version": 3
   },
   "file_extension": ".py",
   "mimetype": "text/x-python",
   "name": "python",
   "nbconvert_exporter": "python",
   "pygments_lexer": "ipython3",
   "version": "3.12.3"
  }
 },
 "nbformat": 4,
 "nbformat_minor": 5
}
