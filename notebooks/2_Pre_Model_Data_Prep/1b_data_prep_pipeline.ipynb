{
 "cells": [
  {
   "cell_type": "code",
   "execution_count": 15,
   "id": "c4269f4f",
   "metadata": {},
   "outputs": [],
   "source": [
    "import pandas as pd\n",
    "pd.set_option(\"display.max_columns\", 100)\n",
    "from pathlib import Path\n",
    "import numpy as np\n",
    "import matplotlib.pyplot as plt\n",
    "import seaborn as sns\n",
    "from typing import Optional, Any, Union"
   ]
  },
  {
   "cell_type": "code",
   "execution_count": 16,
   "metadata": {},
   "outputs": [],
   "source": [
    "IN_CSV_DATA = Path().cwd().parent.parent / \"data/4_data_split\"\n",
    "OUT_CSV_DATA = Path().cwd().parent.parent / \"data/4_data_split\""
   ]
  },
  {
   "cell_type": "markdown",
   "id": "aace4c96",
   "metadata": {},
   "source": [
    "# 1. Loading Test/Train Data"
   ]
  },
  {
   "cell_type": "code",
   "execution_count": 17,
   "metadata": {},
   "outputs": [],
   "source": [
    "df_train = pd.read_csv(IN_CSV_DATA/'ride_summary_train.csv')\n",
    "df_test = pd.read_csv(IN_CSV_DATA/'ride_summary_test.csv')\n",
    "df_train['start_time'] = pd.to_datetime(df_train['start_time'])\n",
    "df_test['start_time'] = pd.to_datetime(df_test['start_time'])\n",
    "# Sort the summary by ascending order of ride start time\n",
    "df_train = df_train.set_index('start_time').sort_index(ascending=True).reset_index()\n",
    "df_test = df_train.set_index('start_time').sort_index(ascending=True).reset_index()"
   ]
  },
  {
   "cell_type": "code",
   "execution_count": 18,
   "metadata": {},
   "outputs": [],
   "source": [
    "ride_cols = ['ride_id','start_time']\n",
    "numerical_feature_cols = ['total_distance_mi','total_weight_lbs','avg_cruising_speed', 'log_hours_since_last_ride',\n",
    "                            'active_time_ratio', 'avg_climb_rate', 'distance_training_intensity','prior_training_load']\n",
    "categorical_feature_cols = ['year']\n",
    "\n",
    "target_cols = ['best_power_4s', 'best_power_5s',\n",
    "                'best_power_10s', 'best_power_20s', 'best_power_30s', 'best_power_1m',\n",
    "                'best_power_2m', 'best_power_3m', 'best_power_4m', 'best_power_5m',\n",
    "                'best_power_6m', 'best_power_10m', 'best_power_20m', 'best_power_30m',\n",
    "                'best_power_40m', 'best_power_1h', 'best_power_2h']"
   ]
  },
  {
   "cell_type": "code",
   "execution_count": 19,
   "id": "f7d32812",
   "metadata": {},
   "outputs": [
    {
     "data": {
      "text/html": [
       "<div>\n",
       "<style scoped>\n",
       "    .dataframe tbody tr th:only-of-type {\n",
       "        vertical-align: middle;\n",
       "    }\n",
       "\n",
       "    .dataframe tbody tr th {\n",
       "        vertical-align: top;\n",
       "    }\n",
       "\n",
       "    .dataframe thead th {\n",
       "        text-align: right;\n",
       "    }\n",
       "</style>\n",
       "<table border=\"1\" class=\"dataframe\">\n",
       "  <thead>\n",
       "    <tr style=\"text-align: right;\">\n",
       "      <th></th>\n",
       "      <th>start_time</th>\n",
       "      <th>ride_id</th>\n",
       "      <th>total_distance_mi</th>\n",
       "      <th>total_weight_lbs</th>\n",
       "      <th>avg_cruising_speed</th>\n",
       "      <th>log_hours_since_last_ride</th>\n",
       "      <th>active_time_ratio</th>\n",
       "      <th>avg_climb_rate</th>\n",
       "      <th>distance_training_intensity</th>\n",
       "      <th>prior_training_load</th>\n",
       "      <th>year</th>\n",
       "      <th>best_power_4s</th>\n",
       "      <th>best_power_5s</th>\n",
       "      <th>best_power_10s</th>\n",
       "      <th>best_power_20s</th>\n",
       "      <th>best_power_30s</th>\n",
       "      <th>best_power_1m</th>\n",
       "      <th>best_power_2m</th>\n",
       "      <th>best_power_3m</th>\n",
       "      <th>best_power_4m</th>\n",
       "      <th>best_power_5m</th>\n",
       "      <th>best_power_6m</th>\n",
       "      <th>best_power_10m</th>\n",
       "      <th>best_power_20m</th>\n",
       "      <th>best_power_30m</th>\n",
       "      <th>best_power_40m</th>\n",
       "      <th>best_power_1h</th>\n",
       "      <th>best_power_2h</th>\n",
       "    </tr>\n",
       "  </thead>\n",
       "  <tbody>\n",
       "    <tr>\n",
       "      <th>0</th>\n",
       "      <td>2019-05-02 19:13:00</td>\n",
       "      <td>0x5ccb413c</td>\n",
       "      <td>8.865922</td>\n",
       "      <td>255</td>\n",
       "      <td>14.574504</td>\n",
       "      <td>1.659221</td>\n",
       "      <td>0.892545</td>\n",
       "      <td>8.414548</td>\n",
       "      <td>1.000000</td>\n",
       "      <td>0.000000</td>\n",
       "      <td>2019</td>\n",
       "      <td>485.282271</td>\n",
       "      <td>481.991827</td>\n",
       "      <td>462.283537</td>\n",
       "      <td>412.144319</td>\n",
       "      <td>391.244346</td>\n",
       "      <td>314.816769</td>\n",
       "      <td>209.581472</td>\n",
       "      <td>186.631718</td>\n",
       "      <td>179.636006</td>\n",
       "      <td>157.569641</td>\n",
       "      <td>155.009664</td>\n",
       "      <td>142.368486</td>\n",
       "      <td>134.442850</td>\n",
       "      <td>130.264839</td>\n",
       "      <td>0.000000</td>\n",
       "      <td>0.0</td>\n",
       "      <td>0.0</td>\n",
       "    </tr>\n",
       "    <tr>\n",
       "      <th>1</th>\n",
       "      <td>2019-05-03 22:52:44</td>\n",
       "      <td>0x5cccc63c</td>\n",
       "      <td>9.516836</td>\n",
       "      <td>255</td>\n",
       "      <td>12.081964</td>\n",
       "      <td>1.431292</td>\n",
       "      <td>0.742305</td>\n",
       "      <td>7.339808</td>\n",
       "      <td>1.000000</td>\n",
       "      <td>0.617508</td>\n",
       "      <td>2019</td>\n",
       "      <td>432.549324</td>\n",
       "      <td>425.735809</td>\n",
       "      <td>389.502414</td>\n",
       "      <td>330.267900</td>\n",
       "      <td>299.166732</td>\n",
       "      <td>225.907473</td>\n",
       "      <td>143.793900</td>\n",
       "      <td>147.597113</td>\n",
       "      <td>129.794118</td>\n",
       "      <td>118.283785</td>\n",
       "      <td>115.819729</td>\n",
       "      <td>107.256435</td>\n",
       "      <td>98.405537</td>\n",
       "      <td>97.000798</td>\n",
       "      <td>94.003892</td>\n",
       "      <td>0.0</td>\n",
       "      <td>0.0</td>\n",
       "    </tr>\n",
       "    <tr>\n",
       "      <th>2</th>\n",
       "      <td>2019-05-15 12:01:32</td>\n",
       "      <td>0x5cdbff9c</td>\n",
       "      <td>8.029630</td>\n",
       "      <td>255</td>\n",
       "      <td>14.701154</td>\n",
       "      <td>2.441109</td>\n",
       "      <td>0.896998</td>\n",
       "      <td>7.886564</td>\n",
       "      <td>0.843729</td>\n",
       "      <td>0.011599</td>\n",
       "      <td>2019</td>\n",
       "      <td>422.177957</td>\n",
       "      <td>419.814683</td>\n",
       "      <td>393.709515</td>\n",
       "      <td>363.263188</td>\n",
       "      <td>336.841737</td>\n",
       "      <td>271.435198</td>\n",
       "      <td>215.164384</td>\n",
       "      <td>187.689124</td>\n",
       "      <td>188.538262</td>\n",
       "      <td>164.696769</td>\n",
       "      <td>157.267499</td>\n",
       "      <td>154.668660</td>\n",
       "      <td>139.481512</td>\n",
       "      <td>138.606140</td>\n",
       "      <td>0.000000</td>\n",
       "      <td>0.0</td>\n",
       "      <td>0.0</td>\n",
       "    </tr>\n",
       "    <tr>\n",
       "      <th>3</th>\n",
       "      <td>2019-05-15 21:24:33</td>\n",
       "      <td>0x5cdc8391</td>\n",
       "      <td>8.452656</td>\n",
       "      <td>255</td>\n",
       "      <td>14.453954</td>\n",
       "      <td>0.943618</td>\n",
       "      <td>0.871270</td>\n",
       "      <td>6.895879</td>\n",
       "      <td>0.888179</td>\n",
       "      <td>0.731070</td>\n",
       "      <td>2019</td>\n",
       "      <td>416.729572</td>\n",
       "      <td>414.718966</td>\n",
       "      <td>393.124198</td>\n",
       "      <td>327.432493</td>\n",
       "      <td>295.389433</td>\n",
       "      <td>231.954659</td>\n",
       "      <td>191.952644</td>\n",
       "      <td>182.999122</td>\n",
       "      <td>175.942510</td>\n",
       "      <td>169.921718</td>\n",
       "      <td>170.186598</td>\n",
       "      <td>156.173244</td>\n",
       "      <td>143.046556</td>\n",
       "      <td>137.236242</td>\n",
       "      <td>0.000000</td>\n",
       "      <td>0.0</td>\n",
       "      <td>0.0</td>\n",
       "    </tr>\n",
       "    <tr>\n",
       "      <th>4</th>\n",
       "      <td>2019-05-24 12:13:37</td>\n",
       "      <td>0x5ce7dff1</td>\n",
       "      <td>8.018602</td>\n",
       "      <td>255</td>\n",
       "      <td>15.179620</td>\n",
       "      <td>2.314218</td>\n",
       "      <td>0.918417</td>\n",
       "      <td>8.303722</td>\n",
       "      <td>0.842570</td>\n",
       "      <td>0.040566</td>\n",
       "      <td>2019</td>\n",
       "      <td>419.659872</td>\n",
       "      <td>414.650607</td>\n",
       "      <td>402.052528</td>\n",
       "      <td>376.548577</td>\n",
       "      <td>344.272237</td>\n",
       "      <td>262.329945</td>\n",
       "      <td>225.472466</td>\n",
       "      <td>193.519868</td>\n",
       "      <td>187.969739</td>\n",
       "      <td>181.348731</td>\n",
       "      <td>173.976554</td>\n",
       "      <td>167.162898</td>\n",
       "      <td>150.946458</td>\n",
       "      <td>151.020599</td>\n",
       "      <td>0.000000</td>\n",
       "      <td>0.0</td>\n",
       "      <td>0.0</td>\n",
       "    </tr>\n",
       "  </tbody>\n",
       "</table>\n",
       "</div>"
      ],
      "text/plain": [
       "           start_time     ride_id  total_distance_mi  total_weight_lbs  \\\n",
       "0 2019-05-02 19:13:00  0x5ccb413c           8.865922               255   \n",
       "1 2019-05-03 22:52:44  0x5cccc63c           9.516836               255   \n",
       "2 2019-05-15 12:01:32  0x5cdbff9c           8.029630               255   \n",
       "3 2019-05-15 21:24:33  0x5cdc8391           8.452656               255   \n",
       "4 2019-05-24 12:13:37  0x5ce7dff1           8.018602               255   \n",
       "\n",
       "   avg_cruising_speed  log_hours_since_last_ride  active_time_ratio  \\\n",
       "0           14.574504                   1.659221           0.892545   \n",
       "1           12.081964                   1.431292           0.742305   \n",
       "2           14.701154                   2.441109           0.896998   \n",
       "3           14.453954                   0.943618           0.871270   \n",
       "4           15.179620                   2.314218           0.918417   \n",
       "\n",
       "   avg_climb_rate  distance_training_intensity  prior_training_load  year  \\\n",
       "0        8.414548                     1.000000             0.000000  2019   \n",
       "1        7.339808                     1.000000             0.617508  2019   \n",
       "2        7.886564                     0.843729             0.011599  2019   \n",
       "3        6.895879                     0.888179             0.731070  2019   \n",
       "4        8.303722                     0.842570             0.040566  2019   \n",
       "\n",
       "   best_power_4s  best_power_5s  best_power_10s  best_power_20s  \\\n",
       "0     485.282271     481.991827      462.283537      412.144319   \n",
       "1     432.549324     425.735809      389.502414      330.267900   \n",
       "2     422.177957     419.814683      393.709515      363.263188   \n",
       "3     416.729572     414.718966      393.124198      327.432493   \n",
       "4     419.659872     414.650607      402.052528      376.548577   \n",
       "\n",
       "   best_power_30s  best_power_1m  best_power_2m  best_power_3m  best_power_4m  \\\n",
       "0      391.244346     314.816769     209.581472     186.631718     179.636006   \n",
       "1      299.166732     225.907473     143.793900     147.597113     129.794118   \n",
       "2      336.841737     271.435198     215.164384     187.689124     188.538262   \n",
       "3      295.389433     231.954659     191.952644     182.999122     175.942510   \n",
       "4      344.272237     262.329945     225.472466     193.519868     187.969739   \n",
       "\n",
       "   best_power_5m  best_power_6m  best_power_10m  best_power_20m  \\\n",
       "0     157.569641     155.009664      142.368486      134.442850   \n",
       "1     118.283785     115.819729      107.256435       98.405537   \n",
       "2     164.696769     157.267499      154.668660      139.481512   \n",
       "3     169.921718     170.186598      156.173244      143.046556   \n",
       "4     181.348731     173.976554      167.162898      150.946458   \n",
       "\n",
       "   best_power_30m  best_power_40m  best_power_1h  best_power_2h  \n",
       "0      130.264839        0.000000            0.0            0.0  \n",
       "1       97.000798       94.003892            0.0            0.0  \n",
       "2      138.606140        0.000000            0.0            0.0  \n",
       "3      137.236242        0.000000            0.0            0.0  \n",
       "4      151.020599        0.000000            0.0            0.0  "
      ]
     },
     "execution_count": 19,
     "metadata": {},
     "output_type": "execute_result"
    }
   ],
   "source": [
    "df_train.head()"
   ]
  },
  {
   "cell_type": "markdown",
   "id": "356ce014",
   "metadata": {},
   "source": [
    "# 2. Pipeline Preparation"
   ]
  },
  {
   "cell_type": "code",
   "execution_count": 20,
   "metadata": {},
   "outputs": [],
   "source": [
    "from sklearn.base import BaseEstimator, TransformerMixin\n",
    "\n",
    "class DataFrameSelector(BaseEstimator, TransformerMixin):\n",
    "    def __init__(self, attribute_names):\n",
    "        self.attribute_names = attribute_names\n",
    "        \n",
    "    def fit(self, X, y=None):\n",
    "        return self\n",
    "    \n",
    "    def transform(self, X):\n",
    "        return X[self.attribute_names].values"
   ]
  },
  {
   "cell_type": "code",
   "execution_count": 21,
   "metadata": {},
   "outputs": [],
   "source": [
    "from sklearn.pipeline import Pipeline\n",
    "from sklearn.preprocessing import StandardScaler, OrdinalEncoder\n",
    "\n",
    "num_pipeline = Pipeline([('selector', DataFrameSelector(numerical_feature_cols)),\n",
    "                         ('std_scaler', StandardScaler())\n",
    "                        ])\n",
    "\n",
    "ordinal_cat_pipeline = Pipeline([('selector', DataFrameSelector(categorical_feature_cols)),\n",
    "                                 ('ordinal', OrdinalEncoder())\n",
    "                                ])"
   ]
  },
  {
   "cell_type": "code",
   "execution_count": 22,
   "id": "916ee1a2",
   "metadata": {},
   "outputs": [],
   "source": [
    "from sklearn.pipeline import FeatureUnion\n",
    "\n",
    "full_pipeline = FeatureUnion(transformer_list=[('numerical_pipeline', num_pipeline), \n",
    "                                               ('categorical_pipeline', ordinal_cat_pipeline)\n",
    "                                              ])"
   ]
  },
  {
   "cell_type": "code",
   "execution_count": 23,
   "id": "137b93dd",
   "metadata": {},
   "outputs": [
    {
     "data": {
      "text/plain": [
       "sklearn.pipeline.FeatureUnion"
      ]
     },
     "execution_count": 23,
     "metadata": {},
     "output_type": "execute_result"
    }
   ],
   "source": [
    "type(full_pipeline)"
   ]
  },
  {
   "cell_type": "markdown",
   "id": "e63bcf3f",
   "metadata": {},
   "source": [
    "# 3. Pipeline Application\n",
    "## 3a. Train Dataset"
   ]
  },
  {
   "cell_type": "code",
   "execution_count": 24,
   "id": "dd8748f5",
   "metadata": {},
   "outputs": [],
   "source": [
    "def get_prepared_X_y_dataframe(pipeline:FeatureUnion, df:pd.DataFrame, \n",
    "                                feature_cols:list[str], target_cols:list[str]) -> pd.DataFrame:\n",
    "    X_data_prepared = full_pipeline.fit_transform(df)\n",
    "    print(f'Shape of X = {X_data_prepared.shape}')\n",
    "    y_targets = df_train[target_cols].values\n",
    "    print(f'Shape of y = {y_targets.shape}')\n",
    "    column_names = feature_cols + target_cols\n",
    "    df_prepared = pd.DataFrame(np.c_[X_data_prepared, y_targets], columns=column_names)\n",
    "    return df_prepared\n"
   ]
  },
  {
   "cell_type": "code",
   "execution_count": 25,
   "id": "be75eff2",
   "metadata": {},
   "outputs": [
    {
     "name": "stdout",
     "output_type": "stream",
     "text": [
      "Shape of X = (330, 9)\n",
      "Shape of y = (330, 17)\n"
     ]
    }
   ],
   "source": [
    "feature_cols = numerical_feature_cols + categorical_feature_cols \n",
    "df_train_prepped = get_prepared_X_y_dataframe(full_pipeline, df_train, feature_cols, target_cols)"
   ]
  },
  {
   "cell_type": "code",
   "execution_count": 26,
   "metadata": {},
   "outputs": [],
   "source": [
    "df_train_prepped.to_csv(OUT_CSV_DATA / \"prepared_train.csv\", index=False)"
   ]
  },
  {
   "cell_type": "code",
   "execution_count": 27,
   "id": "4eb82f76",
   "metadata": {},
   "outputs": [
    {
     "name": "stdout",
     "output_type": "stream",
     "text": [
      "Shape of X = (330, 9)\n",
      "Shape of y = (330, 17)\n"
     ]
    }
   ],
   "source": [
    "df_test_prepped = get_prepared_X_y_dataframe(full_pipeline, df_test, feature_cols, target_cols)"
   ]
  },
  {
   "cell_type": "code",
   "execution_count": 28,
   "metadata": {},
   "outputs": [],
   "source": [
    "df_test_prepped.to_csv(OUT_CSV_DATA / \"prepared_test.csv\", index=False)"
   ]
  },
  {
   "cell_type": "code",
   "execution_count": null,
   "id": "9502bf96",
   "metadata": {},
   "outputs": [],
   "source": []
  },
  {
   "cell_type": "code",
   "execution_count": null,
   "id": "042355da",
   "metadata": {},
   "outputs": [],
   "source": []
  },
  {
   "cell_type": "code",
   "execution_count": null,
   "id": "22841ca9",
   "metadata": {},
   "outputs": [],
   "source": []
  },
  {
   "cell_type": "code",
   "execution_count": null,
   "metadata": {},
   "outputs": [],
   "source": []
  }
 ],
 "metadata": {
  "kernelspec": {
   "display_name": "venv",
   "language": "python",
   "name": "python3"
  },
  "language_info": {
   "codemirror_mode": {
    "name": "ipython",
    "version": 3
   },
   "file_extension": ".py",
   "mimetype": "text/x-python",
   "name": "python",
   "nbconvert_exporter": "python",
   "pygments_lexer": "ipython3",
   "version": "3.12.3"
  }
 },
 "nbformat": 4,
 "nbformat_minor": 5
}
