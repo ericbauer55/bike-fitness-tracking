{
 "cells": [
  {
   "cell_type": "code",
   "execution_count": null,
   "id": "2a74dfb3",
   "metadata": {},
   "outputs": [],
   "source": [
    "import pandas as pd\n",
    "pd.set_option(\"display.max_columns\", 100)\n",
    "import numpy as np\n",
    "np.set_printoptions(suppress=True)\n",
    "from pathlib import Path\n",
    "import numpy as np\n",
    "import matplotlib.pyplot as plt\n",
    "import seaborn as sns\n",
    "from typing import Optional, Any, Union"
   ]
  },
  {
   "cell_type": "code",
   "execution_count": null,
   "id": "8ec624ba",
   "metadata": {},
   "outputs": [],
   "source": [
    "IN_CSV_DATA = Path().cwd().parent.parent / \"data/4_data_split\"\n",
    "OUT_MODEL_DATA = Path().cwd().parent.parent / \"data/5_models\""
   ]
  },
  {
   "cell_type": "markdown",
   "id": "3ffcc758",
   "metadata": {},
   "source": [
    "# 1. Load in Training and Test Datasets"
   ]
  },
  {
   "cell_type": "code",
   "execution_count": null,
   "id": "2a289158",
   "metadata": {},
   "outputs": [],
   "source": [
    "df_train = pd.read_csv(IN_CSV_DATA/'prepared_train.csv')\n",
    "df_test = pd.read_csv(IN_CSV_DATA/'prepared_test.csv')"
   ]
  },
  {
   "cell_type": "code",
   "execution_count": null,
   "id": "070c7b02",
   "metadata": {},
   "outputs": [],
   "source": [
    "numerical_feature_cols = ['total_distance_mi','total_weight_lbs','avg_cruising_speed', 'log_hours_since_last_ride',\n",
    "                            'active_time_ratio', 'avg_climb_rate', 'distance_training_intensity','prior_training_load']\n",
    "categorical_feature_cols = ['year']\n",
    "feature_cols = numerical_feature_cols + categorical_feature_cols\n",
    "\n",
    "target_cols = ['best_power_4s', 'best_power_5s',\n",
    "                'best_power_10s', 'best_power_20s', 'best_power_30s', 'best_power_1m',\n",
    "                'best_power_2m', 'best_power_3m', 'best_power_4m', 'best_power_5m',\n",
    "                'best_power_6m', 'best_power_10m', 'best_power_20m', 'best_power_30m',\n",
    "                'best_power_40m', 'best_power_1h', 'best_power_2h']"
   ]
  },
  {
   "cell_type": "code",
   "execution_count": null,
   "id": "27f259fe",
   "metadata": {},
   "outputs": [],
   "source": [
    "X_train, y_train = df_train[feature_cols].values, df_train[target_cols].values\n",
    "X_test, y_test = df_test[feature_cols].values, df_test[target_cols].values"
   ]
  },
  {
   "cell_type": "code",
   "execution_count": null,
   "id": "ac652e08",
   "metadata": {},
   "outputs": [],
   "source": [
    "from sklearn.model_selection import cross_val_score, cross_val_predict, TimeSeriesSplit\n",
    "from sklearn.model_selection import GridSearchCV\n",
    "from sklearn.metrics import r2_score, root_mean_squared_log_error\n",
    "from sklearn.linear_model import LinearRegression"
   ]
  },
  {
   "cell_type": "code",
   "execution_count": null,
   "id": "7a352bfd",
   "metadata": {},
   "outputs": [],
   "source": [
    "def timeseries_cross_validated_regression(X, y, regressor, n_subseries_splits=5, verbose:bool=True):\n",
    "    tss = TimeSeriesSplit(n_splits=n_subseries_splits)\n",
    "    \n",
    "    r2_scores = []\n",
    "    rmsle_scores = []\n",
    "    predictions = []\n",
    "    actuals = []\n",
    "    for train_index, val_index in tss.split(X, y):\n",
    "        X_tr, X_val = X[train_index], X[val_index]\n",
    "        y_tr, y_val = y[train_index], y[val_index]\n",
    "        \n",
    "        regressor.fit(X_tr, y_tr)\n",
    "        \n",
    "        y_pred = regressor.predict(X_val)\n",
    "        # Ensure all predicted powers are non-negative\n",
    "        y_pred[y_pred<0] = 0.0\n",
    "        r2 = r2_score(y_val, y_pred, multioutput='raw_values')\n",
    "        r2 = np.mean(r2)\n",
    "        r2_scores.append(r2)\n",
    "        # NOTE: RMSLE is chosen because it represents the average ratio error between the predicted and the true values.\n",
    "        #       |--> This is useful because the RMSE error in the 5second effort duration is at a different power scale (kW) than a 20minute effort (Watts)\n",
    "        # ref: https://medium.com/analytics-vidhya/root-mean-square-log-error-rmse-vs-rmlse-935c6cc1802a \n",
    "        # NOTE: RMSLE is biased in how it penalizes errors. It penalizes UNDERestimation more than OVERestimation\n",
    "        # This means if we use y_true=y_val as it truly should match, we're okay with overestimating our power curves...\n",
    "        # So we swap the ordering of these so that we're okay underestimating our power curves. We'd rather be conservative on our estimates of fitness\n",
    "        rmsle = root_mean_squared_log_error(y_true=y_pred, y_pred=y_val, multioutput='raw_values')\n",
    "        rmsle = np.mean(rmsle)\n",
    "        rmsle_scores.append(rmsle)\n",
    "\n",
    "        predictions.append(y_pred)\n",
    "        actuals.append(y_val)\n",
    "        \n",
    "    if verbose:\n",
    "        print(f'For metric \"R^2\", the latest value (final subseries) = {r2_scores[-1]}')\n",
    "        print(f'For metric \"RMSLE\", the latest value (final subseries) = {rmsle_scores[-1]}')\n",
    "\n",
    "    return {'actuals':actuals, 'predictions':predictions, \n",
    "            'raw_final_r2':r2_score(actuals[-1], predictions[-1], multioutput='raw_values'),\n",
    "            'raw_final_rmsle':root_mean_squared_log_error(actuals[-1], predictions[-1], multioutput='raw_values')}"
   ]
  },
  {
   "cell_type": "markdown",
   "id": "3b58392b",
   "metadata": {},
   "source": [
    "# 1a. Baseline Models: Y=BX+eps, predicting the output matrix.\n",
    "\n",
    "For each sample $x$, the regressor will predict a vector output of size 17x1"
   ]
  },
  {
   "cell_type": "code",
   "execution_count": null,
   "id": "c68ffe1a",
   "metadata": {},
   "outputs": [],
   "source": [
    "linreg = LinearRegression()"
   ]
  },
  {
   "cell_type": "code",
   "execution_count": null,
   "id": "b89a8534",
   "metadata": {},
   "outputs": [],
   "source": [
    "outputs = timeseries_cross_validated_regression(X_train, y_train, linreg, n_subseries_splits=10)"
   ]
  },
  {
   "cell_type": "code",
   "execution_count": null,
   "id": "6005562b",
   "metadata": {},
   "outputs": [],
   "source": [
    "y_pred = outputs['predictions'][-1]\n",
    "y_val = outputs['actuals'][-1]"
   ]
  },
  {
   "cell_type": "code",
   "execution_count": null,
   "id": "9a0bab61",
   "metadata": {},
   "outputs": [],
   "source": [
    "final_r2 = outputs['raw_final_r2']\n",
    "final_rmsle = outputs['raw_final_rmsle']"
   ]
  },
  {
   "cell_type": "code",
   "execution_count": null,
   "id": "bc10a532",
   "metadata": {},
   "outputs": [],
   "source": [
    "print(final_r2)"
   ]
  },
  {
   "cell_type": "code",
   "execution_count": null,
   "id": "49370d25",
   "metadata": {},
   "outputs": [],
   "source": [
    "print(final_rmsle)"
   ]
  },
  {
   "cell_type": "code",
   "execution_count": null,
   "id": "5eac190e",
   "metadata": {},
   "outputs": [],
   "source": [
    "def plot_residuals(y_pred, y_true, column_names:list[str]):\n",
    "    residual_error = y_true - y_pred\n",
    "    fig, axes = plt.subplots(3,6, figsize=(16,6), sharex=True, sharey=True)\n",
    "    columns = np.array(column_names+['none']).reshape(axes.shape)\n",
    "\n",
    "    for row_i in range(axes.shape[0]):\n",
    "        for col_j in range(axes.shape[1]):\n",
    "            ax = axes[row_i, col_j]\n",
    "            effort_index = (col_j) + (row_i)*(axes.shape[1])\n",
    "            if effort_index+1 > len(column_names): continue # skip the last, 18ths box\n",
    "            data = residual_error[:, effort_index]\n",
    "            _ = ax.axhline(y=0.5, color='r', linestyle='--', alpha=0.5)\n",
    "            _ = sns.scatterplot(data, ax=ax, alpha=0.75)\n",
    "            _ = ax.set_title(columns[row_i, col_j])\n",
    "            _ = ax.grid()\n",
    "            _ = ax.set_axisbelow(True)"
   ]
  },
  {
   "cell_type": "code",
   "execution_count": null,
   "id": "12ac6506",
   "metadata": {},
   "outputs": [],
   "source": [
    "plot_residuals(y_pred, y_val, target_cols)"
   ]
  },
  {
   "cell_type": "markdown",
   "id": "5454011e",
   "metadata": {},
   "source": [
    "### Sanity Check: 4s Effort Model"
   ]
  },
  {
   "cell_type": "code",
   "execution_count": null,
   "id": "6e3fcbbb",
   "metadata": {},
   "outputs": [],
   "source": [
    "outputs = timeseries_cross_validated_regression(X_train, y_train[:,0], linreg,n_subseries_splits=10)"
   ]
  },
  {
   "cell_type": "code",
   "execution_count": null,
   "id": "220002a5",
   "metadata": {},
   "outputs": [],
   "source": [
    "final_r2 = outputs['raw_final_r2']\n",
    "final_rmsle = outputs['raw_final_rmsle']"
   ]
  },
  {
   "cell_type": "code",
   "execution_count": null,
   "id": "f13f176a",
   "metadata": {},
   "outputs": [],
   "source": [
    "print(final_r2)"
   ]
  },
  {
   "cell_type": "code",
   "execution_count": null,
   "id": "15c86f99",
   "metadata": {},
   "outputs": [],
   "source": [
    "print(final_rmsle)"
   ]
  },
  {
   "cell_type": "markdown",
   "id": "a61dbaa3",
   "metadata": {},
   "source": [
    "# 1b. Baseline Models: $y_k = B_kx$ MultiOutput Regression\n",
    "\n",
    "For each output target variable (17 of them), an independent model is created using the `MultiOutputRegressor` meta-estimator\n",
    "\n",
    "ref: https://scikit-learn.org/stable/auto_examples/ensemble/plot_random_forest_regression_multioutput.html"
   ]
  },
  {
   "cell_type": "code",
   "execution_count": null,
   "id": "a43521d3",
   "metadata": {},
   "outputs": [],
   "source": [
    "from sklearn.multioutput import MultiOutputRegressor"
   ]
  },
  {
   "cell_type": "code",
   "execution_count": null,
   "id": "c1a33d88",
   "metadata": {},
   "outputs": [],
   "source": [
    "mo_linreg = MultiOutputRegressor(LinearRegression())"
   ]
  },
  {
   "cell_type": "code",
   "execution_count": null,
   "id": "53b41259",
   "metadata": {},
   "outputs": [],
   "source": [
    "outputs = timeseries_cross_validated_regression(X_train, y_train, mo_linreg, n_subseries_splits=10)"
   ]
  },
  {
   "cell_type": "code",
   "execution_count": null,
   "id": "5932d7f0",
   "metadata": {},
   "outputs": [],
   "source": [
    "final_r2 = outputs['raw_final_r2']\n",
    "final_rmsle = outputs['raw_final_rmsle']"
   ]
  },
  {
   "cell_type": "code",
   "execution_count": null,
   "id": "97662f10",
   "metadata": {},
   "outputs": [],
   "source": [
    "print(final_r2)"
   ]
  },
  {
   "cell_type": "code",
   "execution_count": null,
   "id": "dd5989d2",
   "metadata": {},
   "outputs": [],
   "source": [
    "print(final_rmsle)"
   ]
  },
  {
   "cell_type": "code",
   "execution_count": null,
   "id": "25d870a3",
   "metadata": {},
   "outputs": [],
   "source": [
    "plot_residuals(outputs['predictions'][-1], outputs['actuals'][-1], target_cols)"
   ]
  },
  {
   "cell_type": "markdown",
   "id": "0d573fdb",
   "metadata": {},
   "source": [
    "# 1c. Baseline Models: RegressorChain Regression\n",
    "This strategy will take advantage of the correlations between target variables"
   ]
  },
  {
   "cell_type": "code",
   "execution_count": null,
   "id": "c605d797",
   "metadata": {},
   "outputs": [],
   "source": [
    "from sklearn.multioutput import RegressorChain"
   ]
  },
  {
   "cell_type": "code",
   "execution_count": null,
   "id": "264539b7",
   "metadata": {},
   "outputs": [],
   "source": [
    "regchain_linreg_ordered = RegressorChain(LinearRegression(), order=range(len(target_cols)), verbose=False)\n",
    "regchain_linreg_random = RegressorChain(LinearRegression(), order='random', random_state=42)"
   ]
  },
  {
   "cell_type": "markdown",
   "id": "395d60de",
   "metadata": {},
   "source": [
    "### Column Chain Ordered by Effort Duration (4s-->2h)"
   ]
  },
  {
   "cell_type": "code",
   "execution_count": null,
   "id": "3c1d37b5",
   "metadata": {},
   "outputs": [],
   "source": [
    "outputs = timeseries_cross_validated_regression(X_train, y_train, regchain_linreg_ordered, n_subseries_splits=10)"
   ]
  },
  {
   "cell_type": "code",
   "execution_count": null,
   "id": "02479c8b",
   "metadata": {},
   "outputs": [],
   "source": [
    "final_r2 = outputs['raw_final_r2']\n",
    "final_rmsle = outputs['raw_final_rmsle']"
   ]
  },
  {
   "cell_type": "code",
   "execution_count": null,
   "id": "50d5de32",
   "metadata": {},
   "outputs": [],
   "source": [
    "print(final_r2)"
   ]
  },
  {
   "cell_type": "code",
   "execution_count": null,
   "id": "b6efb747",
   "metadata": {},
   "outputs": [],
   "source": [
    "print(final_rmsle)"
   ]
  },
  {
   "cell_type": "code",
   "execution_count": null,
   "id": "4dd9211a",
   "metadata": {},
   "outputs": [],
   "source": [
    "plot_residuals(outputs['predictions'][-1], outputs['actuals'][-1], target_cols)"
   ]
  },
  {
   "cell_type": "markdown",
   "id": "75d95e19",
   "metadata": {},
   "source": [
    "### Random Column Chain Order"
   ]
  },
  {
   "cell_type": "code",
   "execution_count": null,
   "id": "4279860b",
   "metadata": {},
   "outputs": [],
   "source": [
    "outputs = timeseries_cross_validated_regression(X_train, y_train, regchain_linreg_random, n_subseries_splits=10)"
   ]
  },
  {
   "cell_type": "code",
   "execution_count": null,
   "id": "528ef535",
   "metadata": {},
   "outputs": [],
   "source": [
    "final_r2 = outputs['raw_final_r2']\n",
    "final_rmsle = outputs['raw_final_rmsle']"
   ]
  },
  {
   "cell_type": "code",
   "execution_count": null,
   "id": "718cd2f6",
   "metadata": {},
   "outputs": [],
   "source": [
    "print(final_r2)"
   ]
  },
  {
   "cell_type": "code",
   "execution_count": null,
   "id": "87fce381",
   "metadata": {},
   "outputs": [],
   "source": [
    "print(final_rmsle)"
   ]
  },
  {
   "cell_type": "code",
   "execution_count": null,
   "id": "db161b91",
   "metadata": {},
   "outputs": [],
   "source": [
    "plot_residuals(outputs['predictions'][-1], outputs['actuals'][-1], target_cols)"
   ]
  },
  {
   "cell_type": "markdown",
   "id": "a7535550",
   "metadata": {},
   "source": [
    "# 1d. Baseline Model: Split-Target Parallel Models Approach"
   ]
  },
  {
   "cell_type": "code",
   "execution_count": null,
   "id": "d276dab2",
   "metadata": {},
   "outputs": [],
   "source": [
    "def parallel_timeseries_cross_validated_regression(X, y, columnn_regressor_map:dict[str, dict[str,Any]],\n",
    "                                                    n_subseries_splits=10, verbose:bool=True):\n",
    "    tss = TimeSeriesSplit(n_splits=n_subseries_splits)\n",
    "\n",
    "    overall_r2_scores = []\n",
    "    overall_rmsle_scores = []\n",
    "    predictions = {regressor:[] for regressor in columnn_regressor_map.keys()}\n",
    "    actuals = {regressor:[] for regressor in columnn_regressor_map.keys()}\n",
    "    for regressor_name in columnn_regressor_map.keys():\n",
    "        regressor = columnn_regressor_map[regressor_name]['estimator']\n",
    "        relevant_column_indices = columnn_regressor_map[regressor_name]['estimator']\n",
    "        for train_index, val_index in tss.split(X, y[:,relevant_column_indices]):\n",
    "            X_tr, X_val = X[train_index], X[val_index]\n",
    "            y_tr, y_val = y[train_index], y[val_index]\n",
    "            \n",
    "            regressor.fit(X_tr, y_tr)"
   ]
  },
  {
   "cell_type": "code",
   "execution_count": null,
   "id": "0eb4db8d",
   "metadata": {},
   "outputs": [],
   "source": []
  },
  {
   "cell_type": "code",
   "execution_count": null,
   "id": "7d4b16f3",
   "metadata": {},
   "outputs": [],
   "source": []
  },
  {
   "cell_type": "code",
   "execution_count": null,
   "id": "89e523bb",
   "metadata": {},
   "outputs": [],
   "source": []
  },
  {
   "cell_type": "code",
   "execution_count": null,
   "id": "5929c218",
   "metadata": {},
   "outputs": [],
   "source": []
  },
  {
   "cell_type": "code",
   "execution_count": null,
   "id": "6980bb37",
   "metadata": {},
   "outputs": [],
   "source": []
  }
 ],
 "metadata": {
  "kernelspec": {
   "display_name": "venv",
   "language": "python",
   "name": "python3"
  },
  "language_info": {
   "codemirror_mode": {
    "name": "ipython",
    "version": 3
   },
   "file_extension": ".py",
   "mimetype": "text/x-python",
   "name": "python",
   "nbconvert_exporter": "python",
   "pygments_lexer": "ipython3",
   "version": "3.12.3"
  }
 },
 "nbformat": 4,
 "nbformat_minor": 5
}
