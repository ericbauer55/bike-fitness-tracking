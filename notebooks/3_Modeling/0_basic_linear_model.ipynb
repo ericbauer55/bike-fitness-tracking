{
 "cells": [
  {
   "cell_type": "code",
   "execution_count": 1,
   "id": "2a74dfb3",
   "metadata": {},
   "outputs": [],
   "source": [
    "import pandas as pd\n",
    "pd.set_option(\"display.max_columns\", 100)\n",
    "from pathlib import Path\n",
    "import numpy as np\n",
    "import matplotlib.pyplot as plt\n",
    "import seaborn as sns\n",
    "from typing import Optional, Any, Union"
   ]
  },
  {
   "cell_type": "code",
   "execution_count": 2,
   "id": "8ec624ba",
   "metadata": {},
   "outputs": [],
   "source": [
    "IN_CSV_DATA = Path().cwd().parent.parent / \"data/4_data_split\"\n",
    "OUT_MODEL_DATA = Path().cwd().parent.parent / \"data/5_models\""
   ]
  },
  {
   "cell_type": "markdown",
   "id": "3ffcc758",
   "metadata": {},
   "source": [
    "# 1. Load in Training and Test Datasets"
   ]
  },
  {
   "cell_type": "code",
   "execution_count": 3,
   "id": "2a289158",
   "metadata": {},
   "outputs": [],
   "source": [
    "df_train = pd.read_csv(IN_CSV_DATA/'prepared_train.csv')\n",
    "df_test = pd.read_csv(IN_CSV_DATA/'prepared_test.csv')"
   ]
  },
  {
   "cell_type": "code",
   "execution_count": 5,
   "id": "070c7b02",
   "metadata": {},
   "outputs": [],
   "source": [
    "numerical_feature_cols = ['total_distance_mi','total_weight_lbs','avg_cruising_speed', 'log_hours_since_last_ride',\n",
    "                            'active_time_ratio', 'avg_climb_rate', 'distance_training_intensity','prior_training_load']\n",
    "categorical_feature_cols = ['year']\n",
    "feature_cols = numerical_feature_cols + categorical_feature_cols\n",
    "\n",
    "target_cols = ['best_power_4s', 'best_power_5s',\n",
    "                'best_power_10s', 'best_power_20s', 'best_power_30s', 'best_power_1m',\n",
    "                'best_power_2m', 'best_power_3m', 'best_power_4m', 'best_power_5m',\n",
    "                'best_power_6m', 'best_power_10m', 'best_power_20m', 'best_power_30m',\n",
    "                'best_power_40m', 'best_power_1h', 'best_power_2h']"
   ]
  },
  {
   "cell_type": "code",
   "execution_count": 6,
   "id": "27f259fe",
   "metadata": {},
   "outputs": [],
   "source": [
    "X_train, y_train = df_train[feature_cols].values, df_train[target_cols].values\n",
    "X_test, y_test = df_test[feature_cols].values, df_test[target_cols].values"
   ]
  },
  {
   "cell_type": "code",
   "execution_count": null,
   "id": "ac652e08",
   "metadata": {},
   "outputs": [],
   "source": []
  },
  {
   "cell_type": "code",
   "execution_count": null,
   "id": "7a352bfd",
   "metadata": {},
   "outputs": [],
   "source": []
  },
  {
   "cell_type": "code",
   "execution_count": null,
   "id": "c68ffe1a",
   "metadata": {},
   "outputs": [],
   "source": []
  },
  {
   "cell_type": "code",
   "execution_count": null,
   "id": "a7535550",
   "metadata": {},
   "outputs": [],
   "source": []
  }
 ],
 "metadata": {
  "kernelspec": {
   "display_name": "venv",
   "language": "python",
   "name": "python3"
  },
  "language_info": {
   "codemirror_mode": {
    "name": "ipython",
    "version": 3
   },
   "file_extension": ".py",
   "mimetype": "text/x-python",
   "name": "python",
   "nbconvert_exporter": "python",
   "pygments_lexer": "ipython3",
   "version": "3.12.3"
  }
 },
 "nbformat": 4,
 "nbformat_minor": 5
}
