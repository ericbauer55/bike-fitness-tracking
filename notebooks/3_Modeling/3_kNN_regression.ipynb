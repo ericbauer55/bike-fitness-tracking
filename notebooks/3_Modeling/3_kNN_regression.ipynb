{
 "cells": [
  {
   "cell_type": "code",
   "execution_count": 1,
   "id": "2a74dfb3",
   "metadata": {},
   "outputs": [],
   "source": [
    "import pandas as pd\n",
    "pd.set_option(\"display.max_columns\", 100)\n",
    "import numpy as np\n",
    "np.set_printoptions(suppress=True)\n",
    "from pathlib import Path\n",
    "import numpy as np\n",
    "import matplotlib.pyplot as plt\n",
    "import seaborn as sns\n",
    "from typing import Optional, Any, Union"
   ]
  },
  {
   "cell_type": "code",
   "execution_count": 2,
   "id": "8ec624ba",
   "metadata": {},
   "outputs": [],
   "source": [
    "IN_CSV_DATA = Path().cwd().parent.parent / \"data/4_data_split\"\n",
    "OUT_MODEL_DATA = Path().cwd().parent.parent / \"data/5_models\""
   ]
  },
  {
   "cell_type": "markdown",
   "id": "3ffcc758",
   "metadata": {},
   "source": [
    "# 1. Load in Training and Test Datasets"
   ]
  },
  {
   "cell_type": "code",
   "execution_count": 3,
   "id": "2a289158",
   "metadata": {},
   "outputs": [],
   "source": [
    "df_train = pd.read_csv(IN_CSV_DATA/'prepared_train.csv')\n",
    "df_test = pd.read_csv(IN_CSV_DATA/'prepared_test.csv')"
   ]
  },
  {
   "cell_type": "code",
   "execution_count": 4,
   "id": "070c7b02",
   "metadata": {},
   "outputs": [],
   "source": [
    "numerical_feature_cols = ['total_distance_mi','total_weight_lbs','avg_cruising_speed', 'log_hours_since_last_ride',\n",
    "                            'active_time_ratio', 'avg_climb_rate', 'distance_training_intensity','prior_training_load']\n",
    "categorical_feature_cols = []#['year']\n",
    "feature_cols = numerical_feature_cols + categorical_feature_cols\n",
    "\n",
    "target_cols = ['best_power_4s', 'best_power_5s',\n",
    "                'best_power_10s', 'best_power_20s', 'best_power_30s', 'best_power_1m',\n",
    "                'best_power_2m', 'best_power_3m', 'best_power_4m', 'best_power_5m',\n",
    "                'best_power_6m', 'best_power_10m', 'best_power_20m', 'best_power_30m',\n",
    "                'best_power_40m', 'best_power_1h', 'best_power_2h']"
   ]
  },
  {
   "cell_type": "code",
   "execution_count": 5,
   "id": "27f259fe",
   "metadata": {},
   "outputs": [],
   "source": [
    "X_train, y_train = df_train[feature_cols].values, df_train[target_cols].values\n",
    "X_test, y_test = df_test[feature_cols].values, df_test[target_cols].values"
   ]
  },
  {
   "cell_type": "code",
   "execution_count": 6,
   "id": "ac652e08",
   "metadata": {},
   "outputs": [],
   "source": [
    "from sklearn.model_selection import cross_val_score, cross_val_predict, TimeSeriesSplit\n",
    "from sklearn.model_selection import GridSearchCV\n",
    "from sklearn.metrics import r2_score, root_mean_squared_log_error\n",
    "from sklearn.multioutput import MultiOutputRegressor, RegressorChain"
   ]
  },
  {
   "cell_type": "code",
   "execution_count": 7,
   "id": "c04fdd77",
   "metadata": {},
   "outputs": [],
   "source": [
    "SCORING = 'r2'"
   ]
  },
  {
   "cell_type": "code",
   "execution_count": 8,
   "id": "0eb4db8d",
   "metadata": {},
   "outputs": [],
   "source": [
    "from sklearn.neighbors import KNeighborsRegressor"
   ]
  },
  {
   "cell_type": "code",
   "execution_count": 9,
   "id": "3dfb5a23",
   "metadata": {},
   "outputs": [],
   "source": [
    "tss_cv = TimeSeriesSplit(n_splits=5)"
   ]
  },
  {
   "cell_type": "markdown",
   "id": "d2ad98ff",
   "metadata": {},
   "source": [
    "# 1a. Full Targets Vector Regressor"
   ]
  },
  {
   "cell_type": "code",
   "execution_count": 10,
   "id": "823e238c",
   "metadata": {},
   "outputs": [],
   "source": [
    "knn_reg = KNeighborsRegressor()"
   ]
  },
  {
   "cell_type": "code",
   "execution_count": 17,
   "id": "b71bea08",
   "metadata": {},
   "outputs": [],
   "source": [
    "param_grid = [{'n_neighbors':[5, 10, 15, 50],\n",
    "               'weights':['uniform','distance'],\n",
    "               'p':[1,2], # power for minkowski norm (l1 and l2 norms used)\n",
    "               'metric':['minkowski']\n",
    "               }]\n",
    "knn_reg_gridcv = GridSearchCV(knn_reg, param_grid, cv=tss_cv, n_jobs=-1, \n",
    "                             refit=True, return_train_score=True,\n",
    "                             scoring=SCORING, verbose=1\n",
    "                            )"
   ]
  },
  {
   "cell_type": "code",
   "execution_count": 18,
   "id": "1888d935",
   "metadata": {},
   "outputs": [
    {
     "name": "stdout",
     "output_type": "stream",
     "text": [
      "Fitting 5 folds for each of 16 candidates, totalling 80 fits\n",
      "{'metric': 'minkowski', 'n_neighbors': 15, 'p': 1, 'weights': 'distance'}\n"
     ]
    }
   ],
   "source": [
    "# fitting the model for grid search\n",
    "knn_reg_gridcv.fit(X_train, y_train)\n",
    "\n",
    "# print the best parameter set after tuning\n",
    "print(knn_reg_gridcv.best_params_)"
   ]
  },
  {
   "cell_type": "code",
   "execution_count": 19,
   "id": "789c631a",
   "metadata": {},
   "outputs": [
    {
     "name": "stdout",
     "output_type": "stream",
     "text": [
      "For params:{'metric': 'minkowski', 'n_neighbors': 5, 'p': 1, 'weights': 'uniform'}\n",
      "\t- Train R^2=0.5579434406645578 --> Test R^2=0.22031369010499455\n",
      "--------------------------------------------------\n",
      "For params:{'metric': 'minkowski', 'n_neighbors': 5, 'p': 1, 'weights': 'distance'}\n",
      "\t- Train R^2=1.0 --> Test R^2=0.23028277148440787\n",
      "--------------------------------------------------\n",
      "For params:{'metric': 'minkowski', 'n_neighbors': 5, 'p': 2, 'weights': 'uniform'}\n",
      "\t- Train R^2=0.5684287095165489 --> Test R^2=0.21448099716518537\n",
      "--------------------------------------------------\n",
      "For params:{'metric': 'minkowski', 'n_neighbors': 5, 'p': 2, 'weights': 'distance'}\n",
      "\t- Train R^2=1.0 --> Test R^2=0.22572812492188293\n",
      "--------------------------------------------------\n",
      "For params:{'metric': 'minkowski', 'n_neighbors': 10, 'p': 1, 'weights': 'uniform'}\n",
      "\t- Train R^2=0.43801042275941626 --> Test R^2=0.21676743124058212\n",
      "--------------------------------------------------\n",
      "For params:{'metric': 'minkowski', 'n_neighbors': 10, 'p': 1, 'weights': 'distance'}\n",
      "\t- Train R^2=1.0 --> Test R^2=0.22788672489878475\n",
      "--------------------------------------------------\n",
      "For params:{'metric': 'minkowski', 'n_neighbors': 10, 'p': 2, 'weights': 'uniform'}\n",
      "\t- Train R^2=0.43433494674304507 --> Test R^2=0.21801872124316102\n",
      "--------------------------------------------------\n",
      "For params:{'metric': 'minkowski', 'n_neighbors': 10, 'p': 2, 'weights': 'distance'}\n",
      "\t- Train R^2=1.0 --> Test R^2=0.22929625283519148\n",
      "--------------------------------------------------\n",
      "For params:{'metric': 'minkowski', 'n_neighbors': 15, 'p': 1, 'weights': 'uniform'}\n",
      "\t- Train R^2=0.3787638356721017 --> Test R^2=0.22004236157687435\n",
      "--------------------------------------------------\n",
      "For params:{'metric': 'minkowski', 'n_neighbors': 15, 'p': 1, 'weights': 'distance'}\n",
      "\t- Train R^2=1.0 --> Test R^2=0.23165231677625756\n",
      "--------------------------------------------------\n",
      "For params:{'metric': 'minkowski', 'n_neighbors': 15, 'p': 2, 'weights': 'uniform'}\n",
      "\t- Train R^2=0.3723711568169373 --> Test R^2=0.20437049506584043\n",
      "--------------------------------------------------\n",
      "For params:{'metric': 'minkowski', 'n_neighbors': 15, 'p': 2, 'weights': 'distance'}\n",
      "\t- Train R^2=1.0 --> Test R^2=0.21762999911804393\n",
      "--------------------------------------------------\n",
      "For params:{'metric': 'minkowski', 'n_neighbors': 50, 'p': 1, 'weights': 'uniform'}\n",
      "\t- Train R^2=0.20891569077945338 --> Test R^2=0.11717045996561308\n",
      "--------------------------------------------------\n",
      "For params:{'metric': 'minkowski', 'n_neighbors': 50, 'p': 1, 'weights': 'distance'}\n",
      "\t- Train R^2=1.0 --> Test R^2=0.13980130115173858\n",
      "--------------------------------------------------\n",
      "For params:{'metric': 'minkowski', 'n_neighbors': 50, 'p': 2, 'weights': 'uniform'}\n",
      "\t- Train R^2=0.20492530159782413 --> Test R^2=0.11257748028038547\n",
      "--------------------------------------------------\n",
      "For params:{'metric': 'minkowski', 'n_neighbors': 50, 'p': 2, 'weights': 'distance'}\n",
      "\t- Train R^2=0.9999999999999705 --> Test R^2=0.1355967249102098\n",
      "--------------------------------------------------\n"
     ]
    }
   ],
   "source": [
    "cv_results = knn_reg_gridcv.cv_results_\n",
    "\n",
    "for train_r2, test_r2, params in zip(cv_results['mean_train_score'], cv_results['mean_test_score'], cv_results['params']):\n",
    "    print(f'For params:{params}')\n",
    "    print(f'\\t- Train R^2={train_r2} --> Test R^2={test_r2}')\n",
    "    print('-'*50)"
   ]
  },
  {
   "cell_type": "code",
   "execution_count": 20,
   "id": "19baa049",
   "metadata": {},
   "outputs": [],
   "source": [
    "model_knn_reg = knn_reg_gridcv.best_estimator_"
   ]
  },
  {
   "cell_type": "markdown",
   "id": "0ceba5f5",
   "metadata": {},
   "source": [
    "# 1b. Individual Target Regressors `MultiOutputRegressor`"
   ]
  },
  {
   "cell_type": "code",
   "execution_count": 21,
   "id": "55815f32",
   "metadata": {},
   "outputs": [],
   "source": [
    "param_grid = [{'estimator__n_neighbors':[5, 15, 50],\n",
    "               'estimator__weights':['uniform','distance'],\n",
    "               'estimator__p':[1,2], # power for minkowski norm (l1 and l2 norms used)\n",
    "               'estimator__metric':['minkowski']\n",
    "               }]\n",
    "MO_knn_reg = MultiOutputRegressor(KNeighborsRegressor())\n",
    "\n",
    "knn_reg_gridcv = GridSearchCV(MO_knn_reg, param_grid, cv=tss_cv, n_jobs=-1, \n",
    "                             refit=True, return_train_score=True,\n",
    "                             scoring=SCORING, verbose=1\n",
    "                            )"
   ]
  },
  {
   "cell_type": "code",
   "execution_count": 22,
   "id": "7d4b16f3",
   "metadata": {},
   "outputs": [
    {
     "name": "stdout",
     "output_type": "stream",
     "text": [
      "Fitting 5 folds for each of 12 candidates, totalling 60 fits\n",
      "{'estimator__metric': 'minkowski', 'estimator__n_neighbors': 15, 'estimator__p': 1, 'estimator__weights': 'distance'}\n"
     ]
    }
   ],
   "source": [
    "# fitting the model for grid search\n",
    "knn_reg_gridcv.fit(X_train, y_train)\n",
    "\n",
    "# print the best parameter set after tuning\n",
    "print(knn_reg_gridcv.best_params_)"
   ]
  },
  {
   "cell_type": "code",
   "execution_count": 23,
   "id": "89e523bb",
   "metadata": {},
   "outputs": [
    {
     "name": "stdout",
     "output_type": "stream",
     "text": [
      "For params:{'estimator__metric': 'minkowski', 'estimator__n_neighbors': 5, 'estimator__p': 1, 'estimator__weights': 'uniform'}\n",
      "\t- Train R^2=0.5579434406645578 --> Test R^2=0.22031369010499455\n",
      "--------------------------------------------------\n",
      "For params:{'estimator__metric': 'minkowski', 'estimator__n_neighbors': 5, 'estimator__p': 1, 'estimator__weights': 'distance'}\n",
      "\t- Train R^2=1.0 --> Test R^2=0.23028277148440787\n",
      "--------------------------------------------------\n",
      "For params:{'estimator__metric': 'minkowski', 'estimator__n_neighbors': 5, 'estimator__p': 2, 'estimator__weights': 'uniform'}\n",
      "\t- Train R^2=0.5684287095165489 --> Test R^2=0.21448099716518537\n",
      "--------------------------------------------------\n",
      "For params:{'estimator__metric': 'minkowski', 'estimator__n_neighbors': 5, 'estimator__p': 2, 'estimator__weights': 'distance'}\n",
      "\t- Train R^2=1.0 --> Test R^2=0.22572812492188293\n",
      "--------------------------------------------------\n",
      "For params:{'estimator__metric': 'minkowski', 'estimator__n_neighbors': 15, 'estimator__p': 1, 'estimator__weights': 'uniform'}\n",
      "\t- Train R^2=0.3787638356721017 --> Test R^2=0.22004236157687435\n",
      "--------------------------------------------------\n",
      "For params:{'estimator__metric': 'minkowski', 'estimator__n_neighbors': 15, 'estimator__p': 1, 'estimator__weights': 'distance'}\n",
      "\t- Train R^2=1.0 --> Test R^2=0.23165231677625756\n",
      "--------------------------------------------------\n",
      "For params:{'estimator__metric': 'minkowski', 'estimator__n_neighbors': 15, 'estimator__p': 2, 'estimator__weights': 'uniform'}\n",
      "\t- Train R^2=0.3723711568169373 --> Test R^2=0.20437049506584043\n",
      "--------------------------------------------------\n",
      "For params:{'estimator__metric': 'minkowski', 'estimator__n_neighbors': 15, 'estimator__p': 2, 'estimator__weights': 'distance'}\n",
      "\t- Train R^2=1.0 --> Test R^2=0.21762999911804393\n",
      "--------------------------------------------------\n",
      "For params:{'estimator__metric': 'minkowski', 'estimator__n_neighbors': 50, 'estimator__p': 1, 'estimator__weights': 'uniform'}\n",
      "\t- Train R^2=0.20891569077945338 --> Test R^2=0.11717045996561307\n",
      "--------------------------------------------------\n",
      "For params:{'estimator__metric': 'minkowski', 'estimator__n_neighbors': 50, 'estimator__p': 1, 'estimator__weights': 'distance'}\n",
      "\t- Train R^2=1.0 --> Test R^2=0.13980130115173858\n",
      "--------------------------------------------------\n",
      "For params:{'estimator__metric': 'minkowski', 'estimator__n_neighbors': 50, 'estimator__p': 2, 'estimator__weights': 'uniform'}\n",
      "\t- Train R^2=0.20492530159782416 --> Test R^2=0.11257748028038547\n",
      "--------------------------------------------------\n",
      "For params:{'estimator__metric': 'minkowski', 'estimator__n_neighbors': 50, 'estimator__p': 2, 'estimator__weights': 'distance'}\n",
      "\t- Train R^2=0.9999999999999705 --> Test R^2=0.1355967249102098\n",
      "--------------------------------------------------\n"
     ]
    }
   ],
   "source": [
    "cv_results = knn_reg_gridcv.cv_results_\n",
    "\n",
    "for train_r2, test_r2, params in zip(cv_results['mean_train_score'], cv_results['mean_test_score'], cv_results['params']):\n",
    "    print(f'For params:{params}')\n",
    "    print(f'\\t- Train R^2={train_r2} --> Test R^2={test_r2}')\n",
    "    print('-'*50)"
   ]
  },
  {
   "cell_type": "code",
   "execution_count": 24,
   "id": "5929c218",
   "metadata": {},
   "outputs": [],
   "source": [
    "model_MO_knn_reg = knn_reg_gridcv.best_estimator_"
   ]
  },
  {
   "cell_type": "markdown",
   "id": "cb032fa4",
   "metadata": {},
   "source": [
    "# 1c. Chain Regressor"
   ]
  },
  {
   "cell_type": "code",
   "execution_count": 27,
   "id": "32cc85f8",
   "metadata": {},
   "outputs": [],
   "source": [
    "param_grid = [{'base_estimator__n_neighbors':[5, 15, 50],\n",
    "               'base_estimator__weights':['uniform','distance'],\n",
    "               'base_estimator__p':[1,2], # power for minkowski norm (l1 and l2 norms used)\n",
    "               'base_estimator__metric':['minkowski']\n",
    "               }]\n",
    "RC_knn_reg = RegressorChain(KNeighborsRegressor(), order='random', random_state=42)\n",
    "\n",
    "knn_reg_gridcv = GridSearchCV(RC_knn_reg, param_grid, cv=tss_cv, n_jobs=-1, \n",
    "                             refit=True, return_train_score=True,\n",
    "                             scoring=SCORING, verbose=1\n",
    "                            )"
   ]
  },
  {
   "cell_type": "code",
   "execution_count": 28,
   "id": "ad2cfb27",
   "metadata": {},
   "outputs": [
    {
     "name": "stdout",
     "output_type": "stream",
     "text": [
      "Fitting 5 folds for each of 12 candidates, totalling 60 fits\n",
      "{'base_estimator__metric': 'minkowski', 'base_estimator__n_neighbors': 15, 'base_estimator__p': 1, 'base_estimator__weights': 'distance'}\n"
     ]
    }
   ],
   "source": [
    "# fitting the model for grid search\n",
    "knn_reg_gridcv.fit(X_train, y_train)\n",
    "\n",
    "# print the best parameter set after tuning\n",
    "print(knn_reg_gridcv.best_params_)"
   ]
  },
  {
   "cell_type": "code",
   "execution_count": 29,
   "id": "9f58ccbd",
   "metadata": {},
   "outputs": [
    {
     "name": "stdout",
     "output_type": "stream",
     "text": [
      "For params:{'base_estimator__metric': 'minkowski', 'base_estimator__n_neighbors': 5, 'base_estimator__p': 1, 'base_estimator__weights': 'uniform'}\n",
      "\t- Train R^2=0.17733219961465957 --> Test R^2=-0.02423129352103304\n",
      "--------------------------------------------------\n",
      "For params:{'base_estimator__metric': 'minkowski', 'base_estimator__n_neighbors': 5, 'base_estimator__p': 1, 'base_estimator__weights': 'distance'}\n",
      "\t- Train R^2=1.0 --> Test R^2=-0.028113883968086832\n",
      "--------------------------------------------------\n",
      "For params:{'base_estimator__metric': 'minkowski', 'base_estimator__n_neighbors': 5, 'base_estimator__p': 2, 'base_estimator__weights': 'uniform'}\n",
      "\t- Train R^2=0.19347398718239267 --> Test R^2=-0.0200677901018754\n",
      "--------------------------------------------------\n",
      "For params:{'base_estimator__metric': 'minkowski', 'base_estimator__n_neighbors': 5, 'base_estimator__p': 2, 'base_estimator__weights': 'distance'}\n",
      "\t- Train R^2=0.9999999999986724 --> Test R^2=-0.04024384054612341\n",
      "--------------------------------------------------\n",
      "For params:{'base_estimator__metric': 'minkowski', 'base_estimator__n_neighbors': 15, 'base_estimator__p': 1, 'base_estimator__weights': 'uniform'}\n",
      "\t- Train R^2=0.11150713601005799 --> Test R^2=0.04096232182022237\n",
      "--------------------------------------------------\n",
      "For params:{'base_estimator__metric': 'minkowski', 'base_estimator__n_neighbors': 15, 'base_estimator__p': 1, 'base_estimator__weights': 'distance'}\n",
      "\t- Train R^2=1.0 --> Test R^2=0.05060442090209649\n",
      "--------------------------------------------------\n",
      "For params:{'base_estimator__metric': 'minkowski', 'base_estimator__n_neighbors': 15, 'base_estimator__p': 2, 'base_estimator__weights': 'uniform'}\n",
      "\t- Train R^2=0.10482711423615416 --> Test R^2=0.025845549481887435\n",
      "--------------------------------------------------\n",
      "For params:{'base_estimator__metric': 'minkowski', 'base_estimator__n_neighbors': 15, 'base_estimator__p': 2, 'base_estimator__weights': 'distance'}\n",
      "\t- Train R^2=0.999999881865668 --> Test R^2=0.028608477512737256\n",
      "--------------------------------------------------\n",
      "For params:{'base_estimator__metric': 'minkowski', 'base_estimator__n_neighbors': 50, 'base_estimator__p': 1, 'base_estimator__weights': 'uniform'}\n",
      "\t- Train R^2=0.05297691895701069 --> Test R^2=-0.011026830281876584\n",
      "--------------------------------------------------\n",
      "For params:{'base_estimator__metric': 'minkowski', 'base_estimator__n_neighbors': 50, 'base_estimator__p': 1, 'base_estimator__weights': 'distance'}\n",
      "\t- Train R^2=1.0 --> Test R^2=0.0063652475311214846\n",
      "--------------------------------------------------\n",
      "For params:{'base_estimator__metric': 'minkowski', 'base_estimator__n_neighbors': 50, 'base_estimator__p': 2, 'base_estimator__weights': 'uniform'}\n",
      "\t- Train R^2=0.054156613560742285 --> Test R^2=-0.006652742330328529\n",
      "--------------------------------------------------\n",
      "For params:{'base_estimator__metric': 'minkowski', 'base_estimator__n_neighbors': 50, 'base_estimator__p': 2, 'base_estimator__weights': 'distance'}\n",
      "\t- Train R^2=0.9543327201704036 --> Test R^2=0.009202752292728336\n",
      "--------------------------------------------------\n"
     ]
    }
   ],
   "source": [
    "cv_results = knn_reg_gridcv.cv_results_\n",
    "\n",
    "for train_r2, test_r2, params in zip(cv_results['mean_train_score'], cv_results['mean_test_score'], cv_results['params']):\n",
    "    print(f'For params:{params}')\n",
    "    print(f'\\t- Train R^2={train_r2} --> Test R^2={test_r2}')\n",
    "    print('-'*50)"
   ]
  },
  {
   "cell_type": "code",
   "execution_count": 30,
   "id": "52d53233",
   "metadata": {},
   "outputs": [],
   "source": [
    "model_RC_knn_reg = knn_reg_gridcv.best_estimator_"
   ]
  },
  {
   "cell_type": "markdown",
   "id": "9cec31ce",
   "metadata": {},
   "source": [
    "# 2. Save Models"
   ]
  },
  {
   "cell_type": "code",
   "execution_count": 31,
   "id": "a54efe8a",
   "metadata": {},
   "outputs": [],
   "source": [
    "import pickle\n",
    "\n",
    "pickle.dump(model_knn_reg, open(OUT_MODEL_DATA / 'knn_reg_AllAtOnce.pkl','wb'))\n",
    "pickle.dump(model_MO_knn_reg, open(OUT_MODEL_DATA / 'knn_reg_MultiOutput.pkl','wb'))\n",
    "pickle.dump(model_RC_knn_reg, open(OUT_MODEL_DATA / 'knn_reg_RegChain.pkl','wb'))"
   ]
  },
  {
   "cell_type": "code",
   "execution_count": null,
   "id": "2a0e0c2c",
   "metadata": {},
   "outputs": [],
   "source": []
  },
  {
   "cell_type": "code",
   "execution_count": null,
   "id": "7a6cc0a8",
   "metadata": {},
   "outputs": [],
   "source": []
  },
  {
   "cell_type": "code",
   "execution_count": null,
   "id": "89457223",
   "metadata": {},
   "outputs": [],
   "source": []
  },
  {
   "cell_type": "code",
   "execution_count": null,
   "id": "d65547a7",
   "metadata": {},
   "outputs": [],
   "source": []
  },
  {
   "cell_type": "code",
   "execution_count": null,
   "id": "55b36aaa",
   "metadata": {},
   "outputs": [],
   "source": []
  }
 ],
 "metadata": {
  "kernelspec": {
   "display_name": "venv",
   "language": "python",
   "name": "python3"
  },
  "language_info": {
   "codemirror_mode": {
    "name": "ipython",
    "version": 3
   },
   "file_extension": ".py",
   "mimetype": "text/x-python",
   "name": "python",
   "nbconvert_exporter": "python",
   "pygments_lexer": "ipython3",
   "version": "3.12.3"
  }
 },
 "nbformat": 4,
 "nbformat_minor": 5
}
