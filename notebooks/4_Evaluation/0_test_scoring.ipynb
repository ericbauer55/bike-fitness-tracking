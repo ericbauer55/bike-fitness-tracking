{
 "cells": [
  {
   "cell_type": "code",
   "execution_count": null,
   "id": "56dd4b00",
   "metadata": {},
   "outputs": [],
   "source": [
    "import pandas as pd\n",
    "pd.set_option(\"display.max_columns\", 100)\n",
    "import numpy as np\n",
    "np.set_printoptions(suppress=True)\n",
    "from pathlib import Path\n",
    "import numpy as np\n",
    "import matplotlib.pyplot as plt\n",
    "import seaborn as sns\n",
    "from typing import Optional, Any, Union\n",
    "import pickle"
   ]
  },
  {
   "cell_type": "code",
   "execution_count": 3,
   "metadata": {},
   "outputs": [],
   "source": [
    "IN_CSV_DATA = Path().cwd().parent.parent / \"data/4_data_split\"\n",
    "IN_MODEL_DATA = Path().cwd().parent.parent / \"data/5_models\""
   ]
  },
  {
   "cell_type": "code",
   "execution_count": 4,
   "metadata": {},
   "outputs": [],
   "source": [
    "df_train = pd.read_csv(IN_CSV_DATA/'prepared_train.csv')\n",
    "df_test = pd.read_csv(IN_CSV_DATA/'prepared_test.csv')"
   ]
  },
  {
   "cell_type": "code",
   "execution_count": 5,
   "id": "ef7c5358",
   "metadata": {},
   "outputs": [],
   "source": [
    "numerical_feature_cols = ['total_distance_mi','total_weight_lbs','avg_cruising_speed', 'log_hours_since_last_ride',\n",
    "                            'active_time_ratio', 'avg_climb_rate', 'distance_training_intensity','prior_training_load']\n",
    "categorical_feature_cols = []#['year']\n",
    "feature_cols = numerical_feature_cols + categorical_feature_cols\n",
    "\n",
    "target_cols = ['best_power_4s', 'best_power_5s',\n",
    "                'best_power_10s', 'best_power_20s', 'best_power_30s', 'best_power_1m',\n",
    "                'best_power_2m', 'best_power_3m', 'best_power_4m', 'best_power_5m',\n",
    "                'best_power_6m', 'best_power_10m', 'best_power_20m', 'best_power_30m',\n",
    "                'best_power_40m', 'best_power_1h', 'best_power_2h']"
   ]
  },
  {
   "cell_type": "code",
   "execution_count": 6,
   "id": "c20a2678",
   "metadata": {},
   "outputs": [],
   "source": [
    "X_train, y_train = df_train[feature_cols].values, df_train[target_cols].values\n",
    "X_test, y_test = df_test[feature_cols].values, df_test[target_cols].values"
   ]
  },
  {
   "cell_type": "code",
   "execution_count": 7,
   "id": "2bcd4ec2",
   "metadata": {},
   "outputs": [],
   "source": [
    "from sklearn.metrics import r2_score, root_mean_squared_log_error"
   ]
  },
  {
   "cell_type": "code",
   "execution_count": 8,
   "id": "2ca7ee76",
   "metadata": {},
   "outputs": [],
   "source": [
    "def compare_model_training_to_testing(model, X_train, y_train, X_test, y_test):\n",
    "    r2_train = r2_score(y_train, model.predict(X_train), multioutput='raw_values')\n",
    "    rmlse_train = r2_score(model.predict(X_train), y_train, multioutput='raw_values') # intentionally swapped so we accept underestimations of power curve\n",
    "\n",
    "\n",
    "    r2_test = r2_score(y_test, model.predict(X_test), multioutput='raw_values') \n",
    "    rmlse_test = r2_score(model.predict(X_train), y_train, multioutput='raw_values') # intentionally swapped so we accept underestimations of power curve\n",
    "\n",
    "    fig, axes = plt.subplots(1,2, figsize=(12,5))\n",
    "    axes[0].plot(r2_train, 'b', markers=True)\n",
    "    axes[0].plot(r2_test, 'r', markers=True)\n",
    "    axes[0].set_xticks(labels=[y.split('_')[-1] for y in target_cols], rotation=90-15)\n",
    "\n",
    "    axes[1].plot(rmlse_train, 'b', markers=True)\n",
    "    axes[1].plot(rmlse_test, 'r', markers=True)\n",
    "    axes[1].set_xticks(labels=[y.split('_')[-1] for y in target_cols], rotation=90-15)"
   ]
  },
  {
   "cell_type": "markdown",
   "id": "ed4bf376",
   "metadata": {},
   "source": [
    "# 1. Linear Regression"
   ]
  },
  {
   "cell_type": "code",
   "execution_count": null,
   "id": "4893d312",
   "metadata": {},
   "outputs": [],
   "source": [
    "\n",
    "\n",
    "model_ = pickle.load(open('logistic_regression_model.pkl','rb'))\n",
    "model_rf = pickle.load(open('random_forest_model.pkl','rb'))"
   ]
  },
  {
   "cell_type": "code",
   "execution_count": null,
   "id": "f5afbd9d",
   "metadata": {},
   "outputs": [],
   "source": []
  },
  {
   "cell_type": "code",
   "execution_count": null,
   "id": "1ef8622a",
   "metadata": {},
   "outputs": [],
   "source": []
  },
  {
   "cell_type": "markdown",
   "id": "6af44441",
   "metadata": {},
   "source": [
    "# 2. Ridge Regression"
   ]
  },
  {
   "cell_type": "code",
   "execution_count": null,
   "id": "c2b56c5f",
   "metadata": {},
   "outputs": [],
   "source": []
  },
  {
   "cell_type": "code",
   "execution_count": null,
   "id": "7c1ac1d7",
   "metadata": {},
   "outputs": [],
   "source": []
  },
  {
   "cell_type": "code",
   "execution_count": null,
   "id": "725f7744",
   "metadata": {},
   "outputs": [],
   "source": []
  },
  {
   "cell_type": "markdown",
   "id": "db72df2e",
   "metadata": {},
   "source": [
    "# 3. Kernel Ridge Regression"
   ]
  },
  {
   "cell_type": "code",
   "execution_count": null,
   "id": "e6aed916",
   "metadata": {},
   "outputs": [],
   "source": []
  },
  {
   "cell_type": "code",
   "execution_count": null,
   "id": "7f8c4890",
   "metadata": {},
   "outputs": [],
   "source": []
  },
  {
   "cell_type": "code",
   "execution_count": null,
   "id": "393ce500",
   "metadata": {},
   "outputs": [],
   "source": []
  },
  {
   "cell_type": "markdown",
   "id": "7f33f213",
   "metadata": {},
   "source": [
    "# 4. K-NN Regression"
   ]
  },
  {
   "cell_type": "code",
   "execution_count": null,
   "id": "b4bb202e",
   "metadata": {},
   "outputs": [],
   "source": []
  },
  {
   "cell_type": "code",
   "execution_count": null,
   "id": "6c5142ff",
   "metadata": {},
   "outputs": [],
   "source": []
  },
  {
   "cell_type": "code",
   "execution_count": null,
   "id": "196028b8",
   "metadata": {},
   "outputs": [],
   "source": []
  },
  {
   "cell_type": "markdown",
   "id": "952082b0",
   "metadata": {},
   "source": [
    "# 5. Random Forest Regression"
   ]
  },
  {
   "cell_type": "code",
   "execution_count": null,
   "id": "493a8930",
   "metadata": {},
   "outputs": [],
   "source": []
  },
  {
   "cell_type": "code",
   "execution_count": null,
   "id": "30d3b701",
   "metadata": {},
   "outputs": [],
   "source": []
  },
  {
   "cell_type": "code",
   "execution_count": null,
   "id": "5bc7cb1c",
   "metadata": {},
   "outputs": [],
   "source": []
  },
  {
   "cell_type": "markdown",
   "id": "1e741827",
   "metadata": {},
   "source": [
    "# 6. HistGradientBoost Regression"
   ]
  },
  {
   "cell_type": "code",
   "execution_count": null,
   "id": "52e06a27",
   "metadata": {},
   "outputs": [],
   "source": []
  },
  {
   "cell_type": "code",
   "execution_count": null,
   "id": "35ebc186",
   "metadata": {},
   "outputs": [],
   "source": []
  },
  {
   "cell_type": "code",
   "execution_count": null,
   "id": "d9eecb8c",
   "metadata": {},
   "outputs": [],
   "source": []
  },
  {
   "cell_type": "code",
   "execution_count": null,
   "id": "951fb5b0",
   "metadata": {},
   "outputs": [],
   "source": []
  },
  {
   "cell_type": "code",
   "execution_count": null,
   "id": "2176b871",
   "metadata": {},
   "outputs": [],
   "source": []
  }
 ],
 "metadata": {
  "kernelspec": {
   "display_name": "venv",
   "language": "python",
   "name": "python3"
  },
  "language_info": {
   "codemirror_mode": {
    "name": "ipython",
    "version": 3
   },
   "file_extension": ".py",
   "mimetype": "text/x-python",
   "name": "python",
   "nbconvert_exporter": "python",
   "pygments_lexer": "ipython3",
   "version": "3.12.3"
  }
 },
 "nbformat": 4,
 "nbformat_minor": 5
}
